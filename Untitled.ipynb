{
 "cells": [
  {
   "cell_type": "code",
   "execution_count": 1,
   "id": "d75616fc-021c-441c-a1b3-96646c5d33c6",
   "metadata": {},
   "outputs": [],
   "source": [
    "import syft_client as sc\n",
    "import syft_serve as ss"
   ]
  },
  {
   "cell_type": "code",
   "execution_count": 2,
   "id": "4f0271c5-da99-4c6e-b221-92aecd66bbad",
   "metadata": {},
   "outputs": [],
   "source": [
    "%load_ext memray\n",
    "# %%memray_flamegraph --trace-python-allocators --leaks"
   ]
  },
  {
   "cell_type": "code",
   "execution_count": 3,
   "id": "3f50e3ed-0d68-4c92-90dd-7876a677dcec",
   "metadata": {},
   "outputs": [
    {
     "name": "stdout",
     "output_type": "stream",
     "text": [
      "[2/2] ✅ Logged in as andrew@openmined.org                                                  \n",
      "[2/2] ✅ Logged in as liamtrask@gmail.com                                                  \n"
     ]
    }
   ],
   "source": [
    "andrew_client = sc.login(\"andrew@openmined.org\", verbose=False)\n",
    "liam_client = sc.login(\"liamtrask@gmail.com\", verbose=False)\n",
    "# andrew_client.reset_syftbox()\n",
    "# liam_client.reset_syftbox()\n",
    "# andrew_client.add_friend(\"liamtrask@gmail.com\")\n",
    "# liam_client.add_friend(\"andrew@openmined.org\")"
   ]
  },
  {
   "cell_type": "code",
   "execution_count": 4,
   "id": "e2a886fd-40dd-4563-a165-a6336fb62cb6",
   "metadata": {},
   "outputs": [
    {
     "name": "stdout",
     "output_type": "stream",
     "text": [
      "GETFOLDERID-1 1756613233.589487\n",
      "ENSUREAUTH-1 1756613233.5897548\n",
      "ENSUREAUTH-2 1756613233.589771\n",
      "GETFOLDERID-2 1756613233.589783\n",
      "GETFOLDERID-4 1756613233.589796\n",
      "GETFOLDERID-5 1756613234.017924\n",
      "GETFOLDERID-6 1756613234.018205\n",
      "GETFOLDERID-1 1756613234.018677\n",
      "ENSUREAUTH-1 1756613234.018709\n",
      "ENSUREAUTH-2 1756613234.0187242\n",
      "GETFOLDERID-2 1756613234.018739\n",
      "GETFOLDERID-3 1756613234.018753\n"
     ]
    },
    {
     "data": {
      "text/html": [
       "\n",
       "        <div style=\"border: 1px solid #ddd; padding: 15px; margin: 10px 0; border-radius: 5px; background-color: #f9f9f9; font-family: -apple-system, BlinkMacSystemFont, 'Segoe UI', Roboto, sans-serif;\">\n",
       "            <h3 style=\"margin-top: 0; color: #333;\">📁 Google Drive Client</h3>\n",
       "            <table style=\"border-collapse: collapse; width: 100%;\">\n",
       "                <tr>\n",
       "                    <td style=\"padding: 5px 10px 5px 0; font-weight: bold; color: #555;\">Email:</td>\n",
       "                    <td style=\"padding: 5px;\">andrew@openmined.org</td>\n",
       "                </tr>\n",
       "                <tr>\n",
       "                    <td style=\"padding: 5px 10px 5px 0; font-weight: bold; color: #555;\">Auth Method:</td>\n",
       "                    <td style=\"padding: 5px;\">wallet</td>\n",
       "                </tr>\n",
       "                <tr>\n",
       "                    <td style=\"padding: 5px 10px 5px 0; font-weight: bold; color: #555;\">SyftBox:</td>\n",
       "                    <td style=\"padding: 5px;\">✅ Created</td>\n",
       "                </tr>\n",
       "        \n",
       "                <tr>\n",
       "                    <td style=\"padding: 5px 10px 5px 0; font-weight: bold; color: #555;\">Drive Folder:</td>\n",
       "                    <td style=\"padding: 5px;\">\n",
       "                        <a href=\"https://drive.google.com/drive/folders/1ql5E489znl-pvyoiM1lP3aoPvSNqwgKh\" target=\"_blank\" style=\"color: #1a73e8; text-decoration: none;\">\n",
       "                            🔗 Open in Google Drive\n",
       "                        </a>\n",
       "                    </td>\n",
       "                </tr>\n",
       "            \n",
       "                <tr>\n",
       "                    <td style=\"padding: 5px 10px 5px 0; font-weight: bold; color: #555;\">Local Directory:</td>\n",
       "                    <td style=\"padding: 5px;\">/Users/atrask/SyftBox_andrew@openmined.org</td>\n",
       "                </tr>\n",
       "            \n",
       "            </table>\n",
       "        </div>"
      ],
      "text/plain": [
       "<GDriveUnifiedClient(\n",
       "  email='andrew@openmined.org',\n",
       "  auth_method='wallet',\n",
       "  syftbox=✓ created\n",
       ")>"
      ]
     },
     "execution_count": 4,
     "metadata": {},
     "output_type": "execute_result"
    }
   ],
   "source": [
    "andrew_client"
   ]
  },
  {
   "cell_type": "code",
   "execution_count": 21,
   "id": "1d944bba-d4f8-45ed-9bb3-66dfcc922c49",
   "metadata": {},
   "outputs": [
    {
     "name": "stdout",
     "output_type": "stream",
     "text": [
      "SEND-1 1756615420.953307\n",
      "ENSUREAUTH-1 1756615420.953572\n",
      "ENSUREAUTH-2 1756615420.953587\n",
      "SEND-2 1756615420.953599\n",
      "SEND-5 1756615420.953616\n",
      "SEND-6 1756615420.954249\n",
      "SEND-7 1756615420.9570649\n",
      "SEND-8 1756615420.957123\n",
      "SEND-9 1756615420.95715\n",
      "SEND-10 1756615420.957174\n",
      "SEND-11 1756615420.957278\n",
      "SEND-12 1756615420.962552\n",
      "SEND-13 1756615420.9626\n",
      "SEND-14 1756615420.965688\n",
      "SEND-15 1756615420.965719\n",
      "SEND-16 1756615420.967545\n",
      "SEND-17 1756615420.968575\n",
      "SEND-18 1756615420.972702\n",
      "SEND-19 1756615420.972749\n",
      "SEND-20 1756615420.9728608\n",
      "SEND-21 1756615420.972882\n",
      "SEND-22 1756615420.9728901\n",
      "SEND-23 1756615420.972899\n",
      "GETSHEET-1 1756615420.9729102\n",
      "ENSUREAUTH-1 1756615420.972917\n",
      "ENSUREAUTH-2 1756615420.972925\n",
      "GETSHEET-2 1756615420.972932\n",
      "SEND-24 1756615420.9729521\n",
      "SEND-25 1756615420.97296\n",
      "SEND-26 1756615420.972971\n",
      "SEND-27 1756615420.9740102\n",
      "SEND-28 1756615420.9740238\n",
      "GETSHEETS-1 1756615420.9740312\n",
      "ENSUREAUTH-1 1756615420.9740381\n",
      "ENSUREAUTH-2 1756615420.9740438\n",
      "GETSHEETS-2 1756615420.974051\n",
      "GETSHEETS-5 1756615420.974058\n",
      "SEND-29 1756615420.9740648\n",
      "SEND-30 1756615421.180146\n",
      "SEND-31 1756615421.1803951\n",
      "UPDATEINBOX-1 1756615421.182781\n",
      "ENSUREAUTH-1 1756615421.1828322\n",
      "ENSUREAUTH-2 1756615421.1828501\n",
      "UPDATEINBOX-2 1756615421.182864\n",
      "UPDATEINBOX-3 1756615421.1828768\n",
      "GETSYFTBOXDIR-1 1756615421.182892\n",
      "GETSYFTBOXDIR-2 1756615421.1829472\n",
      "UPDATEINBOX-4 1756615421.182975\n",
      "UPDATEINBOX-5 1756615421.183085\n",
      "UPDATEINBOX-6 1756615421.1832619\n",
      "GETSHEETS-1 1756615421.183284\n",
      "ENSUREAUTH-1 1756615421.183297\n",
      "ENSUREAUTH-2 1756615421.183309\n",
      "GETSHEETS-2 1756615421.183323\n",
      "GETSHEETS-5 1756615421.183339\n",
      "UPDATEINBOX-7 1756615421.183352\n",
      "UPDATEINBOX-8 1756615421.1833642\n",
      "UPDATEINBOX-9 1756615421.183379\n",
      "FINDSHEET-1 1756615421.1833951\n",
      "ENSUREAUTH-1 1756615421.183407\n",
      "ENSUREAUTH-2 1756615421.183419\n",
      "FINDSHEET-2 1756615421.18343\n",
      "FINDSHEET-3 1756615421.1834419\n",
      "UPDATEINBOX-10 1756615421.183487\n",
      "UPDATEINBOX-11 1756615421.1835032\n",
      "UPDATEINBOX-12 1756615421.1835158\n",
      "UPDATEINBOX-13 1756615421.4074602\n",
      "UPDATEINBOX-14 1756615421.407805\n",
      "\n",
      "📬 Found 1 message(s) from andrew@openmined.org\n",
      "UPDATEINBOX-15 1756615421.407892\n",
      "UPDATEINBOX-16 1756615421.408531\n",
      "UPDATEINBOX-17 1756615421.408627\n",
      "UPDATEINBOX-18 1756615421.410157\n",
      "UPDATEINBOX-19 1756615421.415728\n",
      "UPDATEINBOX-20 1756615421.4161012\n",
      "ARCHIVE-1 1756615421.416162\n",
      "ARCHIVE-18 1756615421.416188\n",
      "ARCHIVE-2 1756615421.4165912\n",
      "ARCHIVE-3 1756615421.4166348\n",
      "ARCHIVE-19 1756615421.417143\n",
      "UPDATEINBOX-21 1756615421.4171891\n",
      "UPDATEINBOX-22 1756615421.417217\n",
      "AUTOAPPROVE-1 1756615421.4172978\n",
      "ENSUREAUTH-1 1756615421.417326\n",
      "ENSUREAUTH-2 1756615421.417351\n",
      "AUTOAPPROVE-2 1756615421.41739\n",
      "AUTOAPPROVE-3 1756615421.4174452\n",
      "GETSYFTBOXDIR-1 1756615421.417469\n",
      "GETSYFTBOXDIR-2 1756615421.417492\n",
      "AUTOAPPROVE-4 1756615421.417514\n",
      "AUTOAPPROVE-5 1756615421.417582\n",
      "AUTOAPPROVE-6 1756615421.4177458\n",
      "AUTOAPPROVE-7 1756615421.418004\n",
      "AUTOAPPROVE-8 1756615421.4180338\n",
      "AUTOAPPROVE-9 1756615421.4182389\n",
      "AUTOAPPROVE-10 1756615421.418379\n",
      "AUTOAPPROVE-11 1756615421.418717\n",
      "AUTOAPPROVE-12 1756615421.418848\n",
      "AUTOAPPROVE-13 1756615421.41887\n",
      "MERGE-1 1756615421.418907\n",
      "ENSUREAUTH-1 1756615421.418925\n",
      "ENSUREAUTH-2 1756615421.418941\n",
      "MERGE-2 1756615421.4189692\n",
      "MERGE-3 1756615421.418985\n",
      "GETSYFTBOXDIR-1 1756615421.419001\n",
      "GETSYFTBOXDIR-2 1756615421.4190211\n",
      "MERGE-4 1756615421.419038\n",
      "MERGE-5 1756615421.419065\n",
      "MERGE-6 1756615421.419196\n",
      "MERGE-7 1756615421.419316\n",
      "MERGE-8 1756615421.4193852\n",
      "ARCHIVE-4 1756615421.4233458\n",
      "ARCHIVE-5 1756615421.423407\n",
      "ARCHIVE-8 1756615421.423467\n",
      "ARCHIVE-11 1756615421.423488\n",
      "ARCHIVE-12 1756615421.423521\n",
      "MERGE-9 1756615421.477678\n",
      "MERGE-10 1756615421.529469\n",
      "MERGE-11 1756615421.529493\n",
      "MERGE-12 1756615421.529993\n",
      "MERGE-13 1756615421.5300019\n",
      "MERGE-14 1756615421.530494\n",
      "MERGE-15 1756615421.5314171\n",
      "MERGE-16 1756615421.531429\n",
      "MERGE-17 1756615421.531471\n",
      "MERGE-18 1756615421.5315359\n",
      "MERGE-19 1756615421.531543\n",
      "MERGE-20 1756615421.531549\n",
      "578 ms ± 0 ns per loop (mean ± std. dev. of 1 run, 1 loop each)\n",
      "ARCHIVE-13 1756615421.743037\n",
      "ARCHIVE-14 1756615421.743912\n",
      "ARCHIVE-15 1756615421.9612002\n",
      "ARCHIVE-16 1756615421.961389\n",
      "ARCHIVE-17 1756615422.17562\n"
     ]
    }
   ],
   "source": [
    "%%timeit -n1 -r1\n",
    "# # %%memray_flamegraph --trace-python-allocators --leaks\n",
    "\n",
    "andrew_client.send_file_or_folder_via_sheets(\"/Users/atrask/SyftBox_andrew@openmined.org/datasites/test_data.csv\", \n",
    "                                  \"liamtrask@gmail.com\")\n",
    "\n",
    "liam_client.update_inbox_from_sheets()\n",
    "liam_client.autoapprove_inbox()\n",
    "liam_client.merge_new_syncs()"
   ]
  },
  {
   "cell_type": "code",
   "execution_count": 11,
   "id": "49e4b2bb-e7e4-4f45-9a23-6eeabb92bee4",
   "metadata": {},
   "outputs": [
    {
     "name": "stdout",
     "output_type": "stream",
     "text": [
      "\n",
      "📬 Found 1 message(s) from andrew@openmined.org\n",
      "218 ms ± 0 ns per loop (mean ± std. dev. of 1 run, 1 loop each)\n"
     ]
    }
   ],
   "source": [
    "%%timeit -n1 -r1\n",
    "liam_client.update_inbox_from_sheets()"
   ]
  },
  {
   "cell_type": "code",
   "execution_count": 12,
   "id": "9e634436-64c5-4bf2-bf68-9c1b15f6ef81",
   "metadata": {},
   "outputs": [
    {
     "name": "stdout",
     "output_type": "stream",
     "text": [
      "1.2 ms ± 0 ns per loop (mean ± std. dev. of 1 run, 1 loop each)\n"
     ]
    }
   ],
   "source": [
    "%%timeit -n1 -r1\n",
    "liam_client.autoapprove_inbox()"
   ]
  },
  {
   "cell_type": "code",
   "execution_count": 13,
   "id": "14a14eee-c302-4679-a084-a8a08fbfd30b",
   "metadata": {},
   "outputs": [
    {
     "name": "stdout",
     "output_type": "stream",
     "text": [
      "9.5 ms ± 0 ns per loop (mean ± std. dev. of 1 run, 1 loop each)\n"
     ]
    }
   ],
   "source": [
    "%%timeit -n1 -r1\n",
    "# %%memray_flamegraph --trace-python-allocators --leaks\n",
    "\n",
    "liam_client.merge_new_syncs()"
   ]
  },
  {
   "cell_type": "code",
   "execution_count": 14,
   "id": "dda40be3-d4d6-4ec3-837c-5ed9a9de71ec",
   "metadata": {},
   "outputs": [
    {
     "name": "stdout",
     "output_type": "stream",
     "text": [
      "📥 Auto-approving messages from /Users/atrask/SyftBox_liamtrask@gmail.com/inbox\n",
      "   ✓ Approved: syft_message_1756596177_83609e37\n",
      "   ✓ Approved: syft_message_1756596178_12c9fa81\n",
      "   ✓ Approved: syft_message_1756596184_8d0f170b\n",
      "   ✓ Approved: syft_message_1756596185_0713f2ab\n",
      "\n",
      "✅ Auto-approved 4 message(s):\n",
      "   - syft_message: 4\n",
      "🔄 Merging approved syncs to /Users/atrask/SyftBox_liamtrask@gmail.com/datasites\n",
      "\n",
      "   📦 Processing message from andrew@openmined.org\n",
      "      ✓ Overwrote: test_data.csv\n",
      "   📁 Archived to merged_archive/syft_message_1756596177_83609e37\n",
      "\n",
      "   📦 Processing message from andrew@openmined.org\n",
      "      ✓ Overwrote: test_data.csv\n",
      "   📁 Archived to merged_archive/syft_message_1756596178_12c9fa81\n",
      "\n",
      "   📦 Processing message from andrew@openmined.org\n",
      "      ✓ Overwrote: test_data.csv\n",
      "   📁 Archived to merged_archive/syft_message_1756596184_8d0f170b\n",
      "\n",
      "   📦 Processing message from andrew@openmined.org\n",
      "      ✓ Overwrote: test_data.csv\n",
      "   📁 Archived to merged_archive/syft_message_1756596185_0713f2ab\n",
      "\n",
      "✅ Merge completed:\n",
      "   - Messages processed: 4\n",
      "   - Messages skipped: 0\n",
      "   - Files merged: 4\n",
      "   - Files overwritten: 4\n"
     ]
    },
    {
     "data": {
      "text/plain": [
       "{'messages_processed': 4,\n",
       " 'messages_skipped': 0,\n",
       " 'files_merged': 4,\n",
       " 'files_overwritten': 4,\n",
       " 'errors': 0}"
      ]
     },
     "execution_count": 14,
     "metadata": {},
     "output_type": "execute_result"
    }
   ],
   "source": []
  },
  {
   "cell_type": "code",
   "execution_count": 7,
   "id": "1cf1a2dc-e5ae-4c62-afee-2accff3c495c",
   "metadata": {},
   "outputs": [
    {
     "data": {
      "text/html": [
       "\n",
       "        <div style=\"border: 1px solid #ddd; padding: 15px; margin: 10px 0; border-radius: 5px; background-color: #f9f9f9; font-family: -apple-system, BlinkMacSystemFont, 'Segoe UI', Roboto, sans-serif;\">\n",
       "            <h3 style=\"margin-top: 0; color: #333;\">📁 Google Drive Client</h3>\n",
       "            <table style=\"border-collapse: collapse; width: 100%;\">\n",
       "                <tr>\n",
       "                    <td style=\"padding: 5px 10px 5px 0; font-weight: bold; color: #555;\">Email:</td>\n",
       "                    <td style=\"padding: 5px;\">liamtrask@gmail.com</td>\n",
       "                </tr>\n",
       "                <tr>\n",
       "                    <td style=\"padding: 5px 10px 5px 0; font-weight: bold; color: #555;\">Auth Method:</td>\n",
       "                    <td style=\"padding: 5px;\">wallet</td>\n",
       "                </tr>\n",
       "                <tr>\n",
       "                    <td style=\"padding: 5px 10px 5px 0; font-weight: bold; color: #555;\">SyftBox:</td>\n",
       "                    <td style=\"padding: 5px;\">✅ Created</td>\n",
       "                </tr>\n",
       "        \n",
       "                <tr>\n",
       "                    <td style=\"padding: 5px 10px 5px 0; font-weight: bold; color: #555;\">Drive Folder:</td>\n",
       "                    <td style=\"padding: 5px;\">\n",
       "                        <a href=\"https://drive.google.com/drive/folders/1X0ArkofGia7bigdIDEezMF0kNapviFTe\" target=\"_blank\" style=\"color: #1a73e8; text-decoration: none;\">\n",
       "                            🔗 Open in Google Drive\n",
       "                        </a>\n",
       "                    </td>\n",
       "                </tr>\n",
       "            \n",
       "            </table>\n",
       "        </div>"
      ],
      "text/plain": [
       "<GDriveUnifiedClient(\n",
       "  email='liamtrask@gmail.com',\n",
       "  auth_method='wallet',\n",
       "  syftbox=✓ created\n",
       ")>"
      ]
     },
     "execution_count": 7,
     "metadata": {},
     "output_type": "execute_result"
    }
   ],
   "source": [
    "liam_client"
   ]
  },
  {
   "cell_type": "code",
   "execution_count": 12,
   "id": "11274b82-dcec-4c4f-bdc9-34529faea130",
   "metadata": {},
   "outputs": [
    {
     "name": "stdout",
     "output_type": "stream",
     "text": [
      "🔍 Looking for sheet: syft_andrew@openmined.org_to_liamtrask@gmail.com_messages\n",
      "   ✅ Found sheet ID: 1izAMqRikAJNV_lE_sG3zOTuXGCqYDxLvlVkKRaw_3yA\n",
      "📊 Checking 1 friend sheets...\n",
      "   📋 Found 10 rows (including header)\n",
      "   Row 2: status = 'downloaded', msg_id = 'syft_message_1756591937_f93d5547'\n",
      "   Row 3: status = 'downloaded', msg_id = 'syft_message_1756591971_8e7e4b2b'\n",
      "   Row 4: status = 'downloaded', msg_id = 'syft_message_1756592103_35f9c9f3'\n",
      "   Row 5: status = 'downloaded', msg_id = 'syft_message_1756592104_c4ed58b8'\n",
      "   Row 6: status = 'downloaded', msg_id = 'syft_message_1756592105_5caf0d63'\n",
      "   Row 7: status = 'downloaded', msg_id = 'syft_message_1756592107_2b39e25c'\n",
      "   Row 8: status = 'downloaded', msg_id = 'syft_message_1756592355_e5625d17'\n",
      "   Row 9: status = 'downloaded', msg_id = 'syft_message_1756592357_6bdb7af0'\n",
      "   Row 10: status = 'pending', msg_id = 'syft_message_1756592390_7998bba0'\n",
      "\n",
      "📬 Found 1 message(s) from andrew@openmined.org\n",
      "   📥 Processing syft_message_1756592390_7998bba0...\n",
      "   ✅ Downloaded syft_message_1756592390_7998bba0\n"
     ]
    },
    {
     "data": {
      "text/plain": [
       "{'andrew@openmined.org': ['syft_message_1756592390_7998bba0']}"
      ]
     },
     "execution_count": 12,
     "metadata": {},
     "output_type": "execute_result"
    }
   ],
   "source": []
  },
  {
   "cell_type": "code",
   "execution_count": 13,
   "id": "b1189e43-fc1d-46e6-8c00-aefaae53c1d4",
   "metadata": {},
   "outputs": [
    {
     "name": "stdout",
     "output_type": "stream",
     "text": [
      "📥 Auto-approving messages from /Users/atrask/SyftBox_liamtrask@gmail.com/inbox\n",
      "   ✓ Approved: syft_message_1756592103_35f9c9f3\n",
      "   ✓ Approved: syft_message_1756591971_8e7e4b2b\n",
      "   ✓ Approved: syft_message_1756592104_c4ed58b8\n",
      "   ✓ Approved: syft_message_1756592390_7998bba0\n",
      "   ✓ Approved: syft_message_1756592355_e5625d17\n",
      "   ✓ Approved: syft_message_1756591937_f93d5547\n",
      "   ✓ Approved: syft_message_1756592107_2b39e25c\n",
      "   ✓ Approved: syft_message_1756592105_5caf0d63\n",
      "   ✓ Approved: syft_message_1756592357_6bdb7af0\n",
      "\n",
      "✅ Auto-approved 9 message(s):\n",
      "   - syft_message: 9\n",
      "🔄 Merging approved syncs to /Users/atrask/SyftBox_liamtrask@gmail.com/datasites\n",
      "\n",
      "   📦 Processing message from andrew@openmined.org\n",
      "      ⚠️  Skipping file with non-datasites path: test_data.csv\n",
      "   📁 Archived to merged_archive/syft_message_1756592103_35f9c9f3\n",
      "\n",
      "   📦 Processing message from andrew@openmined.org\n",
      "      ⚠️  Skipping file with non-datasites path: test_data.csv\n",
      "   📁 Archived to merged_archive/syft_message_1756591971_8e7e4b2b\n",
      "\n",
      "   📦 Processing message from andrew@openmined.org\n",
      "      ⚠️  Skipping file with non-datasites path: test_data.csv\n",
      "   📁 Archived to merged_archive/syft_message_1756592104_c4ed58b8\n",
      "\n",
      "   📦 Processing message from andrew@openmined.org\n",
      "      ⚠️  Skipping file with non-datasites path: test_data.csv\n",
      "   📁 Archived to merged_archive/syft_message_1756592390_7998bba0\n",
      "\n",
      "   📦 Processing message from andrew@openmined.org\n",
      "      ⚠️  Skipping file with non-datasites path: test_data.csv\n",
      "   📁 Archived to merged_archive/syft_message_1756592355_e5625d17\n",
      "\n",
      "   📦 Processing message from andrew@openmined.org\n",
      "      ⚠️  Skipping file with non-datasites path: test_data.csv\n",
      "   📁 Archived to merged_archive/syft_message_1756591937_f93d5547\n",
      "\n",
      "   📦 Processing message from andrew@openmined.org\n",
      "      ⚠️  Skipping file with non-datasites path: test_data.csv\n",
      "   📁 Archived to merged_archive/syft_message_1756592107_2b39e25c\n",
      "\n",
      "   📦 Processing message from andrew@openmined.org\n",
      "      ⚠️  Skipping file with non-datasites path: test_data.csv\n",
      "   📁 Archived to merged_archive/syft_message_1756592105_5caf0d63\n",
      "\n",
      "   📦 Processing message from andrew@openmined.org\n",
      "      ⚠️  Skipping file with non-datasites path: test_data.csv\n",
      "   📁 Archived to merged_archive/syft_message_1756592357_6bdb7af0\n",
      "\n",
      "✅ Merge completed:\n",
      "   - Messages processed: 9\n",
      "   - Messages skipped: 0\n",
      "   - Files merged: 0\n",
      "   - Files overwritten: 0\n"
     ]
    },
    {
     "data": {
      "text/plain": [
       "{'messages_processed': 9,\n",
       " 'messages_skipped': 0,\n",
       " 'files_merged': 0,\n",
       " 'files_overwritten': 0,\n",
       " 'errors': 0}"
      ]
     },
     "execution_count": 13,
     "metadata": {},
     "output_type": "execute_result"
    }
   ],
   "source": []
  },
  {
   "cell_type": "code",
   "execution_count": 10,
   "id": "c6955d02-00f7-4b78-9794-ca4a2c549bff",
   "metadata": {},
   "outputs": [
    {
     "name": "stdout",
     "output_type": "stream",
     "text": [
      "📦 Creating message: syft_message_1756591141_488847ce\n",
      "   📄 Added file: test_data.csv\n",
      "   📦 Creating archive for syft_message_1756591141_488847ce...\n",
      "   📦 Archive size: 0.0 MB\n",
      "   📤 Uploading syft_message_1756591141_488847ce.tar.gz...\n",
      "✅ Uploaded 'syft_message_1756591141_488847ce.tar.gz' (ID: 1Ys4sgEYx8T0FW_XoMpY3GsC1q9xCWIQT)\n",
      "   ✅ Uploaded folder as syft_message_1756591141_488847ce.tar.gz\n",
      "✅ Message sent to liamtrask@gmail.com\n",
      "1.16 s ± 0 ns per loop (mean ± std. dev. of 1 run, 1 loop each)\n"
     ]
    }
   ],
   "source": [
    "%%timeit -n1 -r1\n",
    "\n",
    "andrew_client.send_file_or_folder(\"/Users/atrask/SyftBox_andrew@openmined.org/datasites/test_data.csv\", \n",
    "                                  \"liamtrask@gmail.com\")\n",
    "\n",
    "liam_client.update_inbox()\n",
    "liam_client.autoapprove_inbox()\n",
    "liam_client.merge_new_syncs()"
   ]
  },
  {
   "cell_type": "code",
   "execution_count": 4,
   "id": "608f569e-30bb-4383-942a-fe69754f37e1",
   "metadata": {},
   "outputs": [
    {
     "name": "stdout",
     "output_type": "stream",
     "text": [
      "\n",
      "📬 Found 1 message(s) from andrew@openmined.org\n",
      "✅ No messages to download\n",
      "10.8 s ± 0 ns per loop (mean ± std. dev. of 1 run, 1 loop each)\n"
     ]
    }
   ],
   "source": [
    "%%timeit -n1 -r1\n",
    "andrew_client.send_file_or_folder(\"/Users/atrask/SyftBox_andrew@openmined.org/datasites/test_data.csv\", \"liamtrask@gmail.com\")\n",
    "liam_client.update_inbox()\n",
    "liam_client.autoapprove_inbox()\n",
    "liam_client.merge_new_syncs()"
   ]
  },
  {
   "cell_type": "code",
   "execution_count": 7,
   "id": "80298393-c6b0-4c0a-8350-60ade91b511b",
   "metadata": {},
   "outputs": [
    {
     "name": "stdout",
     "output_type": "stream",
     "text": [
      "📥 Auto-approving messages from /Users/atrask/SyftBox_liamtrask@gmail.com/inbox\n",
      "   ✓ Approved: syft_message_1756582801_a40eeefb\n",
      "\n",
      "✅ Auto-approved 1 message(s):\n",
      "   - syft_message: 1\n"
     ]
    },
    {
     "data": {
      "text/plain": [
       "{'syft_message': 1}"
      ]
     },
     "execution_count": 7,
     "metadata": {},
     "output_type": "execute_result"
    }
   ],
   "source": []
  },
  {
   "cell_type": "code",
   "execution_count": 8,
   "id": "66cec525-309e-4e50-88d8-69d3db1602f7",
   "metadata": {},
   "outputs": [
    {
     "name": "stdout",
     "output_type": "stream",
     "text": [
      "🔄 Merging approved syncs to /Users/atrask/SyftBox_liamtrask@gmail.com/datasites\n",
      "\n",
      "   📦 Processing message from andrew@openmined.org\n",
      "      ✓ Overwrote: test_data.csv\n",
      "   📁 Archived to merged_archive/syft_message_1756582801_a40eeefb\n",
      "\n",
      "✅ Merge completed:\n",
      "   - Messages processed: 1\n",
      "   - Messages skipped: 0\n",
      "   - Files merged: 1\n",
      "   - Files overwritten: 1\n"
     ]
    },
    {
     "data": {
      "text/plain": [
       "{'messages_processed': 1,\n",
       " 'messages_skipped': 0,\n",
       " 'files_merged': 1,\n",
       " 'files_overwritten': 1,\n",
       " 'errors': 0}"
      ]
     },
     "execution_count": 8,
     "metadata": {},
     "output_type": "execute_result"
    }
   ],
   "source": []
  },
  {
   "cell_type": "code",
   "execution_count": null,
   "id": "48be1b79-861c-4ff4-8742-4db4da948bbd",
   "metadata": {},
   "outputs": [],
   "source": []
  },
  {
   "cell_type": "code",
   "execution_count": 5,
   "id": "b3fcee64-0e76-400b-87f4-457cb55428a6",
   "metadata": {},
   "outputs": [],
   "source": [
    "andrew_watcher = andrew_client.launch_watcher()"
   ]
  },
  {
   "cell_type": "code",
   "execution_count": 6,
   "id": "9fb0d724-e9a1-48fa-b175-0711125e3054",
   "metadata": {},
   "outputs": [],
   "source": [
    "liam_inbox_watcher = liam_client.launch_inbox_watcher()"
   ]
  },
  {
   "cell_type": "code",
   "execution_count": null,
   "id": "44d95680-1cb7-4ae3-a421-06001ee3c00c",
   "metadata": {},
   "outputs": [],
   "source": []
  },
  {
   "cell_type": "code",
   "execution_count": 5,
   "id": "96d24d9b-066f-43c2-a231-527aa6b2d9ba",
   "metadata": {},
   "outputs": [
    {
     "name": "stdout",
     "output_type": "stream",
     "text": [
      "   📥 Downloading syft_message_1756522667_957126df...\n",
      "   ❌ Invalid message: None\n",
      "\n",
      "✅ Downloaded 1 message(s) to /Users/atrask/SyftBox_liamtrask@gmail.com/inbox\n",
      "\n",
      "✅ Auto-approved 1 message(s):\n",
      "   - syft_message: 1\n",
      "moved to archive/Users/atrask/SyftBox_liamtrask@gmail.com/merged_archive/syft_message_1756522667_957126df\n",
      "   - Messages processed: 1\n",
      "   - Files merged: 1\n",
      "   - Files overwritten: 1\n",
      "❌ Batch request failed: The read operation timed out\n",
      "❌ Batch request failed: The read operation timed out\n",
      "❌ Batch request failed: The read operation timed out\n"
     ]
    }
   ],
   "source": [
    "andrew_watcher = andrew_client.launch_watcher()\n",
    "andrew_inbox_watcher = andrew_client.launch_inbox_watcher()\n",
    "liam_watcher = liam_client.launch_watcher()\n",
    "liam_inbox_watcher = liam_client.launch_inbox_watcher()"
   ]
  },
  {
   "cell_type": "code",
   "execution_count": null,
   "id": "5f8d8fcc-20d3-4389-9f53-0731d88ac07a",
   "metadata": {},
   "outputs": [],
   "source": []
  }
 ],
 "metadata": {
  "kernelspec": {
   "display_name": "Python 3 (ipykernel)",
   "language": "python",
   "name": "python3"
  },
  "language_info": {
   "codemirror_mode": {
    "name": "ipython",
    "version": 3
   },
   "file_extension": ".py",
   "mimetype": "text/x-python",
   "name": "python",
   "nbconvert_exporter": "python",
   "pygments_lexer": "ipython3",
   "version": "3.12.9"
  }
 },
 "nbformat": 4,
 "nbformat_minor": 5
}
