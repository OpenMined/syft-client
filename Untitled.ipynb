{
 "cells": [
  {
   "cell_type": "code",
   "execution_count": 1,
   "id": "d75616fc-021c-441c-a1b3-96646c5d33c6",
   "metadata": {},
   "outputs": [],
   "source": [
    "import syft_client as sc\n",
    "import syft_serve as ss"
   ]
  },
  {
   "cell_type": "code",
   "execution_count": 2,
   "id": "4f0271c5-da99-4c6e-b221-92aecd66bbad",
   "metadata": {},
   "outputs": [],
   "source": [
    "%load_ext memray\n",
    "# %%memray_flamegraph --trace-python-allocators --leaks"
   ]
  },
  {
   "cell_type": "code",
   "execution_count": 3,
   "id": "3f50e3ed-0d68-4c92-90dd-7876a677dcec",
   "metadata": {
    "scrolled": true
   },
   "outputs": [
    {
     "name": "stdout",
     "output_type": "stream",
     "text": [
      "[2/2] ✅ Logged in as andrew@openmined.org                                                  \n",
      "[2/2] ✅ Logged in as liamtrask@gmail.com                                                  \n"
     ]
    }
   ],
   "source": [
    "andrew_client = sc.login(\"andrew@openmined.org\", verbose=False)\n",
    "liam_client = sc.login(\"liamtrask@gmail.com\", verbose=False)\n",
    "# andrew_client.reset_syftbox()\n",
    "# liam_client.reset_syftbox()\n",
    "# andrew_client.add_friend(\"liamtrask@gmail.com\")\n",
    "# liam_client.add_friend(\"andrew@openmined.org\")"
   ]
  },
  {
   "cell_type": "code",
   "execution_count": 4,
   "id": "e2a886fd-40dd-4563-a165-a6336fb62cb6",
   "metadata": {},
   "outputs": [
    {
     "name": "stdout",
     "output_type": "stream",
     "text": [
      "GETFOLDERID-1 1756671081.02464\n",
      "ENSUREAUTH-1 1756671081.024705\n",
      "ENSUREAUTH-2 1756671081.024719\n",
      "GETFOLDERID-2 1756671081.024731\n",
      "GETFOLDERID-4 1756671081.0247428\n",
      "GETFOLDERID-5 1756671081.5898612\n",
      "GETFOLDERID-6 1756671081.590196\n",
      "GETFOLDERID-1 1756671081.590805\n",
      "ENSUREAUTH-1 1756671081.590854\n",
      "ENSUREAUTH-2 1756671081.5908859\n",
      "GETFOLDERID-2 1756671081.590917\n",
      "GETFOLDERID-3 1756671081.5909472\n"
     ]
    },
    {
     "data": {
      "text/html": [
       "\n",
       "        <div style=\"border: 1px solid #ddd; padding: 15px; margin: 10px 0; border-radius: 5px; background-color: #f9f9f9; font-family: -apple-system, BlinkMacSystemFont, 'Segoe UI', Roboto, sans-serif;\">\n",
       "            <h3 style=\"margin-top: 0; color: #333;\">📁 Google Drive Client</h3>\n",
       "            <table style=\"border-collapse: collapse; width: 100%;\">\n",
       "                <tr>\n",
       "                    <td style=\"padding: 5px 10px 5px 0; font-weight: bold; color: #555;\">Email:</td>\n",
       "                    <td style=\"padding: 5px;\">andrew@openmined.org</td>\n",
       "                </tr>\n",
       "                <tr>\n",
       "                    <td style=\"padding: 5px 10px 5px 0; font-weight: bold; color: #555;\">Auth Method:</td>\n",
       "                    <td style=\"padding: 5px;\">wallet</td>\n",
       "                </tr>\n",
       "                <tr>\n",
       "                    <td style=\"padding: 5px 10px 5px 0; font-weight: bold; color: #555;\">SyftBox:</td>\n",
       "                    <td style=\"padding: 5px;\">✅ Created</td>\n",
       "                </tr>\n",
       "        \n",
       "                <tr>\n",
       "                    <td style=\"padding: 5px 10px 5px 0; font-weight: bold; color: #555;\">Drive Folder:</td>\n",
       "                    <td style=\"padding: 5px;\">\n",
       "                        <a href=\"https://drive.google.com/drive/folders/1NWh9DxRBe3sF00WAyjm2uRSJBp4CjFIm\" target=\"_blank\" style=\"color: #1a73e8; text-decoration: none;\">\n",
       "                            🔗 Open in Google Drive\n",
       "                        </a>\n",
       "                    </td>\n",
       "                </tr>\n",
       "            \n",
       "            </table>\n",
       "        </div>"
      ],
      "text/plain": [
       "<GDriveUnifiedClient(\n",
       "  email='andrew@openmined.org',\n",
       "  auth_method='wallet',\n",
       "  syftbox=✓ created\n",
       ")>"
      ]
     },
     "execution_count": 4,
     "metadata": {},
     "output_type": "execute_result"
    }
   ],
   "source": [
    "andrew_client"
   ]
  },
  {
   "cell_type": "code",
   "execution_count": 10,
   "id": "661ed77e-1dd5-4e05-b4c6-fc4c8c07a2bc",
   "metadata": {},
   "outputs": [],
   "source": [
    "import syft_serve as ss\n",
    "import requests\n",
    "\n",
    "def create_watcher_sender_endpoint(email):\n",
    "    \"\"\"Create the file watcher sender endpoint with syft client integration\"\"\"\n",
    "    # Create unique server name based on email\n",
    "    server_name = f\"watcher_sender_{email.replace('@', '_').replace('.', '_')}\"\n",
    "    \n",
    "    # Check if endpoint already exists by querying syft_serve state\n",
    "    existing_servers = list(ss.servers)\n",
    "    for server in existing_servers:\n",
    "        if server.name == server_name:\n",
    "            print(\"Endpoint already exists\")\n",
    "            return server\n",
    "    \n",
    "    def hello():\n",
    "        import sys\n",
    "        import os\n",
    "        \n",
    "        # Add the syft-client directory to Python path to use the live code\n",
    "        syft_client_path = \"/Users/atrask/Desktop/Laboratory/syft-client\"\n",
    "        if syft_client_path not in sys.path:\n",
    "            sys.path.insert(0, syft_client_path)\n",
    "        \n",
    "        import syft_client as sc\n",
    "        from watchdog.observers import Observer\n",
    "        from watchdog.events import FileSystemEventHandler\n",
    "        import time\n",
    "        from pathlib import Path\n",
    "        \n",
    "        # Login to syft client with provided email\n",
    "        client = sc.login(email, verbose=False)\n",
    "        \n",
    "        # Get the SyftBox datasites directory to watch\n",
    "        syftbox_dir = client.get_syftbox_directory()\n",
    "        if syftbox_dir is None:\n",
    "            return \"Error: Could not determine SyftBox directory\"\n",
    "        \n",
    "        watch_path = str(syftbox_dir / \"datasites\")\n",
    "        \n",
    "        # Define what happens when files change\n",
    "        class Handler(FileSystemEventHandler):\n",
    "            def on_created(self, event):\n",
    "                if not event.is_directory:\n",
    "                    self._handle_file_event(event, \"created\")\n",
    "            \n",
    "            def on_modified(self, event):\n",
    "                if not event.is_directory:\n",
    "                    self._handle_file_event(event, \"modified\")\n",
    "            \n",
    "            def _handle_file_event(self, event, event_type):\n",
    "                # Skip hidden files (starting with .)\n",
    "                filename = os.path.basename(event.src_path)\n",
    "                if filename.startswith('.'):\n",
    "                    return\n",
    "                \n",
    "                # Skip temporary files and system files\n",
    "                if filename.endswith(('.tmp', '.swp', '.DS_Store', '~')):\n",
    "                    return\n",
    "                \n",
    "                print(f\"📁 File {event_type}: {event.src_path}\", flush=True)\n",
    "                \n",
    "                # Send the file to all friends\n",
    "                try:\n",
    "                    print(f\"📤 Sending to friends...\", flush=True)\n",
    "                    results = client.send_file_or_folder_to_friends(event.src_path)\n",
    "                    \n",
    "                    # Report results\n",
    "                    successful = sum(1 for success in results.values() if success)\n",
    "                    total = len(results)\n",
    "                    print(f\"✅ Sent to {successful}/{total} friends\", flush=True)\n",
    "                    \n",
    "                except Exception as e:\n",
    "                    print(f\"❌ Error sending file: {str(e)}\", flush=True)\n",
    "        \n",
    "        # Create observer and start watching\n",
    "        observer = Observer()\n",
    "        observer.schedule(Handler(), watch_path, recursive=True)\n",
    "        observer.start()\n",
    "        \n",
    "        print(f\"👀 Watching for changes in: {watch_path}\", flush=True)\n",
    "        \n",
    "        # Keep the observer running\n",
    "        try:\n",
    "            while True:\n",
    "                time.sleep(1)\n",
    "        except KeyboardInterrupt:\n",
    "            observer.stop()\n",
    "        observer.join()\n",
    "        \n",
    "        return \"Watcher stopped\"\n",
    "    \n",
    "    # Create the server with dependencies\n",
    "    server = ss.create(server_name, \n",
    "                       dependencies=[\"watchdog\", \"google-api-python-client\", \"google-auth\", \"google-auth-oauthlib\", \"google-auth-httplib2\"],\n",
    "                       endpoints={\"/\": hello})\n",
    "    \n",
    "    print(f\"Server created at: {server.url}\")\n",
    "    return server\n",
    "\n",
    "def destroy_watcher_sender_endpoint(email):\n",
    "    \"\"\"Destroy the watcher sender endpoint for a specific email\"\"\"\n",
    "    # Create server name to look for\n",
    "    server_name = f\"watcher_sender_{email.replace('@', '_').replace('.', '_')}\"\n",
    "    \n",
    "    # Find and terminate the specific server\n",
    "    existing_servers = list(ss.servers)\n",
    "    for server in existing_servers:\n",
    "        if server.name == server_name:\n",
    "            server.terminate()\n",
    "            print(f\"Server {server_name} terminated successfully\")\n",
    "            return True\n",
    "    \n",
    "    print(f\"No server found for {email}\")\n",
    "    return False\n",
    "\n",
    "# # Usage examples:\n",
    "# if __name__ == \"__main__\":\n",
    "#     # Create endpoint for Andrew\n",
    "#     server = create_watcher_sender_endpoint(\"andrew@openmined.org\")\n",
    "#     \n",
    "#     # Test the endpoint\n",
    "#     # response = requests.get(server.url)\n",
    "#     # print(response.text)\n",
    "#     \n",
    "#     # Destroy the endpoint when done\n",
    "#     # destroy_watcher_sender_endpoint(\"andrew@openmined.org\")"
   ]
  },
  {
   "cell_type": "code",
   "execution_count": 11,
   "id": "ca098617-dcd4-48ea-b776-63c243499dea",
   "metadata": {},
   "outputs": [
    {
     "name": "stdout",
     "output_type": "stream",
     "text": [
      "Server watcher_sender_andrew_openmined_org terminated successfully\n",
      "Server created at: http://localhost:8001\n"
     ]
    }
   ],
   "source": [
    "destroy_watcher_sender_endpoint(\"andrew@openmined.org\")\n",
    "server = create_watcher_sender_endpoint(\"andrew@openmined.org\")"
   ]
  },
  {
   "cell_type": "code",
   "execution_count": 13,
   "id": "a0b5cad5-b4d9-4e93-87e6-914986910906",
   "metadata": {},
   "outputs": [
    {
     "data": {
      "text/plain": [
       "['INFO:     127.0.0.1:50444 - \"GET /health HTTP/1.1\" 200 OK',\n",
       " 'INFO:     127.0.0.1:50446 - \"GET /health HTTP/1.1\" 200 OK',\n",
       " '',\n",
       " '[1/2] 🔑 Logging in as andrew@openmined.org...                              ',\n",
       " '[2/2] ✅ Logged in as andrew@openmined.org                                                  ',\n",
       " 'GETSYFTBOXDIR-1 1756671318.811435',\n",
       " 'GETSYFTBOXDIR-3 1756671318.811438',\n",
       " '👀 Watching for changes in: /Users/atrask/SyftBox_andrew@openmined.org/datasites',\n",
       " '📁 File modified: /Users/atrask/SyftBox_andrew@openmined.org/datasites/test_data.csv',\n",
       " '📤 Sending to friends...',\n",
       " '\\x00\\x00\\x00\\x00\\x00\\x00\\x00\\x00\\x00\\x00\\x00\\x00\\x00\\x00\\x00\\x00\\x00\\x00\\x00\\x00\\x00\\x00\\x00\\x00\\x00\\x00\\x00\\x00\\x00\\x00\\x00\\x00\\x00\\x00\\x00\\x00\\x00\\x00\\x00\\x00\\x00\\x00\\x00\\x00\\x00\\x00\\x00\\x00\\x00\\x00\\x00\\x00\\x00\\x00\\x00\\x00\\x00\\x00\\x00\\x00\\x00\\x00\\x00\\x00\\x00\\x00\\x00\\x00\\x00\\x00\\x00\\x00\\x00\\x00\\x00\\x00\\x00\\x00\\x00\\x00\\x00\\x00\\x00\\x00\\x00\\x00\\x00\\x00\\x00\\x00\\x00\\x00\\x00\\x00\\x00\\x00\\x00\\x00\\x00\\x00\\x00\\x00\\x00\\x00\\x00\\x00\\x00\\x00\\x00\\x00\\x00\\x00\\x00\\x00\\x00\\x00\\x00\\x00\\x00\\x00\\x00\\x00\\x00\\x00\\x00\\x00\\x00\\x00\\x00\\x00\\x00\\x00\\x00\\x00\\x00\\x00\\x00\\x00\\x00\\x00\\x00\\x00\\x00\\x00\\x00\\x00\\x00\\x00\\x00\\x00\\x00\\x00\\x00\\x00\\x00\\x00\\x00\\x00\\x00\\x00\\x00\\x00\\x00\\x00\\x00\\x00\\x00\\x00\\x00\\x00\\x00\\x00\\x00\\x00\\x00\\x00\\x00\\x00\\x00\\x00\\x00\\x00\\x00\\x00\\x00\\x00\\x00\\x00\\x00\\x00\\x00\\x00\\x00\\x00\\x00\\x00\\x00\\x00\\x00\\x00\\x00\\x00\\x00\\x00\\x00\\x00\\x00\\x00\\x00\\x00\\x00\\x00\\x00\\x00\\x00\\x00\\x00\\x00\\x00\\x00\\x00\\x00\\x00\\x00\\x00\\x00\\x00\\x00\\x00\\x00\\x00\\x00\\x00\\x00\\x00\\x00\\x00\\x00\\x00\\x00\\x00\\x00\\x00\\x00\\x00\\x00\\x00\\x00\\x00\\x00\\x00\\x00\\x00\\x00\\x00\\x00\\x00\\x00\\x00\\x00\\x00\\x00\\x00\\x00\\x00\\x00\\x00\\x00\\x00\\x00\\x00\\x00\\x00\\x00\\x00\\x00\\x00\\x00\\x00\\x00\\x00\\x00\\x00\\x00\\x00\\x00\\x00\\x00\\x00\\x00\\x00\\x00\\x00\\x00\\x00\\x00\\x00\\x00\\x00\\x00\\x00\\x00\\x00\\x00\\x00\\x00\\x00\\x00\\x00\\x00\\x00\\x00\\x00\\x00\\x00\\x00\\x00\\x00\\x00\\x00\\x00\\x00\\x00\\x00\\x00\\x00\\x00\\x00\\x00\\x00\\x00\\x00\\x00\\x00\\x00\\x00\\x00\\x00\\x00\\x00\\x00\\x00\\x00\\x00\\x00\\x00\\x00\\x00\\x00\\x00\\x00\\x00\\x00\\x00\\x00\\x00\\x00\\x00\\x00\\x00\\x00\\x00\\x00\\x00\\x00\\x00\\x00\\x00\\x00\\x00\\x00\\x00\\x00\\x00\\x00\\x00\\x00\\x00\\x00\\x00\\x00\\x00\\x00\\x00\\x00\\x00\\x00\\x00\\x00\\x00\\x00\\x00\\x00\\x00\\x00\\x00\\x00\\x00\\x00\\x00\\x00\\x00\\x00\\x00\\x00\\x00\\x00\\x00\\x00\\x00\\x00\\x00\\x00\\x00\\x00\\x00\\x00\\x00\\x00\\x00\\x00\\x00\\x00\\x00\\x00\\x00\\x00\\x00\\x00\\x00\\x00\\x00\\x00\\x00\\x00\\x00\\x00\\x00\\x00\\x00\\x00\\x00\\x00\\x00\\x00\\x00\\x00\\x00\\x00\\x00\\x00\\x00\\x00\\x00\\x00\\x00\\x00\\x00\\x00\\x00\\x00\\x00\\x00\\x00\\x00\\x00\\x00\\x00\\x00\\x00\\x00\\x00\\x00\\x00\\x00\\x00\\x00\\x00\\x00\\x00\\x00\\x00\\x00\\x00\\x00\\x00\\x00\\x00\\x00\\x00\\x00\\x00\\x00\\x00\\x00\\x00\\x00\\x00\\x00\\x00\\x00\\x00\\x00\\x00\\x00\\x00\\x00\\x00\\x00\\x00\\x00\\x00\\x00\\x00\\x00\\x00\\x00\\x00\\x00\\x00\\x00\\x00\\x00\\x00\\x00\\x00\\x00\\x00\\x00\\x00\\x00\\x00\\x00\\x00\\x00\\x00\\x00\\x00\\x00\\x00\\x00\\x00\\x00\\x00\\x00\\x00\\x00\\x00\\x00\\x00\\x00\\x00\\x00\\x00\\x00\\x00\\x00\\x00\\x00\\x00\\x00\\x00\\x00\\x00\\x00\\x00\\x00\\x00\\x00\\x00\\x00\\x00\\x00\\x00\\x00\\x00\\x00\\x00\\x00\\x00\\x00\\x00\\x00\\x00\\x00\\x00\\x00\\x00\\x00\\x00\\x00\\x00\\x00\\x00\\x00\\x00\\x00\\x00\\x00\\x00\\x00\\x00\\x00\\x00\\x00\\x00\\x00\\x00\\x00\\x00\\x00\\x00\\x00\\x00\\x00\\x00\\x00\\x00\\x00\\x00\\x00\\x00\\x00\\x00\\x00\\x00\\x00\\x00\\x00\\x00\\x00\\x00\\x00\\x00\\x00\\x00\\x00\\x00\\x00\\x00\\x00\\x00\\x00\\x00\\x00\\x00\\x00\\x00\\x00\\x00\\x00\\x00\\x00\\x00\\x00\\x00\\x00\\x00\\x00\\x00\\x00\\x00\\x00\\x00\\x00\\x00\\x00\\x00\\x00\\x00\\x00\\x00\\x00\\x00\\x00\\x00\\x00\\x00\\x00\\x00\\x00\\x00\\x00\\x00\\x00\\x00\\x00\\x00\\x00\\x00\\x00\\x00\\x00\\x00\\x00\\x00\\x00\\x00\\x00\\x00\\x00\\x00\\x00\\x00\\x00\\x00\\x00\\x00\\x00\\x00\\x00\\x00\\x00\\x00\\x00\\x00\\x00\\x00\\x00\\x00\\x00\\x00\\x00\\x00\\x00\\x00\\x00\\x00\\x00\\x00\\x00\\x00\\x00\\x00\\x00\\x00\\x00\\x00\\x00\\x00\\x00\\x00\\x00\\x00\\x00\\x00\\x00\\x00\\x00\\x00\\x00\\x00\\x00\\x00\\x00\\x00\\x00\\x00\\x00\\x00\\x00\\x00\\x00\\x00\\x00\\x00\\x00\\x00\\x00\\x00\\x00\\x00\\x00\\x00\\x00\\x00\\x00\\x00\\x00\\x00\\x00\\x00\\x00\\x00\\x00\\x00\\x00\\x00\\x00\\x00\\x00\\x00\\x00\\x00\\x00\\x00\\x00\\x00\\x00\\x00\\x00\\x00\\x00\\x00\\x00\\x00\\x00\\x00\\x00\\x00\\x00\\x00\\x00\\x00\\x00\\x00\\x00\\x00\\x00\\x00\\x00\\x00\\x00\\x00\\x00\\x00\\x00\\x00\\x00\\x00\\x00\\x00\\x00\\x00\\x00\\x00\\x00\\x00\\x00\\x00\\x00\\x00\\x00\\x00\\x00\\x00\\x00\\x00\\x00\\x00\\x00\\x00\\x00\\x00\\x00\\x00\\x00\\x00\\x00\\x00\\x00\\x00\\x00\\x00\\x00\\x00\\x00\\x00\\x00\\x00\\x00\\x00\\x00\\x00\\x00\\x00\\x00\\x00\\x00\\x00\\x00\\x00\\x00\\x00\\x00\\x00\\x00\\x00\\x00\\x00\\x00\\x00\\x00\\x00\\x00\\x00\\x00\\x00\\x00\\x00\\x00\\x00\\x00\\x00\\x00\\x00\\x00\\x00\\x00\\x00\\x00\\x00\\x00\\x00\\x00\\x00\\x00\\x00\\x00\\x00\\x00\\x00\\x00\\x00\\x00\\x00\\x00\\x00\\x00\\x00\\x00\\x00\\x00\\x00\\x00\\x00\\x00\\x00\\x00\\x00\\x00\\x00\\x00\\x00\\x00\\x00\\x00\\x00\\x00\\x00\\x00\\x00\\x00\\x00\\x00\\x00\\x00\\x00\\x00\\x00\\x00\\x00\\x00\\x00\\x00\\x00\\x00\\x00\\x00\\x00\\x00\\x00\\x00\\x00\\x00\\x00\\x00\\x00\\x00\\x00\\x00\\x00\\x00\\x00\\x00\\x00\\x00\\x00\\x00\\x00\\x00\\x00\\x00\\x00\\x00\\x00\\x00\\x00\\x00\\x00\\x00\\x00\\x00\\x00\\x00\\x00\\x00\\x00\\x00\\x00\\x00\\x00\\x00\\x00\\x00\\x00\\x00\\x00\\x00\\x00\\x00\\x00\\x00\\x00\\x00\\x00\\x00\\x00\\x00\\x00\\x00\\x00\\x00\\x00\\x00\\x00\\x00\\x00\\x00\\x00\\x00\\x00\\x00\\x00\\x00\\x00\\x00\\x00\\x00\\x00\\x00\\x00\\x00\\x00\\x00\\x00\\x00\\x00\\x00\\x00\\x00\\x00\\x00\\x00\\x00\\x00\\x00\\x00\\x00\\x00\\x00\\x00\\x00\\x00\\x00\\x00\\x00\\x00\\x00\\x00\\x00\\x00\\x00\\x00\\x00\\x00\\x00\\x00\\x00\\x00\\x00\\x00\\x00\\x00\\x00\\x00\\x00\\x00\\x00\\x00\\x00\\x00\\x00\\x00\\x00\\x00\\x00\\x00\\x00\\x00\\x00\\x00\\x00\\x00\\x00\\x00\\x00\\x00\\x00\\x00\\x00\\x00\\x00\\x00\\x00\\x00\\x00\\x00\\x00\\x00\\x00\\x00\\x00\\x00\\x00\\x00\\x00\\x00\\x00\\x00\\x00\\x00\\x00\\x00\\x00\\x00\\x00\\x00\\x00\\x00\\x00\\x00\\x00\\x00\\x00\\x00\\x00\\x00\\x00\\x00\\x00\\x00\\x00\\x00\\x00\\x00\\x00\\x00\\x00\\x00\\x00\\x00\\x00\\x00\\x00\\x00\\x00\\x00\\x00\\x00\\x00\\x00\\x00\\x00\\x00\\x00\\x00\\x00\\x00\\x00\\x00\\x00\\x00\\x00\\x00\\x00\\x00\\x00\\x00\\x00\\x00\\x00\\x00\\x00\\x00\\x00\\x00\\x00\\x00\\x00\\x00\\x00\\x00\\x00\\x00\\x00\\x00\\x00\\x00\\x00\\x00\\x00\\x00\\x00\\x00\\x00\\x00\\x00\\x00\\x00\\x00\\x00\\x00\\x00\\x00\\x00\\x00\\x00\\x00\\x00\\x00\\x00\\x00\\x00\\x00\\x00\\x00\\x00\\x00\\x00\\x00\\x00\\x00\\x00\\x00\\x00\\x00\\x00\\x00\\x00\\x00\\x00\\x00\\x00\\x00\\x00\\x00\\x00\\x00\\x00\\x00\\x00\\x00\\x00\\x00\\x00\\x00\\x00\\x00\\x00\\x00\\x00\\x00\\x00\\x00\\x00\\x00\\x00\\x00\\x00\\x00\\x00\\x00\\x00\\x00\\x00\\x00\\x00\\x00\\x00\\x00\\x00\\x00\\x00\\x00\\x00\\x00\\x00\\x00\\x00\\x00\\x00\\x00\\x00\\x00\\x00\\x00\\x00\\x00\\x00\\x00\\x00\\x00\\x00\\x00\\x00\\x00\\x00\\x00\\x00\\x00\\x00\\x00\\x00\\x00\\x00\\x00\\x00\\x00\\x00\\x00\\x00\\x00\\x00\\x00\\x00\\x00\\x00\\x00\\x00\\x00\\x00\\x00\\x00\\x00\\x00\\x00\\x00\\x00\\x00\\x00\\x00\\x00\\x00\\x00\\x00\\x00\\x00\\x00\\x00\\x00\\x00\\x00\\x00\\x00\\x00\\x00\\x00\\x00\\x00\\x00\\x00\\x00\\x00\\x00\\x00\\x00\\x00\\x00\\x00\\x00\\x00\\x00\\x00\\x00\\x00\\x00\\x00\\x00\\x00\\x00\\x00\\x00\\x00\\x00\\x00\\x00\\x00\\x00\\x00\\x00\\x00\\x00\\x00\\x00\\x00\\x00\\x00\\x00\\x00\\x00\\x00\\x00\\x00\\x00\\x00\\x00\\x00\\x00\\x00\\x00\\x00\\x00\\x00\\x00\\x00\\x00\\x00\\x00\\x00\\x00\\x00\\x00\\x00\\x00\\x00\\x00\\x00\\x00\\x00\\x00\\x00\\x00\\x00\\x00\\x00\\x00\\x00\\x00\\x00\\x00\\x00\\x00\\x00\\x00\\x00\\x00\\x00\\x00\\x00\\x00\\x00\\x00\\x00\\x00\\x00\\x00\\x00\\x00\\x00\\x00\\x00\\x00\\x00\\x00\\x00\\x00\\x00\\x00\\x00\\x00\\x00\\x00\\x00\\x00\\x00\\x00\\x00\\x00\\x00\\x00\\x00\\x00\\x00\\x00\\x00\\x00\\x00\\x00\\x00\\x00\\x00\\x00\\x00\\x00\\x00\\x00\\x00\\x00\\x00\\x00\\x00\\x00\\x00\\x00\\x00\\x00\\x00\\x00\\x00\\x00\\x00\\x00\\x00\\x00\\x00\\x00\\x00\\x00\\x00\\x00\\x00\\x00\\x00\\x00\\x00\\x00\\x00\\x00\\x00\\x00\\x00\\x00\\x00\\x00\\x00\\x00\\x00\\x00\\x00\\x00\\x00\\x00\\x00\\x00\\x00\\x00\\x00\\x00\\x00\\x00\\x00\\x00\\x00\\x00\\x00\\x00\\x00\\x00\\x00\\x00\\x00\\x00\\x00\\x00\\x00\\x00\\x00\\x00\\x00\\x00\\x00\\x00\\x00\\x00\\x00\\x00\\x00\\x00\\x00\\x00\\x00\\x00\\x00\\x00\\x00\\x00\\x00\\x00\\x00\\x00\\x00\\x00\\x00\\x00\\x00\\x00\\x00\\x00\\x00\\x00\\x00\\x00\\x00\\x00\\x00\\x00\\x00\\x00\\x00\\x00\\x00\\x00\\x00\\x00\\x00\\x00\\x00\\x00\\x00\\x00\\x00\\x00\\x00\\x00\\x00\\x00\\x00\\x00\\x00\\x00\\x00\\x00\\x00\\x00\\x00\\x00\\x00\\x00\\x00\\x00\\x00\\x00\\x00\\x00\\x00\\x00\\x00\\x00\\x00\\x00\\x00\\x00\\x00\\x00\\x00\\x00\\x00\\x00\\x00\\x00\\x00\\x00\\x00\\x00\\x00\\x00\\x00\\x00\\x00\\x00\\x00\\x00\\x00\\x00\\x00\\x00\\x00\\x00\\x00\\x00\\x00\\x00\\x00\\x00\\x00\\x00\\x00\\x00\\x00\\x00\\x00\\x00\\x00\\x00\\x00\\x00\\x00\\x00\\x00\\x00\\x00\\x00\\x00\\x00\\x00\\x00\\x00\\x00\\x00\\x00\\x00\\x00\\x00\\x00\\x00\\x00\\x00\\x00\\x00\\x00\\x00\\x00\\x00\\x00\\x00\\x00\\x00\\x00\\x00\\x00\\x00\\x00\\x00\\x00\\x00\\x00\\x00\\x00\\x00\\x00\\x00\\x00\\x00\\x00\\x00\\x00\\x00\\x00\\x00\\x00\\x00\\x00\\x00\\x00\\x00\\x00\\x00\\x00\\x00\\x00\\x00\\x00\\x00\\x00\\x00\\x00\\x00\\x00\\x00\\x00\\x00\\x00\\x00\\x00\\x00\\x00\\x00\\x00\\x00\\x00\\x00\\x00\\x00\\x00\\x00\\x00\\x00\\x00\\x00\\x00\\x00\\x00\\x00\\x00\\x00\\x00\\x00\\x00\\x00\\x00\\x00\\x00\\x00\\x00\\x00\\x00\\x00\\x00\\x00\\x00\\x00\\x00\\x00\\x00\\x00\\x00\\x00\\x00\\x00\\x00\\x00\\x00\\x00\\x00\\x00\\x00\\x00\\x00\\x00\\x00\\x00\\x00\\x00\\x00\\x00\\x00\\x00\\x00\\x00\\x00\\x00\\x00\\x00\\x00\\x00\\x00\\x00\\x00\\x00\\x00\\x00\\x00\\x00\\x00\\x00\\x00\\x00\\x00\\x00\\x00\\x00\\x00\\x00\\x00\\x00\\x00\\x00\\x00\\x00\\x00\\x00\\x00\\x00\\x00\\x00\\x00\\x00\\x00\\x00\\x00\\x00\\x00\\x00\\x00\\x00\\x00\\x00\\x00\\x00\\x00\\x00\\x00\\x00\\x00\\x00\\x00\\x00\\x00\\x00\\x00\\x00\\x00\\x00\\x00\\x00\\x00\\x00\\x00\\x00\\x00\\x00\\x00\\x00\\x00\\x00\\x00\\x00\\x00\\x00\\x00\\x00\\x00\\x00\\x00\\x00\\x00\\x00\\x00\\x00\\x00\\x00\\x00\\x00\\x00\\x00\\x00\\x00\\x00\\x00\\x00\\x00\\x00\\x00\\x00\\x00\\x00\\x00\\x00\\x00\\x00\\x00\\x00\\x00\\x00\\x00\\x00\\x00\\x00\\x00\\x00\\x00\\x00\\x00\\x00\\x00\\x00\\x00\\x00\\x00\\x00\\x00\\x00\\x00\\x00\\x00\\x00\\x00\\x00\\x00\\x00\\x00\\x00\\x00\\x00\\x00\\x00\\x00\\x00\\x00\\x00\\x00\\x00\\x00\\x00\\x00\\x00\\x00\\x00\\x00\\x00\\x00\\x00\\x00\\x00\\x00\\x00\\x00\\x00\\x00\\x00\\x00\\x00\\x00\\x00\\x00\\x00\\x00\\x00\\x00\\x00\\x00\\x00\\x00\\x00\\x00\\x00\\x00\\x00\\x00\\x00\\x00\\x00\\x00\\x00\\x00\\x00\\x00\\x00\\x00\\x00\\x00\\x00\\x00\\x00\\x00\\x00\\x00\\x00\\x00\\x00\\x00\\x00\\x00\\x00\\x00\\x00\\x00\\x00\\x00\\x00\\x00\\x00\\x00\\x00\\x00\\x00\\x00\\x00\\x00\\x00\\x00\\x00\\x00\\x00\\x00\\x00\\x00\\x00\\x00\\x00\\x00\\x00\\x00\\x00\\x00\\x00\\x00\\x00\\x00\\x00\\x00\\x00\\x00\\x00\\x00\\x00\\x00\\x00\\x00\\x00\\x00\\x00\\x00\\x00\\x00\\x00\\x00\\x00\\x00\\x00\\x00\\x00\\x00\\x00\\x00\\x00\\x00\\x00\\x00\\x00\\x00\\x00\\x00\\x00\\x00\\x00\\x00\\x00\\x00\\x00\\x00\\x00\\x00\\x00\\x00\\x00\\x00\\x00\\x00\\x00\\x00\\x00\\x00\\x00\\x00\\x00\\x00\\x00\\x00\\x00\\x00\\x00\\x00\\x00\\x00\\x00\\x00\\x00\\x00\\x00\\x00\\x00\\x00\\x00\\x00\\x00\\x00\\x00\\x00\\x00\\x00\\x00\\x00\\x00\\x00\\x00\\x00\\x00\\x00\\x00\\x00\\x00\\x00\\x00\\x00\\x00\\x00\\x00\\x00\\x00\\x00\\x00\\x00\\x00\\x00\\x00\\x00\\x00\\x00\\x00\\x00\\x00\\x00\\x00\\x00\\x00\\x00\\x00\\x00\\x00\\x00\\x00\\x00\\x00\\x00\\x00\\x00\\x00\\x00\\x00\\x00\\x00\\x00\\x00\\x00\\x00\\x00\\x00\\x00\\x00\\x00\\x00\\x00\\x00\\x00\\x00\\x00\\x00\\x00\\x00\\x00\\x00\\x00\\x00\\x00\\x00\\x00\\x00\\x00\\x00\\x00\\x00\\x00\\x00\\x00\\x00\\x00\\x00\\x00\\x00\\x00\\x00\\x00\\x00\\x00\\x00\\x00\\x00\\x00\\x00\\x00\\x00\\x00\\x00\\x00\\x00\\x00\\x00\\x00\\x00\\x00\\x00\\x00\\x00\\x00\\x00\\x00\\x00\\x00\\x00\\x00\\x00\\x00\\x00\\x00\\x00\\x00\\x00\\x00\\x00\\x00\\x00\\x00\\x00\\x00\\x00\\x00\\x00\\x00\\x00\\x00\\x00\\x00\\x00\\x00\\x00\\x00\\x00\\x00\\x00\\x00\\x00\\x00\\x00\\x00\\x00\\x00\\x00\\x00\\x00\\x00\\x00\\x00\\x00\\x00\\x00\\x00\\x00\\x00\\x00\\x00\\x00\\x00\\x00\\x00\\x00\\x00\\x00\\x00\\x00\\x00\\x00\\x00\\x00\\x00\\x00\\x00\\x00\\x00\\x00\\x00\\x00\\x00\\x00\\x00\\x00\\x00\\x00\\x00\\x00\\x00\\x00\\x00\\x00\\x00\\x00\\x00\\x00\\x00\\x00\\x00\\x00\\x00\\x00\\x00\\x00\\x00\\x00\\x00\\x00\\x00\\x00\\x00\\x00\\x00\\x00\\x00\\x00\\x00\\x00\\x00\\x00\\x00\\x00\\x00\\x00\\x00\\x00\\x00\\x00\\x00\\x00\\x00\\x00\\x00\\x00\\x00\\x00\\x00\\x00\\x00\\x00\\x00\\x00\\x00\\x00\\x00\\x00\\x00\\x00\\x00\\x00\\x00\\x00\\x00\\x00\\x00\\x00\\x00\\x00\\x00\\x00\\x00\\x00\\x00\\x00\\x00\\x00\\x00\\x00\\x00\\x00\\x00\\x00\\x00\\x00\\x00\\x00\\x00\\x00\\x00\\x00\\x00\\x00\\x00\\x00\\x00\\x00\\x00\\x00\\x00\\x00\\x00\\x00\\x00\\x00\\x00\\x00\\x00\\x00\\x00\\x00\\x00\\x00\\x00\\x00\\x00\\x00\\x00\\x00\\x00\\x00\\x00\\x00\\x00\\x00\\x00\\x00\\x00\\x00\\x00\\x00\\x00\\x00\\x00\\x00\\x00\\x00\\x00\\x00\\x00\\x00\\x00\\x00\\x00\\x00\\x00\\x00\\x00\\x00\\x00\\x00\\x00\\x00\\x00\\x00\\x00\\x00\\x00\\x00\\x00\\x00\\x00\\x00\\x00\\x00\\x00\\x00\\x00\\x00\\x00\\x00\\x00\\x00\\x00\\x00\\x00\\x00\\x00\\x00\\x00\\x00\\x00\\x00\\x00\\x00\\x00\\x00\\x00\\x00\\x00\\x00\\x00\\x00\\x00\\x00\\x00\\x00\\x00\\x00\\x00\\x00\\x00\\x00\\x00\\x00\\x00\\x00\\x00\\x00\\x00\\x00\\x00\\x00\\x00\\x00\\x00\\x00\\x00\\x00\\x00\\x00\\x00\\x00\\x00\\x00\\x00\\x00\\x00\\x00\\x00\\x00\\x00\\x00\\x00\\x00\\x00\\x00\\x00\\x00\\x00\\x00\\x00\\x00\\x00\\x00\\x00\\x00\\x00\\x00\\x00\\x00\\x00\\x00\\x00\\x00\\x00\\x00\\x00\\x00\\x00\\x00\\x00\\x00\\x00\\x00\\x00\\x00\\x00\\x00\\x00\\x00\\x00\\x00\\x00\\x00\\x00\\x00\\x00\\x00\\x00\\x00\\x00\\x00\\x00\\x00\\x00\\x00\\x00\\x00\\x00\\x00\\x00\\x00\\x00\\x00\\x00\\x00\\x00\\x00\\x00\\x00\\x00\\x00\\x00\\x00\\x00\\x00\\x00\\x00\\x00\\x00\\x00\\x00\\x00\\x00\\x00\\x00\\x00\\x00\\x00\\x00\\x00\\x00\\x00\\x00\\x00\\x00\\x00\\x00\\x00\\x00\\x00\\x00\\x00\\x00\\x00\\x00\\x00\\x00\\x00\\x00\\x00\\x00\\x00\\x00\\x00\\x00\\x00\\x00\\x00\\x00\\x00\\x00\\x00\\x00\\x00\\x00\\x00\\x00\\x00\\x00\\x00\\x00\\x00\\x00\\x00\\x00\\x00\\x00\\x00\\x00\\x00\\x00\\x00\\x00\\x00\\x00\\x00\\x00\\x00\\x00\\x00\\x00\\x00\\x00\\x00\\x00\\x00\\x00\\x00\\x00\\x00\\x00\\x00\\x00\\x00\\x00\\x00\\x00\\x00\\x00\\x00\\x00\\x00\\x00\\x00\\x00\\x00\\x00\\x00\\x00\\x00\\x00\\x00\\x00\\x00\\x00\\x00\\x00\\x00\\x00\\x00\\x00\\x00\\x00\\x00\\x00\\x00\\x00\\x00\\x00\\x00\\x00\\x00\\x00\\x00\\x00\\x00\\x00\\x00\\x00\\x00\\x00\\x00\\x00\\x00\\x00\\x00\\x00\\x00\\x00\\x00\\x00\\x00\\x00\\x00\\x00\\x00\\x00\\x00\\x00\\x00\\x00\\x00\\x00\\x00\\x00\\x00\\x00\\x00\\x00\\x00\\x00\\x00\\x00\\x00\\x00\\x00\\x00\\x00\\x00\\x00\\x00\\x00\\x00\\x00\\x00\\x00\\x00\\x00\\x00\\x00\\x00\\x00\\x00\\x00\\x00\\x00\\x00\\x00\\x00\\x00\\x00\\x00\\x00\\x00\\x00\\x00\\x00\\x00\\x00\\x00\\x00\\x00\\x00\\x00\\x00\\x00\\x00\\x00\\x00\\x00\\x00\\x00\\x00\\x00\\x00\\x00\\x00\\x00\\x00\\x00\\x00\\x00\\x00\\x00\\x00\\x00\\x00\\x00\\x00\\x00\\x00\\x00\\x00\\x00\\x00\\x00\\x00\\x00\\x00\\x00\\x00\\x00\\x00\\x00\\x00\\x00\\x00\\x00\\x00\\x00\\x00\\x00\\x00\\x00\\x00\\x00\\x00\\x00\\x00\\x00\\x00\\x00\\x00\\x00\\x00\\x00\\x00\\x00\\x00\\x00\\x00\\x00\\x00\\x00\\x00\\x00\\x00\\x00\\x00\\x00\\x00\\x00\\x00\\x00\\x00\\x00\\x00\\x00\\x00\\x00\\x00\\x00\\x00\\x00\\x00\\x00\\x00\\x00\\x00\\x00\\x00\\x00\\x00\\x00\\x00\\x00\\x00\\x00\\x00\\x00\\x00\\x00\\x00\\x00\\x00\\x00\\x00\\x00\\x00\\x00\\x00\\x00\\x00\\x00\\x00\\x00\\x00\\x00\\x00\\x00\\x00\\x00\\x00\\x00\\x00\\x00\\x00\\x00\\x00\\x00\\x00\\x00\\x00\\x00\\x00\\x00\\x00\\x00\\x00\\x00\\x00\\x00\\x00\\x00\\x00\\x00\\x00\\x00\\x00\\x00\\x00\\x00\\x00\\x00\\x00\\x00\\x00\\x00\\x00\\x00\\x00\\x00\\x00\\x00\\x00\\x00\\x00\\x00\\x00\\x00\\x00\\x00\\x00\\x00\\x00\\x00\\x00\\x00\\x00\\x00\\x00\\x00\\x00\\x00\\x00\\x00\\x00\\x00\\x00\\x00\\x00\\x00\\x00\\x00\\x00\\x00\\x00\\x00\\x00\\x00\\x00\\x00\\x00\\x00\\x00\\x00\\x00\\x00\\x00\\x00\\x00\\x00\\x00\\x00\\x00\\x00\\x00\\x00\\x00\\x00\\x00\\x00\\x00\\x00\\x00\\x00\\x00\\x00\\x00\\x00\\x00\\x00\\x00\\x00\\x00\\x00\\x00\\x00\\x00\\x00\\x00\\x00\\x00\\x00\\x00\\x00\\x00\\x00\\x00\\x00\\x00\\x00\\x00\\x00\\x00\\x00\\x00\\x00\\x00\\x00\\x00\\x00\\x00\\x00\\x00\\x00\\x00\\x00\\x00\\x00\\x00\\x00\\x00\\x00\\x00\\x00\\x00\\x00\\x00\\x00\\x00\\x00\\x00\\x00\\x00\\x00\\x00\\x00\\x00\\x00\\x00\\x00\\x00\\x00\\x00\\x00\\x00\\x00\\x00\\x00\\x00\\x00\\x00\\x00\\x00\\x00\\x00\\x00\\x00\\x00\\x00\\x00\\x00\\x00\\x00\\x00\\x00\\x00\\x00\\x00\\x00\\x00\\x00\\x00\\x00\\x00\\x00\\x00\\x00\\x00\\x00\\x00\\x00\\x00\\x00\\x00\\x00\\x00\\x00\\x00\\x00\\x00\\x00\\x00\\x00\\x00\\x00\\x00\\x00\\x00\\x00\\x00\\x00\\x00\\x00\\x00\\x00\\x00\\x00\\x00\\x00\\x00\\x00\\x00\\x00\\x00\\x00\\x00\\x00\\x00\\x00\\x00\\x00\\x00\\x00\\x00\\x00\\x00\\x00\\x00\\x00\\x00\\x00\\x00\\x00\\x00\\x00\\x00📁 File modified: /Users/atrask/SyftBox_andrew@openmined.org/datasites/test_data.csv',\n",
       " '📤 Sending to friends...',\n",
       " \"['SCOPES', '__class__', '__delattr__', '__dict__', '__dir__', '__doc__', '__eq__', '__format__', '__ge__', '__getattribute__', '__getstate__', '__gt__', '__hash__', '__init__', '__init_subclass__', '__le__', '__lt__', '__module__', '__ne__', '__new__', '__reduce__', '__reduce_ex__', '__repr__', '__setattr__', '__sizeof__', '__str__', '__subclasshook__', '__weakref__', '_add_folder_to_message', '_add_permission', '_auth_colab', '_auth_credentials', '_clear_syftbox_cache', '_create_folder', '_create_local_syftbox_directory', '_create_shortcuts_for_friend', '_create_shortcuts_for_shared_folders', '_download_file', '_download_folder_recursive', '_ensure_authenticated', '_folder_cache', '_folder_exists', '_get_folder_id', '_get_my_email', '_get_permissions', '_get_syftbox_folder_id', '_invalidate_folder_cache', '_list_syft_folders', '_repr_html_', '_set_folder_cache', '_setup_communication_channel', '_setup_incoming_archive', '_share_folder_with_email', '_syftbox_folder_id', '_upload_file', '_upload_folder_recursive', 'add_friend', 'auth_method', 'authenticate', 'authenticated', 'autoapprove_inbox', 'credentials_file', 'delete_syftbox', 'force_relogin', 'friend_requests', 'friends', 'get_cache_stats', 'get_syftbox_directory', 'launch_inbox_watcher', 'launch_watcher', 'local_syftbox_dir', 'merge_new_syncs', 'my_email', 'reset_credentials', 'reset_syftbox', 'send_file_or_folder', 'service', 'setup_syftbox', 'target_email', 'update_inbox', 'verbose']\",\n",
       " \"❌ Error sending file: 'GDriveUnifiedClient' object has no attribute 'send_file_or_folder_to_friends'\"]"
      ]
     },
     "execution_count": 13,
     "metadata": {},
     "output_type": "execute_result"
    }
   ],
   "source": [
    "server.stdout.lines()"
   ]
  },
  {
   "cell_type": "code",
   "execution_count": 39,
   "id": "c0bab118-9c80-41c0-baf4-dd33e4315ade",
   "metadata": {},
   "outputs": [
    {
     "name": "stdout",
     "output_type": "stream",
     "text": [
      "Server watcher_sender_andrew_openmined_org terminated successfully\n"
     ]
    },
    {
     "data": {
      "text/plain": [
       "True"
      ]
     },
     "execution_count": 39,
     "metadata": {},
     "output_type": "execute_result"
    }
   ],
   "source": []
  },
  {
   "cell_type": "code",
   "execution_count": 31,
   "id": "400c71b6-578c-405c-85b2-5631f03d90fa",
   "metadata": {},
   "outputs": [
    {
     "data": {
      "text/plain": [
       "['INFO:     127.0.0.1:65347 - \"GET /health HTTP/1.1\" 200 OK',\n",
       " 'INFO:     127.0.0.1:65349 - \"GET /health HTTP/1.1\" 200 OK',\n",
       " '',\n",
       " '[1/2] 🔑 Logging in as andrew@openmined.org...                              ',\n",
       " '[2/2] ✅ Logged in as andrew@openmined.org                                                  ',\n",
       " 'INFO:     127.0.0.1:65351 - \"GET / HTTP/1.1\" 200 OK',\n",
       " 'INFO:     127.0.0.1:65354 - \"GET /health HTTP/1.1\" 200 OK',\n",
       " 'INFO:     127.0.0.1:65356 - \"GET /health HTTP/1.1\" 200 OK',\n",
       " 'INFO:     127.0.0.1:65358 - \"GET /health HTTP/1.1\" 200 OK',\n",
       " 'INFO:     127.0.0.1:65360 - \"GET /health HTTP/1.1\" 200 OK',\n",
       " 'INFO:     127.0.0.1:65362 - \"GET /health HTTP/1.1\" 200 OK',\n",
       " 'INFO:     127.0.0.1:65364 - \"GET /health HTTP/1.1\" 200 OK',\n",
       " 'INFO:     127.0.0.1:65366 - \"GET /health HTTP/1.1\" 200 OK',\n",
       " 'modified: /Users/atrask/Desktop/Laboratory/syft-client/Untitled.ipynb',\n",
       " 'created: /Users/atrask/Desktop/Laboratory/syft-client/.~Untitled.ipynb',\n",
       " 'modified: /Users/atrask/Desktop/Laboratory/syft-client',\n",
       " 'modified: /Users/atrask/Desktop/Laboratory/syft-client/.~Untitled.ipynb',\n",
       " 'deleted: /Users/atrask/Desktop/Laboratory/syft-client/.~Untitled.ipynb',\n",
       " 'modified: /Users/atrask/Desktop/Laboratory/syft-client',\n",
       " 'modified: /Users/atrask/Desktop/Laboratory/syft-client/.git/FETCH_HEAD',\n",
       " 'modified: /Users/atrask/Desktop/Laboratory/syft-client/.git/FETCH_HEAD',\n",
       " 'created: /Users/atrask/Desktop/Laboratory/syft-client/.git/objects/maintenance.lock',\n",
       " 'modified: /Users/atrask/Desktop/Laboratory/syft-client/.git/objects',\n",
       " 'modified: /Users/atrask/Desktop/Laboratory/syft-client/.git/objects/maintenance.lock',\n",
       " 'deleted: /Users/atrask/Desktop/Laboratory/syft-client/.git/objects/maintenance.lock',\n",
       " 'modified: /Users/atrask/Desktop/Laboratory/syft-client/.git/objects',\n",
       " 'modified: /Users/atrask/Desktop/Laboratory/syft-client/.git/logs/refs/remotes/origin/HEAD',\n",
       " 'created: /Users/atrask/Desktop/Laboratory/syft-client/.git/refs/remotes/origin/HEAD.lock',\n",
       " 'modified: /Users/atrask/Desktop/Laboratory/syft-client/.git/refs/remotes/origin',\n",
       " 'modified: /Users/atrask/Desktop/Laboratory/syft-client/.git/refs/remotes/origin/HEAD.lock',\n",
       " 'moved: /Users/atrask/Desktop/Laboratory/syft-client/.git/refs/remotes/origin/HEAD.lock',\n",
       " 'modified: /Users/atrask/Desktop/Laboratory/syft-client/.git/refs/remotes/origin',\n",
       " 'deleted: /Users/atrask/Desktop/Laboratory/syft-client/.git/refs/remotes/origin/HEAD',\n",
       " 'modified: /Users/atrask/Desktop/Laboratory/syft-client/.git/refs/remotes/origin',\n",
       " 'created: /Users/atrask/Desktop/Laboratory/syft-client/.git/objects/maintenance.lock',\n",
       " 'modified: /Users/atrask/Desktop/Laboratory/syft-client/.git/objects',\n",
       " 'modified: /Users/atrask/Desktop/Laboratory/syft-client/.git/objects/maintenance.lock',\n",
       " 'deleted: /Users/atrask/Desktop/Laboratory/syft-client/.git/objects/maintenance.lock',\n",
       " 'modified: /Users/atrask/Desktop/Laboratory/syft-client/.git/objects',\n",
       " 'INFO:     127.0.0.1:65420 - \"GET /health HTTP/1.1\" 200 OK',\n",
       " 'INFO:     127.0.0.1:65422 - \"GET /health HTTP/1.1\" 200 OK',\n",
       " 'INFO:     127.0.0.1:65424 - \"GET /health HTTP/1.1\" 200 OK',\n",
       " 'INFO:     127.0.0.1:65426 - \"GET /health HTTP/1.1\" 200 OK',\n",
       " 'INFO:     127.0.0.1:65428 - \"GET /health HTTP/1.1\" 200 OK',\n",
       " 'INFO:     127.0.0.1:65430 - \"GET /health HTTP/1.1\" 200 OK',\n",
       " 'INFO:     127.0.0.1:65432 - \"GET /health HTTP/1.1\" 200 OK',\n",
       " 'INFO:     127.0.0.1:65434 - \"GET /health HTTP/1.1\" 200 OK',\n",
       " 'INFO:     127.0.0.1:65436 - \"GET /health HTTP/1.1\" 200 OK',\n",
       " 'INFO:     127.0.0.1:65438 - \"GET /health HTTP/1.1\" 200 OK',\n",
       " 'INFO:     127.0.0.1:65440 - \"GET /health HTTP/1.1\" 200 OK',\n",
       " 'INFO:     127.0.0.1:65442 - \"GET /health HTTP/1.1\" 200 OK',\n",
       " 'INFO:     127.0.0.1:65444 - \"GET /health HTTP/1.1\" 200 OK',\n",
       " 'INFO:     127.0.0.1:65446 - \"GET /health HTTP/1.1\" 200 OK',\n",
       " 'INFO:     127.0.0.1:65448 - \"GET /health HTTP/1.1\" 200 OK',\n",
       " 'INFO:     127.0.0.1:65450 - \"GET /health HTTP/1.1\" 200 OK',\n",
       " 'INFO:     127.0.0.1:65452 - \"GET /health HTTP/1.1\" 200 OK',\n",
       " 'INFO:     127.0.0.1:65454 - \"GET /health HTTP/1.1\" 200 OK',\n",
       " 'INFO:     127.0.0.1:65456 - \"GET /health HTTP/1.1\" 200 OK',\n",
       " 'INFO:     127.0.0.1:65458 - \"GET /health HTTP/1.1\" 200 OK',\n",
       " 'INFO:     127.0.0.1:65460 - \"GET /health HTTP/1.1\" 200 OK',\n",
       " 'INFO:     127.0.0.1:65462 - \"GET /health HTTP/1.1\" 200 OK',\n",
       " 'INFO:     127.0.0.1:65464 - \"GET /health HTTP/1.1\" 200 OK',\n",
       " 'INFO:     127.0.0.1:65466 - \"GET /health HTTP/1.1\" 200 OK',\n",
       " 'INFO:     127.0.0.1:65468 - \"GET /health HTTP/1.1\" 200 OK',\n",
       " 'INFO:     127.0.0.1:65470 - \"GET /health HTTP/1.1\" 200 OK',\n",
       " 'INFO:     127.0.0.1:65472 - \"GET /health HTTP/1.1\" 200 OK',\n",
       " 'INFO:     127.0.0.1:65474 - \"GET /health HTTP/1.1\" 200 OK',\n",
       " 'INFO:     127.0.0.1:65476 - \"GET /health HTTP/1.1\" 200 OK',\n",
       " 'INFO:     127.0.0.1:65478 - \"GET /health HTTP/1.1\" 200 OK',\n",
       " 'INFO:     127.0.0.1:65480 - \"GET /health HTTP/1.1\" 200 OK',\n",
       " 'INFO:     127.0.0.1:65482 - \"GET /health HTTP/1.1\" 200 OK',\n",
       " 'INFO:     127.0.0.1:65484 - \"GET /health HTTP/1.1\" 200 OK',\n",
       " 'INFO:     127.0.0.1:65486 - \"GET /health HTTP/1.1\" 200 OK',\n",
       " 'INFO:     127.0.0.1:65488 - \"GET /health HTTP/1.1\" 200 OK',\n",
       " 'INFO:     127.0.0.1:65490 - \"GET /health HTTP/1.1\" 200 OK',\n",
       " 'INFO:     127.0.0.1:65492 - \"GET /health HTTP/1.1\" 200 OK',\n",
       " 'INFO:     127.0.0.1:65494 - \"GET /health HTTP/1.1\" 200 OK',\n",
       " 'INFO:     127.0.0.1:65496 - \"GET /health HTTP/1.1\" 200 OK',\n",
       " 'INFO:     127.0.0.1:65498 - \"GET /health HTTP/1.1\" 200 OK',\n",
       " 'INFO:     127.0.0.1:65500 - \"GET /health HTTP/1.1\" 200 OK',\n",
       " 'INFO:     127.0.0.1:65502 - \"GET /health HTTP/1.1\" 200 OK',\n",
       " 'INFO:     127.0.0.1:65504 - \"GET /health HTTP/1.1\" 200 OK',\n",
       " 'INFO:     127.0.0.1:65508 - \"GET /health HTTP/1.1\" 200 OK',\n",
       " 'INFO:     127.0.0.1:65510 - \"GET /health HTTP/1.1\" 200 OK',\n",
       " 'INFO:     127.0.0.1:65526 - \"GET /health HTTP/1.1\" 200 OK',\n",
       " 'modified: /Users/atrask/Desktop/Laboratory/syft-client/Untitled.ipynb',\n",
       " 'created: /Users/atrask/Desktop/Laboratory/syft-client/.~Untitled.ipynb',\n",
       " 'modified: /Users/atrask/Desktop/Laboratory/syft-client',\n",
       " 'modified: /Users/atrask/Desktop/Laboratory/syft-client/.~Untitled.ipynb',\n",
       " 'deleted: /Users/atrask/Desktop/Laboratory/syft-client/.~Untitled.ipynb',\n",
       " 'modified: /Users/atrask/Desktop/Laboratory/syft-client',\n",
       " 'INFO:     127.0.0.1:65534 - \"GET /health HTTP/1.1\" 200 OK',\n",
       " 'INFO:     127.0.0.1:49154 - \"GET /health HTTP/1.1\" 200 OK',\n",
       " 'INFO:     127.0.0.1:49156 - \"GET /health HTTP/1.1\" 200 OK',\n",
       " 'INFO:     127.0.0.1:49158 - \"GET /health HTTP/1.1\" 200 OK',\n",
       " 'INFO:     127.0.0.1:49166 - \"GET /health HTTP/1.1\" 200 OK',\n",
       " 'INFO:     127.0.0.1:49170 - \"GET /health HTTP/1.1\" 200 OK',\n",
       " 'INFO:     127.0.0.1:49174 - \"GET /health HTTP/1.1\" 200 OK',\n",
       " 'INFO:     127.0.0.1:49176 - \"GET /health HTTP/1.1\" 200 OK',\n",
       " 'INFO:     127.0.0.1:49178 - \"GET /health HTTP/1.1\" 200 OK',\n",
       " 'INFO:     127.0.0.1:49180 - \"GET /health HTTP/1.1\" 200 OK',\n",
       " 'INFO:     127.0.0.1:49190 - \"GET /health HTTP/1.1\" 200 OK',\n",
       " 'INFO:     127.0.0.1:49194 - \"GET /health HTTP/1.1\" 200 OK',\n",
       " 'INFO:     127.0.0.1:49198 - \"GET /health HTTP/1.1\" 200 OK',\n",
       " 'INFO:     127.0.0.1:49200 - \"GET /health HTTP/1.1\" 200 OK',\n",
       " 'INFO:     127.0.0.1:49202 - \"GET /health HTTP/1.1\" 200 OK',\n",
       " 'INFO:     127.0.0.1:49204 - \"GET /health HTTP/1.1\" 200 OK',\n",
       " 'INFO:     127.0.0.1:49206 - \"GET /health HTTP/1.1\" 200 OK',\n",
       " 'INFO:     127.0.0.1:49208 - \"GET /health HTTP/1.1\" 200 OK',\n",
       " 'INFO:     127.0.0.1:49210 - \"GET /health HTTP/1.1\" 200 OK',\n",
       " 'INFO:     127.0.0.1:49212 - \"GET /health HTTP/1.1\" 200 OK',\n",
       " 'INFO:     127.0.0.1:49216 - \"GET /health HTTP/1.1\" 200 OK',\n",
       " 'INFO:     127.0.0.1:49220 - \"GET /health HTTP/1.1\" 200 OK']"
      ]
     },
     "execution_count": 31,
     "metadata": {},
     "output_type": "execute_result"
    }
   ],
   "source": [
    "ss.servers[0].stdout.lines()"
   ]
  },
  {
   "cell_type": "code",
   "execution_count": 27,
   "id": "31529a1a-b5da-44bd-b489-56a4a96cbbbe",
   "metadata": {},
   "outputs": [
    {
     "name": "stdout",
     "output_type": "stream",
     "text": [
      "Server created at: http://localhost:8000\n"
     ]
    }
   ],
   "source": [
    "manager = EndpointManager()\n",
    "\n",
    "# Create the endpoint\n",
    "server = manager.create_endpoint()"
   ]
  },
  {
   "cell_type": "code",
   "execution_count": null,
   "id": "bc1ba469-61b2-4638-87cd-c479b48815b6",
   "metadata": {},
   "outputs": [],
   "source": []
  },
  {
   "cell_type": "code",
   "execution_count": 25,
   "id": "f6737d0c-63a1-43f2-9d96-03f8dfe5ba5c",
   "metadata": {},
   "outputs": [
    {
     "data": {
      "text/plain": [
       "['INFO:     127.0.0.1:64582 - \"GET /health HTTP/1.1\" 200 OK',\n",
       " 'INFO:     127.0.0.1:64584 - \"GET /health HTTP/1.1\" 200 OK',\n",
       " 'INFO:     127.0.0.1:64586 - \"GET / HTTP/1.1\" 200 OK',\n",
       " 'INFO:     127.0.0.1:64590 - \"GET /health HTTP/1.1\" 200 OK',\n",
       " 'INFO:     127.0.0.1:64592 - \"GET /health HTTP/1.1\" 200 OK',\n",
       " 'INFO:     127.0.0.1:64594 - \"GET /health HTTP/1.1\" 200 OK',\n",
       " 'INFO:     127.0.0.1:64596 - \"GET /health HTTP/1.1\" 200 OK',\n",
       " 'INFO:     127.0.0.1:64598 - \"GET /health HTTP/1.1\" 200 OK',\n",
       " 'INFO:     127.0.0.1:64600 - \"GET /health HTTP/1.1\" 200 OK',\n",
       " 'INFO:     127.0.0.1:64602 - \"GET /health HTTP/1.1\" 200 OK',\n",
       " 'INFO:     127.0.0.1:64604 - \"GET /health HTTP/1.1\" 200 OK',\n",
       " 'INFO:     127.0.0.1:64606 - \"GET /health HTTP/1.1\" 200 OK',\n",
       " 'INFO:     127.0.0.1:64608 - \"GET /health HTTP/1.1\" 200 OK',\n",
       " 'INFO:     127.0.0.1:64610 - \"GET /health HTTP/1.1\" 200 OK',\n",
       " 'INFO:     127.0.0.1:64612 - \"GET /health HTTP/1.1\" 200 OK',\n",
       " 'INFO:     127.0.0.1:64614 - \"GET /health HTTP/1.1\" 200 OK',\n",
       " 'INFO:     127.0.0.1:64616 - \"GET /health HTTP/1.1\" 200 OK',\n",
       " 'INFO:     127.0.0.1:64618 - \"GET /health HTTP/1.1\" 200 OK',\n",
       " 'INFO:     127.0.0.1:64620 - \"GET /health HTTP/1.1\" 200 OK',\n",
       " 'INFO:     127.0.0.1:64622 - \"GET /health HTTP/1.1\" 200 OK',\n",
       " 'INFO:     127.0.0.1:64624 - \"GET /health HTTP/1.1\" 200 OK',\n",
       " 'INFO:     127.0.0.1:64626 - \"GET /health HTTP/1.1\" 200 OK',\n",
       " 'modified: /Users/atrask/Desktop/Laboratory/syft-client/Untitled.ipynb',\n",
       " 'created: /Users/atrask/Desktop/Laboratory/syft-client/.~Untitled.ipynb',\n",
       " 'modified: /Users/atrask/Desktop/Laboratory/syft-client',\n",
       " 'modified: /Users/atrask/Desktop/Laboratory/syft-client/.~Untitled.ipynb',\n",
       " 'deleted: /Users/atrask/Desktop/Laboratory/syft-client/.~Untitled.ipynb',\n",
       " 'modified: /Users/atrask/Desktop/Laboratory/syft-client',\n",
       " 'created: /Users/atrask/Desktop/Laboratory/syft-client/untitled.txt',\n",
       " 'modified: /Users/atrask/Desktop/Laboratory/syft-client',\n",
       " 'modified: /Users/atrask/Desktop/Laboratory/syft-client/untitled.txt',\n",
       " 'modified: /Users/atrask/Desktop/Laboratory/syft-client/untitled.txt',\n",
       " 'moved: /Users/atrask/Desktop/Laboratory/syft-client/untitled.txt',\n",
       " 'modified: /Users/atrask/Desktop/Laboratory/syft-client',\n",
       " 'INFO:     127.0.0.1:64629 - \"GET /health HTTP/1.1\" 200 OK',\n",
       " 'INFO:     127.0.0.1:64631 - \"GET /health HTTP/1.1\" 200 OK',\n",
       " 'INFO:     127.0.0.1:64633 - \"GET /health HTTP/1.1\" 200 OK',\n",
       " 'INFO:     127.0.0.1:64635 - \"GET /health HTTP/1.1\" 200 OK',\n",
       " 'INFO:     127.0.0.1:64637 - \"GET /health HTTP/1.1\" 200 OK',\n",
       " 'INFO:     127.0.0.1:64639 - \"GET /health HTTP/1.1\" 200 OK',\n",
       " 'INFO:     127.0.0.1:64641 - \"GET /health HTTP/1.1\" 200 OK',\n",
       " 'INFO:     127.0.0.1:64643 - \"GET /health HTTP/1.1\" 200 OK',\n",
       " 'INFO:     127.0.0.1:64645 - \"GET /health HTTP/1.1\" 200 OK',\n",
       " 'INFO:     127.0.0.1:64647 - \"GET /health HTTP/1.1\" 200 OK',\n",
       " 'INFO:     127.0.0.1:64649 - \"GET /health HTTP/1.1\" 200 OK',\n",
       " 'INFO:     127.0.0.1:64651 - \"GET /health HTTP/1.1\" 200 OK',\n",
       " 'INFO:     127.0.0.1:64653 - \"GET /health HTTP/1.1\" 200 OK',\n",
       " 'INFO:     127.0.0.1:64655 - \"GET /health HTTP/1.1\" 200 OK',\n",
       " 'INFO:     127.0.0.1:64657 - \"GET /health HTTP/1.1\" 200 OK',\n",
       " 'INFO:     127.0.0.1:64659 - \"GET /health HTTP/1.1\" 200 OK',\n",
       " 'INFO:     127.0.0.1:64662 - \"GET /health HTTP/1.1\" 200 OK',\n",
       " 'INFO:     127.0.0.1:64664 - \"GET /health HTTP/1.1\" 200 OK',\n",
       " 'INFO:     127.0.0.1:64666 - \"GET /health HTTP/1.1\" 200 OK',\n",
       " 'INFO:     127.0.0.1:64668 - \"GET /health HTTP/1.1\" 200 OK',\n",
       " 'INFO:     127.0.0.1:64670 - \"GET /health HTTP/1.1\" 200 OK',\n",
       " 'INFO:     127.0.0.1:64672 - \"GET /health HTTP/1.1\" 200 OK',\n",
       " 'INFO:     127.0.0.1:64674 - \"GET /health HTTP/1.1\" 200 OK',\n",
       " 'INFO:     127.0.0.1:64676 - \"GET /health HTTP/1.1\" 200 OK',\n",
       " 'INFO:     127.0.0.1:64682 - \"GET /health HTTP/1.1\" 200 OK',\n",
       " 'INFO:     127.0.0.1:64684 - \"GET /health HTTP/1.1\" 200 OK',\n",
       " 'INFO:     127.0.0.1:64686 - \"GET /health HTTP/1.1\" 200 OK',\n",
       " 'modified: /Users/atrask/Desktop/Laboratory/syft-client/hi.txt',\n",
       " 'created: /Users/atrask/Desktop/Laboratory/syft-client/.~hi.txt',\n",
       " 'modified: /Users/atrask/Desktop/Laboratory/syft-client',\n",
       " 'modified: /Users/atrask/Desktop/Laboratory/syft-client/.~hi.txt',\n",
       " 'deleted: /Users/atrask/Desktop/Laboratory/syft-client/.~hi.txt',\n",
       " 'modified: /Users/atrask/Desktop/Laboratory/syft-client',\n",
       " 'modified: /Users/atrask/Desktop/Laboratory/syft-client/.ipynb_checkpoints/hi-checkpoint.txt',\n",
       " 'INFO:     127.0.0.1:64690 - \"GET /health HTTP/1.1\" 200 OK']"
      ]
     },
     "execution_count": 25,
     "metadata": {},
     "output_type": "execute_result"
    }
   ],
   "source": [
    "ss.servers[0].stdout.lines()"
   ]
  },
  {
   "cell_type": "code",
   "execution_count": 7,
   "id": "1d944bba-d4f8-45ed-9bb3-66dfcc922c49",
   "metadata": {
    "scrolled": true
   },
   "outputs": [
    {
     "name": "stdout",
     "output_type": "stream",
     "text": [
      "ENSUREAUTH-1 1756670200.906676\n",
      "ENSUREAUTH-2 1756670200.906825\n",
      "📤 Sending Untitled.ipynb to 1 friend(s)...\n",
      "\n",
      "[1/1] Sending to liamtrask@gmail.com...\n",
      "ENSUREAUTH-1 1756670200.90713\n",
      "ENSUREAUTH-2 1756670200.90716\n",
      "GETSYFTBOXDIR-1 1756670200.908289\n",
      "GETSYFTBOXDIR-3 1756670200.9083579\n",
      "❌ Error: Files must be within YOUR SyftBox folder to be sent\n",
      "   Your SyftBox: /Users/atrask/SyftBox_andrew@openmined.org\n",
      "   File path: /Users/atrask/Desktop/Laboratory/syft-client/Untitled.ipynb\n",
      "   Tip: Move your file to /Users/atrask/SyftBox_andrew@openmined.org/datasites/ or use syft:// URLs\n",
      "   Example: syft://filename.txt\n",
      "   ❌ Failed to send to liamtrask@gmail.com\n",
      "\n",
      "📊 Summary:\n",
      "   ✅ Successful: 0\n",
      "   ❌ Failed: 1\n",
      "   📨 Total: 1\n"
     ]
    },
    {
     "data": {
      "text/plain": [
       "{'liamtrask@gmail.com': False}"
      ]
     },
     "execution_count": 7,
     "metadata": {},
     "output_type": "execute_result"
    }
   ],
   "source": [
    "%%timeit -n1 -r1\n",
    "# # %%memray_flamegraph --trace-python-allocators --leaks\n",
    "\n",
    "andrew_client.send_file_or_folder_to_friends(\"/Users/atrask/Desktop/Laboratory/syft-client/Untitled.ipynb\")\n",
    "\n",
    "liam_client.update_inbox()\n",
    "liam_client.update_inbox_from_sheets()\n",
    "liam_client.autoapprove_inbox()\n",
    "liam_client.merge_new_syncs()"
   ]
  },
  {
   "cell_type": "code",
   "execution_count": null,
   "id": "5f8d8fcc-20d3-4389-9f53-0731d88ac07a",
   "metadata": {},
   "outputs": [],
   "source": []
  }
 ],
 "metadata": {
  "kernelspec": {
   "display_name": "Python 3 (ipykernel)",
   "language": "python",
   "name": "python3"
  },
  "language_info": {
   "codemirror_mode": {
    "name": "ipython",
    "version": 3
   },
   "file_extension": ".py",
   "mimetype": "text/x-python",
   "name": "python",
   "nbconvert_exporter": "python",
   "pygments_lexer": "ipython3",
   "version": "3.12.9"
  }
 },
 "nbformat": 4,
 "nbformat_minor": 5
}
