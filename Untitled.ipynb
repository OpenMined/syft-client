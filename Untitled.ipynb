{
 "cells": [
  {
   "cell_type": "code",
   "execution_count": 1,
   "id": "d75616fc-021c-441c-a1b3-96646c5d33c6",
   "metadata": {},
   "outputs": [],
   "source": [
    "import syft_client as sc\n",
    "import syft_serve as ss\n",
    "# ss.servers.terminate_all()"
   ]
  },
  {
   "cell_type": "code",
   "execution_count": 2,
   "id": "4f0271c5-da99-4c6e-b221-92aecd66bbad",
   "metadata": {},
   "outputs": [],
   "source": [
    "%load_ext memray\n",
    "# %%memray_flamegraph --trace-python-allocators --leaks"
   ]
  },
  {
   "cell_type": "code",
   "execution_count": 3,
   "id": "3f50e3ed-0d68-4c92-90dd-7876a677dcec",
   "metadata": {},
   "outputs": [
    {
     "name": "stdout",
     "output_type": "stream",
     "text": [
      "[2/2] ✅ Logged in as andrew@openmined.org                                                  \n",
      "[2/2] ✅ Logged in as liamtrask@gmail.com                                                  \n",
      "✅ SyftBoxTransportService has been reset (deleted and recreated)\n",
      "✅ SyftBoxTransportService has been reset (deleted and recreated)\n",
      "✅ Added liamtrask@gmail.com as a friend\n",
      "✅ Added andrew@openmined.org as a friend\n"
     ]
    },
    {
     "data": {
      "text/plain": [
       "True"
      ]
     },
     "execution_count": 3,
     "metadata": {},
     "output_type": "execute_result"
    }
   ],
   "source": [
    "andrew_client = sc.login(\"andrew@openmined.org\")\n",
    "liam_client = sc.login(\"liamtrask@gmail.com\")\n",
    "andrew_client.reset_syftbox()\n",
    "liam_client.reset_syftbox()\n",
    "andrew_client.add_friend(\"liamtrask@gmail.com\")\n",
    "liam_client.add_friend(\"andrew@openmined.org\")"
   ]
  },
  {
   "cell_type": "code",
   "execution_count": 8,
   "id": "9342d036-301d-4165-9e5b-d6b67a765ef7",
   "metadata": {},
   "outputs": [
    {
     "data": {
      "text/html": [
       "\n",
       "        <div style=\"border: 1px solid #ddd; padding: 15px; margin: 10px 0; border-radius: 5px; background-color: #f9f9f9; font-family: -apple-system, BlinkMacSystemFont, 'Segoe UI', Roboto, sans-serif;\">\n",
       "            <h3 style=\"margin-top: 0; color: #333;\">📁 Google Drive Client</h3>\n",
       "            <table style=\"border-collapse: collapse; width: 100%;\">\n",
       "                <tr>\n",
       "                    <td style=\"padding: 5px 10px 5px 0; font-weight: bold; color: #555;\">Email:</td>\n",
       "                    <td style=\"padding: 5px;\">andrew@openmined.org</td>\n",
       "                </tr>\n",
       "                <tr>\n",
       "                    <td style=\"padding: 5px 10px 5px 0; font-weight: bold; color: #555;\">Auth Method:</td>\n",
       "                    <td style=\"padding: 5px;\">wallet</td>\n",
       "                </tr>\n",
       "                <tr>\n",
       "                    <td style=\"padding: 5px 10px 5px 0; font-weight: bold; color: #555;\">SyftBox:</td>\n",
       "                    <td style=\"padding: 5px;\">✅ Created</td>\n",
       "                </tr>\n",
       "        \n",
       "                <tr>\n",
       "                    <td style=\"padding: 5px 10px 5px 0; font-weight: bold; color: #555;\">Drive Folder:</td>\n",
       "                    <td style=\"padding: 5px;\">\n",
       "                        <a href=\"https://drive.google.com/drive/folders/1LPg8e25dznrkjuosIs6wpNqzbvh2dzKW\" target=\"_blank\" style=\"color: #1a73e8; text-decoration: none;\">\n",
       "                            🔗 Open in Google Drive\n",
       "                        </a>\n",
       "                    </td>\n",
       "                </tr>\n",
       "            \n",
       "                <tr>\n",
       "                    <td style=\"padding: 5px 10px 5px 0; font-weight: bold; color: #555;\">Local Directory:</td>\n",
       "                    <td style=\"padding: 5px;\">/Users/atrask/SyftBox_andrew@openmined.org</td>\n",
       "                </tr>\n",
       "            \n",
       "            </table>\n",
       "        </div>"
      ],
      "text/plain": [
       "<GDriveUnifiedClient(\n",
       "  email='andrew@openmined.org',\n",
       "  auth_method='wallet',\n",
       "  syftbox=✓ created\n",
       ")>"
      ]
     },
     "execution_count": 8,
     "metadata": {},
     "output_type": "execute_result"
    }
   ],
   "source": [
    "andrew_client"
   ]
  },
  {
   "cell_type": "code",
   "execution_count": null,
   "id": "b3fcee64-0e76-400b-87f4-457cb55428a6",
   "metadata": {},
   "outputs": [],
   "source": []
  },
  {
   "cell_type": "code",
   "execution_count": 5,
   "id": "96d24d9b-066f-43c2-a231-527aa6b2d9ba",
   "metadata": {},
   "outputs": [
    {
     "name": "stdout",
     "output_type": "stream",
     "text": [
      "   📥 Downloading syft_message_1756522667_957126df...\n",
      "   ❌ Invalid message: None\n",
      "\n",
      "✅ Downloaded 1 message(s) to /Users/atrask/SyftBox_liamtrask@gmail.com/inbox\n",
      "\n",
      "✅ Auto-approved 1 message(s):\n",
      "   - syft_message: 1\n",
      "moved to archive/Users/atrask/SyftBox_liamtrask@gmail.com/merged_archive/syft_message_1756522667_957126df\n",
      "   - Messages processed: 1\n",
      "   - Files merged: 1\n",
      "   - Files overwritten: 1\n",
      "❌ Batch request failed: The read operation timed out\n",
      "❌ Batch request failed: The read operation timed out\n",
      "❌ Batch request failed: The read operation timed out\n"
     ]
    }
   ],
   "source": [
    "andrew_watcher = andrew_client.launch_watcher()\n",
    "andrew_inbox_watcher = andrew_client.launch_inbox_watcher()\n",
    "liam_watcher = liam_client.launch_watcher()\n",
    "liam_inbox_watcher = liam_client.launch_inbox_watcher()"
   ]
  },
  {
   "cell_type": "code",
   "execution_count": null,
   "id": "5f8d8fcc-20d3-4389-9f53-0731d88ac07a",
   "metadata": {},
   "outputs": [],
   "source": []
  }
 ],
 "metadata": {
  "kernelspec": {
   "display_name": "Python 3 (ipykernel)",
   "language": "python",
   "name": "python3"
  },
  "language_info": {
   "codemirror_mode": {
    "name": "ipython",
    "version": 3
   },
   "file_extension": ".py",
   "mimetype": "text/x-python",
   "name": "python",
   "nbconvert_exporter": "python",
   "pygments_lexer": "ipython3",
   "version": "3.12.9"
  }
 },
 "nbformat": 4,
 "nbformat_minor": 5
}
