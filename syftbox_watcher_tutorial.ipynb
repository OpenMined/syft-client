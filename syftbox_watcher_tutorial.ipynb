{
 "cells": [
  {
   "cell_type": "markdown",
   "metadata": {},
   "source": [
    "# SyftBox File Watcher Tutorial\n",
    "\n",
    "This tutorial demonstrates how to use the SyftBox file watcher to monitor file changes in your SyftBox directories.\n",
    "\n",
    "## Overview\n",
    "\n",
    "The SyftBox file watcher provides two main components:\n",
    "\n",
    "1. **syftbox_watcher.py** - A standalone REST API service for monitoring multiple SyftBox directories\n",
    "2. **syftbox_monitor.py** - An integrated monitor that works directly with syft_client\n",
    "\n",
    "Both use `syft_serve` to create FastAPI servers that expose file watching functionality."
   ]
  },
  {
   "cell_type": "markdown",
   "metadata": {},
   "source": [
    "## Prerequisites\n",
    "\n",
    "First, let's ensure all dependencies are installed:"
   ]
  },
  {
   "cell_type": "code",
   "execution_count": null,
   "metadata": {},
   "outputs": [],
   "source": [
    "# Install dependencies if needed\n",
    "import subprocess\n",
    "import sys\n",
    "\n",
    "def install_if_missing(package):\n",
    "    try:\n",
    "        __import__(package.replace('-', '_'))\n",
    "    except ImportError:\n",
    "        print(f\"Installing {package}...\")\n",
    "        subprocess.check_call([sys.executable, \"-m\", \"pip\", \"install\", package])\n",
    "\n",
    "# Check for required packages\n",
    "for package in ['watchdog', 'syft-serve', 'requests']:\n",
    "    install_if_missing(package)\n",
    "\n",
    "print(\"✅ All dependencies are installed!\")"
   ]
  },
  {
   "cell_type": "code",
   "execution_count": null,
   "metadata": {},
   "outputs": [],
   "source": [
    "# Import required libraries\n",
    "import syft_client as sc\n",
    "import requests\n",
    "import json\n",
    "import time\n",
    "import subprocess\n",
    "from pathlib import Path\n",
    "import os"
   ]
  },
  {
   "cell_type": "markdown",
   "metadata": {},
   "source": [
    "## Part 1: Setting Up a SyftBox Directory\n",
    "\n",
    "First, let's create a test SyftBox directory to monitor:"
   ]
  },
  {
   "cell_type": "code",
   "execution_count": null,
   "metadata": {},
   "outputs": [],
   "source": [
    "# Create a test SyftBox directory\n",
    "test_email = \"test@example.com\"\n",
    "syftbox_dir = Path.home() / f\"SyftBox_{test_email}\"\n",
    "\n",
    "# Create directory structure\n",
    "syftbox_dir.mkdir(exist_ok=True)\n",
    "(syftbox_dir / \"datasites\").mkdir(exist_ok=True)\n",
    "(syftbox_dir / \"apps\").mkdir(exist_ok=True)\n",
    "\n",
    "print(f\"📁 Created SyftBox directory: {syftbox_dir}\")\n",
    "print(\"\\nDirectory structure:\")\n",
    "for item in syftbox_dir.iterdir():\n",
    "    print(f\"  - {item.name}/\")"
   ]
  },
  {
   "cell_type": "markdown",
   "metadata": {},
   "source": [
    "## Part 2: Using the Standalone File Watcher\n",
    "\n",
    "The standalone watcher provides a REST API for monitoring SyftBox directories. Let's start it in a subprocess:"
   ]
  },
  {
   "cell_type": "code",
   "execution_count": null,
   "metadata": {},
   "outputs": [],
   "source": [
    "# Start the file watcher service in the background\n",
    "import threading\n",
    "\n",
    "watcher_process = None\n",
    "\n",
    "def start_watcher():\n",
    "    global watcher_process\n",
    "    if watcher_process is None:\n",
    "        print(\"🚀 Starting SyftBox File Watcher...\")\n",
    "        watcher_process = subprocess.Popen(\n",
    "            [sys.executable, \"syftbox_watcher.py\"],\n",
    "            stdout=subprocess.PIPE,\n",
    "            stderr=subprocess.PIPE\n",
    "        )\n",
    "        # Give it time to start\n",
    "        time.sleep(3)\n",
    "        print(\"✅ Watcher service started!\")\n",
    "    else:\n",
    "        print(\"⚠️  Watcher already running\")\n",
    "\n",
    "start_watcher()"
   ]
  },
  {
   "cell_type": "markdown",
   "metadata": {},
   "source": [
    "### Listing Available SyftBox Directories"
   ]
  },
  {
   "cell_type": "code",
   "execution_count": null,
   "metadata": {},
   "outputs": [],
   "source": [
    "# List available SyftBox directories\n",
    "response = requests.get(\"http://localhost:8000/list\")\n",
    "data = response.json()\n",
    "\n",
    "print(\"📁 Available SyftBox directories:\")\n",
    "for box in data.get(\"syftboxes\", []):\n",
    "    status = \"👀 watching\" if box[\"is_watching\"] else \"⏸️  not watching\"\n",
    "    print(f\"\\n  Email: {box['email']}\")\n",
    "    print(f\"  Path: {box['path']}\")\n",
    "    print(f\"  Status: {status}\")"
   ]
  },
  {
   "cell_type": "markdown",
   "metadata": {},
   "source": [
    "### Starting File Monitoring"
   ]
  },
  {
   "cell_type": "code",
   "execution_count": null,
   "metadata": {},
   "outputs": [],
   "source": [
    "# Start monitoring the test SyftBox\n",
    "response = requests.post(f\"http://localhost:8000/start/{test_email}\")\n",
    "result = response.json()\n",
    "\n",
    "if result[\"success\"]:\n",
    "    print(f\"✅ {result['message']}\")\n",
    "else:\n",
    "    print(f\"❌ {result['error']}\")"
   ]
  },
  {
   "cell_type": "markdown",
   "metadata": {},
   "source": [
    "### Checking Watcher Status"
   ]
  },
  {
   "cell_type": "code",
   "execution_count": null,
   "metadata": {},
   "outputs": [],
   "source": [
    "# Check current status\n",
    "response = requests.get(\"http://localhost:8000/status\")\n",
    "status = response.json()\n",
    "\n",
    "print(\"📊 Watcher Status:\")\n",
    "print(f\"  Watching: {status['watching']}\")\n",
    "print(f\"  Event count: {status['event_count']}\")\n",
    "print(f\"  Queue size: {status['queue_size']}\")"
   ]
  },
  {
   "cell_type": "markdown",
   "metadata": {},
   "source": [
    "### Creating File Changes and Monitoring Events\n",
    "\n",
    "Let's create some file changes and see how the watcher captures them:"
   ]
  },
  {
   "cell_type": "code",
   "execution_count": null,
   "metadata": {},
   "outputs": [],
   "source": [
    "# Create some test files\n",
    "print(\"📝 Creating test files...\\n\")\n",
    "\n",
    "# Create a data file\n",
    "data_file = syftbox_dir / \"datasites\" / \"test_data.csv\"\n",
    "data_file.write_text(\"id,name,value\\n1,Alice,100\\n2,Bob,200\")\n",
    "print(f\"Created: {data_file.name}\")\n",
    "\n",
    "# Create an app file\n",
    "app_file = syftbox_dir / \"apps\" / \"hello_app.py\"\n",
    "app_file.write_text(\"print('Hello from SyftBox!')\")\n",
    "print(f\"Created: {app_file.name}\")\n",
    "\n",
    "# Modify a file\n",
    "time.sleep(0.5)\n",
    "data_file.write_text(\"id,name,value\\n1,Alice,150\\n2,Bob,250\\n3,Charlie,300\")\n",
    "print(f\"Modified: {data_file.name}\")\n",
    "\n",
    "# Delete a file\n",
    "time.sleep(0.5)\n",
    "temp_file = syftbox_dir / \"temp.txt\"\n",
    "temp_file.write_text(\"temporary file\")\n",
    "print(f\"Created: {temp_file.name}\")\n",
    "time.sleep(0.5)\n",
    "temp_file.unlink()\n",
    "print(f\"Deleted: {temp_file.name}\")"
   ]
  },
  {
   "cell_type": "code",
   "execution_count": null,
   "metadata": {},
   "outputs": [],
   "source": [
    "# Get recent events\n",
    "time.sleep(1)  # Give watcher time to process events\n",
    "\n",
    "response = requests.get(\"http://localhost:8000/events?limit=10\")\n",
    "events = response.json()\n",
    "\n",
    "print(f\"\\n📋 Captured {len(events)} events:\\n\")\n",
    "\n",
    "for event in events:\n",
    "    event_type = event['event_type']\n",
    "    file_name = Path(event['src_path']).name\n",
    "    timestamp = event['timestamp'].split('T')[1].split('.')[0]  # Just time\n",
    "    \n",
    "    icon = {\n",
    "        'created': '➕',\n",
    "        'modified': '✏️',\n",
    "        'deleted': '🗑️',\n",
    "        'moved': '➡️'\n",
    "    }.get(event_type, '❓')\n",
    "    \n",
    "    print(f\"{icon} {event_type.upper()}: {file_name} at {timestamp}\")"
   ]
  },
  {
   "cell_type": "markdown",
   "metadata": {},
   "source": [
    "### Filtering Events by Time"
   ]
  },
  {
   "cell_type": "code",
   "execution_count": null,
   "metadata": {},
   "outputs": [],
   "source": [
    "# Get events from the last 5 seconds\n",
    "from datetime import datetime, timedelta\n",
    "\n",
    "since = (datetime.now() - timedelta(seconds=5)).isoformat()\n",
    "response = requests.get(f\"http://localhost:8000/events?since={since}\")\n",
    "recent_events = response.json()\n",
    "\n",
    "print(f\"📋 Events from last 5 seconds: {len(recent_events)}\")\n",
    "for event in recent_events:\n",
    "    print(f\"  - {event['event_type']}: {Path(event['src_path']).name}\")"
   ]
  },
  {
   "cell_type": "markdown",
   "metadata": {},
   "source": [
    "### Stopping the Watcher"
   ]
  },
  {
   "cell_type": "code",
   "execution_count": null,
   "metadata": {},
   "outputs": [],
   "source": [
    "# Stop watching\n",
    "response = requests.post(f\"http://localhost:8000/stop/{test_email}\")\n",
    "result = response.json()\n",
    "\n",
    "if result[\"success\"]:\n",
    "    print(f\"✅ {result['message']}\")\n",
    "else:\n",
    "    print(f\"❌ {result['error']}\")"
   ]
  },
  {
   "cell_type": "markdown",
   "metadata": {},
   "source": [
    "## Part 3: Using the Integrated Monitor\n",
    "\n",
    "The integrated monitor works directly with syft_client and supports custom callbacks. Let's explore how to use it:"
   ]
  },
  {
   "cell_type": "code",
   "execution_count": null,
   "metadata": {},
   "outputs": [],
   "source": [
    "# Import the monitor components\n",
    "from syftbox_monitor import SyftBoxMonitor\n",
    "from pathlib import Path\n",
    "from watchdog.events import FileSystemEvent"
   ]
  },
  {
   "cell_type": "markdown",
   "metadata": {},
   "source": [
    "### Creating Custom Callbacks\n",
    "\n",
    "Let's create some custom callbacks to handle file events:"
   ]
  },
  {
   "cell_type": "code",
   "execution_count": null,
   "metadata": {},
   "outputs": [],
   "source": [
    "# Define custom callbacks\n",
    "event_log = []\n",
    "\n",
    "def log_event(client: sc.GDriveUnifiedClient, event: FileSystemEvent):\n",
    "    \"\"\"Log all events to a list\"\"\"\n",
    "    event_data = {\n",
    "        'type': event.event_type,\n",
    "        'path': Path(event.src_path).name,\n",
    "        'time': time.strftime(\"%H:%M:%S\")\n",
    "    }\n",
    "    event_log.append(event_data)\n",
    "    print(f\"📝 Logged: {event_data['type']} - {event_data['path']}\")\n",
    "\n",
    "def notify_csv_changes(client: sc.GDriveUnifiedClient, event: FileSystemEvent):\n",
    "    \"\"\"Special handler for CSV files\"\"\"\n",
    "    file_path = Path(event.src_path)\n",
    "    if file_path.suffix == '.csv':\n",
    "        print(f\"📊 CSV Alert: {file_path.name} was {event.event_type}!\")\n",
    "\n",
    "def auto_backup(client: sc.GDriveUnifiedClient, event: FileSystemEvent):\n",
    "    \"\"\"Auto-backup important files\"\"\"\n",
    "    file_path = Path(event.src_path)\n",
    "    \n",
    "    # Only backup specific file types\n",
    "    important_extensions = ['.csv', '.json', '.yaml', '.txt']\n",
    "    if file_path.suffix in important_extensions and file_path.exists():\n",
    "        backup_dir = file_path.parent / \"backups\"\n",
    "        backup_dir.mkdir(exist_ok=True)\n",
    "        \n",
    "        timestamp = time.strftime(\"%Y%m%d_%H%M%S\")\n",
    "        backup_path = backup_dir / f\"{file_path.stem}_{timestamp}{file_path.suffix}\"\n",
    "        \n",
    "        import shutil\n",
    "        shutil.copy2(file_path, backup_path)\n",
    "        print(f\"💾 Backed up: {file_path.name} → {backup_path.name}\")"
   ]
  },
  {
   "cell_type": "markdown",
   "metadata": {},
   "source": [
    "### Setting Up the Monitor"
   ]
  },
  {
   "cell_type": "code",
   "execution_count": null,
   "metadata": {},
   "outputs": [],
   "source": [
    "# Create a mock client for demonstration\n",
    "# In real usage, you'd use: client = sc.create_gdrive_client(\"your@email.com\")\n",
    "client = sc.GDriveUnifiedClient(email=test_email)\n",
    "client.my_email = test_email\n",
    "client.authenticated = True\n",
    "client.local_syftbox_dir = syftbox_dir\n",
    "\n",
    "# Create monitor\n",
    "monitor = SyftBoxMonitor(client)\n",
    "\n",
    "# Register callbacks\n",
    "monitor.register_callback('created', log_event)\n",
    "monitor.register_callback('modified', log_event)\n",
    "monitor.register_callback('deleted', log_event)\n",
    "monitor.register_callback('modified', notify_csv_changes)\n",
    "monitor.register_callback('created', auto_backup)\n",
    "monitor.register_callback('modified', auto_backup)\n",
    "\n",
    "print(\"✅ Monitor configured with callbacks\")"
   ]
  },
  {
   "cell_type": "code",
   "execution_count": null,
   "metadata": {},
   "outputs": [],
   "source": [
    "# Start monitoring\n",
    "monitor.start()\n",
    "print(\"\\n👀 Monitor is running! Let's test it...\")"
   ]
  },
  {
   "cell_type": "markdown",
   "metadata": {},
   "source": [
    "### Testing the Monitor with File Operations"
   ]
  },
  {
   "cell_type": "code",
   "execution_count": null,
   "metadata": {},
   "outputs": [],
   "source": [
    "# Create and modify files to trigger callbacks\n",
    "print(\"\\n🧪 Testing file operations...\\n\")\n",
    "\n",
    "# Test 1: Create a CSV file\n",
    "test_csv = syftbox_dir / \"datasites\" / \"metrics.csv\"\n",
    "test_csv.write_text(\"metric,value\\naccuracy,0.95\\nprecision,0.92\")\n",
    "time.sleep(0.5)\n",
    "\n",
    "# Test 2: Modify the CSV\n",
    "test_csv.write_text(\"metric,value\\naccuracy,0.96\\nprecision,0.93\\nrecall,0.91\")\n",
    "time.sleep(0.5)\n",
    "\n",
    "# Test 3: Create a JSON file\n",
    "test_json = syftbox_dir / \"apps\" / \"config.json\"\n",
    "test_json.write_text(json.dumps({\"version\": \"1.0\", \"debug\": True}, indent=2))\n",
    "time.sleep(0.5)\n",
    "\n",
    "# Test 4: Create and delete a temp file\n",
    "temp_file = syftbox_dir / \"temp_file.tmp\"\n",
    "temp_file.write_text(\"temporary\")\n",
    "time.sleep(0.5)\n",
    "temp_file.unlink()\n",
    "time.sleep(0.5)"
   ]
  },
  {
   "cell_type": "code",
   "execution_count": null,
   "metadata": {},
   "outputs": [],
   "source": [
    "# Check the event log\n",
    "print(\"\\n📋 Event Log Summary:\")\n",
    "print(f\"Total events captured: {len(event_log)}\\n\")\n",
    "\n",
    "for event in event_log[-10:]:  # Show last 10 events\n",
    "    print(f\"  [{event['time']}] {event['type']:10} - {event['path']}\")"
   ]
  },
  {
   "cell_type": "code",
   "execution_count": null,
   "metadata": {},
   "outputs": [],
   "source": [
    "# Check backup directory\n",
    "backup_dir = syftbox_dir / \"datasites\" / \"backups\"\n",
    "if backup_dir.exists():\n",
    "    print(\"\\n💾 Backup Directory Contents:\")\n",
    "    for backup in sorted(backup_dir.iterdir()):\n",
    "        print(f\"  - {backup.name} ({backup.stat().st_size} bytes)\")\n",
    "else:\n",
    "    print(\"\\n💾 No backups created yet\")"
   ]
  },
  {
   "cell_type": "code",
   "execution_count": null,
   "metadata": {},
   "outputs": [],
   "source": [
    "# Stop the monitor\n",
    "monitor.stop()"
   ]
  },
  {
   "cell_type": "markdown",
   "metadata": {},
   "source": [
    "## Part 4: Practical Use Cases\n",
    "\n",
    "Here are some practical examples of how to use the file watcher:"
   ]
  },
  {
   "cell_type": "markdown",
   "metadata": {},
   "source": [
    "### Use Case 1: Auto-sync to Google Drive\n",
    "\n",
    "This example shows how to automatically sync files to Google Drive when they're added or modified:"
   ]
  },
  {
   "cell_type": "code",
   "execution_count": null,
   "metadata": {},
   "outputs": [],
   "source": [
    "def create_gdrive_sync_callback(sync_folder_id: str = None):\n",
    "    \"\"\"Create a callback that syncs files to Google Drive\"\"\"\n",
    "    \n",
    "    def sync_to_gdrive(client: sc.GDriveUnifiedClient, event: FileSystemEvent):\n",
    "        file_path = Path(event.src_path)\n",
    "        \n",
    "        # Skip hidden files, temp files, and backups\n",
    "        if (file_path.name.startswith('.') or \n",
    "            file_path.suffix == '.tmp' or\n",
    "            'backups' in file_path.parts):\n",
    "            return\n",
    "        \n",
    "        # Get relative path from SyftBox root\n",
    "        syftbox_dir = client.get_syftbox_directory()\n",
    "        rel_path = file_path.relative_to(syftbox_dir)\n",
    "        \n",
    "        print(f\"\\n📤 Syncing to GDrive: {rel_path}\")\n",
    "        \n",
    "        # In a real implementation, you would:\n",
    "        # 1. Create folder structure in GDrive if needed\n",
    "        # 2. Upload the file using client._upload_file()\n",
    "        # 3. Handle conflicts and versioning\n",
    "        \n",
    "        # For demo, just show what would be done\n",
    "        print(f\"   Would upload: {file_path.name}\")\n",
    "        print(f\"   To folder: SyftBox/{rel_path.parent}\")\n",
    "        print(f\"   Size: {file_path.stat().st_size} bytes\")\n",
    "    \n",
    "    return sync_to_gdrive\n",
    "\n",
    "# Example usage:\n",
    "# monitor.register_callback('created', create_gdrive_sync_callback())\n",
    "# monitor.register_callback('modified', create_gdrive_sync_callback())"
   ]
  },
  {
   "cell_type": "markdown",
   "metadata": {},
   "source": [
    "### Use Case 2: Data Validation Pipeline\n",
    "\n",
    "Automatically validate data files when they're added or modified:"
   ]
  },
  {
   "cell_type": "code",
   "execution_count": null,
   "metadata": {},
   "outputs": [],
   "source": [
    "def create_data_validator(rules: dict):\n",
    "    \"\"\"Create a callback that validates data files based on rules\"\"\"\n",
    "    \n",
    "    def validate_data(client: sc.GDriveUnifiedClient, event: FileSystemEvent):\n",
    "        file_path = Path(event.src_path)\n",
    "        \n",
    "        # Only validate CSV files in datasites\n",
    "        if file_path.suffix != '.csv' or 'datasites' not in file_path.parts:\n",
    "            return\n",
    "        \n",
    "        print(f\"\\n🔍 Validating: {file_path.name}\")\n",
    "        \n",
    "        try:\n",
    "            import pandas as pd\n",
    "            df = pd.read_csv(file_path)\n",
    "            \n",
    "            # Check rules\n",
    "            issues = []\n",
    "            \n",
    "            # Example rules\n",
    "            if 'required_columns' in rules:\n",
    "                missing = set(rules['required_columns']) - set(df.columns)\n",
    "                if missing:\n",
    "                    issues.append(f\"Missing columns: {missing}\")\n",
    "            \n",
    "            if 'max_rows' in rules and len(df) > rules['max_rows']:\n",
    "                issues.append(f\"Too many rows: {len(df)} > {rules['max_rows']}\")\n",
    "            \n",
    "            if issues:\n",
    "                print(\"   ❌ Validation failed:\")\n",
    "                for issue in issues:\n",
    "                    print(f\"      - {issue}\")\n",
    "            else:\n",
    "                print(\"   ✅ Validation passed!\")\n",
    "                \n",
    "        except Exception as e:\n",
    "            print(f\"   ❌ Error reading file: {e}\")\n",
    "    \n",
    "    return validate_data\n",
    "\n",
    "# Example usage:\n",
    "# validation_rules = {\n",
    "#     'required_columns': ['id', 'name', 'value'],\n",
    "#     'max_rows': 10000\n",
    "# }\n",
    "# monitor.register_callback('created', create_data_validator(validation_rules))\n",
    "# monitor.register_callback('modified', create_data_validator(validation_rules))"
   ]
  },
  {
   "cell_type": "markdown",
   "metadata": {},
   "source": [
    "### Use Case 3: Activity Dashboard\n",
    "\n",
    "Create a simple activity dashboard that tracks file operations:"
   ]
  },
  {
   "cell_type": "code",
   "execution_count": null,
   "metadata": {},
   "outputs": [],
   "source": [
    "from collections import defaultdict\n",
    "from datetime import datetime\n",
    "\n",
    "class ActivityDashboard:\n",
    "    def __init__(self):\n",
    "        self.stats = defaultdict(int)\n",
    "        self.recent_events = []\n",
    "        self.start_time = datetime.now()\n",
    "    \n",
    "    def track_event(self, client: sc.GDriveUnifiedClient, event: FileSystemEvent):\n",
    "        \"\"\"Track file system events for dashboard\"\"\"\n",
    "        file_path = Path(event.src_path)\n",
    "        \n",
    "        # Update stats\n",
    "        self.stats[event.event_type] += 1\n",
    "        self.stats[f\"ext_{file_path.suffix}\"] += 1\n",
    "        \n",
    "        # Track recent events\n",
    "        self.recent_events.append({\n",
    "            'time': datetime.now(),\n",
    "            'type': event.event_type,\n",
    "            'file': file_path.name,\n",
    "            'size': file_path.stat().st_size if file_path.exists() else 0\n",
    "        })\n",
    "        \n",
    "        # Keep only last 100 events\n",
    "        self.recent_events = self.recent_events[-100:]\n",
    "    \n",
    "    def show_dashboard(self):\n",
    "        \"\"\"Display activity dashboard\"\"\"\n",
    "        runtime = (datetime.now() - self.start_time).total_seconds()\n",
    "        \n",
    "        print(\"\\n📊 SyftBox Activity Dashboard\")\n",
    "        print(\"=\" * 40)\n",
    "        print(f\"Runtime: {runtime:.0f} seconds\\n\")\n",
    "        \n",
    "        print(\"Event Types:\")\n",
    "        for event_type in ['created', 'modified', 'deleted', 'moved']:\n",
    "            count = self.stats.get(event_type, 0)\n",
    "            print(f\"  {event_type.capitalize():10} : {count}\")\n",
    "        \n",
    "        print(\"\\nFile Types:\")\n",
    "        for key, count in sorted(self.stats.items()):\n",
    "            if key.startswith('ext_') and count > 0:\n",
    "                ext = key.replace('ext_', '') or 'no extension'\n",
    "                print(f\"  {ext:10} : {count}\")\n",
    "        \n",
    "        print(\"\\nRecent Activity (last 5):\")\n",
    "        for event in self.recent_events[-5:]:\n",
    "            time_str = event['time'].strftime(\"%H:%M:%S\")\n",
    "            print(f\"  [{time_str}] {event['type']:8} - {event['file']}\")\n",
    "\n",
    "# Example usage:\n",
    "dashboard = ActivityDashboard()\n",
    "\n",
    "# Would register like this:\n",
    "# for event_type in ['created', 'modified', 'deleted', 'moved']:\n",
    "#     monitor.register_callback(event_type, dashboard.track_event)\n",
    "\n",
    "# Then periodically: dashboard.show_dashboard()"
   ]
  },
  {
   "cell_type": "markdown",
   "metadata": {},
   "source": [
    "## Part 5: Cleanup\n",
    "\n",
    "Let's clean up the test environment:"
   ]
  },
  {
   "cell_type": "code",
   "execution_count": null,
   "metadata": {},
   "outputs": [],
   "source": [
    "# Stop the watcher service\n",
    "if watcher_process:\n",
    "    print(\"🛑 Stopping file watcher service...\")\n",
    "    watcher_process.terminate()\n",
    "    watcher_process.wait()\n",
    "    watcher_process = None\n",
    "    print(\"✅ Service stopped\")\n",
    "\n",
    "# Clean up test directory\n",
    "import shutil\n",
    "if syftbox_dir.exists():\n",
    "    print(f\"\\n🧹 Cleaning up {syftbox_dir}...\")\n",
    "    shutil.rmtree(syftbox_dir)\n",
    "    print(\"✅ Cleanup complete\")"
   ]
  },
  {
   "cell_type": "markdown",
   "metadata": {},
   "source": [
    "## Summary\n",
    "\n",
    "In this tutorial, we've learned how to:\n",
    "\n",
    "1. **Use the Standalone File Watcher**\n",
    "   - Start/stop monitoring SyftBox directories\n",
    "   - Query file events via REST API\n",
    "   - Filter events by time\n",
    "\n",
    "2. **Use the Integrated Monitor**\n",
    "   - Create custom callbacks for different event types\n",
    "   - Implement auto-backup functionality\n",
    "   - Handle specific file types differently\n",
    "\n",
    "3. **Implement Practical Use Cases**\n",
    "   - Auto-sync to Google Drive\n",
    "   - Data validation pipelines\n",
    "   - Activity tracking dashboards\n",
    "\n",
    "The file watcher provides a flexible foundation for building automated workflows around your SyftBox files. You can extend it with custom callbacks to implement any file-based automation you need.\n",
    "\n",
    "### Next Steps\n",
    "\n",
    "- Integrate the file watcher with your syft_client workflows\n",
    "- Create custom callbacks for your specific use cases\n",
    "- Build automated data pipelines using file events\n",
    "- Implement two-way sync with cloud storage providers"
   ]
  }
 ],
 "metadata": {
  "kernelspec": {
   "display_name": "Python 3",
   "language": "python",
   "name": "python3"
  },
  "language_info": {
   "codemirror_mode": {
    "name": "ipython",
    "version": 3
   },
   "file_extension": ".py",
   "mimetype": "text/x-python",
   "name": "python",
   "nbconvert_exporter": "python",
   "pygments_lexer": "ipython3",
   "version": "3.8.0"
  }
 },
 "nbformat": 4,
 "nbformat_minor": 4
}