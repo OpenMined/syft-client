{
 "cells": [
  {
   "cell_type": "markdown",
   "id": "0",
   "metadata": {},
   "source": [
    "# Checkpoint 0: Absolute Zero (Bare Metal)\n",
    "User has:\n",
    "\n",
    "- No Python installed\n",
    "- No Jupyter Notebook installed\n",
    "- No Google Cloud account\n",
    "- No OAuth credentials\n",
    "- No API libraries installed\n",
    "- No understanding of Google API setup"
   ]
  },
  {
   "cell_type": "markdown",
   "id": "1",
   "metadata": {},
   "source": [
    "### Phase 1: Install Python & Jupyter"
   ]
  },
  {
   "cell_type": "markdown",
   "id": "2",
   "metadata": {},
   "source": [
    "Step 1: Install Python\n",
    "\n",
    "- Download Python from python.org (3.12 or higher)\n",
    "- Run installer\n",
    "- Verify installation:"
   ]
  },
  {
   "cell_type": "code",
   "execution_count": null,
   "id": "3",
   "metadata": {},
   "outputs": [],
   "source": [
    "## Install python via the official link (https://www.python.org/downloads/)\n",
    "\n",
    "## Python is installed already here "
   ]
  },
  {
   "cell_type": "markdown",
   "id": "4",
   "metadata": {},
   "source": [
    "Step 2: Install Jupyter Notebook"
   ]
  },
  {
   "cell_type": "code",
   "execution_count": null,
   "id": "5",
   "metadata": {},
   "outputs": [],
   "source": [
    "# pip install notebook\n",
    "## Jupyter Notebook is installed already here"
   ]
  },
  {
   "cell_type": "markdown",
   "id": "6",
   "metadata": {},
   "source": [
    "Step 3: Launch Jupyter Notebook\n",
    "\n",
    "- Open a terminal\n",
    "- Run the command: jupyter notebook\n",
    "- A new tab will open in your web browser\n"
   ]
  },
  {
   "cell_type": "markdown",
   "id": "7",
   "metadata": {},
   "source": []
  },
  {
   "cell_type": "code",
   "execution_count": null,
   "id": "8",
   "metadata": {},
   "outputs": [],
   "source": [
    "# jupyter notebook\n",
    "\n"
   ]
  },
  {
   "cell_type": "markdown",
   "id": "9",
   "metadata": {},
   "source": [
    "### Phase 2: Create Google Cloud Account & Project\n"
   ]
  },
  {
   "cell_type": "markdown",
   "id": "10",
   "metadata": {},
   "source": [
    "Step 4: Create Google Account (if user doesn't have one)\n",
    "\n",
    "Go to accounts.google.com\n",
    "Sign up for Google account"
   ]
  },
  {
   "cell_type": "markdown",
   "id": "11",
   "metadata": {},
   "source": [
    "TODO: Add screenshots later"
   ]
  },
  {
   "cell_type": "markdown",
   "id": "12",
   "metadata": {},
   "source": [
    "Step 5: Go to Google Cloud Console\n",
    "\n",
    "Navigate to console.cloud.google.com\n",
    "Sign in with Google account"
   ]
  },
  {
   "cell_type": "markdown",
   "id": "13",
   "metadata": {},
   "source": [
    "Step 6: Accept Terms of Service\n",
    "\n",
    "Read and accept GCP terms\n"
   ]
  },
  {
   "cell_type": "markdown",
   "id": "14",
   "metadata": {},
   "source": [
    "Step 7: Set Up Billing (required for API access)\n",
    "\n",
    "- Click \"Billing\" in navigation\n",
    "- Add payment method\n",
    "- Create billing account"
   ]
  },
  {
   "cell_type": "markdown",
   "id": "15",
   "metadata": {},
   "source": [
    "Step 8: Create New Project\n",
    "\n",
    "- Click \"Select a project\" dropdown\n",
    "- Click \"New Project\"\n",
    "- Enter project name (e.g., \"gcp-auth-syft-client\")\n",
    "- Click \"Create\"\n",
    "- Wait for project creation confirmation"
   ]
  },
  {
   "cell_type": "markdown",
   "id": "16",
   "metadata": {},
   "source": [
    "### Phase 3: Enable APIs\n"
   ]
  },
  {
   "cell_type": "markdown",
   "id": "17",
   "metadata": {},
   "source": [
    "Step 9: Enable Gmail API\n",
    "\n",
    "- In GCP Console, go to \"APIs & Services\" > \"Library\"\n",
    "- Search for \"Gmail API\"\n",
    "- Click on it\n",
    "- Click \"Enable\"\n",
    "- Wait for activation"
   ]
  },
  {
   "cell_type": "markdown",
   "id": "18",
   "metadata": {},
   "source": [
    "Step 10: Enable Google Sheets API\n",
    "\n",
    "- Return to API Library\n",
    "- Search for \"Google Sheets API\"\n",
    "- Click \"Enable\""
   ]
  },
  {
   "cell_type": "markdown",
   "id": "19",
   "metadata": {},
   "source": [
    "Step 11: Enable Google Drive API\n",
    "\n",
    "- Return to API Library\n",
    "- Search for \"Google Drive API\"\n",
    "- Click \"Enable\""
   ]
  },
  {
   "cell_type": "markdown",
   "id": "20",
   "metadata": {},
   "source": [
    "Step 12: Enable Google Forms API\n",
    "\n",
    "- Return to API Library\n",
    "- Search for \"Google Forms API\"\n",
    "- Click \"Enable\""
   ]
  },
  {
   "cell_type": "markdown",
   "id": "21",
   "metadata": {},
   "source": [
    "### Phase 4: Configure OAuth Consent Screen (We can skip this step, depending on the use case)\n"
   ]
  },
  {
   "cell_type": "markdown",
   "id": "22",
   "metadata": {},
   "source": [
    "Step 13: Configure OAuth Consent Screen\n",
    "\n",
    "- Go to \"APIs & Services\" > \"OAuth consent screen\"\n",
    "- Choose (\"External\" if it's for public use and \"Internal\" for organization use)\n",
    "- Click \"Create\""
   ]
  },
  {
   "cell_type": "markdown",
   "id": "23",
   "metadata": {},
   "source": [
    "Step 14: Fill Out App Information\n",
    "\n",
    "- App name: (e.g., \"My Syft Client App\")\n",
    "- User support email: (your email)\n",
    "- Developer contact: (your email)\n",
    "- Click \"Save and Continue\""
   ]
  },
  {
   "cell_type": "markdown",
   "id": "24",
   "metadata": {},
   "source": [
    "Step 15: Add Scopes\n",
    "\n",
    "- Click \"Data Access\"\n",
    "- Click \"Add or Remove Scopes\"\n",
    "- Search and add:\n",
    "\n",
    "- >https://www.googleapis.com/auth/gmail.readonly\n",
    "- >https://www.googleapis.com/auth/spreadsheets\n",
    "- >https://www.googleapis.com/auth/drive\n",
    "- >https://www.googleapis.com/auth/forms.body\n",
    "\n",
    "\n",
    "Click \"Update\"\n",
    "Click \"Save and Continue\""
   ]
  },
  {
   "cell_type": "markdown",
   "id": "25",
   "metadata": {},
   "source": [
    "### Phase 5: Create OAuth Credentials\n"
   ]
  },
  {
   "cell_type": "markdown",
   "id": "26",
   "metadata": {},
   "source": [
    "Step 16: Create OAuth 2.0 Client ID\n",
    "\n",
    "- Go to \"APIs & Services\" > \"Credentials\"\n",
    "- Click \"Create Credentials\"\n",
    "- Select \"OAuth client ID\""
   ]
  },
  {
   "cell_type": "markdown",
   "id": "27",
   "metadata": {},
   "source": [
    "Step 17: Configure OAuth Client\n",
    "\n",
    "- Application type: \"Desktop app\"\n",
    "- Name: \"Syft Client Jupyter\"\n",
    "- Click \"Create\""
   ]
  },
  {
   "cell_type": "markdown",
   "id": "28",
   "metadata": {},
   "source": [
    "Step 18: Download Credentials\n",
    "\n",
    "- In the popup, click \"Download JSON\"\n",
    "- Save as credentials.json/anything you can remember\n",
    "- Store in a secure location (would be needed later)"
   ]
  },
  {
   "cell_type": "markdown",
   "id": "29",
   "metadata": {},
   "source": [
    "### Phase 6: Install Required Python Libraries\n"
   ]
  },
  {
   "cell_type": "markdown",
   "id": "30",
   "metadata": {},
   "source": [
    "Step 19: Install Google API Libraries\n",
    "In your Jupyter notebook or terminal:"
   ]
  },
  {
   "cell_type": "code",
   "execution_count": null,
   "id": "31",
   "metadata": {},
   "outputs": [],
   "source": [
    "%pip install --upgrade google-auth google-auth-oauthlib google-auth-httplib2 google-api-python-client"
   ]
  },
  {
   "cell_type": "markdown",
   "id": "32",
   "metadata": {},
   "source": [
    "### Phase 7: Authentication\n"
   ]
  },
  {
   "cell_type": "markdown",
   "id": "33",
   "metadata": {},
   "source": [
    "Pre-requsites code for authentication:"
   ]
  },
  {
   "cell_type": "code",
   "execution_count": null,
   "id": "34",
   "metadata": {},
   "outputs": [],
   "source": [
    "import os\n",
    "import pickle\n",
    "from google.auth.transport.requests import Request\n",
    "from google.oauth2.credentials import Credentials\n",
    "from google_auth_oauthlib.flow import InstalledAppFlow\n",
    "from googleapiclient.discovery import build\n",
    "from googleapiclient.errors import HttpError\n",
    "\n",
    "\n",
    "\n",
    "# Define the scopes for all four APIs\n",
    "SCOPES = [\n",
    "    'https://www.googleapis.com/auth/gmail.readonly',\n",
    "    'https://www.googleapis.com/auth/spreadsheets',\n",
    "    'https://www.googleapis.com/auth/drive',\n",
    "    'https://www.googleapis.com/auth/forms.body'\n",
    "]\n",
    "\n",
    "\n",
    "def authenticate_google_apis():\n",
    "    \"\"\"Authenticate and return credentials for Google APIs\"\"\"\n",
    "    creds = None\n",
    "    \n",
    "    # Token.pickle stores the user's access and refresh tokens\n",
    "    if os.path.exists('token.pickle'):\n",
    "        with open('token.pickle', 'rb') as token:\n",
    "            creds = pickle.load(token)\n",
    "    \n",
    "    # If no valid credentials, let user log in\n",
    "    if not creds or not creds.valid:\n",
    "        if creds and creds.expired and creds.refresh_token:\n",
    "            creds.refresh(Request())\n",
    "        else:\n",
    "            flow = InstalledAppFlow.from_client_secrets_file(\n",
    "                'credentials.json', SCOPES)\n",
    "            creds = flow.run_local_server(port=0)\n",
    "        \n",
    "        # Save credentials for next run\n",
    "        with open('token.pickle', 'wb') as token:\n",
    "            pickle.dump(creds, token)\n",
    "    \n",
    "    return creds\n"
   ]
  },
  {
   "cell_type": "markdown",
   "id": "35",
   "metadata": {},
   "source": [
    "Step 20:Authenticate"
   ]
  },
  {
   "cell_type": "code",
   "execution_count": null,
   "id": "36",
   "metadata": {},
   "outputs": [],
   "source": [
    "# Run authentication\n",
    "creds = authenticate_google_apis()\n",
    "print(\"Authentication successful!\")"
   ]
  },
  {
   "cell_type": "markdown",
   "id": "37",
   "metadata": {},
   "source": [
    "Step 21: Create Gmail Service"
   ]
  },
  {
   "cell_type": "code",
   "execution_count": null,
   "id": "38",
   "metadata": {},
   "outputs": [],
   "source": [
    "gmail_service = build('gmail', 'v1', credentials=creds)\n",
    "print(\"Gmail service created\")"
   ]
  },
  {
   "cell_type": "markdown",
   "id": "39",
   "metadata": {},
   "source": [
    "Step 22: Create Google Sheets Service"
   ]
  },
  {
   "cell_type": "code",
   "execution_count": null,
   "id": "40",
   "metadata": {},
   "outputs": [],
   "source": [
    "sheets_service = build('sheets', 'v4', credentials=creds)\n",
    "print(\"Sheets service created\")"
   ]
  },
  {
   "cell_type": "markdown",
   "id": "41",
   "metadata": {},
   "source": [
    "Step 23: Create Drive Service"
   ]
  },
  {
   "cell_type": "code",
   "execution_count": null,
   "id": "42",
   "metadata": {},
   "outputs": [],
   "source": [
    "drive_service = build('drive', 'v3', credentials=creds)\n",
    "print(\"Drive service created\")"
   ]
  },
  {
   "cell_type": "markdown",
   "id": "43",
   "metadata": {},
   "source": [
    "Step 24: Create Forms Service"
   ]
  },
  {
   "cell_type": "code",
   "execution_count": null,
   "id": "44",
   "metadata": {},
   "outputs": [],
   "source": [
    "forms_service = build('forms', 'v1', credentials=creds)\n",
    "print(\"Forms service created\")"
   ]
  },
  {
   "cell_type": "markdown",
   "id": "45",
   "metadata": {},
   "source": [
    "### Phase 8: Verification & Testing (This is not a part of checkpoint zero,just verification)"
   ]
  },
  {
   "cell_type": "code",
   "execution_count": null,
   "id": "46",
   "metadata": {},
   "outputs": [],
   "source": [
    "### Test the services by making simple API calls\n",
    "# Test Gmail API\n",
    "try:\n",
    "    results = gmail_service.users().labels().list(userId='me').execute()\n",
    "    labels = results.get('labels', [])\n",
    "    print(\"Gmail Labels:\")\n",
    "    for label in labels:\n",
    "        print(f\"- {label['name']}\")\n",
    "except HttpError as error:\n",
    "    print(f\"An error occurred: {error}\")    \n",
    "# Test Sheets API\n",
    "try:\n",
    "    spreadsheet = sheets_service.spreadsheets().create(body={\n",
    "        'properties': {'title': 'Test Spreadsheet'}\n",
    "    }).execute()\n",
    "    print(f\"Spreadsheet created with ID: {spreadsheet['spreadsheetId']}\")\n",
    "except HttpError as error:\n",
    "    print(f\"An error occurred: {error}\")\n",
    "# Test Drive API\n",
    "try:\n",
    "    file_metadata = {'name': 'Test Document', 'mimeType': 'application/vnd.google-apps.document'}\n",
    "    file = drive_service.files().create(body=file_metadata, fields='id').execute()\n",
    "    print(f\"File created with ID: {file.get('id')}\")\n",
    "except HttpError as error:\n",
    "    print(f\"An error occurred: {error}\")\n",
    "# Test Forms API\n",
    "try:\n",
    "    form = forms_service.forms().create(body={\n",
    "        'info': {'title': 'Test Form'}\n",
    "    }).execute()\n",
    "    print(f\"Form created with ID: {form['formId']}\")\n",
    "except HttpError as error:\n",
    "    print(f\"An error occurred: {error}\")            "
   ]
  },
  {
   "cell_type": "markdown",
   "id": "47",
   "metadata": {},
   "source": [
    "## Major findings\n",
    "It takes a significant amount of time and multiple steps to set up Google Cloud APIs from absolute zero. The process involves creating a Google account, setting up a GCP project, enabling APIs, configuring OAuth consent, creating credentials, and installing necessary libraries. Each step requires careful attention to detail to ensure proper configuration and access.\n",
    "\n",
    "Total Steps: 24"
   ]
  },
  {
   "cell_type": "markdown",
   "id": "48",
   "metadata": {},
   "source": [
    "# Optimizations & Improvements\n",
    "\n",
    "Question? \n",
    "\n",
    "- How can we simplify the GCP setup process for new users?\n",
    "- Is it possible to do a one-click setup for GCP, API enabling, and OAuth configuration, credentials generation, and installation of required libraries, authentication in one go?\n",
    "- What steps MUST be done manually(i.e has no way to automate it), and which can be automated?\n",
    "- How far can the google-cloud-sdk help in automating this process?\n",
    "- If the user has their VM on GCP already, how much of the process can be skipped or automated?\n",
    "- How do we manage credentials securely in an automated setup?\n",
    "- Can we use secret manager on GCP to store and retrieve OAuth credentials securely during the setup process?"
   ]
  },
  {
   "cell_type": "markdown",
   "id": "49",
   "metadata": {},
   "source": [
    "# PART 2"
   ]
  },
  {
   "cell_type": "markdown",
   "id": "50",
   "metadata": {},
   "source": [
    "Baseline\n",
    "\n",
    "- GCP project created (manual)\n",
    "- Billing account set up (manual)\n",
    "- OAuth consent screen configured (manual)\n",
    "- OAUTH credentials created and downloaded (manual)--> investigating if we can use iap. If possible we can skip this step"
   ]
  },
  {
   "cell_type": "code",
   "execution_count": null,
   "id": "51",
   "metadata": {},
   "outputs": [],
   "source": [
    "import sys\n",
    "sys.path.append('/home/azureuser/dev/syft-client')\n",
    "from transport_layers_solutions.syft_gcp import GCPTransport"
   ]
  },
  {
   "cell_type": "code",
   "execution_count": null,
   "id": "52",
   "metadata": {},
   "outputs": [],
   "source": [
    "from transport_layers_solutions.syft_gcp import GCPTransport\n",
    "gcp = GCPTransport(\"gdrive-syft-client\")\n"
   ]
  },
  {
   "cell_type": "code",
   "execution_count": null,
   "id": "53",
   "metadata": {},
   "outputs": [],
   "source": [
    "gcp.connect()"
   ]
  },
  {
   "cell_type": "markdown",
   "id": "54",
   "metadata": {},
   "source": [
    "Now we have 6 manual steps instead of 24.\n",
    "\n",
    "\n",
    "\n",
    "credentials.json is stored in Keyring. \n",
    "\n",
    "Now we are testing locally if the setup is working as expected.\n",
    "\n",
    "When we move the notebook in a GCP VM, we might use workload identity federation to skip the manual OAuth credentials creation and download step.\n"
   ]
  },
  {
   "cell_type": "markdown",
   "id": "55",
   "metadata": {},
   "source": []
  }
 ],
 "metadata": {
  "kernelspec": {
   "display_name": "Python 3",
   "language": "python",
   "name": "python3"
  },
  "language_info": {
   "codemirror_mode": {
    "name": "ipython",
    "version": 3
   },
   "file_extension": ".py",
   "mimetype": "text/x-python",
   "name": "python",
   "nbconvert_exporter": "python",
   "pygments_lexer": "ipython3",
   "version": "3.10.12"
  }
 },
 "nbformat": 4,
 "nbformat_minor": 5
}
