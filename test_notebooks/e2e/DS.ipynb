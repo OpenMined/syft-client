{
 "cells": [
  {
   "cell_type": "code",
   "execution_count": null,
   "id": "0",
   "metadata": {},
   "outputs": [],
   "source": [
    "import sys\n",
    "sys.path.insert(0, '../..')\n",
    "import syft_client as sc\n",
    "import syft_serve as ss\n",
    "from pathlib import Path"
   ]
  },
  {
   "cell_type": "code",
   "execution_count": null,
   "id": "1",
   "metadata": {},
   "outputs": [],
   "source": [
    "ss.terminate_all()"
   ]
  },
  {
   "cell_type": "code",
   "execution_count": null,
   "id": "2",
   "metadata": {},
   "outputs": [],
   "source": [
    "# ds_email = input(\"Enter DS email: \")\n",
    "ds_email = \"liamtrask@gmail.com\"\n",
    "ds_client = sc.login(ds_email)"
   ]
  },
  {
   "cell_type": "markdown",
   "id": "3",
   "metadata": {},
   "source": [
    "## Propose Analysis"
   ]
  },
  {
   "cell_type": "code",
   "execution_count": null,
   "id": "4",
   "metadata": {},
   "outputs": [],
   "source": [
    "code_path = Path(\".\") / \"code\"\n",
    "code_path.mkdir(exist_ok=True)\n",
    "\n",
    "code_file_name = \"main.py\"\n",
    "code_file_path = code_path / code_file_name"
   ]
  },
  {
   "cell_type": "code",
   "execution_count": null,
   "id": "5",
   "metadata": {},
   "outputs": [],
   "source": [
    "%%writefile {code_file_path}\n",
    "\n",
    "import syft_client as sc\n",
    "\n",
    "data_path = \"syft://private/crop_data/data.csv\"\n",
    "resolved_path = sc.resolve_path(data_path)\n",
    "import csv\n",
    "\n",
    "with open(resolved_path, 'r') as file:\n",
    "    csv_reader = csv.DictReader(file)\n",
    "    total_quantity = 0\n",
    "    for row in csv_reader:\n",
    "        quantity = int(row['Quantity'])\n",
    "        total_quantity += quantity\n",
    "\n",
    "    print(f\"Total Quantity: {total_quantity}\")"
   ]
  },
  {
   "cell_type": "markdown",
   "id": "6",
   "metadata": {},
   "source": [
    "### Submit Python Job"
   ]
  },
  {
   "cell_type": "code",
   "execution_count": null,
   "id": "7",
   "metadata": {},
   "outputs": [],
   "source": [
    "# do_email = input(\"Enter DO email: \")\n",
    "do_email = \"andrew@openmined.org\"\n",
    "\n",
    "do_client = sc.login(\"andrew@openmined.org\")"
   ]
  },
  {
   "cell_type": "code",
   "execution_count": null,
   "id": "8",
   "metadata": {},
   "outputs": [],
   "source": [
    "ds_client.logs"
   ]
  },
  {
   "cell_type": "code",
   "execution_count": null,
   "id": "9",
   "metadata": {},
   "outputs": [],
   "source": [
    "do_client.logs"
   ]
  },
  {
   "cell_type": "code",
   "execution_count": null,
   "id": "10",
   "metadata": {},
   "outputs": [],
   "source": [
    "\n",
    "import time\n",
    "\n",
    "for _i in range(10):\n",
    "    i = _i + 1000\n",
    "    job = ds_client.submit_python_job(\n",
    "        user=do_email,\n",
    "        code_path=code_file_path,\n",
    "        job_name=\"job_\" + str(i) + \"_A\"\n",
    "    )\n",
    "    # no pause between them\n",
    "    job = ds_client.submit_python_job(\n",
    "        user=do_email,\n",
    "        code_path=code_file_path,\n",
    "        job_name=\"job_\" + str(i) + \"_B\"\n",
    "    )\n",
    "    # no pause between them\n",
    "    job = ds_client.submit_python_job(\n",
    "        user=do_email,\n",
    "        code_path=code_file_path,\n",
    "        job_name=\"job_\" + str(i) + \"_C\"\n",
    "    )\n",
    "    # # no pause between them\n",
    "    # job = ds_client.submit_python_job(\n",
    "    #     user=do_email,\n",
    "    #     code_path=code_file_path,\n",
    "    #     job_name=\"job_D_\" + str(i)\n",
    "    # )\n",
    "    sender_len = len(ds_client.jobs)\n",
    "    time.sleep(40)\n",
    "    recipient_len = len(do_client.jobs)\n",
    "    \n",
    "    if sender_len != recipient_len:\n",
    "        raise Exception(\"Something went wrong with job \" + str(i))"
   ]
  },
  {
   "cell_type": "code",
   "execution_count": null,
   "id": "11",
   "metadata": {},
   "outputs": [],
   "source": []
  },
  {
   "cell_type": "code",
   "execution_count": null,
   "id": "12",
   "metadata": {},
   "outputs": [],
   "source": []
  },
  {
   "cell_type": "code",
   "execution_count": null,
   "id": "13",
   "metadata": {},
   "outputs": [],
   "source": []
  },
  {
   "cell_type": "code",
   "execution_count": null,
   "id": "14",
   "metadata": {},
   "outputs": [],
   "source": []
  },
  {
   "cell_type": "code",
   "execution_count": null,
   "id": "15",
   "metadata": {},
   "outputs": [],
   "source": []
  },
  {
   "cell_type": "code",
   "execution_count": null,
   "id": "16",
   "metadata": {},
   "outputs": [],
   "source": []
  },
  {
   "cell_type": "code",
   "execution_count": null,
   "id": "17",
   "metadata": {},
   "outputs": [],
   "source": []
  },
  {
   "cell_type": "code",
   "execution_count": null,
   "id": "18",
   "metadata": {},
   "outputs": [],
   "source": []
  },
  {
   "cell_type": "code",
   "execution_count": null,
   "id": "19",
   "metadata": {},
   "outputs": [],
   "source": []
  },
  {
   "cell_type": "code",
   "execution_count": null,
   "id": "20",
   "metadata": {},
   "outputs": [],
   "source": []
  },
  {
   "cell_type": "code",
   "execution_count": null,
   "id": "21",
   "metadata": {},
   "outputs": [],
   "source": []
  },
  {
   "cell_type": "code",
   "execution_count": null,
   "id": "22",
   "metadata": {},
   "outputs": [],
   "source": []
  },
  {
   "cell_type": "code",
   "execution_count": null,
   "id": "23",
   "metadata": {},
   "outputs": [],
   "source": [
    "# print(ss.servers[4].stdout.tail(50))"
   ]
  },
  {
   "cell_type": "markdown",
   "id": "24",
   "metadata": {},
   "source": [
    "## Job Status"
   ]
  },
  {
   "cell_type": "code",
   "execution_count": null,
   "id": "25",
   "metadata": {},
   "outputs": [],
   "source": [
    "# TODO: Replace this with Peer Client once Ready\n",
    "import syft_job as sj\n",
    "\n",
    "do_client = sj.get_client(ds_client.folder, do_email)"
   ]
  },
  {
   "cell_type": "code",
   "execution_count": null,
   "id": "26",
   "metadata": {},
   "outputs": [],
   "source": [
    "do_client.jobs"
   ]
  },
  {
   "cell_type": "code",
   "execution_count": null,
   "id": "27",
   "metadata": {},
   "outputs": [],
   "source": [
    "do_client.jobs[0]"
   ]
  },
  {
   "cell_type": "code",
   "execution_count": null,
   "id": "28",
   "metadata": {},
   "outputs": [],
   "source": [
    "do_client.jobs[0].stdout"
   ]
  },
  {
   "cell_type": "code",
   "execution_count": null,
   "id": "29",
   "metadata": {},
   "outputs": [],
   "source": []
  }
 ],
 "metadata": {
  "kernelspec": {
   "display_name": "Python 3 (ipykernel)",
   "language": "python",
   "name": "python3"
  },
  "language_info": {
   "codemirror_mode": {
    "name": "ipython",
    "version": 3
   },
   "file_extension": ".py",
   "mimetype": "text/x-python",
   "name": "python",
   "nbconvert_exporter": "python",
   "pygments_lexer": "ipython3",
   "version": "3.12.9"
  }
 },
 "nbformat": 4,
 "nbformat_minor": 5
}
