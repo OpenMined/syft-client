{
  "cells": [
    {
      "cell_type": "markdown",
      "metadata": {
        "id": "v3hgnhmKaPDc"
      },
      "source": [
        "## Dependencies"
      ]
    },
    {
      "cell_type": "code",
      "execution_count": null,
      "metadata": {
        "collapsed": true,
        "id": "R_CnJwGMXeTD"
      },
      "outputs": [],
      "source": [
        "!uv pip install \"syft-client[job]\" --upgrade"
      ]
    },
    {
      "cell_type": "code",
      "execution_count": 2,
      "metadata": {
        "id": "1B02kw43YrTA"
      },
      "outputs": [],
      "source": [
        "import syft_client as sc"
      ]
    },
    {
      "cell_type": "markdown",
      "metadata": {
        "id": "vw-Ij8J-ZCuU"
      },
      "source": [
        "## Login"
      ]
    },
    {
      "cell_type": "code",
      "execution_count": 3,
      "metadata": {
        "id": "FbNXOofkZDx6"
      },
      "outputs": [
        {
          "name": "stdout",
          "output_type": "stream",
          "text": [
            "✅ Connected peer-to-peer to 2 peers via: Gmail, Gdrive_Files, Gsheets, Gforms                        \n"
          ]
        }
      ],
      "source": [
        "ds_email = input(\"Enter Data Scientist email: \")\n",
        "ds_client = sc.login(ds_email)"
      ]
    },
    {
      "cell_type": "markdown",
      "metadata": {
        "id": "87-ho6PTZrj-"
      },
      "source": [
        "## Peer Addition"
      ]
    },
    {
      "cell_type": "code",
      "execution_count": 4,
      "metadata": {
        "id": "VCz_5LFFZzY0"
      },
      "outputs": [
        {
          "data": {
            "text/html": [
              "<pre style=\"white-space:pre;overflow-x:auto;line-height:normal;font-family:Menlo,'DejaVu Sans Mono',consolas,'Courier New',monospace\">╭─<span style=\"font-weight: bold\"> Peers &amp; Requests</span><span style=\"color: #7f7f7f; text-decoration-color: #7f7f7f; font-weight: bold\">  (2 active, 0 pending)</span><span style=\"font-weight: bold\"> </span>───────────────────────────╮\n",
              "│                                                                     │\n",
              "│  <span style=\"color: #008000; text-decoration-color: #008000; font-weight: bold\">client.peers</span><span style=\"color: #7fbf7f; text-decoration-color: #7fbf7f; font-weight: bold\">  [0] or ['email']</span>                                     │\n",
              "│    [0] rasswanthsenthil@gmail.com   ✓ gdrive_files, gsheets, gmail  │\n",
              "│    [1] liamtrask@gmail.com          ✓ gdrive_files, gsheets, gmail  │\n",
              "│                                                                     │\n",
              "│  <span style=\"color: #808000; text-decoration-color: #808000; font-weight: bold\">client.peers.requests</span><span style=\"color: #bfbf7f; text-decoration-color: #bfbf7f; font-weight: bold\">  None</span>                                        │\n",
              "│                                                                     │\n",
              "╰─────────────────────────────────────────────────────────────────────╯\n",
              "</pre>\n"
            ],
            "text/plain": [
              "╭─\u001b[1m Peers & Requests\u001b[0m\u001b[1;2m  (2 active, 0 pending)\u001b[0m\u001b[1m \u001b[0m───────────────────────────╮\n",
              "│                                                                     │\n",
              "│  \u001b[1;32mclient.peers\u001b[0m\u001b[1;2;32m  [0] or ['email']\u001b[0m                                     │\n",
              "│    [0] rasswanthsenthil@gmail.com   ✓ gdrive_files, gsheets, gmail  │\n",
              "│    [1] liamtrask@gmail.com          ✓ gdrive_files, gsheets, gmail  │\n",
              "│                                                                     │\n",
              "│  \u001b[1;33mclient.peers.requests\u001b[0m\u001b[1;2;33m  None\u001b[0m                                        │\n",
              "│                                                                     │\n",
              "╰─────────────────────────────────────────────────────────────────────╯\n"
            ]
          },
          "metadata": {},
          "output_type": "display_data"
        },
        {
          "data": {
            "text/plain": []
          },
          "execution_count": 4,
          "metadata": {},
          "output_type": "execute_result"
        }
      ],
      "source": [
        "ds_client.peers"
      ]
    },
    {
      "cell_type": "code",
      "execution_count": 5,
      "metadata": {
        "id": "VTsg4HTeZs_t"
      },
      "outputs": [
        {
          "name": "stdout",
          "output_type": "stream",
          "text": [
            "🔄 Adding rasswanthsenthil@gmail.com on google_org.gdrive_files...\n",
            "   ✅ Added on google_org.gdrive_files\n",
            "🔄 Adding rasswanthsenthil@gmail.com on google_org.gmail...\n",
            "   ✅ Added on google_org.gmail\n",
            "🔄 Adding rasswanthsenthil@gmail.com on google_org.gsheets...\n",
            "   ✅ Added on google_org.gsheets\n",
            "\n",
            "✅ Peer rasswanthsenthil@gmail.com added successfully on 3 transport(s)\n",
            "   • google_org.gdrive_files\n",
            "   • google_org.gmail\n",
            "   • google_org.gsheets\n"
          ]
        },
        {
          "data": {
            "text/plain": [
              "True"
            ]
          },
          "execution_count": 5,
          "metadata": {},
          "output_type": "execute_result"
        }
      ],
      "source": [
        "do_email = input(\"Enter Data Owner email \")\n",
        "ds_client.add_peer(do_email)"
      ]
    },
    {
      "cell_type": "code",
      "execution_count": 6,
      "metadata": {},
      "outputs": [
        {
          "data": {
            "text/html": [
              "<pre style=\"white-space:pre;overflow-x:auto;line-height:normal;font-family:Menlo,'DejaVu Sans Mono',consolas,'Courier New',monospace\">╭─<span style=\"font-weight: bold\"> Peers &amp; Requests</span><span style=\"color: #7f7f7f; text-decoration-color: #7f7f7f; font-weight: bold\">  (2 active, 0 pending)</span><span style=\"font-weight: bold\"> </span>───────────────────────────╮\n",
              "│                                                                     │\n",
              "│  <span style=\"color: #008000; text-decoration-color: #008000; font-weight: bold\">client.peers</span><span style=\"color: #7fbf7f; text-decoration-color: #7fbf7f; font-weight: bold\">  [0] or ['email']</span>                                     │\n",
              "│    [0] rasswanthsenthil@gmail.com   ✓ gdrive_files, gsheets, gmail  │\n",
              "│    [1] liamtrask@gmail.com          ✓ gdrive_files, gsheets, gmail  │\n",
              "│                                                                     │\n",
              "│  <span style=\"color: #808000; text-decoration-color: #808000; font-weight: bold\">client.peers.requests</span><span style=\"color: #bfbf7f; text-decoration-color: #bfbf7f; font-weight: bold\">  None</span>                                        │\n",
              "│                                                                     │\n",
              "╰─────────────────────────────────────────────────────────────────────╯\n",
              "</pre>\n"
            ],
            "text/plain": [
              "╭─\u001b[1m Peers & Requests\u001b[0m\u001b[1;2m  (2 active, 0 pending)\u001b[0m\u001b[1m \u001b[0m───────────────────────────╮\n",
              "│                                                                     │\n",
              "│  \u001b[1;32mclient.peers\u001b[0m\u001b[1;2;32m  [0] or ['email']\u001b[0m                                     │\n",
              "│    [0] rasswanthsenthil@gmail.com   ✓ gdrive_files, gsheets, gmail  │\n",
              "│    [1] liamtrask@gmail.com          ✓ gdrive_files, gsheets, gmail  │\n",
              "│                                                                     │\n",
              "│  \u001b[1;33mclient.peers.requests\u001b[0m\u001b[1;2;33m  None\u001b[0m                                        │\n",
              "│                                                                     │\n",
              "╰─────────────────────────────────────────────────────────────────────╯\n"
            ]
          },
          "metadata": {},
          "output_type": "display_data"
        },
        {
          "data": {
            "text/plain": []
          },
          "execution_count": 6,
          "metadata": {},
          "output_type": "execute_result"
        }
      ],
      "source": [
        "ds_client.peers"
      ]
    },
    {
      "cell_type": "markdown",
      "metadata": {
        "id": "LCm4-NxLatRU"
      },
      "source": [
        "## Propose Analysis"
      ]
    },
    {
      "cell_type": "code",
      "execution_count": 7,
      "metadata": {
        "id": "y-SZb741bPLz"
      },
      "outputs": [],
      "source": [
        "code_file_name = \"main.py\""
      ]
    },
    {
      "cell_type": "code",
      "execution_count": null,
      "metadata": {
        "id": "Nz9g_33fZ7gZ"
      },
      "outputs": [
        {
          "name": "stdout",
          "output_type": "stream",
          "text": [
            "Writing main.py\n"
          ]
        }
      ],
      "source": [
        "%%writefile {code_file_name}\n",
        "\n",
        "import syft_client as sc\n",
        "\n",
        "data_path = \"syft://private/wildchat-dataset/private_logs.parquet\"\n",
        "resolved_path = sc.resolve_path(data_path)\n",
        "\n",
        "import pandas as pd\n",
        "\n",
        "df = pd.read_parquet(resolved_path)\n",
        "df_keyword = df[df[\"text\"].str.contains(keyword, case=False)]\n",
        "\n",
        "count = len(df_keyword)\n",
        "total_rows = len(df)\n",
        "print(f\"Found {count} rows containing '{keyword}' out of {total_rows} total rows.\")"
      ]
    },
    {
      "cell_type": "markdown",
      "metadata": {
        "id": "GlLO2lpKbfTw"
      },
      "source": [
        "## Submit Analysis"
      ]
    },
    {
      "cell_type": "code",
      "execution_count": 9,
      "metadata": {
        "id": "hdr0Uy8-a8U0"
      },
      "outputs": [
        {
          "data": {
            "text/plain": [
              "PosixPath('/Users/rasswanths/SyftBox_rasswanth@openmined.org/datasites/rasswanthsenthil@gmail.com/app_data/job/Job - c6a82bba')"
            ]
          },
          "execution_count": 9,
          "metadata": {},
          "output_type": "execute_result"
        }
      ],
      "source": [
        "ds_client.submit_python_job(\n",
        "    user=do_email,\n",
        "    code_path=code_file_name\n",
        ")"
      ]
    },
    {
      "cell_type": "markdown",
      "metadata": {
        "id": "ZczrM0nhbxfC"
      },
      "source": [
        "## Job Status"
      ]
    },
    {
      "cell_type": "code",
      "execution_count": 10,
      "metadata": {
        "id": "_voxt6bUbnFJ"
      },
      "outputs": [
        {
          "data": {
            "text/html": [
              "\n",
              "        <style>\n",
              "            .syftjob-overview {\n",
              "                font-family: 'Segoe UI', Tahoma, Geneva, Verdana, sans-serif;\n",
              "                margin: 16px 0;\n",
              "                font-size: 14px;\n",
              "            }\n",
              "\n",
              "            .syftjob-global-header {\n",
              "                background: #1F2937;\n",
              "                color: white;\n",
              "                padding: 12px 16px;\n",
              "                border: 2px solid #111827;\n",
              "                text-align: center;\n",
              "                margin-bottom: 16px;\n",
              "            }\n",
              "\n",
              "            .syftjob-global-header h3 {\n",
              "                margin: 0 0 4px 0;\n",
              "                font-size: 16px;\n",
              "                font-weight: 700;\n",
              "            }\n",
              "            .syftjob-global-header p {\n",
              "                margin: 0;\n",
              "                font-size: 13px;\n",
              "                font-weight: 500;\n",
              "            }\n",
              "\n",
              "            .syftjob-user-section {\n",
              "                margin-bottom: 24px;\n",
              "                border: 2px solid #9CA3AF;\n",
              "            }\n",
              "\n",
              "            .syftjob-user-header {\n",
              "                background: #F3F4F6;\n",
              "                border-bottom: 2px solid #9CA3AF;\n",
              "                padding: 8px 12px;\n",
              "                display: flex;\n",
              "                justify-content: space-between;\n",
              "                align-items: center;\n",
              "            }\n",
              "\n",
              "            .syftjob-user-header h4 {\n",
              "                margin: 0;\n",
              "                font-size: 14px;\n",
              "                font-weight: 700;\n",
              "                color: #111827;\n",
              "            }\n",
              "\n",
              "            .syftjob-user-summary {\n",
              "                font-size: 12px;\n",
              "                color: #374151;\n",
              "                font-weight: 600;\n",
              "            }\n",
              "\n",
              "            .syftjob-table {\n",
              "                width: 100%;\n",
              "                border-collapse: collapse;\n",
              "                background: white;\n",
              "                font-size: 13px;\n",
              "                border: 2px solid #6B7280;\n",
              "            }\n",
              "\n",
              "            .syftjob-thead {\n",
              "                background: #E5E7EB;\n",
              "            }\n",
              "            .syftjob-th {\n",
              "                padding: 8px 12px;\n",
              "                text-align: left;\n",
              "                font-weight: 700;\n",
              "                color: #111827;\n",
              "                border-right: 2px solid #6B7280;\n",
              "                border-bottom: 2px solid #6B7280;\n",
              "            }\n",
              "            .syftjob-th:last-child { border-right: none; }\n",
              "\n",
              "            .syftjob-row-even {\n",
              "                background: #FFFFFF;\n",
              "            }\n",
              "            .syftjob-row-odd {\n",
              "                background: #F9FAFB;\n",
              "            }\n",
              "            .syftjob-row {\n",
              "                border-bottom: 1px solid #9CA3AF;\n",
              "            }\n",
              "            .syftjob-row:hover {\n",
              "                background: #DBEAFE !important;\n",
              "            }\n",
              "\n",
              "            .syftjob-td {\n",
              "                padding: 8px 12px;\n",
              "                border-right: 1px solid #9CA3AF;\n",
              "                vertical-align: middle;\n",
              "            }\n",
              "            .syftjob-td:last-child { border-right: none; }\n",
              "\n",
              "            .syftjob-index {\n",
              "                background: #D1D5DB;\n",
              "                padding: 4px 8px;\n",
              "                border-radius: 3px;\n",
              "                font-family: 'Consolas', 'Courier New', monospace;\n",
              "                font-size: 11px;\n",
              "                font-weight: 700;\n",
              "                color: #111827;\n",
              "                border: 2px solid #6B7280;\n",
              "                display: inline-block;\n",
              "                min-width: 24px;\n",
              "                text-align: center;\n",
              "            }\n",
              "\n",
              "            .syftjob-job-name {\n",
              "                font-weight: 600;\n",
              "                color: #111827;\n",
              "            }\n",
              "\n",
              "            .syftjob-status-inbox {\n",
              "                background: #FBBF24;\n",
              "                color: #451A03;\n",
              "                padding: 3px 8px;\n",
              "                border: 2px solid #B45309;\n",
              "                border-radius: 3px;\n",
              "                font-size: 11px;\n",
              "                font-weight: 700;\n",
              "                display: inline-block;\n",
              "            }\n",
              "\n",
              "            .syftjob-status-approved {\n",
              "                background: #60A5FA;\n",
              "                color: #1E3A8A;\n",
              "                padding: 3px 8px;\n",
              "                border: 2px solid #1D4ED8;\n",
              "                border-radius: 3px;\n",
              "                font-size: 11px;\n",
              "                font-weight: 700;\n",
              "                display: inline-block;\n",
              "            }\n",
              "\n",
              "            .syftjob-status-done {\n",
              "                background: #34D399;\n",
              "                color: #064E3B;\n",
              "                padding: 3px 8px;\n",
              "                border: 2px solid #047857;\n",
              "                border-radius: 3px;\n",
              "                font-size: 11px;\n",
              "                font-weight: 700;\n",
              "                display: inline-block;\n",
              "            }\n",
              "\n",
              "            .syftjob-submitted {\n",
              "                color: #374151;\n",
              "                font-size: 12px;\n",
              "                font-weight: 600;\n",
              "            }\n",
              "\n",
              "            .syftjob-global-footer {\n",
              "                background: #F3F4F6;\n",
              "                padding: 12px 16px;\n",
              "                text-align: center;\n",
              "                border: 2px solid #9CA3AF;\n",
              "                margin-top: 16px;\n",
              "            }\n",
              "\n",
              "            .syftjob-global-summary {\n",
              "                display: flex;\n",
              "                justify-content: center;\n",
              "                gap: 16px;\n",
              "                margin-bottom: 12px;\n",
              "                flex-wrap: wrap;\n",
              "            }\n",
              "\n",
              "            .syftjob-summary-item {\n",
              "                display: inline-block;\n",
              "                font-size: 12px;\n",
              "                color: #111827;\n",
              "                padding: 4px 8px;\n",
              "                background: white;\n",
              "                border: 2px solid #6B7280;\n",
              "                border-radius: 3px;\n",
              "                font-weight: 600;\n",
              "            }\n",
              "\n",
              "            .syftjob-hint {\n",
              "                font-size: 12px;\n",
              "                color: #374151;\n",
              "                line-height: 1.4;\n",
              "                margin-top: 8px;\n",
              "                font-weight: 500;\n",
              "            }\n",
              "\n",
              "            .syftjob-code {\n",
              "                background: #E5E7EB;\n",
              "                padding: 2px 4px;\n",
              "                border-radius: 3px;\n",
              "                font-family: 'Consolas', 'Courier New', monospace;\n",
              "                font-size: 11px;\n",
              "                border: 2px solid #6B7280;\n",
              "                font-weight: 600;\n",
              "                color: #111827;\n",
              "            }\n",
              "\n",
              "        </style>\n",
              "\n",
              "        <div class=\"syftjob-overview\">\n",
              "            <div class=\"syftjob-global-header\">\n",
              "                <h3>📊 Jobs Overview</h3>\n",
              "                <p>Total: 1 jobs across 1 users</p>\n",
              "            </div>\n",
              "        \n",
              "            <div class=\"syftjob-user-section\">\n",
              "                <div class=\"syftjob-user-header\">\n",
              "                    <h4>👤 rasswanthsenthil@gmail.com</h4>\n",
              "                    <div class=\"syftjob-user-summary\">1 jobs - 🎉 1 done</div>\n",
              "                </div>\n",
              "                <table class=\"syftjob-table\">\n",
              "                    <thead class=\"syftjob-thead\">\n",
              "                        <tr>\n",
              "                            <th class=\"syftjob-th\">Index</th>\n",
              "                            <th class=\"syftjob-th\">Job Name</th>\n",
              "                            <th class=\"syftjob-th\">Submitted By</th>\n",
              "                            <th class=\"syftjob-th\">Status</th>\n",
              "                        </tr>\n",
              "                    </thead>\n",
              "                    <tbody>\n",
              "            \n",
              "                        <tr class=\"syftjob-row-even syftjob-row\">\n",
              "                            <td class=\"syftjob-td\">\n",
              "                                <span class=\"syftjob-index\">[0]</span>\n",
              "                            </td>\n",
              "                            <td class=\"syftjob-td syftjob-job-name\">\n",
              "                                Job - c6a82bba\n",
              "                            </td>\n",
              "                            <td class=\"syftjob-td syftjob-submitted\">\n",
              "                                rasswanth@openmined.org\n",
              "                            </td>\n",
              "                            <td class=\"syftjob-td\">\n",
              "                                <span class=\"syftjob-status-done\">\n",
              "                                    🎉 DONE\n",
              "                                </span>\n",
              "                            </td>\n",
              "                        </tr>\n",
              "                \n",
              "                    </tbody>\n",
              "                </table>\n",
              "            </div>\n",
              "            \n",
              "            <div class=\"syftjob-global-footer\">\n",
              "                <div class=\"syftjob-global-summary\">\n",
              "        \n",
              "                    <span class=\"syftjob-summary-item\">\n",
              "                        🎉 1 done\n",
              "                    </span>\n",
              "            \n",
              "                </div>\n",
              "                <div class=\"syftjob-hint\">\n",
              "                    💡 Use <code class=\"syftjob-code\">jobs[0].approve()</code> to approve jobs or <code class=\"syftjob-code\">jobs[0].accept_by_depositing_result('file_or_folder')</code> to complete jobs\n",
              "                </div>\n",
              "            </div>\n",
              "        </div>\n",
              "        "
            ],
            "text/plain": [
              "JobsList(1 jobs)"
            ]
          },
          "execution_count": 10,
          "metadata": {},
          "output_type": "execute_result"
        }
      ],
      "source": [
        "ds_client.jobs"
      ]
    },
    {
      "cell_type": "code",
      "execution_count": 11,
      "metadata": {
        "id": "NHY0CHG7b0BY"
      },
      "outputs": [
        {
          "data": {
            "text/html": [
              "\n",
              "        <style>\n",
              "            .syftjob-stdout-container {\n",
              "                font-family: -apple-system, BlinkMacSystemFont, 'Segoe UI', Roboto, sans-serif;\n",
              "                border: 1px solid #e2e8f0;\n",
              "                border-radius: 8px;\n",
              "                overflow: hidden;\n",
              "                background: white;\n",
              "                box-shadow: 0 2px 8px rgba(0,0,0,0.1);\n",
              "                max-width: 100%;\n",
              "                margin: 16px 0;\n",
              "            }\n",
              "\n",
              "            .syftjob-stdout-header {\n",
              "                background: linear-gradient(135deg, #4299e1 0%, #3182ce 100%);\n",
              "                color: white;\n",
              "                padding: 12px 16px;\n",
              "                display: flex;\n",
              "                justify-content: space-between;\n",
              "                align-items: center;\n",
              "                font-weight: 600;\n",
              "            }\n",
              "\n",
              "            .syftjob-stdout-title {\n",
              "                display: flex;\n",
              "                align-items: center;\n",
              "                gap: 8px;\n",
              "                font-size: 14px;\n",
              "            }\n",
              "\n",
              "            .syftjob-stdout-stats {\n",
              "                font-size: 12px;\n",
              "                opacity: 0.9;\n",
              "                display: flex;\n",
              "                gap: 16px;\n",
              "            }\n",
              "\n",
              "            .syftjob-stdout-content {\n",
              "                background: #f7fafc;\n",
              "                border: 1px solid #e2e8f0;\n",
              "                font-family: 'Monaco', 'Menlo', 'SF Mono', monospace;\n",
              "                font-size: 12px;\n",
              "                color: #2d3748;\n",
              "                padding: 16px;\n",
              "                overflow: auto;\n",
              "                white-space: pre-wrap;\n",
              "                word-wrap: break-word;\n",
              "                max-height: 400px;\n",
              "                line-height: 1.5;\n",
              "                margin: 0;\n",
              "            }\n",
              "\n",
              "            .syftjob-stdout-content::-webkit-scrollbar {\n",
              "                width: 8px;\n",
              "                height: 8px;\n",
              "            }\n",
              "\n",
              "            .syftjob-stdout-content::-webkit-scrollbar-track {\n",
              "                background: #f1f1f1;\n",
              "                border-radius: 4px;\n",
              "            }\n",
              "\n",
              "            .syftjob-stdout-content::-webkit-scrollbar-thumb {\n",
              "                background: #c1c1c1;\n",
              "                border-radius: 4px;\n",
              "            }\n",
              "\n",
              "            .syftjob-stdout-content::-webkit-scrollbar-thumb:hover {\n",
              "                background: #a1a1a1;\n",
              "            }\n",
              "\n",
              "            /* Dark theme */\n",
              "            @media (prefers-color-scheme: dark) {\n",
              "                .syftjob-stdout-container {\n",
              "                    background: #1a202c;\n",
              "                    border-color: #4a5568;\n",
              "                }\n",
              "\n",
              "                .syftjob-stdout-header {\n",
              "                    background: linear-gradient(135deg, #2d3748 0%, #4a5568 100%);\n",
              "                }\n",
              "\n",
              "                .syftjob-stdout-content {\n",
              "                    background: #2d3748;\n",
              "                    border-color: #4a5568;\n",
              "                    color: #e2e8f0;\n",
              "                }\n",
              "\n",
              "                .syftjob-stdout-content::-webkit-scrollbar-track {\n",
              "                    background: #2d3748;\n",
              "                }\n",
              "\n",
              "                .syftjob-stdout-content::-webkit-scrollbar-thumb {\n",
              "                    background: #4a5568;\n",
              "                }\n",
              "\n",
              "                .syftjob-stdout-content::-webkit-scrollbar-thumb:hover {\n",
              "                    background: #718096;\n",
              "                }\n",
              "            }\n",
              "\n",
              "            /* Jupyter dark theme */\n",
              "            .jp-RenderedHTMLCommon[data-jp-theme-light=\"false\"] .syftjob-stdout-container,\n",
              "            body[data-jp-theme-light=\"false\"] .syftjob-stdout-container {\n",
              "                background: #1a202c;\n",
              "                border-color: #4a5568;\n",
              "            }\n",
              "\n",
              "            .jp-RenderedHTMLCommon[data-jp-theme-light=\"false\"] .syftjob-stdout-header,\n",
              "            body[data-jp-theme-light=\"false\"] .syftjob-stdout-header {\n",
              "                background: linear-gradient(135deg, #2d3748 0%, #4a5568 100%);\n",
              "            }\n",
              "\n",
              "            .jp-RenderedHTMLCommon[data-jp-theme-light=\"false\"] .syftjob-stdout-content,\n",
              "            body[data-jp-theme-light=\"false\"] .syftjob-stdout-content {\n",
              "                background: #2d3748;\n",
              "                border-color: #4a5568;\n",
              "                color: #e2e8f0;\n",
              "            }\n",
              "        </style>\n",
              "\n",
              "        <div class=\"syftjob-stdout-container\">\n",
              "            <div class=\"syftjob-stdout-header\">\n",
              "                <div class=\"syftjob-stdout-title\">\n",
              "                    📄 stdout.txt\n",
              "                </div>\n",
              "                <div class=\"syftjob-stdout-stats\">\n",
              "                    <span>2 lines</span>\n",
              "                    <span>19 chars</span>\n",
              "                </div>\n",
              "            </div>\n",
              "            <pre class=\"syftjob-stdout-content\">Total Sales: 16400\n",
              "</pre>\n",
              "        </div>\n",
              "        "
            ],
            "text/plain": [
              "Total Sales: 16400"
            ]
          },
          "execution_count": 11,
          "metadata": {},
          "output_type": "execute_result"
        }
      ],
      "source": [
        "ds_client.jobs[0].stdout"
      ]
    },
    {
      "cell_type": "code",
      "execution_count": null,
      "metadata": {
        "id": "Umf_N9DPb-OV"
      },
      "outputs": [],
      "source": [
        "ds_client.jobs[-1].stdout"
      ]
    },
    {
      "cell_type": "code",
      "execution_count": null,
      "metadata": {
        "id": "qaI53nyBcCWC"
      },
      "outputs": [],
      "source": [
        "print(ds_client.servers[0].stdout.tail(100))"
      ]
    },
    {
      "cell_type": "code",
      "execution_count": null,
      "metadata": {
        "id": "dXaPMvTogumk"
      },
      "outputs": [],
      "source": []
    }
  ],
  "metadata": {
    "colab": {
      "provenance": []
    },
    "kernelspec": {
      "display_name": "syft-client",
      "language": "python",
      "name": "python3"
    },
    "language_info": {
      "codemirror_mode": {
        "name": "ipython",
        "version": 3
      },
      "file_extension": ".py",
      "mimetype": "text/x-python",
      "name": "python",
      "nbconvert_exporter": "python",
      "pygments_lexer": "ipython3",
      "version": "3.12.8"
    }
  },
  "nbformat": 4,
  "nbformat_minor": 0
}
