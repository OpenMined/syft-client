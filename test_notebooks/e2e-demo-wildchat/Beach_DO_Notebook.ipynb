{
  "cells": [
    {
      "cell_type": "markdown",
      "metadata": {
        "id": "Qy06lIQ8ckV-"
      },
      "source": [
        "## Dependencies"
      ]
    },
    {
      "cell_type": "code",
      "execution_count": null,
      "metadata": {
        "collapsed": true,
        "id": "POPAnyJacmE8"
      },
      "outputs": [],
      "source": [
        "!uv pip install \"syft-client[job]\" \"datasets\""
      ]
    },
    {
      "cell_type": "code",
      "execution_count": null,
      "metadata": {
        "id": "1r-jmQagcowk"
      },
      "outputs": [],
      "source": [
        "import syft_client as sc\n",
        "from pathlib import Path\n",
        "import requests"
      ]
    },
    {
      "cell_type": "markdown",
      "metadata": {
        "id": "qH6dj0DUcr_I"
      },
      "source": [
        "## Login"
      ]
    },
    {
      "cell_type": "code",
      "execution_count": null,
      "metadata": {
        "id": "tYpXAZT6cpzE"
      },
      "outputs": [],
      "source": [
        "do_email = input(\"Enter Data Owner email: \")\n",
        "do_client = sc.login(do_email)"
      ]
    },
    {
      "cell_type": "markdown",
      "metadata": {
        "id": "9PqV1i8bdFS3"
      },
      "source": [
        "## Peer Addition"
      ]
    },
    {
      "cell_type": "code",
      "execution_count": null,
      "metadata": {
        "id": "FZGHz5cuc9d5"
      },
      "outputs": [],
      "source": [
        "do_client.peers"
      ]
    },
    {
      "cell_type": "code",
      "execution_count": null,
      "metadata": {
        "id": "Jra4OoYUdOSf"
      },
      "outputs": [],
      "source": [
        "ds_email = input(\"Enter Data Scientist email: \")\n",
        "do_client.add_peer(ds_email)"
      ]
    },
    {
      "cell_type": "code",
      "execution_count": null,
      "metadata": {
        "id": "ZL9KSlpBdnBf"
      },
      "outputs": [],
      "source": [
        "do_client.peers"
      ]
    },
    {
      "cell_type": "markdown",
      "metadata": {
        "id": "jaZHpMJgdzRZ"
      },
      "source": [
        "## Upload Dataset"
      ]
    },
    {
      "cell_type": "markdown",
      "metadata": {},
      "source": [
        "### Download Dataset"
      ]
    },
    {
      "cell_type": "markdown",
      "metadata": {},
      "source": [
        "### Mock Dataset"
      ]
    },
    {
      "cell_type": "code",
      "execution_count": null,
      "metadata": {},
      "outputs": [],
      "source": [
        "MOCK_DATASET_URL = \"https://huggingface.co/datasets/rasswanth-s/datasets/resolve/main/mock_logs.parquet\"\n",
        "\n",
        "mock_local_path = Path(do_client.folder) / \"datasites\" / do_client.email / \"public\" / \"wildchat-dataset\" / \"mock_logs.parquet\"\n",
        "mock_local_path.parent.mkdir(parents=True, exist_ok=True)\n",
        "r = requests.get(MOCK_DATASET_URL)\n",
        "with open(mock_local_path, \"wb\") as f:\n",
        "    f.write(r.content)\n",
        "\n"
      ]
    },
    {
      "cell_type": "markdown",
      "metadata": {},
      "source": [
        "### Private Dataset"
      ]
    },
    {
      "cell_type": "code",
      "execution_count": null,
      "metadata": {
        "id": "G8NUl1kXdrNU"
      },
      "outputs": [],
      "source": [
        "PRIVATE_DATASET_URL = \"https://huggingface.co/datasets/rasswanth-s/datasets/resolve/main/private_logs.parquet\"\n",
        "\n",
        "private_local_path = Path(do_client.folder) / \"private\" / \"wildchat-dataset\" / \"private_logs.parquet\"\n",
        "private_local_path.parent.mkdir(parents=True, exist_ok=True)\n",
        "r = requests.get(PRIVATE_DATASET_URL)\n",
        "with open(private_local_path, \"wb\") as f:\n",
        "    f.write(r.content)"
      ]
    },
    {
      "cell_type": "markdown",
      "metadata": {
        "id": "lxKccii-d4sH"
      },
      "source": [
        "## Review Jobs"
      ]
    },
    {
      "cell_type": "code",
      "execution_count": null,
      "metadata": {
        "id": "4j1otu4sd6ir"
      },
      "outputs": [],
      "source": [
        "do_client.jobs"
      ]
    },
    {
      "cell_type": "code",
      "execution_count": null,
      "metadata": {},
      "outputs": [],
      "source": [
        "do_client.jobs[0]"
      ]
    },
    {
      "cell_type": "code",
      "execution_count": null,
      "metadata": {
        "id": "UT5s28fXeBEh"
      },
      "outputs": [],
      "source": [
        "do_client.jobs[0].approve()"
      ]
    },
    {
      "cell_type": "code",
      "execution_count": null,
      "metadata": {},
      "outputs": [],
      "source": [
        "do_client.jobs"
      ]
    },
    {
      "cell_type": "code",
      "execution_count": null,
      "metadata": {},
      "outputs": [],
      "source": [
        "do_client.jobs[4].stdout"
      ]
    },
    {
      "cell_type": "code",
      "execution_count": null,
      "metadata": {
        "id": "6LBRVMf0eSw4"
      },
      "outputs": [],
      "source": []
    },
    {
      "cell_type": "markdown",
      "metadata": {
        "id": "5E5PT7qni-yU"
      },
      "source": []
    },
    {
      "cell_type": "code",
      "execution_count": null,
      "metadata": {
        "id": "SljLx6yEsJeR"
      },
      "outputs": [],
      "source": []
    }
  ],
  "metadata": {
    "colab": {
      "provenance": []
    },
    "kernelspec": {
      "display_name": "syft-client",
      "language": "python",
      "name": "python3"
    },
    "language_info": {
      "codemirror_mode": {
        "name": "ipython",
        "version": 3
      },
      "file_extension": ".py",
      "mimetype": "text/x-python",
      "name": "python",
      "nbconvert_exporter": "python",
      "pygments_lexer": "ipython3",
      "version": "3.12.8"
    }
  },
  "nbformat": 4,
  "nbformat_minor": 0
}
