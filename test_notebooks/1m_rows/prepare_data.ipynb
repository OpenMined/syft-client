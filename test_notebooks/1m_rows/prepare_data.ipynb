{
 "cells": [
  {
   "cell_type": "code",
   "execution_count": 1,
   "id": "209fc1ed",
   "metadata": {},
   "outputs": [],
   "source": [
    "import numpy as np\n",
    "from datasets import load_dataset\n",
    "import pandas as pd\n",
    "from collections.abc import Callable, Iterable\n",
    "import datetime\n",
    "import uuid\n",
    "\n",
    "from tqdm import tqdm\n"
   ]
  },
  {
   "cell_type": "code",
   "execution_count": 2,
   "id": "a0688261",
   "metadata": {},
   "outputs": [
    {
     "name": "stdout",
     "output_type": "stream",
     "text": [
      "Wildchat schema:\n",
      "conversation_id: <class 'str'>\n",
      "model: <class 'str'>\n",
      "timestamp: <class 'datetime.datetime'>\n",
      "conversation: <class 'list'>\n",
      "turn: <class 'int'>\n",
      "language: <class 'str'>\n",
      "openai_moderation: <class 'list'>\n",
      "detoxify_moderation: <class 'list'>\n",
      "toxic: <class 'bool'>\n",
      "redacted: <class 'bool'>\n"
     ]
    }
   ],
   "source": [
    "wildchat_dataset = load_dataset(\"allenai/WildChat\")[\"train\"]\n",
    "print(\"Wildchat schema:\")\n",
    "for k, v in wildchat_dataset[0].items():\n",
    "    print(f\"{k}: {type(v)}\")\n",
    "\n",
    "# filter only english rows\n",
    "wildchat_dataset = wildchat_dataset.filter(lambda row: row[\"language\"] == \"English\")"
   ]
  },
  {
   "cell_type": "code",
   "execution_count": 3,
   "id": "dd21f18d",
   "metadata": {},
   "outputs": [
    {
     "name": "stdout",
     "output_type": "stream",
     "text": [
      "Mock logs: 1000\n",
      "Private logs: 283,168\n"
     ]
    }
   ],
   "source": [
    "np.random.seed(42)\n",
    "\n",
    "# Split into 1000 mock logs, and use the rest for private logs\n",
    "MAX_PRIVATE_LOGS = None\n",
    "MAX_MOCK_LOGS = 1000\n",
    "\n",
    "all_indices = np.arange(len(wildchat_dataset))\n",
    "np.random.shuffle(all_indices)\n",
    "\n",
    "assert MAX_MOCK_LOGS <= len(\n",
    "    all_indices\n",
    "), f\"Dataset is too small for {MAX_MOCK_LOGS} mock logs\"\n",
    "\n",
    "mock_logs = wildchat_dataset.select(all_indices[:MAX_MOCK_LOGS])\n",
    "private_logs = wildchat_dataset.select(all_indices[MAX_MOCK_LOGS:])\n",
    "\n",
    "if MAX_PRIVATE_LOGS is not None:\n",
    "    private_logs = private_logs.select(range(MAX_PRIVATE_LOGS))\n",
    "\n",
    "print(f\"Mock logs: {len(mock_logs)}\")\n",
    "print(f\"Private logs: {len(private_logs):,}\")"
   ]
  },
  {
   "cell_type": "code",
   "execution_count": 10,
   "id": "9fc4402e",
   "metadata": {},
   "outputs": [],
   "source": [
    "def clean_json(obj):\n",
    "    if isinstance(obj, str):\n",
    "        return obj.replace(\"\\x00\", \"\")\n",
    "    if isinstance(obj, uuid.UUID):\n",
    "        return str(obj)\n",
    "    if isinstance(obj, (datetime.date, datetime.datetime)):\n",
    "        return obj.isoformat()\n",
    "    if isinstance(obj, list):\n",
    "        return [clean_json(v) for v in obj]\n",
    "    if isinstance(obj, dict):\n",
    "        return {k: clean_json(v) for k, v in obj.items()}\n",
    "    return obj\n",
    "\n",
    "\n",
    "def process_wildchat_log(log_data: dict, max_content_length: int = 4096) -> list[dict]:\n",
    "    \"\"\"\n",
    "    Convert a row of wildchat data into a list of messages with metadata\n",
    "\n",
    "    Expected output format:\n",
    "    [\n",
    "        {\n",
    "            \"id\": \"1234\" # A message ID, should be unique across all messages\n",
    "            \"text\": \"Hello, how are you?\", # The log content\n",
    "            **metadata, # Any metadata you want to store with the message\n",
    "        },\n",
    "        ...\n",
    "    ]\n",
    "\n",
    "    Args:\n",
    "        log_data (dict): A single row of wildchat data\n",
    "        max_content_length (int, optional): Maximum length of the \"text\" field, depends on the embedding model.\n",
    "            Defaults to 4096 (~= 1000 tokens).\n",
    "\n",
    "    Returns:\n",
    "        list[dict]: A list of messages with metadata\n",
    "    \"\"\"\n",
    "\n",
    "    # Common metadata shared by all messages in the log\n",
    "    log_id = log_data[\"conversation_id\"]\n",
    "    base_metadata = {\n",
    "        \"log_id\": log_id,\n",
    "        \"model\": log_data[\"model\"],\n",
    "        \"timestamp\": log_data[\"timestamp\"],\n",
    "        \"total_turns\": log_data[\"turn\"],\n",
    "        \"language\": log_data[\"language\"],\n",
    "    }\n",
    "\n",
    "    result = []\n",
    "    for message_idx, message in enumerate(log_data[\"conversation\"]):\n",
    "        content = message[\"content\"]\n",
    "        if len(content) > max_content_length:\n",
    "            content = content[:max_content_length]\n",
    "\n",
    "        message_metadata = {\n",
    "            **base_metadata,\n",
    "            \"role\": message[\"role\"],\n",
    "            \"language\": message.get(\"language\", base_metadata[\"language\"]),\n",
    "            \"message_idx\": message_idx,\n",
    "        }\n",
    "\n",
    "        # deterministic + unique ID for each message\n",
    "        doc_id = uuid.uuid5(uuid.NAMESPACE_URL, f\"{log_id}_{message_idx}\")\n",
    "\n",
    "        result.append(\n",
    "            {\n",
    "                \"id\": str(doc_id),\n",
    "                \"text\": content,\n",
    "                **message_metadata,\n",
    "            }\n",
    "        )\n",
    "\n",
    "    # Clean result so it can be inserted into Postgres\n",
    "    result = clean_json(result)\n",
    "    return result\n",
    "\n",
    "\n",
    "def preprocess_dataset(\n",
    "    dataset: Iterable[dict],\n",
    "    size: int | None = None,\n",
    ") -> list[dict]:\n",
    "    results = []\n",
    "\n",
    "    for log_data in tqdm(dataset, desc=\"Processing logs\", total=size):\n",
    "        processed = process_wildchat_log(log_data)\n",
    "        results.extend(processed)\n",
    "\n",
    "    return results"
   ]
  },
  {
   "cell_type": "code",
   "execution_count": 11,
   "id": "1f3a6dcf",
   "metadata": {},
   "outputs": [
    {
     "name": "stderr",
     "output_type": "stream",
     "text": [
      "Processing logs: 100%|██████████| 283168/283168 [00:44<00:00, 6307.08it/s]\n",
      "Processing logs: 100%|██████████| 1000/1000 [00:00<00:00, 5814.66it/s]"
     ]
    },
    {
     "name": "stdout",
     "output_type": "stream",
     "text": [
      "Processed private logs: 1,228,540 messages\n",
      "Processed mock logs: 4,676 messages\n"
     ]
    },
    {
     "name": "stderr",
     "output_type": "stream",
     "text": [
      "\n"
     ]
    }
   ],
   "source": [
    "private_logs_processed = preprocess_dataset(\n",
    "    private_logs, size=len(private_logs)\n",
    ")\n",
    "mock_logs_processed = preprocess_dataset(\n",
    "    mock_logs, size=len(mock_logs)\n",
    ")\n",
    "\n",
    "print(f\"Processed private logs: {len(private_logs_processed):,} messages\")\n",
    "print(f\"Processed mock logs: {len(mock_logs_processed):,} messages\")"
   ]
  },
  {
   "cell_type": "code",
   "execution_count": 12,
   "id": "6a98c3de",
   "metadata": {},
   "outputs": [],
   "source": [
    "private_df = pd.json_normalize(private_logs_processed)\n",
    "mock_df = pd.json_normalize(mock_logs_processed)"
   ]
  },
  {
   "cell_type": "code",
   "execution_count": 13,
   "id": "8a19ad88",
   "metadata": {},
   "outputs": [],
   "source": [
    "private_data_path = \"private_logs.parquet\"\n",
    "mock_data_path = \"mock_logs.parquet\"\n",
    "\n",
    "private_df.to_parquet(private_data_path, index=False)\n",
    "mock_df.to_parquet(mock_data_path, index=False)"
   ]
  },
  {
   "cell_type": "code",
   "execution_count": 14,
   "id": "42a983b1",
   "metadata": {},
   "outputs": [
    {
     "name": "stdout",
     "output_type": "stream",
     "text": [
      "-rw-r--r--  1 eelco  staff   2.6M Oct 13 14:21 mock_logs.parquet\n",
      "-rw-r--r--  1 eelco  staff   689M Oct 13 14:21 private_logs.parquet\n"
     ]
    }
   ],
   "source": [
    "# check filesizes\n",
    "\n",
    "!ls -lh {private_data_path} {mock_data_path}"
   ]
  },
  {
   "cell_type": "code",
   "execution_count": null,
   "id": "1dbb1178",
   "metadata": {},
   "outputs": [],
   "source": []
  }
 ],
 "metadata": {
  "kernelspec": {
   "display_name": "syft-client",
   "language": "python",
   "name": "python3"
  },
  "language_info": {
   "codemirror_mode": {
    "name": "ipython",
    "version": 3
   },
   "file_extension": ".py",
   "mimetype": "text/x-python",
   "name": "python",
   "nbconvert_exporter": "python",
   "pygments_lexer": "ipython3",
   "version": "3.12.6"
  }
 },
 "nbformat": 4,
 "nbformat_minor": 5
}
