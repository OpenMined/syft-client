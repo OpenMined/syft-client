{
  "nbformat": 4,
  "nbformat_minor": 0,
  "metadata": {
    "colab": {
      "provenance": []
    },
    "kernelspec": {
      "name": "python3",
      "display_name": "Python 3"
    },
    "language_info": {
      "name": "python"
    }
  },
  "cells": [
    {
      "cell_type": "markdown",
      "source": [
        "## Dependencies"
      ],
      "metadata": {
        "id": "Qy06lIQ8ckV-"
      }
    },
    {
      "cell_type": "code",
      "source": [
        "!pip install syft-client[job]"
      ],
      "metadata": {
        "collapsed": true,
        "id": "POPAnyJacmE8"
      },
      "execution_count": null,
      "outputs": []
    },
    {
      "cell_type": "code",
      "source": [
        "import syft_client as sc"
      ],
      "metadata": {
        "id": "1r-jmQagcowk"
      },
      "execution_count": null,
      "outputs": []
    },
    {
      "cell_type": "markdown",
      "source": [
        "## Login"
      ],
      "metadata": {
        "id": "qH6dj0DUcr_I"
      }
    },
    {
      "cell_type": "code",
      "source": [
        "do_email = input(\"Enter Data Owner email: \")\n",
        "do_client = sc.login(do_email)"
      ],
      "metadata": {
        "id": "tYpXAZT6cpzE"
      },
      "execution_count": null,
      "outputs": []
    },
    {
      "cell_type": "markdown",
      "source": [
        "## Peer Addition"
      ],
      "metadata": {
        "id": "9PqV1i8bdFS3"
      }
    },
    {
      "cell_type": "code",
      "source": [
        "do_client.peers"
      ],
      "metadata": {
        "id": "FZGHz5cuc9d5"
      },
      "execution_count": null,
      "outputs": []
    },
    {
      "cell_type": "code",
      "source": [
        "do_client.watcher"
      ],
      "metadata": {
        "id": "YbbsqdoEyqZJ"
      },
      "execution_count": null,
      "outputs": []
    },
    {
      "cell_type": "code",
      "source": [
        "print(do_client.servers[1].stdout.tail(100))"
      ],
      "metadata": {
        "id": "8opSfQ_jyHHS"
      },
      "execution_count": null,
      "outputs": []
    },
    {
      "cell_type": "code",
      "source": [
        "ds_email = input(\"Enter Data Owner email: \")\n",
        "do_client.add_peer(ds_email)"
      ],
      "metadata": {
        "id": "Jra4OoYUdOSf"
      },
      "execution_count": null,
      "outputs": []
    },
    {
      "cell_type": "code",
      "source": [
        "do_client.peers"
      ],
      "metadata": {
        "id": "ZL9KSlpBdnBf"
      },
      "execution_count": null,
      "outputs": []
    },
    {
      "cell_type": "markdown",
      "source": [
        "## Upload Dataset"
      ],
      "metadata": {
        "id": "jaZHpMJgdzRZ"
      }
    },
    {
      "cell_type": "code",
      "source": [
        "## TODO: add section to upload datasets"
      ],
      "metadata": {
        "id": "G8NUl1kXdrNU"
      },
      "execution_count": null,
      "outputs": []
    },
    {
      "cell_type": "markdown",
      "source": [
        "## Review Jobs"
      ],
      "metadata": {
        "id": "lxKccii-d4sH"
      }
    },
    {
      "cell_type": "code",
      "source": [
        "do_client.jobs"
      ],
      "metadata": {
        "id": "4j1otu4sd6ir"
      },
      "execution_count": null,
      "outputs": []
    },
    {
      "cell_type": "code",
      "source": [
        "do_client.jobs[-1].approve()"
      ],
      "metadata": {
        "id": "UT5s28fXeBEh"
      },
      "execution_count": null,
      "outputs": []
    },
    {
      "cell_type": "code",
      "source": [
        "do_client.servers"
      ],
      "metadata": {
        "id": "mUZJDJ1VeSnj"
      },
      "execution_count": null,
      "outputs": []
    },
    {
      "cell_type": "code",
      "source": [],
      "metadata": {
        "id": "6LBRVMf0eSw4"
      },
      "execution_count": null,
      "outputs": []
    },
    {
      "cell_type": "code",
      "source": [
        "!rm -rf .venv"
      ],
      "metadata": {
        "id": "N_-1pXmliskg"
      },
      "execution_count": null,
      "outputs": []
    },
    {
      "cell_type": "markdown",
      "source": [],
      "metadata": {
        "id": "5E5PT7qni-yU"
      }
    },
    {
      "cell_type": "code",
      "source": [
        "!pip install colab-xterm"
      ],
      "metadata": {
        "id": "jyGx8wwqjpGZ"
      },
      "execution_count": null,
      "outputs": []
    },
    {
      "cell_type": "code",
      "source": [
        "%load_ext colabxterm\n",
        "%xterm"
      ],
      "metadata": {
        "id": "O4ExmTcSkhrN"
      },
      "execution_count": null,
      "outputs": []
    },
    {
      "cell_type": "code",
      "source": [
        "!pythopython -m venv .venv --without-pipn -m venv venv"
      ],
      "metadata": {
        "id": "DrIKJPVMo9o3"
      },
      "execution_count": null,
      "outputs": []
    },
    {
      "cell_type": "code",
      "source": [
        "!./.venv/bin/python -c \"import pandas as pd; print(pd.__version__)\""
      ],
      "metadata": {
        "id": "qRP1PNILku4R"
      },
      "execution_count": null,
      "outputs": []
    },
    {
      "cell_type": "code",
      "source": [
        "!python"
      ],
      "metadata": {
        "id": "T2f8EUc6o87H"
      },
      "execution_count": null,
      "outputs": []
    },
    {
      "cell_type": "code",
      "source": [],
      "metadata": {
        "id": "SljLx6yEsJeR"
      },
      "execution_count": null,
      "outputs": []
    }
  ]
}