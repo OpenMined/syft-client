{
  "cells": [
    {
      "cell_type": "markdown",
      "metadata": {
        "id": "Qy06lIQ8ckV-"
      },
      "source": [
        "## Dependencies"
      ]
    },
    {
      "cell_type": "code",
      "execution_count": 1,
      "metadata": {
        "collapsed": true,
        "id": "POPAnyJacmE8"
      },
      "outputs": [
        {
          "name": "stdout",
          "output_type": "stream",
          "text": [
            "\u001b[2mUsing Python 3.12.8 environment at: /Users/rasswanths/openmined/syft-client/.venv\u001b[0m\n",
            "\u001b[2K\u001b[2mResolved \u001b[1m78 packages\u001b[0m \u001b[2min 740ms\u001b[0m\u001b[0m                                        \u001b[0m\n",
            "\u001b[2mAudited \u001b[1m78 packages\u001b[0m \u001b[2min 0.06ms\u001b[0m\u001b[0m\n"
          ]
        }
      ],
      "source": [
        "!uv pip install \"syft-client[job]\" --upgrade"
      ]
    },
    {
      "cell_type": "code",
      "execution_count": 7,
      "metadata": {
        "id": "1r-jmQagcowk"
      },
      "outputs": [],
      "source": [
        "import syft_client as sc\n",
        "from pathlib import Path\n",
        "import requests"
      ]
    },
    {
      "cell_type": "markdown",
      "metadata": {
        "id": "qH6dj0DUcr_I"
      },
      "source": [
        "## Login"
      ]
    },
    {
      "cell_type": "code",
      "execution_count": 3,
      "metadata": {
        "id": "tYpXAZT6cpzE"
      },
      "outputs": [
        {
          "name": "stdout",
          "output_type": "stream",
          "text": [
            "✅ Connected peer-to-peer to 1 peer via: Gmail, Gdrive_Files, Gsheets, Gforms                            \n"
          ]
        }
      ],
      "source": [
        "do_email = input(\"Enter Data Owner email: \")\n",
        "do_client = sc.login(do_email)"
      ]
    },
    {
      "cell_type": "markdown",
      "metadata": {
        "id": "9PqV1i8bdFS3"
      },
      "source": [
        "## Peer Addition"
      ]
    },
    {
      "cell_type": "code",
      "execution_count": null,
      "metadata": {
        "id": "FZGHz5cuc9d5"
      },
      "outputs": [],
      "source": [
        "do_client.peers"
      ]
    },
    {
      "cell_type": "code",
      "execution_count": null,
      "metadata": {
        "id": "Jra4OoYUdOSf"
      },
      "outputs": [],
      "source": [
        "ds_email = input(\"Enter Data Scientist email: \")\n",
        "do_client.add_peer(ds_email)"
      ]
    },
    {
      "cell_type": "code",
      "execution_count": null,
      "metadata": {
        "id": "ZL9KSlpBdnBf"
      },
      "outputs": [],
      "source": [
        "do_client.peers"
      ]
    },
    {
      "cell_type": "markdown",
      "metadata": {
        "id": "jaZHpMJgdzRZ"
      },
      "source": [
        "## Upload Dataset"
      ]
    },
    {
      "cell_type": "markdown",
      "metadata": {},
      "source": [
        "### Mock Dataset"
      ]
    },
    {
      "cell_type": "code",
      "execution_count": null,
      "metadata": {},
      "outputs": [],
      "source": [
        "MOCK_DATASET_URL = \"https://raw.githubusercontent.com/OpenMined/datasets/refs/heads/main/beach/sales-dataset/mock/sales.csv\"\n",
        "\n",
        "mock_local_path = Path(do_client.folder) / \"datasites\" / do_client.email / \"public\" / \"sales-dataset\" / \"sales.csv\"\n",
        "mock_local_path.parent.mkdir(parents=True, exist_ok=True)\n",
        "r = requests.get(MOCK_DATASET_URL)\n",
        "with open(mock_local_path, \"wb\") as f:\n",
        "    f.write(r.content)\n",
        "\n"
      ]
    },
    {
      "cell_type": "markdown",
      "metadata": {},
      "source": [
        "### Private Dataset"
      ]
    },
    {
      "cell_type": "code",
      "execution_count": 14,
      "metadata": {
        "id": "G8NUl1kXdrNU"
      },
      "outputs": [],
      "source": [
        "PRIVATE_DATASET_URL = \"https://raw.githubusercontent.com/OpenMined/datasets/refs/heads/main/beach/sales-dataset/private/sales.csv\"\n",
        "\n",
        "private_local_path = Path(do_client.folder) / \"private\" / \"sales-dataset\" / \"sales.csv\"\n",
        "private_local_path.parent.mkdir(parents=True, exist_ok=True)\n",
        "r = requests.get(PRIVATE_DATASET_URL)\n",
        "with open(private_local_path, \"wb\") as f:\n",
        "    f.write(r.content)"
      ]
    },
    {
      "cell_type": "markdown",
      "metadata": {
        "id": "lxKccii-d4sH"
      },
      "source": [
        "## Review Jobs"
      ]
    },
    {
      "cell_type": "code",
      "execution_count": null,
      "metadata": {
        "id": "4j1otu4sd6ir"
      },
      "outputs": [],
      "source": [
        "do_client.jobs"
      ]
    },
    {
      "cell_type": "code",
      "execution_count": null,
      "metadata": {
        "id": "UT5s28fXeBEh"
      },
      "outputs": [],
      "source": [
        "do_client.jobs[0].approve()"
      ]
    },
    {
      "cell_type": "code",
      "execution_count": null,
      "metadata": {},
      "outputs": [],
      "source": [
        "do_client.jobs[1]"
      ]
    },
    {
      "cell_type": "code",
      "execution_count": null,
      "metadata": {},
      "outputs": [],
      "source": [
        "do_client.jobs[4].stdout"
      ]
    },
    {
      "cell_type": "code",
      "execution_count": null,
      "metadata": {
        "id": "6LBRVMf0eSw4"
      },
      "outputs": [],
      "source": []
    },
    {
      "cell_type": "markdown",
      "metadata": {
        "id": "5E5PT7qni-yU"
      },
      "source": []
    },
    {
      "cell_type": "code",
      "execution_count": null,
      "metadata": {
        "id": "SljLx6yEsJeR"
      },
      "outputs": [],
      "source": []
    }
  ],
  "metadata": {
    "colab": {
      "provenance": []
    },
    "kernelspec": {
      "display_name": "syft-client",
      "language": "python",
      "name": "python3"
    },
    "language_info": {
      "codemirror_mode": {
        "name": "ipython",
        "version": 3
      },
      "file_extension": ".py",
      "mimetype": "text/x-python",
      "name": "python",
      "nbconvert_exporter": "python",
      "pygments_lexer": "ipython3",
      "version": "3.12.8"
    }
  },
  "nbformat": 4,
  "nbformat_minor": 0
}
