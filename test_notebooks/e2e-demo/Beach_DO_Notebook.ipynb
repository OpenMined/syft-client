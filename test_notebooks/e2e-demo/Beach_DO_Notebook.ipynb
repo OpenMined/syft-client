{
  "cells": [
    {
      "cell_type": "markdown",
      "metadata": {
        "id": "Qy06lIQ8ckV-"
      },
      "source": [
        "## Dependencies"
      ]
    },
    {
      "cell_type": "code",
      "execution_count": 1,
      "metadata": {
        "collapsed": true,
        "id": "POPAnyJacmE8"
      },
      "outputs": [
        {
          "name": "stdout",
          "output_type": "stream",
          "text": [
            "\u001b[2mUsing Python 3.12.11 environment at: /Users/koen/miniconda3/envs/beach\u001b[0m\n",
            "\u001b[2K\u001b[2mResolved \u001b[1m78 packages\u001b[0m \u001b[2min 890ms\u001b[0m\u001b[0m                                        \u001b[0m\n",
            "\u001b[2K\u001b[37m⠙\u001b[0m \u001b[2m\u001b[0m (2/2)                                                                        \u001b[2mPrepared \u001b[1m2 packages\u001b[0m \u001b[2min 200ms\u001b[0m\u001b[0m\n",
            "\u001b[2mUninstalled \u001b[1m1 package\u001b[0m \u001b[2min 3ms\u001b[0m\u001b[0m\n",
            "\u001b[2K\u001b[2mInstalled \u001b[1m2 packages\u001b[0m \u001b[2min 22ms\u001b[0m\u001b[0m                                \u001b[0m\n",
            " \u001b[31m-\u001b[39m \u001b[1msyft-client\u001b[0m\u001b[2m==0.1.67 (from file:///Users/koen/workspace/syft-client)\u001b[0m\n",
            " \u001b[32m+\u001b[39m \u001b[1msyft-client\u001b[0m\u001b[2m==0.1.84\u001b[0m\n",
            " \u001b[32m+\u001b[39m \u001b[1msyft-job\u001b[0m\u001b[2m==0.1.18\u001b[0m\n"
          ]
        }
      ],
      "source": [
        "!uv pip install \"syft-client[job]\" --upgrade"
      ]
    },
    {
      "cell_type": "code",
      "execution_count": 10,
      "metadata": {},
      "outputs": [],
      "source": [
        "from enum import Enum\n",
        "\n",
        "# class Platform(Enum):\n",
        "#     GOOGLE_PERSONAL = (\"google_personal\", \"Personal Gmail accounts\")\n",
        "#     GOOGLE_ORG = (\"google_org\", \"Google Workspace accounts\")\n",
        "    \n",
        "#     def __init__(self, value, description):\n",
        "#         self._value_ = value\n",
        "#         # If no description was given, create a default one\n",
        "#         self.description = description\n",
        "\n",
        "class Platform(Enum):\n",
        "    GOOGLE_PERSONAL = \"google_personal\"\n",
        "    "
      ]
    },
    {
      "cell_type": "code",
      "execution_count": 11,
      "metadata": {},
      "outputs": [
        {
          "data": {
            "text/plain": [
              "<Platform.GOOGLE_PERSONAL: 'google_personal'>"
            ]
          },
          "execution_count": 11,
          "metadata": {},
          "output_type": "execute_result"
        }
      ],
      "source": [
        "Platform(\"google_personal\")"
      ]
    },
    {
      "cell_type": "code",
      "execution_count": 2,
      "metadata": {
        "id": "1r-jmQagcowk"
      },
      "outputs": [],
      "source": [
        "import syft_client as sc\n",
        "from pathlib import Path\n",
        "import requests"
      ]
    },
    {
      "cell_type": "markdown",
      "metadata": {
        "id": "qH6dj0DUcr_I"
      },
      "source": [
        "## Login"
      ]
    },
    {
      "cell_type": "code",
      "execution_count": 3,
      "metadata": {
        "id": "tYpXAZT6cpzE"
      },
      "outputs": [
        {
          "name": "stdout",
          "output_type": "stream",
          "text": [
            "🔄 Adding andrew@openmined.org on google_org.gdrive_files...                                    \n",
            "   ✅ Added on google_org.gdrive_files\n",
            "🔄 Adding andrew@openmined.org on google_org.gmail...\n",
            "   ✅ Added on google_org.gmail\n",
            "🔄 Adding andrew@openmined.org on google_org.gsheets...\n",
            "   ✅ Added on google_org.gsheets\n",
            "\n",
            "✅ Peer andrew@openmined.org added successfully on 3 transport(s)\n",
            "   • google_org.gdrive_files\n",
            "   • google_org.gmail\n",
            "   • google_org.gsheets\n",
            "✅ Connected peer-to-peer to 1 peer via: Gdrive_Files, Gsheets, Gforms               \n",
            "\n",
            "📬 Automatically accepted 1 peer request: andrew@openmined.org\n"
          ]
        }
      ],
      "source": [
        "do_email = input(\"Enter Data Owner email: \")\n",
        "do_client = sc.login(do_email)"
      ]
    },
    {
      "cell_type": "markdown",
      "metadata": {
        "id": "9PqV1i8bdFS3"
      },
      "source": [
        "## Peer Addition"
      ]
    },
    {
      "cell_type": "code",
      "execution_count": 4,
      "metadata": {
        "id": "FZGHz5cuc9d5"
      },
      "outputs": [
        {
          "data": {
            "text/html": [
              "<pre style=\"white-space:pre;overflow-x:auto;line-height:normal;font-family:Menlo,'DejaVu Sans Mono',consolas,'Courier New',monospace\">╭─<span style=\"font-weight: bold\"> Peers &amp; Requests</span><span style=\"color: #7f7f7f; text-decoration-color: #7f7f7f; font-weight: bold\">  (1 active, 0 pending)</span><span style=\"font-weight: bold\"> </span>────────────────────╮\n",
              "│                                                              │\n",
              "│  <span style=\"color: #008000; text-decoration-color: #008000; font-weight: bold\">client.peers</span><span style=\"color: #7fbf7f; text-decoration-color: #7fbf7f; font-weight: bold\">  [0] or ['email']</span>                              │\n",
              "│    [0] andrew@openmined.org         ✓ gdrive_files, gsheets  │\n",
              "│                                                              │\n",
              "│  <span style=\"color: #808000; text-decoration-color: #808000; font-weight: bold\">client.peers.requests</span><span style=\"color: #bfbf7f; text-decoration-color: #bfbf7f; font-weight: bold\">  None</span>                                 │\n",
              "│                                                              │\n",
              "╰──────────────────────────────────────────────────────────────╯\n",
              "</pre>\n"
            ],
            "text/plain": [
              "╭─\u001b[1m Peers & Requests\u001b[0m\u001b[1;2m  (1 active, 0 pending)\u001b[0m\u001b[1m \u001b[0m────────────────────╮\n",
              "│                                                              │\n",
              "│  \u001b[1;32mclient.peers\u001b[0m\u001b[1;2;32m  [0] or ['email']\u001b[0m                              │\n",
              "│    [0] andrew@openmined.org         ✓ gdrive_files, gsheets  │\n",
              "│                                                              │\n",
              "│  \u001b[1;33mclient.peers.requests\u001b[0m\u001b[1;2;33m  None\u001b[0m                                 │\n",
              "│                                                              │\n",
              "╰──────────────────────────────────────────────────────────────╯\n"
            ]
          },
          "metadata": {},
          "output_type": "display_data"
        },
        {
          "data": {
            "text/plain": []
          },
          "execution_count": 4,
          "metadata": {},
          "output_type": "execute_result"
        }
      ],
      "source": [
        "do_client.peers"
      ]
    },
    {
      "cell_type": "code",
      "execution_count": 5,
      "metadata": {
        "id": "Jra4OoYUdOSf"
      },
      "outputs": [
        {
          "name": "stdout",
          "output_type": "stream",
          "text": [
            "❌ Invalid email address: \n"
          ]
        },
        {
          "data": {
            "text/plain": [
              "False"
            ]
          },
          "execution_count": 5,
          "metadata": {},
          "output_type": "execute_result"
        }
      ],
      "source": [
        "ds_email = input(\"Enter Data Scientist email: \")\n",
        "do_client.add_peer(ds_email)"
      ]
    },
    {
      "cell_type": "code",
      "execution_count": null,
      "metadata": {
        "id": "ZL9KSlpBdnBf"
      },
      "outputs": [],
      "source": [
        "do_client.peers"
      ]
    },
    {
      "cell_type": "markdown",
      "metadata": {
        "id": "jaZHpMJgdzRZ"
      },
      "source": [
        "## Upload Dataset"
      ]
    },
    {
      "cell_type": "markdown",
      "metadata": {},
      "source": [
        "### Mock Dataset"
      ]
    },
    {
      "cell_type": "code",
      "execution_count": null,
      "metadata": {},
      "outputs": [],
      "source": [
        "MOCK_DATASET_URL = \"https://raw.githubusercontent.com/OpenMined/datasets/refs/heads/main/beach/sales-dataset/mock/sales.csv\"\n",
        "\n",
        "mock_local_path = Path(do_client.folder) / \"datasites\" / do_client.email / \"public\" / \"sales-dataset\" / \"sales.csv\"\n",
        "mock_local_path.parent.mkdir(parents=True, exist_ok=True)\n",
        "r = requests.get(MOCK_DATASET_URL)\n",
        "with open(mock_local_path, \"wb\") as f:\n",
        "    f.write(r.content)\n",
        "\n"
      ]
    },
    {
      "cell_type": "markdown",
      "metadata": {},
      "source": [
        "### Private Dataset"
      ]
    },
    {
      "cell_type": "code",
      "execution_count": null,
      "metadata": {
        "id": "G8NUl1kXdrNU"
      },
      "outputs": [],
      "source": [
        "PRIVATE_DATASET_URL = \"https://raw.githubusercontent.com/OpenMined/datasets/refs/heads/main/beach/sales-dataset/private/sales.csv\"\n",
        "\n",
        "private_local_path = Path(do_client.folder) / \"private\" / \"sales-dataset\" / \"sales.csv\"\n",
        "private_local_path.parent.mkdir(parents=True, exist_ok=True)\n",
        "r = requests.get(PRIVATE_DATASET_URL)\n",
        "with open(private_local_path, \"wb\") as f:\n",
        "    f.write(r.content)"
      ]
    },
    {
      "cell_type": "markdown",
      "metadata": {
        "id": "lxKccii-d4sH"
      },
      "source": [
        "## Review Jobs"
      ]
    },
    {
      "cell_type": "code",
      "execution_count": null,
      "metadata": {
        "id": "4j1otu4sd6ir"
      },
      "outputs": [],
      "source": [
        "do_client.jobs"
      ]
    },
    {
      "cell_type": "code",
      "execution_count": null,
      "metadata": {
        "id": "UT5s28fXeBEh"
      },
      "outputs": [],
      "source": [
        "do_client.jobs[1].approve()"
      ]
    },
    {
      "cell_type": "code",
      "execution_count": null,
      "metadata": {},
      "outputs": [],
      "source": [
        "do_client.jobs"
      ]
    },
    {
      "cell_type": "code",
      "execution_count": null,
      "metadata": {},
      "outputs": [],
      "source": [
        "do_client.jobs[4].stdout"
      ]
    },
    {
      "cell_type": "code",
      "execution_count": null,
      "metadata": {
        "id": "6LBRVMf0eSw4"
      },
      "outputs": [],
      "source": []
    },
    {
      "cell_type": "markdown",
      "metadata": {
        "id": "5E5PT7qni-yU"
      },
      "source": []
    },
    {
      "cell_type": "code",
      "execution_count": null,
      "metadata": {
        "id": "SljLx6yEsJeR"
      },
      "outputs": [],
      "source": []
    }
  ],
  "metadata": {
    "colab": {
      "provenance": []
    },
    "kernelspec": {
      "display_name": "Python 3 (ipykernel)",
      "language": "python",
      "name": "python3"
    },
    "language_info": {
      "codemirror_mode": {
        "name": "ipython",
        "version": 3
      },
      "file_extension": ".py",
      "mimetype": "text/x-python",
      "name": "python",
      "nbconvert_exporter": "python",
      "pygments_lexer": "ipython3",
      "version": "3.12.11"
    }
  },
  "nbformat": 4,
  "nbformat_minor": 0
}
