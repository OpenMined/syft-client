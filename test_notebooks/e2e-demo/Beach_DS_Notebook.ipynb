{
  "cells": [
    {
      "cell_type": "markdown",
      "metadata": {
        "id": "v3hgnhmKaPDc"
      },
      "source": [
        "## Dependencies"
      ]
    },
    {
      "cell_type": "code",
      "execution_count": null,
      "metadata": {
        "collapsed": true,
        "id": "R_CnJwGMXeTD"
      },
      "outputs": [],
      "source": [
        "!uv pip install \"syft-client[job]\" --upgrade"
      ]
    },
    {
      "cell_type": "code",
      "execution_count": null,
      "metadata": {
        "id": "1B02kw43YrTA"
      },
      "outputs": [],
      "source": [
        "import syft_client as sc"
      ]
    },
    {
      "cell_type": "markdown",
      "metadata": {
        "id": "vw-Ij8J-ZCuU"
      },
      "source": [
        "## Login"
      ]
    },
    {
      "cell_type": "code",
      "execution_count": null,
      "metadata": {
        "id": "FbNXOofkZDx6"
      },
      "outputs": [],
      "source": [
        "ds_email = input(\"Enter Data Scientist email: \")\n",
        "ds_client = sc.login(ds_email)"
      ]
    },
    {
      "cell_type": "markdown",
      "metadata": {
        "id": "87-ho6PTZrj-"
      },
      "source": [
        "## Peer Addition"
      ]
    },
    {
      "cell_type": "code",
      "execution_count": null,
      "metadata": {
        "id": "VCz_5LFFZzY0"
      },
      "outputs": [],
      "source": [
        "ds_client.peers"
      ]
    },
    {
      "cell_type": "code",
      "execution_count": null,
      "metadata": {
        "id": "VTsg4HTeZs_t"
      },
      "outputs": [],
      "source": [
        "do_email = input(\"Enter Data Owner email \")\n",
        "ds_client.add_peer(do_email)"
      ]
    },
    {
      "cell_type": "code",
      "execution_count": null,
      "metadata": {},
      "outputs": [],
      "source": [
        "ds_client.peers"
      ]
    },
    {
      "cell_type": "markdown",
      "metadata": {
        "id": "LCm4-NxLatRU"
      },
      "source": [
        "## Propose Analysis"
      ]
    },
    {
      "cell_type": "code",
      "execution_count": null,
      "metadata": {
        "id": "y-SZb741bPLz"
      },
      "outputs": [],
      "source": [
        "code_file_name = \"main.py\""
      ]
    },
    {
      "cell_type": "code",
      "execution_count": null,
      "metadata": {
        "id": "Nz9g_33fZ7gZ"
      },
      "outputs": [],
      "source": [
        "%%writefile {code_file_name}\n",
        "\n",
        "import syft_client as sc\n",
        "\n",
        "data_path = \"syft://private/sales-dataset/sales.csv\"\n",
        "resolved_path = sc.resolve_path(data_path)\n",
        "\n",
        "import pandas as pd\n",
        "\n",
        "df = pd.read_csv(resolved_path)\n",
        "\n",
        "print(f\"Total Sales: {(df['quantity'] * df['price_per_unit']).sum()}\")"
      ]
    },
    {
      "cell_type": "markdown",
      "metadata": {
        "id": "GlLO2lpKbfTw"
      },
      "source": [
        "## Submit Analysis"
      ]
    },
    {
      "cell_type": "code",
      "execution_count": null,
      "metadata": {
        "id": "hdr0Uy8-a8U0"
      },
      "outputs": [],
      "source": [
        "ds_client.submit_python_job(\n",
        "    user=do_email,\n",
        "    code_path=code_file_name\n",
        ")"
      ]
    },
    {
      "cell_type": "markdown",
      "metadata": {
        "id": "ZczrM0nhbxfC"
      },
      "source": [
        "## Job Status"
      ]
    },
    {
      "cell_type": "code",
      "execution_count": null,
      "metadata": {
        "id": "_voxt6bUbnFJ"
      },
      "outputs": [],
      "source": [
        "ds_client.jobs"
      ]
    },
    {
      "cell_type": "code",
      "execution_count": null,
      "metadata": {
        "id": "NHY0CHG7b0BY"
      },
      "outputs": [],
      "source": [
        "ds_client.jobs[15].stdout"
      ]
    },
    {
      "cell_type": "code",
      "execution_count": null,
      "metadata": {
        "id": "Umf_N9DPb-OV"
      },
      "outputs": [],
      "source": [
        "ds_client.jobs[-1].stdout"
      ]
    },
    {
      "cell_type": "code",
      "execution_count": null,
      "metadata": {
        "id": "qaI53nyBcCWC"
      },
      "outputs": [],
      "source": [
        "print(ds_client.servers[0].stdout.tail(100))"
      ]
    },
    {
      "cell_type": "code",
      "execution_count": null,
      "metadata": {
        "id": "dXaPMvTogumk"
      },
      "outputs": [],
      "source": []
    }
  ],
  "metadata": {
    "colab": {
      "provenance": []
    },
    "kernelspec": {
      "display_name": "syft-client",
      "language": "python",
      "name": "python3"
    },
    "language_info": {
      "codemirror_mode": {
        "name": "ipython",
        "version": 3
      },
      "file_extension": ".py",
      "mimetype": "text/x-python",
      "name": "python",
      "nbconvert_exporter": "python",
      "pygments_lexer": "ipython3",
      "version": "3.12.8"
    }
  },
  "nbformat": 4,
  "nbformat_minor": 0
}
