{
  "nbformat": 4,
  "nbformat_minor": 0,
  "metadata": {
    "colab": {
      "provenance": []
    },
    "kernelspec": {
      "name": "python3",
      "display_name": "Python 3"
    },
    "language_info": {
      "name": "python"
    }
  },
  "cells": [
    {
      "cell_type": "markdown",
      "source": [
        "## Dependencies"
      ],
      "metadata": {
        "id": "v3hgnhmKaPDc"
      }
    },
    {
      "cell_type": "code",
      "execution_count": null,
      "metadata": {
        "id": "R_CnJwGMXeTD",
        "collapsed": true
      },
      "outputs": [],
      "source": [
        "!pip install syft-client[job]"
      ]
    },
    {
      "cell_type": "code",
      "source": [
        "import syft_client as sc"
      ],
      "metadata": {
        "id": "1B02kw43YrTA"
      },
      "execution_count": null,
      "outputs": []
    },
    {
      "cell_type": "markdown",
      "source": [
        "## Login"
      ],
      "metadata": {
        "id": "vw-Ij8J-ZCuU"
      }
    },
    {
      "cell_type": "code",
      "source": [
        "ds_email = input(\"Enter Data Scientist email: \")\n",
        "ds_client = sc.login(ds_email)"
      ],
      "metadata": {
        "id": "FbNXOofkZDx6"
      },
      "execution_count": null,
      "outputs": []
    },
    {
      "cell_type": "markdown",
      "source": [
        "## Peer Addition"
      ],
      "metadata": {
        "id": "87-ho6PTZrj-"
      }
    },
    {
      "cell_type": "code",
      "source": [
        "ds_client.peers"
      ],
      "metadata": {
        "id": "VCz_5LFFZzY0"
      },
      "execution_count": null,
      "outputs": []
    },
    {
      "cell_type": "code",
      "source": [
        "do_email = input(\"Enter Data Owner: \")\n",
        "ds_client.add_peer(do_email)"
      ],
      "metadata": {
        "id": "VTsg4HTeZs_t"
      },
      "execution_count": null,
      "outputs": []
    },
    {
      "cell_type": "code",
      "source": [
        "ds_client.peers"
      ],
      "metadata": {
        "id": "7317F8IkZ5R4"
      },
      "execution_count": null,
      "outputs": []
    },
    {
      "cell_type": "markdown",
      "source": [
        "## Propose Analysis"
      ],
      "metadata": {
        "id": "LCm4-NxLatRU"
      }
    },
    {
      "cell_type": "code",
      "source": [
        "code_file_name = \"main.py\""
      ],
      "metadata": {
        "id": "y-SZb741bPLz"
      },
      "execution_count": null,
      "outputs": []
    },
    {
      "cell_type": "code",
      "source": [
        "%%writefile {code_file_name}\n",
        "\n",
        "import pandas as pd\n",
        "print(\"Hello World\")"
      ],
      "metadata": {
        "id": "Nz9g_33fZ7gZ"
      },
      "execution_count": null,
      "outputs": []
    },
    {
      "cell_type": "markdown",
      "source": [
        "## Submit Analysis"
      ],
      "metadata": {
        "id": "GlLO2lpKbfTw"
      }
    },
    {
      "cell_type": "code",
      "source": [
        "ds_client.submit_python_job(\n",
        "    user=do_email,\n",
        "    code_path=code_file_name\n",
        ")"
      ],
      "metadata": {
        "id": "hdr0Uy8-a8U0"
      },
      "execution_count": null,
      "outputs": []
    },
    {
      "cell_type": "markdown",
      "source": [
        "## Job Status"
      ],
      "metadata": {
        "id": "ZczrM0nhbxfC"
      }
    },
    {
      "cell_type": "code",
      "source": [
        "ds_client.jobs"
      ],
      "metadata": {
        "id": "_voxt6bUbnFJ"
      },
      "execution_count": null,
      "outputs": []
    },
    {
      "cell_type": "code",
      "source": [
        "ds_client.jobs[-1]"
      ],
      "metadata": {
        "id": "NHY0CHG7b0BY"
      },
      "execution_count": null,
      "outputs": []
    },
    {
      "cell_type": "code",
      "source": [
        "ds_client.jobs[-1].stdout"
      ],
      "metadata": {
        "id": "Umf_N9DPb-OV"
      },
      "execution_count": null,
      "outputs": []
    },
    {
      "cell_type": "code",
      "source": [
        "print(ds_client.servers[0].stdout.tail(100))"
      ],
      "metadata": {
        "id": "qaI53nyBcCWC"
      },
      "execution_count": null,
      "outputs": []
    },
    {
      "cell_type": "code",
      "source": [],
      "metadata": {
        "id": "dXaPMvTogumk"
      },
      "execution_count": null,
      "outputs": []
    }
  ]
}