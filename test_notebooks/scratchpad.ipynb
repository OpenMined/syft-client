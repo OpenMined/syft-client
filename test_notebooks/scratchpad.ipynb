{
 "cells": [
  {
   "cell_type": "code",
   "execution_count": 1,
   "id": "9b86ea6f-a5b6-429f-b809-f2f06aa0cb8c",
   "metadata": {},
   "outputs": [],
   "source": [
    "import sys\n",
    "sys.path.insert(0, '..')\n",
    "import syft_client as sc"
   ]
  },
  {
   "cell_type": "code",
   "execution_count": 5,
   "id": "fd9b7672-1c25-4d33-a466-7ed7465f7250",
   "metadata": {},
   "outputs": [],
   "source": [
    "client = sc.login(\"liamtrask@gmail.com\")"
   ]
  },
  {
   "cell_type": "code",
   "execution_count": 12,
   "id": "85653ebc-fc37-4db8-890b-bd44bfb57d97",
   "metadata": {},
   "outputs": [
    {
     "data": {
      "text/html": [
       "<pre style=\"white-space:pre;overflow-x:auto;line-height:normal;font-family:Menlo,'DejaVu Sans Mono',consolas,'Courier New',monospace\">╭───────────────────────── PlatformRegistry ─────────────────────────╮\n",
       "│                                                                    │\n",
       "│  <span style=\"color: #7f7f7f; text-decoration-color: #7f7f7f\">.apple  </span><span style=\"color: #7f7f7f; text-decoration-color: #7f7f7f; font-style: italic\">(not authenticated)</span><span style=\"color: #7f7f7f; text-decoration-color: #7f7f7f\">                                     </span>  │\n",
       "│  <span style=\"color: #7f7f7f; text-decoration-color: #7f7f7f\">.dropbox  </span><span style=\"color: #7f7f7f; text-decoration-color: #7f7f7f; font-style: italic\">(not authenticated)</span><span style=\"color: #7f7f7f; text-decoration-color: #7f7f7f\">                                   </span>  │\n",
       "│  <span style=\"color: #7f7f7f; text-decoration-color: #7f7f7f\">.fastmail  </span><span style=\"color: #7f7f7f; text-decoration-color: #7f7f7f; font-style: italic\">(not authenticated)</span><span style=\"color: #7f7f7f; text-decoration-color: #7f7f7f\">                                  </span>  │\n",
       "│  <span style=\"color: #7f7f7f; text-decoration-color: #7f7f7f\">.gmx  </span><span style=\"color: #7f7f7f; text-decoration-color: #7f7f7f; font-style: italic\">(not authenticated)</span><span style=\"color: #7f7f7f; text-decoration-color: #7f7f7f\">                                       </span>  │\n",
       "│  <span style=\"color: #7f7f7f; text-decoration-color: #7f7f7f\">.google_org  </span><span style=\"color: #7f7f7f; text-decoration-color: #7f7f7f; font-style: italic\">(not authenticated)</span><span style=\"color: #7f7f7f; text-decoration-color: #7f7f7f\">                                </span>  │\n",
       "│  <span style=\"color: #bfbf7f; text-decoration-color: #bfbf7f; font-weight: bold\">.google_personal</span><span style=\"color: #7f7f7f; text-decoration-color: #7f7f7f\">                                                </span>  │\n",
       "│  <span style=\"color: #7f7f7f; text-decoration-color: #7f7f7f\">    </span><span style=\"color: #7fbf7f; text-decoration-color: #7fbf7f\">✓</span><span style=\"color: #7f7f7f; text-decoration-color: #7f7f7f\"> .gmail                        </span><span style=\"color: #7fbf7f; text-decoration-color: #7fbf7f\">✓</span><span style=\"color: #7f7f7f; text-decoration-color: #7f7f7f\"> .gdrive_files             </span>  │\n",
       "│  <span style=\"color: #7f7f7f; text-decoration-color: #7f7f7f\">    </span><span style=\"color: #7fbf7f; text-decoration-color: #7fbf7f\">✓</span><span style=\"color: #7f7f7f; text-decoration-color: #7f7f7f\"> .gsheets                      </span><span style=\"color: #7fbf7f; text-decoration-color: #7fbf7f\">✓</span><span style=\"color: #7f7f7f; text-decoration-color: #7f7f7f\"> .gforms                   </span>  │\n",
       "│  <span style=\"color: #7f7f7f; text-decoration-color: #7f7f7f\">                                                                </span>  │\n",
       "│  <span style=\"color: #7f7f7f; text-decoration-color: #7f7f7f\">.mailcom  </span><span style=\"color: #7f7f7f; text-decoration-color: #7f7f7f; font-style: italic\">(not authenticated)</span><span style=\"color: #7f7f7f; text-decoration-color: #7f7f7f\">                                   </span>  │\n",
       "│  <span style=\"color: #7f7f7f; text-decoration-color: #7f7f7f\">.mailru  </span><span style=\"color: #7f7f7f; text-decoration-color: #7f7f7f; font-style: italic\">(not authenticated)</span><span style=\"color: #7f7f7f; text-decoration-color: #7f7f7f\">                                    </span>  │\n",
       "│  <span style=\"color: #7f7f7f; text-decoration-color: #7f7f7f\">.microsoft  </span><span style=\"color: #7f7f7f; text-decoration-color: #7f7f7f; font-style: italic\">(not authenticated)</span><span style=\"color: #7f7f7f; text-decoration-color: #7f7f7f\">                                 </span>  │\n",
       "│  <span style=\"color: #7f7f7f; text-decoration-color: #7f7f7f\">.naver  </span><span style=\"color: #7f7f7f; text-decoration-color: #7f7f7f; font-style: italic\">(not authenticated)</span><span style=\"color: #7f7f7f; text-decoration-color: #7f7f7f\">                                     </span>  │\n",
       "│  <span style=\"color: #7f7f7f; text-decoration-color: #7f7f7f\">.netease  </span><span style=\"color: #7f7f7f; text-decoration-color: #7f7f7f; font-style: italic\">(not authenticated)</span><span style=\"color: #7f7f7f; text-decoration-color: #7f7f7f\">                                   </span>  │\n",
       "│  <span style=\"color: #7f7f7f; text-decoration-color: #7f7f7f\">.proton  </span><span style=\"color: #7f7f7f; text-decoration-color: #7f7f7f; font-style: italic\">(not authenticated)</span><span style=\"color: #7f7f7f; text-decoration-color: #7f7f7f\">                                    </span>  │\n",
       "│  <span style=\"color: #7f7f7f; text-decoration-color: #7f7f7f\">.qq  </span><span style=\"color: #7f7f7f; text-decoration-color: #7f7f7f; font-style: italic\">(not authenticated)</span><span style=\"color: #7f7f7f; text-decoration-color: #7f7f7f\">                                        </span>  │\n",
       "│  <span style=\"color: #7f7f7f; text-decoration-color: #7f7f7f\">.smtp  </span><span style=\"color: #7f7f7f; text-decoration-color: #7f7f7f; font-style: italic\">(not authenticated)</span><span style=\"color: #7f7f7f; text-decoration-color: #7f7f7f\">                                      </span>  │\n",
       "│  <span style=\"color: #7f7f7f; text-decoration-color: #7f7f7f\">.tutanota  </span><span style=\"color: #7f7f7f; text-decoration-color: #7f7f7f; font-style: italic\">(not authenticated)</span><span style=\"color: #7f7f7f; text-decoration-color: #7f7f7f\">                                  </span>  │\n",
       "│  <span style=\"color: #7f7f7f; text-decoration-color: #7f7f7f\">.yahoo  </span><span style=\"color: #7f7f7f; text-decoration-color: #7f7f7f; font-style: italic\">(not authenticated)</span><span style=\"color: #7f7f7f; text-decoration-color: #7f7f7f\">                                     </span>  │\n",
       "│  <span style=\"color: #7f7f7f; text-decoration-color: #7f7f7f\">.yandex  </span><span style=\"color: #7f7f7f; text-decoration-color: #7f7f7f; font-style: italic\">(not authenticated)</span><span style=\"color: #7f7f7f; text-decoration-color: #7f7f7f\">                                    </span>  │\n",
       "│  <span style=\"color: #7f7f7f; text-decoration-color: #7f7f7f\">.zoho  </span><span style=\"color: #7f7f7f; text-decoration-color: #7f7f7f; font-style: italic\">(not authenticated)</span><span style=\"color: #7f7f7f; text-decoration-color: #7f7f7f\">                                      </span>  │\n",
       "│                                                                    │\n",
       "╰────────────────────────────────────────────────────────────────────╯\n",
       "</pre>\n"
      ],
      "text/plain": [
       "╭───────────────────────── PlatformRegistry ─────────────────────────╮\n",
       "│                                                                    │\n",
       "│  \u001b[2m.apple\u001b[0m\u001b[2m  \u001b[0m\u001b[2;3m(not authenticated)\u001b[0m\u001b[2m                                     \u001b[0m  │\n",
       "│  \u001b[2m.dropbox\u001b[0m\u001b[2m  \u001b[0m\u001b[2;3m(not authenticated)\u001b[0m\u001b[2m                                   \u001b[0m  │\n",
       "│  \u001b[2m.fastmail\u001b[0m\u001b[2m  \u001b[0m\u001b[2;3m(not authenticated)\u001b[0m\u001b[2m                                  \u001b[0m  │\n",
       "│  \u001b[2m.gmx\u001b[0m\u001b[2m  \u001b[0m\u001b[2;3m(not authenticated)\u001b[0m\u001b[2m                                       \u001b[0m  │\n",
       "│  \u001b[2m.google_org\u001b[0m\u001b[2m  \u001b[0m\u001b[2;3m(not authenticated)\u001b[0m\u001b[2m                                \u001b[0m  │\n",
       "│  \u001b[1;2;33m.google_personal\u001b[0m\u001b[2m                                                \u001b[0m  │\n",
       "│  \u001b[2m  \u001b[0m\u001b[2m  \u001b[0m\u001b[2;32m✓\u001b[0m\u001b[2m .gmail                  \u001b[0m\u001b[2m  \u001b[0m\u001b[2m  \u001b[0m\u001b[2m  \u001b[0m\u001b[2;32m✓\u001b[0m\u001b[2m .gdrive_files           \u001b[0m\u001b[2m  \u001b[0m  │\n",
       "│  \u001b[2m  \u001b[0m\u001b[2m  \u001b[0m\u001b[2;32m✓\u001b[0m\u001b[2m .gsheets                \u001b[0m\u001b[2m  \u001b[0m\u001b[2m  \u001b[0m\u001b[2m  \u001b[0m\u001b[2;32m✓\u001b[0m\u001b[2m .gforms                 \u001b[0m\u001b[2m  \u001b[0m  │\n",
       "│  \u001b[2m                                                                \u001b[0m  │\n",
       "│  \u001b[2m.mailcom\u001b[0m\u001b[2m  \u001b[0m\u001b[2;3m(not authenticated)\u001b[0m\u001b[2m                                   \u001b[0m  │\n",
       "│  \u001b[2m.mailru\u001b[0m\u001b[2m  \u001b[0m\u001b[2;3m(not authenticated)\u001b[0m\u001b[2m                                    \u001b[0m  │\n",
       "│  \u001b[2m.microsoft\u001b[0m\u001b[2m  \u001b[0m\u001b[2;3m(not authenticated)\u001b[0m\u001b[2m                                 \u001b[0m  │\n",
       "│  \u001b[2m.naver\u001b[0m\u001b[2m  \u001b[0m\u001b[2;3m(not authenticated)\u001b[0m\u001b[2m                                     \u001b[0m  │\n",
       "│  \u001b[2m.netease\u001b[0m\u001b[2m  \u001b[0m\u001b[2;3m(not authenticated)\u001b[0m\u001b[2m                                   \u001b[0m  │\n",
       "│  \u001b[2m.proton\u001b[0m\u001b[2m  \u001b[0m\u001b[2;3m(not authenticated)\u001b[0m\u001b[2m                                    \u001b[0m  │\n",
       "│  \u001b[2m.qq\u001b[0m\u001b[2m  \u001b[0m\u001b[2;3m(not authenticated)\u001b[0m\u001b[2m                                        \u001b[0m  │\n",
       "│  \u001b[2m.smtp\u001b[0m\u001b[2m  \u001b[0m\u001b[2;3m(not authenticated)\u001b[0m\u001b[2m                                      \u001b[0m  │\n",
       "│  \u001b[2m.tutanota\u001b[0m\u001b[2m  \u001b[0m\u001b[2;3m(not authenticated)\u001b[0m\u001b[2m                                  \u001b[0m  │\n",
       "│  \u001b[2m.yahoo\u001b[0m\u001b[2m  \u001b[0m\u001b[2;3m(not authenticated)\u001b[0m\u001b[2m                                     \u001b[0m  │\n",
       "│  \u001b[2m.yandex\u001b[0m\u001b[2m  \u001b[0m\u001b[2;3m(not authenticated)\u001b[0m\u001b[2m                                    \u001b[0m  │\n",
       "│  \u001b[2m.zoho\u001b[0m\u001b[2m  \u001b[0m\u001b[2;3m(not authenticated)\u001b[0m\u001b[2m                                      \u001b[0m  │\n",
       "│                                                                    │\n",
       "╰────────────────────────────────────────────────────────────────────╯\n"
      ]
     },
     "metadata": {},
     "output_type": "display_data"
    },
    {
     "data": {
      "text/plain": []
     },
     "execution_count": 12,
     "metadata": {},
     "output_type": "execute_result"
    }
   ],
   "source": [
    "client.platforms"
   ]
  },
  {
   "cell_type": "code",
   "execution_count": 13,
   "id": "ff3bf331-3074-46cc-a05f-b3f744850079",
   "metadata": {},
   "outputs": [
    {
     "name": "stdout",
     "output_type": "stream",
     "text": [
      "\n",
      "🔧 Google Workspace OAuth2 Setup Wizard\n",
      "============================================================\n",
      "Setting up OAuth2 for: andrew@openmined.org\n",
      "\n",
      "This wizard will help you create OAuth2 credentials for Google Workspace.\n",
      "You'll need:\n",
      "  • A Google Workspace account with admin privileges\n",
      "  • Or permission from your Workspace admin\n",
      "  • A Google Cloud Platform project\n",
      "\n",
      "⚠️  Google Workspace accounts may require:\n",
      "  • Admin consent for certain scopes\n",
      "  • Domain-wide delegation for service accounts\n",
      "  • Workspace-specific API enablement\n",
      "\n",
      "📝 Let's create your OAuth2 app step by step:\n",
      "============================================================\n",
      "\n",
      "🌐 Step 1: Go to Google Cloud Console\n",
      "Open: https://console.cloud.google.com?authuser=andrew@openmined.org\n",
      "\n",
      "IMPORTANT: Sign in with your Workspace account: andrew@openmined.org\n",
      "\n",
      "📂 Step 2: Create or Select a Project\n",
      "If you don't have a project:\n",
      "  1. Click 'Select a project' dropdown (top bar)\n",
      "  2. Click 'New Project'\n",
      "  3. Enter a name (e.g., 'Syft Workspace Integration')\n",
      "  4. Note your Project ID (e.g., 'syft-workspace-123456')\n"
     ]
    },
    {
     "name": "stdin",
     "output_type": "stream",
     "text": [
      "\n",
      "Press Enter when you have a project ready... \n",
      "\n",
      "Enter your Project ID (or press Enter to skip):  studious-set-472120-i7\n"
     ]
    },
    {
     "name": "stdout",
     "output_type": "stream",
     "text": [
      "\n",
      "⚠️  IMPORTANT: Make sure you've switched to your project!\n",
      "Look at the top bar of Google Cloud Console\n",
      "It should show: studious-set-472120-i7\n",
      "If not, click the project dropdown and select your project\n"
     ]
    },
    {
     "name": "stdin",
     "output_type": "stream",
     "text": [
      "\n",
      "Press Enter when you've switched to your project... \n"
     ]
    },
    {
     "name": "stdout",
     "output_type": "stream",
     "text": [
      "\n",
      "🔌 Step 3: Enable Required APIs\n",
      "You need to enable these Google Workspace APIs:\n",
      "\n",
      "  • Gmail API\n",
      "    Open: https://console.cloud.google.com/marketplace/product/google/gmail.googleapis.com?authuser=andrew@openmined.org&project=studious-set-472120-i7\n",
      "    Click 'ENABLE' if not already enabled\n",
      "\n",
      "  • Google Drive API\n",
      "    Open: https://console.cloud.google.com/marketplace/product/google/drive.googleapis.com?authuser=andrew@openmined.org&project=studious-set-472120-i7\n",
      "    Click 'ENABLE' if not already enabled\n",
      "\n",
      "  • Google Sheets API\n",
      "    Open: https://console.cloud.google.com/marketplace/product/google/sheets.googleapis.com?authuser=andrew@openmined.org&project=studious-set-472120-i7\n",
      "    Click 'ENABLE' if not already enabled\n",
      "\n",
      "  • Google Forms API\n",
      "    Open: https://console.cloud.google.com/marketplace/product/google/forms.googleapis.com?authuser=andrew@openmined.org&project=studious-set-472120-i7\n",
      "    Click 'ENABLE' if not already enabled\n"
     ]
    },
    {
     "name": "stdin",
     "output_type": "stream",
     "text": [
      "\n",
      "Press Enter when all APIs are enabled... \n"
     ]
    },
    {
     "name": "stdout",
     "output_type": "stream",
     "text": [
      "\n",
      "🔐 Step 4: Configure OAuth Consent Screen\n",
      "Open: https://console.cloud.google.com/auth/overview/create?authuser=andrew@openmined.org&project=studious-set-472120-i7\n",
      "\n",
      "⚠️  WORKSPACE-SPECIFIC SETTINGS:\n",
      "  1. User Type: Choose 'Internal' (for your organization only)\n",
      "     - This limits access to users in your Workspace domain\n",
      "     - Requires fewer review steps than 'External'\n",
      "  2. App Name: 'Syft Workspace Client'\n",
      "  3. User Support Email: Your email\n",
      "  4. Authorized domains: Your workspace domain will be pre-filled\n",
      "  5. Developer Contact: Your email\n",
      "\n",
      "For Scopes:\n",
      "  • You can skip adding scopes manually here\n",
      "  • The app will request them during authentication\n"
     ]
    },
    {
     "name": "stdin",
     "output_type": "stream",
     "text": [
      "\n",
      "Press Enter when OAuth consent screen is configured... \n"
     ]
    },
    {
     "name": "stdout",
     "output_type": "stream",
     "text": [
      "\n",
      "💡 Note: If your organization blocks OAuth apps, you may need admin approval later.\n",
      "   For now, the app will work in testing mode with your account.\n",
      "\n",
      "🔑 Step 5: Create OAuth2 Credentials\n",
      "Open: https://console.cloud.google.com/apis/credentials?authuser=andrew@openmined.org&project=studious-set-472120-i7\n",
      "\n",
      "1. Click '+ CREATE CREDENTIALS' → 'OAuth client ID'\n",
      "2. Application type: 'Desktop app'\n",
      "3. Name: 'Syft Workspace Desktop Client'\n",
      "4. Click 'CREATE'\n",
      "5. Click 'DOWNLOAD JSON' to save the credentials file\n",
      "\n",
      "The file will be named something like:\n",
      "  client_secret_XXXXXXX.apps.googleusercontent.com.json\n",
      "\n",
      "Remember where you save it - you'll need the path in the next step.\n",
      "\n",
      "==================================================\n",
      "📁 Step 6: Provide Path to Downloaded Credentials\n",
      "==================================================\n",
      "\n",
      "Please provide the full path to the JSON file you just downloaded.\n",
      "Examples:\n",
      "  - ~/Downloads/client_secret_XXXXXXX.apps.googleusercontent.com.json\n",
      "  - /Users/you/Downloads/client_secret_*.json\n",
      "  - C:\\Users\\you\\Downloads\\client_secret_*.json (Windows)\n"
     ]
    },
    {
     "name": "stdin",
     "output_type": "stream",
     "text": [
      "\n",
      "Path to your downloaded credentials file:  ~/Downloads/client_secret_17926859461-hl1fac1qc6b0sjcm4tsad3rv78jmejf1.apps.googleusercontent.com.json\n"
     ]
    },
    {
     "name": "stdout",
     "output_type": "stream",
     "text": [
      "✅ Credentials file copied to: /Users/atrask/.syft/andrew_at_openmined_org/credentials.json\n",
      "\n",
      "✅ Success! Credentials saved to: /Users/atrask/.syft/andrew_at_openmined_org/credentials.json\n",
      "✓ Set secure file permissions\n",
      "Please visit this URL to authorize this application: https://accounts.google.com/o/oauth2/auth?response_type=code&client_id=17926859461-hl1fac1qc6b0sjcm4tsad3rv78jmejf1.apps.googleusercontent.com&redirect_uri=http%3A%2F%2Flocalhost%3A60486%2F&scope=https%3A%2F%2Fwww.googleapis.com%2Fauth%2Fgmail.send+https%3A%2F%2Fwww.googleapis.com%2Fauth%2Fgmail.readonly+https%3A%2F%2Fwww.googleapis.com%2Fauth%2Fgmail.modify+https%3A%2F%2Fwww.googleapis.com%2Fauth%2Fdrive+https%3A%2F%2Fwww.googleapis.com%2Fauth%2Fspreadsheets+https%3A%2F%2Fwww.googleapis.com%2Fauth%2Fforms.body&state=O3UiD6Xx5q00conGgqSfKTw5IBvWJW&access_type=offline\n",
      "\n",
      "🔐 Choose your token storage preference\n",
      "==================================================\n",
      "\n",
      "Tokens allow Syft to access Google services on your behalf.\n",
      "Where would you like to store them?\n",
      "\n",
      "1. Local File Storage - Simple, works everywhere\n"
     ]
    },
    {
     "name": "stdin",
     "output_type": "stream",
     "text": [
      "\n",
      "Your choice [1]:  1\n"
     ]
    },
    {
     "name": "stdout",
     "output_type": "stream",
     "text": [
      "\n",
      "✓ Local File Storage configured successfully!\n",
      "Future logins will use this storage method.\n",
      "\n",
      "🚀 Let's set up your Google Workspace services!\n",
      "==================================================\n",
      "\n",
      "Available services:\n",
      "\n",
      "1. Gmail (Required) - ○ Not configured\n",
      "   Send and receive emails with attachments\n",
      "   Features: Email notifications, Backend data transfer, HTML support\n",
      "\n",
      "2. Google Drive - ○ Not configured\n",
      "   Store and share files in the cloud\n",
      "   Features: File upload/download, Folder organization, Sharing\n",
      "\n",
      "3. Google Sheets - ○ Not configured\n",
      "   Create and manage spreadsheets\n",
      "   Features: Data tables, CSV export, Public sharing\n",
      "\n",
      "4. Google Forms - ○ Not configured\n",
      "   Create forms for data collection\n",
      "   Features: Dynamic forms, Response collection\n",
      "\n",
      "\n",
      "Quick setup options:\n",
      "1. Basic - Gmail only (recommended for testing)\n",
      "2. Standard - Gmail + Google Drive\n",
      "3. Full - All services\n",
      "4. Custom - Choose individually\n",
      "5. Skip for now\n"
     ]
    },
    {
     "name": "stdin",
     "output_type": "stream",
     "text": [
      "\n",
      "Your choice [2]:  3\n"
     ]
    },
    {
     "name": "stdout",
     "output_type": "stream",
     "text": [
      "\n",
      "✅ Setup complete!\n",
      "Configured: gmail, gdrive_files, gsheets, gforms\n"
     ]
    }
   ],
   "source": [
    "client2 = sc.login(\"andrew@openmined.org\")"
   ]
  },
  {
   "cell_type": "code",
   "execution_count": 6,
   "id": "1a7347b2-1700-4c1f-b5b1-032167113ad3",
   "metadata": {},
   "outputs": [
    {
     "data": {
      "text/html": [
       "<pre style=\"white-space:pre;overflow-x:auto;line-height:normal;font-family:Menlo,'DejaVu Sans Mono',consolas,'Courier New',monospace\">╭────────── GoogleOrgClient(email='andrew@openmined.org') ───────────╮\n",
       "│                                                                    │\n",
       "│  <span style=\"color: #7f7f7f; text-decoration-color: #7f7f7f; font-weight: bold\"> .gmail        </span><span style=\"color: #7f7f7f; text-decoration-color: #7f7f7f\"> </span><span style=\"color: #7fbf7f; text-decoration-color: #7fbf7f\">✓</span><span style=\"color: #7f7f7f; text-decoration-color: #7f7f7f\">         </span><span style=\"color: #7fbf7f; text-decoration-color: #7fbf7f\">0 steps</span><span style=\"color: #7f7f7f; text-decoration-color: #7f7f7f\">       keystore,               </span>  │\n",
       "│  <span style=\"color: #7f7f7f; text-decoration-color: #7f7f7f; font-weight: bold\">               </span><span style=\"color: #7f7f7f; text-decoration-color: #7f7f7f\">                         notifications, HTML     </span>  │\n",
       "│  <span style=\"color: #7f7f7f; text-decoration-color: #7f7f7f; font-weight: bold\"> .gdrive_files </span><span style=\"color: #7f7f7f; text-decoration-color: #7f7f7f\"> </span><span style=\"color: #7fbf7f; text-decoration-color: #7fbf7f\">✓</span><span style=\"color: #7f7f7f; text-decoration-color: #7f7f7f\">         </span><span style=\"color: #7fbf7f; text-decoration-color: #7fbf7f\">0 steps</span><span style=\"color: #7f7f7f; text-decoration-color: #7f7f7f\">       keystore, public        </span>  │\n",
       "│  <span style=\"color: #7f7f7f; text-decoration-color: #7f7f7f; font-weight: bold\">               </span><span style=\"color: #7f7f7f; text-decoration-color: #7f7f7f\">                         sharing                 </span>  │\n",
       "│  <span style=\"color: #7f7f7f; text-decoration-color: #7f7f7f; font-weight: bold\"> .gsheets      </span><span style=\"color: #7f7f7f; text-decoration-color: #7f7f7f\"> </span><span style=\"color: #7fbf7f; text-decoration-color: #7fbf7f\">✓</span><span style=\"color: #7f7f7f; text-decoration-color: #7f7f7f\">         </span><span style=\"color: #7fbf7f; text-decoration-color: #7fbf7f\">0 steps</span><span style=\"color: #7f7f7f; text-decoration-color: #7f7f7f\">       public sharing          </span>  │\n",
       "│  <span style=\"color: #7f7f7f; text-decoration-color: #7f7f7f; font-weight: bold\"> .gforms       </span><span style=\"color: #7f7f7f; text-decoration-color: #7f7f7f\"> </span><span style=\"color: #7fbf7f; text-decoration-color: #7fbf7f\">✓</span><span style=\"color: #7f7f7f; text-decoration-color: #7f7f7f\">         </span><span style=\"color: #7fbf7f; text-decoration-color: #7fbf7f\">0 steps</span><span style=\"color: #7f7f7f; text-decoration-color: #7f7f7f\">       HTML                    </span>  │\n",
       "│                                                                    │\n",
       "╰────────────────────────────────────────────────────────────────────╯\n",
       "</pre>\n"
      ],
      "text/plain": [
       "╭────────── GoogleOrgClient(email='andrew@openmined.org') ───────────╮\n",
       "│                                                                    │\n",
       "│  \u001b[1;2m \u001b[0m\u001b[1;2m.gmail       \u001b[0m\u001b[1;2m \u001b[0m\u001b[2m \u001b[0m\u001b[2;32m✓\u001b[0m\u001b[2m       \u001b[0m\u001b[2m \u001b[0m\u001b[2m \u001b[0m\u001b[2;32m0 steps\u001b[0m\u001b[2m     \u001b[0m\u001b[2m \u001b[0m\u001b[2m \u001b[0m\u001b[2mkeystore,              \u001b[0m\u001b[2m \u001b[0m  │\n",
       "│  \u001b[1;2m               \u001b[0m\u001b[2m          \u001b[0m\u001b[2m              \u001b[0m\u001b[2m \u001b[0m\u001b[2mnotifications, HTML    \u001b[0m\u001b[2m \u001b[0m  │\n",
       "│  \u001b[1;2m \u001b[0m\u001b[1;2m.gdrive_files\u001b[0m\u001b[1;2m \u001b[0m\u001b[2m \u001b[0m\u001b[2;32m✓\u001b[0m\u001b[2m       \u001b[0m\u001b[2m \u001b[0m\u001b[2m \u001b[0m\u001b[2;32m0 steps\u001b[0m\u001b[2m     \u001b[0m\u001b[2m \u001b[0m\u001b[2m \u001b[0m\u001b[2mkeystore, public       \u001b[0m\u001b[2m \u001b[0m  │\n",
       "│  \u001b[1;2m               \u001b[0m\u001b[2m          \u001b[0m\u001b[2m              \u001b[0m\u001b[2m \u001b[0m\u001b[2msharing                \u001b[0m\u001b[2m \u001b[0m  │\n",
       "│  \u001b[1;2m \u001b[0m\u001b[1;2m.gsheets     \u001b[0m\u001b[1;2m \u001b[0m\u001b[2m \u001b[0m\u001b[2;32m✓\u001b[0m\u001b[2m       \u001b[0m\u001b[2m \u001b[0m\u001b[2m \u001b[0m\u001b[2;32m0 steps\u001b[0m\u001b[2m     \u001b[0m\u001b[2m \u001b[0m\u001b[2m \u001b[0m\u001b[2mpublic sharing         \u001b[0m\u001b[2m \u001b[0m  │\n",
       "│  \u001b[1;2m \u001b[0m\u001b[1;2m.gforms      \u001b[0m\u001b[1;2m \u001b[0m\u001b[2m \u001b[0m\u001b[2;32m✓\u001b[0m\u001b[2m       \u001b[0m\u001b[2m \u001b[0m\u001b[2m \u001b[0m\u001b[2;32m0 steps\u001b[0m\u001b[2m     \u001b[0m\u001b[2m \u001b[0m\u001b[2m \u001b[0m\u001b[2mHTML                   \u001b[0m\u001b[2m \u001b[0m  │\n",
       "│                                                                    │\n",
       "╰────────────────────────────────────────────────────────────────────╯\n"
      ]
     },
     "metadata": {},
     "output_type": "display_data"
    },
    {
     "data": {
      "text/plain": []
     },
     "execution_count": 6,
     "metadata": {},
     "output_type": "execute_result"
    }
   ],
   "source": [
    "client2.platforms.google_org"
   ]
  },
  {
   "cell_type": "code",
   "execution_count": 8,
   "id": "87941d00-3575-4dfa-b2fd-c47f0de18231",
   "metadata": {},
   "outputs": [
    {
     "data": {
      "text/plain": [
       "{'google_org': GoogleOrgClient(email='andrew@openmined.org')}"
      ]
     },
     "execution_count": 8,
     "metadata": {},
     "output_type": "execute_result"
    }
   ],
   "source": [
    "client2.platforms"
   ]
  },
  {
   "cell_type": "code",
   "execution_count": null,
   "id": "42fa090c-1b1e-4e03-aa1b-448285eba465",
   "metadata": {},
   "outputs": [],
   "source": []
  }
 ],
 "metadata": {
  "kernelspec": {
   "display_name": "Python 3 (ipykernel)",
   "language": "python",
   "name": "python3"
  },
  "language_info": {
   "codemirror_mode": {
    "name": "ipython",
    "version": 3
   },
   "file_extension": ".py",
   "mimetype": "text/x-python",
   "name": "python",
   "nbconvert_exporter": "python",
   "pygments_lexer": "ipython3",
   "version": "3.12.9"
  }
 },
 "nbformat": 4,
 "nbformat_minor": 5
}
