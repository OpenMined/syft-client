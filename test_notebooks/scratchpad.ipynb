{
 "cells": [
  {
   "cell_type": "code",
   "execution_count": 1,
   "id": "9b86ea6f-a5b6-429f-b809-f2f06aa0cb8c",
   "metadata": {},
   "outputs": [],
   "source": [
    "import sys\n",
    "sys.path.insert(0, '..')\n",
    "import syft_client as sc"
   ]
  },
  {
   "cell_type": "code",
   "execution_count": 2,
   "id": "fd9b7672-1c25-4d33-a466-7ed7465f7250",
   "metadata": {},
   "outputs": [],
   "source": [
    "client = sc.login(\"liamtrask@gmail.com\")"
   ]
  },
  {
   "cell_type": "code",
   "execution_count": 7,
   "id": "85653ebc-fc37-4db8-890b-bd44bfb57d97",
   "metadata": {},
   "outputs": [
    {
     "data": {
      "text/html": [
       "<pre style=\"white-space:pre;overflow-x:auto;line-height:normal;font-family:Menlo,'DejaVu Sans Mono',consolas,'Courier New',monospace\">╭─ GmailTransport(email='liamtrask@gmail.com') ─╮\n",
       "│                                               │\n",
       "│  <span style=\"color: #008080; text-decoration-color: #008080; font-weight: bold\">Status              </span><span style=\"color: #008000; text-decoration-color: #008000\">✓ Ready</span>                  │\n",
       "│  <span style=\"color: #008080; text-decoration-color: #008080; font-weight: bold\">Environment         </span>jupyter                  │\n",
       "│  <span style=\"color: #008080; text-decoration-color: #008080; font-weight: bold\">                    </span>                         │\n",
       "│  <span style=\"color: #008080; text-decoration-color: #008080; font-weight: bold\">Capabilities        </span>                         │\n",
       "│  <span style=\"color: #008080; text-decoration-color: #008080; font-weight: bold\">  Keystore          </span><span style=\"color: #008000; text-decoration-color: #008000\">✓</span>                        │\n",
       "│  <span style=\"color: #008080; text-decoration-color: #008080; font-weight: bold\">  Notifications     </span><span style=\"color: #008000; text-decoration-color: #008000\">✓</span>                        │\n",
       "│  <span style=\"color: #008080; text-decoration-color: #008080; font-weight: bold\">  HTML Support      </span><span style=\"color: #008000; text-decoration-color: #008000\">✓</span>                        │\n",
       "│  <span style=\"color: #008080; text-decoration-color: #008080; font-weight: bold\">  Reply Support     </span><span style=\"color: #008000; text-decoration-color: #008000\">✓</span>                        │\n",
       "│  <span style=\"color: #008080; text-decoration-color: #008080; font-weight: bold\">  Guest Submit      </span><span style=\"color: #7f7f7f; text-decoration-color: #7f7f7f\">✗</span>                        │\n",
       "│  <span style=\"color: #008080; text-decoration-color: #008080; font-weight: bold\">  Guest Read Files  </span><span style=\"color: #7f7f7f; text-decoration-color: #7f7f7f\">✗</span>                        │\n",
       "│  <span style=\"color: #008080; text-decoration-color: #008080; font-weight: bold\">  Guest Read Folders</span><span style=\"color: #7f7f7f; text-decoration-color: #7f7f7f\">✗</span>                        │\n",
       "│  <span style=\"color: #008080; text-decoration-color: #008080; font-weight: bold\">                    </span>                         │\n",
       "│  <span style=\"color: #008080; text-decoration-color: #008080; font-weight: bold\">Setup Complexity    </span>0 steps                  │\n",
       "│                                               │\n",
       "╰───────────────────────────────────────────────╯\n",
       "</pre>\n"
      ],
      "text/plain": [
       "╭─ GmailTransport(email='liamtrask@gmail.com') ─╮\n",
       "│                                               │\n",
       "│  \u001b[1;36mStatus              \u001b[0m\u001b[32m✓ Ready\u001b[0m                  │\n",
       "│  \u001b[1;36mEnvironment         \u001b[0mjupyter                  │\n",
       "│  \u001b[1;36m                    \u001b[0m                         │\n",
       "│  \u001b[1;36mCapabilities\u001b[0m\u001b[1;36m        \u001b[0m                         │\n",
       "│  \u001b[1;36m  Keystore          \u001b[0m\u001b[32m✓\u001b[0m                        │\n",
       "│  \u001b[1;36m  Notifications     \u001b[0m\u001b[32m✓\u001b[0m                        │\n",
       "│  \u001b[1;36m  HTML Support      \u001b[0m\u001b[32m✓\u001b[0m                        │\n",
       "│  \u001b[1;36m  Reply Support     \u001b[0m\u001b[32m✓\u001b[0m                        │\n",
       "│  \u001b[1;36m  Guest Submit      \u001b[0m\u001b[2m✗\u001b[0m                        │\n",
       "│  \u001b[1;36m  Guest Read Files  \u001b[0m\u001b[2m✗\u001b[0m                        │\n",
       "│  \u001b[1;36m  Guest Read Folders\u001b[0m\u001b[2m✗\u001b[0m                        │\n",
       "│  \u001b[1;36m                    \u001b[0m                         │\n",
       "│  \u001b[1;36mSetup Complexity    \u001b[0m0 steps                  │\n",
       "│                                               │\n",
       "╰───────────────────────────────────────────────╯\n"
      ]
     },
     "metadata": {},
     "output_type": "display_data"
    },
    {
     "data": {
      "text/plain": []
     },
     "execution_count": 7,
     "metadata": {},
     "output_type": "execute_result"
    }
   ],
   "source": [
    "client.platforms.google_personal.gmail"
   ]
  },
  {
   "cell_type": "code",
   "execution_count": 4,
   "id": "ff3bf331-3074-46cc-a05f-b3f744850079",
   "metadata": {},
   "outputs": [],
   "source": [
    "client2 = sc.login(\"andrew@openmined.org\")"
   ]
  },
  {
   "cell_type": "code",
   "execution_count": 11,
   "id": "1a7347b2-1700-4c1f-b5b1-032167113ad3",
   "metadata": {},
   "outputs": [
    {
     "data": {
      "text/html": [
       "<pre style=\"white-space:pre;overflow-x:auto;line-height:normal;font-family:Menlo,'DejaVu Sans Mono',consolas,'Courier New',monospace\">╭───────────────────────── PlatformRegistry ─────────────────────────╮\n",
       "│                                                                    │\n",
       "│  <span style=\"color: #bfbf7f; text-decoration-color: #bfbf7f; font-weight: bold\">.google_org</span><span style=\"color: #7f7f7f; text-decoration-color: #7f7f7f\">                                                     </span>  │\n",
       "│  <span style=\"color: #7f7f7f; text-decoration-color: #7f7f7f\">    </span><span style=\"color: #7fbf7f; text-decoration-color: #7fbf7f\">✓</span><span style=\"color: #7f7f7f; text-decoration-color: #7f7f7f\"> .gmail                        </span><span style=\"color: #7fbf7f; text-decoration-color: #7fbf7f\">✓</span><span style=\"color: #7f7f7f; text-decoration-color: #7f7f7f\"> .gdrive_files             </span>  │\n",
       "│  <span style=\"color: #7f7f7f; text-decoration-color: #7f7f7f\">    </span><span style=\"color: #7fbf7f; text-decoration-color: #7fbf7f\">✓</span><span style=\"color: #7f7f7f; text-decoration-color: #7f7f7f\"> .gsheets                      </span><span style=\"color: #7fbf7f; text-decoration-color: #7fbf7f\">✓</span><span style=\"color: #7f7f7f; text-decoration-color: #7f7f7f\"> .gforms                   </span>  │\n",
       "│  <span style=\"color: #7f7f7f; text-decoration-color: #7f7f7f\">                                                                </span>  │\n",
       "│                                                                    │\n",
       "╰────────────────────────────────────────────────────────────────────╯\n",
       "</pre>\n"
      ],
      "text/plain": [
       "╭───────────────────────── PlatformRegistry ─────────────────────────╮\n",
       "│                                                                    │\n",
       "│  \u001b[1;2;33m.google_org\u001b[0m\u001b[2m                                                     \u001b[0m  │\n",
       "│  \u001b[2m  \u001b[0m\u001b[2m  \u001b[0m\u001b[2;32m✓\u001b[0m\u001b[2m .gmail                  \u001b[0m\u001b[2m  \u001b[0m\u001b[2m  \u001b[0m\u001b[2m  \u001b[0m\u001b[2;32m✓\u001b[0m\u001b[2m .gdrive_files           \u001b[0m\u001b[2m  \u001b[0m  │\n",
       "│  \u001b[2m  \u001b[0m\u001b[2m  \u001b[0m\u001b[2;32m✓\u001b[0m\u001b[2m .gsheets                \u001b[0m\u001b[2m  \u001b[0m\u001b[2m  \u001b[0m\u001b[2m  \u001b[0m\u001b[2;32m✓\u001b[0m\u001b[2m .gforms                 \u001b[0m\u001b[2m  \u001b[0m  │\n",
       "│  \u001b[2m                                                                \u001b[0m  │\n",
       "│                                                                    │\n",
       "╰────────────────────────────────────────────────────────────────────╯\n"
      ]
     },
     "metadata": {},
     "output_type": "display_data"
    },
    {
     "data": {
      "text/plain": []
     },
     "execution_count": 11,
     "metadata": {},
     "output_type": "execute_result"
    }
   ],
   "source": [
    "client2.platforms"
   ]
  },
  {
   "cell_type": "code",
   "execution_count": 8,
   "id": "87941d00-3575-4dfa-b2fd-c47f0de18231",
   "metadata": {},
   "outputs": [
    {
     "data": {
      "text/plain": [
       "{'google_org': GoogleOrgClient(email='andrew@openmined.org')}"
      ]
     },
     "execution_count": 8,
     "metadata": {},
     "output_type": "execute_result"
    }
   ],
   "source": [
    "client2.platforms"
   ]
  },
  {
   "cell_type": "code",
   "execution_count": null,
   "id": "42fa090c-1b1e-4e03-aa1b-448285eba465",
   "metadata": {},
   "outputs": [],
   "source": []
  }
 ],
 "metadata": {
  "kernelspec": {
   "display_name": "Python 3 (ipykernel)",
   "language": "python",
   "name": "python3"
  },
  "language_info": {
   "codemirror_mode": {
    "name": "ipython",
    "version": 3
   },
   "file_extension": ".py",
   "mimetype": "text/x-python",
   "name": "python",
   "nbconvert_exporter": "python",
   "pygments_lexer": "ipython3",
   "version": "3.12.9"
  }
 },
 "nbformat": 4,
 "nbformat_minor": 5
}
