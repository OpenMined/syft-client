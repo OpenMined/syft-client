{
 "cells": [
  {
   "cell_type": "code",
   "execution_count": 1,
   "id": "9b86ea6f-a5b6-429f-b809-f2f06aa0cb8c",
   "metadata": {},
   "outputs": [],
   "source": [
    "import sys\n",
    "sys.path.insert(0, '..')\n",
    "import syft_client as sc"
   ]
  },
  {
   "cell_type": "code",
   "execution_count": 2,
   "id": "2f1cc835-290f-4cca-a4d1-002036efe4fb",
   "metadata": {},
   "outputs": [],
   "source": [
    "client = sc.login(\"liamtrask@gmail.com\")"
   ]
  },
  {
   "cell_type": "code",
   "execution_count": null,
   "id": "ff3bf331-3074-46cc-a05f-b3f744850079",
   "metadata": {},
   "outputs": [
    {
     "name": "stdout",
     "output_type": "stream",
     "text": [
      "\n",
      "🔧 Google Workspace OAuth2 Setup Wizard\n",
      "============================================================\n",
      "Setting up OAuth2 for: andrew@openmined.org\n",
      "\n",
      "This wizard will help you create OAuth2 credentials for Google Workspace.\n",
      "You'll need:\n",
      "  • A Google Workspace account with admin privileges\n",
      "  • Or permission from your Workspace admin\n",
      "  • A Google Cloud Platform project\n",
      "\n",
      "⚠️  Google Workspace accounts may require:\n",
      "  • Admin consent for certain scopes\n",
      "  • Domain-wide delegation for service accounts\n",
      "  • Workspace-specific API enablement\n",
      "\n",
      "📝 Let's create your OAuth2 app step by step:\n",
      "============================================================\n",
      "\n",
      "🌐 Step 1: Go to Google Cloud Console\n",
      "Open: https://console.cloud.google.com?authuser=andrew@openmined.org\n",
      "\n",
      "IMPORTANT: Sign in with your Workspace account: andrew@openmined.org\n",
      "\n",
      "📂 Step 2: Create or Select a Project\n",
      "If you don't have a project:\n",
      "  1. Click 'Select a project' dropdown (top bar)\n",
      "  2. Click 'New Project'\n",
      "  3. Enter a name (e.g., 'Syft Workspace Integration')\n",
      "  4. Note your Project ID (e.g., 'syft-workspace-123456')\n"
     ]
    },
    {
     "name": "stdin",
     "output_type": "stream",
     "text": [
      "\n",
      "Press Enter when you have a project ready... \n",
      "\n",
      "Enter your Project ID (or press Enter to skip):  studious-set-472120-i7\n"
     ]
    },
    {
     "name": "stdout",
     "output_type": "stream",
     "text": [
      "\n",
      "⚠️  IMPORTANT: Make sure you've switched to your project!\n",
      "Look at the top bar of Google Cloud Console\n",
      "It should show: studious-set-472120-i7\n",
      "If not, click the project dropdown and select your project\n"
     ]
    },
    {
     "name": "stdin",
     "output_type": "stream",
     "text": [
      "\n",
      "Press Enter when you've switched to your project... \n"
     ]
    },
    {
     "name": "stdout",
     "output_type": "stream",
     "text": [
      "\n",
      "🔌 Step 3: Enable Required APIs\n",
      "You need to enable these Google Workspace APIs:\n",
      "\n",
      "  • Gmail API\n",
      "    Open: https://console.cloud.google.com/marketplace/product/google/gmail.googleapis.com?authuser=andrew@openmined.org&project=studious-set-472120-i7\n",
      "    Click 'ENABLE' if not already enabled\n",
      "\n",
      "  • Google Drive API\n",
      "    Open: https://console.cloud.google.com/marketplace/product/google/drive.googleapis.com?authuser=andrew@openmined.org&project=studious-set-472120-i7\n",
      "    Click 'ENABLE' if not already enabled\n",
      "\n",
      "  • Google Sheets API\n",
      "    Open: https://console.cloud.google.com/marketplace/product/google/sheets.googleapis.com?authuser=andrew@openmined.org&project=studious-set-472120-i7\n",
      "    Click 'ENABLE' if not already enabled\n",
      "\n",
      "  • Google Forms API\n",
      "    Open: https://console.cloud.google.com/marketplace/product/google/forms.googleapis.com?authuser=andrew@openmined.org&project=studious-set-472120-i7\n",
      "    Click 'ENABLE' if not already enabled\n"
     ]
    },
    {
     "name": "stdin",
     "output_type": "stream",
     "text": [
      "\n",
      "Press Enter when all APIs are enabled... \n"
     ]
    },
    {
     "name": "stdout",
     "output_type": "stream",
     "text": [
      "\n",
      "🔐 Step 4: Configure OAuth Consent Screen\n",
      "Open: https://console.cloud.google.com/auth/overview/create?authuser=andrew@openmined.org&project=studious-set-472120-i7\n",
      "\n",
      "⚠️  WORKSPACE-SPECIFIC SETTINGS:\n",
      "  1. User Type: Choose 'Internal' (for your organization only)\n",
      "     - This limits access to users in your Workspace domain\n",
      "     - Requires fewer review steps than 'External'\n",
      "  2. App Name: 'Syft Workspace Client'\n",
      "  3. User Support Email: Your email\n",
      "  4. Authorized domains: Your workspace domain will be pre-filled\n",
      "  5. Developer Contact: Your email\n",
      "\n",
      "For Scopes:\n",
      "  • You can skip adding scopes manually here\n",
      "  • The app will request them during authentication\n"
     ]
    },
    {
     "name": "stdin",
     "output_type": "stream",
     "text": [
      "\n",
      "Press Enter when OAuth consent screen is configured... \n"
     ]
    },
    {
     "name": "stdout",
     "output_type": "stream",
     "text": [
      "\n",
      "👤 Step 5: Admin Consent (If Required)\n",
      "\n",
      "⚠️  Some Workspace organizations require admin consent for OAuth apps.\n",
      "\n",
      "If you're not an admin:\n",
      "  1. Your admin needs to approve the app\n",
      "  2. They can do this from:\n",
      "     https://admin.google.com/ac/owl/domainwidedelegation?hl=en\n",
      "  3. Or through the Admin Console > Security > API controls\n"
     ]
    },
    {
     "name": "stdin",
     "output_type": "stream",
     "text": [
      "\n",
      "Are you a Workspace admin? (y/N):  y\n"
     ]
    },
    {
     "name": "stdout",
     "output_type": "stream",
     "text": [
      "\n",
      "Great! You can approve the app yourself if needed.\n"
     ]
    },
    {
     "name": "stdin",
     "output_type": "stream",
     "text": [
      "\n",
      "Press Enter to continue... \n"
     ]
    },
    {
     "name": "stdout",
     "output_type": "stream",
     "text": [
      "\n",
      "🔑 Step 6: Create OAuth2 Credentials\n",
      "Open: https://console.cloud.google.com/apis/credentials?authuser=andrew@openmined.org&project=studious-set-472120-i7\n",
      "\n",
      "1. Click '+ CREATE CREDENTIALS' → 'OAuth client ID'\n",
      "2. Application type: 'Desktop app'\n",
      "3. Name: 'Syft Workspace Desktop Client'\n",
      "4. Click 'CREATE'\n",
      "5. Click 'DOWNLOAD JSON' in the popup\n",
      "6. Save as: /Users/atrask/.syft/andrew_at_openmined_org/credentials.json\n",
      "\n",
      "🌐 Step 7: Domain-wide Delegation (Optional)\n",
      "\n",
      "For advanced use cases, you might need domain-wide delegation.\n",
      "This allows the app to access data on behalf of any user in your domain.\n",
      "\n",
      "This requires:\n",
      "  • Creating a service account instead of OAuth client\n",
      "  • Admin approval for domain-wide delegation\n",
      "  • Different authentication flow\n"
     ]
    }
   ],
   "source": [
    "client2 = sc.login(\"andrew@openmined.org\")"
   ]
  },
  {
   "cell_type": "code",
   "execution_count": 12,
   "id": "87941d00-3575-4dfa-b2fd-c47f0de18231",
   "metadata": {},
   "outputs": [
    {
     "data": {
      "text/plain": [
       "PosixPath('/Users/atrask/SyftBox_liamtrask@gmail.com')"
      ]
     },
     "execution_count": 12,
     "metadata": {},
     "output_type": "execute_result"
    }
   ],
   "source": [
    "client.folder"
   ]
  },
  {
   "cell_type": "code",
   "execution_count": null,
   "id": "42fa090c-1b1e-4e03-aa1b-448285eba465",
   "metadata": {},
   "outputs": [],
   "source": []
  }
 ],
 "metadata": {
  "kernelspec": {
   "display_name": "Python 3 (ipykernel)",
   "language": "python",
   "name": "python3"
  },
  "language_info": {
   "codemirror_mode": {
    "name": "ipython",
    "version": 3
   },
   "file_extension": ".py",
   "mimetype": "text/x-python",
   "name": "python",
   "nbconvert_exporter": "python",
   "pygments_lexer": "ipython3",
   "version": "3.12.9"
  }
 },
 "nbformat": 4,
 "nbformat_minor": 5
}
