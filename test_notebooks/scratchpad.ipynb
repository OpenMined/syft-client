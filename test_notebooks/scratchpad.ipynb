{
 "cells": [
  {
   "cell_type": "code",
   "execution_count": 1,
   "id": "9b86ea6f-a5b6-429f-b809-f2f06aa0cb8c",
   "metadata": {},
   "outputs": [],
   "source": [
    "import sys\n",
    "sys.path.insert(0, '..')\n",
    "import syft_client as sc"
   ]
  },
  {
   "cell_type": "code",
   "execution_count": null,
   "id": "fd9b7672-1c25-4d33-a466-7ed7465f7250",
   "metadata": {},
   "outputs": [
    {
     "name": "stdout",
     "output_type": "stream",
     "text": [
      "\n",
      "❌ No OAuth2 credentials found.\n",
      "Let's create them now!\n"
     ]
    },
    {
     "name": "stdin",
     "output_type": "stream",
     "text": [
      "\n",
      "Run setup wizard? (y/n):  y\n"
     ]
    },
    {
     "name": "stdout",
     "output_type": "stream",
     "text": [
      "\n",
      "🔐 OAuth2 Credentials Setup Wizard\n",
      "==================================================\n",
      "\n",
      "This wizard will guide you through creating OAuth2 credentials for Google APIs.\n",
      "\n",
      "📋 Prerequisites:\n",
      "  • A Google account\n",
      "  • Access to Google Cloud Console\n",
      "  • 5-10 minutes to complete setup\n",
      "\n",
      "📝 Step 1: Create a Google Cloud Project\n",
      "----------------------------------------\n",
      "1. Open: https://console.cloud.google.com/projectcreate?authuser=liamtrask@gmail.com\n",
      "2. Enter a project name (e.g., 'Syft Client')\n",
      "3. Click 'CREATE'\n",
      "4. Wait for project creation (takes ~30 seconds)\n"
     ]
    },
    {
     "name": "stdin",
     "output_type": "stream",
     "text": [
      "\n",
      "Open this URL in your browser? (y/n):  n\n",
      "\n",
      "Enter your Project ID (you can find it in the project selector):  \n"
     ]
    },
    {
     "name": "stdout",
     "output_type": "stream",
     "text": [
      "\n",
      "🔌 Step 2: Enable Required APIs\n",
      "----------------------------------------\n",
      "\n",
      "  Gmail API:\n",
      "  1. Open: https://console.cloud.google.com/marketplace/product/google/gmail.googleapis.com?authuser=liamtrask@gmail.com\n",
      "  2. Click 'ENABLE'\n"
     ]
    },
    {
     "name": "stdin",
     "output_type": "stream",
     "text": [
      "\n",
      "Open Gmail API page? (y/n):  n\n"
     ]
    },
    {
     "name": "stdout",
     "output_type": "stream",
     "text": [
      "\n",
      "  Drive API:\n",
      "  1. Open: https://console.cloud.google.com/marketplace/product/google/drive.googleapis.com?authuser=liamtrask@gmail.com\n",
      "  2. Click 'ENABLE'\n"
     ]
    },
    {
     "name": "stdin",
     "output_type": "stream",
     "text": [
      "\n",
      "Open Drive API page? (y/n):  n\n"
     ]
    },
    {
     "name": "stdout",
     "output_type": "stream",
     "text": [
      "\n",
      "  Sheets API:\n",
      "  1. Open: https://console.cloud.google.com/marketplace/product/google/sheets.googleapis.com?authuser=liamtrask@gmail.com\n",
      "  2. Click 'ENABLE'\n"
     ]
    },
    {
     "name": "stdin",
     "output_type": "stream",
     "text": [
      "\n",
      "Open Sheets API page? (y/n):  n\n"
     ]
    },
    {
     "name": "stdout",
     "output_type": "stream",
     "text": [
      "\n",
      "  Forms API:\n",
      "  1. Open: https://console.cloud.google.com/marketplace/product/google/forms.googleapis.com?authuser=liamtrask@gmail.com\n",
      "  2. Click 'ENABLE'\n"
     ]
    },
    {
     "name": "stdin",
     "output_type": "stream",
     "text": [
      "\n",
      "Open Forms API page? (y/n):  n\n"
     ]
    },
    {
     "name": "stdout",
     "output_type": "stream",
     "text": [
      "\n",
      "🛡️ Step 3: Configure OAuth Consent Screen\n",
      "----------------------------------------\n",
      "1. Open: https://console.cloud.google.com/auth/overview/create?authuser=liamtrask@gmail.com\n",
      "2. Select 'External' user type\n",
      "3. Click 'CREATE'\n",
      "4. Fill in:\n",
      "   - App name: Syft Client\n",
      "   - User support email: liamtrask@gmail.com\n",
      "   - Developer contact: liamtrask@gmail.com\n",
      "5. Click 'SAVE AND CONTINUE' through all sections\n",
      "6. Click 'BACK TO DASHBOARD' when done\n"
     ]
    },
    {
     "name": "stdin",
     "output_type": "stream",
     "text": [
      "\n",
      "Open this URL in your browser? (y/n):  n\n"
     ]
    },
    {
     "name": "stdout",
     "output_type": "stream",
     "text": [
      "\n",
      "🔑 Step 4: Create OAuth2 Credentials\n",
      "----------------------------------------\n",
      "1. Open: https://console.cloud.google.com/apis/credentials?authuser=liamtrask@gmail.com\n",
      "2. Click '+ CREATE CREDENTIALS' → 'OAuth client ID'\n",
      "3. Select 'Desktop app' as application type\n",
      "4. Name: 'Syft Client Desktop'\n",
      "5. Click 'CREATE'\n",
      "6. Click 'DOWNLOAD JSON' in the popup\n"
     ]
    },
    {
     "name": "stdin",
     "output_type": "stream",
     "text": [
      "\n",
      "Open this URL in your browser? (y/n):  n\n"
     ]
    },
    {
     "name": "stdout",
     "output_type": "stream",
     "text": [
      "\n",
      "👤 Step 5: Add Test Users (Required for Testing Mode)\n",
      "----------------------------------------\n",
      "1. Open: https://console.cloud.google.com/auth/audience?authuser=liamtrask@gmail.com\n",
      "2. Scroll down to 'Test users' section\n",
      "3. Click '+ ADD USERS'\n",
      "4. Enter your email: liamtrask@gmail.com\n",
      "5. Click 'ADD'\n",
      "\n",
      "⚠️  Important: Only test users can use your app while in testing mode\n"
     ]
    },
    {
     "name": "stdin",
     "output_type": "stream",
     "text": [
      "\n",
      "Open this URL in your browser? (y/n):  n\n"
     ]
    },
    {
     "name": "stdout",
     "output_type": "stream",
     "text": [
      "\n",
      "📁 Step 6: Download Credentials\n",
      "----------------------------------------\n",
      "Click 'DOWNLOAD JSON' to save the credentials file to your computer.\n",
      "\n",
      "The file will be named something like:\n",
      "  client_secret_XXXXXXX.apps.googleusercontent.com.json\n",
      "\n",
      "Remember where you save it - you'll need the path in the next step.\n",
      "\n",
      "==================================================\n",
      "📁 Step 7: Provide Path to Downloaded Credentials\n",
      "==================================================\n",
      "\n",
      "You should have downloaded a JSON file that looks like:\n",
      "  client_secret_XXXXXXX.apps.googleusercontent.com.json\n",
      "\n",
      "Please provide the full path to this file.\n",
      "Examples:\n",
      "  - ~/Downloads/client_secret_287888791426.apps.googleusercontent.com.json\n",
      "  - /Users/you/Downloads/client_secret_*.json\n",
      "  - C:\\Users\\you\\Downloads\\client_secret_*.json (Windows)\n"
     ]
    }
   ],
   "source": [
    "client = sc.login(\"liamtrask@gmail.com\")"
   ]
  },
  {
   "cell_type": "code",
   "execution_count": null,
   "id": "9a32106e-38ff-4352-b374-0a2c66272a05",
   "metadata": {},
   "outputs": [],
   "source": [
    "import os\n",
    "import shutil\n",
    "import glob\n",
    "\n",
    "# Create the directory\n",
    "os.makedirs(os.path.expanduser('~/.syft/liamtrask_at_gmail_com'), exist_ok=True)"
   ]
  },
  {
   "cell_type": "code",
   "execution_count": 3,
   "id": "85653ebc-fc37-4db8-890b-bd44bfb57d97",
   "metadata": {},
   "outputs": [
    {
     "data": {
      "text/plain": [
       "True"
      ]
     },
     "execution_count": 3,
     "metadata": {},
     "output_type": "execute_result"
    }
   ],
   "source": [
    "client.platforms.google_personal.gmail.is_keystore"
   ]
  },
  {
   "cell_type": "code",
   "execution_count": 4,
   "id": "ff3bf331-3074-46cc-a05f-b3f744850079",
   "metadata": {},
   "outputs": [],
   "source": [
    "client2 = sc.login(\"andrew@openmined.org\")"
   ]
  },
  {
   "cell_type": "code",
   "execution_count": 6,
   "id": "1a7347b2-1700-4c1f-b5b1-032167113ad3",
   "metadata": {},
   "outputs": [
    {
     "data": {
      "text/html": [
       "<pre style=\"white-space:pre;overflow-x:auto;line-height:normal;font-family:Menlo,'DejaVu Sans Mono',consolas,'Courier New',monospace\">╭────────── GoogleOrgClient(email='andrew@openmined.org') ───────────╮\n",
       "│                                                                    │\n",
       "│  <span style=\"color: #7f7f7f; text-decoration-color: #7f7f7f; font-weight: bold\"> .gmail        </span><span style=\"color: #7f7f7f; text-decoration-color: #7f7f7f\"> </span><span style=\"color: #7fbf7f; text-decoration-color: #7fbf7f\">✓</span><span style=\"color: #7f7f7f; text-decoration-color: #7f7f7f\">         </span><span style=\"color: #7fbf7f; text-decoration-color: #7fbf7f\">0 steps</span><span style=\"color: #7f7f7f; text-decoration-color: #7f7f7f\">       keystore,               </span>  │\n",
       "│  <span style=\"color: #7f7f7f; text-decoration-color: #7f7f7f; font-weight: bold\">               </span><span style=\"color: #7f7f7f; text-decoration-color: #7f7f7f\">                         notifications, HTML     </span>  │\n",
       "│  <span style=\"color: #7f7f7f; text-decoration-color: #7f7f7f; font-weight: bold\"> .gdrive_files </span><span style=\"color: #7f7f7f; text-decoration-color: #7f7f7f\"> </span><span style=\"color: #7fbf7f; text-decoration-color: #7fbf7f\">✓</span><span style=\"color: #7f7f7f; text-decoration-color: #7f7f7f\">         </span><span style=\"color: #7fbf7f; text-decoration-color: #7fbf7f\">0 steps</span><span style=\"color: #7f7f7f; text-decoration-color: #7f7f7f\">       keystore, public        </span>  │\n",
       "│  <span style=\"color: #7f7f7f; text-decoration-color: #7f7f7f; font-weight: bold\">               </span><span style=\"color: #7f7f7f; text-decoration-color: #7f7f7f\">                         sharing                 </span>  │\n",
       "│  <span style=\"color: #7f7f7f; text-decoration-color: #7f7f7f; font-weight: bold\"> .gsheets      </span><span style=\"color: #7f7f7f; text-decoration-color: #7f7f7f\"> </span><span style=\"color: #7fbf7f; text-decoration-color: #7fbf7f\">✓</span><span style=\"color: #7f7f7f; text-decoration-color: #7f7f7f\">         </span><span style=\"color: #7fbf7f; text-decoration-color: #7fbf7f\">0 steps</span><span style=\"color: #7f7f7f; text-decoration-color: #7f7f7f\">       public sharing          </span>  │\n",
       "│  <span style=\"color: #7f7f7f; text-decoration-color: #7f7f7f; font-weight: bold\"> .gforms       </span><span style=\"color: #7f7f7f; text-decoration-color: #7f7f7f\"> </span><span style=\"color: #7fbf7f; text-decoration-color: #7fbf7f\">✓</span><span style=\"color: #7f7f7f; text-decoration-color: #7f7f7f\">         </span><span style=\"color: #7fbf7f; text-decoration-color: #7fbf7f\">0 steps</span><span style=\"color: #7f7f7f; text-decoration-color: #7f7f7f\">       HTML                    </span>  │\n",
       "│                                                                    │\n",
       "╰────────────────────────────────────────────────────────────────────╯\n",
       "</pre>\n"
      ],
      "text/plain": [
       "╭────────── GoogleOrgClient(email='andrew@openmined.org') ───────────╮\n",
       "│                                                                    │\n",
       "│  \u001b[1;2m \u001b[0m\u001b[1;2m.gmail       \u001b[0m\u001b[1;2m \u001b[0m\u001b[2m \u001b[0m\u001b[2;32m✓\u001b[0m\u001b[2m       \u001b[0m\u001b[2m \u001b[0m\u001b[2m \u001b[0m\u001b[2;32m0 steps\u001b[0m\u001b[2m     \u001b[0m\u001b[2m \u001b[0m\u001b[2m \u001b[0m\u001b[2mkeystore,              \u001b[0m\u001b[2m \u001b[0m  │\n",
       "│  \u001b[1;2m               \u001b[0m\u001b[2m          \u001b[0m\u001b[2m              \u001b[0m\u001b[2m \u001b[0m\u001b[2mnotifications, HTML    \u001b[0m\u001b[2m \u001b[0m  │\n",
       "│  \u001b[1;2m \u001b[0m\u001b[1;2m.gdrive_files\u001b[0m\u001b[1;2m \u001b[0m\u001b[2m \u001b[0m\u001b[2;32m✓\u001b[0m\u001b[2m       \u001b[0m\u001b[2m \u001b[0m\u001b[2m \u001b[0m\u001b[2;32m0 steps\u001b[0m\u001b[2m     \u001b[0m\u001b[2m \u001b[0m\u001b[2m \u001b[0m\u001b[2mkeystore, public       \u001b[0m\u001b[2m \u001b[0m  │\n",
       "│  \u001b[1;2m               \u001b[0m\u001b[2m          \u001b[0m\u001b[2m              \u001b[0m\u001b[2m \u001b[0m\u001b[2msharing                \u001b[0m\u001b[2m \u001b[0m  │\n",
       "│  \u001b[1;2m \u001b[0m\u001b[1;2m.gsheets     \u001b[0m\u001b[1;2m \u001b[0m\u001b[2m \u001b[0m\u001b[2;32m✓\u001b[0m\u001b[2m       \u001b[0m\u001b[2m \u001b[0m\u001b[2m \u001b[0m\u001b[2;32m0 steps\u001b[0m\u001b[2m     \u001b[0m\u001b[2m \u001b[0m\u001b[2m \u001b[0m\u001b[2mpublic sharing         \u001b[0m\u001b[2m \u001b[0m  │\n",
       "│  \u001b[1;2m \u001b[0m\u001b[1;2m.gforms      \u001b[0m\u001b[1;2m \u001b[0m\u001b[2m \u001b[0m\u001b[2;32m✓\u001b[0m\u001b[2m       \u001b[0m\u001b[2m \u001b[0m\u001b[2m \u001b[0m\u001b[2;32m0 steps\u001b[0m\u001b[2m     \u001b[0m\u001b[2m \u001b[0m\u001b[2m \u001b[0m\u001b[2mHTML                   \u001b[0m\u001b[2m \u001b[0m  │\n",
       "│                                                                    │\n",
       "╰────────────────────────────────────────────────────────────────────╯\n"
      ]
     },
     "metadata": {},
     "output_type": "display_data"
    },
    {
     "data": {
      "text/plain": []
     },
     "execution_count": 6,
     "metadata": {},
     "output_type": "execute_result"
    }
   ],
   "source": [
    "client2.platforms.google_org"
   ]
  },
  {
   "cell_type": "code",
   "execution_count": 8,
   "id": "87941d00-3575-4dfa-b2fd-c47f0de18231",
   "metadata": {},
   "outputs": [
    {
     "data": {
      "text/plain": [
       "{'google_org': GoogleOrgClient(email='andrew@openmined.org')}"
      ]
     },
     "execution_count": 8,
     "metadata": {},
     "output_type": "execute_result"
    }
   ],
   "source": [
    "client2.platforms"
   ]
  },
  {
   "cell_type": "code",
   "execution_count": null,
   "id": "42fa090c-1b1e-4e03-aa1b-448285eba465",
   "metadata": {},
   "outputs": [],
   "source": []
  }
 ],
 "metadata": {
  "kernelspec": {
   "display_name": "Python 3 (ipykernel)",
   "language": "python",
   "name": "python3"
  },
  "language_info": {
   "codemirror_mode": {
    "name": "ipython",
    "version": 3
   },
   "file_extension": ".py",
   "mimetype": "text/x-python",
   "name": "python",
   "nbconvert_exporter": "python",
   "pygments_lexer": "ipython3",
   "version": "3.12.9"
  }
 },
 "nbformat": 4,
 "nbformat_minor": 5
}
