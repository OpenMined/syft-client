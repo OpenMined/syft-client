{
 "cells": [
  {
   "cell_type": "code",
   "execution_count": 1,
   "id": "9b86ea6f-a5b6-429f-b809-f2f06aa0cb8c",
   "metadata": {},
   "outputs": [],
   "source": [
    "import sys\n",
    "sys.path.insert(0, '..')\n",
    "import syft_client as sc"
   ]
  },
  {
   "cell_type": "code",
   "execution_count": 8,
   "id": "fd9b7672-1c25-4d33-a466-7ed7465f7250",
   "metadata": {},
   "outputs": [
    {
     "name": "stdout",
     "output_type": "stream",
     "text": [
      "\n",
      "❌ No OAuth2 credentials found.\n",
      "Let's create them now!\n"
     ]
    },
    {
     "name": "stdin",
     "output_type": "stream",
     "text": [
      "\n",
      "Run setup wizard? (y/n):  y\n"
     ]
    },
    {
     "name": "stdout",
     "output_type": "stream",
     "text": [
      "\n",
      "🔐 OAuth2 Credentials Setup Wizard\n",
      "==================================================\n",
      "\n",
      "This wizard will guide you through creating OAuth2 credentials for Google APIs.\n",
      "\n",
      "📋 Prerequisites:\n",
      "  • A Google account\n",
      "  • Access to Google Cloud Console\n",
      "  • 5-10 minutes to complete setup\n",
      "\n",
      "📝 Step 1: Create a Google Cloud Project\n",
      "----------------------------------------\n",
      "1. Open: https://console.cloud.google.com/projectcreate?authuser=liamtrask@gmail.com\n",
      "2. Enter a project name (e.g., 'Syft Client')\n",
      "3. Click 'CREATE'\n",
      "4. Wait for project creation (takes ~30 seconds)\n"
     ]
    },
    {
     "name": "stdin",
     "output_type": "stream",
     "text": [
      "\n",
      "Open this URL in your browser? (y/n):  n\n",
      "\n",
      "Enter your Project ID (you can find it in the project selector):  eternal-tempest-472603-s2\n"
     ]
    },
    {
     "name": "stdout",
     "output_type": "stream",
     "text": [
      "\n",
      "⚠️  IMPORTANT: Make sure you've switched to your project!\n",
      "Look at the top bar of Google Cloud Console\n",
      "It should show: eternal-tempest-472603-s2\n",
      "If not, click the project dropdown and select your project\n"
     ]
    },
    {
     "name": "stdin",
     "output_type": "stream",
     "text": [
      "\n",
      "Press Enter when you've switched to your project... \n"
     ]
    },
    {
     "name": "stdout",
     "output_type": "stream",
     "text": [
      "\n",
      "🔌 Step 2: Enable Required APIs\n",
      "----------------------------------------\n",
      "\n",
      "  Gmail API:\n",
      "  1. Open: https://console.cloud.google.com/marketplace/product/google/gmail.googleapis.com?authuser=liamtrask@gmail.com&project=eternal-tempest-472603-s2\n",
      "  2. Click 'ENABLE'\n"
     ]
    },
    {
     "name": "stdin",
     "output_type": "stream",
     "text": [
      "\n",
      "Open Gmail API page? (y/n):  n\n"
     ]
    },
    {
     "name": "stdout",
     "output_type": "stream",
     "text": [
      "\n",
      "  Drive API:\n",
      "  1. Open: https://console.cloud.google.com/marketplace/product/google/drive.googleapis.com?authuser=liamtrask@gmail.com&project=eternal-tempest-472603-s2\n",
      "  2. Click 'ENABLE'\n"
     ]
    },
    {
     "name": "stdin",
     "output_type": "stream",
     "text": [
      "\n",
      "Open Drive API page? (y/n):  n\n"
     ]
    },
    {
     "name": "stdout",
     "output_type": "stream",
     "text": [
      "\n",
      "  Sheets API:\n",
      "  1. Open: https://console.cloud.google.com/marketplace/product/google/sheets.googleapis.com?authuser=liamtrask@gmail.com&project=eternal-tempest-472603-s2\n",
      "  2. Click 'ENABLE'\n"
     ]
    },
    {
     "name": "stdin",
     "output_type": "stream",
     "text": [
      "\n",
      "Open Sheets API page? (y/n):  n\n"
     ]
    },
    {
     "name": "stdout",
     "output_type": "stream",
     "text": [
      "\n",
      "  Forms API:\n",
      "  1. Open: https://console.cloud.google.com/marketplace/product/google/forms.googleapis.com?authuser=liamtrask@gmail.com&project=eternal-tempest-472603-s2\n",
      "  2. Click 'ENABLE'\n"
     ]
    },
    {
     "name": "stdin",
     "output_type": "stream",
     "text": [
      "\n",
      "Open Forms API page? (y/n):  n\n"
     ]
    },
    {
     "name": "stdout",
     "output_type": "stream",
     "text": [
      "\n",
      "🛡️ Step 3: Configure OAuth Consent Screen\n",
      "----------------------------------------\n",
      "1. Open: https://console.cloud.google.com/auth/overview/create?authuser=liamtrask@gmail.com&project=eternal-tempest-472603-s2\n",
      "2. Select 'External' user type\n",
      "3. Click 'CREATE'\n",
      "4. Fill in:\n",
      "   - App name: Syft Client\n",
      "   - User support email: liamtrask@gmail.com\n",
      "   - Developer contact: liamtrask@gmail.com\n",
      "5. Click 'SAVE AND CONTINUE' through all sections\n",
      "6. Click 'BACK TO DASHBOARD' when done\n"
     ]
    },
    {
     "name": "stdin",
     "output_type": "stream",
     "text": [
      "\n",
      "Open this URL in your browser? (y/n):  n\n"
     ]
    },
    {
     "name": "stdout",
     "output_type": "stream",
     "text": [
      "\n",
      "🔑 Step 4: Create OAuth2 Credentials\n",
      "----------------------------------------\n",
      "1. Open: https://console.cloud.google.com/apis/credentials?authuser=liamtrask@gmail.com&project=eternal-tempest-472603-s2\n",
      "2. Click '+ CREATE CREDENTIALS' → 'OAuth client ID'\n",
      "3. Select 'Desktop app' as application type\n",
      "4. Name: 'Syft Client Desktop'\n",
      "5. Click 'CREATE'\n",
      "6. Click 'DOWNLOAD JSON' in the popup\n"
     ]
    },
    {
     "name": "stdin",
     "output_type": "stream",
     "text": [
      "\n",
      "Open this URL in your browser? (y/n):  n\n"
     ]
    },
    {
     "name": "stdout",
     "output_type": "stream",
     "text": [
      "\n",
      "👤 Step 5: Add Test Users (Required for Testing Mode)\n",
      "----------------------------------------\n",
      "1. Open: https://console.cloud.google.com/auth/audience?authuser=liamtrask@gmail.com&project=eternal-tempest-472603-s2\n",
      "2. Scroll down to 'Test users' section\n",
      "3. Click '+ ADD USERS'\n",
      "4. Enter your email: liamtrask@gmail.com\n",
      "5. Click 'ADD'\n",
      "\n",
      "⚠️  Important: Only test users can use your app while in testing mode\n"
     ]
    },
    {
     "name": "stdin",
     "output_type": "stream",
     "text": [
      "\n",
      "Open this URL in your browser? (y/n):  n\n"
     ]
    },
    {
     "name": "stdout",
     "output_type": "stream",
     "text": [
      "\n",
      "📁 Step 6: Save Credentials\n",
      "----------------------------------------\n",
      "Download the JSON file to your computer\n",
      "\n",
      "📓 For Jupyter:\n",
      "   a. Upload the downloaded JSON file to Jupyter\n",
      "   b. Then run these commands:\n",
      "      !mkdir -p ~/.syft/liamtrask_at_gmail_com\n",
      "      !mv client_secret*.json ~/.syft/liamtrask_at_gmail_com/credentials.json\n",
      "\n",
      "✅ Setup Complete!\n",
      "==================================================\n",
      "\n",
      "Your OAuth2 credentials are ready. You can now run:\n",
      "  >>> from syft_client import login\n",
      "  >>> client = login('liamtrask@gmail.com')\n",
      "\n",
      "The first login will open a browser for authorization.\n",
      "Future logins will use cached tokens.\n",
      "\n"
     ]
    },
    {
     "ename": "RuntimeError",
     "evalue": "Authentication failed: OAuth2 authentication failed",
     "output_type": "error",
     "traceback": [
      "\u001b[31m---------------------------------------------------------------------------\u001b[39m",
      "\u001b[31mRuntimeError\u001b[39m                              Traceback (most recent call last)",
      "\u001b[36mFile \u001b[39m\u001b[32m~/Desktop/Laboratory/syft-client/test_notebooks/../syft_client/platforms/google_personal/client.py:142\u001b[39m, in \u001b[36mGooglePersonalClient.authenticate\u001b[39m\u001b[34m(self)\u001b[39m\n\u001b[32m    141\u001b[39m     \u001b[38;5;28;01mif\u001b[39;00m \u001b[38;5;129;01mnot\u001b[39;00m \u001b[38;5;28mself\u001b[39m.credentials:\n\u001b[32m--> \u001b[39m\u001b[32m142\u001b[39m         \u001b[38;5;28;01mraise\u001b[39;00m \u001b[38;5;167;01mRuntimeError\u001b[39;00m(\u001b[33m\"\u001b[39m\u001b[33mOAuth2 authentication failed\u001b[39m\u001b[33m\"\u001b[39m)\n\u001b[32m    144\u001b[39m     \u001b[38;5;66;03m# Note: Token is already stored in wallet by authenticate_oauth2\u001b[39;00m\n\u001b[32m    145\u001b[39m \n\u001b[32m    146\u001b[39m \u001b[38;5;66;03m# Check if this is first time setup\u001b[39;00m\n",
      "\u001b[31mRuntimeError\u001b[39m: OAuth2 authentication failed",
      "\nDuring handling of the above exception, another exception occurred:\n",
      "\u001b[31mRuntimeError\u001b[39m                              Traceback (most recent call last)",
      "\u001b[36mCell\u001b[39m\u001b[36m \u001b[39m\u001b[32mIn[8]\u001b[39m\u001b[32m, line 1\u001b[39m\n\u001b[32m----> \u001b[39m\u001b[32m1\u001b[39m client = \u001b[43msc\u001b[49m\u001b[43m.\u001b[49m\u001b[43mlogin\u001b[49m\u001b[43m(\u001b[49m\u001b[33;43m\"\u001b[39;49m\u001b[33;43mliamtrask@gmail.com\u001b[39;49m\u001b[33;43m\"\u001b[39;49m\u001b[43m)\u001b[49m\n",
      "\u001b[36mFile \u001b[39m\u001b[32m~/Desktop/Laboratory/syft-client/test_notebooks/../syft_client/syft_client.py:494\u001b[39m, in \u001b[36mSyftClient.login\u001b[39m\u001b[34m(email, provider, quickstart, verbose, wizard, **kwargs)\u001b[39m\n\u001b[32m    492\u001b[39m \u001b[38;5;66;03m# Create SyftClient and login\u001b[39;00m\n\u001b[32m    493\u001b[39m client = SyftClient(email)\n\u001b[32m--> \u001b[39m\u001b[32m494\u001b[39m \u001b[43mclient\u001b[49m\u001b[43m.\u001b[49m\u001b[43m_login\u001b[49m\u001b[43m(\u001b[49m\u001b[43mprovider\u001b[49m\u001b[43m=\u001b[49m\u001b[43mprovider\u001b[49m\u001b[43m,\u001b[49m\u001b[43m \u001b[49m\u001b[43mverbose\u001b[49m\u001b[43m=\u001b[49m\u001b[43mverbose\u001b[49m\u001b[43m,\u001b[49m\u001b[43m \u001b[49m\u001b[43mwizard\u001b[49m\u001b[43m=\u001b[49m\u001b[43mwizard\u001b[49m\u001b[43m)\u001b[49m\n\u001b[32m    495\u001b[39m \u001b[38;5;28;01mreturn\u001b[39;00m client\n",
      "\u001b[36mFile \u001b[39m\u001b[32m~/Desktop/Laboratory/syft-client/test_notebooks/../syft_client/syft_client.py:424\u001b[39m, in \u001b[36mSyftClient._login\u001b[39m\u001b[34m(self, provider, verbose, wizard)\u001b[39m\n\u001b[32m    421\u001b[39m     \u001b[38;5;28mprint\u001b[39m(\u001b[33mf\u001b[39m\u001b[33m\"\u001b[39m\u001b[38;5;130;01m\\n\u001b[39;00m\u001b[33mAuthenticating with \u001b[39m\u001b[38;5;132;01m{\u001b[39;00mplatform.value\u001b[38;5;132;01m}\u001b[39;00m\u001b[33m...\u001b[39m\u001b[33m\"\u001b[39m)\n\u001b[32m    423\u001b[39m \u001b[38;5;66;03m# Step 5: Attempt authentication (looks for 1-step auth)\u001b[39;00m\n\u001b[32m--> \u001b[39m\u001b[32m424\u001b[39m auth_result = \u001b[43mclient\u001b[49m\u001b[43m.\u001b[49m\u001b[43mauthenticate\u001b[49m\u001b[43m(\u001b[49m\u001b[43m)\u001b[49m\n\u001b[32m    426\u001b[39m \u001b[38;5;28;01mif\u001b[39;00m verbose:\n\u001b[32m    427\u001b[39m     \u001b[38;5;28mprint\u001b[39m(\u001b[33mf\u001b[39m\u001b[33m\"\u001b[39m\u001b[33mAuthentication successful!\u001b[39m\u001b[33m\"\u001b[39m)\n",
      "\u001b[36mFile \u001b[39m\u001b[32m~/Desktop/Laboratory/syft-client/test_notebooks/../syft_client/platforms/google_personal/client.py:201\u001b[39m, in \u001b[36mGooglePersonalClient.authenticate\u001b[39m\u001b[34m(self)\u001b[39m\n\u001b[32m    192\u001b[39m     \u001b[38;5;28;01mreturn\u001b[39;00m {\n\u001b[32m    193\u001b[39m         \u001b[33m'\u001b[39m\u001b[33memail\u001b[39m\u001b[33m'\u001b[39m: \u001b[38;5;28mself\u001b[39m.email,\n\u001b[32m    194\u001b[39m         \u001b[33m'\u001b[39m\u001b[33mauth_method\u001b[39m\u001b[33m'\u001b[39m: \u001b[33m'\u001b[39m\u001b[33moauth2\u001b[39m\u001b[33m'\u001b[39m,\n\u001b[32m   (...)\u001b[39m\u001b[32m    197\u001b[39m         \u001b[33m'\u001b[39m\u001b[33mfailed_transports\u001b[39m\u001b[33m'\u001b[39m: failed_transports\n\u001b[32m    198\u001b[39m     }\n\u001b[32m    200\u001b[39m \u001b[38;5;28;01mexcept\u001b[39;00m \u001b[38;5;167;01mException\u001b[39;00m \u001b[38;5;28;01mas\u001b[39;00m e:\n\u001b[32m--> \u001b[39m\u001b[32m201\u001b[39m     \u001b[38;5;28;01mraise\u001b[39;00m \u001b[38;5;167;01mRuntimeError\u001b[39;00m(\u001b[33mf\u001b[39m\u001b[33m\"\u001b[39m\u001b[33mAuthentication failed: \u001b[39m\u001b[38;5;132;01m{\u001b[39;00me\u001b[38;5;132;01m}\u001b[39;00m\u001b[33m\"\u001b[39m)\n",
      "\u001b[31mRuntimeError\u001b[39m: Authentication failed: OAuth2 authentication failed"
     ]
    }
   ],
   "source": [
    "client = sc.login(\"liamtrask@gmail.com\")"
   ]
  },
  {
   "cell_type": "code",
   "execution_count": 3,
   "id": "85653ebc-fc37-4db8-890b-bd44bfb57d97",
   "metadata": {},
   "outputs": [
    {
     "data": {
      "text/plain": [
       "True"
      ]
     },
     "execution_count": 3,
     "metadata": {},
     "output_type": "execute_result"
    }
   ],
   "source": [
    "client.platforms.google_personal.gmail.is_keystore"
   ]
  },
  {
   "cell_type": "code",
   "execution_count": 4,
   "id": "ff3bf331-3074-46cc-a05f-b3f744850079",
   "metadata": {},
   "outputs": [],
   "source": [
    "client2 = sc.login(\"andrew@openmined.org\")"
   ]
  },
  {
   "cell_type": "code",
   "execution_count": 6,
   "id": "1a7347b2-1700-4c1f-b5b1-032167113ad3",
   "metadata": {},
   "outputs": [
    {
     "data": {
      "text/html": [
       "<pre style=\"white-space:pre;overflow-x:auto;line-height:normal;font-family:Menlo,'DejaVu Sans Mono',consolas,'Courier New',monospace\">╭────────── GoogleOrgClient(email='andrew@openmined.org') ───────────╮\n",
       "│                                                                    │\n",
       "│  <span style=\"color: #7f7f7f; text-decoration-color: #7f7f7f; font-weight: bold\"> .gmail        </span><span style=\"color: #7f7f7f; text-decoration-color: #7f7f7f\"> </span><span style=\"color: #7fbf7f; text-decoration-color: #7fbf7f\">✓</span><span style=\"color: #7f7f7f; text-decoration-color: #7f7f7f\">         </span><span style=\"color: #7fbf7f; text-decoration-color: #7fbf7f\">0 steps</span><span style=\"color: #7f7f7f; text-decoration-color: #7f7f7f\">       keystore,               </span>  │\n",
       "│  <span style=\"color: #7f7f7f; text-decoration-color: #7f7f7f; font-weight: bold\">               </span><span style=\"color: #7f7f7f; text-decoration-color: #7f7f7f\">                         notifications, HTML     </span>  │\n",
       "│  <span style=\"color: #7f7f7f; text-decoration-color: #7f7f7f; font-weight: bold\"> .gdrive_files </span><span style=\"color: #7f7f7f; text-decoration-color: #7f7f7f\"> </span><span style=\"color: #7fbf7f; text-decoration-color: #7fbf7f\">✓</span><span style=\"color: #7f7f7f; text-decoration-color: #7f7f7f\">         </span><span style=\"color: #7fbf7f; text-decoration-color: #7fbf7f\">0 steps</span><span style=\"color: #7f7f7f; text-decoration-color: #7f7f7f\">       keystore, public        </span>  │\n",
       "│  <span style=\"color: #7f7f7f; text-decoration-color: #7f7f7f; font-weight: bold\">               </span><span style=\"color: #7f7f7f; text-decoration-color: #7f7f7f\">                         sharing                 </span>  │\n",
       "│  <span style=\"color: #7f7f7f; text-decoration-color: #7f7f7f; font-weight: bold\"> .gsheets      </span><span style=\"color: #7f7f7f; text-decoration-color: #7f7f7f\"> </span><span style=\"color: #7fbf7f; text-decoration-color: #7fbf7f\">✓</span><span style=\"color: #7f7f7f; text-decoration-color: #7f7f7f\">         </span><span style=\"color: #7fbf7f; text-decoration-color: #7fbf7f\">0 steps</span><span style=\"color: #7f7f7f; text-decoration-color: #7f7f7f\">       public sharing          </span>  │\n",
       "│  <span style=\"color: #7f7f7f; text-decoration-color: #7f7f7f; font-weight: bold\"> .gforms       </span><span style=\"color: #7f7f7f; text-decoration-color: #7f7f7f\"> </span><span style=\"color: #7fbf7f; text-decoration-color: #7fbf7f\">✓</span><span style=\"color: #7f7f7f; text-decoration-color: #7f7f7f\">         </span><span style=\"color: #7fbf7f; text-decoration-color: #7fbf7f\">0 steps</span><span style=\"color: #7f7f7f; text-decoration-color: #7f7f7f\">       HTML                    </span>  │\n",
       "│                                                                    │\n",
       "╰────────────────────────────────────────────────────────────────────╯\n",
       "</pre>\n"
      ],
      "text/plain": [
       "╭────────── GoogleOrgClient(email='andrew@openmined.org') ───────────╮\n",
       "│                                                                    │\n",
       "│  \u001b[1;2m \u001b[0m\u001b[1;2m.gmail       \u001b[0m\u001b[1;2m \u001b[0m\u001b[2m \u001b[0m\u001b[2;32m✓\u001b[0m\u001b[2m       \u001b[0m\u001b[2m \u001b[0m\u001b[2m \u001b[0m\u001b[2;32m0 steps\u001b[0m\u001b[2m     \u001b[0m\u001b[2m \u001b[0m\u001b[2m \u001b[0m\u001b[2mkeystore,              \u001b[0m\u001b[2m \u001b[0m  │\n",
       "│  \u001b[1;2m               \u001b[0m\u001b[2m          \u001b[0m\u001b[2m              \u001b[0m\u001b[2m \u001b[0m\u001b[2mnotifications, HTML    \u001b[0m\u001b[2m \u001b[0m  │\n",
       "│  \u001b[1;2m \u001b[0m\u001b[1;2m.gdrive_files\u001b[0m\u001b[1;2m \u001b[0m\u001b[2m \u001b[0m\u001b[2;32m✓\u001b[0m\u001b[2m       \u001b[0m\u001b[2m \u001b[0m\u001b[2m \u001b[0m\u001b[2;32m0 steps\u001b[0m\u001b[2m     \u001b[0m\u001b[2m \u001b[0m\u001b[2m \u001b[0m\u001b[2mkeystore, public       \u001b[0m\u001b[2m \u001b[0m  │\n",
       "│  \u001b[1;2m               \u001b[0m\u001b[2m          \u001b[0m\u001b[2m              \u001b[0m\u001b[2m \u001b[0m\u001b[2msharing                \u001b[0m\u001b[2m \u001b[0m  │\n",
       "│  \u001b[1;2m \u001b[0m\u001b[1;2m.gsheets     \u001b[0m\u001b[1;2m \u001b[0m\u001b[2m \u001b[0m\u001b[2;32m✓\u001b[0m\u001b[2m       \u001b[0m\u001b[2m \u001b[0m\u001b[2m \u001b[0m\u001b[2;32m0 steps\u001b[0m\u001b[2m     \u001b[0m\u001b[2m \u001b[0m\u001b[2m \u001b[0m\u001b[2mpublic sharing         \u001b[0m\u001b[2m \u001b[0m  │\n",
       "│  \u001b[1;2m \u001b[0m\u001b[1;2m.gforms      \u001b[0m\u001b[1;2m \u001b[0m\u001b[2m \u001b[0m\u001b[2;32m✓\u001b[0m\u001b[2m       \u001b[0m\u001b[2m \u001b[0m\u001b[2m \u001b[0m\u001b[2;32m0 steps\u001b[0m\u001b[2m     \u001b[0m\u001b[2m \u001b[0m\u001b[2m \u001b[0m\u001b[2mHTML                   \u001b[0m\u001b[2m \u001b[0m  │\n",
       "│                                                                    │\n",
       "╰────────────────────────────────────────────────────────────────────╯\n"
      ]
     },
     "metadata": {},
     "output_type": "display_data"
    },
    {
     "data": {
      "text/plain": []
     },
     "execution_count": 6,
     "metadata": {},
     "output_type": "execute_result"
    }
   ],
   "source": [
    "client2.platforms.google_org"
   ]
  },
  {
   "cell_type": "code",
   "execution_count": 8,
   "id": "87941d00-3575-4dfa-b2fd-c47f0de18231",
   "metadata": {},
   "outputs": [
    {
     "data": {
      "text/plain": [
       "{'google_org': GoogleOrgClient(email='andrew@openmined.org')}"
      ]
     },
     "execution_count": 8,
     "metadata": {},
     "output_type": "execute_result"
    }
   ],
   "source": [
    "client2.platforms"
   ]
  },
  {
   "cell_type": "code",
   "execution_count": null,
   "id": "42fa090c-1b1e-4e03-aa1b-448285eba465",
   "metadata": {},
   "outputs": [],
   "source": []
  }
 ],
 "metadata": {
  "kernelspec": {
   "display_name": "Python 3 (ipykernel)",
   "language": "python",
   "name": "python3"
  },
  "language_info": {
   "codemirror_mode": {
    "name": "ipython",
    "version": 3
   },
   "file_extension": ".py",
   "mimetype": "text/x-python",
   "name": "python",
   "nbconvert_exporter": "python",
   "pygments_lexer": "ipython3",
   "version": "3.12.9"
  }
 },
 "nbformat": 4,
 "nbformat_minor": 5
}
