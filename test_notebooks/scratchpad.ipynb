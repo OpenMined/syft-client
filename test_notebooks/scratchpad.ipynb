{
 "cells": [
  {
   "cell_type": "code",
   "execution_count": 1,
   "id": "9b86ea6f-a5b6-429f-b809-f2f06aa0cb8c",
   "metadata": {},
   "outputs": [],
   "source": [
    "import sys\n",
    "sys.path.insert(0, '..')\n",
    "import syft_client as sc"
   ]
  },
  {
   "cell_type": "code",
   "execution_count": 2,
   "id": "2f1cc835-290f-4cca-a4d1-002036efe4fb",
   "metadata": {},
   "outputs": [
    {
     "name": "stdout",
     "output_type": "stream",
     "text": [
      "\n",
      "📱 Gmail App Password required for liamtrask@gmail.com\n",
      "Generate one at: https://myaccount.google.com/apppasswords?authuser=liamtrask%40gmail.com\n"
     ]
    },
    {
     "name": "stdin",
     "output_type": "stream",
     "text": [
      "\n",
      "Enter your Gmail app password (16 characters):  ········\n"
     ]
    },
    {
     "name": "stdout",
     "output_type": "stream",
     "text": [
      "\n",
      "🔍 Testing Gmail connection...\n",
      "✓ SMTP connection successful\n",
      "✓ IMAP connection successful\n",
      "\n",
      "✅ Authentication successful!\n",
      "\n",
      "💡 Tip: Save your app password in your password manager\n",
      "   to avoid re-entering it next time.\n"
     ]
    }
   ],
   "source": [
    "client = sc.login(\"liamtrask@gmail.com\")"
   ]
  },
  {
   "cell_type": "code",
   "execution_count": null,
   "id": "628001de-9f41-44a7-8db0-6571fb107221",
   "metadata": {},
   "outputs": [],
   "source": [
    "client.platforms"
   ]
  },
  {
   "cell_type": "code",
   "execution_count": null,
   "id": "a65d4948-1613-4b56-bad6-e9b952255194",
   "metadata": {},
   "outputs": [],
   "source": []
  }
 ],
 "metadata": {
  "kernelspec": {
   "display_name": "Python 3 (ipykernel)",
   "language": "python",
   "name": "python3"
  },
  "language_info": {
   "codemirror_mode": {
    "name": "ipython",
    "version": 3
   },
   "file_extension": ".py",
   "mimetype": "text/x-python",
   "name": "python",
   "nbconvert_exporter": "python",
   "pygments_lexer": "ipython3",
   "version": "3.12.9"
  }
 },
 "nbformat": 4,
 "nbformat_minor": 5
}
