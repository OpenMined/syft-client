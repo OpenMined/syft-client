{
 "cells": [
  {
   "cell_type": "code",
   "execution_count": 1,
   "id": "9b86ea6f-a5b6-429f-b809-f2f06aa0cb8c",
   "metadata": {},
   "outputs": [],
   "source": [
    "import sys\n",
    "sys.path.insert(0, '..')\n",
    "import syft_client as sc"
   ]
  },
  {
   "cell_type": "code",
   "execution_count": 11,
   "id": "2f1cc835-290f-4cca-a4d1-002036efe4fb",
   "metadata": {},
   "outputs": [],
   "source": [
    "client = sc.login(\"liamtrask@gmail.com\")"
   ]
  },
  {
   "cell_type": "code",
   "execution_count": 13,
   "id": "ff3bf331-3074-46cc-a05f-b3f744850079",
   "metadata": {},
   "outputs": [
    {
     "ename": "TypeError",
     "evalue": "GoogleOrgClient.__init__() got an unexpected keyword argument 'verbose'",
     "output_type": "error",
     "traceback": [
      "\u001b[31m---------------------------------------------------------------------------\u001b[39m",
      "\u001b[31mTypeError\u001b[39m                                 Traceback (most recent call last)",
      "\u001b[36mCell\u001b[39m\u001b[36m \u001b[39m\u001b[32mIn[13]\u001b[39m\u001b[32m, line 1\u001b[39m\n\u001b[32m----> \u001b[39m\u001b[32m1\u001b[39m client2 = \u001b[43msc\u001b[49m\u001b[43m.\u001b[49m\u001b[43mlogin\u001b[49m\u001b[43m(\u001b[49m\u001b[33;43m\"\u001b[39;49m\u001b[33;43mandrew@openmined.org\u001b[39;49m\u001b[33;43m\"\u001b[39;49m\u001b[43m)\u001b[49m\n",
      "\u001b[36mFile \u001b[39m\u001b[32m~/Desktop/Laboratory/syft-client/test_notebooks/../syft_client/syft_client.py:281\u001b[39m, in \u001b[36mSyftClient.login\u001b[39m\u001b[34m(email, provider, quickstart, verbose, **kwargs)\u001b[39m\n\u001b[32m    279\u001b[39m \u001b[38;5;66;03m# Create SyftClient and login\u001b[39;00m\n\u001b[32m    280\u001b[39m client = SyftClient(email)\n\u001b[32m--> \u001b[39m\u001b[32m281\u001b[39m \u001b[43mclient\u001b[49m\u001b[43m.\u001b[49m\u001b[43m_login\u001b[49m\u001b[43m(\u001b[49m\u001b[43mprovider\u001b[49m\u001b[43m=\u001b[49m\u001b[43mprovider\u001b[49m\u001b[43m,\u001b[49m\u001b[43m \u001b[49m\u001b[43mverbose\u001b[49m\u001b[43m=\u001b[49m\u001b[43mverbose\u001b[49m\u001b[43m)\u001b[49m\n\u001b[32m    282\u001b[39m \u001b[38;5;28;01mreturn\u001b[39;00m client\n",
      "\u001b[36mFile \u001b[39m\u001b[32m~/Desktop/Laboratory/syft-client/test_notebooks/../syft_client/syft_client.py:222\u001b[39m, in \u001b[36mSyftClient._login\u001b[39m\u001b[34m(self, provider, verbose)\u001b[39m\n\u001b[32m    218\u001b[39m \u001b[38;5;28;01mfrom\u001b[39;00m\u001b[38;5;250m \u001b[39m\u001b[34;01m.\u001b[39;00m\u001b[34;01mplatforms\u001b[39;00m\u001b[38;5;250m \u001b[39m\u001b[38;5;28;01mimport\u001b[39;00m get_platform_client\n\u001b[32m    220\u001b[39m \u001b[38;5;28;01mtry\u001b[39;00m:\n\u001b[32m    221\u001b[39m     \u001b[38;5;66;03m# Create platform client\u001b[39;00m\n\u001b[32m--> \u001b[39m\u001b[32m222\u001b[39m     client = \u001b[43mget_platform_client\u001b[49m\u001b[43m(\u001b[49m\u001b[43mplatform\u001b[49m\u001b[43m,\u001b[49m\u001b[43m \u001b[49m\u001b[38;5;28;43mself\u001b[39;49m\u001b[43m.\u001b[49m\u001b[43memail\u001b[49m\u001b[43m,\u001b[49m\u001b[43m \u001b[49m\u001b[43mverbose\u001b[49m\u001b[43m=\u001b[49m\u001b[43mverbose\u001b[49m\u001b[43m)\u001b[49m\n\u001b[32m    224\u001b[39m     \u001b[38;5;28;01mif\u001b[39;00m verbose:\n\u001b[32m    225\u001b[39m         \u001b[38;5;28mprint\u001b[39m(\u001b[33mf\u001b[39m\u001b[33m\"\u001b[39m\u001b[38;5;130;01m\\n\u001b[39;00m\u001b[33mAuthenticating with \u001b[39m\u001b[38;5;132;01m{\u001b[39;00mplatform.value\u001b[38;5;132;01m}\u001b[39;00m\u001b[33m...\u001b[39m\u001b[33m\"\u001b[39m)\n",
      "\u001b[36mFile \u001b[39m\u001b[32m~/Desktop/Laboratory/syft-client/test_notebooks/../syft_client/platforms/__init__.py:56\u001b[39m, in \u001b[36mget_platform_client\u001b[39m\u001b[34m(platform, email, **kwargs)\u001b[39m\n\u001b[32m     53\u001b[39m     \u001b[38;5;28;01mraise\u001b[39;00m \u001b[38;5;167;01mValueError\u001b[39;00m(\u001b[33mf\u001b[39m\u001b[33m\"\u001b[39m\u001b[33mPlatform \u001b[39m\u001b[38;5;132;01m{\u001b[39;00mplatform.value\u001b[38;5;132;01m}\u001b[39;00m\u001b[33m is not supported\u001b[39m\u001b[33m\"\u001b[39m)\n\u001b[32m     55\u001b[39m client_class = PLATFORM_CLIENTS[platform]\n\u001b[32m---> \u001b[39m\u001b[32m56\u001b[39m \u001b[38;5;28;01mreturn\u001b[39;00m \u001b[43mclient_class\u001b[49m\u001b[43m(\u001b[49m\u001b[43memail\u001b[49m\u001b[43m,\u001b[49m\u001b[43m \u001b[49m\u001b[43m*\u001b[49m\u001b[43m*\u001b[49m\u001b[43mkwargs\u001b[49m\u001b[43m)\u001b[49m\n",
      "\u001b[31mTypeError\u001b[39m: GoogleOrgClient.__init__() got an unexpected keyword argument 'verbose'"
     ]
    }
   ],
   "source": [
    "client2 = sc.login(\"andrew@openmined.org\")"
   ]
  },
  {
   "cell_type": "code",
   "execution_count": 12,
   "id": "87941d00-3575-4dfa-b2fd-c47f0de18231",
   "metadata": {},
   "outputs": [
    {
     "data": {
      "text/plain": [
       "PosixPath('/Users/atrask/SyftBox_liamtrask@gmail.com')"
      ]
     },
     "execution_count": 12,
     "metadata": {},
     "output_type": "execute_result"
    }
   ],
   "source": [
    "client.folder"
   ]
  },
  {
   "cell_type": "code",
   "execution_count": null,
   "id": "42fa090c-1b1e-4e03-aa1b-448285eba465",
   "metadata": {},
   "outputs": [],
   "source": []
  }
 ],
 "metadata": {
  "kernelspec": {
   "display_name": "Python 3 (ipykernel)",
   "language": "python",
   "name": "python3"
  },
  "language_info": {
   "codemirror_mode": {
    "name": "ipython",
    "version": 3
   },
   "file_extension": ".py",
   "mimetype": "text/x-python",
   "name": "python",
   "nbconvert_exporter": "python",
   "pygments_lexer": "ipython3",
   "version": "3.12.9"
  }
 },
 "nbformat": 4,
 "nbformat_minor": 5
}
