{
 "cells": [
  {
   "cell_type": "code",
   "execution_count": 1,
   "id": "9b86ea6f-a5b6-429f-b809-f2f06aa0cb8c",
   "metadata": {},
   "outputs": [],
   "source": [
    "import sys\n",
    "sys.path.insert(0, '..')\n",
    "import syft_client as sc"
   ]
  },
  {
   "cell_type": "code",
   "execution_count": 2,
   "id": "fd9b7672-1c25-4d33-a466-7ed7465f7250",
   "metadata": {},
   "outputs": [],
   "source": [
    "client = sc.login(\"liamtrask@gmail.com\")"
   ]
  },
  {
   "cell_type": "code",
   "execution_count": 4,
   "id": "85653ebc-fc37-4db8-890b-bd44bfb57d97",
   "metadata": {},
   "outputs": [
    {
     "ename": "AttributeError",
     "evalue": "type object 'PlatformDetector' has no attribute 'PRIMARY_PLATFORMS'",
     "output_type": "error",
     "traceback": [
      "\u001b[31m---------------------------------------------------------------------------\u001b[39m",
      "\u001b[31mAttributeError\u001b[39m                            Traceback (most recent call last)",
      "\u001b[36mFile \u001b[39m\u001b[32m~/Library/Caches/uv/archive-v0/To8iNumtm3qGMH-CzyOUv/lib/python3.12/site-packages/IPython/core/formatters.py:770\u001b[39m, in \u001b[36mPlainTextFormatter.__call__\u001b[39m\u001b[34m(self, obj)\u001b[39m\n\u001b[32m    763\u001b[39m stream = StringIO()\n\u001b[32m    764\u001b[39m printer = pretty.RepresentationPrinter(stream, \u001b[38;5;28mself\u001b[39m.verbose,\n\u001b[32m    765\u001b[39m     \u001b[38;5;28mself\u001b[39m.max_width, \u001b[38;5;28mself\u001b[39m.newline,\n\u001b[32m    766\u001b[39m     max_seq_length=\u001b[38;5;28mself\u001b[39m.max_seq_length,\n\u001b[32m    767\u001b[39m     singleton_pprinters=\u001b[38;5;28mself\u001b[39m.singleton_printers,\n\u001b[32m    768\u001b[39m     type_pprinters=\u001b[38;5;28mself\u001b[39m.type_printers,\n\u001b[32m    769\u001b[39m     deferred_pprinters=\u001b[38;5;28mself\u001b[39m.deferred_printers)\n\u001b[32m--> \u001b[39m\u001b[32m770\u001b[39m \u001b[43mprinter\u001b[49m\u001b[43m.\u001b[49m\u001b[43mpretty\u001b[49m\u001b[43m(\u001b[49m\u001b[43mobj\u001b[49m\u001b[43m)\u001b[49m\n\u001b[32m    771\u001b[39m printer.flush()\n\u001b[32m    772\u001b[39m \u001b[38;5;28;01mreturn\u001b[39;00m stream.getvalue()\n",
      "\u001b[36mFile \u001b[39m\u001b[32m~/Library/Caches/uv/archive-v0/To8iNumtm3qGMH-CzyOUv/lib/python3.12/site-packages/IPython/lib/pretty.py:411\u001b[39m, in \u001b[36mRepresentationPrinter.pretty\u001b[39m\u001b[34m(self, obj)\u001b[39m\n\u001b[32m    400\u001b[39m                         \u001b[38;5;28;01mreturn\u001b[39;00m meth(obj, \u001b[38;5;28mself\u001b[39m, cycle)\n\u001b[32m    401\u001b[39m                 \u001b[38;5;28;01mif\u001b[39;00m (\n\u001b[32m    402\u001b[39m                     \u001b[38;5;28mcls\u001b[39m \u001b[38;5;129;01mis\u001b[39;00m \u001b[38;5;129;01mnot\u001b[39;00m \u001b[38;5;28mobject\u001b[39m\n\u001b[32m    403\u001b[39m                     \u001b[38;5;66;03m# check if cls defines __repr__\u001b[39;00m\n\u001b[32m   (...)\u001b[39m\u001b[32m    409\u001b[39m                     \u001b[38;5;129;01mand\u001b[39;00m \u001b[38;5;28mcallable\u001b[39m(_safe_getattr(\u001b[38;5;28mcls\u001b[39m, \u001b[33m\"\u001b[39m\u001b[33m__repr__\u001b[39m\u001b[33m\"\u001b[39m, \u001b[38;5;28;01mNone\u001b[39;00m))\n\u001b[32m    410\u001b[39m                 ):\n\u001b[32m--> \u001b[39m\u001b[32m411\u001b[39m                     \u001b[38;5;28;01mreturn\u001b[39;00m \u001b[43m_repr_pprint\u001b[49m\u001b[43m(\u001b[49m\u001b[43mobj\u001b[49m\u001b[43m,\u001b[49m\u001b[43m \u001b[49m\u001b[38;5;28;43mself\u001b[39;49m\u001b[43m,\u001b[49m\u001b[43m \u001b[49m\u001b[43mcycle\u001b[49m\u001b[43m)\u001b[49m\n\u001b[32m    413\u001b[39m     \u001b[38;5;28;01mreturn\u001b[39;00m _default_pprint(obj, \u001b[38;5;28mself\u001b[39m, cycle)\n\u001b[32m    414\u001b[39m \u001b[38;5;28;01mfinally\u001b[39;00m:\n",
      "\u001b[36mFile \u001b[39m\u001b[32m~/Library/Caches/uv/archive-v0/To8iNumtm3qGMH-CzyOUv/lib/python3.12/site-packages/IPython/lib/pretty.py:786\u001b[39m, in \u001b[36m_repr_pprint\u001b[39m\u001b[34m(obj, p, cycle)\u001b[39m\n\u001b[32m    784\u001b[39m \u001b[38;5;250m\u001b[39m\u001b[33;03m\"\"\"A pprint that just redirects to the normal repr function.\"\"\"\u001b[39;00m\n\u001b[32m    785\u001b[39m \u001b[38;5;66;03m# Find newlines and replace them with p.break_()\u001b[39;00m\n\u001b[32m--> \u001b[39m\u001b[32m786\u001b[39m output = \u001b[38;5;28;43mrepr\u001b[39;49m\u001b[43m(\u001b[49m\u001b[43mobj\u001b[49m\u001b[43m)\u001b[49m\n\u001b[32m    787\u001b[39m lines = output.splitlines()\n\u001b[32m    788\u001b[39m \u001b[38;5;28;01mwith\u001b[39;00m p.group():\n",
      "\u001b[36mFile \u001b[39m\u001b[32m~/Desktop/Laboratory/syft-client/test_notebooks/../syft_client/syft_client.py:73\u001b[39m, in \u001b[36mPlatformRegistry.__repr__\u001b[39m\u001b[34m(self)\u001b[39m\n\u001b[32m     70\u001b[39m main_table.add_column(style=\u001b[33m\"\u001b[39m\u001b[33mdim\u001b[39m\u001b[33m\"\u001b[39m)\n\u001b[32m     72\u001b[39m \u001b[38;5;66;03m# Get all available platforms\u001b[39;00m\n\u001b[32m---> \u001b[39m\u001b[32m73\u001b[39m all_platforms = \u001b[43mget_all_platforms\u001b[49m\u001b[43m(\u001b[49m\u001b[43m)\u001b[49m\n\u001b[32m     75\u001b[39m \u001b[38;5;28;01mfor\u001b[39;00m platform_enum \u001b[38;5;129;01min\u001b[39;00m all_platforms:\n\u001b[32m     76\u001b[39m     platform_name = platform_enum.value\n",
      "\u001b[36mFile \u001b[39m\u001b[32m~/Desktop/Laboratory/syft-client/test_notebooks/../syft_client/platforms/detection.py:886\u001b[39m, in \u001b[36mget_all_platforms\u001b[39m\u001b[34m()\u001b[39m\n\u001b[32m    884\u001b[39m \u001b[38;5;28;01mdef\u001b[39;00m\u001b[38;5;250m \u001b[39m\u001b[34mget_all_platforms\u001b[39m() -> List[Platform]:\n\u001b[32m    885\u001b[39m \u001b[38;5;250m    \u001b[39m\u001b[33;03m\"\"\"Get all available platforms (primary and secondary)\"\"\"\u001b[39;00m\n\u001b[32m--> \u001b[39m\u001b[32m886\u001b[39m     all_platforms = \u001b[38;5;28mlist\u001b[39m(\u001b[43mPlatformDetector\u001b[49m\u001b[43m.\u001b[49m\u001b[43mPRIMARY_PLATFORMS\u001b[49m) + \u001b[38;5;28mlist\u001b[39m(PlatformDetector.SECONDARY_PLATFORMS)\n\u001b[32m    887\u001b[39m     \u001b[38;5;66;03m# Sort by name for consistent ordering\u001b[39;00m\n\u001b[32m    888\u001b[39m     \u001b[38;5;28;01mreturn\u001b[39;00m \u001b[38;5;28msorted\u001b[39m(all_platforms, key=\u001b[38;5;28;01mlambda\u001b[39;00m p: p.value)\n",
      "\u001b[31mAttributeError\u001b[39m: type object 'PlatformDetector' has no attribute 'PRIMARY_PLATFORMS'"
     ]
    }
   ],
   "source": [
    "client.platforms"
   ]
  },
  {
   "cell_type": "code",
   "execution_count": 4,
   "id": "ff3bf331-3074-46cc-a05f-b3f744850079",
   "metadata": {},
   "outputs": [],
   "source": [
    "client2 = sc.login(\"andrew@openmined.org\")"
   ]
  },
  {
   "cell_type": "code",
   "execution_count": 11,
   "id": "1a7347b2-1700-4c1f-b5b1-032167113ad3",
   "metadata": {},
   "outputs": [
    {
     "data": {
      "text/html": [
       "<pre style=\"white-space:pre;overflow-x:auto;line-height:normal;font-family:Menlo,'DejaVu Sans Mono',consolas,'Courier New',monospace\">╭───────────────────────── PlatformRegistry ─────────────────────────╮\n",
       "│                                                                    │\n",
       "│  <span style=\"color: #bfbf7f; text-decoration-color: #bfbf7f; font-weight: bold\">.google_org</span><span style=\"color: #7f7f7f; text-decoration-color: #7f7f7f\">                                                     </span>  │\n",
       "│  <span style=\"color: #7f7f7f; text-decoration-color: #7f7f7f\">    </span><span style=\"color: #7fbf7f; text-decoration-color: #7fbf7f\">✓</span><span style=\"color: #7f7f7f; text-decoration-color: #7f7f7f\"> .gmail                        </span><span style=\"color: #7fbf7f; text-decoration-color: #7fbf7f\">✓</span><span style=\"color: #7f7f7f; text-decoration-color: #7f7f7f\"> .gdrive_files             </span>  │\n",
       "│  <span style=\"color: #7f7f7f; text-decoration-color: #7f7f7f\">    </span><span style=\"color: #7fbf7f; text-decoration-color: #7fbf7f\">✓</span><span style=\"color: #7f7f7f; text-decoration-color: #7f7f7f\"> .gsheets                      </span><span style=\"color: #7fbf7f; text-decoration-color: #7fbf7f\">✓</span><span style=\"color: #7f7f7f; text-decoration-color: #7f7f7f\"> .gforms                   </span>  │\n",
       "│  <span style=\"color: #7f7f7f; text-decoration-color: #7f7f7f\">                                                                </span>  │\n",
       "│                                                                    │\n",
       "╰────────────────────────────────────────────────────────────────────╯\n",
       "</pre>\n"
      ],
      "text/plain": [
       "╭───────────────────────── PlatformRegistry ─────────────────────────╮\n",
       "│                                                                    │\n",
       "│  \u001b[1;2;33m.google_org\u001b[0m\u001b[2m                                                     \u001b[0m  │\n",
       "│  \u001b[2m  \u001b[0m\u001b[2m  \u001b[0m\u001b[2;32m✓\u001b[0m\u001b[2m .gmail                  \u001b[0m\u001b[2m  \u001b[0m\u001b[2m  \u001b[0m\u001b[2m  \u001b[0m\u001b[2;32m✓\u001b[0m\u001b[2m .gdrive_files           \u001b[0m\u001b[2m  \u001b[0m  │\n",
       "│  \u001b[2m  \u001b[0m\u001b[2m  \u001b[0m\u001b[2;32m✓\u001b[0m\u001b[2m .gsheets                \u001b[0m\u001b[2m  \u001b[0m\u001b[2m  \u001b[0m\u001b[2m  \u001b[0m\u001b[2;32m✓\u001b[0m\u001b[2m .gforms                 \u001b[0m\u001b[2m  \u001b[0m  │\n",
       "│  \u001b[2m                                                                \u001b[0m  │\n",
       "│                                                                    │\n",
       "╰────────────────────────────────────────────────────────────────────╯\n"
      ]
     },
     "metadata": {},
     "output_type": "display_data"
    },
    {
     "data": {
      "text/plain": []
     },
     "execution_count": 11,
     "metadata": {},
     "output_type": "execute_result"
    }
   ],
   "source": [
    "client2.platforms"
   ]
  },
  {
   "cell_type": "code",
   "execution_count": 8,
   "id": "87941d00-3575-4dfa-b2fd-c47f0de18231",
   "metadata": {},
   "outputs": [
    {
     "data": {
      "text/plain": [
       "{'google_org': GoogleOrgClient(email='andrew@openmined.org')}"
      ]
     },
     "execution_count": 8,
     "metadata": {},
     "output_type": "execute_result"
    }
   ],
   "source": [
    "client2.platforms"
   ]
  },
  {
   "cell_type": "code",
   "execution_count": null,
   "id": "42fa090c-1b1e-4e03-aa1b-448285eba465",
   "metadata": {},
   "outputs": [],
   "source": []
  }
 ],
 "metadata": {
  "kernelspec": {
   "display_name": "Python 3 (ipykernel)",
   "language": "python",
   "name": "python3"
  },
  "language_info": {
   "codemirror_mode": {
    "name": "ipython",
    "version": 3
   },
   "file_extension": ".py",
   "mimetype": "text/x-python",
   "name": "python",
   "nbconvert_exporter": "python",
   "pygments_lexer": "ipython3",
   "version": "3.12.9"
  }
 },
 "nbformat": 4,
 "nbformat_minor": 5
}
