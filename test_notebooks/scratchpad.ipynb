{
 "cells": [
  {
   "cell_type": "code",
   "execution_count": 1,
   "id": "9b86ea6f-a5b6-429f-b809-f2f06aa0cb8c",
   "metadata": {},
   "outputs": [],
   "source": [
    "import sys\n",
    "sys.path.insert(0, '..')\n",
    "import syft_client as sc"
   ]
  },
  {
   "cell_type": "code",
   "execution_count": 2,
   "id": "2f1cc835-290f-4cca-a4d1-002036efe4fb",
   "metadata": {},
   "outputs": [],
   "source": [
    "client = sc.login(\"liamtrask@gmail.com\")"
   ]
  },
  {
   "cell_type": "code",
   "execution_count": 3,
   "id": "ff3bf331-3074-46cc-a05f-b3f744850079",
   "metadata": {},
   "outputs": [
    {
     "name": "stdout",
     "output_type": "stream",
     "text": [
      "\n",
      "🔧 Google Workspace OAuth2 Setup Wizard\n",
      "============================================================\n",
      "Setting up OAuth2 for: andrew@openmined.org\n",
      "\n",
      "This wizard will help you create OAuth2 credentials for Google Workspace.\n",
      "You'll need:\n",
      "  • A Google Workspace account with admin privileges\n",
      "  • Or permission from your Workspace admin\n",
      "  • A Google Cloud Platform project\n",
      "\n",
      "⚠️  Google Workspace accounts may require:\n",
      "  • Admin consent for certain scopes\n",
      "  • Domain-wide delegation for service accounts\n",
      "  • Workspace-specific API enablement\n",
      "\n",
      "📝 Let's create your OAuth2 app step by step:\n",
      "============================================================\n",
      "\n",
      "🌐 Step 1: Go to Google Cloud Console\n",
      "Open: https://console.cloud.google.com\n",
      "\n",
      "IMPORTANT: Sign in with your Workspace account: andrew@openmined.org\n",
      "\n",
      "📂 Step 2: Create or Select a Project\n",
      "If you don't have a project:\n",
      "  1. Click 'Select a project' dropdown (top bar)\n",
      "  2. Click 'New Project'\n",
      "  3. Enter a name (e.g., 'Syft Workspace Integration')\n",
      "  4. Note your Project ID (e.g., 'syft-workspace-123456')\n"
     ]
    },
    {
     "name": "stdin",
     "output_type": "stream",
     "text": [
      "\n",
      "Press Enter when you have a project ready... \n",
      "\n",
      "Enter your Project ID (or press Enter to skip):  first-tide-469704-q1\n"
     ]
    },
    {
     "name": "stdout",
     "output_type": "stream",
     "text": [
      "\n",
      "🔌 Step 3: Enable Required APIs\n",
      "You need to enable these Google Workspace APIs:\n",
      "\n",
      "  • Gmail API\n"
     ]
    },
    {
     "ename": "RuntimeError",
     "evalue": "Authentication failed: type object 'Environment' has no attribute 'TERMINAL'",
     "output_type": "error",
     "traceback": [
      "\u001b[31m---------------------------------------------------------------------------\u001b[39m",
      "\u001b[31mAttributeError\u001b[39m                            Traceback (most recent call last)",
      "\u001b[36mFile \u001b[39m\u001b[32m~/Desktop/Laboratory/syft-client/test_notebooks/../syft_client/platforms/google_org/client.py:85\u001b[39m, in \u001b[36mGoogleOrgClient.authenticate\u001b[39m\u001b[34m(self)\u001b[39m\n\u001b[32m     83\u001b[39m \u001b[38;5;28;01mif\u001b[39;00m \u001b[38;5;129;01mnot\u001b[39;00m cached_credentials:\n\u001b[32m     84\u001b[39m     \u001b[38;5;66;03m# Step 4: Run OAuth2 flow\u001b[39;00m\n\u001b[32m---> \u001b[39m\u001b[32m85\u001b[39m     \u001b[38;5;28mself\u001b[39m.credentials = \u001b[38;5;28;43mself\u001b[39;49m\u001b[43m.\u001b[49m\u001b[43mauthenticate_oauth2\u001b[49m\u001b[43m(\u001b[49m\u001b[43m)\u001b[49m\n\u001b[32m     86\u001b[39m     \u001b[38;5;28;01mif\u001b[39;00m \u001b[38;5;129;01mnot\u001b[39;00m \u001b[38;5;28mself\u001b[39m.credentials:\n",
      "\u001b[36mFile \u001b[39m\u001b[32m~/Desktop/Laboratory/syft-client/test_notebooks/../syft_client/platforms/google_org/client.py:157\u001b[39m, in \u001b[36mGoogleOrgClient.authenticate_oauth2\u001b[39m\u001b[34m(self)\u001b[39m\n\u001b[32m    156\u001b[39m \u001b[38;5;28;01mif\u001b[39;00m \u001b[38;5;129;01mnot\u001b[39;00m credentials_file:\n\u001b[32m--> \u001b[39m\u001b[32m157\u001b[39m     credentials_file = \u001b[38;5;28;43mself\u001b[39;49m\u001b[43m.\u001b[49m\u001b[43mrun_oauth_wizard\u001b[49m\u001b[43m(\u001b[49m\u001b[43m)\u001b[49m\n\u001b[32m    158\u001b[39m     \u001b[38;5;28;01mif\u001b[39;00m \u001b[38;5;129;01mnot\u001b[39;00m credentials_file:\n",
      "\u001b[36mFile \u001b[39m\u001b[32m~/Desktop/Laboratory/syft-client/test_notebooks/../syft_client/platforms/google_org/client.py:458\u001b[39m, in \u001b[36mGoogleOrgClient.run_oauth_wizard\u001b[39m\u001b[34m(self)\u001b[39m\n\u001b[32m    457\u001b[39m \u001b[38;5;66;03m# Run the wizard\u001b[39;00m\n\u001b[32m--> \u001b[39m\u001b[32m458\u001b[39m creds_file = \u001b[43mcheck_or_create_credentials\u001b[49m\u001b[43m(\u001b[49m\u001b[38;5;28;43mself\u001b[39;49m\u001b[43m.\u001b[49m\u001b[43memail\u001b[49m\u001b[43m,\u001b[49m\u001b[43m \u001b[49m\u001b[38;5;28;43mself\u001b[39;49m\u001b[43m.\u001b[49m\u001b[43mverbose\u001b[49m\u001b[43m,\u001b[49m\u001b[43m \u001b[49m\u001b[43mis_workspace\u001b[49m\u001b[43m=\u001b[49m\u001b[38;5;28;43;01mTrue\u001b[39;49;00m\u001b[43m)\u001b[49m\n\u001b[32m    460\u001b[39m \u001b[38;5;28;01mif\u001b[39;00m \u001b[38;5;129;01mnot\u001b[39;00m creds_file:\n",
      "\u001b[36mFile \u001b[39m\u001b[32m~/Desktop/Laboratory/syft-client/test_notebooks/../syft_client/platforms/google_org/wizard.py:250\u001b[39m, in \u001b[36mcheck_or_create_credentials\u001b[39m\u001b[34m(email, verbose, is_workspace)\u001b[39m\n\u001b[32m    248\u001b[39m     \u001b[38;5;28mprint\u001b[39m(\u001b[33m\"\u001b[39m\u001b[33mNo OAuth2 credentials found. Starting setup wizard...\u001b[39m\u001b[33m\"\u001b[39m)\n\u001b[32m--> \u001b[39m\u001b[32m250\u001b[39m \u001b[38;5;28;01mreturn\u001b[39;00m \u001b[43mcreate_oauth2_wizard\u001b[49m\u001b[43m(\u001b[49m\u001b[43memail\u001b[49m\u001b[43m,\u001b[49m\u001b[43m \u001b[49m\u001b[43mverbose\u001b[49m\u001b[43m,\u001b[49m\u001b[43m \u001b[49m\u001b[43mis_workspace\u001b[49m\u001b[43m)\u001b[49m\n",
      "\u001b[36mFile \u001b[39m\u001b[32m~/Desktop/Laboratory/syft-client/test_notebooks/../syft_client/platforms/google_org/wizard.py:96\u001b[39m, in \u001b[36mcreate_oauth2_wizard\u001b[39m\u001b[34m(email, verbose, is_workspace)\u001b[39m\n\u001b[32m     95\u001b[39m \u001b[38;5;28mprint\u001b[39m(\u001b[33mf\u001b[39m\u001b[33m\"\u001b[39m\u001b[38;5;130;01m\\n\u001b[39;00m\u001b[33m  • \u001b[39m\u001b[38;5;132;01m{\u001b[39;00mapi_name\u001b[38;5;132;01m}\u001b[39;00m\u001b[33m\"\u001b[39m)\n\u001b[32m---> \u001b[39m\u001b[32m96\u001b[39m \u001b[38;5;28;01mif\u001b[39;00m env == \u001b[43mEnvironment\u001b[49m\u001b[43m.\u001b[49m\u001b[43mTERMINAL\u001b[49m:\n\u001b[32m     97\u001b[39m     \u001b[38;5;28mprint\u001b[39m(\u001b[33mf\u001b[39m\u001b[33m\"\u001b[39m\u001b[33m    Open: \u001b[39m\u001b[38;5;132;01m{\u001b[39;00murl\u001b[38;5;132;01m}\u001b[39;00m\u001b[33m\"\u001b[39m)\n",
      "\u001b[31mAttributeError\u001b[39m: type object 'Environment' has no attribute 'TERMINAL'",
      "\nDuring handling of the above exception, another exception occurred:\n",
      "\u001b[31mRuntimeError\u001b[39m                              Traceback (most recent call last)",
      "\u001b[36mCell\u001b[39m\u001b[36m \u001b[39m\u001b[32mIn[3]\u001b[39m\u001b[32m, line 1\u001b[39m\n\u001b[32m----> \u001b[39m\u001b[32m1\u001b[39m client2 = \u001b[43msc\u001b[49m\u001b[43m.\u001b[49m\u001b[43mlogin\u001b[49m\u001b[43m(\u001b[49m\u001b[33;43m\"\u001b[39;49m\u001b[33;43mandrew@openmined.org\u001b[39;49m\u001b[33;43m\"\u001b[39;49m\u001b[43m)\u001b[49m\n",
      "\u001b[36mFile \u001b[39m\u001b[32m~/Desktop/Laboratory/syft-client/test_notebooks/../syft_client/syft_client.py:281\u001b[39m, in \u001b[36mSyftClient.login\u001b[39m\u001b[34m(email, provider, quickstart, verbose, **kwargs)\u001b[39m\n\u001b[32m    279\u001b[39m \u001b[38;5;66;03m# Create SyftClient and login\u001b[39;00m\n\u001b[32m    280\u001b[39m client = SyftClient(email)\n\u001b[32m--> \u001b[39m\u001b[32m281\u001b[39m \u001b[43mclient\u001b[49m\u001b[43m.\u001b[49m\u001b[43m_login\u001b[49m\u001b[43m(\u001b[49m\u001b[43mprovider\u001b[49m\u001b[43m=\u001b[49m\u001b[43mprovider\u001b[49m\u001b[43m,\u001b[49m\u001b[43m \u001b[49m\u001b[43mverbose\u001b[49m\u001b[43m=\u001b[49m\u001b[43mverbose\u001b[49m\u001b[43m)\u001b[49m\n\u001b[32m    282\u001b[39m \u001b[38;5;28;01mreturn\u001b[39;00m client\n",
      "\u001b[36mFile \u001b[39m\u001b[32m~/Desktop/Laboratory/syft-client/test_notebooks/../syft_client/syft_client.py:228\u001b[39m, in \u001b[36mSyftClient._login\u001b[39m\u001b[34m(self, provider, verbose)\u001b[39m\n\u001b[32m    225\u001b[39m     \u001b[38;5;28mprint\u001b[39m(\u001b[33mf\u001b[39m\u001b[33m\"\u001b[39m\u001b[38;5;130;01m\\n\u001b[39;00m\u001b[33mAuthenticating with \u001b[39m\u001b[38;5;132;01m{\u001b[39;00mplatform.value\u001b[38;5;132;01m}\u001b[39;00m\u001b[33m...\u001b[39m\u001b[33m\"\u001b[39m)\n\u001b[32m    227\u001b[39m \u001b[38;5;66;03m# Step 5: Attempt authentication (looks for 1-step auth)\u001b[39;00m\n\u001b[32m--> \u001b[39m\u001b[32m228\u001b[39m auth_result = \u001b[43mclient\u001b[49m\u001b[43m.\u001b[49m\u001b[43mauthenticate\u001b[49m\u001b[43m(\u001b[49m\u001b[43m)\u001b[49m\n\u001b[32m    230\u001b[39m \u001b[38;5;28;01mif\u001b[39;00m verbose:\n\u001b[32m    231\u001b[39m     \u001b[38;5;28mprint\u001b[39m(\u001b[33mf\u001b[39m\u001b[33m\"\u001b[39m\u001b[33mAuthentication successful!\u001b[39m\u001b[33m\"\u001b[39m)\n",
      "\u001b[36mFile \u001b[39m\u001b[32m~/Desktop/Laboratory/syft-client/test_notebooks/../syft_client/platforms/google_org/client.py:144\u001b[39m, in \u001b[36mGoogleOrgClient.authenticate\u001b[39m\u001b[34m(self)\u001b[39m\n\u001b[32m    135\u001b[39m     \u001b[38;5;28;01mreturn\u001b[39;00m {\n\u001b[32m    136\u001b[39m         \u001b[33m'\u001b[39m\u001b[33memail\u001b[39m\u001b[33m'\u001b[39m: \u001b[38;5;28mself\u001b[39m.email,\n\u001b[32m    137\u001b[39m         \u001b[33m'\u001b[39m\u001b[33mauth_method\u001b[39m\u001b[33m'\u001b[39m: \u001b[33m'\u001b[39m\u001b[33moauth2\u001b[39m\u001b[33m'\u001b[39m,\n\u001b[32m   (...)\u001b[39m\u001b[32m    140\u001b[39m         \u001b[33m'\u001b[39m\u001b[33mfailed_transports\u001b[39m\u001b[33m'\u001b[39m: failed_transports\n\u001b[32m    141\u001b[39m     }\n\u001b[32m    143\u001b[39m \u001b[38;5;28;01mexcept\u001b[39;00m \u001b[38;5;167;01mException\u001b[39;00m \u001b[38;5;28;01mas\u001b[39;00m e:\n\u001b[32m--> \u001b[39m\u001b[32m144\u001b[39m     \u001b[38;5;28;01mraise\u001b[39;00m \u001b[38;5;167;01mRuntimeError\u001b[39;00m(\u001b[33mf\u001b[39m\u001b[33m\"\u001b[39m\u001b[33mAuthentication failed: \u001b[39m\u001b[38;5;132;01m{\u001b[39;00me\u001b[38;5;132;01m}\u001b[39;00m\u001b[33m\"\u001b[39m)\n",
      "\u001b[31mRuntimeError\u001b[39m: Authentication failed: type object 'Environment' has no attribute 'TERMINAL'"
     ]
    }
   ],
   "source": [
    "client2 = sc.login(\"andrew@openmined.org\")"
   ]
  },
  {
   "cell_type": "code",
   "execution_count": 12,
   "id": "87941d00-3575-4dfa-b2fd-c47f0de18231",
   "metadata": {},
   "outputs": [
    {
     "data": {
      "text/plain": [
       "PosixPath('/Users/atrask/SyftBox_liamtrask@gmail.com')"
      ]
     },
     "execution_count": 12,
     "metadata": {},
     "output_type": "execute_result"
    }
   ],
   "source": [
    "client.folder"
   ]
  },
  {
   "cell_type": "code",
   "execution_count": null,
   "id": "42fa090c-1b1e-4e03-aa1b-448285eba465",
   "metadata": {},
   "outputs": [],
   "source": []
  }
 ],
 "metadata": {
  "kernelspec": {
   "display_name": "Python 3 (ipykernel)",
   "language": "python",
   "name": "python3"
  },
  "language_info": {
   "codemirror_mode": {
    "name": "ipython",
    "version": 3
   },
   "file_extension": ".py",
   "mimetype": "text/x-python",
   "name": "python",
   "nbconvert_exporter": "python",
   "pygments_lexer": "ipython3",
   "version": "3.12.9"
  }
 },
 "nbformat": 4,
 "nbformat_minor": 5
}
