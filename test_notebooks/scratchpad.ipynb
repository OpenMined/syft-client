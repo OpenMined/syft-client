{
 "cells": [
  {
   "cell_type": "code",
   "execution_count": 1,
   "id": "9b86ea6f-a5b6-429f-b809-f2f06aa0cb8c",
   "metadata": {},
   "outputs": [],
   "source": [
    "import sys\n",
    "sys.path.insert(0, '..')\n",
    "import syft_client as sc"
   ]
  },
  {
   "cell_type": "code",
   "execution_count": 2,
   "id": "2f1cc835-290f-4cca-a4d1-002036efe4fb",
   "metadata": {},
   "outputs": [],
   "source": [
    "client = sc.login(\"liamtrask@gmail.com\")"
   ]
  },
  {
   "cell_type": "code",
   "execution_count": null,
   "id": "ff3bf331-3074-46cc-a05f-b3f744850079",
   "metadata": {},
   "outputs": [
    {
     "name": "stdout",
     "output_type": "stream",
     "text": [
      "\n",
      "🔧 Google Workspace OAuth2 Setup Wizard\n",
      "============================================================\n",
      "Setting up OAuth2 for: andrew@openmined.org\n",
      "\n",
      "This wizard will help you create OAuth2 credentials for Google Workspace.\n",
      "You'll need:\n",
      "  • A Google Workspace account with admin privileges\n",
      "  • Or permission from your Workspace admin\n",
      "  • A Google Cloud Platform project\n",
      "\n",
      "⚠️  Google Workspace accounts may require:\n",
      "  • Admin consent for certain scopes\n",
      "  • Domain-wide delegation for service accounts\n",
      "  • Workspace-specific API enablement\n",
      "\n",
      "📝 Let's create your OAuth2 app step by step:\n",
      "============================================================\n",
      "\n",
      "🌐 Step 1: Go to Google Cloud Console\n",
      "Open: https://console.cloud.google.com\n",
      "\n",
      "IMPORTANT: Sign in with your Workspace account: andrew@openmined.org\n",
      "\n",
      "📂 Step 2: Create or Select a Project\n",
      "If you don't have a project:\n",
      "  1. Click 'Select a project' dropdown (top bar)\n",
      "  2. Click 'New Project'\n",
      "  3. Enter a name (e.g., 'Syft Workspace Integration')\n",
      "  4. Note your Project ID (e.g., 'syft-workspace-123456')\n"
     ]
    }
   ],
   "source": [
    "client2 = sc.login(\"andrew@openmined.org\")"
   ]
  },
  {
   "cell_type": "code",
   "execution_count": 12,
   "id": "87941d00-3575-4dfa-b2fd-c47f0de18231",
   "metadata": {},
   "outputs": [
    {
     "data": {
      "text/plain": [
       "PosixPath('/Users/atrask/SyftBox_liamtrask@gmail.com')"
      ]
     },
     "execution_count": 12,
     "metadata": {},
     "output_type": "execute_result"
    }
   ],
   "source": [
    "client.folder"
   ]
  },
  {
   "cell_type": "code",
   "execution_count": null,
   "id": "42fa090c-1b1e-4e03-aa1b-448285eba465",
   "metadata": {},
   "outputs": [],
   "source": []
  }
 ],
 "metadata": {
  "kernelspec": {
   "display_name": "Python 3 (ipykernel)",
   "language": "python",
   "name": "python3"
  },
  "language_info": {
   "codemirror_mode": {
    "name": "ipython",
    "version": 3
   },
   "file_extension": ".py",
   "mimetype": "text/x-python",
   "name": "python",
   "nbconvert_exporter": "python",
   "pygments_lexer": "ipython3",
   "version": "3.12.9"
  }
 },
 "nbformat": 4,
 "nbformat_minor": 5
}
