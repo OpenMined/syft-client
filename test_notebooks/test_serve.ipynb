{
 "cells": [
  {
   "cell_type": "code",
   "execution_count": null,
   "id": "0",
   "metadata": {},
   "outputs": [],
   "source": [
    "import syft_client as sc\n",
    "import syft_serve as ss\n",
    "from loguru import logger"
   ]
  },
  {
   "cell_type": "code",
   "execution_count": null,
   "id": "1",
   "metadata": {},
   "outputs": [],
   "source": [
    "client = sc.login(\"rasswanth@openmined.org\")"
   ]
  },
  {
   "cell_type": "code",
   "execution_count": null,
   "id": "2",
   "metadata": {},
   "outputs": [],
   "source": [
    "ss.servers"
   ]
  },
  {
   "cell_type": "code",
   "execution_count": null,
   "id": "3",
   "metadata": {},
   "outputs": [],
   "source": [
    "\n",
    "def create_job_runner_functions(syftbox_folder: str, poll_interval: int = 1):\n",
    "    \"\"\"Factory that returns syft-serve compatible functions\"\"\"\n",
    "\n",
    "    def start_runner():\n",
    "        \"\"\"Function compatible with syft-serve\"\"\"\n",
    "        import threading\n",
    "        import tempfile\n",
    "        import os\n",
    "        from pathlib import Path\n",
    "\n",
    "        # Use a file-based lock\n",
    "        lock_file = Path(tempfile.gettempdir()) / f\"job_runner_{abs(hash(syftbox_folder))}.lock\"\n",
    "\n",
    "        # Try to create lock file atomically\n",
    "        try:\n",
    "            fd = os.open(lock_file, os.O_CREAT | os.O_EXCL | os.O_WRONLY)\n",
    "            os.write(fd, str(os.getpid()).encode())\n",
    "            os.close(fd)\n",
    "        except OSError:\n",
    "            # Lock file exists, check if process is still running\n",
    "            try:\n",
    "                with open(lock_file, 'r') as f:\n",
    "                    pid = int(f.read().strip())\n",
    "                    os.kill(pid, 0)  # Check if process exists\n",
    "                return {\"status\": \"already_running\"}\n",
    "            except (ValueError, ProcessLookupError, FileNotFoundError):\n",
    "                # Stale lock file, remove it\n",
    "                lock_file.unlink(missing_ok=True)\n",
    "                try:\n",
    "                  fd = os.open(lock_file, os.O_CREAT | os.O_EXCL | os.O_WRONLY)\n",
    "                  os.write(fd, str(os.getpid()).encode())\n",
    "                  os.close(fd)\n",
    "                except OSError:\n",
    "                    return {\"status\": \"error\", \"message\": \"Failed to acquire lock\"}\n",
    "                \n",
    "        def _main_job_runner():\n",
    "            print(\"Hello from job runner!\")\n",
    "\n",
    "        # Start the job\n",
    "        thread = threading.Thread(target=_main_job_runner, daemon=True)\n",
    "        thread.start()\n",
    "\n",
    "        return {\n",
    "            \"syftbox_folder\": syftbox_folder,\n",
    "            \"poll_interval\": poll_interval\n",
    "        }\n",
    "\n",
    "    return start_runner\n",
    "\n",
    "# Create the functions\n",
    "start_fn = create_job_runner_functions(\"/path/to/syftbox\", poll_interval=1)\n"
   ]
  },
  {
   "cell_type": "code",
   "execution_count": null,
   "id": "4",
   "metadata": {},
   "outputs": [],
   "source": [
    "# Cell 2: Create syft-serve server\n",
    "server = ss.create(\n",
    "    name=\"job_runner_test\",\n",
    "    endpoints={\n",
    "        \"/start\": start_fn,\n",
    "    },\n",
    "    dependencies=[],\n",
    ")\n"
   ]
  },
  {
   "cell_type": "code",
   "execution_count": null,
   "id": "5",
   "metadata": {},
   "outputs": [],
   "source": [
    "server"
   ]
  },
  {
   "cell_type": "code",
   "execution_count": null,
   "id": "6",
   "metadata": {},
   "outputs": [],
   "source": [
    "ss.servers"
   ]
  },
  {
   "cell_type": "code",
   "execution_count": null,
   "id": "7",
   "metadata": {},
   "outputs": [],
   "source": [
    "import requests\n",
    "res = requests.get(f\"{server.url}/start\")\n",
    "\n",
    "res.raise_for_status()"
   ]
  },
  {
   "cell_type": "code",
   "execution_count": null,
   "id": "8",
   "metadata": {},
   "outputs": [],
   "source": [
    "res.content"
   ]
  },
  {
   "cell_type": "code",
   "execution_count": null,
   "id": "9",
   "metadata": {},
   "outputs": [],
   "source": [
    "ss.servers[0]"
   ]
  },
  {
   "cell_type": "code",
   "execution_count": null,
   "id": "10",
   "metadata": {},
   "outputs": [],
   "source": [
    "ss.terminate_all()"
   ]
  },
  {
   "cell_type": "code",
   "execution_count": null,
   "id": "11",
   "metadata": {},
   "outputs": [],
   "source": [
    "def hello():\n",
    "    return \"Hello, World!\""
   ]
  },
  {
   "cell_type": "code",
   "execution_count": null,
   "id": "12",
   "metadata": {},
   "outputs": [],
   "source": [
    "server = ss.create(\"hello_server\", endpoints={\"/\": hello}, dependencies=[])"
   ]
  },
  {
   "cell_type": "code",
   "execution_count": null,
   "id": "13",
   "metadata": {},
   "outputs": [],
   "source": [
    "server"
   ]
  },
  {
   "cell_type": "code",
   "execution_count": null,
   "id": "14",
   "metadata": {},
   "outputs": [],
   "source": []
  }
 ],
 "metadata": {
  "kernelspec": {
   "display_name": "syft-client",
   "language": "python",
   "name": "python3"
  },
  "language_info": {
   "codemirror_mode": {
    "name": "ipython",
    "version": 3
   },
   "file_extension": ".py",
   "mimetype": "text/x-python",
   "name": "python",
   "nbconvert_exporter": "python",
   "pygments_lexer": "ipython3",
   "version": "3.12.8"
  }
 },
 "nbformat": 4,
 "nbformat_minor": 5
}
