{
 "cells": [
  {
   "cell_type": "markdown",
   "metadata": {},
   "source": [
    "# Syft-Client Interactive Tutorial\n",
    "\n",
    "Welcome to the syft-client tutorial! This notebook demonstrates all the core features of syft-client for secure, decentralized file sharing using Google Drive.\n",
    "\n",
    "## What You'll Learn\n",
    "\n",
    "1. **Authentication** - How to login and manage credentials\n",
    "2. **SyftBox Setup** - Creating your secure communication hub\n",
    "3. **Friend Management** - Adding friends and managing connections\n",
    "4. **Secure Messaging** - Using SyftMessage for file transfer\n",
    "5. **Two-User Workflow** - Complete bidirectional setup\n",
    "6. **Best Practices** - Tips for production use\n",
    "\n",
    "Let's get started!"
   ]
  },
  {
   "cell_type": "markdown",
   "metadata": {},
   "source": "# Clean installation - ensures you get the latest version\n# This will uninstall any existing version and install the latest\n\nimport subprocess\nimport sys\n\n# Uninstall existing version if present\nsubprocess.run([sys.executable, \"-m\", \"pip\", \"uninstall\", \"-y\", \"syft-client\"], \n               capture_output=True, text=True)\n\n# Install latest version from PyPI\nsubprocess.run([sys.executable, \"-m\", \"pip\", \"install\", \"syft-client\"], \n               capture_output=True, text=True)\n\n# Alternative installation options (uncomment as needed):\n# \n# For specific version:\n# !pip install syft-client==0.1.5\n#\n# For development from GitHub:\n# !pip install git+https://github.com/OpenMined/syft-client.git\n#\n# For local development:\n# !pip install -e /path/to/syft-client\n\n# Import the library\nimport syft_client as sc\nfrom pathlib import Path\nimport tempfile\nimport json\n\nprint(f\"✅ Syft-Client version: {sc.__version__}\")\nprint(f\"📦 Installation location: {sc.__file__}\")"
  },
  {
   "cell_type": "code",
   "execution_count": null,
   "metadata": {},
   "outputs": [],
   "source": [
    "# Uncomment for Google Colab or fresh environment\n",
    "# !pip install syft-client\n",
    "\n",
    "# Import the library\n",
    "import syft_client as sc\n",
    "from pathlib import Path\n",
    "import tempfile\n",
    "import json\n",
    "\n",
    "print(f\"Syft-Client version: {sc.__version__}\")"
   ]
  },
  {
   "cell_type": "markdown",
   "metadata": {},
   "source": [
    "## 2. Authentication\n",
    "\n",
    "### First-Time Setup\n",
    "\n",
    "If this is your first time, you'll need Google Drive API credentials. The `login()` function will guide you through the process."
   ]
  },
  {
   "cell_type": "code",
   "execution_count": null,
   "metadata": {},
   "outputs": [],
   "source": [
    "# Replace with your email\n",
    "YOUR_EMAIL = \"your_email@gmail.com\"\n",
    "\n",
    "# First login - will open browser for authentication\n",
    "client = sc.login(YOUR_EMAIL)\n",
    "\n",
    "# Check authentication status\n",
    "print(f\"\\nAuthenticated: {client.authenticated}\")\n",
    "print(f\"Logged in as: {client.my_email}\")"
   ]
  },
  {
   "cell_type": "markdown",
   "metadata": {},
   "source": [
    "### Managing Multiple Accounts\n",
    "\n",
    "Syft-client can manage multiple Google accounts. Let's see how:"
   ]
  },
  {
   "cell_type": "code",
   "execution_count": null,
   "metadata": {},
   "outputs": [],
   "source": [
    "# List all accounts with saved credentials\n",
    "accounts = sc.list_accounts()\n",
    "print(\"Saved accounts:\")\n",
    "for account in accounts:\n",
    "    print(f\"  - {account}\")\n",
    "\n",
    "# You can login to any saved account without re-authenticating\n",
    "if accounts:\n",
    "    # Login to first saved account\n",
    "    client = sc.login(accounts[0], verbose=False)\n",
    "    print(f\"\\nSwitched to: {client.my_email}\")"
   ]
  },
  {
   "cell_type": "markdown",
   "metadata": {},
   "source": [
    "## 3. SyftBox Setup\n",
    "\n",
    "A SyftBox is your secure communication hub in Google Drive. Let's create one:"
   ]
  },
  {
   "cell_type": "code",
   "execution_count": null,
   "metadata": {},
   "outputs": [],
   "source": [
    "# Create or reset your SyftBox\n",
    "# Warning: This will delete any existing SyftBox!\n",
    "folder_id = client.reset_syftbox()\n",
    "\n",
    "print(f\"\\nSyftBox created with ID: {folder_id}\")\n",
    "print(\"\\nYour SyftBox is now ready for secure communication!\")"
   ]
  },
  {
   "cell_type": "markdown",
   "metadata": {},
   "source": [
    "### Understanding the Client Object\n",
    "\n",
    "The client object provides a nice summary of your setup:"
   ]
  },
  {
   "cell_type": "code",
   "execution_count": null,
   "metadata": {},
   "outputs": [],
   "source": [
    "# Display client information\n",
    "client"
   ]
  },
  {
   "cell_type": "markdown",
   "metadata": {},
   "source": [
    "## 4. Friend Management\n",
    "\n",
    "To communicate securely, you need to set up friend connections. Let's explore how this works:"
   ]
  },
  {
   "cell_type": "code",
   "execution_count": null,
   "metadata": {},
   "outputs": [],
   "source": [
    "# Check current friends\n",
    "print(\"Current friends:\")\n",
    "if client.friends:\n",
    "    for friend in client.friends:\n",
    "        print(f\"  - {friend}\")\n",
    "else:\n",
    "    print(\"  No friends yet\")\n",
    "\n",
    "# Check friend requests (people who added you)\n",
    "print(\"\\nFriend requests:\")\n",
    "if client.friend_requests:\n",
    "    for request in client.friend_requests:\n",
    "        print(f\"  - {request}\")\n",
    "else:\n",
    "    print(\"  No pending requests\")"
   ]
  },
  {
   "cell_type": "markdown",
   "metadata": {},
   "source": [
    "### Adding a Friend\n",
    "\n",
    "To add a friend, you need their email address. They'll need to add you back to complete the bidirectional channel."
   ]
  },
  {
   "cell_type": "code",
   "execution_count": null,
   "metadata": {},
   "outputs": [],
   "source": [
    "# Example: Add a friend (replace with actual email)\n",
    "FRIEND_EMAIL = \"friend@example.com\"  # Change this!\n",
    "\n",
    "# Uncomment to actually add a friend\n",
    "# success = client.add_friend(FRIEND_EMAIL)\n",
    "# if success:\n",
    "#     print(f\"Successfully added {FRIEND_EMAIL} as a friend!\")\n",
    "#     print(\"They'll need to add you back to complete the connection.\")\n",
    "# else:\n",
    "#     print(f\"Failed to add {FRIEND_EMAIL}\")\n",
    "\n",
    "print(\"To add a friend, uncomment the code above and use a real email.\")"
   ]
  },
  {
   "cell_type": "markdown",
   "metadata": {},
   "source": [
    "## 5. Working with SyftMessage\n",
    "\n",
    "SyftMessage provides secure, atomic file transfer with permissions. Let's create a message:"
   ]
  },
  {
   "cell_type": "code",
   "execution_count": null,
   "metadata": {},
   "outputs": [],
   "source": [
    "# Create a temporary directory for our demo\n",
    "with tempfile.TemporaryDirectory() as tmpdir:\n",
    "    tmpdir = Path(tmpdir)\n",
    "    \n",
    "    # Create an outbox for messages\n",
    "    outbox = tmpdir / \"outbox\"\n",
    "    outbox.mkdir()\n",
    "    \n",
    "    # Create a new message\n",
    "    message = sc.SyftMessage.create(\n",
    "        sender_email=client.my_email or \"alice@example.com\",\n",
    "        recipient_email=\"bob@example.com\",\n",
    "        message_root=outbox,\n",
    "        message_type=\"demo\"\n",
    "    )\n",
    "    \n",
    "    print(f\"Created message: {message.message_id}\")\n",
    "    print(f\"From: {message.sender_email}\")\n",
    "    print(f\"To: {message.recipient_email}\")\n",
    "    print(f\"Timestamp: {message.timestamp}\")"
   ]
  },
  {
   "cell_type": "markdown",
   "metadata": {},
   "source": [
    "### Adding Files to a Message\n",
    "\n",
    "Messages can contain multiple files with individual permissions:"
   ]
  },
  {
   "cell_type": "code",
   "execution_count": null,
   "metadata": {},
   "outputs": [],
   "source": [
    "with tempfile.TemporaryDirectory() as tmpdir:\n",
    "    tmpdir = Path(tmpdir)\n",
    "    \n",
    "    # Create some test data\n",
    "    test_file = tmpdir / \"data.csv\"\n",
    "    test_file.write_text(\"id,name,value\\n1,Alice,100\\n2,Bob,200\\n3,Charlie,300\")\n",
    "    \n",
    "    config_file = tmpdir / \"config.json\"\n",
    "    config_file.write_text(json.dumps({\"version\": \"1.0\", \"debug\": False}, indent=2))\n",
    "    \n",
    "    # Create message\n",
    "    outbox = tmpdir / \"outbox\"\n",
    "    outbox.mkdir()\n",
    "    \n",
    "    message = sc.SyftMessage.create(\n",
    "        sender_email=\"alice@example.com\",\n",
    "        recipient_email=\"bob@example.com\",\n",
    "        message_root=outbox\n",
    "    )\n",
    "    \n",
    "    # Add files with permissions\n",
    "    file1 = message.add_file(\n",
    "        source_path=test_file,\n",
    "        syftbox_path=\"/alice@example.com/shared/data.csv\",\n",
    "        permissions={\n",
    "            \"read\": [\"bob@example.com\", \"charlie@example.com\"],\n",
    "            \"write\": [\"alice@example.com\"],\n",
    "            \"admin\": [\"alice@example.com\"]\n",
    "        }\n",
    "    )\n",
    "    \n",
    "    file2 = message.add_file(\n",
    "        source_path=config_file,\n",
    "        syftbox_path=\"/alice@example.com/config/settings.json\",\n",
    "        permissions={\n",
    "            \"read\": [\"bob@example.com\"],\n",
    "            \"write\": [],\n",
    "            \"admin\": [\"alice@example.com\"]\n",
    "        }\n",
    "    )\n",
    "    \n",
    "    # Add a README\n",
    "    message.add_readme(\"\"\"\n",
    "    <html>\n",
    "    <body>\n",
    "        <h1>Data Package</h1>\n",
    "        <p>This package contains:</p>\n",
    "        <ul>\n",
    "            <li>data.csv - Sample dataset</li>\n",
    "            <li>settings.json - Configuration file</li>\n",
    "        </ul>\n",
    "    </body>\n",
    "    </html>\n",
    "    \"\"\")\n",
    "    \n",
    "    # List files in the message\n",
    "    print(\"Files in message:\")\n",
    "    for f in message.get_files():\n",
    "        print(f\"\\n  {f['filename']}:\")\n",
    "        print(f\"    Size: {f['file_size']} bytes\")\n",
    "        print(f\"    Path: {f['syftbox_path']}\")\n",
    "        print(f\"    Can read: {f['permissions']['read']}\")\n",
    "    \n",
    "    # Finalize the message\n",
    "    message.finalize()\n",
    "    print(f\"\\nMessage finalized: {message.is_ready}\")\n",
    "    \n",
    "    # Validate the message\n",
    "    is_valid, error = message.validate()\n",
    "    print(f\"Message valid: {is_valid}\")"
   ]
  },
  {
   "cell_type": "markdown",
   "metadata": {},
   "source": [
    "## 6. Two-User Workflow Simulation\n",
    "\n",
    "Let's simulate how two users would set up bidirectional communication. In reality, these would be on different machines."
   ]
  },
  {
   "cell_type": "code",
   "execution_count": null,
   "metadata": {},
   "outputs": [],
   "source": [
    "# This is a simulation - in practice, each user runs their part separately\n",
    "print(\"=== TWO-USER WORKFLOW SIMULATION ===\")\n",
    "print(\"\\nIn a real scenario, Alice and Bob would each run their parts on their own machines.\\n\")\n",
    "\n",
    "print(\"ALICE's Steps:\")\n",
    "print(\"1. Alice logs in: client = sc.login('alice@gmail.com')\")\n",
    "print(\"2. Alice creates SyftBox: client.reset_syftbox()\")\n",
    "print(\"3. Alice adds Bob: client.add_friend('bob@gmail.com')\")\n",
    "print(\"4. Alice's friends list: ['bob@gmail.com']\")\n",
    "\n",
    "print(\"\\nBOB's Steps:\")\n",
    "print(\"1. Bob logs in: client = sc.login('bob@gmail.com')\")\n",
    "print(\"2. Bob creates SyftBox: client.reset_syftbox()\")\n",
    "print(\"3. Bob checks requests: client.friend_requests -> ['alice@gmail.com']\")\n",
    "print(\"4. Bob adds Alice back: client.add_friend('alice@gmail.com')\")\n",
    "print(\"5. Bob's friends list: ['alice@gmail.com']\")\n",
    "\n",
    "print(\"\\n✅ Bidirectional channel established!\")\n",
    "print(\"Both users can now securely share files through their SyftBoxes.\")"
   ]
  },
  {
   "cell_type": "markdown",
   "metadata": {},
   "source": [
    "## 7. Google Drive Operations\n",
    "\n",
    "The client also provides direct Google Drive operations:"
   ]
  },
  {
   "cell_type": "code",
   "execution_count": null,
   "metadata": {},
   "outputs": [],
   "source": [
    "# List files in root directory\n",
    "print(\"Files in Google Drive root:\")\n",
    "files = client.list_files()\n",
    "\n",
    "# Show first 5 files\n",
    "for file in files[:5]:\n",
    "    file_type = \"📁\" if file['mimeType'] == 'application/vnd.google-apps.folder' else \"📄\"\n",
    "    print(f\"{file_type} {file['name']}\")\n",
    "\n",
    "if len(files) > 5:\n",
    "    print(f\"... and {len(files) - 5} more files\")"
   ]
  },
  {
   "cell_type": "markdown",
   "metadata": {},
   "source": [
    "### Creating and Managing Folders"
   ]
  },
  {
   "cell_type": "code",
   "execution_count": null,
   "metadata": {},
   "outputs": [],
   "source": [
    "# Create a test folder\n",
    "test_folder = client.create_folder(\"SyftClient_Test_Folder\")\n",
    "print(f\"Created folder: {test_folder['name']}\")\n",
    "print(f\"Folder ID: {test_folder['id']}\")\n",
    "\n",
    "# Create a subfolder\n",
    "subfolder = client.create_folder(\"Subfolder\", parent_id=test_folder['id'])\n",
    "print(f\"\\nCreated subfolder: {subfolder['name']} in {test_folder['name']}\")\n",
    "\n",
    "# Clean up - delete the test folder\n",
    "# Uncomment to actually delete\n",
    "# client.delete_file(test_folder['id'])\n",
    "# print(\"\\nTest folder deleted\")"
   ]
  },
  {
   "cell_type": "markdown",
   "metadata": {},
   "source": [
    "## 8. Security Features\n",
    "\n",
    "SyftFileBackedView provides security features to protect against malicious input:"
   ]
  },
  {
   "cell_type": "code",
   "execution_count": null,
   "metadata": {},
   "outputs": [],
   "source": [
    "# Demonstrate path traversal protection\n",
    "with tempfile.TemporaryDirectory() as tmpdir:\n",
    "    view = sc.SyftFileBackedView(Path(tmpdir) / \"secure_object\")\n",
    "    \n",
    "    # These dangerous names will be rejected\n",
    "    dangerous_names = [\n",
    "        \"../../../etc/passwd\",\n",
    "        \"./../../sensitive.txt\",\n",
    "        \".hidden_file.txt\"  # Hidden files not allowed\n",
    "    ]\n",
    "    \n",
    "    print(\"Testing path security:\")\n",
    "    for name in dangerous_names:\n",
    "        try:\n",
    "            view.write_data_file(name, b\"test\")\n",
    "            print(f\"  ❌ SECURITY ISSUE: {name} was allowed!\")\n",
    "        except ValueError as e:\n",
    "            print(f\"  ✅ Blocked: {name}\")\n",
    "    \n",
    "    # These safe names are allowed\n",
    "    safe_names = [\"data.txt\", \"report.pdf\", \"results.csv\"]\n",
    "    \n",
    "    print(\"\\nTesting safe filenames:\")\n",
    "    for name in safe_names:\n",
    "        try:\n",
    "            view.write_data_file(name, b\"safe content\")\n",
    "            print(f\"  ✅ Allowed: {name}\")\n",
    "        except ValueError as e:\n",
    "            print(f\"  ❌ Wrongly blocked: {name}\")"
   ]
  },
  {
   "cell_type": "markdown",
   "metadata": {},
   "source": [
    "## 9. Best Practices\n",
    "\n",
    "Here are some important tips for using syft-client effectively:"
   ]
  },
  {
   "cell_type": "code",
   "execution_count": null,
   "metadata": {},
   "outputs": [],
   "source": [
    "# Best Practice 1: Always check authentication\n",
    "def safe_operation():\n",
    "    client = sc.login(\"user@gmail.com\", verbose=False)\n",
    "    if not client.authenticated:\n",
    "        print(\"❌ Authentication failed\")\n",
    "        return False\n",
    "    \n",
    "    print(\"✅ Authenticated successfully\")\n",
    "    # Proceed with operations\n",
    "    return True\n",
    "\n",
    "# Best Practice 2: Handle errors gracefully\n",
    "def robust_friend_add(client, friend_email):\n",
    "    try:\n",
    "        success = client.add_friend(friend_email)\n",
    "        if success:\n",
    "            print(f\"✅ Added {friend_email}\")\n",
    "        else:\n",
    "            print(f\"⚠️  Could not add {friend_email}\")\n",
    "        return success\n",
    "    except Exception as e:\n",
    "        print(f\"❌ Error adding friend: {e}\")\n",
    "        return False\n",
    "\n",
    "# Best Practice 3: Clean up test data\n",
    "def cleanup_test():\n",
    "    \"\"\"Clean up after testing\"\"\"\n",
    "    client = sc.login(\"test@gmail.com\", verbose=False)\n",
    "    if client.authenticated:\n",
    "        # Reset removes all SyftBox data\n",
    "        client.reset_syftbox()\n",
    "        print(\"✅ Test data cleaned up\")\n",
    "\n",
    "print(\"Best practices demonstrated above\")"
   ]
  },
  {
   "cell_type": "markdown",
   "metadata": {},
   "source": [
    "## 10. Troubleshooting\n",
    "\n",
    "Common issues and their solutions:"
   ]
  },
  {
   "cell_type": "code",
   "execution_count": null,
   "metadata": {},
   "outputs": [],
   "source": [
    "print(\"🔧 TROUBLESHOOTING GUIDE\\n\")\n",
    "\n",
    "print(\"Issue: 'credentials.json not found'\")\n",
    "print(\"Solution: Run sc.wizard() to create credentials\\n\")\n",
    "\n",
    "print(\"Issue: 'Token expired'\")\n",
    "print(\"Solution: Use force_relogin=True\")\n",
    "print(\"Example: client = sc.login(email, force_relogin=True)\\n\")\n",
    "\n",
    "print(\"Issue: 'Friend not showing up'\")\n",
    "print(\"Solution: Both users must add each other\")\n",
    "print(\"Check: client.friend_requests for pending requests\\n\")\n",
    "\n",
    "print(\"Issue: 'SyftBox already exists'\")\n",
    "print(\"Solution: Use client.reset_syftbox() to start fresh\\n\")\n",
    "\n",
    "print(\"Issue: 'Authentication keeps failing'\")\n",
    "print(\"Solution: Clear credentials and re-authenticate\")\n",
    "print(\"Example: sc.logout(email) then sc.login(email)\")"
   ]
  },
  {
   "cell_type": "markdown",
   "metadata": {},
   "source": [
    "## 11. Summary\n",
    "\n",
    "Congratulations! You've learned how to:\n",
    "\n",
    "✅ **Authenticate** with Google Drive  \n",
    "✅ **Create a SyftBox** for secure communication  \n",
    "✅ **Manage friends** and connection requests  \n",
    "✅ **Create secure messages** with file attachments  \n",
    "✅ **Handle permissions** for shared files  \n",
    "✅ **Use security features** to protect data  \n",
    "✅ **Follow best practices** for production use  \n",
    "\n",
    "### Next Steps\n",
    "\n",
    "1. **Try it with a friend**: Set up a real bidirectional channel\n",
    "2. **Explore the API**: Check [API_REFERENCE.md](API_REFERENCE.md) for detailed documentation\n",
    "3. **Build something**: Use syft-client in your own projects\n",
    "4. **Contribute**: Report issues or contribute at [GitHub](https://github.com/OpenMined/syft-client)\n",
    "\n",
    "Happy secure file sharing! 🚀"
   ]
  },
  {
   "cell_type": "markdown",
   "metadata": {},
   "source": [
    "## Appendix: Quick Reference\n",
    "\n",
    "Here's a quick reference of the most common operations:"
   ]
  },
  {
   "cell_type": "code",
   "execution_count": null,
   "metadata": {},
   "outputs": [],
   "source": [
    "# Quick Reference Card\n",
    "reference = \"\"\"\n",
    "AUTHENTICATION\n",
    "--------------\n",
    "sc.login(email)                    # Login\n",
    "sc.login(email, force_relogin=True) # Force fresh auth\n",
    "sc.list_accounts()                 # List saved accounts\n",
    "sc.logout(email)                   # Remove credentials\n",
    "\n",
    "CLIENT OPERATIONS\n",
    "-----------------\n",
    "client.authenticated               # Check auth status\n",
    "client.my_email                   # Get current email\n",
    "client.reset_syftbox()            # Create/reset SyftBox\n",
    "\n",
    "FRIEND MANAGEMENT\n",
    "-----------------\n",
    "client.add_friend(email)          # Add a friend\n",
    "client.friends                    # List friends\n",
    "client.friend_requests           # Check requests\n",
    "\n",
    "GOOGLE DRIVE\n",
    "------------\n",
    "client.list_files()              # List files\n",
    "client.create_folder(name)       # Create folder\n",
    "client.upload_file(path)         # Upload file\n",
    "client.download_file(id, path)   # Download file\n",
    "client.delete_file(id)           # Delete file/folder\n",
    "client.share_file(id, email)     # Share with someone\n",
    "\n",
    "MESSAGES\n",
    "--------\n",
    "SyftMessage.create(sender, recipient, root)\n",
    "message.add_file(path, syftbox_path, permissions)\n",
    "message.finalize()\n",
    "message.validate()\n",
    "\"\"\"\n",
    "\n",
    "print(reference)"
   ]
  }
 ],
 "metadata": {
  "kernelspec": {
   "display_name": "Python 3",
   "language": "python",
   "name": "python3"
  },
  "language_info": {
   "codemirror_mode": {
    "name": "ipython",
    "version": 3
   },
   "file_extension": ".py",
   "mimetype": "text/x-python",
   "name": "python",
   "nbconvert_exporter": "python",
   "pygments_lexer": "ipython3",
   "version": "3.8.0"
  }
 },
 "nbformat": 4,
 "nbformat_minor": 4
}