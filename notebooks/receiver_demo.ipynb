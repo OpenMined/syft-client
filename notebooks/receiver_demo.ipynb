{
 "cells": [
  {
   "cell_type": "markdown",
   "metadata": {},
   "source": [
    "# Inbox Receiver Demo\n",
    "\n",
    "This notebook demonstrates how to use the syft-client receiver for automatic inbox monitoring and message processing."
   ]
  },
  {
   "cell_type": "markdown",
   "metadata": {},
   "source": [
    "## Setup\n",
    "\n",
    "First, let's import and login to syft-client:"
   ]
  },
  {
   "cell_type": "code",
   "execution_count": null,
   "metadata": {},
   "outputs": [],
   "source": [
    "import syft_client as sc\n",
    "\n",
    "# Login with your email\n",
    "client = sc.login(\"your_email@gmail.com\")"
   ]
  },
  {
   "cell_type": "markdown",
   "metadata": {},
   "source": [
    "## Starting the Receiver\n",
    "\n",
    "The receiver monitors your peer inboxes and automatically processes incoming messages:"
   ]
  },
  {
   "cell_type": "code",
   "execution_count": null,
   "metadata": {},
   "outputs": [],
   "source": [
    "# Start the receiver with default settings\n",
    "client.start_receiver()"
   ]
  },
  {
   "cell_type": "code",
   "execution_count": null,
   "metadata": {},
   "outputs": [],
   "source": [
    "# Or start with custom settings\n",
    "client.start_receiver(\n",
    "    check_interval=60,        # Check every 60 seconds\n",
    "    process_immediately=True, # Process any existing messages right away\n",
    "    auto_accept=True         # Automatically accept peer requests\n",
    ")"
   ]
  },
  {
   "cell_type": "markdown",
   "metadata": {},
   "source": [
    "## Check Receiver Status"
   ]
  },
  {
   "cell_type": "code",
   "execution_count": null,
   "metadata": {},
   "outputs": [],
   "source": [
    "# Check if receiver is running\n",
    "client.receiver.is_running()"
   ]
  },
  {
   "cell_type": "code",
   "execution_count": null,
   "metadata": {},
   "outputs": [],
   "source": [
    "# Get detailed status\n",
    "client.receiver.status()"
   ]
  },
  {
   "cell_type": "markdown",
   "metadata": {},
   "source": [
    "## How It Works\n",
    "\n",
    "1. **Inbox Monitoring**: Checks all peer inboxes every 30 seconds (configurable)\n",
    "2. **Smart Detection**: Only processes when new messages are detected\n",
    "3. **Automatic Processing**: Downloads, extracts, and places files in correct locations\n",
    "4. **Peer Requests**: Automatically accepts new peer requests (if enabled)\n",
    "5. **Persistent Process**: Runs as a separate process that survives Python restarts"
   ]
  },
  {
   "cell_type": "markdown",
   "metadata": {},
   "source": [
    "## Working with Both Watcher and Receiver\n",
    "\n",
    "For complete bidirectional sync, run both the watcher and receiver:"
   ]
  },
  {
   "cell_type": "code",
   "execution_count": null,
   "metadata": {},
   "outputs": [],
   "source": [
    "# Start both for full sync\n",
    "client.start_watcher()   # Monitors local changes → sends to peers\n",
    "client.start_receiver()  # Monitors inbox → receives from peers\n",
    "\n",
    "print(\"✓ Full bidirectional sync enabled!\")"
   ]
  },
  {
   "cell_type": "markdown",
   "metadata": {},
   "source": [
    "## View All Active Services"
   ]
  },
  {
   "cell_type": "code",
   "execution_count": null,
   "metadata": {},
   "outputs": [],
   "source": [
    "# List all active watchers\n",
    "print(\"Active Watchers:\")\n",
    "for w in client.watcher.list_all():\n",
    "    print(f\"  - {w['email']}\")\n",
    "\n",
    "# List all active receivers\n",
    "print(\"\\nActive Receivers:\")\n",
    "for r in client.receiver.list_all():\n",
    "    print(f\"  - {r['email']}\")"
   ]
  },
  {
   "cell_type": "markdown",
   "metadata": {},
   "source": [
    "## Stopping the Receiver"
   ]
  },
  {
   "cell_type": "code",
   "execution_count": null,
   "metadata": {},
   "outputs": [],
   "source": [
    "# Stop the receiver\n",
    "client.receiver.stop()"
   ]
  },
  {
   "cell_type": "markdown",
   "metadata": {},
   "source": [
    "## Advanced Configuration\n",
    "\n",
    "### Environment Variables\n",
    "\n",
    "You can configure the receiver with environment variables:\n",
    "\n",
    "- `SYFT_RECEIVER_INTERVAL`: Default check interval (seconds)\n",
    "- `SYFT_RECEIVER_AUTO_ACCEPT`: Auto-accept peer requests (true/false)"
   ]
  },
  {
   "cell_type": "code",
   "execution_count": null,
   "metadata": {},
   "outputs": [],
   "source": [
    "import os\n",
    "\n",
    "# Set custom defaults\n",
    "os.environ['SYFT_RECEIVER_INTERVAL'] = '60'  # Check every minute\n",
    "os.environ['SYFT_RECEIVER_AUTO_ACCEPT'] = 'true'\n",
    "\n",
    "# Start receiver with environment settings\n",
    "client.start_receiver()"
   ]
  },
  {
   "cell_type": "markdown",
   "metadata": {},
   "source": [
    "## Monitoring Messages\n",
    "\n",
    "The receiver automatically:\n",
    "- Downloads message archives from peer inboxes\n",
    "- Extracts files to appropriate locations\n",
    "- Archives processed messages\n",
    "- Tracks which messages have been processed\n",
    "\n",
    "Processed messages are placed in:\n",
    "- `~/SyftBox/datasites/{peer_email}/` - Files from specific peers\n",
    "- `~/SyftBox/.syft_archive/` - Archived original messages"
   ]
  }
 ],
 "metadata": {
  "kernelspec": {
   "display_name": "Python 3",
   "language": "python",
   "name": "python3"
  },
  "language_info": {
   "codemirror_mode": {
    "name": "ipython",
    "version": 3
   },
   "file_extension": ".py",
   "mimetype": "text/x-python",
   "name": "python",
   "nbconvert_exporter": "python",
   "pygments_lexer": "ipython3",
   "version": "3.9.0"
  }
 },
 "nbformat": 4,
 "nbformat_minor": 4
}
