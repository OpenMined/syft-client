{
 "cells": [
  {
   "cell_type": "code",
   "execution_count": 1,
   "id": "534c0950-0122-40e4-861b-2b4193de17a3",
   "metadata": {},
   "outputs": [],
   "source": [
    "# from watchdog.observers import Observer\n",
    "# from watchdog.events import FileSystemEventHandler\n",
    "# import time\n",
    "\n",
    "# # Define what happens when files change\n",
    "# class Handler(FileSystemEventHandler):\n",
    "#   def on_any_event(self, event):\n",
    "#       print(f\"{event.event_type}: {event.src_path}\")\n",
    "\n",
    "# # Watch the current directory\n",
    "# observer = Observer()\n",
    "# observer.schedule(Handler(), \".\", recursive=True)\n",
    "# observer.start()"
   ]
  },
  {
   "cell_type": "code",
   "execution_count": 29,
   "id": "96f2de9d-1e2a-43a1-adab-1e7e75194d96",
   "metadata": {},
   "outputs": [
    {
     "name": "stdout",
     "output_type": "stream",
     "text": [
      "/Users/atrask/Desktop/Laboratory/syft-client\n"
     ]
    }
   ],
   "source": [
    "!pwd"
   ]
  },
  {
   "cell_type": "code",
   "execution_count": 76,
   "id": "bed80d37-ba8e-4b00-a40e-23f942a3a996",
   "metadata": {},
   "outputs": [
    {
     "data": {
      "text/plain": [
       "'\"Hi!\"'"
      ]
     },
     "execution_count": 76,
     "metadata": {},
     "output_type": "execute_result"
    }
   ],
   "source": [
    "import syft_serve as ss\n",
    "import requests\n",
    "\n",
    "ss.servers.terminate_all()\n",
    "\n",
    "def hello():\n",
    "\n",
    "    from watchdog.observers import Observer\n",
    "    from watchdog.events import FileSystemEventHandler\n",
    "    import time\n",
    "    \n",
    "    # Define what happens when files change\n",
    "    class Handler(FileSystemEventHandler):\n",
    "      def on_any_event(self, event):\n",
    "          print(f\"{event.event_type}: {event.src_path}\", flush=True)\n",
    "    \n",
    "    # Watch the current directory\n",
    "    observer = Observer()\n",
    "    observer.schedule(Handler(), \"/Users/atrask/Desktop/Laboratory/syft-client\", recursive=True)\n",
    "    observer.start()\n",
    "    \n",
    "    return \"Hi!\"\n",
    "\n",
    "server = ss.create(\"my_api\", \n",
    "                   dependencies=[\"watchdog\"],\n",
    "                   endpoints={\"/\": hello})\n",
    "\n",
    "requests.get(server.url).text"
   ]
  },
  {
   "cell_type": "code",
   "execution_count": 77,
   "id": "e06ddd54-a68c-4e21-a23b-47bc049edf14",
   "metadata": {},
   "outputs": [
    {
     "data": {
      "text/html": [
       "\n",
       "        <div style=\"background: #ffffff; border: 1px solid #ddd; border-radius: 5px; padding: 15px; font-family: -apple-system, BlinkMacSystemFont, 'Segoe UI', Roboto, sans-serif;\">\n",
       "            <h3 style=\"margin: 0 0 10px 0; color: #333;\">🚀 my_api</h3>\n",
       "            <table style=\"width: 100%; border-collapse: collapse;\">\n",
       "                <tr>\n",
       "                    <td style=\"padding: 5px 10px 5px 0; color: #666; vertical-align: top;\">Status:</td>\n",
       "                    <td style=\"padding: 5px 0; color: #27ae60; font-weight: bold;\">✅ Running</td>\n",
       "                </tr>\n",
       "                <tr>\n",
       "                    <td style=\"padding: 5px 10px 5px 0; color: #666; vertical-align: top;\">URL:</td>\n",
       "                    <td style=\"padding: 5px 0;\"><a href=\"http://localhost:8001\" target=\"_blank\" style=\"color: #3498db; text-decoration: none;\">http://localhost:8001</a></td>\n",
       "                </tr>\n",
       "                <tr>\n",
       "                    <td style=\"padding: 5px 10px 5px 0; color: #666; vertical-align: top;\">Endpoints:</td>\n",
       "                    <td style=\"padding: 5px 0; color: #333;\"><ul style='margin: 0; padding-left: 20px;'><li><code>/</code></li></ul></td>\n",
       "                </tr>\n",
       "                <tr>\n",
       "                    <td style=\"padding: 5px 10px 5px 0; color: #666; vertical-align: top;\">Uptime:</td>\n",
       "                    <td style=\"padding: 5px 0; color: #333;\">3s</td>\n",
       "                </tr>\n",
       "                <tr>\n",
       "                    <td style=\"padding: 5px 10px 5px 0; color: #666; vertical-align: top;\">Expires In:</td>\n",
       "                    <td style=\"padding: 5px 0; font-weight: bold; color: #f59e0b;\">⏰ 23h 59m</td>\n",
       "                </tr>\n",
       "                <tr>\n",
       "                    <td style=\"padding: 5px 10px 5px 0; color: #666; vertical-align: top;\">PID:</td>\n",
       "                    <td style=\"padding: 5px 0;\"><code style=\"background: #f8f9fa; padding: 2px 4px; border-radius: 3px; color: #333;\">46338</code></td>\n",
       "                </tr>\n",
       "            </table>\n",
       "            \n",
       "            <div style=\"margin-top: 10px; display: grid; grid-template-columns: 1fr 1fr; gap: 10px;\">\n",
       "                <div style=\"padding: 8px; background: #f8f9fa; border-radius: 3px; border: 1px solid #ddd;\">\n",
       "                    <div style=\"color: #666; font-size: 11px; margin-bottom: 5px;\">Recent logs:</div>\n",
       "                    <div style=\"font-size: 11px; color: #333;\"><span style='color: #374151; font-family: monospace;'>INFO:     127.0.0.1:50934 - \"GET /health HTTP/1.1\" 200 OK</span><br><span style='color: #374151; font-family: monospace;'>INFO:     127.0.0.1:50936 - \"GET /health HTTP/1.1\" 200 OK</span><br><span style='color: #374151; font-family: monospace;'>INFO:     127.0.0.1:50938 - \"GET /health HTTP/1.1\" 200 OK</span></div>\n",
       "                </div>\n",
       "                <div style=\"padding: 8px; background: #fef2f2; border-radius: 3px; border: 1px solid #ddd;\">\n",
       "                    <div style=\"color: #666; font-size: 11px; margin-bottom: 5px;\">Recent errors:</div>\n",
       "                    <div style=\"font-size: 11px;\"><span style='color: #d73a49; font-family: monospace;'>INFO:     Waiting for application startup.</span><br><span style='color: #d73a49; font-family: monospace;'>INFO:     Application startup complete.</span><br><span style='color: #d73a49; font-family: monospace;'>INFO:     Uvicorn running on http://127.0.0.1:8001 (Press CTRL+C to quit)</span></div>\n",
       "                </div>\n",
       "            </div>\n",
       "            \n",
       "            <div style=\"margin-top: 10px; padding-top: 10px; border-top: 1px solid #ddd; font-size: 12px; color: #666;\">\n",
       "                Try: <code style=\"background: #f8f9fa; padding: 2px 4px; border-radius: 3px;\">server.stdout.tail(20)</code>, <code style=\"background: #f8f9fa; padding: 2px 4px; border-radius: 3px;\">server.stderr.tail(20)</code>, <code style=\"background: #f8f9fa; padding: 2px 4px; border-radius: 3px;\">server.env</code>, <code style=\"background: #f8f9fa; padding: 2px 4px; border-radius: 3px;\">server.terminate()</code>\n",
       "            </div>\n",
       "        </div>\n",
       "        "
      ],
      "text/plain": [
       "Server: my_api\n",
       "├── Status: ✅ Running\n",
       "├── URL: http://localhost:8001\n",
       "├── Endpoints: /\n",
       "├── Uptime: 3s\n",
       "├── Expires: ⏰ 23h 59m\n",
       "└── PID: 46338"
      ]
     },
     "execution_count": 77,
     "metadata": {},
     "output_type": "execute_result"
    }
   ],
   "source": [
    "my_api = ss.servers['my_api']\n",
    "my_api"
   ]
  },
  {
   "cell_type": "code",
   "execution_count": 88,
   "id": "3724d1d3-0efe-4db5-867b-c3d97d01fff3",
   "metadata": {},
   "outputs": [],
   "source": [
    "import sys"
   ]
  },
  {
   "cell_type": "code",
   "execution_count": 87,
   "id": "7636f86f-db63-4e37-8de3-a43d7ed9efc8",
   "metadata": {},
   "outputs": [
    {
     "data": {
      "text/plain": [
       "'INFO:     127.0.0.1:51113 - \"GET /api/hash HTTP/1.1\" 200 OK'"
      ]
     },
     "execution_count": 87,
     "metadata": {},
     "output_type": "execute_result"
    }
   ],
   "source": []
  },
  {
   "cell_type": "code",
   "execution_count": 79,
   "id": "78fb9181-905e-4f32-b78e-b1090ff685ab",
   "metadata": {},
   "outputs": [],
   "source": [
    "!touch hi2.txt"
   ]
  },
  {
   "cell_type": "code",
   "execution_count": null,
   "id": "41feaa83-62f6-4918-b3f8-7160f7534af7",
   "metadata": {},
   "outputs": [],
   "source": []
  },
  {
   "cell_type": "code",
   "execution_count": null,
   "id": "6bc0e799-7b34-4c1e-bc53-504e02e1190a",
   "metadata": {},
   "outputs": [],
   "source": []
  }
 ],
 "metadata": {
  "kernelspec": {
   "display_name": "Python 3 (ipykernel)",
   "language": "python",
   "name": "python3"
  },
  "language_info": {
   "codemirror_mode": {
    "name": "ipython",
    "version": 3
   },
   "file_extension": ".py",
   "mimetype": "text/x-python",
   "name": "python",
   "nbconvert_exporter": "python",
   "pygments_lexer": "ipython3",
   "version": "3.12.9"
  }
 },
 "nbformat": 4,
 "nbformat_minor": 5
}
