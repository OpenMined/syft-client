{
 "cells": [
  {
   "cell_type": "code",
   "execution_count": 1,
   "id": "f4c64421-6cd3-4067-8831-b814bafce40b",
   "metadata": {},
   "outputs": [],
   "source": [
    "# API DESGIN CONSTRAINTS:\n",
    "# - simple / familiar: it's either something they already know or it's something fast to explain\n",
    "# - generic: it's as general as sending code for someone else to run... not usecase specific\n",
    "# - modular: it doesn't create one beheamouth piece of code which everyone has to version update at the same time\n",
    "\n",
    "import syft_client as sc\n",
    "import syft_job as sj"
   ]
  },
  {
   "cell_type": "code",
   "execution_count": 2,
   "id": "d8e65836-22ea-4c95-ba89-68daea3d2dec",
   "metadata": {},
   "outputs": [
    {
     "name": "stdin",
     "output_type": "stream",
     "text": [
      "Enter user email:   rasswanth@openmined.org\n"
     ]
    },
    {
     "name": "stdout",
     "output_type": "stream",
     "text": [
      "[3/3] ✅ Logged in as rasswanth@openmined.org (2 new inboxes added!)                                                  \n"
     ]
    }
   ],
   "source": [
    "email = input(\"Enter user email:  \")\n",
    "client = sc.login(email, verbose=False)\n",
    "\n",
    "# this logs them in via gdrive API (already working!)\n",
    "# this opens a wizard if necessary to help wtih gdrive login flow\n",
    "# this checks to see if there's a background task running for file syncing\n",
    "# automatically set up SyftBox directory if it doesn't exist\n",
    "# automatically launches backround syncing processes if they don't exist"
   ]
  },
  {
   "cell_type": "code",
   "execution_count": null,
   "id": "4b4540f4-ccd4-4aea-87fa-0d818406e0ad",
   "metadata": {},
   "outputs": [],
   "source": [
    "# client.reset_syftbox()"
   ]
  },
  {
   "cell_type": "code",
   "execution_count": 3,
   "id": "ed150399-213c-4ea2-a886-ffcaec09d713",
   "metadata": {},
   "outputs": [
    {
     "data": {
      "text/plain": [
       "[]"
      ]
     },
     "execution_count": 3,
     "metadata": {},
     "output_type": "execute_result"
    }
   ],
   "source": [
    "client.friends"
   ]
  },
  {
   "cell_type": "code",
   "execution_count": 6,
   "id": "04cad630-f350-4563-b363-c2905dd76b5e",
   "metadata": {},
   "outputs": [
    {
     "name": "stdout",
     "output_type": "stream",
     "text": [
      "✅ Added andrew@openmined.org as a friend\n"
     ]
    },
    {
     "data": {
      "text/plain": [
       "True"
      ]
     },
     "execution_count": 6,
     "metadata": {},
     "output_type": "execute_result"
    }
   ],
   "source": [
    "client.add_friend(\"andrew@openmined.org\")"
   ]
  },
  {
   "cell_type": "code",
   "execution_count": 7,
   "id": "f3bd66cf-3ce4-4340-b3c3-9b8dd2e5c30a",
   "metadata": {},
   "outputs": [
    {
     "data": {
      "text/plain": [
       "['andrew@openmined.org']"
      ]
     },
     "execution_count": 7,
     "metadata": {},
     "output_type": "execute_result"
    }
   ],
   "source": [
    "client.friends"
   ]
  },
  {
   "cell_type": "code",
   "execution_count": null,
   "id": "09d8a904-20ed-482f-97fd-0762098bd4e7",
   "metadata": {},
   "outputs": [],
   "source": [
    "# remote_email = input(\"Enter remote client email:  \")\n",
    "# remote_client = client.friends[remote_client]"
   ]
  }
 ],
 "metadata": {
  "kernelspec": {
   "display_name": "Python 3 (ipykernel)",
   "language": "python",
   "name": "python3"
  },
  "language_info": {
   "codemirror_mode": {
    "name": "ipython",
    "version": 3
   },
   "file_extension": ".py",
   "mimetype": "text/x-python",
   "name": "python",
   "nbconvert_exporter": "python",
   "pygments_lexer": "ipython3",
   "version": "3.12.8"
  }
 },
 "nbformat": 4,
 "nbformat_minor": 5
}
