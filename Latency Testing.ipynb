{
 "cells": [
  {
   "cell_type": "code",
   "execution_count": 1,
   "id": "5baa0d01-c6fa-4984-822e-4e6df9d03836",
   "metadata": {},
   "outputs": [],
   "source": [
    "import syft_serve as ss\n",
    "import syft_client as sc"
   ]
  },
  {
   "cell_type": "code",
   "execution_count": 2,
   "id": "8737269c-2b32-4ddd-8d92-0734f96ae391",
   "metadata": {},
   "outputs": [],
   "source": [
    "# ss.servers.terminate_all()"
   ]
  },
  {
   "cell_type": "code",
   "execution_count": 3,
   "id": "3f50e3ed-0d68-4c92-90dd-7876a677dcec",
   "metadata": {},
   "outputs": [
    {
     "name": "stdout",
     "output_type": "stream",
     "text": [
      "[2/2] ✅ Logged in as andrew@openmined.org                                                  \n",
      "[2/2] ✅ Logged in as liamtrask@gmail.com                                                  \n"
     ]
    }
   ],
   "source": [
    "andrew_client = sc.login(\"andrew@openmined.org\", verbose=False)\n",
    "liam_client = sc.login(\"liamtrask@gmail.com\", verbose=False)\n",
    "# andrew_client.reset_syftbox()\n",
    "# liam_client.reset_syftbox()\n",
    "# andrew_client.add_friend(\"liamtrask@gmail.com\")\n",
    "# liam_client.add_friend(\"andrew@openmined.org\")"
   ]
  },
  {
   "cell_type": "code",
   "execution_count": 15,
   "id": "da3dd5f7-7b41-48ee-b52d-e400faf182ff",
   "metadata": {},
   "outputs": [
    {
     "data": {
      "text/plain": [
       "{'tracked_total': 4,\n",
       " 'tracked_terminated': 4,\n",
       " 'tracked_failed': [],\n",
       " 'orphaned_discovered': 0,\n",
       " 'orphaned_terminated': 0,\n",
       " 'orphaned_failed': [],\n",
       " 'success': True}"
      ]
     },
     "execution_count": 15,
     "metadata": {},
     "output_type": "execute_result"
    }
   ],
   "source": [
    "ss.servers.terminate_all()"
   ]
  },
  {
   "cell_type": "code",
   "execution_count": 16,
   "id": "9ea04189-7c3a-48c9-8960-497b29f9159f",
   "metadata": {},
   "outputs": [
    {
     "name": "stdout",
     "output_type": "stream",
     "text": [
      "Receiver server created at: http://localhost:8001\n",
      "Receiver server created at: http://localhost:8003\n"
     ]
    },
    {
     "data": {
      "text/plain": [
       "{'status': 'started',\n",
       " 'message': 'Receiver launched successfully for liamtrask@gmail.com (interval: 1s)',\n",
       " 'url': 'http://localhost:8003'}"
      ]
     },
     "execution_count": 16,
     "metadata": {},
     "output_type": "execute_result"
    }
   ],
   "source": [
    "andrew_client.launch_watcher_sender()\n",
    "andrew_client.launch_receiver(interval_seconds=1)\n",
    "liam_client.launch_watcher_sender()\n",
    "liam_client.launch_receiver(interval_seconds=1)"
   ]
  },
  {
   "cell_type": "code",
   "execution_count": 19,
   "id": "9875255e-a72f-4552-960d-a6b6b9ce08a6",
   "metadata": {},
   "outputs": [
    {
     "name": "stdout",
     "output_type": "stream",
     "text": [
      "📊 Testing latency: andrew@openmined.org → liamtrask@gmail.com\n",
      "   Running 5 tests...\n",
      "\n",
      "   Test 1/5: ✅ 1.35s\n",
      "   Test 2/5: ✅ 0.31s\n",
      "   Test 3/5: ✅ 0.52s\n",
      "   Test 4/5: ✅ 0.31s\n",
      "   Test 5/5: ✅ 1.55s\n",
      "\n",
      "📈 Results:\n",
      "   Average latency: 0.81s\n",
      "   Min latency: 0.31s\n",
      "   Max latency: 1.55s\n",
      "   Successful: 5/5\n"
     ]
    },
    {
     "data": {
      "text/plain": [
       "{'average': 0.8090389728546142,\n",
       " 'min': 0.3107929229736328,\n",
       " 'max': 1.554875135421753,\n",
       " 'successful': 5,\n",
       " 'total': 5,\n",
       " 'all_latencies': [1.3479928970336914,\n",
       "  0.3109109401702881,\n",
       "  0.520622968673706,\n",
       "  0.3107929229736328,\n",
       "  1.554875135421753]}"
      ]
     },
     "execution_count": 19,
     "metadata": {},
     "output_type": "execute_result"
    }
   ],
   "source": [
    "andrew_client.test_latency(liam_client)"
   ]
  },
  {
   "cell_type": "code",
   "execution_count": 4,
   "id": "74b4fc21-5654-448b-b153-b55c97f304cc",
   "metadata": {},
   "outputs": [],
   "source": [
    "# andrew_client.test_rate_limit(\"https://docs.google.com/spreadsheets/d/1KTnBq47qyBiIH0zQt8ie3g12PNsipiqk_3veipT8q6o/edit\")"
   ]
  },
  {
   "cell_type": "code",
   "execution_count": 5,
   "id": "6409684d-962c-42ce-9a57-30971ed04061",
   "metadata": {},
   "outputs": [
    {
     "data": {
      "text/html": [
       "\n",
       "        <div style=\"border: 1px solid #ddd; padding: 15px; margin: 10px 0; border-radius: 5px; background-color: #f9f9f9; font-family: -apple-system, BlinkMacSystemFont, 'Segoe UI', Roboto, sans-serif;\">\n",
       "            <h3 style=\"margin-top: 0; color: #333;\">📁 Google Drive Client</h3>\n",
       "            <table style=\"border-collapse: collapse; width: 100%;\">\n",
       "                <tr>\n",
       "                    <td style=\"padding: 5px 10px 5px 0; font-weight: bold; color: #555;\">Email:</td>\n",
       "                    <td style=\"padding: 5px;\">liamtrask@gmail.com</td>\n",
       "                </tr>\n",
       "                <tr>\n",
       "                    <td style=\"padding: 5px 10px 5px 0; font-weight: bold; color: #555;\">Auth Method:</td>\n",
       "                    <td style=\"padding: 5px;\">wallet</td>\n",
       "                </tr>\n",
       "                <tr>\n",
       "                    <td style=\"padding: 5px 10px 5px 0; font-weight: bold; color: #555;\">SyftBox:</td>\n",
       "                    <td style=\"padding: 5px;\">✅ Created</td>\n",
       "                </tr>\n",
       "        \n",
       "                <tr>\n",
       "                    <td style=\"padding: 5px 10px 5px 0; font-weight: bold; color: #555;\">Drive Folder:</td>\n",
       "                    <td style=\"padding: 5px;\">\n",
       "                        <a href=\"https://drive.google.com/drive/folders/1Zey3JyciaK6IfPM-Dnhm1lSIgy4_MJsF\" target=\"_blank\" style=\"color: #1a73e8; text-decoration: none;\">\n",
       "                            🔗 Open in Google Drive\n",
       "                        </a>\n",
       "                    </td>\n",
       "                </tr>\n",
       "            \n",
       "            </table>\n",
       "        </div>"
      ],
      "text/plain": [
       "<GDriveUnifiedClient(\n",
       "  email='liamtrask@gmail.com',\n",
       "  auth_method='wallet',\n",
       "  syftbox=✓ created\n",
       ")>"
      ]
     },
     "execution_count": 5,
     "metadata": {},
     "output_type": "execute_result"
    }
   ],
   "source": [
    "liam_client"
   ]
  },
  {
   "cell_type": "code",
   "execution_count": 6,
   "id": "19c548e9-c862-4e2b-8667-083c5380b159",
   "metadata": {},
   "outputs": [],
   "source": []
  },
  {
   "cell_type": "code",
   "execution_count": 7,
   "id": "62c5b317-2195-4a2d-a0f3-63e8fd144a09",
   "metadata": {},
   "outputs": [
    {
     "data": {
      "text/html": [
       "<p style='color: #a0a0a0;'>No servers</p>"
      ],
      "text/plain": [
       "No servers"
      ]
     },
     "execution_count": 7,
     "metadata": {},
     "output_type": "execute_result"
    }
   ],
   "source": [
    "ss.servers"
   ]
  },
  {
   "cell_type": "code",
   "execution_count": 8,
   "id": "cac1b741-dacf-4fbb-ba9c-3de1284a3037",
   "metadata": {},
   "outputs": [
    {
     "data": {
      "text/plain": [
       "{'status': 'started',\n",
       " 'message': 'Watcher launched successfully for andrew@openmined.org',\n",
       " 'url': 'http://localhost:8000'}"
      ]
     },
     "execution_count": 8,
     "metadata": {},
     "output_type": "execute_result"
    }
   ],
   "source": []
  },
  {
   "cell_type": "code",
   "execution_count": null,
   "id": "122aaf55-da9c-4767-a7e9-bfffae69a24e",
   "metadata": {},
   "outputs": [],
   "source": []
  },
  {
   "cell_type": "code",
   "execution_count": 24,
   "id": "4bfbc9e8-1413-4dbf-b129-bf7aacfbeea6",
   "metadata": {},
   "outputs": [
    {
     "data": {
      "text/plain": [
       "{'tracked_total': 4,\n",
       " 'tracked_terminated': 4,\n",
       " 'tracked_failed': [],\n",
       " 'orphaned_discovered': 0,\n",
       " 'orphaned_terminated': 0,\n",
       " 'orphaned_failed': [],\n",
       " 'success': True}"
      ]
     },
     "execution_count": 24,
     "metadata": {},
     "output_type": "execute_result"
    }
   ],
   "source": []
  },
  {
   "cell_type": "code",
   "execution_count": null,
   "id": "f40a20ae-db4a-460a-ac25-d97c032d3ae5",
   "metadata": {},
   "outputs": [],
   "source": []
  },
  {
   "cell_type": "code",
   "execution_count": null,
   "id": "227a0678-df01-43de-99d7-bd2fc21b886e",
   "metadata": {},
   "outputs": [],
   "source": [
    "# liam_client.update_inbox()\n",
    "liam_client.update_inbox_from_sheets()\n",
    "liam_client.autoapprove_inbox()\n",
    "liam_client.merge_new_syncs()"
   ]
  },
  {
   "cell_type": "code",
   "execution_count": 22,
   "id": "d4aa5d9e-6302-4b2c-a66e-07d6d3b7daee",
   "metadata": {},
   "outputs": [
    {
     "name": "stdout",
     "output_type": "stream",
     "text": [
      "198 ms ± 0 ns per loop (mean ± std. dev. of 1 run, 1 loop each)\n"
     ]
    }
   ],
   "source": [
    "%%timeit -n1 -r1\n",
    "# # %%memray_flamegraph --trace-python-allocators --leaks\n",
    "\n",
    "andrew_client.send_file_or_folder_to_friends(\"syft://data.txt\")"
   ]
  },
  {
   "cell_type": "code",
   "execution_count": null,
   "id": "6accc739-9fae-4cfe-b3be-98cbc5a65bfa",
   "metadata": {},
   "outputs": [],
   "source": [
    "\n",
    "# liam_client.update_inbox()\n",
    "liam_client.update_inbox_from_sheets()\n",
    "liam_client.autoapprove_inbox()\n",
    "liam_client.merge_new_syncs()"
   ]
  },
  {
   "cell_type": "code",
   "execution_count": null,
   "id": "ca098617-dcd4-48ea-b776-63c243499dea",
   "metadata": {},
   "outputs": [],
   "source": [
    "destroy_watcher_sender_endpoint(\"andrew@openmined.org\")\n",
    "server = create_watcher_sender_endpoint(\"andrew@openmined.org\")"
   ]
  },
  {
   "cell_type": "code",
   "execution_count": null,
   "id": "f8c8220f-9268-40ac-b519-d05aa5417139",
   "metadata": {},
   "outputs": [],
   "source": []
  },
  {
   "cell_type": "code",
   "execution_count": null,
   "id": "a0b5cad5-b4d9-4e93-87e6-914986910906",
   "metadata": {},
   "outputs": [],
   "source": [
    "server.stdout.lines()"
   ]
  },
  {
   "cell_type": "code",
   "execution_count": null,
   "id": "1e351e56-23b0-4238-a7eb-f03af9368a4e",
   "metadata": {},
   "outputs": [],
   "source": [
    "# liam_client.update_inbox()\n",
    "liam_client.update_inbox_from_sheets()\n",
    "liam_client.autoapprove_inbox()\n",
    "liam_client.merge_new_syncs()"
   ]
  },
  {
   "cell_type": "code",
   "execution_count": null,
   "id": "38c74e08-46f4-4511-b25d-4fbb86accd14",
   "metadata": {},
   "outputs": [],
   "source": []
  }
 ],
 "metadata": {
  "kernelspec": {
   "display_name": "Python 3 (ipykernel)",
   "language": "python",
   "name": "python3"
  },
  "language_info": {
   "codemirror_mode": {
    "name": "ipython",
    "version": 3
   },
   "file_extension": ".py",
   "mimetype": "text/x-python",
   "name": "python",
   "nbconvert_exporter": "python",
   "pygments_lexer": "ipython3",
   "version": "3.12.9"
  }
 },
 "nbformat": 4,
 "nbformat_minor": 5
}
