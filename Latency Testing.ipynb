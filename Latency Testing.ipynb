{
 "cells": [
  {
   "cell_type": "code",
   "execution_count": 1,
   "id": "5baa0d01-c6fa-4984-822e-4e6df9d03836",
   "metadata": {},
   "outputs": [],
   "source": [
    "import syft_serve as ss\n",
    "import syft_client as sc"
   ]
  },
  {
   "cell_type": "code",
   "execution_count": 2,
   "id": "8737269c-2b32-4ddd-8d92-0734f96ae391",
   "metadata": {},
   "outputs": [],
   "source": [
    "# ss.servers.terminate_all()"
   ]
  },
  {
   "cell_type": "code",
   "execution_count": 3,
   "id": "3f50e3ed-0d68-4c92-90dd-7876a677dcec",
   "metadata": {},
   "outputs": [
    {
     "name": "stdout",
     "output_type": "stream",
     "text": [
      "[2/2] ✅ Logged in as andrew@openmined.org                                                  \n",
      "[2/2] ✅ Logged in as liamtrask@gmail.com                                                  \n"
     ]
    }
   ],
   "source": [
    "andrew_client = sc.login(\"andrew@openmined.org\", verbose=False)\n",
    "liam_client = sc.login(\"liamtrask@gmail.com\", verbose=False)\n",
    "# andrew_client.reset_syftbox()\n",
    "# liam_client.reset_syftbox()\n",
    "# andrew_client.add_friend(\"liamtrask@gmail.com\")\n",
    "# liam_client.add_friend(\"andrew@openmined.org\")"
   ]
  },
  {
   "cell_type": "code",
   "execution_count": null,
   "id": "cf9a3386-c87d-4743-94e6-5fdccda9bd69",
   "metadata": {},
   "outputs": [],
   "source": []
  },
  {
   "cell_type": "code",
   "execution_count": 4,
   "id": "255a4285-afee-4bb9-be1e-597b157fb037",
   "metadata": {},
   "outputs": [
    {
     "data": {
      "text/plain": [
       "{'error': '❌ Error creating form: <HttpError 403 when requesting https://forms.googleapis.com/v1/forms?alt=json returned \"Google Forms API has not been used in project 686245239599 before or it is disabled. Enable it by visiting https://console.developers.google.com/apis/api/forms.googleapis.com/overview?project=686245239599 then retry. If you enabled this API recently, wait a few minutes for the action to propagate to our systems and retry.\". Details: \"[{\\'@type\\': \\'type.googleapis.com/google.rpc.ErrorInfo\\', \\'reason\\': \\'SERVICE_DISABLED\\', \\'domain\\': \\'googleapis.com\\', \\'metadata\\': {\\'serviceTitle\\': \\'Google Forms API\\', \\'activationUrl\\': \\'https://console.developers.google.com/apis/api/forms.googleapis.com/overview?project=686245239599\\', \\'containerInfo\\': \\'686245239599\\', \\'service\\': \\'forms.googleapis.com\\', \\'consumer\\': \\'projects/686245239599\\'}}, {\\'@type\\': \\'type.googleapis.com/google.rpc.LocalizedMessage\\', \\'locale\\': \\'en-US\\', \\'message\\': \\'Google Forms API has not been used in project 686245239599 before or it is disabled. Enable it by visiting https://console.developers.google.com/apis/api/forms.googleapis.com/overview?project=686245239599 then retry. If you enabled this API recently, wait a few minutes for the action to propagate to our systems and retry.\\'}, {\\'@type\\': \\'type.googleapis.com/google.rpc.Help\\', \\'links\\': [{\\'description\\': \\'Google developers console API activation\\', \\'url\\': \\'https://console.developers.google.com/apis/api/forms.googleapis.com/overview?project=686245239599\\'}]}]\">',\n",
       " 'message': 'Unexpected error: ❌ Error creating form: <HttpError 403 when requesting https://forms.googleapis.com/v1/forms?alt=json returned \"Google Forms API has not been used in project 686245239599 before or it is disabled. Enab...'}"
      ]
     },
     "execution_count": 4,
     "metadata": {},
     "output_type": "execute_result"
    }
   ],
   "source": [
    "liam_client.form_inbox_metadata"
   ]
  },
  {
   "cell_type": "code",
   "execution_count": 5,
   "id": "6803a1a1-ac23-49c7-8980-4a9f2a192320",
   "metadata": {},
   "outputs": [
    {
     "name": "stdout",
     "output_type": "stream",
     "text": [
      "🔍 URL contains prefixed ID, searching for matching forms...\n",
      "   Checking form: Untitled form (ID: 1LTozXzcMDP76lnejeCx1EOFk8g1Ltg-qhAgtIfnkbhM)\n",
      "📋 Using form: Untitled form (ID: 1LTozXzcMDP76lnejeCx1EOFk8g1Ltg-qhAgtIfnkbhM)\n",
      "🔄 Converting form to public access...\n",
      "📝 Form ID: 1LTozXzcMDP76lnejeCx1EOFk8g1Ltg-qhAgtIfnkbhM\n"
     ]
    }
   ],
   "source": [
    "form_url = andrew_client.create_public_google_form_inbox()"
   ]
  },
  {
   "cell_type": "code",
   "execution_count": 6,
   "id": "fa91c85a-68af-4e7a-a4c6-5124cd3e9890",
   "metadata": {},
   "outputs": [
    {
     "data": {
      "text/plain": [
       "{'form_url': 'https://docs.google.com/forms/d/1LTozXzcMDP76lnejeCx1EOFk8g1Ltg-qhAgtIfnkbhM/viewform',\n",
       " 'form_id': '1FAIpQLSfq7OwlspvdCI_NwFVngdMpVke_GcVYd06svrN7hDc3oPTHPQ',\n",
       " 'spreadsheet_url': 'https://docs.google.com/spreadsheets/d/1Qfek9ImjR9VIPaa-PWU6hxCnqFwMAQhaHwYaJGuQQRM/edit?ouid=117176484630596301481',\n",
       " 'spreadsheet_id': '1Qfek9ImjR9VIPaa-PWU6hxCnqFwMAQhaHwYaJGuQQRM',\n",
       " 'form_edit_url': 'https://docs.google.com/forms/d/1FAIpQLSfq7OwlspvdCI_NwFVngdMpVke_GcVYd06svrN7hDc3oPTHPQ/edit',\n",
       " 'note': 'Spreadsheet created but needs manual linking via Forms UI'}"
      ]
     },
     "execution_count": 6,
     "metadata": {},
     "output_type": "execute_result"
    }
   ],
   "source": [
    "form_url"
   ]
  },
  {
   "cell_type": "code",
   "execution_count": 7,
   "id": "c022a872-ee25-4b14-b41c-8642a0eb3db3",
   "metadata": {},
   "outputs": [
    {
     "name": "stdout",
     "output_type": "stream",
     "text": [
      "📝 Preparing form submission for: https://docs.google.com/forms/d/1LTozXzcMDP76lnejeCx1EOFk8g1Ltg-qhAgtIfnkbhM/viewform\n",
      "📋 Form ID: 1LTozXzcMDP76lnejeCx1EOFk8g1Ltg-qhAgtIfnkbhM\n",
      "📊 Extracted entry map: {'from_email': '43165973', 'to_email': '1123024139', 'message_id': '296833079', 'message_size': '116605986', 'message_data': '44293646', 'file_path': '1868105418'}\n"
     ]
    }
   ],
   "source": [
    "form_metadata = andrew_client.prepare_form_submission(form_url['form_url'])"
   ]
  },
  {
   "cell_type": "code",
   "execution_count": 8,
   "id": "b1a38014-9ce2-4e2e-8663-15461c2cc412",
   "metadata": {},
   "outputs": [],
   "source": [
    "import base64\n",
    "test_data = base64.b64encode(b\"Test message content\").decode('utf-8')"
   ]
  },
  {
   "cell_type": "code",
   "execution_count": 9,
   "id": "c8f8c5f6-25a6-4870-83e7-4ed323822c3c",
   "metadata": {},
   "outputs": [],
   "source": [
    "\n",
    "\n",
    "# # new_form_url = andrew_client.make_form_public(form_url)\n",
    "\n",
    "\n",
    "\n",
    "# import base64\n",
    "# test_data = base64.b64encode(b\"Test message content\").decode('utf-8')\n",
    "# success = andrew_client.submit_to_google_form_inbox(\n",
    "#   form_url=form_url['form_url'],\n",
    "#   from_email=\"test@example.com\",\n",
    "#   to_email=\"andrew@openmined.org\",\n",
    "#   message_id=\"test_msg_123\",\n",
    "#   message_size=\"1024\",\n",
    "#   message_data=test_data,\n",
    "#   file_path=\"datasites/test/message.tar.gz\"\n",
    "# )\n"
   ]
  },
  {
   "cell_type": "code",
   "execution_count": 10,
   "id": "19dc63d4-7c6d-4815-b191-26ad257f69a0",
   "metadata": {},
   "outputs": [
    {
     "name": "stdout",
     "output_type": "stream",
     "text": [
      "1.05 s ± 210 ms per loop (mean ± std. dev. of 7 runs, 1 loop each)\n"
     ]
    }
   ],
   "source": [
    "%%timeit\n",
    "success = andrew_client.submit_to_form_fast(\n",
    "          form_metadata,\n",
    "          from_email=\"test@example.com\",\n",
    "          to_email=\"andrew@openmined.org\",\n",
    "          message_id=\"test_message_123\",\n",
    "          message_size=\"1024\",\n",
    "          message_data=test_data\n",
    "          # file_path=\"datasites/test/message.tar.gz\"\n",
    "      )\n",
    "results = andrew_client.get_results_from_form(form_id_or_url=form_url['form_url'])"
   ]
  },
  {
   "cell_type": "code",
   "execution_count": null,
   "id": "83f06c0d-4d29-4166-bab2-fe72a3ba5c8f",
   "metadata": {},
   "outputs": [],
   "source": []
  },
  {
   "cell_type": "code",
   "execution_count": 11,
   "id": "ccc9f0eb-473d-4ad5-bf51-2d9baf6dae30",
   "metadata": {},
   "outputs": [
    {
     "name": "stdout",
     "output_type": "stream",
     "text": [
      "📋 Extracted form ID from URL: 1LTozXzcMDP76lnejeCx1EOFk8g1Ltg-qhAgtIfnkbhM\n",
      "🧪 Testing Forms API rate limits for 60 seconds...\n",
      "📝 Form ID: 1LTozXzcMDP76lnejeCx1EOFk8g1Ltg-qhAgtIfnkbhM\n",
      "⏱️  Starting at: 15:07:22\n",
      "--------------------------------------------------\n",
      "✅ 11 requests | Rate: 124.7/min | Elapsed: 5.3s | Last response: 0.429s\n",
      "✅ 22 requests | Rate: 123.2/min | Elapsed: 10.7s | Last response: 0.363s\n",
      "✅ 33 requests | Rate: 122.1/min | Elapsed: 16.2s | Last response: 0.400s\n",
      "\n",
      "⏹️  Test interrupted by user\n",
      "\n",
      "==================================================\n",
      "📊 RATE LIMIT TEST RESULTS\n",
      "==================================================\n",
      "⏱️  Duration: 18.6 seconds\n",
      "📈 Total requests: 38\n",
      "✅ Successful: 38\n",
      "❌ Rate limited: 0\n",
      "⚠️  Other errors: 0\n",
      "\n",
      "📊 Performance:\n",
      "   Average rate: 122.4 requests/min\n",
      "   Peak rate: 38 requests/min\n",
      "   Avg response time: 0.389s\n"
     ]
    }
   ],
   "source": [
    "results = andrew_client.test_form_rate_limits(form_url['form_url'])"
   ]
  },
  {
   "cell_type": "code",
   "execution_count": 4,
   "id": "94e4d747-a1af-47ca-87f6-776256d2e1e0",
   "metadata": {},
   "outputs": [
    {
     "name": "stdout",
     "output_type": "stream",
     "text": [
      "🔍 URL contains prefixed ID, searching for matching forms...\n",
      "   Checking form: Untitled form (ID: 1SfHIw3xy1_u1KXEPxFwnwhFhS3rox39AHrRdLNMh_s4)\n",
      "📋 Using form: Untitled form (ID: 1SfHIw3xy1_u1KXEPxFwnwhFhS3rox39AHrRdLNMh_s4)\n",
      "🔄 Converting form to public access...\n",
      "📝 Form ID: 1SfHIw3xy1_u1KXEPxFwnwhFhS3rox39AHrRdLNMh_s4\n",
      "📝 Fetching form structure from: https://docs.google.com/forms/d/1SfHIw3xy1_u1KXEPxFwnwhFhS3rox39AHrRdLNMh_s4/viewform\n",
      "📊 Found entry map: {'from_email': '310729971', 'to_email': '73307359', 'message_id': '819140004', 'message_size': '332046447', 'message_data': '1257938865', 'file_path': '669543645'}\n",
      "📊 All entry fields found: []...\n",
      "📤 Submitting form data with 6 fields\n",
      "   Fields: ['entry.310729971', 'entry.73307359', 'entry.819140004', 'entry.332046447', 'entry.1257938865', 'entry.669543645']\n",
      "📬 Response status: 200\n",
      "   Response headers: {'Content-Type': 'text/html; charset=utf-8', 'X-Robots-Tag': 'noindex, nofollow, nosnippet', 'Cache-Control': 'no-cache, no-store, max-age=0, must-revalidate', 'Pragma': 'no-cache', 'Expires': 'Mon, 01 Jan 1990 00:00:00 GMT', 'Date': 'Thu, 04 Sep 2025 17:49:22 GMT', 'Content-Encoding': 'gzip', 'P3P': 'CP=\"This is not a P3P policy! See g.co/p3phelp for more info.\"', 'Content-Security-Policy': \"require-trusted-types-for 'script';report-uri https://csp.withgoogle.com/csp/docs-tt, base-uri 'self';object-src 'none';report-uri https://csp.withgoogle.com/csp/forms/prod;script-src 'unsafe-inline' https: http: 'unsafe-eval'\", 'Reporting-Endpoints': 'default=\"/forms/d/1SfHIw3xy1_u1KXEPxFwnwhFhS3rox39AHrRdLNMh_s4/web-reports?bl=apps-forms.freebird_20250819.02_p2&context=eJwVyntczXccx_Gf3_l-Py7d6MLpdjqdU9FFusxDOorTqZRbG9rvGD0oHY9FU6oxlrlOHhKNRa6lQtNluTRDbqNhU5MZknkMJbrsCClnVnvvj-c_r8dryHXLbkESCgZJQoWZJPRYSELxUElQWEtC7XBJGD1CEla5S4L3aEnY4SsJKR9IQlaYJOTDvXhJaIXBiZJgD19lSMI2uL9WEp5DUI4kREFjriS8gNg8STBAX74kWO6RhLY3kmCC5d2SsAmqHPXCJZis0AsSJEfrhUxomKsXHsNbz3axDyqudInVYHz8SuyBlimvxU5IXtstZoBsfbdoBl1LesR3wEN6RQtohg54YugV22DNll4xC_puvBPpl3ditrVJ3AmKQybRA4YI_aI1NDv1ix2gX9kvLoB5JQNkiRBTKMok8KoVZQH_6xdlwfDbTJnsHnivk8kCwSlLJnODbS0y2S740BjM9LCzW8P2wYPdE9gTGFwxgQ2D_KAQVgjfuIWyPbBAmsQ-BT9nLQuCzVFalgs5U7QsD1I6tWwFeGeGsUCYXRbG5kFteRirg5xQHcuD71J17DjELNcxCeJW65gBvKp0LADyTujYAXhRrWNdYHINZ6IqnP3tGsH64Kl3BGuH8qQIdgpql0WwOrh1PoLdh-fPIthLiFBFsjRw_SKS-UNETBSLhd7FUUxYEsXMbKKZDZTIo9mEgVNYOMTMKuASZJwu4Jlg-6qAu0Hcm0JuAHevQ3wsXHUs4jfBPKaI28L4h8VcC2eMxfwyJPiX8DQITCrhGghILuHBsLgZHTKPH-YbwVhzhPdA9NdH-UdwofMor4czLqX8MlyfU8pvgdh2jA-BMe3H-Dho8CnjmqllXAfd08v4v6BNLOPRELu7jBsgr7SMH4AHDWW8DYqsy_kJSG4s5xnQ6lXBjTBlYSWfCR5LK7kvVFa08R-g9FYbr4JxjW18Mvwe186bYOv1dv4trJ3YwTfD0rMdfDlc_KmDX4OLezv5NZhlMiM9NDWb01PY0mtOe2GzlQXlwtMSC3oN1Sct6DzcPW1Bj2DQcEuSw8z1lvQJ2NRakiNcPmhFN-D24aE0Y94w-hjW-FlTFuy4YE1FoBlnQzp4Cb2w7KwNrYPmOlvqgMg_bWkG6Ffa0QLYsMmOsmHjneG0FbIfDqed8CphBJlgV_IIOggF20eQnaucnMF2qpycYLpeTnEQv0hOSTC7Uk7zoOaGnK6C_JA9KSGo2J4mgXGLA_WA_KUDKcGz14H8ITzXkaZBnNaJEuBOtBM1QsIZJ1oM1Q3OdB5y7zpTPnh3OZMG_lEpSKZW0MAVCrKCgeUKMj5Q0BsofaigCkg0KigZut8pyARe01zo6VwXSs9xoX0DlVQMs4KUNBcOTFbSYbiXpKSff1RSPejHqGgB6CarKApWfq6idbB1t4r2Q9teFZmgq05FbyGjHg_cgj8gsE9FGnCbqCYf-CtWTS1wd6WammDNKjVthNVfqmk9xB9R0yI4Waqmc5ByR00r4PYxN3oC6b-60Qb4N9Wd-DJ3kqe5kxIKt7tTFWjeu9NU2BzqQfmQJnnQKnDUe5Aa_J950HhIfjSSloFu2CiKgmMHR9H34NE6inzhHPOkK_DGypPeQ-kwT6qCWhtPqoOpdp40C6oeB9MlUDYHkx_cFDS0gWkoG94rNWS_R0OusOS4hlLh5tAJ1AAjB4TQGGipD6FuOLUjlGog9WAojSkMpYlQIZtIJ6DQZxKVwhydluLh1H4t1UBspI7iwM0YTj6gWxhJUWBtPqioqLWWhvaamgoHOJhHpqR9NtOQnpqyNN2gUsWnpqaPXoSU7rsozWBISEpLnB_gFzDWL8h_vK9fwPzUgP8ArCmTIg&build-label=apps-forms.freebird_20250819.02_p2&imp-sid=CJ-rh7vVv48DFR0vbwYdKWAN_g&is-cached-offline=false\"', 'Document-Policy': 'include-js-call-stacks-in-crash-reports', 'Referrer-Policy': 'origin', 'X-Content-Type-Options': 'nosniff', 'X-XSS-Protection': '1; mode=block', 'Server': 'GSE', 'Set-Cookie': 'NID=525=VrxQiEhCOg5KRxWMPr6oW1Njh715bL-Nc-TJVZ-F3N7MaxCe9ZoUogZlEyVOmDlGtFNBNG8owuLDXoolk4lTsXp538CSzRepWaxEMdAjlfrk4QwwBPdPd_paZp9tzJUtdmoyoJTNVlEbm55VHXogkEAoF5iYzMXVvIsiCMDqjFA9bg2_lv3FCkZTjRsiBcNTWU-Jnw; expires=Fri, 06-Mar-2026 17:49:21 GMT; path=/; domain=.google.com; HttpOnly', 'Alt-Svc': 'h3=\":443\"; ma=2592000,h3-29=\":443\"; ma=2592000', 'Transfer-Encoding': 'chunked'}\n",
      "✅ Successfully submitted message to form\n",
      "   Message ID: test_msg_123\n"
     ]
    }
   ],
   "source": []
  },
  {
   "cell_type": "code",
   "execution_count": 5,
   "id": "2f778072-895b-4b64-9675-ad9d255fb4e3",
   "metadata": {},
   "outputs": [
    {
     "data": {
      "text/plain": [
       "'https://docs.google.com/forms/d/1SfHIw3xy1_u1KXEPxFwnwhFhS3rox39AHrRdLNMh_s4/viewform'"
      ]
     },
     "execution_count": 5,
     "metadata": {},
     "output_type": "execute_result"
    }
   ],
   "source": [
    "form_url"
   ]
  },
  {
   "cell_type": "code",
   "execution_count": 5,
   "id": "21ebd715-896e-4ef7-9e46-6810ae9cd0d2",
   "metadata": {},
   "outputs": [
    {
     "name": "stdout",
     "output_type": "stream",
     "text": [
      "🔍 URL contains prefixed ID, searching for matching forms...\n",
      "   Checking form: Untitled form (ID: 1yjwY-4DW2gdOcLeKqE8NSJi-yO3Rt70W1gavHSjAhCs)\n",
      "📋 Using form: Untitled form (ID: 1yjwY-4DW2gdOcLeKqE8NSJi-yO3Rt70W1gavHSjAhCs)\n",
      "🔄 Converting form to public access...\n",
      "📝 Form ID: 1yjwY-4DW2gdOcLeKqE8NSJi-yO3Rt70W1gavHSjAhCs\n"
     ]
    }
   ],
   "source": []
  },
  {
   "cell_type": "code",
   "execution_count": null,
   "id": "06348cdc-cf71-4cee-ab36-ba552ce61c57",
   "metadata": {},
   "outputs": [],
   "source": []
  },
  {
   "cell_type": "code",
   "execution_count": 8,
   "id": "ba529063-2af1-4561-9e66-055b2745d92c",
   "metadata": {},
   "outputs": [
    {
     "data": {
      "text/plain": [
       "False"
      ]
     },
     "execution_count": 8,
     "metadata": {},
     "output_type": "execute_result"
    }
   ],
   "source": [
    "success"
   ]
  },
  {
   "cell_type": "code",
   "execution_count": null,
   "id": "8b39f64b-07f7-4a98-9233-9ee0e84f4437",
   "metadata": {},
   "outputs": [],
   "source": []
  },
  {
   "cell_type": "code",
   "execution_count": null,
   "id": "bf43d64e-3b14-47d0-a7b7-c54fa2d74785",
   "metadata": {},
   "outputs": [],
   "source": []
  },
  {
   "cell_type": "code",
   "execution_count": null,
   "id": "ec287c87-b711-4b49-8852-fa660164682c",
   "metadata": {},
   "outputs": [],
   "source": []
  },
  {
   "cell_type": "code",
   "execution_count": 15,
   "id": "da3dd5f7-7b41-48ee-b52d-e400faf182ff",
   "metadata": {},
   "outputs": [
    {
     "data": {
      "text/plain": [
       "{'tracked_total': 4,\n",
       " 'tracked_terminated': 4,\n",
       " 'tracked_failed': [],\n",
       " 'orphaned_discovered': 0,\n",
       " 'orphaned_terminated': 0,\n",
       " 'orphaned_failed': [],\n",
       " 'success': True}"
      ]
     },
     "execution_count": 15,
     "metadata": {},
     "output_type": "execute_result"
    }
   ],
   "source": [
    "ss.servers.terminate_all()"
   ]
  },
  {
   "cell_type": "code",
   "execution_count": 16,
   "id": "9ea04189-7c3a-48c9-8960-497b29f9159f",
   "metadata": {},
   "outputs": [
    {
     "name": "stdout",
     "output_type": "stream",
     "text": [
      "Receiver server created at: http://localhost:8001\n",
      "Receiver server created at: http://localhost:8003\n"
     ]
    },
    {
     "data": {
      "text/plain": [
       "{'status': 'started',\n",
       " 'message': 'Receiver launched successfully for liamtrask@gmail.com (interval: 1s)',\n",
       " 'url': 'http://localhost:8003'}"
      ]
     },
     "execution_count": 16,
     "metadata": {},
     "output_type": "execute_result"
    }
   ],
   "source": [
    "andrew_client.launch_watcher_sender()\n",
    "andrew_client.launch_receiver(interval_seconds=1)\n",
    "liam_client.launch_watcher_sender()\n",
    "liam_client.launch_receiver(interval_seconds=1)"
   ]
  },
  {
   "cell_type": "code",
   "execution_count": 19,
   "id": "9875255e-a72f-4552-960d-a6b6b9ce08a6",
   "metadata": {},
   "outputs": [
    {
     "name": "stdout",
     "output_type": "stream",
     "text": [
      "📊 Testing latency: andrew@openmined.org → liamtrask@gmail.com\n",
      "   Running 5 tests...\n",
      "\n",
      "   Test 1/5: ✅ 1.35s\n",
      "   Test 2/5: ✅ 0.31s\n",
      "   Test 3/5: ✅ 0.52s\n",
      "   Test 4/5: ✅ 0.31s\n",
      "   Test 5/5: ✅ 1.55s\n",
      "\n",
      "📈 Results:\n",
      "   Average latency: 0.81s\n",
      "   Min latency: 0.31s\n",
      "   Max latency: 1.55s\n",
      "   Successful: 5/5\n"
     ]
    },
    {
     "data": {
      "text/plain": [
       "{'average': 0.8090389728546142,\n",
       " 'min': 0.3107929229736328,\n",
       " 'max': 1.554875135421753,\n",
       " 'successful': 5,\n",
       " 'total': 5,\n",
       " 'all_latencies': [1.3479928970336914,\n",
       "  0.3109109401702881,\n",
       "  0.520622968673706,\n",
       "  0.3107929229736328,\n",
       "  1.554875135421753]}"
      ]
     },
     "execution_count": 19,
     "metadata": {},
     "output_type": "execute_result"
    }
   ],
   "source": [
    "andrew_client.test_latency(liam_client)"
   ]
  },
  {
   "cell_type": "code",
   "execution_count": 4,
   "id": "74b4fc21-5654-448b-b153-b55c97f304cc",
   "metadata": {},
   "outputs": [],
   "source": [
    "# andrew_client.test_rate_limit(\"https://docs.google.com/spreadsheets/d/1KTnBq47qyBiIH0zQt8ie3g12PNsipiqk_3veipT8q6o/edit\")"
   ]
  },
  {
   "cell_type": "code",
   "execution_count": 5,
   "id": "6409684d-962c-42ce-9a57-30971ed04061",
   "metadata": {},
   "outputs": [
    {
     "data": {
      "text/html": [
       "\n",
       "        <div style=\"border: 1px solid #ddd; padding: 15px; margin: 10px 0; border-radius: 5px; background-color: #f9f9f9; font-family: -apple-system, BlinkMacSystemFont, 'Segoe UI', Roboto, sans-serif;\">\n",
       "            <h3 style=\"margin-top: 0; color: #333;\">📁 Google Drive Client</h3>\n",
       "            <table style=\"border-collapse: collapse; width: 100%;\">\n",
       "                <tr>\n",
       "                    <td style=\"padding: 5px 10px 5px 0; font-weight: bold; color: #555;\">Email:</td>\n",
       "                    <td style=\"padding: 5px;\">liamtrask@gmail.com</td>\n",
       "                </tr>\n",
       "                <tr>\n",
       "                    <td style=\"padding: 5px 10px 5px 0; font-weight: bold; color: #555;\">Auth Method:</td>\n",
       "                    <td style=\"padding: 5px;\">wallet</td>\n",
       "                </tr>\n",
       "                <tr>\n",
       "                    <td style=\"padding: 5px 10px 5px 0; font-weight: bold; color: #555;\">SyftBox:</td>\n",
       "                    <td style=\"padding: 5px;\">✅ Created</td>\n",
       "                </tr>\n",
       "        \n",
       "                <tr>\n",
       "                    <td style=\"padding: 5px 10px 5px 0; font-weight: bold; color: #555;\">Drive Folder:</td>\n",
       "                    <td style=\"padding: 5px;\">\n",
       "                        <a href=\"https://drive.google.com/drive/folders/1Zey3JyciaK6IfPM-Dnhm1lSIgy4_MJsF\" target=\"_blank\" style=\"color: #1a73e8; text-decoration: none;\">\n",
       "                            🔗 Open in Google Drive\n",
       "                        </a>\n",
       "                    </td>\n",
       "                </tr>\n",
       "            \n",
       "            </table>\n",
       "        </div>"
      ],
      "text/plain": [
       "<GDriveUnifiedClient(\n",
       "  email='liamtrask@gmail.com',\n",
       "  auth_method='wallet',\n",
       "  syftbox=✓ created\n",
       ")>"
      ]
     },
     "execution_count": 5,
     "metadata": {},
     "output_type": "execute_result"
    }
   ],
   "source": [
    "liam_client"
   ]
  },
  {
   "cell_type": "code",
   "execution_count": 6,
   "id": "19c548e9-c862-4e2b-8667-083c5380b159",
   "metadata": {},
   "outputs": [],
   "source": []
  },
  {
   "cell_type": "code",
   "execution_count": 7,
   "id": "62c5b317-2195-4a2d-a0f3-63e8fd144a09",
   "metadata": {},
   "outputs": [
    {
     "data": {
      "text/html": [
       "<p style='color: #a0a0a0;'>No servers</p>"
      ],
      "text/plain": [
       "No servers"
      ]
     },
     "execution_count": 7,
     "metadata": {},
     "output_type": "execute_result"
    }
   ],
   "source": [
    "ss.servers"
   ]
  },
  {
   "cell_type": "code",
   "execution_count": 8,
   "id": "cac1b741-dacf-4fbb-ba9c-3de1284a3037",
   "metadata": {},
   "outputs": [
    {
     "data": {
      "text/plain": [
       "{'status': 'started',\n",
       " 'message': 'Watcher launched successfully for andrew@openmined.org',\n",
       " 'url': 'http://localhost:8000'}"
      ]
     },
     "execution_count": 8,
     "metadata": {},
     "output_type": "execute_result"
    }
   ],
   "source": []
  },
  {
   "cell_type": "code",
   "execution_count": null,
   "id": "122aaf55-da9c-4767-a7e9-bfffae69a24e",
   "metadata": {},
   "outputs": [],
   "source": []
  },
  {
   "cell_type": "code",
   "execution_count": 24,
   "id": "4bfbc9e8-1413-4dbf-b129-bf7aacfbeea6",
   "metadata": {},
   "outputs": [
    {
     "data": {
      "text/plain": [
       "{'tracked_total': 4,\n",
       " 'tracked_terminated': 4,\n",
       " 'tracked_failed': [],\n",
       " 'orphaned_discovered': 0,\n",
       " 'orphaned_terminated': 0,\n",
       " 'orphaned_failed': [],\n",
       " 'success': True}"
      ]
     },
     "execution_count": 24,
     "metadata": {},
     "output_type": "execute_result"
    }
   ],
   "source": []
  },
  {
   "cell_type": "code",
   "execution_count": null,
   "id": "f40a20ae-db4a-460a-ac25-d97c032d3ae5",
   "metadata": {},
   "outputs": [],
   "source": []
  },
  {
   "cell_type": "code",
   "execution_count": null,
   "id": "227a0678-df01-43de-99d7-bd2fc21b886e",
   "metadata": {},
   "outputs": [],
   "source": [
    "# liam_client.update_inbox()\n",
    "liam_client.update_inbox_from_sheets()\n",
    "liam_client.autoapprove_inbox()\n",
    "liam_client.merge_new_syncs()"
   ]
  },
  {
   "cell_type": "code",
   "execution_count": 22,
   "id": "d4aa5d9e-6302-4b2c-a66e-07d6d3b7daee",
   "metadata": {},
   "outputs": [
    {
     "name": "stdout",
     "output_type": "stream",
     "text": [
      "198 ms ± 0 ns per loop (mean ± std. dev. of 1 run, 1 loop each)\n"
     ]
    }
   ],
   "source": [
    "%%timeit -n1 -r1\n",
    "# # %%memray_flamegraph --trace-python-allocators --leaks\n",
    "\n",
    "andrew_client.send_file_or_folder_to_friends(\"syft://data.txt\")"
   ]
  },
  {
   "cell_type": "code",
   "execution_count": null,
   "id": "6accc739-9fae-4cfe-b3be-98cbc5a65bfa",
   "metadata": {},
   "outputs": [],
   "source": [
    "\n",
    "# liam_client.update_inbox()\n",
    "liam_client.update_inbox_from_sheets()\n",
    "liam_client.autoapprove_inbox()\n",
    "liam_client.merge_new_syncs()"
   ]
  },
  {
   "cell_type": "code",
   "execution_count": null,
   "id": "ca098617-dcd4-48ea-b776-63c243499dea",
   "metadata": {},
   "outputs": [],
   "source": [
    "destroy_watcher_sender_endpoint(\"andrew@openmined.org\")\n",
    "server = create_watcher_sender_endpoint(\"andrew@openmined.org\")"
   ]
  },
  {
   "cell_type": "code",
   "execution_count": null,
   "id": "f8c8220f-9268-40ac-b519-d05aa5417139",
   "metadata": {},
   "outputs": [],
   "source": []
  },
  {
   "cell_type": "code",
   "execution_count": null,
   "id": "a0b5cad5-b4d9-4e93-87e6-914986910906",
   "metadata": {},
   "outputs": [],
   "source": [
    "server.stdout.lines()"
   ]
  },
  {
   "cell_type": "code",
   "execution_count": null,
   "id": "1e351e56-23b0-4238-a7eb-f03af9368a4e",
   "metadata": {},
   "outputs": [],
   "source": [
    "# liam_client.update_inbox()\n",
    "liam_client.update_inbox_from_sheets()\n",
    "liam_client.autoapprove_inbox()\n",
    "liam_client.merge_new_syncs()"
   ]
  },
  {
   "cell_type": "code",
   "execution_count": null,
   "id": "38c74e08-46f4-4511-b25d-4fbb86accd14",
   "metadata": {},
   "outputs": [],
   "source": []
  }
 ],
 "metadata": {
  "kernelspec": {
   "display_name": "Python 3 (ipykernel)",
   "language": "python",
   "name": "python3"
  },
  "language_info": {
   "codemirror_mode": {
    "name": "ipython",
    "version": 3
   },
   "file_extension": ".py",
   "mimetype": "text/x-python",
   "name": "python",
   "nbconvert_exporter": "python",
   "pygments_lexer": "ipython3",
   "version": "3.12.9"
  }
 },
 "nbformat": 4,
 "nbformat_minor": 5
}
