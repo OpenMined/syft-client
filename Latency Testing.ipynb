{
 "cells": [
  {
   "cell_type": "code",
   "execution_count": 1,
   "id": "5baa0d01-c6fa-4984-822e-4e6df9d03836",
   "metadata": {},
   "outputs": [],
   "source": [
    "import syft_serve as ss\n",
    "import syft_client as sc"
   ]
  },
  {
   "cell_type": "code",
   "execution_count": 2,
   "id": "8737269c-2b32-4ddd-8d92-0734f96ae391",
   "metadata": {},
   "outputs": [],
   "source": [
    "# ss.servers.terminate_all()"
   ]
  },
  {
   "cell_type": "code",
   "execution_count": 9,
   "id": "3f50e3ed-0d68-4c92-90dd-7876a677dcec",
   "metadata": {},
   "outputs": [
    {
     "name": "stdout",
     "output_type": "stream",
     "text": [
      "[2/2] ✅ Logged in as andrew@openmined.org                                                  \n",
      "[2/2] ✅ Logged in as liamtrask@gmail.com                                                  \n"
     ]
    }
   ],
   "source": [
    "andrew_client = sc.login(\"andrew@openmined.org\", verbose=False)\n",
    "liam_client = sc.login(\"liamtrask@gmail.com\", verbose=False)#, \"/Users/atrask/Downloads/client_secret_370526552993-10jtbi4vuvaig2qe0iseohdl2ltd7up8.apps.googleusercontent.com.json\", verbose=False)\n",
    "# andrew_client.reset_syftbox()\n",
    "# liam_client.reset_syftbox()\n",
    "# andrew_client.add_friend(\"liamtrask@gmail.com\")\n",
    "# liam_client.add_friend(\"andrew@openmined.org\")"
   ]
  },
  {
   "cell_type": "code",
   "execution_count": 22,
   "id": "b1a38014-9ce2-4e2e-8663-15461c2cc412",
   "metadata": {},
   "outputs": [],
   "source": [
    "import base64\n",
    "test_data = base64.b64encode(b\"A\").decode('utf-8')"
   ]
  },
  {
   "cell_type": "code",
   "execution_count": 23,
   "id": "520da8bf-9f20-4afd-953f-d8a973f97778",
   "metadata": {},
   "outputs": [],
   "source": [
    "success = andrew_client.submit_to_form_fast(\n",
    "          from_email=\"test@example.com\",\n",
    "          to_email=\"andrew@openmined.org\",\n",
    "          message_id=\"test_message_123\",\n",
    "          message_size=\"1024\",\n",
    "          message_data=test_data\n",
    "          # file_path=\"datasites/test/message.tar.gz\"\n",
    "      )"
   ]
  },
  {
   "cell_type": "code",
   "execution_count": 24,
   "id": "19dc63d4-7c6d-4815-b191-26ad257f69a0",
   "metadata": {},
   "outputs": [
    {
     "name": "stdout",
     "output_type": "stream",
     "text": [
      "1.11 s ± 107 ms per loop (mean ± std. dev. of 7 runs, 1 loop each)\n"
     ]
    }
   ],
   "source": [
    "%%timeit\n",
    "success = andrew_client.submit_to_form_fast(\n",
    "          from_email=\"test@example.com\",\n",
    "          to_email=\"andrew@openmined.org\",\n",
    "          message_id=\"test_message_123\",\n",
    "          message_size=\"1024\",\n",
    "          message_data=test_data\n",
    "          # file_path=\"datasites/test/message.tar.gz\"\n",
    "      )\n",
    "results = andrew_client.get_results_from_form()"
   ]
  },
  {
   "cell_type": "code",
   "execution_count": 19,
   "id": "f40a20ae-db4a-460a-ac25-d97c032d3ae5",
   "metadata": {},
   "outputs": [
    {
     "data": {
      "text/plain": [
       "{'form_url': 'https://docs.google.com/forms/d/1xb1zbPZr_7sPavcM51be49MG304iy0J3_dkCj2Unyx8/viewform',\n",
       " 'form_id': '1xb1zbPZr_7sPavcM51be49MG304iy0J3_dkCj2Unyx8',\n",
       " 'spreadsheet_url': 'https://docs.google.com/spreadsheets/d/1ELoB2OLXwwV421ElfqW3HMqfGizhQAnfIzWIPMKTFQ8/edit?ouid=117176484630596301481',\n",
       " 'spreadsheet_id': '1ELoB2OLXwwV421ElfqW3HMqfGizhQAnfIzWIPMKTFQ8',\n",
       " 'form_edit_url': 'https://docs.google.com/forms/d/1FAIpQLScafdxkvLD43-3oGM2CHL7IqWKAbIAhrRlMTseK2ZI3legpEA/edit',\n",
       " 'note': 'Spreadsheet created but needs manual linking via Forms UI',\n",
       " 'existing': False,\n",
       " 'entry_map': {'from_email': '1995482074',\n",
       "  'to_email': '1553143275',\n",
       "  'message_id': '471668893',\n",
       "  'message_size': '1864565',\n",
       "  'message_data': '750395008',\n",
       "  'file_path': '1096996663'},\n",
       " 'submit_url': 'https://docs.google.com/forms/d/1xb1zbPZr_7sPavcM51be49MG304iy0J3_dkCj2Unyx8/formResponse',\n",
       " 'prepared_at': '2025-09-06T10:57:24.241131'}"
      ]
     },
     "execution_count": 19,
     "metadata": {},
     "output_type": "execute_result"
    }
   ],
   "source": [
    "andrew_client.form_inbox_metadata"
   ]
  },
  {
   "cell_type": "code",
   "execution_count": null,
   "id": "227a0678-df01-43de-99d7-bd2fc21b886e",
   "metadata": {},
   "outputs": [],
   "source": [
    "# liam_client.update_inbox()\n",
    "liam_client.update_inbox_from_sheets()\n",
    "liam_client.autoapprove_inbox()\n",
    "liam_client.merge_new_syncs()"
   ]
  },
  {
   "cell_type": "code",
   "execution_count": 22,
   "id": "d4aa5d9e-6302-4b2c-a66e-07d6d3b7daee",
   "metadata": {},
   "outputs": [
    {
     "name": "stdout",
     "output_type": "stream",
     "text": [
      "198 ms ± 0 ns per loop (mean ± std. dev. of 1 run, 1 loop each)\n"
     ]
    }
   ],
   "source": [
    "%%timeit -n1 -r1\n",
    "# # %%memray_flamegraph --trace-python-allocators --leaks\n",
    "\n",
    "andrew_client.send_file_or_folder_to_friends(\"syft://data.txt\")"
   ]
  },
  {
   "cell_type": "code",
   "execution_count": null,
   "id": "6accc739-9fae-4cfe-b3be-98cbc5a65bfa",
   "metadata": {},
   "outputs": [],
   "source": [
    "\n",
    "# liam_client.update_inbox()\n",
    "liam_client.update_inbox_from_sheets()\n",
    "liam_client.autoapprove_inbox()\n",
    "liam_client.merge_new_syncs()"
   ]
  },
  {
   "cell_type": "code",
   "execution_count": null,
   "id": "ca098617-dcd4-48ea-b776-63c243499dea",
   "metadata": {},
   "outputs": [],
   "source": [
    "destroy_watcher_sender_endpoint(\"andrew@openmined.org\")\n",
    "server = create_watcher_sender_endpoint(\"andrew@openmined.org\")"
   ]
  },
  {
   "cell_type": "code",
   "execution_count": null,
   "id": "f8c8220f-9268-40ac-b519-d05aa5417139",
   "metadata": {},
   "outputs": [],
   "source": []
  },
  {
   "cell_type": "code",
   "execution_count": null,
   "id": "a0b5cad5-b4d9-4e93-87e6-914986910906",
   "metadata": {},
   "outputs": [],
   "source": [
    "server.stdout.lines()"
   ]
  },
  {
   "cell_type": "code",
   "execution_count": null,
   "id": "1e351e56-23b0-4238-a7eb-f03af9368a4e",
   "metadata": {},
   "outputs": [],
   "source": [
    "# liam_client.update_inbox()\n",
    "liam_client.update_inbox_from_sheets()\n",
    "liam_client.autoapprove_inbox()\n",
    "liam_client.merge_new_syncs()"
   ]
  },
  {
   "cell_type": "code",
   "execution_count": null,
   "id": "38c74e08-46f4-4511-b25d-4fbb86accd14",
   "metadata": {},
   "outputs": [],
   "source": []
  }
 ],
 "metadata": {
  "kernelspec": {
   "display_name": "Python 3 (ipykernel)",
   "language": "python",
   "name": "python3"
  },
  "language_info": {
   "codemirror_mode": {
    "name": "ipython",
    "version": 3
   },
   "file_extension": ".py",
   "mimetype": "text/x-python",
   "name": "python",
   "nbconvert_exporter": "python",
   "pygments_lexer": "ipython3",
   "version": "3.12.9"
  }
 },
 "nbformat": 4,
 "nbformat_minor": 5
}
