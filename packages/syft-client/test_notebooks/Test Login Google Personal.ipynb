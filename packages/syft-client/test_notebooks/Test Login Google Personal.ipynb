{
 "cells": [
  {
   "cell_type": "code",
   "execution_count": 2,
   "id": "9b86ea6f-a5b6-429f-b809-f2f06aa0cb8c",
   "metadata": {},
   "outputs": [],
   "source": [
    "import sys\n",
    "sys.path.insert(0, '..')\n",
    "import syft_client as sc"
   ]
  },
  {
   "cell_type": "markdown",
   "id": "c40c011e-b6b5-432e-83fe-c85d184b5185",
   "metadata": {},
   "source": [
    "# Test Setup: Delete All Cached Login Creds"
   ]
  },
  {
   "cell_type": "code",
   "execution_count": 3,
   "id": "a8847adc-933e-468e-833d-1ab7e850570f",
   "metadata": {},
   "outputs": [
    {
     "name": "stdout",
     "output_type": "stream",
     "text": [
      "\n",
      "⚠️  WARNING: This will delete all stored credentials!\n",
      "\n",
      "Wallet directory: /Users/atrask/.syft\n",
      "Files to be deleted: 3\n",
      "  - liamtrask_at_gmail_com/config.json\n",
      "  - liamtrask_at_gmail_com/wallet_config.json\n",
      "  - liamtrask_at_gmail_com/tokens/google_personal.json\n"
     ]
    },
    {
     "name": "stdin",
     "output_type": "stream",
     "text": [
      "\n",
      "Are you sure you want to delete all wallet data? (yes/no):  no\n"
     ]
    },
    {
     "name": "stdout",
     "output_type": "stream",
     "text": [
      "Wallet reset cancelled.\n"
     ]
    },
    {
     "data": {
      "text/plain": [
       "False"
      ]
     },
     "execution_count": 3,
     "metadata": {},
     "output_type": "execute_result"
    }
   ],
   "source": [
    "sc.reset_wallet()"
   ]
  },
  {
   "cell_type": "markdown",
   "id": "18854923-fbe5-4ecf-88a6-73cf1208a732",
   "metadata": {},
   "source": [
    "# Test 0: Initialize Using Wizard"
   ]
  },
  {
   "cell_type": "code",
   "execution_count": null,
   "id": "656f71be-939d-4b2c-a71d-162b7d889a64",
   "metadata": {},
   "outputs": [
    {
     "name": "stdout",
     "output_type": "stream",
     "text": [
      "\n",
      "🔍 Scanning for existing Google credentials...\n",
      "\n",
      "✅ Found Google credentials file!\n",
      "   File: client_secret_1012113637536-4nvk62cg1ae9lhpjenpnbho55hvn675h.apps.googleusercontent.com.json\n",
      "   Project: euphoric-drive-472720-t8\n"
     ]
    },
    {
     "name": "stdin",
     "output_type": "stream",
     "text": [
      "\n",
      "Use this for liamtrask@gmail.com? (Y/n):  n\n"
     ]
    },
    {
     "name": "stdout",
     "output_type": "stream",
     "text": [
      "\n",
      "No credentials found. Starting setup wizard...\n",
      "\n",
      "🔐 OAuth2 Credentials Setup Wizard\n",
      "==================================================\n",
      "\n",
      "❌ No OAuth2 credentials found.\n",
      "Let's set them up!\n"
     ]
    },
    {
     "name": "stdin",
     "output_type": "stream",
     "text": [
      "\n",
      "Have you created a Google Cloud project for Syft with liamtrask@gmail.com before? (y/n):  y\n",
      "Do you remember your Google Cloud project ID? (y/n):  y\n",
      "\n",
      "Enter your project ID:  euphoric-drive-472720-t8\n"
     ]
    },
    {
     "name": "stdout",
     "output_type": "stream",
     "text": [
      "\n",
      "✅ Found existing credentials for project euphoric-drive-472720-t8!\n",
      "   File: /Users/atrask/Downloads/client_secret_1012113637536-4nvk62cg1ae9lhpjenpnbho55hvn675h.apps.googleusercontent.com.json\n"
     ]
    }
   ],
   "source": [
    "client = sc.login(\"liamtrask@gmail.com\")"
   ]
  },
  {
   "cell_type": "code",
   "execution_count": 4,
   "id": "d489db72-1d4d-430d-b51f-5e5d9e4a4429",
   "metadata": {},
   "outputs": [
    {
     "data": {
      "text/html": [
       "<pre style=\"white-space:pre;overflow-x:auto;line-height:normal;font-family:Menlo,'DejaVu Sans Mono',consolas,'Courier New',monospace\">╭──────── SyftClient.email = 'liamtrask@gmail.com' ────────╮\n",
       "│                                                          │\n",
       "│  <span style=\"color: #7f7f7f; text-decoration-color: #7f7f7f\">.folder</span> = /Users/atrask/SyftBox/liamtrask_at_gmail_com  │\n",
       "│                                                          │\n",
       "│  <span style=\"color: #7f7f7f; text-decoration-color: #7f7f7f\">.platforms</span>                                              │\n",
       "│    <span style=\"color: #808000; text-decoration-color: #808000; font-weight: bold\">.google_personal</span> <span style=\"color: #7f7f7f; text-decoration-color: #7f7f7f\">(project: euphoric-drive-472720-t8)</span>  │\n",
       "│      <span style=\"color: #008000; text-decoration-color: #008000\">✓</span> <span style=\"color: #008000; text-decoration-color: #008000\">✓</span> <span style=\"color: #008000; text-decoration-color: #008000\">.gmail</span>                                          │\n",
       "│      <span style=\"color: #008000; text-decoration-color: #008000\">✓</span> <span style=\"color: #008000; text-decoration-color: #008000\">✓</span> <span style=\"color: #008000; text-decoration-color: #008000\">.gdrive_files</span>                                   │\n",
       "│      <span style=\"color: #008000; text-decoration-color: #008000\">✓</span> <span style=\"color: #008000; text-decoration-color: #008000\">✓</span> <span style=\"color: #008000; text-decoration-color: #008000\">.gsheets</span>                                        │\n",
       "│      <span style=\"color: #008000; text-decoration-color: #008000\">✓</span> <span style=\"color: #008000; text-decoration-color: #008000\">✓</span> <span style=\"color: #008000; text-decoration-color: #008000\">.gforms</span>                                         │\n",
       "│                                                          │\n",
       "╰──────────────────────────────────────────────────────────╯\n",
       "</pre>\n"
      ],
      "text/plain": [
       "╭──────── SyftClient.email = 'liamtrask@gmail.com' ────────╮\n",
       "│                                                          │\n",
       "│  \u001b[2m.folder\u001b[0m = /Users/atrask/SyftBox/liamtrask_at_gmail_com  │\n",
       "│                                                          │\n",
       "│  \u001b[2m.platforms\u001b[0m                                              │\n",
       "│    \u001b[1;33m.google_personal\u001b[0m \u001b[2m(project: euphoric-drive-472720-t8)\u001b[0m  │\n",
       "│      \u001b[32m✓\u001b[0m \u001b[32m✓\u001b[0m \u001b[32m.gmail\u001b[0m                                          │\n",
       "│      \u001b[32m✓\u001b[0m \u001b[32m✓\u001b[0m \u001b[32m.gdrive_files\u001b[0m                                   │\n",
       "│      \u001b[32m✓\u001b[0m \u001b[32m✓\u001b[0m \u001b[32m.gsheets\u001b[0m                                        │\n",
       "│      \u001b[32m✓\u001b[0m \u001b[32m✓\u001b[0m \u001b[32m.gforms\u001b[0m                                         │\n",
       "│                                                          │\n",
       "╰──────────────────────────────────────────────────────────╯\n"
      ]
     },
     "metadata": {},
     "output_type": "display_data"
    },
    {
     "data": {
      "text/plain": []
     },
     "execution_count": 4,
     "metadata": {},
     "output_type": "execute_result"
    }
   ],
   "source": [
    "client"
   ]
  },
  {
   "cell_type": "markdown",
   "id": "283b6f97-5df7-4fff-89ac-1598ed8eed88",
   "metadata": {},
   "source": [
    "# Test 1: Permute states of API enablement and ensure __repr__ keeps up"
   ]
  },
  {
   "cell_type": "code",
   "execution_count": 4,
   "id": "326e4b2d-7d25-4301-95fe-d0d4332b3154",
   "metadata": {},
   "outputs": [],
   "source": [
    "# import sys\n",
    "# sys.path.insert(0, '..')\n",
    "# import syft_client as sc"
   ]
  },
  {
   "cell_type": "code",
   "execution_count": 5,
   "id": "7487fdd2-62a5-4738-a9ca-24cdc041c29c",
   "metadata": {},
   "outputs": [],
   "source": [
    "# ok go through teh wizard again (with a new project!) but don't click \"Enable\" for the gmail API and let's see what happens\n",
    "client = sc.login(\"liamtrask@gmail.com\")"
   ]
  },
  {
   "cell_type": "code",
   "execution_count": 6,
   "id": "2a87990b-c22f-4397-aea3-434652901272",
   "metadata": {},
   "outputs": [
    {
     "data": {
      "text/html": [
       "<pre style=\"white-space:pre;overflow-x:auto;line-height:normal;font-family:Menlo,'DejaVu Sans Mono',consolas,'Courier New',monospace\">╭──────── SyftClient.email = 'liamtrask@gmail.com' ────────╮\n",
       "│                                                          │\n",
       "│  <span style=\"color: #7f7f7f; text-decoration-color: #7f7f7f\">.folder</span> = /Users/atrask/SyftBox/liamtrask_at_gmail_com  │\n",
       "│                                                          │\n",
       "│  <span style=\"color: #7f7f7f; text-decoration-color: #7f7f7f\">.platforms</span>                                              │\n",
       "│    <span style=\"color: #808000; text-decoration-color: #808000; font-weight: bold\">.google_personal</span> <span style=\"color: #7f7f7f; text-decoration-color: #7f7f7f\">(project: euphoric-drive-472720-t8)</span>  │\n",
       "│      <span style=\"color: #008000; text-decoration-color: #008000\">✓</span> <span style=\"color: #008000; text-decoration-color: #008000\">✓</span> <span style=\"color: #008000; text-decoration-color: #008000\">.gmail</span>                                          │\n",
       "│      <span style=\"color: #008000; text-decoration-color: #008000\">✓</span> <span style=\"color: #008000; text-decoration-color: #008000\">✓</span> <span style=\"color: #008000; text-decoration-color: #008000\">.gdrive_files</span>                                   │\n",
       "│      <span style=\"color: #008000; text-decoration-color: #008000\">✓</span> <span style=\"color: #008000; text-decoration-color: #008000\">✓</span> <span style=\"color: #008000; text-decoration-color: #008000\">.gsheets</span>                                        │\n",
       "│      <span style=\"color: #008000; text-decoration-color: #008000\">✓</span> <span style=\"color: #008000; text-decoration-color: #008000\">✓</span> <span style=\"color: #008000; text-decoration-color: #008000\">.gforms</span>                                         │\n",
       "│                                                          │\n",
       "╰──────────────────────────────────────────────────────────╯\n",
       "</pre>\n"
      ],
      "text/plain": [
       "╭──────── SyftClient.email = 'liamtrask@gmail.com' ────────╮\n",
       "│                                                          │\n",
       "│  \u001b[2m.folder\u001b[0m = /Users/atrask/SyftBox/liamtrask_at_gmail_com  │\n",
       "│                                                          │\n",
       "│  \u001b[2m.platforms\u001b[0m                                              │\n",
       "│    \u001b[1;33m.google_personal\u001b[0m \u001b[2m(project: euphoric-drive-472720-t8)\u001b[0m  │\n",
       "│      \u001b[32m✓\u001b[0m \u001b[32m✓\u001b[0m \u001b[32m.gmail\u001b[0m                                          │\n",
       "│      \u001b[32m✓\u001b[0m \u001b[32m✓\u001b[0m \u001b[32m.gdrive_files\u001b[0m                                   │\n",
       "│      \u001b[32m✓\u001b[0m \u001b[32m✓\u001b[0m \u001b[32m.gsheets\u001b[0m                                        │\n",
       "│      \u001b[32m✓\u001b[0m \u001b[32m✓\u001b[0m \u001b[32m.gforms\u001b[0m                                         │\n",
       "│                                                          │\n",
       "╰──────────────────────────────────────────────────────────╯\n"
      ]
     },
     "metadata": {},
     "output_type": "display_data"
    },
    {
     "data": {
      "text/plain": []
     },
     "execution_count": 6,
     "metadata": {},
     "output_type": "execute_result"
    }
   ],
   "source": [
    "client"
   ]
  },
  {
   "cell_type": "markdown",
   "id": "3ff96c43-99cb-4198-a076-88043a2b3bf8",
   "metadata": {},
   "source": [
    "## Test 1.1 - Gmail API"
   ]
  },
  {
   "cell_type": "code",
   "execution_count": 7,
   "id": "644f108f-baa3-447f-a88b-0030f4f06e80",
   "metadata": {},
   "outputs": [
    {
     "name": "stdout",
     "output_type": "stream",
     "text": [
      "\n",
      "📌 How to disable Gmail API:\n",
      "\n",
      "1. Open: https://console.cloud.google.com/marketplace/product/google/gmail.googleapis.com?authuser=liamtrask@gmail.com&project=euphoric-drive-472720-t8\n",
      "2. Click 'MANAGE' button\n",
      "3. Click 'DISABLE API'\n",
      "4. Confirm the action\n",
      "\n",
      "⚠️  Warning: Disabling this API will prevent Gmail from working\n",
      "   until you re-enable it.\n",
      "\n"
     ]
    }
   ],
   "source": [
    "client.platforms.google_personal.gmail.disable_api()"
   ]
  },
  {
   "cell_type": "code",
   "execution_count": 8,
   "id": "68072c97-157a-4629-8be0-bde2bb5376dd",
   "metadata": {},
   "outputs": [
    {
     "data": {
      "text/html": [
       "<pre style=\"white-space:pre;overflow-x:auto;line-height:normal;font-family:Menlo,'DejaVu Sans Mono',consolas,'Courier New',monospace\">╭──────── SyftClient.email = 'liamtrask@gmail.com' ────────╮\n",
       "│                                                          │\n",
       "│  <span style=\"color: #7f7f7f; text-decoration-color: #7f7f7f\">.folder</span> = /Users/atrask/SyftBox/liamtrask_at_gmail_com  │\n",
       "│                                                          │\n",
       "│  <span style=\"color: #7f7f7f; text-decoration-color: #7f7f7f\">.platforms</span>                                              │\n",
       "│    <span style=\"color: #808000; text-decoration-color: #808000; font-weight: bold\">.google_personal</span> <span style=\"color: #7f7f7f; text-decoration-color: #7f7f7f\">(project: euphoric-drive-472720-t8)</span>  │\n",
       "│      <span style=\"color: #800000; text-decoration-color: #800000\">✗</span> <span style=\"color: #008000; text-decoration-color: #008000\">✓</span> <span style=\"color: #7f7f7f; text-decoration-color: #7f7f7f\">.gmail</span> <span style=\"color: #7f7f7f; text-decoration-color: #7f7f7f\">(call .gmail.enable_api())</span>               │\n",
       "│      <span style=\"color: #008000; text-decoration-color: #008000\">✓</span> <span style=\"color: #008000; text-decoration-color: #008000\">✓</span> <span style=\"color: #008000; text-decoration-color: #008000\">.gdrive_files</span>                                   │\n",
       "│      <span style=\"color: #008000; text-decoration-color: #008000\">✓</span> <span style=\"color: #008000; text-decoration-color: #008000\">✓</span> <span style=\"color: #008000; text-decoration-color: #008000\">.gsheets</span>                                        │\n",
       "│      <span style=\"color: #008000; text-decoration-color: #008000\">✓</span> <span style=\"color: #008000; text-decoration-color: #008000\">✓</span> <span style=\"color: #008000; text-decoration-color: #008000\">.gforms</span>                                         │\n",
       "│                                                          │\n",
       "╰──────────────────────────────────────────────────────────╯\n",
       "</pre>\n"
      ],
      "text/plain": [
       "╭──────── SyftClient.email = 'liamtrask@gmail.com' ────────╮\n",
       "│                                                          │\n",
       "│  \u001b[2m.folder\u001b[0m = /Users/atrask/SyftBox/liamtrask_at_gmail_com  │\n",
       "│                                                          │\n",
       "│  \u001b[2m.platforms\u001b[0m                                              │\n",
       "│    \u001b[1;33m.google_personal\u001b[0m \u001b[2m(project: euphoric-drive-472720-t8)\u001b[0m  │\n",
       "│      \u001b[31m✗\u001b[0m \u001b[32m✓\u001b[0m \u001b[2m.gmail\u001b[0m \u001b[2m(call .gmail.enable_api())\u001b[0m               │\n",
       "│      \u001b[32m✓\u001b[0m \u001b[32m✓\u001b[0m \u001b[32m.gdrive_files\u001b[0m                                   │\n",
       "│      \u001b[32m✓\u001b[0m \u001b[32m✓\u001b[0m \u001b[32m.gsheets\u001b[0m                                        │\n",
       "│      \u001b[32m✓\u001b[0m \u001b[32m✓\u001b[0m \u001b[32m.gforms\u001b[0m                                         │\n",
       "│                                                          │\n",
       "╰──────────────────────────────────────────────────────────╯\n"
      ]
     },
     "metadata": {},
     "output_type": "display_data"
    },
    {
     "data": {
      "text/plain": []
     },
     "execution_count": 8,
     "metadata": {},
     "output_type": "execute_result"
    }
   ],
   "source": [
    "client"
   ]
  },
  {
   "cell_type": "code",
   "execution_count": 9,
   "id": "28f0943c-9121-4de9-a636-e8f57938af3d",
   "metadata": {},
   "outputs": [
    {
     "name": "stdout",
     "output_type": "stream",
     "text": [
      "\n",
      "⚠️  Gmail API is not enabled!\n",
      "\n",
      "To fix this:\n",
      "1. Open: https://console.cloud.google.com/marketplace/product/google/gmail.googleapis.com?authuser=liamtrask@gmail.com&project=euphoric-drive-472720-t8\n",
      "2. Click 'ENABLE'\n",
      "3. Wait a few minutes for the change to propagate\n",
      "4. Try again\n"
     ]
    },
    {
     "name": "stdin",
     "output_type": "stream",
     "text": [
      "\n",
      "Press Enter after enabling the API... \n"
     ]
    },
    {
     "name": "stdout",
     "output_type": "stream",
     "text": [
      "\n",
      "🔍 Checking if API is enabled...\n",
      "✓ API is now enabled and working!\n"
     ]
    }
   ],
   "source": [
    "client.platforms.google_personal.gmail.enable_api()"
   ]
  },
  {
   "cell_type": "code",
   "execution_count": 10,
   "id": "99edbd35-f1b5-4fb2-a408-cc1f5b5d7c3e",
   "metadata": {},
   "outputs": [
    {
     "data": {
      "text/html": [
       "<pre style=\"white-space:pre;overflow-x:auto;line-height:normal;font-family:Menlo,'DejaVu Sans Mono',consolas,'Courier New',monospace\">╭──────── SyftClient.email = 'liamtrask@gmail.com' ────────╮\n",
       "│                                                          │\n",
       "│  <span style=\"color: #7f7f7f; text-decoration-color: #7f7f7f\">.folder</span> = /Users/atrask/SyftBox/liamtrask_at_gmail_com  │\n",
       "│                                                          │\n",
       "│  <span style=\"color: #7f7f7f; text-decoration-color: #7f7f7f\">.platforms</span>                                              │\n",
       "│    <span style=\"color: #808000; text-decoration-color: #808000; font-weight: bold\">.google_personal</span> <span style=\"color: #7f7f7f; text-decoration-color: #7f7f7f\">(project: euphoric-drive-472720-t8)</span>  │\n",
       "│      <span style=\"color: #008000; text-decoration-color: #008000\">✓</span> <span style=\"color: #008000; text-decoration-color: #008000\">✓</span> <span style=\"color: #008000; text-decoration-color: #008000\">.gmail</span>                                          │\n",
       "│      <span style=\"color: #008000; text-decoration-color: #008000\">✓</span> <span style=\"color: #008000; text-decoration-color: #008000\">✓</span> <span style=\"color: #008000; text-decoration-color: #008000\">.gdrive_files</span>                                   │\n",
       "│      <span style=\"color: #008000; text-decoration-color: #008000\">✓</span> <span style=\"color: #008000; text-decoration-color: #008000\">✓</span> <span style=\"color: #008000; text-decoration-color: #008000\">.gsheets</span>                                        │\n",
       "│      <span style=\"color: #008000; text-decoration-color: #008000\">✓</span> <span style=\"color: #008000; text-decoration-color: #008000\">✓</span> <span style=\"color: #008000; text-decoration-color: #008000\">.gforms</span>                                         │\n",
       "│                                                          │\n",
       "╰──────────────────────────────────────────────────────────╯\n",
       "</pre>\n"
      ],
      "text/plain": [
       "╭──────── SyftClient.email = 'liamtrask@gmail.com' ────────╮\n",
       "│                                                          │\n",
       "│  \u001b[2m.folder\u001b[0m = /Users/atrask/SyftBox/liamtrask_at_gmail_com  │\n",
       "│                                                          │\n",
       "│  \u001b[2m.platforms\u001b[0m                                              │\n",
       "│    \u001b[1;33m.google_personal\u001b[0m \u001b[2m(project: euphoric-drive-472720-t8)\u001b[0m  │\n",
       "│      \u001b[32m✓\u001b[0m \u001b[32m✓\u001b[0m \u001b[32m.gmail\u001b[0m                                          │\n",
       "│      \u001b[32m✓\u001b[0m \u001b[32m✓\u001b[0m \u001b[32m.gdrive_files\u001b[0m                                   │\n",
       "│      \u001b[32m✓\u001b[0m \u001b[32m✓\u001b[0m \u001b[32m.gsheets\u001b[0m                                        │\n",
       "│      \u001b[32m✓\u001b[0m \u001b[32m✓\u001b[0m \u001b[32m.gforms\u001b[0m                                         │\n",
       "│                                                          │\n",
       "╰──────────────────────────────────────────────────────────╯\n"
      ]
     },
     "metadata": {},
     "output_type": "display_data"
    },
    {
     "data": {
      "text/plain": []
     },
     "execution_count": 10,
     "metadata": {},
     "output_type": "execute_result"
    }
   ],
   "source": [
    "client"
   ]
  },
  {
   "cell_type": "markdown",
   "id": "3f0194ae-3d4f-45b1-92f6-07accf4dee74",
   "metadata": {},
   "source": [
    "## Test 1.2 - GDrive API"
   ]
  },
  {
   "cell_type": "code",
   "execution_count": 11,
   "id": "b0b7fb55-72e2-480d-8da0-d83a1a2fb080",
   "metadata": {},
   "outputs": [
    {
     "name": "stdout",
     "output_type": "stream",
     "text": [
      "\n",
      "📌 How to disable GDriveFiles API:\n",
      "\n",
      "1. Open: https://console.cloud.google.com/marketplace/product/google/drive.googleapis.com?authuser=liamtrask@gmail.com&project=euphoric-drive-472720-t8\n",
      "2. Click 'MANAGE' button\n",
      "3. Click 'DISABLE API'\n",
      "4. Confirm the action\n",
      "\n",
      "⚠️  Warning: Disabling this API will prevent GDriveFiles from working\n",
      "   until you re-enable it.\n",
      "\n"
     ]
    }
   ],
   "source": [
    "client.platforms.google_personal.gdrive_files.disable_api()"
   ]
  },
  {
   "cell_type": "code",
   "execution_count": 16,
   "id": "08d20bfe-c2fa-43c3-b0a7-9d011d0b1494",
   "metadata": {},
   "outputs": [
    {
     "data": {
      "text/html": [
       "<pre style=\"white-space:pre;overflow-x:auto;line-height:normal;font-family:Menlo,'DejaVu Sans Mono',consolas,'Courier New',monospace\">╭──────── SyftClient.email = 'liamtrask@gmail.com' ─────────╮\n",
       "│                                                           │\n",
       "│  <span style=\"color: #7f7f7f; text-decoration-color: #7f7f7f\">.folder</span> = /Users/atrask/SyftBox/liamtrask_at_gmail_com   │\n",
       "│                                                           │\n",
       "│  <span style=\"color: #7f7f7f; text-decoration-color: #7f7f7f\">.platforms</span>                                               │\n",
       "│    <span style=\"color: #808000; text-decoration-color: #808000; font-weight: bold\">.google_personal</span> <span style=\"color: #7f7f7f; text-decoration-color: #7f7f7f\">(project: euphoric-drive-472720-t8)</span>   │\n",
       "│      <span style=\"color: #008000; text-decoration-color: #008000\">✓</span> <span style=\"color: #008000; text-decoration-color: #008000\">✓</span> <span style=\"color: #008000; text-decoration-color: #008000\">.gmail</span>                                           │\n",
       "│      <span style=\"color: #800000; text-decoration-color: #800000\">✗</span> <span style=\"color: #008000; text-decoration-color: #008000\">✓</span> <span style=\"color: #7f7f7f; text-decoration-color: #7f7f7f\">.gdrive_files</span> <span style=\"color: #7f7f7f; text-decoration-color: #7f7f7f\">(call .gdrive_files.enable_api())</span>  │\n",
       "│      <span style=\"color: #008000; text-decoration-color: #008000\">✓</span> <span style=\"color: #008000; text-decoration-color: #008000\">✓</span> <span style=\"color: #008000; text-decoration-color: #008000\">.gsheets</span>                                         │\n",
       "│      <span style=\"color: #008000; text-decoration-color: #008000\">✓</span> <span style=\"color: #008000; text-decoration-color: #008000\">✓</span> <span style=\"color: #008000; text-decoration-color: #008000\">.gforms</span>                                          │\n",
       "│                                                           │\n",
       "╰───────────────────────────────────────────────────────────╯\n",
       "</pre>\n"
      ],
      "text/plain": [
       "╭──────── SyftClient.email = 'liamtrask@gmail.com' ─────────╮\n",
       "│                                                           │\n",
       "│  \u001b[2m.folder\u001b[0m = /Users/atrask/SyftBox/liamtrask_at_gmail_com   │\n",
       "│                                                           │\n",
       "│  \u001b[2m.platforms\u001b[0m                                               │\n",
       "│    \u001b[1;33m.google_personal\u001b[0m \u001b[2m(project: euphoric-drive-472720-t8)\u001b[0m   │\n",
       "│      \u001b[32m✓\u001b[0m \u001b[32m✓\u001b[0m \u001b[32m.gmail\u001b[0m                                           │\n",
       "│      \u001b[31m✗\u001b[0m \u001b[32m✓\u001b[0m \u001b[2m.gdrive_files\u001b[0m \u001b[2m(call .gdrive_files.enable_api())\u001b[0m  │\n",
       "│      \u001b[32m✓\u001b[0m \u001b[32m✓\u001b[0m \u001b[32m.gsheets\u001b[0m                                         │\n",
       "│      \u001b[32m✓\u001b[0m \u001b[32m✓\u001b[0m \u001b[32m.gforms\u001b[0m                                          │\n",
       "│                                                           │\n",
       "╰───────────────────────────────────────────────────────────╯\n"
      ]
     },
     "metadata": {},
     "output_type": "display_data"
    },
    {
     "data": {
      "text/plain": []
     },
     "execution_count": 16,
     "metadata": {},
     "output_type": "execute_result"
    }
   ],
   "source": [
    "client"
   ]
  },
  {
   "cell_type": "code",
   "execution_count": 17,
   "id": "2dbe3874-87e9-484c-b424-d7e080277ea2",
   "metadata": {},
   "outputs": [
    {
     "name": "stdout",
     "output_type": "stream",
     "text": [
      "\n",
      "⚠️  GDriveFiles API is not enabled!\n",
      "\n",
      "To fix this:\n",
      "1. Open: https://console.cloud.google.com/marketplace/product/google/drive.googleapis.com?authuser=liamtrask@gmail.com&project=euphoric-drive-472720-t8\n",
      "2. Click 'ENABLE'\n",
      "3. Wait a few minutes for the change to propagate\n",
      "4. Try again\n"
     ]
    },
    {
     "name": "stdin",
     "output_type": "stream",
     "text": [
      "\n",
      "Press Enter after enabling the API... \n"
     ]
    },
    {
     "name": "stdout",
     "output_type": "stream",
     "text": [
      "\n",
      "🔍 Checking if API is enabled...\n",
      "✓ API is now enabled and working!\n"
     ]
    }
   ],
   "source": [
    "client.platforms.google_personal.gdrive_files.enable_api()"
   ]
  },
  {
   "cell_type": "code",
   "execution_count": 18,
   "id": "93e99502-7817-4aaf-b47f-9497525c06d6",
   "metadata": {},
   "outputs": [
    {
     "data": {
      "text/html": [
       "<pre style=\"white-space:pre;overflow-x:auto;line-height:normal;font-family:Menlo,'DejaVu Sans Mono',consolas,'Courier New',monospace\">╭──────── SyftClient.email = 'liamtrask@gmail.com' ────────╮\n",
       "│                                                          │\n",
       "│  <span style=\"color: #7f7f7f; text-decoration-color: #7f7f7f\">.folder</span> = /Users/atrask/SyftBox/liamtrask_at_gmail_com  │\n",
       "│                                                          │\n",
       "│  <span style=\"color: #7f7f7f; text-decoration-color: #7f7f7f\">.platforms</span>                                              │\n",
       "│    <span style=\"color: #808000; text-decoration-color: #808000; font-weight: bold\">.google_personal</span> <span style=\"color: #7f7f7f; text-decoration-color: #7f7f7f\">(project: euphoric-drive-472720-t8)</span>  │\n",
       "│      <span style=\"color: #008000; text-decoration-color: #008000\">✓</span> <span style=\"color: #008000; text-decoration-color: #008000\">✓</span> <span style=\"color: #008000; text-decoration-color: #008000\">.gmail</span>                                          │\n",
       "│      <span style=\"color: #008000; text-decoration-color: #008000\">✓</span> <span style=\"color: #008000; text-decoration-color: #008000\">✓</span> <span style=\"color: #008000; text-decoration-color: #008000\">.gdrive_files</span>                                   │\n",
       "│      <span style=\"color: #008000; text-decoration-color: #008000\">✓</span> <span style=\"color: #008000; text-decoration-color: #008000\">✓</span> <span style=\"color: #008000; text-decoration-color: #008000\">.gsheets</span>                                        │\n",
       "│      <span style=\"color: #008000; text-decoration-color: #008000\">✓</span> <span style=\"color: #008000; text-decoration-color: #008000\">✓</span> <span style=\"color: #008000; text-decoration-color: #008000\">.gforms</span>                                         │\n",
       "│                                                          │\n",
       "╰──────────────────────────────────────────────────────────╯\n",
       "</pre>\n"
      ],
      "text/plain": [
       "╭──────── SyftClient.email = 'liamtrask@gmail.com' ────────╮\n",
       "│                                                          │\n",
       "│  \u001b[2m.folder\u001b[0m = /Users/atrask/SyftBox/liamtrask_at_gmail_com  │\n",
       "│                                                          │\n",
       "│  \u001b[2m.platforms\u001b[0m                                              │\n",
       "│    \u001b[1;33m.google_personal\u001b[0m \u001b[2m(project: euphoric-drive-472720-t8)\u001b[0m  │\n",
       "│      \u001b[32m✓\u001b[0m \u001b[32m✓\u001b[0m \u001b[32m.gmail\u001b[0m                                          │\n",
       "│      \u001b[32m✓\u001b[0m \u001b[32m✓\u001b[0m \u001b[32m.gdrive_files\u001b[0m                                   │\n",
       "│      \u001b[32m✓\u001b[0m \u001b[32m✓\u001b[0m \u001b[32m.gsheets\u001b[0m                                        │\n",
       "│      \u001b[32m✓\u001b[0m \u001b[32m✓\u001b[0m \u001b[32m.gforms\u001b[0m                                         │\n",
       "│                                                          │\n",
       "╰──────────────────────────────────────────────────────────╯\n"
      ]
     },
     "metadata": {},
     "output_type": "display_data"
    },
    {
     "data": {
      "text/plain": []
     },
     "execution_count": 18,
     "metadata": {},
     "output_type": "execute_result"
    }
   ],
   "source": [
    "client"
   ]
  },
  {
   "cell_type": "markdown",
   "id": "d894a028-5435-4a63-8725-531187ec0c14",
   "metadata": {},
   "source": [
    "## Test 1.3 - GSheets API"
   ]
  },
  {
   "cell_type": "code",
   "execution_count": 19,
   "id": "637c9c5d-ffcc-4a5a-a530-dc1c95d1b8b8",
   "metadata": {},
   "outputs": [
    {
     "name": "stdout",
     "output_type": "stream",
     "text": [
      "\n",
      "📌 How to disable GSheets API:\n",
      "\n",
      "1. Open: https://console.cloud.google.com/marketplace/product/google/sheets.googleapis.com?authuser=liamtrask@gmail.com&project=euphoric-drive-472720-t8\n",
      "2. Click 'MANAGE' button\n",
      "3. Click 'DISABLE API'\n",
      "4. Confirm the action\n",
      "\n",
      "⚠️  Warning: Disabling this API will prevent GSheets from working\n",
      "   until you re-enable it.\n",
      "\n"
     ]
    }
   ],
   "source": [
    "client.platforms.google_personal.gsheets.disable_api()"
   ]
  },
  {
   "cell_type": "code",
   "execution_count": 20,
   "id": "cfd3a3d7-8489-49f6-8d88-ec6a8a38ddda",
   "metadata": {},
   "outputs": [
    {
     "data": {
      "text/html": [
       "<pre style=\"white-space:pre;overflow-x:auto;line-height:normal;font-family:Menlo,'DejaVu Sans Mono',consolas,'Courier New',monospace\">╭──────── SyftClient.email = 'liamtrask@gmail.com' ────────╮\n",
       "│                                                          │\n",
       "│  <span style=\"color: #7f7f7f; text-decoration-color: #7f7f7f\">.folder</span> = /Users/atrask/SyftBox/liamtrask_at_gmail_com  │\n",
       "│                                                          │\n",
       "│  <span style=\"color: #7f7f7f; text-decoration-color: #7f7f7f\">.platforms</span>                                              │\n",
       "│    <span style=\"color: #808000; text-decoration-color: #808000; font-weight: bold\">.google_personal</span> <span style=\"color: #7f7f7f; text-decoration-color: #7f7f7f\">(project: euphoric-drive-472720-t8)</span>  │\n",
       "│      <span style=\"color: #008000; text-decoration-color: #008000\">✓</span> <span style=\"color: #008000; text-decoration-color: #008000\">✓</span> <span style=\"color: #008000; text-decoration-color: #008000\">.gmail</span>                                          │\n",
       "│      <span style=\"color: #008000; text-decoration-color: #008000\">✓</span> <span style=\"color: #008000; text-decoration-color: #008000\">✓</span> <span style=\"color: #008000; text-decoration-color: #008000\">.gdrive_files</span>                                   │\n",
       "│      <span style=\"color: #800000; text-decoration-color: #800000\">✗</span> <span style=\"color: #008000; text-decoration-color: #008000\">✓</span> <span style=\"color: #7f7f7f; text-decoration-color: #7f7f7f\">.gsheets</span> <span style=\"color: #7f7f7f; text-decoration-color: #7f7f7f\">(call .gsheets.enable_api())</span>           │\n",
       "│      <span style=\"color: #008000; text-decoration-color: #008000\">✓</span> <span style=\"color: #008000; text-decoration-color: #008000\">✓</span> <span style=\"color: #008000; text-decoration-color: #008000\">.gforms</span>                                         │\n",
       "│                                                          │\n",
       "╰──────────────────────────────────────────────────────────╯\n",
       "</pre>\n"
      ],
      "text/plain": [
       "╭──────── SyftClient.email = 'liamtrask@gmail.com' ────────╮\n",
       "│                                                          │\n",
       "│  \u001b[2m.folder\u001b[0m = /Users/atrask/SyftBox/liamtrask_at_gmail_com  │\n",
       "│                                                          │\n",
       "│  \u001b[2m.platforms\u001b[0m                                              │\n",
       "│    \u001b[1;33m.google_personal\u001b[0m \u001b[2m(project: euphoric-drive-472720-t8)\u001b[0m  │\n",
       "│      \u001b[32m✓\u001b[0m \u001b[32m✓\u001b[0m \u001b[32m.gmail\u001b[0m                                          │\n",
       "│      \u001b[32m✓\u001b[0m \u001b[32m✓\u001b[0m \u001b[32m.gdrive_files\u001b[0m                                   │\n",
       "│      \u001b[31m✗\u001b[0m \u001b[32m✓\u001b[0m \u001b[2m.gsheets\u001b[0m \u001b[2m(call .gsheets.enable_api())\u001b[0m           │\n",
       "│      \u001b[32m✓\u001b[0m \u001b[32m✓\u001b[0m \u001b[32m.gforms\u001b[0m                                         │\n",
       "│                                                          │\n",
       "╰──────────────────────────────────────────────────────────╯\n"
      ]
     },
     "metadata": {},
     "output_type": "display_data"
    },
    {
     "data": {
      "text/plain": []
     },
     "execution_count": 20,
     "metadata": {},
     "output_type": "execute_result"
    }
   ],
   "source": [
    "client"
   ]
  },
  {
   "cell_type": "code",
   "execution_count": 21,
   "id": "5dcec17c-3343-414d-b04c-663e401889a5",
   "metadata": {},
   "outputs": [
    {
     "name": "stdout",
     "output_type": "stream",
     "text": [
      "\n",
      "⚠️  GSheets API is not enabled!\n",
      "\n",
      "To fix this:\n",
      "1. Open: https://console.cloud.google.com/marketplace/product/google/sheets.googleapis.com?authuser=liamtrask@gmail.com&project=euphoric-drive-472720-t8\n",
      "2. Click 'ENABLE'\n",
      "3. Wait a few minutes for the change to propagate\n",
      "4. Try again\n"
     ]
    },
    {
     "name": "stdin",
     "output_type": "stream",
     "text": [
      "\n",
      "Press Enter after enabling the API... \n"
     ]
    },
    {
     "name": "stdout",
     "output_type": "stream",
     "text": [
      "\n",
      "🔍 Checking if API is enabled...\n",
      "✓ API is now enabled and working!\n"
     ]
    }
   ],
   "source": [
    "client.platforms.google_personal.gsheets.enable_api()"
   ]
  },
  {
   "cell_type": "code",
   "execution_count": 22,
   "id": "faa64c95-6f54-4237-a2c2-3f0ff39965af",
   "metadata": {},
   "outputs": [
    {
     "data": {
      "text/html": [
       "<pre style=\"white-space:pre;overflow-x:auto;line-height:normal;font-family:Menlo,'DejaVu Sans Mono',consolas,'Courier New',monospace\">╭──────── SyftClient.email = 'liamtrask@gmail.com' ────────╮\n",
       "│                                                          │\n",
       "│  <span style=\"color: #7f7f7f; text-decoration-color: #7f7f7f\">.folder</span> = /Users/atrask/SyftBox/liamtrask_at_gmail_com  │\n",
       "│                                                          │\n",
       "│  <span style=\"color: #7f7f7f; text-decoration-color: #7f7f7f\">.platforms</span>                                              │\n",
       "│    <span style=\"color: #808000; text-decoration-color: #808000; font-weight: bold\">.google_personal</span> <span style=\"color: #7f7f7f; text-decoration-color: #7f7f7f\">(project: euphoric-drive-472720-t8)</span>  │\n",
       "│      <span style=\"color: #008000; text-decoration-color: #008000\">✓</span> <span style=\"color: #008000; text-decoration-color: #008000\">✓</span> <span style=\"color: #008000; text-decoration-color: #008000\">.gmail</span>                                          │\n",
       "│      <span style=\"color: #008000; text-decoration-color: #008000\">✓</span> <span style=\"color: #008000; text-decoration-color: #008000\">✓</span> <span style=\"color: #008000; text-decoration-color: #008000\">.gdrive_files</span>                                   │\n",
       "│      <span style=\"color: #008000; text-decoration-color: #008000\">✓</span> <span style=\"color: #008000; text-decoration-color: #008000\">✓</span> <span style=\"color: #008000; text-decoration-color: #008000\">.gsheets</span>                                        │\n",
       "│      <span style=\"color: #008000; text-decoration-color: #008000\">✓</span> <span style=\"color: #008000; text-decoration-color: #008000\">✓</span> <span style=\"color: #008000; text-decoration-color: #008000\">.gforms</span>                                         │\n",
       "│                                                          │\n",
       "╰──────────────────────────────────────────────────────────╯\n",
       "</pre>\n"
      ],
      "text/plain": [
       "╭──────── SyftClient.email = 'liamtrask@gmail.com' ────────╮\n",
       "│                                                          │\n",
       "│  \u001b[2m.folder\u001b[0m = /Users/atrask/SyftBox/liamtrask_at_gmail_com  │\n",
       "│                                                          │\n",
       "│  \u001b[2m.platforms\u001b[0m                                              │\n",
       "│    \u001b[1;33m.google_personal\u001b[0m \u001b[2m(project: euphoric-drive-472720-t8)\u001b[0m  │\n",
       "│      \u001b[32m✓\u001b[0m \u001b[32m✓\u001b[0m \u001b[32m.gmail\u001b[0m                                          │\n",
       "│      \u001b[32m✓\u001b[0m \u001b[32m✓\u001b[0m \u001b[32m.gdrive_files\u001b[0m                                   │\n",
       "│      \u001b[32m✓\u001b[0m \u001b[32m✓\u001b[0m \u001b[32m.gsheets\u001b[0m                                        │\n",
       "│      \u001b[32m✓\u001b[0m \u001b[32m✓\u001b[0m \u001b[32m.gforms\u001b[0m                                         │\n",
       "│                                                          │\n",
       "╰──────────────────────────────────────────────────────────╯\n"
      ]
     },
     "metadata": {},
     "output_type": "display_data"
    },
    {
     "data": {
      "text/plain": []
     },
     "execution_count": 22,
     "metadata": {},
     "output_type": "execute_result"
    }
   ],
   "source": [
    "client"
   ]
  },
  {
   "cell_type": "markdown",
   "id": "d4ddbe0c-b8df-45f1-b5ce-5ed51e09a8f4",
   "metadata": {},
   "source": [
    "## Test 1.4 - GForms API"
   ]
  },
  {
   "cell_type": "code",
   "execution_count": 23,
   "id": "ee5387bc-9746-47b5-b9e6-1846824bb0ad",
   "metadata": {},
   "outputs": [
    {
     "name": "stdout",
     "output_type": "stream",
     "text": [
      "\n",
      "📌 How to disable GForms API:\n",
      "\n",
      "1. Open: https://console.cloud.google.com/marketplace/product/google/forms.googleapis.com?authuser=liamtrask@gmail.com&project=euphoric-drive-472720-t8\n",
      "2. Click 'MANAGE' button\n",
      "3. Click 'DISABLE API'\n",
      "4. Confirm the action\n",
      "\n",
      "⚠️  Warning: Disabling this API will prevent GForms from working\n",
      "   until you re-enable it.\n",
      "\n"
     ]
    }
   ],
   "source": [
    "client.platforms.google_personal.gforms.disable_api()"
   ]
  },
  {
   "cell_type": "code",
   "execution_count": 25,
   "id": "fb8af3ad-9f9b-41e6-982a-8093e73e5fb3",
   "metadata": {},
   "outputs": [
    {
     "data": {
      "text/html": [
       "<pre style=\"white-space:pre;overflow-x:auto;line-height:normal;font-family:Menlo,'DejaVu Sans Mono',consolas,'Courier New',monospace\">╭──────── SyftClient.email = 'liamtrask@gmail.com' ────────╮\n",
       "│                                                          │\n",
       "│  <span style=\"color: #7f7f7f; text-decoration-color: #7f7f7f\">.folder</span> = /Users/atrask/SyftBox/liamtrask_at_gmail_com  │\n",
       "│                                                          │\n",
       "│  <span style=\"color: #7f7f7f; text-decoration-color: #7f7f7f\">.platforms</span>                                              │\n",
       "│    <span style=\"color: #808000; text-decoration-color: #808000; font-weight: bold\">.google_personal</span> <span style=\"color: #7f7f7f; text-decoration-color: #7f7f7f\">(project: euphoric-drive-472720-t8)</span>  │\n",
       "│      <span style=\"color: #008000; text-decoration-color: #008000\">✓</span> <span style=\"color: #008000; text-decoration-color: #008000\">✓</span> <span style=\"color: #008000; text-decoration-color: #008000\">.gmail</span>                                          │\n",
       "│      <span style=\"color: #008000; text-decoration-color: #008000\">✓</span> <span style=\"color: #008000; text-decoration-color: #008000\">✓</span> <span style=\"color: #008000; text-decoration-color: #008000\">.gdrive_files</span>                                   │\n",
       "│      <span style=\"color: #008000; text-decoration-color: #008000\">✓</span> <span style=\"color: #008000; text-decoration-color: #008000\">✓</span> <span style=\"color: #008000; text-decoration-color: #008000\">.gsheets</span>                                        │\n",
       "│      <span style=\"color: #800000; text-decoration-color: #800000\">✗</span> <span style=\"color: #008000; text-decoration-color: #008000\">✓</span> <span style=\"color: #7f7f7f; text-decoration-color: #7f7f7f\">.gforms</span> <span style=\"color: #7f7f7f; text-decoration-color: #7f7f7f\">(call .gforms.enable_api())</span>             │\n",
       "│                                                          │\n",
       "╰──────────────────────────────────────────────────────────╯\n",
       "</pre>\n"
      ],
      "text/plain": [
       "╭──────── SyftClient.email = 'liamtrask@gmail.com' ────────╮\n",
       "│                                                          │\n",
       "│  \u001b[2m.folder\u001b[0m = /Users/atrask/SyftBox/liamtrask_at_gmail_com  │\n",
       "│                                                          │\n",
       "│  \u001b[2m.platforms\u001b[0m                                              │\n",
       "│    \u001b[1;33m.google_personal\u001b[0m \u001b[2m(project: euphoric-drive-472720-t8)\u001b[0m  │\n",
       "│      \u001b[32m✓\u001b[0m \u001b[32m✓\u001b[0m \u001b[32m.gmail\u001b[0m                                          │\n",
       "│      \u001b[32m✓\u001b[0m \u001b[32m✓\u001b[0m \u001b[32m.gdrive_files\u001b[0m                                   │\n",
       "│      \u001b[32m✓\u001b[0m \u001b[32m✓\u001b[0m \u001b[32m.gsheets\u001b[0m                                        │\n",
       "│      \u001b[31m✗\u001b[0m \u001b[32m✓\u001b[0m \u001b[2m.gforms\u001b[0m \u001b[2m(call .gforms.enable_api())\u001b[0m             │\n",
       "│                                                          │\n",
       "╰──────────────────────────────────────────────────────────╯\n"
      ]
     },
     "metadata": {},
     "output_type": "display_data"
    },
    {
     "data": {
      "text/plain": []
     },
     "execution_count": 25,
     "metadata": {},
     "output_type": "execute_result"
    }
   ],
   "source": [
    "client"
   ]
  },
  {
   "cell_type": "code",
   "execution_count": 26,
   "id": "0878a7df-c7b7-43d7-9ee7-0f65bead5715",
   "metadata": {},
   "outputs": [
    {
     "name": "stdout",
     "output_type": "stream",
     "text": [
      "\n",
      "⚠️  GForms API is not enabled!\n",
      "\n",
      "To fix this:\n",
      "1. Open: https://console.cloud.google.com/marketplace/product/google/forms.googleapis.com?authuser=liamtrask@gmail.com&project=euphoric-drive-472720-t8\n",
      "2. Click 'ENABLE'\n",
      "3. Wait a few minutes for the change to propagate\n",
      "4. Try again\n"
     ]
    },
    {
     "name": "stdin",
     "output_type": "stream",
     "text": [
      "\n",
      "Press Enter after enabling the API... \n"
     ]
    },
    {
     "name": "stdout",
     "output_type": "stream",
     "text": [
      "\n",
      "🔍 Checking if API is enabled...\n",
      "✓ API is now enabled and working!\n"
     ]
    }
   ],
   "source": [
    "client.platforms.google_personal.gforms.enable_api()"
   ]
  },
  {
   "cell_type": "code",
   "execution_count": 28,
   "id": "5da702a8-bf43-493d-81dd-39b7a7f3f63b",
   "metadata": {},
   "outputs": [
    {
     "data": {
      "text/html": [
       "<pre style=\"white-space:pre;overflow-x:auto;line-height:normal;font-family:Menlo,'DejaVu Sans Mono',consolas,'Courier New',monospace\">╭──────── SyftClient.email = 'liamtrask@gmail.com' ────────╮\n",
       "│                                                          │\n",
       "│  <span style=\"color: #7f7f7f; text-decoration-color: #7f7f7f\">.folder</span> = /Users/atrask/SyftBox/liamtrask_at_gmail_com  │\n",
       "│                                                          │\n",
       "│  <span style=\"color: #7f7f7f; text-decoration-color: #7f7f7f\">.platforms</span>                                              │\n",
       "│    <span style=\"color: #808000; text-decoration-color: #808000; font-weight: bold\">.google_personal</span> <span style=\"color: #7f7f7f; text-decoration-color: #7f7f7f\">(project: euphoric-drive-472720-t8)</span>  │\n",
       "│      <span style=\"color: #008000; text-decoration-color: #008000\">✓</span> <span style=\"color: #008000; text-decoration-color: #008000\">✓</span> <span style=\"color: #008000; text-decoration-color: #008000\">.gmail</span>                                          │\n",
       "│      <span style=\"color: #008000; text-decoration-color: #008000\">✓</span> <span style=\"color: #008000; text-decoration-color: #008000\">✓</span> <span style=\"color: #008000; text-decoration-color: #008000\">.gdrive_files</span>                                   │\n",
       "│      <span style=\"color: #008000; text-decoration-color: #008000\">✓</span> <span style=\"color: #008000; text-decoration-color: #008000\">✓</span> <span style=\"color: #008000; text-decoration-color: #008000\">.gsheets</span>                                        │\n",
       "│      <span style=\"color: #008000; text-decoration-color: #008000\">✓</span> <span style=\"color: #008000; text-decoration-color: #008000\">✓</span> <span style=\"color: #008000; text-decoration-color: #008000\">.gforms</span>                                         │\n",
       "│                                                          │\n",
       "╰──────────────────────────────────────────────────────────╯\n",
       "</pre>\n"
      ],
      "text/plain": [
       "╭──────── SyftClient.email = 'liamtrask@gmail.com' ────────╮\n",
       "│                                                          │\n",
       "│  \u001b[2m.folder\u001b[0m = /Users/atrask/SyftBox/liamtrask_at_gmail_com  │\n",
       "│                                                          │\n",
       "│  \u001b[2m.platforms\u001b[0m                                              │\n",
       "│    \u001b[1;33m.google_personal\u001b[0m \u001b[2m(project: euphoric-drive-472720-t8)\u001b[0m  │\n",
       "│      \u001b[32m✓\u001b[0m \u001b[32m✓\u001b[0m \u001b[32m.gmail\u001b[0m                                          │\n",
       "│      \u001b[32m✓\u001b[0m \u001b[32m✓\u001b[0m \u001b[32m.gdrive_files\u001b[0m                                   │\n",
       "│      \u001b[32m✓\u001b[0m \u001b[32m✓\u001b[0m \u001b[32m.gsheets\u001b[0m                                        │\n",
       "│      \u001b[32m✓\u001b[0m \u001b[32m✓\u001b[0m \u001b[32m.gforms\u001b[0m                                         │\n",
       "│                                                          │\n",
       "╰──────────────────────────────────────────────────────────╯\n"
      ]
     },
     "metadata": {},
     "output_type": "display_data"
    },
    {
     "data": {
      "text/plain": []
     },
     "execution_count": 28,
     "metadata": {},
     "output_type": "execute_result"
    }
   ],
   "source": [
    "client"
   ]
  },
  {
   "cell_type": "markdown",
   "id": "ca50de0e-97f3-4b10-85df-d2c273cf3064",
   "metadata": {},
   "source": [
    "# Test 2: test what happens if you have a project already"
   ]
  },
  {
   "cell_type": "code",
   "execution_count": 30,
   "id": "56dca26f-8dec-4118-b158-11c0a7d1db90",
   "metadata": {},
   "outputs": [
    {
     "name": "stdout",
     "output_type": "stream",
     "text": [
      "No wallet directory found at ~/.syft\n"
     ]
    },
    {
     "data": {
      "text/plain": [
       "True"
      ]
     },
     "execution_count": 30,
     "metadata": {},
     "output_type": "execute_result"
    }
   ],
   "source": [
    "sc.reset_wallet()"
   ]
  },
  {
   "cell_type": "code",
   "execution_count": null,
   "id": "a3913e1f-6da3-4d1a-9b41-0d658cb26c4f",
   "metadata": {},
   "outputs": [
    {
     "name": "stdout",
     "output_type": "stream",
     "text": [
      "\n",
      "❌ No OAuth2 credentials found.\n",
      "Let's create them now!\n"
     ]
    }
   ],
   "source": [
    "client = sc.login(\"liamtrask@gmail.com\", init_transport=False)"
   ]
  },
  {
   "cell_type": "code",
   "execution_count": null,
   "id": "e476100e-0d66-478b-91b6-d706cb14ef60",
   "metadata": {},
   "outputs": [],
   "source": []
  },
  {
   "cell_type": "markdown",
   "id": "5a5df319-6870-4881-a357-2e393bf1e3ad",
   "metadata": {},
   "source": [
    "# Test 1: Login Speed when init_transport=False"
   ]
  },
  {
   "cell_type": "code",
   "execution_count": 10,
   "id": "18e527b8-28a6-4d98-b562-06b056ace1dc",
   "metadata": {},
   "outputs": [
    {
     "name": "stdout",
     "output_type": "stream",
     "text": [
      "523 μs ± 93.5 μs per loop (mean ± std. dev. of 7 runs, 1,000 loops each)\n"
     ]
    }
   ],
   "source": [
    "%%timeit\n",
    "client = sc.login(\"liamtrask@gmail.com\", init_transport=False)"
   ]
  },
  {
   "cell_type": "markdown",
   "id": "20cae1bc-c81a-42ef-9876-bca501066cc7",
   "metadata": {},
   "source": [
    "# Test 2: Test login(init_transport=False)"
   ]
  },
  {
   "cell_type": "code",
   "execution_count": 11,
   "id": "7c794820-49b9-4a7e-9481-0bb9edd8bad7",
   "metadata": {},
   "outputs": [],
   "source": [
    "client = sc.login(\"liamtrask@gmail.com\", init_transport=False)"
   ]
  },
  {
   "cell_type": "markdown",
   "id": "39dde3b4-1c46-454c-a338-d1a591c8c596",
   "metadata": {},
   "source": [
    "# Test 3: Test __repr__ has .folder and .google_personal with transports logged out"
   ]
  },
  {
   "cell_type": "code",
   "execution_count": 12,
   "id": "9846cf1f-c555-42f2-86b4-40a9432dccb4",
   "metadata": {},
   "outputs": [
    {
     "data": {
      "text/html": [
       "<pre style=\"white-space:pre;overflow-x:auto;line-height:normal;font-family:Menlo,'DejaVu Sans Mono',consolas,'Courier New',monospace\">╭──────── SyftClient.email = 'liamtrask@gmail.com' ────────╮\n",
       "│                                                          │\n",
       "│  <span style=\"color: #7f7f7f; text-decoration-color: #7f7f7f\">.folder</span> = /Users/atrask/SyftBox/liamtrask_at_gmail_com  │\n",
       "│                                                          │\n",
       "│  <span style=\"color: #7f7f7f; text-decoration-color: #7f7f7f\">.platforms</span>                                              │\n",
       "│    <span style=\"color: #808000; text-decoration-color: #808000; font-weight: bold\">.google_personal</span>                                      │\n",
       "│      <span style=\"color: #7f7f7f; text-decoration-color: #7f7f7f\">✗</span> <span style=\"color: #7f7f7f; text-decoration-color: #7f7f7f\">.gmail</span> <span style=\"color: #7f7f7f; text-decoration-color: #7f7f7f\">(call .init() to initialize)</span>               │\n",
       "│      <span style=\"color: #7f7f7f; text-decoration-color: #7f7f7f\">✗</span> <span style=\"color: #7f7f7f; text-decoration-color: #7f7f7f\">.gdrive_files</span> <span style=\"color: #7f7f7f; text-decoration-color: #7f7f7f\">(call .init() to initialize)</span>        │\n",
       "│      <span style=\"color: #7f7f7f; text-decoration-color: #7f7f7f\">✗</span> <span style=\"color: #7f7f7f; text-decoration-color: #7f7f7f\">.gsheets</span> <span style=\"color: #7f7f7f; text-decoration-color: #7f7f7f\">(call .init() to initialize)</span>             │\n",
       "│      <span style=\"color: #7f7f7f; text-decoration-color: #7f7f7f\">✗</span> <span style=\"color: #7f7f7f; text-decoration-color: #7f7f7f\">.gforms</span> <span style=\"color: #7f7f7f; text-decoration-color: #7f7f7f\">(call .init() to initialize)</span>              │\n",
       "│                                                          │\n",
       "╰──────────────────────────────────────────────────────────╯\n",
       "</pre>\n"
      ],
      "text/plain": [
       "╭──────── SyftClient.email = 'liamtrask@gmail.com' ────────╮\n",
       "│                                                          │\n",
       "│  \u001b[2m.folder\u001b[0m = /Users/atrask/SyftBox/liamtrask_at_gmail_com  │\n",
       "│                                                          │\n",
       "│  \u001b[2m.platforms\u001b[0m                                              │\n",
       "│    \u001b[1;33m.google_personal\u001b[0m                                      │\n",
       "│      \u001b[2m✗\u001b[0m \u001b[2m.gmail\u001b[0m \u001b[2m(call .init() to initialize)\u001b[0m               │\n",
       "│      \u001b[2m✗\u001b[0m \u001b[2m.gdrive_files\u001b[0m \u001b[2m(call .init() to initialize)\u001b[0m        │\n",
       "│      \u001b[2m✗\u001b[0m \u001b[2m.gsheets\u001b[0m \u001b[2m(call .init() to initialize)\u001b[0m             │\n",
       "│      \u001b[2m✗\u001b[0m \u001b[2m.gforms\u001b[0m \u001b[2m(call .init() to initialize)\u001b[0m              │\n",
       "│                                                          │\n",
       "╰──────────────────────────────────────────────────────────╯\n"
      ]
     },
     "metadata": {},
     "output_type": "display_data"
    },
    {
     "data": {
      "text/plain": []
     },
     "execution_count": 12,
     "metadata": {},
     "output_type": "execute_result"
    }
   ],
   "source": [
    "client"
   ]
  },
  {
   "cell_type": "code",
   "execution_count": 13,
   "id": "ebd6f173-352f-4013-b7f8-fefd9ab055c3",
   "metadata": {},
   "outputs": [
    {
     "data": {
      "text/html": [
       "<pre style=\"white-space:pre;overflow-x:auto;line-height:normal;font-family:Menlo,'DejaVu Sans Mono',consolas,'Courier New',monospace\">╭─────────────────── Platforms ────────────────────╮\n",
       "│                                                  │\n",
       "│  <span style=\"color: #808000; text-decoration-color: #808000; font-weight: bold\">.google_personal</span>                                │\n",
       "│    <span style=\"color: #7f7f7f; text-decoration-color: #7f7f7f\">✗</span> <span style=\"color: #7f7f7f; text-decoration-color: #7f7f7f\">.gmail</span> <span style=\"color: #7f7f7f; text-decoration-color: #7f7f7f\">(call .init() to initialize)</span>         │\n",
       "│    <span style=\"color: #7f7f7f; text-decoration-color: #7f7f7f\">✗</span> <span style=\"color: #7f7f7f; text-decoration-color: #7f7f7f\">.gdrive_files</span> <span style=\"color: #7f7f7f; text-decoration-color: #7f7f7f\">(call .init() to initialize)</span>  │\n",
       "│    <span style=\"color: #7f7f7f; text-decoration-color: #7f7f7f\">✗</span> <span style=\"color: #7f7f7f; text-decoration-color: #7f7f7f\">.gsheets</span> <span style=\"color: #7f7f7f; text-decoration-color: #7f7f7f\">(call .init() to initialize)</span>       │\n",
       "│    <span style=\"color: #7f7f7f; text-decoration-color: #7f7f7f\">✗</span> <span style=\"color: #7f7f7f; text-decoration-color: #7f7f7f\">.gforms</span> <span style=\"color: #7f7f7f; text-decoration-color: #7f7f7f\">(call .init() to initialize)</span>        │\n",
       "│                                                  │\n",
       "╰──────────────────────────────────────────────────╯\n",
       "</pre>\n"
      ],
      "text/plain": [
       "╭─────────────────── Platforms ────────────────────╮\n",
       "│                                                  │\n",
       "│  \u001b[1;33m.google_personal\u001b[0m                                │\n",
       "│    \u001b[2m✗\u001b[0m \u001b[2m.gmail\u001b[0m \u001b[2m(call .init() to initialize)\u001b[0m         │\n",
       "│    \u001b[2m✗\u001b[0m \u001b[2m.gdrive_files\u001b[0m \u001b[2m(call .init() to initialize)\u001b[0m  │\n",
       "│    \u001b[2m✗\u001b[0m \u001b[2m.gsheets\u001b[0m \u001b[2m(call .init() to initialize)\u001b[0m       │\n",
       "│    \u001b[2m✗\u001b[0m \u001b[2m.gforms\u001b[0m \u001b[2m(call .init() to initialize)\u001b[0m        │\n",
       "│                                                  │\n",
       "╰──────────────────────────────────────────────────╯\n"
      ]
     },
     "metadata": {},
     "output_type": "display_data"
    },
    {
     "data": {
      "text/plain": []
     },
     "execution_count": 13,
     "metadata": {},
     "output_type": "execute_result"
    }
   ],
   "source": [
    "client.platforms"
   ]
  },
  {
   "cell_type": "code",
   "execution_count": 14,
   "id": "8f956c56-406b-4775-b8eb-9ebf35d8b720",
   "metadata": {},
   "outputs": [
    {
     "data": {
      "text/html": [
       "<pre style=\"white-space:pre;overflow-x:auto;line-height:normal;font-family:Menlo,'DejaVu Sans Mono',consolas,'Courier New',monospace\">╭──────── GooglePersonalClient(email='liamtrask@gmail.com') ─────────╮\n",
       "│                                                                    │\n",
       "│  <span style=\"color: #7f7f7f; text-decoration-color: #7f7f7f; font-weight: bold\"> .gmail        </span><span style=\"color: #7f7f7f; text-decoration-color: #7f7f7f\"> ○         </span><span style=\"color: #bfbf7f; text-decoration-color: #bfbf7f\">0 steps</span><span style=\"color: #7f7f7f; text-decoration-color: #7f7f7f\">       keystore,               </span>  │\n",
       "│  <span style=\"color: #7f7f7f; text-decoration-color: #7f7f7f; font-weight: bold\">               </span><span style=\"color: #7f7f7f; text-decoration-color: #7f7f7f\">                         notifications, HTML     </span>  │\n",
       "│  <span style=\"color: #7f7f7f; text-decoration-color: #7f7f7f; font-weight: bold\"> .gdrive_files </span><span style=\"color: #7f7f7f; text-decoration-color: #7f7f7f\"> ○         </span><span style=\"color: #bfbf7f; text-decoration-color: #bfbf7f\">0 steps</span><span style=\"color: #7f7f7f; text-decoration-color: #7f7f7f\">       keystore, public        </span>  │\n",
       "│  <span style=\"color: #7f7f7f; text-decoration-color: #7f7f7f; font-weight: bold\">               </span><span style=\"color: #7f7f7f; text-decoration-color: #7f7f7f\">                         sharing                 </span>  │\n",
       "│  <span style=\"color: #7f7f7f; text-decoration-color: #7f7f7f; font-weight: bold\"> .gsheets      </span><span style=\"color: #7f7f7f; text-decoration-color: #7f7f7f\"> ○         </span><span style=\"color: #bfbf7f; text-decoration-color: #bfbf7f\">0 steps</span><span style=\"color: #7f7f7f; text-decoration-color: #7f7f7f\">       keystore, public        </span>  │\n",
       "│  <span style=\"color: #7f7f7f; text-decoration-color: #7f7f7f; font-weight: bold\">               </span><span style=\"color: #7f7f7f; text-decoration-color: #7f7f7f\">                         sharing                 </span>  │\n",
       "│  <span style=\"color: #7f7f7f; text-decoration-color: #7f7f7f; font-weight: bold\"> .gforms       </span><span style=\"color: #7f7f7f; text-decoration-color: #7f7f7f\"> ○         </span><span style=\"color: #bfbf7f; text-decoration-color: #bfbf7f\">0 steps</span><span style=\"color: #7f7f7f; text-decoration-color: #7f7f7f\">       HTML                    </span>  │\n",
       "│                                                                    │\n",
       "╰────────────────────────────────────────────────────────────────────╯\n",
       "</pre>\n"
      ],
      "text/plain": [
       "╭──────── GooglePersonalClient(email='liamtrask@gmail.com') ─────────╮\n",
       "│                                                                    │\n",
       "│  \u001b[1;2m \u001b[0m\u001b[1;2m.gmail       \u001b[0m\u001b[1;2m \u001b[0m\u001b[2m \u001b[0m\u001b[2m○\u001b[0m\u001b[2m       \u001b[0m\u001b[2m \u001b[0m\u001b[2m \u001b[0m\u001b[2;33m0 steps\u001b[0m\u001b[2m     \u001b[0m\u001b[2m \u001b[0m\u001b[2m \u001b[0m\u001b[2mkeystore,              \u001b[0m\u001b[2m \u001b[0m  │\n",
       "│  \u001b[1;2m               \u001b[0m\u001b[2m          \u001b[0m\u001b[2m              \u001b[0m\u001b[2m \u001b[0m\u001b[2mnotifications, HTML    \u001b[0m\u001b[2m \u001b[0m  │\n",
       "│  \u001b[1;2m \u001b[0m\u001b[1;2m.gdrive_files\u001b[0m\u001b[1;2m \u001b[0m\u001b[2m \u001b[0m\u001b[2m○\u001b[0m\u001b[2m       \u001b[0m\u001b[2m \u001b[0m\u001b[2m \u001b[0m\u001b[2;33m0 steps\u001b[0m\u001b[2m     \u001b[0m\u001b[2m \u001b[0m\u001b[2m \u001b[0m\u001b[2mkeystore, public       \u001b[0m\u001b[2m \u001b[0m  │\n",
       "│  \u001b[1;2m               \u001b[0m\u001b[2m          \u001b[0m\u001b[2m              \u001b[0m\u001b[2m \u001b[0m\u001b[2msharing                \u001b[0m\u001b[2m \u001b[0m  │\n",
       "│  \u001b[1;2m \u001b[0m\u001b[1;2m.gsheets     \u001b[0m\u001b[1;2m \u001b[0m\u001b[2m \u001b[0m\u001b[2m○\u001b[0m\u001b[2m       \u001b[0m\u001b[2m \u001b[0m\u001b[2m \u001b[0m\u001b[2;33m0 steps\u001b[0m\u001b[2m     \u001b[0m\u001b[2m \u001b[0m\u001b[2m \u001b[0m\u001b[2mkeystore, public       \u001b[0m\u001b[2m \u001b[0m  │\n",
       "│  \u001b[1;2m               \u001b[0m\u001b[2m          \u001b[0m\u001b[2m              \u001b[0m\u001b[2m \u001b[0m\u001b[2msharing                \u001b[0m\u001b[2m \u001b[0m  │\n",
       "│  \u001b[1;2m \u001b[0m\u001b[1;2m.gforms      \u001b[0m\u001b[1;2m \u001b[0m\u001b[2m \u001b[0m\u001b[2m○\u001b[0m\u001b[2m       \u001b[0m\u001b[2m \u001b[0m\u001b[2m \u001b[0m\u001b[2;33m0 steps\u001b[0m\u001b[2m     \u001b[0m\u001b[2m \u001b[0m\u001b[2m \u001b[0m\u001b[2mHTML                   \u001b[0m\u001b[2m \u001b[0m  │\n",
       "│                                                                    │\n",
       "╰────────────────────────────────────────────────────────────────────╯\n"
      ]
     },
     "metadata": {},
     "output_type": "display_data"
    },
    {
     "data": {
      "text/plain": []
     },
     "execution_count": 14,
     "metadata": {},
     "output_type": "execute_result"
    }
   ],
   "source": [
    "client.platforms.google_personal"
   ]
  },
  {
   "cell_type": "code",
   "execution_count": 15,
   "id": "4599b3ce-81c8-4008-b4ee-51b5a5aa722c",
   "metadata": {},
   "outputs": [
    {
     "data": {
      "text/html": [
       "<pre style=\"white-space:pre;overflow-x:auto;line-height:normal;font-family:Menlo,'DejaVu Sans Mono',consolas,'Courier New',monospace\"><span style=\"color: #800000; text-decoration-color: #800000\">╭────────────────── Gmail Transport ──────────────────╮</span>\n",
       "<span style=\"color: #800000; text-decoration-color: #800000\">│</span> <span style=\"color: #800000; text-decoration-color: #800000; font-weight: bold\">✗ gmail transport is not initialized</span>                <span style=\"color: #800000; text-decoration-color: #800000\">│</span>\n",
       "<span style=\"color: #800000; text-decoration-color: #800000\">│</span>                                                     <span style=\"color: #800000; text-decoration-color: #800000\">│</span>\n",
       "<span style=\"color: #800000; text-decoration-color: #800000\">│</span> <span style=\"color: #808000; text-decoration-color: #808000\">Please call .init() to initialize this transport.</span>   <span style=\"color: #800000; text-decoration-color: #800000\">│</span>\n",
       "<span style=\"color: #800000; text-decoration-color: #800000\">│</span>                                                     <span style=\"color: #800000; text-decoration-color: #800000\">│</span>\n",
       "<span style=\"color: #800000; text-decoration-color: #800000\">│</span> <span style=\"color: #7f7f7f; text-decoration-color: #7f7f7f\">Access path: client.platforms.google_personal.gmail</span> <span style=\"color: #800000; text-decoration-color: #800000\">│</span>\n",
       "<span style=\"color: #800000; text-decoration-color: #800000\">╰─────────────────────────────────────────────────────╯</span>\n",
       "</pre>\n"
      ],
      "text/plain": [
       "\u001b[31m╭─\u001b[0m\u001b[31m─────────────────\u001b[0m\u001b[31m Gmail Transport \u001b[0m\u001b[31m─────────────────\u001b[0m\u001b[31m─╮\u001b[0m\n",
       "\u001b[31m│\u001b[0m \u001b[1;31m✗ gmail transport is not initialized\u001b[0m                \u001b[31m│\u001b[0m\n",
       "\u001b[31m│\u001b[0m                                                     \u001b[31m│\u001b[0m\n",
       "\u001b[31m│\u001b[0m \u001b[33mPlease call .init() to initialize this transport.\u001b[0m   \u001b[31m│\u001b[0m\n",
       "\u001b[31m│\u001b[0m                                                     \u001b[31m│\u001b[0m\n",
       "\u001b[31m│\u001b[0m \u001b[2mAccess path: client.platforms.google_personal.gmail\u001b[0m \u001b[31m│\u001b[0m\n",
       "\u001b[31m╰─────────────────────────────────────────────────────╯\u001b[0m\n"
      ]
     },
     "metadata": {},
     "output_type": "display_data"
    },
    {
     "data": {
      "text/plain": []
     },
     "execution_count": 15,
     "metadata": {},
     "output_type": "execute_result"
    }
   ],
   "source": [
    "client.platforms.google_personal.gmail"
   ]
  },
  {
   "cell_type": "markdown",
   "id": "f565fe25-fabd-4e99-b0a3-12395b176727",
   "metadata": {},
   "source": [
    "# Test 4: Test that gmail doesn't work (cuz not initialized)"
   ]
  },
  {
   "cell_type": "code",
   "execution_count": 16,
   "id": "cac8a93c-bdcc-40c1-a973-ce62d3da301f",
   "metadata": {},
   "outputs": [
    {
     "ename": "RuntimeError",
     "evalue": "Transport 'gmail' is not initialized. Please call .init() first.",
     "output_type": "error",
     "traceback": [
      "\u001b[31m---------------------------------------------------------------------------\u001b[39m",
      "\u001b[31mRuntimeError\u001b[39m                              Traceback (most recent call last)",
      "\u001b[36mCell\u001b[39m\u001b[36m \u001b[39m\u001b[32mIn[16]\u001b[39m\u001b[32m, line 1\u001b[39m\n\u001b[32m----> \u001b[39m\u001b[32m1\u001b[39m \u001b[43mclient\u001b[49m\u001b[43m.\u001b[49m\u001b[43mplatforms\u001b[49m\u001b[43m.\u001b[49m\u001b[43mgoogle_personal\u001b[49m\u001b[43m.\u001b[49m\u001b[43mgmail\u001b[49m\u001b[43m.\u001b[49m\u001b[43mtest\u001b[49m(\u001b[33m\"\u001b[39m\u001b[33mabc123\u001b[39m\u001b[33m\"\u001b[39m)\n",
      "\u001b[36mFile \u001b[39m\u001b[32m~/Desktop/Laboratory/syft-client/test_notebooks/../syft_client/platforms/google_personal/client.py:293\u001b[39m, in \u001b[36mGooglePersonalClient._create_transport_stubs.<locals>.UninitializedTransport.__getattr__\u001b[39m\u001b[34m(self, name)\u001b[39m\n\u001b[32m    291\u001b[39m     \u001b[38;5;28;01mreturn\u001b[39;00m \u001b[38;5;28mobject\u001b[39m.\u001b[34m__getattribute__\u001b[39m(\u001b[38;5;28mself\u001b[39m, name)\n\u001b[32m    292\u001b[39m \u001b[38;5;28;01mif\u001b[39;00m \u001b[38;5;129;01mnot\u001b[39;00m \u001b[38;5;28mself\u001b[39m._setup_called:\n\u001b[32m--> \u001b[39m\u001b[32m293\u001b[39m     \u001b[38;5;28;01mraise\u001b[39;00m \u001b[38;5;167;01mRuntimeError\u001b[39;00m(\u001b[33mf\u001b[39m\u001b[33m\"\u001b[39m\u001b[33mTransport \u001b[39m\u001b[33m'\u001b[39m\u001b[38;5;132;01m{\u001b[39;00m\u001b[38;5;28mself\u001b[39m._transport_name\u001b[38;5;132;01m}\u001b[39;00m\u001b[33m'\u001b[39m\u001b[33m is not initialized. Please call .init() first.\u001b[39m\u001b[33m\"\u001b[39m)\n\u001b[32m    294\u001b[39m \u001b[38;5;28;01mif\u001b[39;00m \u001b[38;5;28mself\u001b[39m._real_transport:\n\u001b[32m    295\u001b[39m     \u001b[38;5;28;01mreturn\u001b[39;00m \u001b[38;5;28mgetattr\u001b[39m(\u001b[38;5;28mself\u001b[39m._real_transport, name)\n",
      "\u001b[31mRuntimeError\u001b[39m: Transport 'gmail' is not initialized. Please call .init() first."
     ]
    }
   ],
   "source": [
    "client.platforms.google_personal.gmail.test(\"abc123\")"
   ]
  },
  {
   "cell_type": "markdown",
   "id": "baabf58a-e833-4890-8754-25c868e27cb2",
   "metadata": {},
   "source": [
    "# Test 5: Test that gmail initializes with useful printing about what to do next"
   ]
  },
  {
   "cell_type": "code",
   "execution_count": 17,
   "id": "82bd3e86-ee1c-4d33-b7e2-84c31acbce5f",
   "metadata": {},
   "outputs": [
    {
     "name": "stdout",
     "output_type": "stream",
     "text": [
      "\n",
      "Initializing gmail transport...\n",
      "  • Creating gmail transport instance...\n",
      "  • Setting up with OAuth2 credentials...\n",
      "  ✓ OAuth2 credentials configured\n",
      "\n"
     ]
    },
    {
     "data": {
      "text/html": [
       "<pre style=\"white-space:pre;overflow-x:auto;line-height:normal;font-family:Menlo,'DejaVu Sans Mono',consolas,'Courier New',monospace\"><span style=\"color: #008000; text-decoration-color: #008000\">╭────────────────────────────────────────────────────╮</span>\n",
       "<span style=\"color: #008000; text-decoration-color: #008000\">│</span> <span style=\"color: #008000; text-decoration-color: #008000; font-weight: bold\">✓ gmail transport initialized successfully!</span>        <span style=\"color: #008000; text-decoration-color: #008000\">│</span>\n",
       "<span style=\"color: #008000; text-decoration-color: #008000\">│</span>                                                    <span style=\"color: #008000; text-decoration-color: #008000\">│</span>\n",
       "<span style=\"color: #008000; text-decoration-color: #008000\">│</span> <span style=\"font-weight: bold\">What you can do now:</span>                               <span style=\"color: #008000; text-decoration-color: #008000\">│</span>\n",
       "<span style=\"color: #008000; text-decoration-color: #008000\">│</span>   • Send emails: <span style=\"color: #008080; text-decoration-color: #008080\">.send(recipient, data, subject)</span>   <span style=\"color: #008000; text-decoration-color: #008000\">│</span>\n",
       "<span style=\"color: #008000; text-decoration-color: #008000\">│</span>   • Read emails: <span style=\"color: #008080; text-decoration-color: #008080\">.receive(limit=10)</span>                <span style=\"color: #008000; text-decoration-color: #008000\">│</span>\n",
       "<span style=\"color: #008000; text-decoration-color: #008000\">│</span>   • Test setup: <span style=\"color: #008080; text-decoration-color: #008080\">.test()</span>                            <span style=\"color: #008000; text-decoration-color: #008000\">│</span>\n",
       "<span style=\"color: #008000; text-decoration-color: #008000\">│</span>                                                    <span style=\"color: #008000; text-decoration-color: #008000\">│</span>\n",
       "<span style=\"color: #008000; text-decoration-color: #008000\">│</span> <span style=\"color: #7f7f7f; text-decoration-color: #7f7f7f\">Access via: client.platforms.google_personal.gmail</span> <span style=\"color: #008000; text-decoration-color: #008000\">│</span>\n",
       "<span style=\"color: #008000; text-decoration-color: #008000\">╰────────────────────────────────────────────────────╯</span>\n",
       "</pre>\n"
      ],
      "text/plain": [
       "\u001b[32m╭────────────────────────────────────────────────────╮\u001b[0m\n",
       "\u001b[32m│\u001b[0m \u001b[1;32m✓ gmail transport initialized successfully!\u001b[0m        \u001b[32m│\u001b[0m\n",
       "\u001b[32m│\u001b[0m                                                    \u001b[32m│\u001b[0m\n",
       "\u001b[32m│\u001b[0m \u001b[1mWhat you can do now:\u001b[0m                               \u001b[32m│\u001b[0m\n",
       "\u001b[32m│\u001b[0m   • Send emails: \u001b[36m.send(recipient, data, subject)\u001b[0m   \u001b[32m│\u001b[0m\n",
       "\u001b[32m│\u001b[0m   • Read emails: \u001b[36m.receive(limit=10)\u001b[0m                \u001b[32m│\u001b[0m\n",
       "\u001b[32m│\u001b[0m   • Test setup: \u001b[36m.test()\u001b[0m                            \u001b[32m│\u001b[0m\n",
       "\u001b[32m│\u001b[0m                                                    \u001b[32m│\u001b[0m\n",
       "\u001b[32m│\u001b[0m \u001b[2mAccess via: client.platforms.google_personal.gmail\u001b[0m \u001b[32m│\u001b[0m\n",
       "\u001b[32m╰────────────────────────────────────────────────────╯\u001b[0m\n"
      ]
     },
     "metadata": {},
     "output_type": "display_data"
    },
    {
     "data": {
      "text/plain": [
       "True"
      ]
     },
     "execution_count": 17,
     "metadata": {},
     "output_type": "execute_result"
    }
   ],
   "source": [
    "client.platforms.google_personal.gmail.init()"
   ]
  },
  {
   "cell_type": "markdown",
   "id": "9e1e5657-2524-450c-a9db-7d1667c4ee0b",
   "metadata": {},
   "source": [
    "# Test 6: Test that calling .init() again fails gracefully"
   ]
  },
  {
   "cell_type": "code",
   "execution_count": 18,
   "id": "0c8a43df-e623-4fc5-bde3-91f0554ec7a0",
   "metadata": {},
   "outputs": [
    {
     "data": {
      "text/html": [
       "<pre style=\"white-space:pre;overflow-x:auto;line-height:normal;font-family:Menlo,'DejaVu Sans Mono',consolas,'Courier New',monospace\"><span style=\"color: #008000; text-decoration-color: #008000\">╭────────────────────────────────────────────────────╮</span>\n",
       "<span style=\"color: #008000; text-decoration-color: #008000\">│</span> <span style=\"color: #008000; text-decoration-color: #008000; font-weight: bold\">✓ gmail transport is already initialized!</span>          <span style=\"color: #008000; text-decoration-color: #008000\">│</span>\n",
       "<span style=\"color: #008000; text-decoration-color: #008000\">│</span>                                                    <span style=\"color: #008000; text-decoration-color: #008000\">│</span>\n",
       "<span style=\"color: #008000; text-decoration-color: #008000\">│</span> No action needed - this transport is ready to use. <span style=\"color: #008000; text-decoration-color: #008000\">│</span>\n",
       "<span style=\"color: #008000; text-decoration-color: #008000\">│</span>                                                    <span style=\"color: #008000; text-decoration-color: #008000\">│</span>\n",
       "<span style=\"color: #008000; text-decoration-color: #008000\">│</span> <span style=\"font-weight: bold\">Available methods:</span>                                 <span style=\"color: #008000; text-decoration-color: #008000\">│</span>\n",
       "<span style=\"color: #008000; text-decoration-color: #008000\">│</span>   • Send emails: <span style=\"color: #008080; text-decoration-color: #008080\">.send(recipient, data, subject)</span>   <span style=\"color: #008000; text-decoration-color: #008000\">│</span>\n",
       "<span style=\"color: #008000; text-decoration-color: #008000\">│</span>   • Read emails: <span style=\"color: #008080; text-decoration-color: #008080\">.receive(limit=10)</span>                <span style=\"color: #008000; text-decoration-color: #008000\">│</span>\n",
       "<span style=\"color: #008000; text-decoration-color: #008000\">│</span>   • Test setup: <span style=\"color: #008080; text-decoration-color: #008080\">.test()</span>                            <span style=\"color: #008000; text-decoration-color: #008000\">│</span>\n",
       "<span style=\"color: #008000; text-decoration-color: #008000\">│</span>                                                    <span style=\"color: #008000; text-decoration-color: #008000\">│</span>\n",
       "<span style=\"color: #008000; text-decoration-color: #008000\">│</span> <span style=\"color: #7f7f7f; text-decoration-color: #7f7f7f\">Access via: client.platforms.google_personal.gmail</span> <span style=\"color: #008000; text-decoration-color: #008000\">│</span>\n",
       "<span style=\"color: #008000; text-decoration-color: #008000\">╰────────────────────────────────────────────────────╯</span>\n",
       "</pre>\n"
      ],
      "text/plain": [
       "\u001b[32m╭────────────────────────────────────────────────────╮\u001b[0m\n",
       "\u001b[32m│\u001b[0m \u001b[1;32m✓ gmail transport is already initialized!\u001b[0m          \u001b[32m│\u001b[0m\n",
       "\u001b[32m│\u001b[0m                                                    \u001b[32m│\u001b[0m\n",
       "\u001b[32m│\u001b[0m No action needed - this transport is ready to use. \u001b[32m│\u001b[0m\n",
       "\u001b[32m│\u001b[0m                                                    \u001b[32m│\u001b[0m\n",
       "\u001b[32m│\u001b[0m \u001b[1mAvailable methods:\u001b[0m                                 \u001b[32m│\u001b[0m\n",
       "\u001b[32m│\u001b[0m   • Send emails: \u001b[36m.send(recipient, data, subject)\u001b[0m   \u001b[32m│\u001b[0m\n",
       "\u001b[32m│\u001b[0m   • Read emails: \u001b[36m.receive(limit=10)\u001b[0m                \u001b[32m│\u001b[0m\n",
       "\u001b[32m│\u001b[0m   • Test setup: \u001b[36m.test()\u001b[0m                            \u001b[32m│\u001b[0m\n",
       "\u001b[32m│\u001b[0m                                                    \u001b[32m│\u001b[0m\n",
       "\u001b[32m│\u001b[0m \u001b[2mAccess via: client.platforms.google_personal.gmail\u001b[0m \u001b[32m│\u001b[0m\n",
       "\u001b[32m╰────────────────────────────────────────────────────╯\u001b[0m\n"
      ]
     },
     "metadata": {},
     "output_type": "display_data"
    },
    {
     "data": {
      "text/plain": [
       "True"
      ]
     },
     "execution_count": 18,
     "metadata": {},
     "output_type": "execute_result"
    }
   ],
   "source": [
    "client.platforms.google_personal.gmail.init()"
   ]
  },
  {
   "cell_type": "markdown",
   "id": "806a6762-b006-4d5c-b7df-7779e2139d00",
   "metadata": {},
   "source": [
    "# Test 7: Test that sending emails works again"
   ]
  },
  {
   "cell_type": "code",
   "execution_count": 19,
   "id": "4aa4094b-aa77-4c34-abe2-168511c9a511",
   "metadata": {},
   "outputs": [
    {
     "name": "stdout",
     "output_type": "stream",
     "text": [
      "✅ Gmail test successful! Email sent to liamtrask@gmail.com\n"
     ]
    },
    {
     "data": {
      "text/plain": [
       "{'success': True,\n",
       " 'url': 'https://mail.google.com/mail/?authuser=liamtrask%40gmail.com#search/from%3Aliamtrask%40gmail.com%20subject%3A%22Test%20Email%20-%20abc123%22'}"
      ]
     },
     "execution_count": 19,
     "metadata": {},
     "output_type": "execute_result"
    }
   ],
   "source": [
    "client.platforms.google_personal.gmail.test(\"abc123\", cleanup=False)"
   ]
  },
  {
   "cell_type": "markdown",
   "id": "72d80a41-a7e4-4c05-aa57-c9edaa8a6ad9",
   "metadata": {},
   "source": [
    "# Test 8: Test that sending emails cleans up correctly"
   ]
  },
  {
   "cell_type": "code",
   "execution_count": 20,
   "id": "b758a99e-3d58-46fa-ae07-70d46d9dad94",
   "metadata": {},
   "outputs": [
    {
     "name": "stdout",
     "output_type": "stream",
     "text": [
      "✅ Gmail test successful! Email sent to liamtrask@gmail.com\n",
      "   Email has been deleted as requested (re-run test(cleanup=False) to see the email yourself.)\n"
     ]
    },
    {
     "data": {
      "text/plain": [
       "{'success': True,\n",
       " 'url': 'https://mail.google.com/mail/?authuser=liamtrask%40gmail.com#search/from%3Aliamtrask%40gmail.com%20subject%3A%22Test%20Email%20-%20abc123%22'}"
      ]
     },
     "execution_count": 20,
     "metadata": {},
     "output_type": "execute_result"
    }
   ],
   "source": [
    "client.platforms.google_personal.gmail.test(\"abc123\")"
   ]
  },
  {
   "cell_type": "markdown",
   "id": "06f83731-453c-4a61-b14d-b8890db58eda",
   "metadata": {},
   "source": [
    "# Test 9: Test that other transports still don't work (only initialized one)"
   ]
  },
  {
   "cell_type": "code",
   "execution_count": 21,
   "id": "065a88cc-c6c6-4ac4-af8f-8ab39d50905e",
   "metadata": {},
   "outputs": [
    {
     "ename": "RuntimeError",
     "evalue": "Transport 'gdrive_files' is not initialized. Please call .init() first.",
     "output_type": "error",
     "traceback": [
      "\u001b[31m---------------------------------------------------------------------------\u001b[39m",
      "\u001b[31mRuntimeError\u001b[39m                              Traceback (most recent call last)",
      "\u001b[36mCell\u001b[39m\u001b[36m \u001b[39m\u001b[32mIn[21]\u001b[39m\u001b[32m, line 2\u001b[39m\n\u001b[32m      1\u001b[39m \u001b[38;5;66;03m# make sure the other ones still don't work\u001b[39;00m\n\u001b[32m----> \u001b[39m\u001b[32m2\u001b[39m \u001b[43mclient\u001b[49m\u001b[43m.\u001b[49m\u001b[43mplatforms\u001b[49m\u001b[43m.\u001b[49m\u001b[43mgoogle_personal\u001b[49m\u001b[43m.\u001b[49m\u001b[43mgdrive_files\u001b[49m\u001b[43m.\u001b[49m\u001b[43mtest\u001b[49m(\u001b[33m\"\u001b[39m\u001b[33mabc123\u001b[39m\u001b[33m\"\u001b[39m, cleanup=\u001b[38;5;28;01mFalse\u001b[39;00m)\n",
      "\u001b[36mFile \u001b[39m\u001b[32m~/Desktop/Laboratory/syft-client/test_notebooks/../syft_client/platforms/google_personal/client.py:293\u001b[39m, in \u001b[36mGooglePersonalClient._create_transport_stubs.<locals>.UninitializedTransport.__getattr__\u001b[39m\u001b[34m(self, name)\u001b[39m\n\u001b[32m    291\u001b[39m     \u001b[38;5;28;01mreturn\u001b[39;00m \u001b[38;5;28mobject\u001b[39m.\u001b[34m__getattribute__\u001b[39m(\u001b[38;5;28mself\u001b[39m, name)\n\u001b[32m    292\u001b[39m \u001b[38;5;28;01mif\u001b[39;00m \u001b[38;5;129;01mnot\u001b[39;00m \u001b[38;5;28mself\u001b[39m._setup_called:\n\u001b[32m--> \u001b[39m\u001b[32m293\u001b[39m     \u001b[38;5;28;01mraise\u001b[39;00m \u001b[38;5;167;01mRuntimeError\u001b[39;00m(\u001b[33mf\u001b[39m\u001b[33m\"\u001b[39m\u001b[33mTransport \u001b[39m\u001b[33m'\u001b[39m\u001b[38;5;132;01m{\u001b[39;00m\u001b[38;5;28mself\u001b[39m._transport_name\u001b[38;5;132;01m}\u001b[39;00m\u001b[33m'\u001b[39m\u001b[33m is not initialized. Please call .init() first.\u001b[39m\u001b[33m\"\u001b[39m)\n\u001b[32m    294\u001b[39m \u001b[38;5;28;01mif\u001b[39;00m \u001b[38;5;28mself\u001b[39m._real_transport:\n\u001b[32m    295\u001b[39m     \u001b[38;5;28;01mreturn\u001b[39;00m \u001b[38;5;28mgetattr\u001b[39m(\u001b[38;5;28mself\u001b[39m._real_transport, name)\n",
      "\u001b[31mRuntimeError\u001b[39m: Transport 'gdrive_files' is not initialized. Please call .init() first."
     ]
    }
   ],
   "source": [
    "# make sure the other ones still don't work\n",
    "client.platforms.google_personal.gdrive_files.test(\"abc123\", cleanup=False)"
   ]
  },
  {
   "cell_type": "code",
   "execution_count": 22,
   "id": "ff76a49a-44d7-4dad-be66-d4002d5c9f1f",
   "metadata": {},
   "outputs": [
    {
     "ename": "RuntimeError",
     "evalue": "Transport 'gsheets' is not initialized. Please call .init() first.",
     "output_type": "error",
     "traceback": [
      "\u001b[31m---------------------------------------------------------------------------\u001b[39m",
      "\u001b[31mRuntimeError\u001b[39m                              Traceback (most recent call last)",
      "\u001b[36mCell\u001b[39m\u001b[36m \u001b[39m\u001b[32mIn[22]\u001b[39m\u001b[32m, line 2\u001b[39m\n\u001b[32m      1\u001b[39m \u001b[38;5;66;03m# make sure the other ones still don't work\u001b[39;00m\n\u001b[32m----> \u001b[39m\u001b[32m2\u001b[39m \u001b[43mclient\u001b[49m\u001b[43m.\u001b[49m\u001b[43mplatforms\u001b[49m\u001b[43m.\u001b[49m\u001b[43mgoogle_personal\u001b[49m\u001b[43m.\u001b[49m\u001b[43mgsheets\u001b[49m\u001b[43m.\u001b[49m\u001b[43mtest\u001b[49m(\u001b[33m\"\u001b[39m\u001b[33mabc123\u001b[39m\u001b[33m\"\u001b[39m, cleanup=\u001b[38;5;28;01mFalse\u001b[39;00m)\n",
      "\u001b[36mFile \u001b[39m\u001b[32m~/Desktop/Laboratory/syft-client/test_notebooks/../syft_client/platforms/google_personal/client.py:293\u001b[39m, in \u001b[36mGooglePersonalClient._create_transport_stubs.<locals>.UninitializedTransport.__getattr__\u001b[39m\u001b[34m(self, name)\u001b[39m\n\u001b[32m    291\u001b[39m     \u001b[38;5;28;01mreturn\u001b[39;00m \u001b[38;5;28mobject\u001b[39m.\u001b[34m__getattribute__\u001b[39m(\u001b[38;5;28mself\u001b[39m, name)\n\u001b[32m    292\u001b[39m \u001b[38;5;28;01mif\u001b[39;00m \u001b[38;5;129;01mnot\u001b[39;00m \u001b[38;5;28mself\u001b[39m._setup_called:\n\u001b[32m--> \u001b[39m\u001b[32m293\u001b[39m     \u001b[38;5;28;01mraise\u001b[39;00m \u001b[38;5;167;01mRuntimeError\u001b[39;00m(\u001b[33mf\u001b[39m\u001b[33m\"\u001b[39m\u001b[33mTransport \u001b[39m\u001b[33m'\u001b[39m\u001b[38;5;132;01m{\u001b[39;00m\u001b[38;5;28mself\u001b[39m._transport_name\u001b[38;5;132;01m}\u001b[39;00m\u001b[33m'\u001b[39m\u001b[33m is not initialized. Please call .init() first.\u001b[39m\u001b[33m\"\u001b[39m)\n\u001b[32m    294\u001b[39m \u001b[38;5;28;01mif\u001b[39;00m \u001b[38;5;28mself\u001b[39m._real_transport:\n\u001b[32m    295\u001b[39m     \u001b[38;5;28;01mreturn\u001b[39;00m \u001b[38;5;28mgetattr\u001b[39m(\u001b[38;5;28mself\u001b[39m._real_transport, name)\n",
      "\u001b[31mRuntimeError\u001b[39m: Transport 'gsheets' is not initialized. Please call .init() first."
     ]
    }
   ],
   "source": [
    "# make sure the other ones still don't work\n",
    "client.platforms.google_personal.gsheets.test(\"abc123\", cleanup=False)"
   ]
  },
  {
   "cell_type": "code",
   "execution_count": 23,
   "id": "3f9ec2bc-6a53-4573-9c0b-8319d87ed2c9",
   "metadata": {},
   "outputs": [
    {
     "ename": "RuntimeError",
     "evalue": "Transport 'gforms' is not initialized. Please call .init() first.",
     "output_type": "error",
     "traceback": [
      "\u001b[31m---------------------------------------------------------------------------\u001b[39m",
      "\u001b[31mRuntimeError\u001b[39m                              Traceback (most recent call last)",
      "\u001b[36mCell\u001b[39m\u001b[36m \u001b[39m\u001b[32mIn[23]\u001b[39m\u001b[32m, line 2\u001b[39m\n\u001b[32m      1\u001b[39m \u001b[38;5;66;03m# make sure the other ones still don't work\u001b[39;00m\n\u001b[32m----> \u001b[39m\u001b[32m2\u001b[39m \u001b[43mclient\u001b[49m\u001b[43m.\u001b[49m\u001b[43mplatforms\u001b[49m\u001b[43m.\u001b[49m\u001b[43mgoogle_personal\u001b[49m\u001b[43m.\u001b[49m\u001b[43mgforms\u001b[49m\u001b[43m.\u001b[49m\u001b[43mtest\u001b[49m(\u001b[33m\"\u001b[39m\u001b[33mabc123\u001b[39m\u001b[33m\"\u001b[39m, cleanup=\u001b[38;5;28;01mFalse\u001b[39;00m)\n",
      "\u001b[36mFile \u001b[39m\u001b[32m~/Desktop/Laboratory/syft-client/test_notebooks/../syft_client/platforms/google_personal/client.py:293\u001b[39m, in \u001b[36mGooglePersonalClient._create_transport_stubs.<locals>.UninitializedTransport.__getattr__\u001b[39m\u001b[34m(self, name)\u001b[39m\n\u001b[32m    291\u001b[39m     \u001b[38;5;28;01mreturn\u001b[39;00m \u001b[38;5;28mobject\u001b[39m.\u001b[34m__getattribute__\u001b[39m(\u001b[38;5;28mself\u001b[39m, name)\n\u001b[32m    292\u001b[39m \u001b[38;5;28;01mif\u001b[39;00m \u001b[38;5;129;01mnot\u001b[39;00m \u001b[38;5;28mself\u001b[39m._setup_called:\n\u001b[32m--> \u001b[39m\u001b[32m293\u001b[39m     \u001b[38;5;28;01mraise\u001b[39;00m \u001b[38;5;167;01mRuntimeError\u001b[39;00m(\u001b[33mf\u001b[39m\u001b[33m\"\u001b[39m\u001b[33mTransport \u001b[39m\u001b[33m'\u001b[39m\u001b[38;5;132;01m{\u001b[39;00m\u001b[38;5;28mself\u001b[39m._transport_name\u001b[38;5;132;01m}\u001b[39;00m\u001b[33m'\u001b[39m\u001b[33m is not initialized. Please call .init() first.\u001b[39m\u001b[33m\"\u001b[39m)\n\u001b[32m    294\u001b[39m \u001b[38;5;28;01mif\u001b[39;00m \u001b[38;5;28mself\u001b[39m._real_transport:\n\u001b[32m    295\u001b[39m     \u001b[38;5;28;01mreturn\u001b[39;00m \u001b[38;5;28mgetattr\u001b[39m(\u001b[38;5;28mself\u001b[39m._real_transport, name)\n",
      "\u001b[31mRuntimeError\u001b[39m: Transport 'gforms' is not initialized. Please call .init() first."
     ]
    }
   ],
   "source": [
    "# make sure the other ones still don't work\n",
    "client.platforms.google_personal.gforms.test(\"abc123\", cleanup=False)"
   ]
  },
  {
   "cell_type": "markdown",
   "id": "7f9c9d2b-1b39-41bf-8deb-96c0d84fc523",
   "metadata": {},
   "source": [
    "# Test 10: Test that client.__repr__ shows that only gmail is initialized"
   ]
  },
  {
   "cell_type": "code",
   "execution_count": 24,
   "id": "1dbf121f-2926-4cc9-892d-48267bbd4f72",
   "metadata": {},
   "outputs": [
    {
     "data": {
      "text/html": [
       "<pre style=\"white-space:pre;overflow-x:auto;line-height:normal;font-family:Menlo,'DejaVu Sans Mono',consolas,'Courier New',monospace\">╭──────── SyftClient.email = 'liamtrask@gmail.com' ────────╮\n",
       "│                                                          │\n",
       "│  <span style=\"color: #7f7f7f; text-decoration-color: #7f7f7f\">.folder</span> = /Users/atrask/SyftBox/liamtrask_at_gmail_com  │\n",
       "│                                                          │\n",
       "│  <span style=\"color: #7f7f7f; text-decoration-color: #7f7f7f\">.platforms</span>                                              │\n",
       "│    <span style=\"color: #808000; text-decoration-color: #808000; font-weight: bold\">.google_personal</span>                                      │\n",
       "│      <span style=\"color: #008000; text-decoration-color: #008000\">✓</span> <span style=\"color: #008000; text-decoration-color: #008000\">.gmail</span>                                            │\n",
       "│      <span style=\"color: #7f7f7f; text-decoration-color: #7f7f7f\">✗</span> <span style=\"color: #7f7f7f; text-decoration-color: #7f7f7f\">.gdrive_files</span> <span style=\"color: #7f7f7f; text-decoration-color: #7f7f7f\">(call .init() to initialize)</span>        │\n",
       "│      <span style=\"color: #7f7f7f; text-decoration-color: #7f7f7f\">✗</span> <span style=\"color: #7f7f7f; text-decoration-color: #7f7f7f\">.gsheets</span> <span style=\"color: #7f7f7f; text-decoration-color: #7f7f7f\">(call .init() to initialize)</span>             │\n",
       "│      <span style=\"color: #7f7f7f; text-decoration-color: #7f7f7f\">✗</span> <span style=\"color: #7f7f7f; text-decoration-color: #7f7f7f\">.gforms</span> <span style=\"color: #7f7f7f; text-decoration-color: #7f7f7f\">(call .init() to initialize)</span>              │\n",
       "│                                                          │\n",
       "╰──────────────────────────────────────────────────────────╯\n",
       "</pre>\n"
      ],
      "text/plain": [
       "╭──────── SyftClient.email = 'liamtrask@gmail.com' ────────╮\n",
       "│                                                          │\n",
       "│  \u001b[2m.folder\u001b[0m = /Users/atrask/SyftBox/liamtrask_at_gmail_com  │\n",
       "│                                                          │\n",
       "│  \u001b[2m.platforms\u001b[0m                                              │\n",
       "│    \u001b[1;33m.google_personal\u001b[0m                                      │\n",
       "│      \u001b[32m✓\u001b[0m \u001b[32m.gmail\u001b[0m                                            │\n",
       "│      \u001b[2m✗\u001b[0m \u001b[2m.gdrive_files\u001b[0m \u001b[2m(call .init() to initialize)\u001b[0m        │\n",
       "│      \u001b[2m✗\u001b[0m \u001b[2m.gsheets\u001b[0m \u001b[2m(call .init() to initialize)\u001b[0m             │\n",
       "│      \u001b[2m✗\u001b[0m \u001b[2m.gforms\u001b[0m \u001b[2m(call .init() to initialize)\u001b[0m              │\n",
       "│                                                          │\n",
       "╰──────────────────────────────────────────────────────────╯\n"
      ]
     },
     "metadata": {},
     "output_type": "display_data"
    },
    {
     "data": {
      "text/plain": []
     },
     "execution_count": 24,
     "metadata": {},
     "output_type": "execute_result"
    }
   ],
   "source": [
    "client"
   ]
  },
  {
   "cell_type": "code",
   "execution_count": 25,
   "id": "e6e04783-4cde-42f8-b409-e782f8db5464",
   "metadata": {},
   "outputs": [
    {
     "data": {
      "text/html": [
       "<pre style=\"white-space:pre;overflow-x:auto;line-height:normal;font-family:Menlo,'DejaVu Sans Mono',consolas,'Courier New',monospace\">╭─────────────────── Platforms ────────────────────╮\n",
       "│                                                  │\n",
       "│  <span style=\"color: #808000; text-decoration-color: #808000; font-weight: bold\">.google_personal</span>                                │\n",
       "│    <span style=\"color: #008000; text-decoration-color: #008000\">✓</span> <span style=\"color: #008000; text-decoration-color: #008000\">.gmail</span>                                      │\n",
       "│    <span style=\"color: #7f7f7f; text-decoration-color: #7f7f7f\">✗</span> <span style=\"color: #7f7f7f; text-decoration-color: #7f7f7f\">.gdrive_files</span> <span style=\"color: #7f7f7f; text-decoration-color: #7f7f7f\">(call .init() to initialize)</span>  │\n",
       "│    <span style=\"color: #7f7f7f; text-decoration-color: #7f7f7f\">✗</span> <span style=\"color: #7f7f7f; text-decoration-color: #7f7f7f\">.gsheets</span> <span style=\"color: #7f7f7f; text-decoration-color: #7f7f7f\">(call .init() to initialize)</span>       │\n",
       "│    <span style=\"color: #7f7f7f; text-decoration-color: #7f7f7f\">✗</span> <span style=\"color: #7f7f7f; text-decoration-color: #7f7f7f\">.gforms</span> <span style=\"color: #7f7f7f; text-decoration-color: #7f7f7f\">(call .init() to initialize)</span>        │\n",
       "│                                                  │\n",
       "╰──────────────────────────────────────────────────╯\n",
       "</pre>\n"
      ],
      "text/plain": [
       "╭─────────────────── Platforms ────────────────────╮\n",
       "│                                                  │\n",
       "│  \u001b[1;33m.google_personal\u001b[0m                                │\n",
       "│    \u001b[32m✓\u001b[0m \u001b[32m.gmail\u001b[0m                                      │\n",
       "│    \u001b[2m✗\u001b[0m \u001b[2m.gdrive_files\u001b[0m \u001b[2m(call .init() to initialize)\u001b[0m  │\n",
       "│    \u001b[2m✗\u001b[0m \u001b[2m.gsheets\u001b[0m \u001b[2m(call .init() to initialize)\u001b[0m       │\n",
       "│    \u001b[2m✗\u001b[0m \u001b[2m.gforms\u001b[0m \u001b[2m(call .init() to initialize)\u001b[0m        │\n",
       "│                                                  │\n",
       "╰──────────────────────────────────────────────────╯\n"
      ]
     },
     "metadata": {},
     "output_type": "display_data"
    },
    {
     "data": {
      "text/plain": []
     },
     "execution_count": 25,
     "metadata": {},
     "output_type": "execute_result"
    }
   ],
   "source": [
    "client.platforms"
   ]
  },
  {
   "cell_type": "code",
   "execution_count": 27,
   "id": "d972648d-5025-46e2-998d-86b85715d0f3",
   "metadata": {},
   "outputs": [
    {
     "data": {
      "text/html": [
       "<pre style=\"white-space:pre;overflow-x:auto;line-height:normal;font-family:Menlo,'DejaVu Sans Mono',consolas,'Courier New',monospace\">╭──────── GooglePersonalClient(email='liamtrask@gmail.com') ─────────╮\n",
       "│                                                                    │\n",
       "│  <span style=\"color: #7f7f7f; text-decoration-color: #7f7f7f; font-weight: bold\"> .gmail        </span><span style=\"color: #7f7f7f; text-decoration-color: #7f7f7f\"> </span><span style=\"color: #7fbf7f; text-decoration-color: #7fbf7f\">✓</span><span style=\"color: #7f7f7f; text-decoration-color: #7f7f7f\">         </span><span style=\"color: #7fbf7f; text-decoration-color: #7fbf7f\">0 steps</span><span style=\"color: #7f7f7f; text-decoration-color: #7f7f7f\">       keystore,               </span>  │\n",
       "│  <span style=\"color: #7f7f7f; text-decoration-color: #7f7f7f; font-weight: bold\">               </span><span style=\"color: #7f7f7f; text-decoration-color: #7f7f7f\">                         notifications, HTML     </span>  │\n",
       "│  <span style=\"color: #7f7f7f; text-decoration-color: #7f7f7f; font-weight: bold\"> .gdrive_files </span><span style=\"color: #7f7f7f; text-decoration-color: #7f7f7f\"> ○         </span><span style=\"color: #bfbf7f; text-decoration-color: #bfbf7f\">0 steps</span><span style=\"color: #7f7f7f; text-decoration-color: #7f7f7f\">       keystore, public        </span>  │\n",
       "│  <span style=\"color: #7f7f7f; text-decoration-color: #7f7f7f; font-weight: bold\">               </span><span style=\"color: #7f7f7f; text-decoration-color: #7f7f7f\">                         sharing                 </span>  │\n",
       "│  <span style=\"color: #7f7f7f; text-decoration-color: #7f7f7f; font-weight: bold\"> .gsheets      </span><span style=\"color: #7f7f7f; text-decoration-color: #7f7f7f\"> ○         </span><span style=\"color: #bfbf7f; text-decoration-color: #bfbf7f\">0 steps</span><span style=\"color: #7f7f7f; text-decoration-color: #7f7f7f\">       keystore, public        </span>  │\n",
       "│  <span style=\"color: #7f7f7f; text-decoration-color: #7f7f7f; font-weight: bold\">               </span><span style=\"color: #7f7f7f; text-decoration-color: #7f7f7f\">                         sharing                 </span>  │\n",
       "│  <span style=\"color: #7f7f7f; text-decoration-color: #7f7f7f; font-weight: bold\"> .gforms       </span><span style=\"color: #7f7f7f; text-decoration-color: #7f7f7f\"> ○         </span><span style=\"color: #bfbf7f; text-decoration-color: #bfbf7f\">0 steps</span><span style=\"color: #7f7f7f; text-decoration-color: #7f7f7f\">       HTML                    </span>  │\n",
       "│                                                                    │\n",
       "╰────────────────────────────────────────────────────────────────────╯\n",
       "</pre>\n"
      ],
      "text/plain": [
       "╭──────── GooglePersonalClient(email='liamtrask@gmail.com') ─────────╮\n",
       "│                                                                    │\n",
       "│  \u001b[1;2m \u001b[0m\u001b[1;2m.gmail       \u001b[0m\u001b[1;2m \u001b[0m\u001b[2m \u001b[0m\u001b[2;32m✓\u001b[0m\u001b[2m       \u001b[0m\u001b[2m \u001b[0m\u001b[2m \u001b[0m\u001b[2;32m0 steps\u001b[0m\u001b[2m     \u001b[0m\u001b[2m \u001b[0m\u001b[2m \u001b[0m\u001b[2mkeystore,              \u001b[0m\u001b[2m \u001b[0m  │\n",
       "│  \u001b[1;2m               \u001b[0m\u001b[2m          \u001b[0m\u001b[2m              \u001b[0m\u001b[2m \u001b[0m\u001b[2mnotifications, HTML    \u001b[0m\u001b[2m \u001b[0m  │\n",
       "│  \u001b[1;2m \u001b[0m\u001b[1;2m.gdrive_files\u001b[0m\u001b[1;2m \u001b[0m\u001b[2m \u001b[0m\u001b[2m○\u001b[0m\u001b[2m       \u001b[0m\u001b[2m \u001b[0m\u001b[2m \u001b[0m\u001b[2;33m0 steps\u001b[0m\u001b[2m     \u001b[0m\u001b[2m \u001b[0m\u001b[2m \u001b[0m\u001b[2mkeystore, public       \u001b[0m\u001b[2m \u001b[0m  │\n",
       "│  \u001b[1;2m               \u001b[0m\u001b[2m          \u001b[0m\u001b[2m              \u001b[0m\u001b[2m \u001b[0m\u001b[2msharing                \u001b[0m\u001b[2m \u001b[0m  │\n",
       "│  \u001b[1;2m \u001b[0m\u001b[1;2m.gsheets     \u001b[0m\u001b[1;2m \u001b[0m\u001b[2m \u001b[0m\u001b[2m○\u001b[0m\u001b[2m       \u001b[0m\u001b[2m \u001b[0m\u001b[2m \u001b[0m\u001b[2;33m0 steps\u001b[0m\u001b[2m     \u001b[0m\u001b[2m \u001b[0m\u001b[2m \u001b[0m\u001b[2mkeystore, public       \u001b[0m\u001b[2m \u001b[0m  │\n",
       "│  \u001b[1;2m               \u001b[0m\u001b[2m          \u001b[0m\u001b[2m              \u001b[0m\u001b[2m \u001b[0m\u001b[2msharing                \u001b[0m\u001b[2m \u001b[0m  │\n",
       "│  \u001b[1;2m \u001b[0m\u001b[1;2m.gforms      \u001b[0m\u001b[1;2m \u001b[0m\u001b[2m \u001b[0m\u001b[2m○\u001b[0m\u001b[2m       \u001b[0m\u001b[2m \u001b[0m\u001b[2m \u001b[0m\u001b[2;33m0 steps\u001b[0m\u001b[2m     \u001b[0m\u001b[2m \u001b[0m\u001b[2m \u001b[0m\u001b[2mHTML                   \u001b[0m\u001b[2m \u001b[0m  │\n",
       "│                                                                    │\n",
       "╰────────────────────────────────────────────────────────────────────╯\n"
      ]
     },
     "metadata": {},
     "output_type": "display_data"
    },
    {
     "data": {
      "text/plain": []
     },
     "execution_count": 27,
     "metadata": {},
     "output_type": "execute_result"
    }
   ],
   "source": [
    "client.platforms.google_personal"
   ]
  },
  {
   "cell_type": "code",
   "execution_count": 28,
   "id": "611c0733-5b2f-4e9f-bd44-c56de6ae6395",
   "metadata": {},
   "outputs": [
    {
     "data": {
      "text/html": [
       "<pre style=\"white-space:pre;overflow-x:auto;line-height:normal;font-family:Menlo,'DejaVu Sans Mono',consolas,'Courier New',monospace\">╭─── client.platforms.google_personal.gmail ────╮\n",
       "│                                               │\n",
       "│  <span style=\"color: #008080; text-decoration-color: #008080; font-weight: bold\">.is_setup()             </span><span style=\"color: #008000; text-decoration-color: #008000\">✓ Ready</span>              │\n",
       "│  <span style=\"color: #008080; text-decoration-color: #008080; font-weight: bold\">.environment            </span>jupyter              │\n",
       "│  <span style=\"color: #008080; text-decoration-color: #008080; font-weight: bold\">                        </span>                     │\n",
       "│  <span style=\"color: #008080; text-decoration-color: #008080; font-weight: bold\">Capabilities            </span>                     │\n",
       "│  <span style=\"color: #008080; text-decoration-color: #008080; font-weight: bold\">  .is_keystore          </span><span style=\"color: #008000; text-decoration-color: #008000\">✓</span>                    │\n",
       "│  <span style=\"color: #008080; text-decoration-color: #008080; font-weight: bold\">  .is_notification_layer</span><span style=\"color: #008000; text-decoration-color: #008000\">✓</span>                    │\n",
       "│  <span style=\"color: #008080; text-decoration-color: #008080; font-weight: bold\">  .is_html_compatible   </span><span style=\"color: #008000; text-decoration-color: #008000\">✓</span>                    │\n",
       "│  <span style=\"color: #008080; text-decoration-color: #008080; font-weight: bold\">  .is_reply_compatible  </span><span style=\"color: #008000; text-decoration-color: #008000\">✓</span>                    │\n",
       "│  <span style=\"color: #008080; text-decoration-color: #008080; font-weight: bold\">  .guest_submit         </span><span style=\"color: #7f7f7f; text-decoration-color: #7f7f7f\">✗</span>                    │\n",
       "│  <span style=\"color: #008080; text-decoration-color: #008080; font-weight: bold\">  .guest_read_file      </span><span style=\"color: #7f7f7f; text-decoration-color: #7f7f7f\">✗</span>                    │\n",
       "│  <span style=\"color: #008080; text-decoration-color: #008080; font-weight: bold\">  .guest_read_folder    </span><span style=\"color: #7f7f7f; text-decoration-color: #7f7f7f\">✗</span>                    │\n",
       "│  <span style=\"color: #008080; text-decoration-color: #008080; font-weight: bold\">                        </span>                     │\n",
       "│  <span style=\"color: #008080; text-decoration-color: #008080; font-weight: bold\">.login_complexity       </span>0 steps              │\n",
       "│  <span style=\"color: #008080; text-decoration-color: #008080; font-weight: bold\">                        </span>                     │\n",
       "│  <span style=\"color: #008080; text-decoration-color: #008080; font-weight: bold\">Methods                 </span>                     │\n",
       "│  <span style=\"color: #008080; text-decoration-color: #008080; font-weight: bold\">  .send(recipient, data)</span>Send data            │\n",
       "│  <span style=\"color: #008080; text-decoration-color: #008080; font-weight: bold\">  .receive()            </span>Get messages         │\n",
       "│  <span style=\"color: #008080; text-decoration-color: #008080; font-weight: bold\">  .setup(credentials)   </span>Configure transport  │\n",
       "│                                               │\n",
       "╰───────────────────────────────────────────────╯\n",
       "</pre>\n"
      ],
      "text/plain": [
       "╭─── client.platforms.google_personal.gmail ────╮\n",
       "│                                               │\n",
       "│  \u001b[1;36m.is_setup()             \u001b[0m\u001b[32m✓ Ready\u001b[0m              │\n",
       "│  \u001b[1;36m.environment            \u001b[0mjupyter              │\n",
       "│  \u001b[1;36m                        \u001b[0m                     │\n",
       "│  \u001b[1;36mCapabilities\u001b[0m\u001b[1;36m            \u001b[0m                     │\n",
       "│  \u001b[1;36m  .is_keystore          \u001b[0m\u001b[32m✓\u001b[0m                    │\n",
       "│  \u001b[1;36m  .is_notification_layer\u001b[0m\u001b[32m✓\u001b[0m                    │\n",
       "│  \u001b[1;36m  .is_html_compatible   \u001b[0m\u001b[32m✓\u001b[0m                    │\n",
       "│  \u001b[1;36m  .is_reply_compatible  \u001b[0m\u001b[32m✓\u001b[0m                    │\n",
       "│  \u001b[1;36m  .guest_submit         \u001b[0m\u001b[2m✗\u001b[0m                    │\n",
       "│  \u001b[1;36m  .guest_read_file      \u001b[0m\u001b[2m✗\u001b[0m                    │\n",
       "│  \u001b[1;36m  .guest_read_folder    \u001b[0m\u001b[2m✗\u001b[0m                    │\n",
       "│  \u001b[1;36m                        \u001b[0m                     │\n",
       "│  \u001b[1;36m.login_complexity       \u001b[0m0 steps              │\n",
       "│  \u001b[1;36m                        \u001b[0m                     │\n",
       "│  \u001b[1;36mMethods\u001b[0m\u001b[1;36m                 \u001b[0m                     │\n",
       "│  \u001b[1;36m  .send(recipient, data)\u001b[0mSend data            │\n",
       "│  \u001b[1;36m  .receive()            \u001b[0mGet messages         │\n",
       "│  \u001b[1;36m  .setup(credentials)   \u001b[0mConfigure transport  │\n",
       "│                                               │\n",
       "╰───────────────────────────────────────────────╯\n"
      ]
     },
     "metadata": {},
     "output_type": "display_data"
    },
    {
     "data": {
      "text/plain": []
     },
     "execution_count": 28,
     "metadata": {},
     "output_type": "execute_result"
    }
   ],
   "source": [
    "client.platforms.google_personal.gmail"
   ]
  },
  {
   "cell_type": "code",
   "execution_count": 29,
   "id": "0b9ccc74-9926-434b-b0f6-6365dce2a6cf",
   "metadata": {},
   "outputs": [
    {
     "data": {
      "text/html": [
       "<pre style=\"white-space:pre;overflow-x:auto;line-height:normal;font-family:Menlo,'DejaVu Sans Mono',consolas,'Courier New',monospace\"><span style=\"color: #800000; text-decoration-color: #800000\">╭────────────────── Gdrive_Files Transport ──────────────────╮</span>\n",
       "<span style=\"color: #800000; text-decoration-color: #800000\">│</span> <span style=\"color: #800000; text-decoration-color: #800000; font-weight: bold\">✗ gdrive_files transport is not initialized</span>                <span style=\"color: #800000; text-decoration-color: #800000\">│</span>\n",
       "<span style=\"color: #800000; text-decoration-color: #800000\">│</span>                                                            <span style=\"color: #800000; text-decoration-color: #800000\">│</span>\n",
       "<span style=\"color: #800000; text-decoration-color: #800000\">│</span> <span style=\"color: #808000; text-decoration-color: #808000\">Please call .init() to initialize this transport.</span>          <span style=\"color: #800000; text-decoration-color: #800000\">│</span>\n",
       "<span style=\"color: #800000; text-decoration-color: #800000\">│</span>                                                            <span style=\"color: #800000; text-decoration-color: #800000\">│</span>\n",
       "<span style=\"color: #800000; text-decoration-color: #800000\">│</span> <span style=\"color: #7f7f7f; text-decoration-color: #7f7f7f\">Access path: client.platforms.google_personal.gdrive_files</span> <span style=\"color: #800000; text-decoration-color: #800000\">│</span>\n",
       "<span style=\"color: #800000; text-decoration-color: #800000\">╰────────────────────────────────────────────────────────────╯</span>\n",
       "</pre>\n"
      ],
      "text/plain": [
       "\u001b[31m╭─\u001b[0m\u001b[31m─────────────────\u001b[0m\u001b[31m Gdrive_Files Transport \u001b[0m\u001b[31m─────────────────\u001b[0m\u001b[31m─╮\u001b[0m\n",
       "\u001b[31m│\u001b[0m \u001b[1;31m✗ gdrive_files transport is not initialized\u001b[0m                \u001b[31m│\u001b[0m\n",
       "\u001b[31m│\u001b[0m                                                            \u001b[31m│\u001b[0m\n",
       "\u001b[31m│\u001b[0m \u001b[33mPlease call .init() to initialize this transport.\u001b[0m          \u001b[31m│\u001b[0m\n",
       "\u001b[31m│\u001b[0m                                                            \u001b[31m│\u001b[0m\n",
       "\u001b[31m│\u001b[0m \u001b[2mAccess path: client.platforms.google_personal.gdrive_files\u001b[0m \u001b[31m│\u001b[0m\n",
       "\u001b[31m╰────────────────────────────────────────────────────────────╯\u001b[0m\n"
      ]
     },
     "metadata": {},
     "output_type": "display_data"
    },
    {
     "data": {
      "text/plain": []
     },
     "execution_count": 29,
     "metadata": {},
     "output_type": "execute_result"
    }
   ],
   "source": [
    "client.platforms.google_personal.gdrive_files"
   ]
  },
  {
   "cell_type": "markdown",
   "id": "8e8bcb40-12de-4ac0-b3d2-6331efd9f499",
   "metadata": {},
   "source": [
    "# Test 11: initialize gdrive and test"
   ]
  },
  {
   "cell_type": "code",
   "execution_count": 15,
   "id": "bfccecb4-d360-46f2-a686-28b232c4161a",
   "metadata": {},
   "outputs": [
    {
     "name": "stdout",
     "output_type": "stream",
     "text": [
      "\n",
      "Initializing gdrive_files transport...\n",
      "  • Creating gdrive_files transport instance...\n",
      "  • Setting up with OAuth2 credentials...\n",
      "  ✓ OAuth2 credentials configured\n",
      "\n"
     ]
    },
    {
     "data": {
      "text/html": [
       "<pre style=\"white-space:pre;overflow-x:auto;line-height:normal;font-family:Menlo,'DejaVu Sans Mono',consolas,'Courier New',monospace\"><span style=\"color: #008000; text-decoration-color: #008000\">╭───────────────────────────────────────────────────────────╮</span>\n",
       "<span style=\"color: #008000; text-decoration-color: #008000\">│</span> <span style=\"color: #008000; text-decoration-color: #008000; font-weight: bold\">✓ gdrive_files transport initialized successfully!</span>        <span style=\"color: #008000; text-decoration-color: #008000\">│</span>\n",
       "<span style=\"color: #008000; text-decoration-color: #008000\">│</span>                                                           <span style=\"color: #008000; text-decoration-color: #008000\">│</span>\n",
       "<span style=\"color: #008000; text-decoration-color: #008000\">│</span> <span style=\"font-weight: bold\">What you can do now:</span>                                      <span style=\"color: #008000; text-decoration-color: #008000\">│</span>\n",
       "<span style=\"color: #008000; text-decoration-color: #008000\">│</span>   • List files: <span style=\"color: #008080; text-decoration-color: #008080\">.list_files()</span>                             <span style=\"color: #008000; text-decoration-color: #008000\">│</span>\n",
       "<span style=\"color: #008000; text-decoration-color: #008000\">│</span>   • Upload file: <span style=\"color: #008080; text-decoration-color: #008080\">.upload_file(filepath)</span>                   <span style=\"color: #008000; text-decoration-color: #008000\">│</span>\n",
       "<span style=\"color: #008000; text-decoration-color: #008000\">│</span>   • Download file: <span style=\"color: #008080; text-decoration-color: #008080\">.download_file(file_id, save_path)</span>     <span style=\"color: #008000; text-decoration-color: #008000\">│</span>\n",
       "<span style=\"color: #008000; text-decoration-color: #008000\">│</span>                                                           <span style=\"color: #008000; text-decoration-color: #008000\">│</span>\n",
       "<span style=\"color: #008000; text-decoration-color: #008000\">│</span> <span style=\"color: #7f7f7f; text-decoration-color: #7f7f7f\">Access via: client.platforms.google_personal.gdrive_files</span> <span style=\"color: #008000; text-decoration-color: #008000\">│</span>\n",
       "<span style=\"color: #008000; text-decoration-color: #008000\">╰───────────────────────────────────────────────────────────╯</span>\n",
       "</pre>\n"
      ],
      "text/plain": [
       "\u001b[32m╭───────────────────────────────────────────────────────────╮\u001b[0m\n",
       "\u001b[32m│\u001b[0m \u001b[1;32m✓ gdrive_files transport initialized successfully!\u001b[0m        \u001b[32m│\u001b[0m\n",
       "\u001b[32m│\u001b[0m                                                           \u001b[32m│\u001b[0m\n",
       "\u001b[32m│\u001b[0m \u001b[1mWhat you can do now:\u001b[0m                                      \u001b[32m│\u001b[0m\n",
       "\u001b[32m│\u001b[0m   • List files: \u001b[36m.list_files()\u001b[0m                             \u001b[32m│\u001b[0m\n",
       "\u001b[32m│\u001b[0m   • Upload file: \u001b[36m.upload_file(filepath)\u001b[0m                   \u001b[32m│\u001b[0m\n",
       "\u001b[32m│\u001b[0m   • Download file: \u001b[36m.download_file(file_id, save_path)\u001b[0m     \u001b[32m│\u001b[0m\n",
       "\u001b[32m│\u001b[0m                                                           \u001b[32m│\u001b[0m\n",
       "\u001b[32m│\u001b[0m \u001b[2mAccess via: client.platforms.google_personal.gdrive_files\u001b[0m \u001b[32m│\u001b[0m\n",
       "\u001b[32m╰───────────────────────────────────────────────────────────╯\u001b[0m\n"
      ]
     },
     "metadata": {},
     "output_type": "display_data"
    },
    {
     "data": {
      "text/plain": [
       "True"
      ]
     },
     "execution_count": 15,
     "metadata": {},
     "output_type": "execute_result"
    }
   ],
   "source": [
    "client.platforms.google_personal.gdrive_files.init()"
   ]
  },
  {
   "cell_type": "code",
   "execution_count": 16,
   "id": "95e6d3b0-6b62-4ee3-a16f-62516c17ad77",
   "metadata": {},
   "outputs": [
    {
     "name": "stdout",
     "output_type": "stream",
     "text": [
      "✅ Google Drive test successful! File created in SyftClient\n"
     ]
    },
    {
     "data": {
      "text/plain": [
       "{'success': True,\n",
       " 'url': 'https://drive.google.com/file/d/1dzOKm4tP4HUNZFpCEmW0VOLXcoFn9qRM/view?usp=drivesdk'}"
      ]
     },
     "execution_count": 16,
     "metadata": {},
     "output_type": "execute_result"
    }
   ],
   "source": [
    "# test that gdrive_files worksa nd you can see the file\n",
    "client.platforms.google_personal.gdrive_files.test(\"abc123\", cleanup=False)"
   ]
  },
  {
   "cell_type": "code",
   "execution_count": 17,
   "id": "a6caaed0-ee31-4844-8711-e5151d1ee890",
   "metadata": {},
   "outputs": [
    {
     "data": {
      "text/html": [
       "<pre style=\"white-space:pre;overflow-x:auto;line-height:normal;font-family:Menlo,'DejaVu Sans Mono',consolas,'Courier New',monospace\">╭──────── SyftClient.email = 'liamtrask@gmail.com' ────────╮\n",
       "│                                                          │\n",
       "│  <span style=\"color: #7f7f7f; text-decoration-color: #7f7f7f\">.folder</span> = /Users/atrask/SyftBox/liamtrask_at_gmail_com  │\n",
       "│                                                          │\n",
       "│  <span style=\"color: #7f7f7f; text-decoration-color: #7f7f7f\">.platforms</span>                                              │\n",
       "│    <span style=\"color: #808000; text-decoration-color: #808000; font-weight: bold\">.google_personal</span>                                      │\n",
       "│      <span style=\"color: #008000; text-decoration-color: #008000\">✓</span> <span style=\"color: #008000; text-decoration-color: #008000\">.gmail</span>                                            │\n",
       "│      <span style=\"color: #008000; text-decoration-color: #008000\">✓</span> <span style=\"color: #008000; text-decoration-color: #008000\">.gdrive_files</span>                                     │\n",
       "│      <span style=\"color: #7f7f7f; text-decoration-color: #7f7f7f\">✗</span> <span style=\"color: #7f7f7f; text-decoration-color: #7f7f7f\">.gsheets</span> <span style=\"color: #7f7f7f; text-decoration-color: #7f7f7f\">(call .init() to initialize)</span>             │\n",
       "│      <span style=\"color: #7f7f7f; text-decoration-color: #7f7f7f\">✗</span> <span style=\"color: #7f7f7f; text-decoration-color: #7f7f7f\">.gforms</span> <span style=\"color: #7f7f7f; text-decoration-color: #7f7f7f\">(call .init() to initialize)</span>              │\n",
       "│                                                          │\n",
       "╰──────────────────────────────────────────────────────────╯\n",
       "</pre>\n"
      ],
      "text/plain": [
       "╭──────── SyftClient.email = 'liamtrask@gmail.com' ────────╮\n",
       "│                                                          │\n",
       "│  \u001b[2m.folder\u001b[0m = /Users/atrask/SyftBox/liamtrask_at_gmail_com  │\n",
       "│                                                          │\n",
       "│  \u001b[2m.platforms\u001b[0m                                              │\n",
       "│    \u001b[1;33m.google_personal\u001b[0m                                      │\n",
       "│      \u001b[32m✓\u001b[0m \u001b[32m.gmail\u001b[0m                                            │\n",
       "│      \u001b[32m✓\u001b[0m \u001b[32m.gdrive_files\u001b[0m                                     │\n",
       "│      \u001b[2m✗\u001b[0m \u001b[2m.gsheets\u001b[0m \u001b[2m(call .init() to initialize)\u001b[0m             │\n",
       "│      \u001b[2m✗\u001b[0m \u001b[2m.gforms\u001b[0m \u001b[2m(call .init() to initialize)\u001b[0m              │\n",
       "│                                                          │\n",
       "╰──────────────────────────────────────────────────────────╯\n"
      ]
     },
     "metadata": {},
     "output_type": "display_data"
    },
    {
     "data": {
      "text/plain": []
     },
     "execution_count": 17,
     "metadata": {},
     "output_type": "execute_result"
    }
   ],
   "source": [
    "# test that gdrive_Files shows up in client repr\n",
    "client"
   ]
  },
  {
   "cell_type": "code",
   "execution_count": 18,
   "id": "5a90fadf-89e9-47fc-8c5d-d8f32b79eed3",
   "metadata": {},
   "outputs": [
    {
     "data": {
      "text/html": [
       "<pre style=\"white-space:pre;overflow-x:auto;line-height:normal;font-family:Menlo,'DejaVu Sans Mono',consolas,'Courier New',monospace\"><span style=\"color: #008000; text-decoration-color: #008000\">╭──────────────────────────────────────────────────────────╮</span>\n",
       "<span style=\"color: #008000; text-decoration-color: #008000\">│</span> <span style=\"color: #008000; text-decoration-color: #008000; font-weight: bold\">✓ gdrivefiles transport is already initialized!</span>          <span style=\"color: #008000; text-decoration-color: #008000\">│</span>\n",
       "<span style=\"color: #008000; text-decoration-color: #008000\">│</span>                                                          <span style=\"color: #008000; text-decoration-color: #008000\">│</span>\n",
       "<span style=\"color: #008000; text-decoration-color: #008000\">│</span> No action needed - this transport is ready to use.       <span style=\"color: #008000; text-decoration-color: #008000\">│</span>\n",
       "<span style=\"color: #008000; text-decoration-color: #008000\">│</span>                                                          <span style=\"color: #008000; text-decoration-color: #008000\">│</span>\n",
       "<span style=\"color: #008000; text-decoration-color: #008000\">│</span> <span style=\"font-weight: bold\">Available methods:</span>                                       <span style=\"color: #008000; text-decoration-color: #008000\">│</span>\n",
       "<span style=\"color: #008000; text-decoration-color: #008000\">│</span>   • List files: <span style=\"color: #008080; text-decoration-color: #008080\">.list_files()</span>                            <span style=\"color: #008000; text-decoration-color: #008000\">│</span>\n",
       "<span style=\"color: #008000; text-decoration-color: #008000\">│</span>   • Upload file: <span style=\"color: #008080; text-decoration-color: #008080\">.upload_file(filepath)</span>                  <span style=\"color: #008000; text-decoration-color: #008000\">│</span>\n",
       "<span style=\"color: #008000; text-decoration-color: #008000\">│</span>   • Download file: <span style=\"color: #008080; text-decoration-color: #008080\">.download_file(file_id, save_path)</span>    <span style=\"color: #008000; text-decoration-color: #008000\">│</span>\n",
       "<span style=\"color: #008000; text-decoration-color: #008000\">│</span>                                                          <span style=\"color: #008000; text-decoration-color: #008000\">│</span>\n",
       "<span style=\"color: #008000; text-decoration-color: #008000\">│</span> <span style=\"color: #7f7f7f; text-decoration-color: #7f7f7f\">Access via: client.platforms.google_personal.gdrivefiles</span> <span style=\"color: #008000; text-decoration-color: #008000\">│</span>\n",
       "<span style=\"color: #008000; text-decoration-color: #008000\">╰──────────────────────────────────────────────────────────╯</span>\n",
       "</pre>\n"
      ],
      "text/plain": [
       "\u001b[32m╭──────────────────────────────────────────────────────────╮\u001b[0m\n",
       "\u001b[32m│\u001b[0m \u001b[1;32m✓ gdrivefiles transport is already initialized!\u001b[0m          \u001b[32m│\u001b[0m\n",
       "\u001b[32m│\u001b[0m                                                          \u001b[32m│\u001b[0m\n",
       "\u001b[32m│\u001b[0m No action needed - this transport is ready to use.       \u001b[32m│\u001b[0m\n",
       "\u001b[32m│\u001b[0m                                                          \u001b[32m│\u001b[0m\n",
       "\u001b[32m│\u001b[0m \u001b[1mAvailable methods:\u001b[0m                                       \u001b[32m│\u001b[0m\n",
       "\u001b[32m│\u001b[0m   • List files: \u001b[36m.list_files()\u001b[0m                            \u001b[32m│\u001b[0m\n",
       "\u001b[32m│\u001b[0m   • Upload file: \u001b[36m.upload_file(filepath)\u001b[0m                  \u001b[32m│\u001b[0m\n",
       "\u001b[32m│\u001b[0m   • Download file: \u001b[36m.download_file(file_id, save_path)\u001b[0m    \u001b[32m│\u001b[0m\n",
       "\u001b[32m│\u001b[0m                                                          \u001b[32m│\u001b[0m\n",
       "\u001b[32m│\u001b[0m \u001b[2mAccess via: client.platforms.google_personal.gdrivefiles\u001b[0m \u001b[32m│\u001b[0m\n",
       "\u001b[32m╰──────────────────────────────────────────────────────────╯\u001b[0m\n"
      ]
     },
     "metadata": {},
     "output_type": "display_data"
    },
    {
     "data": {
      "text/plain": [
       "True"
      ]
     },
     "execution_count": 18,
     "metadata": {},
     "output_type": "execute_result"
    }
   ],
   "source": [
    "# test that calling init twice fails gracefully\n",
    "client.platforms.google_personal.gdrive_files.init()"
   ]
  },
  {
   "cell_type": "code",
   "execution_count": 19,
   "id": "13c93908-b39b-4646-b731-f7d7035e715f",
   "metadata": {},
   "outputs": [
    {
     "ename": "RuntimeError",
     "evalue": "Transport 'gsheets' is not initialized. Please call .init() first.",
     "output_type": "error",
     "traceback": [
      "\u001b[31m---------------------------------------------------------------------------\u001b[39m",
      "\u001b[31mRuntimeError\u001b[39m                              Traceback (most recent call last)",
      "\u001b[36mCell\u001b[39m\u001b[36m \u001b[39m\u001b[32mIn[19]\u001b[39m\u001b[32m, line 2\u001b[39m\n\u001b[32m      1\u001b[39m \u001b[38;5;66;03m# make sure the other ones still don't work\u001b[39;00m\n\u001b[32m----> \u001b[39m\u001b[32m2\u001b[39m \u001b[43mclient\u001b[49m\u001b[43m.\u001b[49m\u001b[43mplatforms\u001b[49m\u001b[43m.\u001b[49m\u001b[43mgoogle_personal\u001b[49m\u001b[43m.\u001b[49m\u001b[43mgsheets\u001b[49m\u001b[43m.\u001b[49m\u001b[43mtest\u001b[49m(\u001b[33m\"\u001b[39m\u001b[33mabc123\u001b[39m\u001b[33m\"\u001b[39m, cleanup=\u001b[38;5;28;01mFalse\u001b[39;00m)\n",
      "\u001b[36mFile \u001b[39m\u001b[32m~/Desktop/Laboratory/syft-client/test_notebooks/../syft_client/platforms/google_personal/client.py:200\u001b[39m, in \u001b[36mGooglePersonalClient._create_transport_stubs.<locals>.UninitializedTransport.__getattr__\u001b[39m\u001b[34m(self, name)\u001b[39m\n\u001b[32m    198\u001b[39m     \u001b[38;5;28;01mreturn\u001b[39;00m \u001b[38;5;28mobject\u001b[39m.\u001b[34m__getattribute__\u001b[39m(\u001b[38;5;28mself\u001b[39m, name)\n\u001b[32m    199\u001b[39m \u001b[38;5;28;01mif\u001b[39;00m \u001b[38;5;129;01mnot\u001b[39;00m \u001b[38;5;28mself\u001b[39m._setup_called:\n\u001b[32m--> \u001b[39m\u001b[32m200\u001b[39m     \u001b[38;5;28;01mraise\u001b[39;00m \u001b[38;5;167;01mRuntimeError\u001b[39;00m(\u001b[33mf\u001b[39m\u001b[33m\"\u001b[39m\u001b[33mTransport \u001b[39m\u001b[33m'\u001b[39m\u001b[38;5;132;01m{\u001b[39;00m\u001b[38;5;28mself\u001b[39m._transport_name\u001b[38;5;132;01m}\u001b[39;00m\u001b[33m'\u001b[39m\u001b[33m is not initialized. Please call .init() first.\u001b[39m\u001b[33m\"\u001b[39m)\n\u001b[32m    201\u001b[39m \u001b[38;5;28;01mif\u001b[39;00m \u001b[38;5;28mself\u001b[39m._real_transport:\n\u001b[32m    202\u001b[39m     \u001b[38;5;28;01mreturn\u001b[39;00m \u001b[38;5;28mgetattr\u001b[39m(\u001b[38;5;28mself\u001b[39m._real_transport, name)\n",
      "\u001b[31mRuntimeError\u001b[39m: Transport 'gsheets' is not initialized. Please call .init() first."
     ]
    }
   ],
   "source": [
    "# make sure the other ones still don't work\n",
    "client.platforms.google_personal.gsheets.test(\"abc123\", cleanup=False)"
   ]
  },
  {
   "cell_type": "code",
   "execution_count": 20,
   "id": "121ec71f-8282-423b-850e-65d2d8cd8bc2",
   "metadata": {},
   "outputs": [
    {
     "ename": "RuntimeError",
     "evalue": "Transport 'gforms' is not initialized. Please call .init() first.",
     "output_type": "error",
     "traceback": [
      "\u001b[31m---------------------------------------------------------------------------\u001b[39m",
      "\u001b[31mRuntimeError\u001b[39m                              Traceback (most recent call last)",
      "\u001b[36mCell\u001b[39m\u001b[36m \u001b[39m\u001b[32mIn[20]\u001b[39m\u001b[32m, line 2\u001b[39m\n\u001b[32m      1\u001b[39m \u001b[38;5;66;03m# make sure the other ones still don't work\u001b[39;00m\n\u001b[32m----> \u001b[39m\u001b[32m2\u001b[39m \u001b[43mclient\u001b[49m\u001b[43m.\u001b[49m\u001b[43mplatforms\u001b[49m\u001b[43m.\u001b[49m\u001b[43mgoogle_personal\u001b[49m\u001b[43m.\u001b[49m\u001b[43mgforms\u001b[49m\u001b[43m.\u001b[49m\u001b[43mtest\u001b[49m(\u001b[33m\"\u001b[39m\u001b[33mabc123\u001b[39m\u001b[33m\"\u001b[39m, cleanup=\u001b[38;5;28;01mFalse\u001b[39;00m)\n",
      "\u001b[36mFile \u001b[39m\u001b[32m~/Desktop/Laboratory/syft-client/test_notebooks/../syft_client/platforms/google_personal/client.py:200\u001b[39m, in \u001b[36mGooglePersonalClient._create_transport_stubs.<locals>.UninitializedTransport.__getattr__\u001b[39m\u001b[34m(self, name)\u001b[39m\n\u001b[32m    198\u001b[39m     \u001b[38;5;28;01mreturn\u001b[39;00m \u001b[38;5;28mobject\u001b[39m.\u001b[34m__getattribute__\u001b[39m(\u001b[38;5;28mself\u001b[39m, name)\n\u001b[32m    199\u001b[39m \u001b[38;5;28;01mif\u001b[39;00m \u001b[38;5;129;01mnot\u001b[39;00m \u001b[38;5;28mself\u001b[39m._setup_called:\n\u001b[32m--> \u001b[39m\u001b[32m200\u001b[39m     \u001b[38;5;28;01mraise\u001b[39;00m \u001b[38;5;167;01mRuntimeError\u001b[39;00m(\u001b[33mf\u001b[39m\u001b[33m\"\u001b[39m\u001b[33mTransport \u001b[39m\u001b[33m'\u001b[39m\u001b[38;5;132;01m{\u001b[39;00m\u001b[38;5;28mself\u001b[39m._transport_name\u001b[38;5;132;01m}\u001b[39;00m\u001b[33m'\u001b[39m\u001b[33m is not initialized. Please call .init() first.\u001b[39m\u001b[33m\"\u001b[39m)\n\u001b[32m    201\u001b[39m \u001b[38;5;28;01mif\u001b[39;00m \u001b[38;5;28mself\u001b[39m._real_transport:\n\u001b[32m    202\u001b[39m     \u001b[38;5;28;01mreturn\u001b[39;00m \u001b[38;5;28mgetattr\u001b[39m(\u001b[38;5;28mself\u001b[39m._real_transport, name)\n",
      "\u001b[31mRuntimeError\u001b[39m: Transport 'gforms' is not initialized. Please call .init() first."
     ]
    }
   ],
   "source": [
    "# make sure the other ones still don't work\n",
    "client.platforms.google_personal.gforms.test(\"abc123\", cleanup=False)"
   ]
  },
  {
   "cell_type": "code",
   "execution_count": 21,
   "id": "34e520fb-1bd4-4b0b-9bf1-d943091d5022",
   "metadata": {},
   "outputs": [
    {
     "data": {
      "text/html": [
       "<pre style=\"white-space:pre;overflow-x:auto;line-height:normal;font-family:Menlo,'DejaVu Sans Mono',consolas,'Courier New',monospace\">╭──────── SyftClient.email = 'liamtrask@gmail.com' ────────╮\n",
       "│                                                          │\n",
       "│  <span style=\"color: #7f7f7f; text-decoration-color: #7f7f7f\">.folder</span> = /Users/atrask/SyftBox/liamtrask_at_gmail_com  │\n",
       "│                                                          │\n",
       "│  <span style=\"color: #7f7f7f; text-decoration-color: #7f7f7f\">.platforms</span>                                              │\n",
       "│    <span style=\"color: #808000; text-decoration-color: #808000; font-weight: bold\">.google_personal</span>                                      │\n",
       "│      <span style=\"color: #008000; text-decoration-color: #008000\">✓</span> <span style=\"color: #008000; text-decoration-color: #008000\">.gmail</span>                                            │\n",
       "│      <span style=\"color: #008000; text-decoration-color: #008000\">✓</span> <span style=\"color: #008000; text-decoration-color: #008000\">.gdrive_files</span>                                     │\n",
       "│      <span style=\"color: #7f7f7f; text-decoration-color: #7f7f7f\">✗</span> <span style=\"color: #7f7f7f; text-decoration-color: #7f7f7f\">.gsheets</span> <span style=\"color: #7f7f7f; text-decoration-color: #7f7f7f\">(call .init() to initialize)</span>             │\n",
       "│      <span style=\"color: #7f7f7f; text-decoration-color: #7f7f7f\">✗</span> <span style=\"color: #7f7f7f; text-decoration-color: #7f7f7f\">.gforms</span> <span style=\"color: #7f7f7f; text-decoration-color: #7f7f7f\">(call .init() to initialize)</span>              │\n",
       "│                                                          │\n",
       "╰──────────────────────────────────────────────────────────╯\n",
       "</pre>\n"
      ],
      "text/plain": [
       "╭──────── SyftClient.email = 'liamtrask@gmail.com' ────────╮\n",
       "│                                                          │\n",
       "│  \u001b[2m.folder\u001b[0m = /Users/atrask/SyftBox/liamtrask_at_gmail_com  │\n",
       "│                                                          │\n",
       "│  \u001b[2m.platforms\u001b[0m                                              │\n",
       "│    \u001b[1;33m.google_personal\u001b[0m                                      │\n",
       "│      \u001b[32m✓\u001b[0m \u001b[32m.gmail\u001b[0m                                            │\n",
       "│      \u001b[32m✓\u001b[0m \u001b[32m.gdrive_files\u001b[0m                                     │\n",
       "│      \u001b[2m✗\u001b[0m \u001b[2m.gsheets\u001b[0m \u001b[2m(call .init() to initialize)\u001b[0m             │\n",
       "│      \u001b[2m✗\u001b[0m \u001b[2m.gforms\u001b[0m \u001b[2m(call .init() to initialize)\u001b[0m              │\n",
       "│                                                          │\n",
       "╰──────────────────────────────────────────────────────────╯\n"
      ]
     },
     "metadata": {},
     "output_type": "display_data"
    },
    {
     "data": {
      "text/plain": []
     },
     "execution_count": 21,
     "metadata": {},
     "output_type": "execute_result"
    }
   ],
   "source": [
    "client"
   ]
  },
  {
   "cell_type": "markdown",
   "id": "9ad82135-c8ce-4ad9-8286-ef5fda68f2fd",
   "metadata": {},
   "source": [
    "# Test 11: initialize gsheets and test"
   ]
  },
  {
   "cell_type": "code",
   "execution_count": 22,
   "id": "0e5708bd-32ca-4342-83ac-e3abb96c244e",
   "metadata": {},
   "outputs": [
    {
     "name": "stdout",
     "output_type": "stream",
     "text": [
      "\n",
      "Initializing gsheets transport...\n",
      "  • Creating gsheets transport instance...\n",
      "  • Setting up with OAuth2 credentials...\n",
      "  ✓ OAuth2 credentials configured\n",
      "\n"
     ]
    },
    {
     "data": {
      "text/html": [
       "<pre style=\"white-space:pre;overflow-x:auto;line-height:normal;font-family:Menlo,'DejaVu Sans Mono',consolas,'Courier New',monospace\"><span style=\"color: #008000; text-decoration-color: #008000\">╭─────────────────────────────────────────────────────────────╮</span>\n",
       "<span style=\"color: #008000; text-decoration-color: #008000\">│</span> <span style=\"color: #008000; text-decoration-color: #008000; font-weight: bold\">✓ gsheets transport initialized successfully!</span>               <span style=\"color: #008000; text-decoration-color: #008000\">│</span>\n",
       "<span style=\"color: #008000; text-decoration-color: #008000\">│</span>                                                             <span style=\"color: #008000; text-decoration-color: #008000\">│</span>\n",
       "<span style=\"color: #008000; text-decoration-color: #008000\">│</span> <span style=\"font-weight: bold\">What you can do now:</span>                                        <span style=\"color: #008000; text-decoration-color: #008000\">│</span>\n",
       "<span style=\"color: #008000; text-decoration-color: #008000\">│</span>   • Read sheet: <span style=\"color: #008080; text-decoration-color: #008080\">.read_sheet(spreadsheet_id, range)</span>          <span style=\"color: #008000; text-decoration-color: #008000\">│</span>\n",
       "<span style=\"color: #008000; text-decoration-color: #008000\">│</span>   • Write data: <span style=\"color: #008080; text-decoration-color: #008080\">.write_sheet(spreadsheet_id, range, values)</span> <span style=\"color: #008000; text-decoration-color: #008000\">│</span>\n",
       "<span style=\"color: #008000; text-decoration-color: #008000\">│</span>   • Create sheet: <span style=\"color: #008080; text-decoration-color: #008080\">.create_sheet(title)</span>                      <span style=\"color: #008000; text-decoration-color: #008000\">│</span>\n",
       "<span style=\"color: #008000; text-decoration-color: #008000\">│</span>                                                             <span style=\"color: #008000; text-decoration-color: #008000\">│</span>\n",
       "<span style=\"color: #008000; text-decoration-color: #008000\">│</span> <span style=\"color: #7f7f7f; text-decoration-color: #7f7f7f\">Access via: client.platforms.google_personal.gsheets</span>        <span style=\"color: #008000; text-decoration-color: #008000\">│</span>\n",
       "<span style=\"color: #008000; text-decoration-color: #008000\">╰─────────────────────────────────────────────────────────────╯</span>\n",
       "</pre>\n"
      ],
      "text/plain": [
       "\u001b[32m╭─────────────────────────────────────────────────────────────╮\u001b[0m\n",
       "\u001b[32m│\u001b[0m \u001b[1;32m✓ gsheets transport initialized successfully!\u001b[0m               \u001b[32m│\u001b[0m\n",
       "\u001b[32m│\u001b[0m                                                             \u001b[32m│\u001b[0m\n",
       "\u001b[32m│\u001b[0m \u001b[1mWhat you can do now:\u001b[0m                                        \u001b[32m│\u001b[0m\n",
       "\u001b[32m│\u001b[0m   • Read sheet: \u001b[36m.read_sheet(spreadsheet_id, range)\u001b[0m          \u001b[32m│\u001b[0m\n",
       "\u001b[32m│\u001b[0m   • Write data: \u001b[36m.write_sheet(spreadsheet_id, range, values)\u001b[0m \u001b[32m│\u001b[0m\n",
       "\u001b[32m│\u001b[0m   • Create sheet: \u001b[36m.create_sheet(title)\u001b[0m                      \u001b[32m│\u001b[0m\n",
       "\u001b[32m│\u001b[0m                                                             \u001b[32m│\u001b[0m\n",
       "\u001b[32m│\u001b[0m \u001b[2mAccess via: client.platforms.google_personal.gsheets\u001b[0m        \u001b[32m│\u001b[0m\n",
       "\u001b[32m╰─────────────────────────────────────────────────────────────╯\u001b[0m\n"
      ]
     },
     "metadata": {},
     "output_type": "display_data"
    },
    {
     "data": {
      "text/plain": [
       "True"
      ]
     },
     "execution_count": 22,
     "metadata": {},
     "output_type": "execute_result"
    }
   ],
   "source": [
    "client.platforms.google_personal.gsheets.init()"
   ]
  },
  {
   "cell_type": "code",
   "execution_count": 23,
   "id": "63cbaa1c-9440-4ed7-8810-f266f371f678",
   "metadata": {},
   "outputs": [
    {
     "name": "stdout",
     "output_type": "stream",
     "text": [
      "✅ Google Sheets test successful! Spreadsheet created with test data\n"
     ]
    },
    {
     "data": {
      "text/plain": [
       "{'success': True,\n",
       " 'url': 'https://docs.google.com/spreadsheets/d/1GjbDsvpgs-BdKskRNVR8hDvoJdvPIIp7N-E8BEnLe60/edit'}"
      ]
     },
     "execution_count": 23,
     "metadata": {},
     "output_type": "execute_result"
    }
   ],
   "source": [
    "# test that gsheets worksa nd you can see the file\n",
    "client.platforms.google_personal.gsheets.test(\"abc123\", cleanup=False)"
   ]
  },
  {
   "cell_type": "code",
   "execution_count": 24,
   "id": "8c3d1ab7-1920-497c-b0fc-81b4b0850e78",
   "metadata": {},
   "outputs": [
    {
     "data": {
      "text/html": [
       "<pre style=\"white-space:pre;overflow-x:auto;line-height:normal;font-family:Menlo,'DejaVu Sans Mono',consolas,'Courier New',monospace\"><span style=\"color: #008000; text-decoration-color: #008000\">╭─────────────────────────────────────────────────────────────╮</span>\n",
       "<span style=\"color: #008000; text-decoration-color: #008000\">│</span> <span style=\"color: #008000; text-decoration-color: #008000; font-weight: bold\">✓ gsheets transport is already initialized!</span>                 <span style=\"color: #008000; text-decoration-color: #008000\">│</span>\n",
       "<span style=\"color: #008000; text-decoration-color: #008000\">│</span>                                                             <span style=\"color: #008000; text-decoration-color: #008000\">│</span>\n",
       "<span style=\"color: #008000; text-decoration-color: #008000\">│</span> No action needed - this transport is ready to use.          <span style=\"color: #008000; text-decoration-color: #008000\">│</span>\n",
       "<span style=\"color: #008000; text-decoration-color: #008000\">│</span>                                                             <span style=\"color: #008000; text-decoration-color: #008000\">│</span>\n",
       "<span style=\"color: #008000; text-decoration-color: #008000\">│</span> <span style=\"font-weight: bold\">Available methods:</span>                                          <span style=\"color: #008000; text-decoration-color: #008000\">│</span>\n",
       "<span style=\"color: #008000; text-decoration-color: #008000\">│</span>   • Read sheet: <span style=\"color: #008080; text-decoration-color: #008080\">.read_sheet(spreadsheet_id, range)</span>          <span style=\"color: #008000; text-decoration-color: #008000\">│</span>\n",
       "<span style=\"color: #008000; text-decoration-color: #008000\">│</span>   • Write data: <span style=\"color: #008080; text-decoration-color: #008080\">.write_sheet(spreadsheet_id, range, values)</span> <span style=\"color: #008000; text-decoration-color: #008000\">│</span>\n",
       "<span style=\"color: #008000; text-decoration-color: #008000\">│</span>   • Create sheet: <span style=\"color: #008080; text-decoration-color: #008080\">.create_sheet(title)</span>                      <span style=\"color: #008000; text-decoration-color: #008000\">│</span>\n",
       "<span style=\"color: #008000; text-decoration-color: #008000\">│</span>                                                             <span style=\"color: #008000; text-decoration-color: #008000\">│</span>\n",
       "<span style=\"color: #008000; text-decoration-color: #008000\">│</span> <span style=\"color: #7f7f7f; text-decoration-color: #7f7f7f\">Access via: client.platforms.google_personal.gsheets</span>        <span style=\"color: #008000; text-decoration-color: #008000\">│</span>\n",
       "<span style=\"color: #008000; text-decoration-color: #008000\">╰─────────────────────────────────────────────────────────────╯</span>\n",
       "</pre>\n"
      ],
      "text/plain": [
       "\u001b[32m╭─────────────────────────────────────────────────────────────╮\u001b[0m\n",
       "\u001b[32m│\u001b[0m \u001b[1;32m✓ gsheets transport is already initialized!\u001b[0m                 \u001b[32m│\u001b[0m\n",
       "\u001b[32m│\u001b[0m                                                             \u001b[32m│\u001b[0m\n",
       "\u001b[32m│\u001b[0m No action needed - this transport is ready to use.          \u001b[32m│\u001b[0m\n",
       "\u001b[32m│\u001b[0m                                                             \u001b[32m│\u001b[0m\n",
       "\u001b[32m│\u001b[0m \u001b[1mAvailable methods:\u001b[0m                                          \u001b[32m│\u001b[0m\n",
       "\u001b[32m│\u001b[0m   • Read sheet: \u001b[36m.read_sheet(spreadsheet_id, range)\u001b[0m          \u001b[32m│\u001b[0m\n",
       "\u001b[32m│\u001b[0m   • Write data: \u001b[36m.write_sheet(spreadsheet_id, range, values)\u001b[0m \u001b[32m│\u001b[0m\n",
       "\u001b[32m│\u001b[0m   • Create sheet: \u001b[36m.create_sheet(title)\u001b[0m                      \u001b[32m│\u001b[0m\n",
       "\u001b[32m│\u001b[0m                                                             \u001b[32m│\u001b[0m\n",
       "\u001b[32m│\u001b[0m \u001b[2mAccess via: client.platforms.google_personal.gsheets\u001b[0m        \u001b[32m│\u001b[0m\n",
       "\u001b[32m╰─────────────────────────────────────────────────────────────╯\u001b[0m\n"
      ]
     },
     "metadata": {},
     "output_type": "display_data"
    },
    {
     "data": {
      "text/plain": [
       "True"
      ]
     },
     "execution_count": 24,
     "metadata": {},
     "output_type": "execute_result"
    }
   ],
   "source": [
    "# ensure calling init() a second time fails gracefully\n",
    "client.platforms.google_personal.gsheets.init()"
   ]
  },
  {
   "cell_type": "code",
   "execution_count": 25,
   "id": "382db145-dd02-46b3-af09-c4704d3d5474",
   "metadata": {},
   "outputs": [
    {
     "data": {
      "text/html": [
       "<pre style=\"white-space:pre;overflow-x:auto;line-height:normal;font-family:Menlo,'DejaVu Sans Mono',consolas,'Courier New',monospace\">╭──────── SyftClient.email = 'liamtrask@gmail.com' ────────╮\n",
       "│                                                          │\n",
       "│  <span style=\"color: #7f7f7f; text-decoration-color: #7f7f7f\">.folder</span> = /Users/atrask/SyftBox/liamtrask_at_gmail_com  │\n",
       "│                                                          │\n",
       "│  <span style=\"color: #7f7f7f; text-decoration-color: #7f7f7f\">.platforms</span>                                              │\n",
       "│    <span style=\"color: #808000; text-decoration-color: #808000; font-weight: bold\">.google_personal</span>                                      │\n",
       "│      <span style=\"color: #008000; text-decoration-color: #008000\">✓</span> <span style=\"color: #008000; text-decoration-color: #008000\">.gmail</span>                                            │\n",
       "│      <span style=\"color: #008000; text-decoration-color: #008000\">✓</span> <span style=\"color: #008000; text-decoration-color: #008000\">.gdrive_files</span>                                     │\n",
       "│      <span style=\"color: #008000; text-decoration-color: #008000\">✓</span> <span style=\"color: #008000; text-decoration-color: #008000\">.gsheets</span>                                          │\n",
       "│      <span style=\"color: #7f7f7f; text-decoration-color: #7f7f7f\">✗</span> <span style=\"color: #7f7f7f; text-decoration-color: #7f7f7f\">.gforms</span> <span style=\"color: #7f7f7f; text-decoration-color: #7f7f7f\">(call .init() to initialize)</span>              │\n",
       "│                                                          │\n",
       "╰──────────────────────────────────────────────────────────╯\n",
       "</pre>\n"
      ],
      "text/plain": [
       "╭──────── SyftClient.email = 'liamtrask@gmail.com' ────────╮\n",
       "│                                                          │\n",
       "│  \u001b[2m.folder\u001b[0m = /Users/atrask/SyftBox/liamtrask_at_gmail_com  │\n",
       "│                                                          │\n",
       "│  \u001b[2m.platforms\u001b[0m                                              │\n",
       "│    \u001b[1;33m.google_personal\u001b[0m                                      │\n",
       "│      \u001b[32m✓\u001b[0m \u001b[32m.gmail\u001b[0m                                            │\n",
       "│      \u001b[32m✓\u001b[0m \u001b[32m.gdrive_files\u001b[0m                                     │\n",
       "│      \u001b[32m✓\u001b[0m \u001b[32m.gsheets\u001b[0m                                          │\n",
       "│      \u001b[2m✗\u001b[0m \u001b[2m.gforms\u001b[0m \u001b[2m(call .init() to initialize)\u001b[0m              │\n",
       "│                                                          │\n",
       "╰──────────────────────────────────────────────────────────╯\n"
      ]
     },
     "metadata": {},
     "output_type": "display_data"
    },
    {
     "data": {
      "text/plain": []
     },
     "execution_count": 25,
     "metadata": {},
     "output_type": "execute_result"
    }
   ],
   "source": [
    "client"
   ]
  },
  {
   "cell_type": "code",
   "execution_count": 26,
   "id": "ebceb929-b9b8-46cd-9c0d-da73027b0307",
   "metadata": {},
   "outputs": [
    {
     "ename": "RuntimeError",
     "evalue": "Transport 'gforms' is not initialized. Please call .init() first.",
     "output_type": "error",
     "traceback": [
      "\u001b[31m---------------------------------------------------------------------------\u001b[39m",
      "\u001b[31mRuntimeError\u001b[39m                              Traceback (most recent call last)",
      "\u001b[36mCell\u001b[39m\u001b[36m \u001b[39m\u001b[32mIn[26]\u001b[39m\u001b[32m, line 2\u001b[39m\n\u001b[32m      1\u001b[39m \u001b[38;5;66;03m# make sure the other ones still don't work\u001b[39;00m\n\u001b[32m----> \u001b[39m\u001b[32m2\u001b[39m \u001b[43mclient\u001b[49m\u001b[43m.\u001b[49m\u001b[43mplatforms\u001b[49m\u001b[43m.\u001b[49m\u001b[43mgoogle_personal\u001b[49m\u001b[43m.\u001b[49m\u001b[43mgforms\u001b[49m\u001b[43m.\u001b[49m\u001b[43mtest\u001b[49m(\u001b[33m\"\u001b[39m\u001b[33mabc123\u001b[39m\u001b[33m\"\u001b[39m, cleanup=\u001b[38;5;28;01mFalse\u001b[39;00m)\n",
      "\u001b[36mFile \u001b[39m\u001b[32m~/Desktop/Laboratory/syft-client/test_notebooks/../syft_client/platforms/google_personal/client.py:200\u001b[39m, in \u001b[36mGooglePersonalClient._create_transport_stubs.<locals>.UninitializedTransport.__getattr__\u001b[39m\u001b[34m(self, name)\u001b[39m\n\u001b[32m    198\u001b[39m     \u001b[38;5;28;01mreturn\u001b[39;00m \u001b[38;5;28mobject\u001b[39m.\u001b[34m__getattribute__\u001b[39m(\u001b[38;5;28mself\u001b[39m, name)\n\u001b[32m    199\u001b[39m \u001b[38;5;28;01mif\u001b[39;00m \u001b[38;5;129;01mnot\u001b[39;00m \u001b[38;5;28mself\u001b[39m._setup_called:\n\u001b[32m--> \u001b[39m\u001b[32m200\u001b[39m     \u001b[38;5;28;01mraise\u001b[39;00m \u001b[38;5;167;01mRuntimeError\u001b[39;00m(\u001b[33mf\u001b[39m\u001b[33m\"\u001b[39m\u001b[33mTransport \u001b[39m\u001b[33m'\u001b[39m\u001b[38;5;132;01m{\u001b[39;00m\u001b[38;5;28mself\u001b[39m._transport_name\u001b[38;5;132;01m}\u001b[39;00m\u001b[33m'\u001b[39m\u001b[33m is not initialized. Please call .init() first.\u001b[39m\u001b[33m\"\u001b[39m)\n\u001b[32m    201\u001b[39m \u001b[38;5;28;01mif\u001b[39;00m \u001b[38;5;28mself\u001b[39m._real_transport:\n\u001b[32m    202\u001b[39m     \u001b[38;5;28;01mreturn\u001b[39;00m \u001b[38;5;28mgetattr\u001b[39m(\u001b[38;5;28mself\u001b[39m._real_transport, name)\n",
      "\u001b[31mRuntimeError\u001b[39m: Transport 'gforms' is not initialized. Please call .init() first."
     ]
    }
   ],
   "source": [
    "# make sure the other ones still don't work\n",
    "client.platforms.google_personal.gforms.test(\"abc123\", cleanup=False)"
   ]
  },
  {
   "cell_type": "markdown",
   "id": "0f27d0fe-a1aa-4d43-b0d7-c13ef7683ae3",
   "metadata": {},
   "source": [
    "# Test 12: Initialize GForms and test"
   ]
  },
  {
   "cell_type": "code",
   "execution_count": 27,
   "id": "620a1075-c863-4523-a51c-96a5d4c1209f",
   "metadata": {},
   "outputs": [
    {
     "name": "stdout",
     "output_type": "stream",
     "text": [
      "\n",
      "Initializing gforms transport...\n",
      "  • Creating gforms transport instance...\n",
      "  • Setting up with OAuth2 credentials...\n",
      "  ✓ OAuth2 credentials configured\n",
      "\n"
     ]
    },
    {
     "data": {
      "text/html": [
       "<pre style=\"white-space:pre;overflow-x:auto;line-height:normal;font-family:Menlo,'DejaVu Sans Mono',consolas,'Courier New',monospace\"><span style=\"color: #008000; text-decoration-color: #008000\">╭─────────────────────────────────────────────────────╮</span>\n",
       "<span style=\"color: #008000; text-decoration-color: #008000\">│</span> <span style=\"color: #008000; text-decoration-color: #008000; font-weight: bold\">✓ gforms transport initialized successfully!</span>        <span style=\"color: #008000; text-decoration-color: #008000\">│</span>\n",
       "<span style=\"color: #008000; text-decoration-color: #008000\">│</span>                                                     <span style=\"color: #008000; text-decoration-color: #008000\">│</span>\n",
       "<span style=\"color: #008000; text-decoration-color: #008000\">│</span> <span style=\"font-weight: bold\">What you can do now:</span>                                <span style=\"color: #008000; text-decoration-color: #008000\">│</span>\n",
       "<span style=\"color: #008000; text-decoration-color: #008000\">│</span>   • List forms: <span style=\"color: #008080; text-decoration-color: #008080\">.list_forms()</span>                       <span style=\"color: #008000; text-decoration-color: #008000\">│</span>\n",
       "<span style=\"color: #008000; text-decoration-color: #008000\">│</span>   • Get responses: <span style=\"color: #008080; text-decoration-color: #008080\">.get_responses(form_id)</span>          <span style=\"color: #008000; text-decoration-color: #008000\">│</span>\n",
       "<span style=\"color: #008000; text-decoration-color: #008000\">│</span>   • Create form: <span style=\"color: #008080; text-decoration-color: #008080\">.create_form(title)</span>                <span style=\"color: #008000; text-decoration-color: #008000\">│</span>\n",
       "<span style=\"color: #008000; text-decoration-color: #008000\">│</span>                                                     <span style=\"color: #008000; text-decoration-color: #008000\">│</span>\n",
       "<span style=\"color: #008000; text-decoration-color: #008000\">│</span> <span style=\"color: #7f7f7f; text-decoration-color: #7f7f7f\">Access via: client.platforms.google_personal.gforms</span> <span style=\"color: #008000; text-decoration-color: #008000\">│</span>\n",
       "<span style=\"color: #008000; text-decoration-color: #008000\">╰─────────────────────────────────────────────────────╯</span>\n",
       "</pre>\n"
      ],
      "text/plain": [
       "\u001b[32m╭─────────────────────────────────────────────────────╮\u001b[0m\n",
       "\u001b[32m│\u001b[0m \u001b[1;32m✓ gforms transport initialized successfully!\u001b[0m        \u001b[32m│\u001b[0m\n",
       "\u001b[32m│\u001b[0m                                                     \u001b[32m│\u001b[0m\n",
       "\u001b[32m│\u001b[0m \u001b[1mWhat you can do now:\u001b[0m                                \u001b[32m│\u001b[0m\n",
       "\u001b[32m│\u001b[0m   • List forms: \u001b[36m.list_forms()\u001b[0m                       \u001b[32m│\u001b[0m\n",
       "\u001b[32m│\u001b[0m   • Get responses: \u001b[36m.get_responses(form_id)\u001b[0m          \u001b[32m│\u001b[0m\n",
       "\u001b[32m│\u001b[0m   • Create form: \u001b[36m.create_form(title)\u001b[0m                \u001b[32m│\u001b[0m\n",
       "\u001b[32m│\u001b[0m                                                     \u001b[32m│\u001b[0m\n",
       "\u001b[32m│\u001b[0m \u001b[2mAccess via: client.platforms.google_personal.gforms\u001b[0m \u001b[32m│\u001b[0m\n",
       "\u001b[32m╰─────────────────────────────────────────────────────╯\u001b[0m\n"
      ]
     },
     "metadata": {},
     "output_type": "display_data"
    },
    {
     "data": {
      "text/plain": [
       "True"
      ]
     },
     "execution_count": 27,
     "metadata": {},
     "output_type": "execute_result"
    }
   ],
   "source": [
    "client.platforms.google_personal.gforms.init()"
   ]
  },
  {
   "cell_type": "code",
   "execution_count": 28,
   "id": "f8142490-fb94-4257-a36d-61a0d56bdc6c",
   "metadata": {},
   "outputs": [
    {
     "name": "stdout",
     "output_type": "stream",
     "text": [
      "✅ Google Forms test successful! Form created with 3 test questions\n"
     ]
    },
    {
     "data": {
      "text/plain": [
       "{'success': True,\n",
       " 'url': 'https://docs.google.com/forms/d/1R8KtH0USPSHzwTpQ_L0QfGN2fdOMntMUVwjJWTqRkNY/viewform'}"
      ]
     },
     "execution_count": 28,
     "metadata": {},
     "output_type": "execute_result"
    }
   ],
   "source": [
    "# test that gsheets worksa nd you can see the file\n",
    "client.platforms.google_personal.gforms.test(\"abc123\", cleanup=False)"
   ]
  },
  {
   "cell_type": "code",
   "execution_count": 29,
   "id": "d29ec613-ef7a-4718-8ade-9a8c3ad74de8",
   "metadata": {},
   "outputs": [
    {
     "data": {
      "text/html": [
       "<pre style=\"white-space:pre;overflow-x:auto;line-height:normal;font-family:Menlo,'DejaVu Sans Mono',consolas,'Courier New',monospace\"><span style=\"color: #008000; text-decoration-color: #008000\">╭─────────────────────────────────────────────────────╮</span>\n",
       "<span style=\"color: #008000; text-decoration-color: #008000\">│</span> <span style=\"color: #008000; text-decoration-color: #008000; font-weight: bold\">✓ gforms transport is already initialized!</span>          <span style=\"color: #008000; text-decoration-color: #008000\">│</span>\n",
       "<span style=\"color: #008000; text-decoration-color: #008000\">│</span>                                                     <span style=\"color: #008000; text-decoration-color: #008000\">│</span>\n",
       "<span style=\"color: #008000; text-decoration-color: #008000\">│</span> No action needed - this transport is ready to use.  <span style=\"color: #008000; text-decoration-color: #008000\">│</span>\n",
       "<span style=\"color: #008000; text-decoration-color: #008000\">│</span>                                                     <span style=\"color: #008000; text-decoration-color: #008000\">│</span>\n",
       "<span style=\"color: #008000; text-decoration-color: #008000\">│</span> <span style=\"font-weight: bold\">Available methods:</span>                                  <span style=\"color: #008000; text-decoration-color: #008000\">│</span>\n",
       "<span style=\"color: #008000; text-decoration-color: #008000\">│</span>   • List forms: <span style=\"color: #008080; text-decoration-color: #008080\">.list_forms()</span>                       <span style=\"color: #008000; text-decoration-color: #008000\">│</span>\n",
       "<span style=\"color: #008000; text-decoration-color: #008000\">│</span>   • Get responses: <span style=\"color: #008080; text-decoration-color: #008080\">.get_responses(form_id)</span>          <span style=\"color: #008000; text-decoration-color: #008000\">│</span>\n",
       "<span style=\"color: #008000; text-decoration-color: #008000\">│</span>   • Create form: <span style=\"color: #008080; text-decoration-color: #008080\">.create_form(title)</span>                <span style=\"color: #008000; text-decoration-color: #008000\">│</span>\n",
       "<span style=\"color: #008000; text-decoration-color: #008000\">│</span>                                                     <span style=\"color: #008000; text-decoration-color: #008000\">│</span>\n",
       "<span style=\"color: #008000; text-decoration-color: #008000\">│</span> <span style=\"color: #7f7f7f; text-decoration-color: #7f7f7f\">Access via: client.platforms.google_personal.gforms</span> <span style=\"color: #008000; text-decoration-color: #008000\">│</span>\n",
       "<span style=\"color: #008000; text-decoration-color: #008000\">╰─────────────────────────────────────────────────────╯</span>\n",
       "</pre>\n"
      ],
      "text/plain": [
       "\u001b[32m╭─────────────────────────────────────────────────────╮\u001b[0m\n",
       "\u001b[32m│\u001b[0m \u001b[1;32m✓ gforms transport is already initialized!\u001b[0m          \u001b[32m│\u001b[0m\n",
       "\u001b[32m│\u001b[0m                                                     \u001b[32m│\u001b[0m\n",
       "\u001b[32m│\u001b[0m No action needed - this transport is ready to use.  \u001b[32m│\u001b[0m\n",
       "\u001b[32m│\u001b[0m                                                     \u001b[32m│\u001b[0m\n",
       "\u001b[32m│\u001b[0m \u001b[1mAvailable methods:\u001b[0m                                  \u001b[32m│\u001b[0m\n",
       "\u001b[32m│\u001b[0m   • List forms: \u001b[36m.list_forms()\u001b[0m                       \u001b[32m│\u001b[0m\n",
       "\u001b[32m│\u001b[0m   • Get responses: \u001b[36m.get_responses(form_id)\u001b[0m          \u001b[32m│\u001b[0m\n",
       "\u001b[32m│\u001b[0m   • Create form: \u001b[36m.create_form(title)\u001b[0m                \u001b[32m│\u001b[0m\n",
       "\u001b[32m│\u001b[0m                                                     \u001b[32m│\u001b[0m\n",
       "\u001b[32m│\u001b[0m \u001b[2mAccess via: client.platforms.google_personal.gforms\u001b[0m \u001b[32m│\u001b[0m\n",
       "\u001b[32m╰─────────────────────────────────────────────────────╯\u001b[0m\n"
      ]
     },
     "metadata": {},
     "output_type": "display_data"
    },
    {
     "data": {
      "text/plain": [
       "True"
      ]
     },
     "execution_count": 29,
     "metadata": {},
     "output_type": "execute_result"
    }
   ],
   "source": [
    "# ensure calling init() a second time fails gracefully\n",
    "client.platforms.google_personal.gforms.init()"
   ]
  },
  {
   "cell_type": "code",
   "execution_count": 30,
   "id": "d3c59478-5f2e-4f96-b85c-946cb98dd8a4",
   "metadata": {},
   "outputs": [
    {
     "data": {
      "text/html": [
       "<pre style=\"white-space:pre;overflow-x:auto;line-height:normal;font-family:Menlo,'DejaVu Sans Mono',consolas,'Courier New',monospace\">╭──────── SyftClient.email = 'liamtrask@gmail.com' ────────╮\n",
       "│                                                          │\n",
       "│  <span style=\"color: #7f7f7f; text-decoration-color: #7f7f7f\">.folder</span> = /Users/atrask/SyftBox/liamtrask_at_gmail_com  │\n",
       "│                                                          │\n",
       "│  <span style=\"color: #7f7f7f; text-decoration-color: #7f7f7f\">.platforms</span>                                              │\n",
       "│    <span style=\"color: #808000; text-decoration-color: #808000; font-weight: bold\">.google_personal</span>                                      │\n",
       "│      <span style=\"color: #008000; text-decoration-color: #008000\">✓</span> <span style=\"color: #008000; text-decoration-color: #008000\">.gmail</span>                                            │\n",
       "│      <span style=\"color: #008000; text-decoration-color: #008000\">✓</span> <span style=\"color: #008000; text-decoration-color: #008000\">.gdrive_files</span>                                     │\n",
       "│      <span style=\"color: #008000; text-decoration-color: #008000\">✓</span> <span style=\"color: #008000; text-decoration-color: #008000\">.gsheets</span>                                          │\n",
       "│      <span style=\"color: #008000; text-decoration-color: #008000\">✓</span> <span style=\"color: #008000; text-decoration-color: #008000\">.gforms</span>                                           │\n",
       "│                                                          │\n",
       "╰──────────────────────────────────────────────────────────╯\n",
       "</pre>\n"
      ],
      "text/plain": [
       "╭──────── SyftClient.email = 'liamtrask@gmail.com' ────────╮\n",
       "│                                                          │\n",
       "│  \u001b[2m.folder\u001b[0m = /Users/atrask/SyftBox/liamtrask_at_gmail_com  │\n",
       "│                                                          │\n",
       "│  \u001b[2m.platforms\u001b[0m                                              │\n",
       "│    \u001b[1;33m.google_personal\u001b[0m                                      │\n",
       "│      \u001b[32m✓\u001b[0m \u001b[32m.gmail\u001b[0m                                            │\n",
       "│      \u001b[32m✓\u001b[0m \u001b[32m.gdrive_files\u001b[0m                                     │\n",
       "│      \u001b[32m✓\u001b[0m \u001b[32m.gsheets\u001b[0m                                          │\n",
       "│      \u001b[32m✓\u001b[0m \u001b[32m.gforms\u001b[0m                                           │\n",
       "│                                                          │\n",
       "╰──────────────────────────────────────────────────────────╯\n"
      ]
     },
     "metadata": {},
     "output_type": "display_data"
    },
    {
     "data": {
      "text/plain": []
     },
     "execution_count": 30,
     "metadata": {},
     "output_type": "execute_result"
    }
   ],
   "source": [
    "client"
   ]
  },
  {
   "cell_type": "markdown",
   "id": "303b4e39-7d15-4f25-b3f6-1d645ab9dc4f",
   "metadata": {},
   "source": [
    "# Test 13: Reinitialize and test transports aren't there"
   ]
  },
  {
   "cell_type": "code",
   "execution_count": 31,
   "id": "895fe302-76f6-4b5b-89f3-17cf1838901d",
   "metadata": {},
   "outputs": [],
   "source": [
    "client = sc.login(\"liamtrask@gmail.com\", init_transport=False)"
   ]
  },
  {
   "cell_type": "code",
   "execution_count": 32,
   "id": "9feaa7f7-dbb5-4ad4-94a7-0c66c6593bb0",
   "metadata": {},
   "outputs": [
    {
     "data": {
      "text/html": [
       "<pre style=\"white-space:pre;overflow-x:auto;line-height:normal;font-family:Menlo,'DejaVu Sans Mono',consolas,'Courier New',monospace\">╭──────── SyftClient.email = 'liamtrask@gmail.com' ────────╮\n",
       "│                                                          │\n",
       "│  <span style=\"color: #7f7f7f; text-decoration-color: #7f7f7f\">.folder</span> = /Users/atrask/SyftBox/liamtrask_at_gmail_com  │\n",
       "│                                                          │\n",
       "│  <span style=\"color: #7f7f7f; text-decoration-color: #7f7f7f\">.platforms</span>                                              │\n",
       "│    <span style=\"color: #808000; text-decoration-color: #808000; font-weight: bold\">.google_personal</span>                                      │\n",
       "│      <span style=\"color: #7f7f7f; text-decoration-color: #7f7f7f\">✗</span> <span style=\"color: #7f7f7f; text-decoration-color: #7f7f7f\">.gmail</span> <span style=\"color: #7f7f7f; text-decoration-color: #7f7f7f\">(call .init() to initialize)</span>               │\n",
       "│      <span style=\"color: #7f7f7f; text-decoration-color: #7f7f7f\">✗</span> <span style=\"color: #7f7f7f; text-decoration-color: #7f7f7f\">.gdrive_files</span> <span style=\"color: #7f7f7f; text-decoration-color: #7f7f7f\">(call .init() to initialize)</span>        │\n",
       "│      <span style=\"color: #7f7f7f; text-decoration-color: #7f7f7f\">✗</span> <span style=\"color: #7f7f7f; text-decoration-color: #7f7f7f\">.gsheets</span> <span style=\"color: #7f7f7f; text-decoration-color: #7f7f7f\">(call .init() to initialize)</span>             │\n",
       "│      <span style=\"color: #7f7f7f; text-decoration-color: #7f7f7f\">✗</span> <span style=\"color: #7f7f7f; text-decoration-color: #7f7f7f\">.gforms</span> <span style=\"color: #7f7f7f; text-decoration-color: #7f7f7f\">(call .init() to initialize)</span>              │\n",
       "│                                                          │\n",
       "╰──────────────────────────────────────────────────────────╯\n",
       "</pre>\n"
      ],
      "text/plain": [
       "╭──────── SyftClient.email = 'liamtrask@gmail.com' ────────╮\n",
       "│                                                          │\n",
       "│  \u001b[2m.folder\u001b[0m = /Users/atrask/SyftBox/liamtrask_at_gmail_com  │\n",
       "│                                                          │\n",
       "│  \u001b[2m.platforms\u001b[0m                                              │\n",
       "│    \u001b[1;33m.google_personal\u001b[0m                                      │\n",
       "│      \u001b[2m✗\u001b[0m \u001b[2m.gmail\u001b[0m \u001b[2m(call .init() to initialize)\u001b[0m               │\n",
       "│      \u001b[2m✗\u001b[0m \u001b[2m.gdrive_files\u001b[0m \u001b[2m(call .init() to initialize)\u001b[0m        │\n",
       "│      \u001b[2m✗\u001b[0m \u001b[2m.gsheets\u001b[0m \u001b[2m(call .init() to initialize)\u001b[0m             │\n",
       "│      \u001b[2m✗\u001b[0m \u001b[2m.gforms\u001b[0m \u001b[2m(call .init() to initialize)\u001b[0m              │\n",
       "│                                                          │\n",
       "╰──────────────────────────────────────────────────────────╯\n"
      ]
     },
     "metadata": {},
     "output_type": "display_data"
    },
    {
     "data": {
      "text/plain": []
     },
     "execution_count": 32,
     "metadata": {},
     "output_type": "execute_result"
    }
   ],
   "source": [
    "client"
   ]
  },
  {
   "cell_type": "code",
   "execution_count": 33,
   "id": "3c53f5fb-7fc5-426b-beee-7267b7d17c34",
   "metadata": {},
   "outputs": [
    {
     "ename": "RuntimeError",
     "evalue": "Transport 'gmail' is not initialized. Please call .init() first.",
     "output_type": "error",
     "traceback": [
      "\u001b[31m---------------------------------------------------------------------------\u001b[39m",
      "\u001b[31mRuntimeError\u001b[39m                              Traceback (most recent call last)",
      "\u001b[36mCell\u001b[39m\u001b[36m \u001b[39m\u001b[32mIn[33]\u001b[39m\u001b[32m, line 2\u001b[39m\n\u001b[32m      1\u001b[39m \u001b[38;5;66;03m# test that gsheets worksa nd you can see the file\u001b[39;00m\n\u001b[32m----> \u001b[39m\u001b[32m2\u001b[39m \u001b[43mclient\u001b[49m\u001b[43m.\u001b[49m\u001b[43mplatforms\u001b[49m\u001b[43m.\u001b[49m\u001b[43mgoogle_personal\u001b[49m\u001b[43m.\u001b[49m\u001b[43mgmail\u001b[49m\u001b[43m.\u001b[49m\u001b[43mtest\u001b[49m(\u001b[33m\"\u001b[39m\u001b[33mabc123\u001b[39m\u001b[33m\"\u001b[39m, cleanup=\u001b[38;5;28;01mFalse\u001b[39;00m)\n",
      "\u001b[36mFile \u001b[39m\u001b[32m~/Desktop/Laboratory/syft-client/test_notebooks/../syft_client/platforms/google_personal/client.py:200\u001b[39m, in \u001b[36mGooglePersonalClient._create_transport_stubs.<locals>.UninitializedTransport.__getattr__\u001b[39m\u001b[34m(self, name)\u001b[39m\n\u001b[32m    198\u001b[39m     \u001b[38;5;28;01mreturn\u001b[39;00m \u001b[38;5;28mobject\u001b[39m.\u001b[34m__getattribute__\u001b[39m(\u001b[38;5;28mself\u001b[39m, name)\n\u001b[32m    199\u001b[39m \u001b[38;5;28;01mif\u001b[39;00m \u001b[38;5;129;01mnot\u001b[39;00m \u001b[38;5;28mself\u001b[39m._setup_called:\n\u001b[32m--> \u001b[39m\u001b[32m200\u001b[39m     \u001b[38;5;28;01mraise\u001b[39;00m \u001b[38;5;167;01mRuntimeError\u001b[39;00m(\u001b[33mf\u001b[39m\u001b[33m\"\u001b[39m\u001b[33mTransport \u001b[39m\u001b[33m'\u001b[39m\u001b[38;5;132;01m{\u001b[39;00m\u001b[38;5;28mself\u001b[39m._transport_name\u001b[38;5;132;01m}\u001b[39;00m\u001b[33m'\u001b[39m\u001b[33m is not initialized. Please call .init() first.\u001b[39m\u001b[33m\"\u001b[39m)\n\u001b[32m    201\u001b[39m \u001b[38;5;28;01mif\u001b[39;00m \u001b[38;5;28mself\u001b[39m._real_transport:\n\u001b[32m    202\u001b[39m     \u001b[38;5;28;01mreturn\u001b[39;00m \u001b[38;5;28mgetattr\u001b[39m(\u001b[38;5;28mself\u001b[39m._real_transport, name)\n",
      "\u001b[31mRuntimeError\u001b[39m: Transport 'gmail' is not initialized. Please call .init() first."
     ]
    }
   ],
   "source": [
    "# test that gsheets worksa nd you can see the file\n",
    "client.platforms.google_personal.gmail.test(\"abc123\", cleanup=False)"
   ]
  },
  {
   "cell_type": "markdown",
   "id": "993d6fdf-7644-4cf7-9799-62051278459f",
   "metadata": {},
   "source": [
    "# Test 14: test init_transport=True"
   ]
  },
  {
   "cell_type": "code",
   "execution_count": 34,
   "id": "1f99298b-66c0-48f3-bb02-136a840a27fd",
   "metadata": {},
   "outputs": [],
   "source": [
    "client = sc.login(\"liamtrask@gmail.com\")"
   ]
  },
  {
   "cell_type": "code",
   "execution_count": 35,
   "id": "1d0653a6-fe6e-447b-b642-00ffbd03494a",
   "metadata": {},
   "outputs": [
    {
     "data": {
      "text/html": [
       "<pre style=\"white-space:pre;overflow-x:auto;line-height:normal;font-family:Menlo,'DejaVu Sans Mono',consolas,'Courier New',monospace\">╭──────── SyftClient.email = 'liamtrask@gmail.com' ────────╮\n",
       "│                                                          │\n",
       "│  <span style=\"color: #7f7f7f; text-decoration-color: #7f7f7f\">.folder</span> = /Users/atrask/SyftBox/liamtrask_at_gmail_com  │\n",
       "│                                                          │\n",
       "│  <span style=\"color: #7f7f7f; text-decoration-color: #7f7f7f\">.platforms</span>                                              │\n",
       "│    <span style=\"color: #808000; text-decoration-color: #808000; font-weight: bold\">.google_personal</span>                                      │\n",
       "│      <span style=\"color: #008000; text-decoration-color: #008000\">✓</span> <span style=\"color: #008000; text-decoration-color: #008000\">.gmail</span>                                            │\n",
       "│      <span style=\"color: #008000; text-decoration-color: #008000\">✓</span> <span style=\"color: #008000; text-decoration-color: #008000\">.gdrive_files</span>                                     │\n",
       "│      <span style=\"color: #008000; text-decoration-color: #008000\">✓</span> <span style=\"color: #008000; text-decoration-color: #008000\">.gsheets</span>                                          │\n",
       "│      <span style=\"color: #008000; text-decoration-color: #008000\">✓</span> <span style=\"color: #008000; text-decoration-color: #008000\">.gforms</span>                                           │\n",
       "│                                                          │\n",
       "╰──────────────────────────────────────────────────────────╯\n",
       "</pre>\n"
      ],
      "text/plain": [
       "╭──────── SyftClient.email = 'liamtrask@gmail.com' ────────╮\n",
       "│                                                          │\n",
       "│  \u001b[2m.folder\u001b[0m = /Users/atrask/SyftBox/liamtrask_at_gmail_com  │\n",
       "│                                                          │\n",
       "│  \u001b[2m.platforms\u001b[0m                                              │\n",
       "│    \u001b[1;33m.google_personal\u001b[0m                                      │\n",
       "│      \u001b[32m✓\u001b[0m \u001b[32m.gmail\u001b[0m                                            │\n",
       "│      \u001b[32m✓\u001b[0m \u001b[32m.gdrive_files\u001b[0m                                     │\n",
       "│      \u001b[32m✓\u001b[0m \u001b[32m.gsheets\u001b[0m                                          │\n",
       "│      \u001b[32m✓\u001b[0m \u001b[32m.gforms\u001b[0m                                           │\n",
       "│                                                          │\n",
       "╰──────────────────────────────────────────────────────────╯\n"
      ]
     },
     "metadata": {},
     "output_type": "display_data"
    },
    {
     "data": {
      "text/plain": []
     },
     "execution_count": 35,
     "metadata": {},
     "output_type": "execute_result"
    }
   ],
   "source": [
    "client"
   ]
  },
  {
   "cell_type": "code",
   "execution_count": 36,
   "id": "3cf6e598-9b6f-454d-8d51-d6211fc4b8e7",
   "metadata": {},
   "outputs": [
    {
     "name": "stdout",
     "output_type": "stream",
     "text": [
      "✅ Gmail test successful! Email sent to liamtrask@gmail.com\n"
     ]
    },
    {
     "data": {
      "text/plain": [
       "{'success': True,\n",
       " 'url': 'https://mail.google.com/mail/?authuser=liamtrask%40gmail.com#search/from%3Aliamtrask%40gmail.com%20subject%3A%22Test%20Email%20-%20abc123%22'}"
      ]
     },
     "execution_count": 36,
     "metadata": {},
     "output_type": "execute_result"
    }
   ],
   "source": [
    "# test that gsheets worksa nd you can see the file\n",
    "client.platforms.google_personal.gmail.test(\"abc123\", cleanup=False)"
   ]
  },
  {
   "cell_type": "code",
   "execution_count": 37,
   "id": "51119675-3f30-4dbb-a77b-a380b9aeae62",
   "metadata": {},
   "outputs": [
    {
     "name": "stdout",
     "output_type": "stream",
     "text": [
      "✅ Google Drive test successful! File created in SyftClient\n"
     ]
    },
    {
     "data": {
      "text/plain": [
       "{'success': True,\n",
       " 'url': 'https://drive.google.com/file/d/1ZS9afMsgky91Np0vciEaa6kQPv05JzrJ/view?usp=drivesdk'}"
      ]
     },
     "execution_count": 37,
     "metadata": {},
     "output_type": "execute_result"
    }
   ],
   "source": [
    "# test that gsheets worksa nd you can see the file\n",
    "client.platforms.google_personal.gdrive_files.test(\"abc123\", cleanup=False)"
   ]
  },
  {
   "cell_type": "code",
   "execution_count": 38,
   "id": "ecc136bc-50bf-4d76-bcdb-d6a6d6195cfa",
   "metadata": {},
   "outputs": [
    {
     "name": "stdout",
     "output_type": "stream",
     "text": [
      "✅ Google Sheets test successful! Spreadsheet created with test data\n"
     ]
    },
    {
     "data": {
      "text/plain": [
       "{'success': True,\n",
       " 'url': 'https://docs.google.com/spreadsheets/d/1Dr5qu-qJuZYzP8OauSpG1twfFf52ot1Kz0IzTVSB0Is/edit'}"
      ]
     },
     "execution_count": 38,
     "metadata": {},
     "output_type": "execute_result"
    }
   ],
   "source": [
    "# test that gsheets worksa nd you can see the file\n",
    "client.platforms.google_personal.gsheets.test(\"abc123\", cleanup=False)"
   ]
  },
  {
   "cell_type": "code",
   "execution_count": 39,
   "id": "2ad80e85-1d4a-440f-8485-ca0f5c066d86",
   "metadata": {},
   "outputs": [
    {
     "name": "stdout",
     "output_type": "stream",
     "text": [
      "✅ Google Forms test successful! Form created with 3 test questions\n"
     ]
    },
    {
     "data": {
      "text/plain": [
       "{'success': True,\n",
       " 'url': 'https://docs.google.com/forms/d/1qJwNUFzZPMMqShf7Bwr0pnMvSts0wJRkwv9WO86p21I/viewform'}"
      ]
     },
     "execution_count": 39,
     "metadata": {},
     "output_type": "execute_result"
    }
   ],
   "source": [
    "# test that gsheets worksa nd you can see the file\n",
    "client.platforms.google_personal.gforms.test(\"abc123\", cleanup=False)"
   ]
  },
  {
   "cell_type": "code",
   "execution_count": null,
   "id": "8c0f3791-7422-4cf7-ab18-6fe9daa309f8",
   "metadata": {},
   "outputs": [],
   "source": []
  },
  {
   "cell_type": "code",
   "execution_count": null,
   "id": "df515abd-eb9d-4156-830a-afecffb023d9",
   "metadata": {},
   "outputs": [],
   "source": []
  },
  {
   "cell_type": "code",
   "execution_count": null,
   "id": "faf04f7d-b7b0-4b5c-9a0c-602f37f42767",
   "metadata": {},
   "outputs": [],
   "source": []
  }
 ],
 "metadata": {
  "kernelspec": {
   "display_name": "Python 3 (ipykernel)",
   "language": "python",
   "name": "python3"
  },
  "language_info": {
   "codemirror_mode": {
    "name": "ipython",
    "version": 3
   },
   "file_extension": ".py",
   "mimetype": "text/x-python",
   "name": "python",
   "nbconvert_exporter": "python",
   "pygments_lexer": "ipython3",
   "version": "3.12.9"
  }
 },
 "nbformat": 4,
 "nbformat_minor": 5
}
