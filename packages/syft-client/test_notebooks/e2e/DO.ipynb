{
 "cells": [
  {
   "cell_type": "code",
   "execution_count": 1,
   "id": "c8f7f333-7a9b-4bab-8014-4b62413c3479",
   "metadata": {},
   "outputs": [
    {
     "name": "stdout",
     "output_type": "stream",
     "text": [
      "\u001b[2K\u001b[2mResolved \u001b[1m45 packages\u001b[0m \u001b[2min 352ms\u001b[0m\u001b[0m                                        \u001b[0m\n",
      "\u001b[2K\u001b[2mPrepared \u001b[1m1 package\u001b[0m \u001b[2min 236ms\u001b[0m\u001b[0m                                              \n",
      "\u001b[2mUninstalled \u001b[1m1 package\u001b[0m \u001b[2min 1ms\u001b[0m\u001b[0m\n",
      "\u001b[2K\u001b[2mInstalled \u001b[1m1 package\u001b[0m \u001b[2min 0.99ms\u001b[0m\u001b[0mom file:///Users/atrask/Desktop\u001b[0m\n",
      " \u001b[31m-\u001b[39m \u001b[1msyft-serve\u001b[0m\u001b[2m==0.3.5 (from file:///Users/atrask/Desktop/Laboratory/syft-serve)\u001b[0m\n",
      " \u001b[32m+\u001b[39m \u001b[1msyft-serve\u001b[0m\u001b[2m==0.3.11 (from file:///Users/atrask/Desktop/Laboratory/syft-serve)\u001b[0m\n"
     ]
    }
   ],
   "source": [
    "!uv pip install -e /Users/atrask/Desktop/Laboratory/syft-serve"
   ]
  },
  {
   "cell_type": "code",
   "execution_count": 2,
   "id": "3feacb3e-5741-4a7a-a95e-5717c206af68",
   "metadata": {},
   "outputs": [
    {
     "name": "stdout",
     "output_type": "stream",
     "text": [
      "\u001b[2mAudited \u001b[1m1 package\u001b[0m \u001b[2min 4ms\u001b[0m\u001b[0m\n"
     ]
    }
   ],
   "source": [
    "!uv pip install syft-job"
   ]
  },
  {
   "cell_type": "code",
   "execution_count": 1,
   "id": "d6e92f9a-c985-47d3-9a81-f0abcd05dba3",
   "metadata": {},
   "outputs": [],
   "source": [
    "import sys\n",
    "sys.path.insert(0, '../..')\n",
    "import syft_client as sc\n",
    "import syft_serve as ss"
   ]
  },
  {
   "cell_type": "code",
   "execution_count": 3,
   "id": "db3df1f4-c312-41a6-a3b8-5c6e8ff95ead",
   "metadata": {},
   "outputs": [
    {
     "data": {
      "text/plain": [
       "'0.1.67'"
      ]
     },
     "execution_count": 3,
     "metadata": {},
     "output_type": "execute_result"
    }
   ],
   "source": [
    "sc.__version__"
   ]
  },
  {
   "cell_type": "code",
   "execution_count": 4,
   "id": "f9c8f727-6794-4d72-8a73-781722b1ff16",
   "metadata": {},
   "outputs": [
    {
     "data": {
      "text/plain": [
       "'0.3.11'"
      ]
     },
     "execution_count": 4,
     "metadata": {},
     "output_type": "execute_result"
    }
   ],
   "source": [
    "ss.__version__"
   ]
  },
  {
   "cell_type": "code",
   "execution_count": 5,
   "id": "f8e2dbfa-4761-4f2a-87cb-d3bfdedf7c93",
   "metadata": {},
   "outputs": [
    {
     "data": {
      "text/html": [
       "<p style='color: #a0a0a0;'>No servers</p>"
      ],
      "text/plain": [
       "No servers"
      ]
     },
     "execution_count": 5,
     "metadata": {},
     "output_type": "execute_result"
    }
   ],
   "source": [
    "ss.servers"
   ]
  },
  {
   "cell_type": "code",
   "execution_count": null,
   "id": "5d9e53fe-ea16-4b60-a9cd-70593b2ade93",
   "metadata": {},
   "outputs": [],
   "source": []
  },
  {
   "cell_type": "code",
   "execution_count": 6,
   "id": "bf11a932-b675-4139-8329-6f971e6cbba7",
   "metadata": {},
   "outputs": [
    {
     "name": "stdout",
     "output_type": "stream",
     "text": [
      "✅ Connected peer-to-peer to 2 peers via: Gmail, Gdrive_Files, Gsheets, Gforms                                  \n"
     ]
    }
   ],
   "source": [
    "do_client = sc.login(\"andrew@openmined.org\", kill_servers=True)"
   ]
  },
  {
   "cell_type": "code",
   "execution_count": 15,
   "id": "b7b2d716-4e53-4e06-8272-43e693333650",
   "metadata": {},
   "outputs": [],
   "source": [
    "# do_client.delete_peer(\"liamtrask@gmail.com\")"
   ]
  },
  {
   "cell_type": "code",
   "execution_count": 12,
   "id": "bcfbf9ce-20a0-4726-b2b2-b824815bb9d0",
   "metadata": {},
   "outputs": [],
   "source": [
    "# do_client.add_peer(\"liamtrask@gmail.com\")"
   ]
  },
  {
   "cell_type": "markdown",
   "id": "ea6b82e0-a768-4f8f-a930-046f99687116",
   "metadata": {},
   "source": [
    "## Upload Dataset\n"
   ]
  },
  {
   "cell_type": "code",
   "execution_count": 16,
   "id": "d62b5d05",
   "metadata": {},
   "outputs": [
    {
     "name": "stdout",
     "output_type": "stream",
     "text": [
      "Crop data with 10 unique crops saved to ./crop_data/private/data.csv\n",
      "Crop data with 10 unique crops saved to ./crop_data/mock/data.csv\n"
     ]
    }
   ],
   "source": [
    "from utils import generate_crop_data\n",
    "\n",
    "private_path = \"./crop_data/private/data.csv\"\n",
    "generate_crop_data(num_rows=10, output_path=private_path)\n",
    "\n",
    "mock_path = \"./crop_data/mock/data.csv\"\n",
    "generate_crop_data(num_rows=10, output_path=mock_path)"
   ]
  },
  {
   "cell_type": "code",
   "execution_count": 17,
   "id": "5ee5dd0a",
   "metadata": {},
   "outputs": [],
   "source": [
    "# Copy it to the syftbox folder in \n",
    "# in private and mock"
   ]
  },
  {
   "cell_type": "code",
   "execution_count": 32,
   "id": "d8f4249a-c4d0-400f-9c1f-75e1dd5442d4",
   "metadata": {},
   "outputs": [
    {
     "name": "stdout",
     "output_type": "stream",
     "text": [
      "                                                                                "
     ]
    },
    {
     "data": {
      "text/html": [
       "<pre style=\"white-space:pre;overflow-x:auto;line-height:normal;font-family:Menlo,'DejaVu Sans Mono',consolas,'Courier New',monospace\">╭────── SyftClient.email = 'andrew@openmined.org' ───────╮\n",
       "│                                                        │\n",
       "│  <span style=\"color: #7f7f7f; text-decoration-color: #7f7f7f\">.folder</span> = /Users/atrask/SyftBox_andrew@openmined.org  │\n",
       "│                                                        │\n",
       "│  <span style=\"color: #7f7f7f; text-decoration-color: #7f7f7f\">.platforms</span> <span style=\"color: #7f7f7f; text-decoration-color: #7f7f7f\">(for peer-to-peer communication)</span>           │\n",
       "│    <span style=\"color: #808000; text-decoration-color: #808000; font-weight: bold\">.google_org</span> <span style=\"color: #7f7f7f; text-decoration-color: #7f7f7f\">(1 peer)</span>                                │\n",
       "│      <span style=\"color: #008000; text-decoration-color: #008000\">✓</span> <span style=\"color: #008000; text-decoration-color: #008000\">✓</span> <span style=\"color: #008000; text-decoration-color: #008000\">.gmail</span> <span style=\"color: #7f7f7f; text-decoration-color: #7f7f7f\">(1 peer)</span>                               │\n",
       "│      <span style=\"color: #008000; text-decoration-color: #008000\">✓</span> <span style=\"color: #008000; text-decoration-color: #008000\">✓</span> <span style=\"color: #008000; text-decoration-color: #008000\">.gdrive_files</span> <span style=\"color: #7f7f7f; text-decoration-color: #7f7f7f\">(1 peer)</span>                        │\n",
       "│      <span style=\"color: #008000; text-decoration-color: #008000\">✓</span> <span style=\"color: #008000; text-decoration-color: #008000\">✓</span> <span style=\"color: #008000; text-decoration-color: #008000\">.gsheets</span> <span style=\"color: #7f7f7f; text-decoration-color: #7f7f7f\">(1 peer)</span>                             │\n",
       "│      <span style=\"color: #008000; text-decoration-color: #008000\">✓</span> <span style=\"color: #008000; text-decoration-color: #008000\">✓</span> <span style=\"color: #008000; text-decoration-color: #008000\">.gforms</span>                                       │\n",
       "│                                                        │\n",
       "│  <span style=\"color: #7f7f7f; text-decoration-color: #7f7f7f\">━━━━━━━━━━━━━━━━━━━━━━━━━━━━━━━━━━━━━━━━━━━━━━━━━━</span>    │\n",
       "│                                                        │\n",
       "│  <span style=\"color: #008080; text-decoration-color: #008080; font-weight: bold\">.peers</span>  <span style=\"color: #7f7f7f; text-decoration-color: #7f7f7f\">(1 active, 0 pending)</span>                         │\n",
       "│                                                        │\n",
       "│    [0] atrask@google.com                               │\n",
       "│                                                        │\n",
       "╰────────────────────────────────────────────────────────╯\n",
       "</pre>\n"
      ],
      "text/plain": [
       "╭────── SyftClient.email = 'andrew@openmined.org' ───────╮\n",
       "│                                                        │\n",
       "│  \u001b[2m.folder\u001b[0m = /Users/atrask/SyftBox_andrew@openmined.org  │\n",
       "│                                                        │\n",
       "│  \u001b[2m.platforms\u001b[0m \u001b[2m(for peer-to-peer communication)\u001b[0m           │\n",
       "│    \u001b[1;33m.google_org\u001b[0m \u001b[2m(1 peer)\u001b[0m                                │\n",
       "│      \u001b[32m✓\u001b[0m \u001b[32m✓\u001b[0m \u001b[32m.gmail\u001b[0m \u001b[2m(1 peer)\u001b[0m                               │\n",
       "│      \u001b[32m✓\u001b[0m \u001b[32m✓\u001b[0m \u001b[32m.gdrive_files\u001b[0m \u001b[2m(1 peer)\u001b[0m                        │\n",
       "│      \u001b[32m✓\u001b[0m \u001b[32m✓\u001b[0m \u001b[32m.gsheets\u001b[0m \u001b[2m(1 peer)\u001b[0m                             │\n",
       "│      \u001b[32m✓\u001b[0m \u001b[32m✓\u001b[0m \u001b[32m.gforms\u001b[0m                                       │\n",
       "│                                                        │\n",
       "│  \u001b[2m━\u001b[0m\u001b[2m━\u001b[0m\u001b[2m━\u001b[0m\u001b[2m━\u001b[0m\u001b[2m━\u001b[0m\u001b[2m━\u001b[0m\u001b[2m━\u001b[0m\u001b[2m━\u001b[0m\u001b[2m━\u001b[0m\u001b[2m━\u001b[0m\u001b[2m━\u001b[0m\u001b[2m━\u001b[0m\u001b[2m━\u001b[0m\u001b[2m━\u001b[0m\u001b[2m━\u001b[0m\u001b[2m━\u001b[0m\u001b[2m━\u001b[0m\u001b[2m━\u001b[0m\u001b[2m━\u001b[0m\u001b[2m━\u001b[0m\u001b[2m━\u001b[0m\u001b[2m━\u001b[0m\u001b[2m━\u001b[0m\u001b[2m━\u001b[0m\u001b[2m━\u001b[0m\u001b[2m━\u001b[0m\u001b[2m━\u001b[0m\u001b[2m━\u001b[0m\u001b[2m━\u001b[0m\u001b[2m━\u001b[0m\u001b[2m━\u001b[0m\u001b[2m━\u001b[0m\u001b[2m━\u001b[0m\u001b[2m━\u001b[0m\u001b[2m━\u001b[0m\u001b[2m━\u001b[0m\u001b[2m━\u001b[0m\u001b[2m━\u001b[0m\u001b[2m━\u001b[0m\u001b[2m━\u001b[0m\u001b[2m━\u001b[0m\u001b[2m━\u001b[0m\u001b[2m━\u001b[0m\u001b[2m━\u001b[0m\u001b[2m━\u001b[0m\u001b[2m━\u001b[0m\u001b[2m━\u001b[0m\u001b[2m━\u001b[0m\u001b[2m━\u001b[0m\u001b[2m━\u001b[0m    │\n",
       "│                                                        │\n",
       "│  \u001b[1;36m.peers\u001b[0m  \u001b[2m(1 active, 0 pending)\u001b[0m                         │\n",
       "│                                                        │\n",
       "│    [0] atrask@google.com                               │\n",
       "│                                                        │\n",
       "╰────────────────────────────────────────────────────────╯\n"
      ]
     },
     "metadata": {},
     "output_type": "display_data"
    },
    {
     "data": {
      "text/plain": []
     },
     "execution_count": 32,
     "metadata": {},
     "output_type": "execute_result"
    }
   ],
   "source": [
    "do_client"
   ]
  },
  {
   "cell_type": "code",
   "execution_count": 15,
   "id": "132257ae-3d30-4805-b731-b12ddf2750f6",
   "metadata": {},
   "outputs": [
    {
     "data": {
      "text/html": [
       "\n",
       "                <div style=\"background: #1e1e1e; border: 1px solid #3e3e3e; border-radius: 5px; padding: 15px; font-family: -apple-system, BlinkMacSystemFont, 'Segoe UI', Roboto, sans-serif;\">\n",
       "                    <h3 style=\"margin: 0 0 15px 0; color: #e0e0e0;\">📊 Live Server Logs - andrew@openmined.org</h3>\n",
       "                \n",
       "                    <div style=\"margin-bottom: 20px;\">\n",
       "                        <h4 style=\"color: #e0e0e0; margin: 0 0 10px 0;\">\n",
       "                            🚀 Watcher \n",
       "                            <span style=\"color: #a0a0a0; font-size: 0.9em;\">(port 8000)</span>\n",
       "                        </h4>\n",
       "                        <div style=\"display: grid; grid-template-columns: 1fr 1fr; gap: 10px;\">\n",
       "                            <div style=\"padding: 8px; background: #1a1a1a; border-radius: 3px; border: 1px solid #3e3e3e;\">\n",
       "                                <div style=\"color: #a0a0a0; font-size: 11px; margin-bottom: 5px;\">stdout:</div>\n",
       "                                <div id=\"stdout-watcher_8142e683\" style=\"font-size: 11px; color: #9ca3af; height: 120px; overflow-y: auto; font-family: monospace; white-space: pre-wrap; word-wrap: break-word;\">\n",
       "                                    <em style=\"color: #888;\">Loading...</em>\n",
       "                                </div>\n",
       "                            </div>\n",
       "                            <div style=\"padding: 8px; background: #1a1a1a; border-radius: 3px; border: 1px solid #3e3e3e;\">\n",
       "                                <div style=\"color: #a0a0a0; font-size: 11px; margin-bottom: 5px;\">stderr:</div>\n",
       "                                <div id=\"stderr-watcher_8142e683\" style=\"font-size: 11px; color: #ff6b6b; height: 120px; overflow-y: auto; font-family: monospace; white-space: pre-wrap; word-wrap: break-word;\">\n",
       "                                    <em style=\"color: #888;\">Loading...</em>\n",
       "                                </div>\n",
       "                            </div>\n",
       "                        </div>\n",
       "                    </div>\n",
       "                    \n",
       "                    <div style=\"margin-bottom: 20px;\">\n",
       "                        <h4 style=\"color: #e0e0e0; margin: 0 0 10px 0;\">\n",
       "                            📥 Receiver \n",
       "                            <span style=\"color: #a0a0a0; font-size: 0.9em;\">(port 8001)</span>\n",
       "                        </h4>\n",
       "                        <div style=\"display: grid; grid-template-columns: 1fr 1fr; gap: 10px;\">\n",
       "                            <div style=\"padding: 8px; background: #1a1a1a; border-radius: 3px; border: 1px solid #3e3e3e;\">\n",
       "                                <div style=\"color: #a0a0a0; font-size: 11px; margin-bottom: 5px;\">stdout:</div>\n",
       "                                <div id=\"stdout-receiver_8142e683\" style=\"font-size: 11px; color: #9ca3af; height: 120px; overflow-y: auto; font-family: monospace; white-space: pre-wrap; word-wrap: break-word;\">\n",
       "                                    <em style=\"color: #888;\">Loading...</em>\n",
       "                                </div>\n",
       "                            </div>\n",
       "                            <div style=\"padding: 8px; background: #1a1a1a; border-radius: 3px; border: 1px solid #3e3e3e;\">\n",
       "                                <div style=\"color: #a0a0a0; font-size: 11px; margin-bottom: 5px;\">stderr:</div>\n",
       "                                <div id=\"stderr-receiver_8142e683\" style=\"font-size: 11px; color: #ff6b6b; height: 120px; overflow-y: auto; font-family: monospace; white-space: pre-wrap; word-wrap: break-word;\">\n",
       "                                    <em style=\"color: #888;\">Loading...</em>\n",
       "                                </div>\n",
       "                            </div>\n",
       "                        </div>\n",
       "                    </div>\n",
       "                    \n",
       "                    <div style=\"margin-bottom: 20px;\">\n",
       "                        <h4 style=\"color: #e0e0e0; margin: 0 0 10px 0;\">\n",
       "                            🏃 Job Runner \n",
       "                            <span style=\"color: #a0a0a0; font-size: 0.9em;\">(port 8002)</span>\n",
       "                        </h4>\n",
       "                        <div style=\"display: grid; grid-template-columns: 1fr 1fr; gap: 10px;\">\n",
       "                            <div style=\"padding: 8px; background: #1a1a1a; border-radius: 3px; border: 1px solid #3e3e3e;\">\n",
       "                                <div style=\"color: #a0a0a0; font-size: 11px; margin-bottom: 5px;\">stdout:</div>\n",
       "                                <div id=\"stdout-job_runner_8142e683\" style=\"font-size: 11px; color: #9ca3af; height: 120px; overflow-y: auto; font-family: monospace; white-space: pre-wrap; word-wrap: break-word;\">\n",
       "                                    <em style=\"color: #888;\">Loading...</em>\n",
       "                                </div>\n",
       "                            </div>\n",
       "                            <div style=\"padding: 8px; background: #1a1a1a; border-radius: 3px; border: 1px solid #3e3e3e;\">\n",
       "                                <div style=\"color: #a0a0a0; font-size: 11px; margin-bottom: 5px;\">stderr:</div>\n",
       "                                <div id=\"stderr-job_runner_8142e683\" style=\"font-size: 11px; color: #ff6b6b; height: 120px; overflow-y: auto; font-family: monospace; white-space: pre-wrap; word-wrap: break-word;\">\n",
       "                                    <em style=\"color: #888;\">Loading...</em>\n",
       "                                </div>\n",
       "                            </div>\n",
       "                        </div>\n",
       "                    </div>\n",
       "                    \n",
       "                    <script>\n",
       "                    (function() {\n",
       "                \n",
       "                        // Watcher update function\n",
       "                        const update_watcher_8142e683 = async function() {\n",
       "                            const port = 8000;\n",
       "                            const stdoutDiv = document.getElementById('stdout-watcher_8142e683');\n",
       "                            const stderrDiv = document.getElementById('stderr-watcher_8142e683');\n",
       "                            \n",
       "                            if (!stdoutDiv || !stderrDiv) return;\n",
       "                            \n",
       "                            let baseUrl = 'http://localhost:' + port;\n",
       "                            if (window.location.hostname.includes('googleusercontent.com')) {\n",
       "                                baseUrl = window.location.origin + '/proxy/' + port;\n",
       "                            }\n",
       "                            \n",
       "                            try {\n",
       "                                // Fetch stdout\n",
       "                                const stdoutResponse = await fetch(baseUrl + '/logs/stdout?lines=30');\n",
       "                                if (stdoutResponse.ok) {\n",
       "                                    const stdoutData = await stdoutResponse.json();\n",
       "                                    if (stdoutData.lines && stdoutData.lines.length > 0) {\n",
       "                                        // Check if we're at the bottom before updating\n",
       "                                        const wasAtBottom = stdoutDiv.scrollHeight - stdoutDiv.scrollTop <= stdoutDiv.clientHeight + 5;\n",
       "                                        \n",
       "                                        stdoutDiv.innerHTML = stdoutData.lines\n",
       "                                            .map(line => line.replace(/</g, '&lt;').replace(/>/g, '&gt;'))\n",
       "                                            .join('');\n",
       "                                        \n",
       "                                        // Only auto-scroll if we were already at the bottom\n",
       "                                        if (wasAtBottom) {\n",
       "                                            stdoutDiv.scrollTop = stdoutDiv.scrollHeight;\n",
       "                                        }\n",
       "                                    } else {\n",
       "                                        stdoutDiv.innerHTML = '<em style=\"color: #888;\">No output</em>';\n",
       "                                    }\n",
       "                                }\n",
       "                                \n",
       "                                // Fetch stderr  \n",
       "                                const stderrResponse = await fetch(baseUrl + '/logs/stderr?lines=30');\n",
       "                                if (stderrResponse.ok) {\n",
       "                                    const stderrData = await stderrResponse.json();\n",
       "                                    if (stderrData.lines && stderrData.lines.length > 0) {\n",
       "                                        // Check if we're at the bottom before updating\n",
       "                                        const wasAtBottom = stderrDiv.scrollHeight - stderrDiv.scrollTop <= stderrDiv.clientHeight + 5;\n",
       "                                        \n",
       "                                        stderrDiv.innerHTML = stderrData.lines\n",
       "                                            .map(line => line.replace(/</g, '&lt;').replace(/>/g, '&gt;'))\n",
       "                                            .join('');\n",
       "                                        \n",
       "                                        // Only auto-scroll if we were already at the bottom\n",
       "                                        if (wasAtBottom) {\n",
       "                                            stderrDiv.scrollTop = stderrDiv.scrollHeight;\n",
       "                                        }\n",
       "                                    } else {\n",
       "                                        stderrDiv.innerHTML = '<em style=\"color: #888;\">No errors</em>';\n",
       "                                    }\n",
       "                                }\n",
       "                            } catch (error) {\n",
       "                                // Server might be down\n",
       "                            }\n",
       "                        };\n",
       "                    \n",
       "                        // Receiver update function\n",
       "                        const update_receiver_8142e683 = async function() {\n",
       "                            const port = 8001;\n",
       "                            const stdoutDiv = document.getElementById('stdout-receiver_8142e683');\n",
       "                            const stderrDiv = document.getElementById('stderr-receiver_8142e683');\n",
       "                            \n",
       "                            if (!stdoutDiv || !stderrDiv) return;\n",
       "                            \n",
       "                            let baseUrl = 'http://localhost:' + port;\n",
       "                            if (window.location.hostname.includes('googleusercontent.com')) {\n",
       "                                baseUrl = window.location.origin + '/proxy/' + port;\n",
       "                            }\n",
       "                            \n",
       "                            try {\n",
       "                                // Fetch stdout\n",
       "                                const stdoutResponse = await fetch(baseUrl + '/logs/stdout?lines=30');\n",
       "                                if (stdoutResponse.ok) {\n",
       "                                    const stdoutData = await stdoutResponse.json();\n",
       "                                    if (stdoutData.lines && stdoutData.lines.length > 0) {\n",
       "                                        // Check if we're at the bottom before updating\n",
       "                                        const wasAtBottom = stdoutDiv.scrollHeight - stdoutDiv.scrollTop <= stdoutDiv.clientHeight + 5;\n",
       "                                        \n",
       "                                        stdoutDiv.innerHTML = stdoutData.lines\n",
       "                                            .map(line => line.replace(/</g, '&lt;').replace(/>/g, '&gt;'))\n",
       "                                            .join('');\n",
       "                                        \n",
       "                                        // Only auto-scroll if we were already at the bottom\n",
       "                                        if (wasAtBottom) {\n",
       "                                            stdoutDiv.scrollTop = stdoutDiv.scrollHeight;\n",
       "                                        }\n",
       "                                    } else {\n",
       "                                        stdoutDiv.innerHTML = '<em style=\"color: #888;\">No output</em>';\n",
       "                                    }\n",
       "                                }\n",
       "                                \n",
       "                                // Fetch stderr  \n",
       "                                const stderrResponse = await fetch(baseUrl + '/logs/stderr?lines=30');\n",
       "                                if (stderrResponse.ok) {\n",
       "                                    const stderrData = await stderrResponse.json();\n",
       "                                    if (stderrData.lines && stderrData.lines.length > 0) {\n",
       "                                        // Check if we're at the bottom before updating\n",
       "                                        const wasAtBottom = stderrDiv.scrollHeight - stderrDiv.scrollTop <= stderrDiv.clientHeight + 5;\n",
       "                                        \n",
       "                                        stderrDiv.innerHTML = stderrData.lines\n",
       "                                            .map(line => line.replace(/</g, '&lt;').replace(/>/g, '&gt;'))\n",
       "                                            .join('');\n",
       "                                        \n",
       "                                        // Only auto-scroll if we were already at the bottom\n",
       "                                        if (wasAtBottom) {\n",
       "                                            stderrDiv.scrollTop = stderrDiv.scrollHeight;\n",
       "                                        }\n",
       "                                    } else {\n",
       "                                        stderrDiv.innerHTML = '<em style=\"color: #888;\">No errors</em>';\n",
       "                                    }\n",
       "                                }\n",
       "                            } catch (error) {\n",
       "                                // Server might be down\n",
       "                            }\n",
       "                        };\n",
       "                    \n",
       "                        // Job Runner update function\n",
       "                        const update_job_runner_8142e683 = async function() {\n",
       "                            const port = 8002;\n",
       "                            const stdoutDiv = document.getElementById('stdout-job_runner_8142e683');\n",
       "                            const stderrDiv = document.getElementById('stderr-job_runner_8142e683');\n",
       "                            \n",
       "                            if (!stdoutDiv || !stderrDiv) return;\n",
       "                            \n",
       "                            let baseUrl = 'http://localhost:' + port;\n",
       "                            if (window.location.hostname.includes('googleusercontent.com')) {\n",
       "                                baseUrl = window.location.origin + '/proxy/' + port;\n",
       "                            }\n",
       "                            \n",
       "                            try {\n",
       "                                // Fetch stdout\n",
       "                                const stdoutResponse = await fetch(baseUrl + '/logs/stdout?lines=30');\n",
       "                                if (stdoutResponse.ok) {\n",
       "                                    const stdoutData = await stdoutResponse.json();\n",
       "                                    if (stdoutData.lines && stdoutData.lines.length > 0) {\n",
       "                                        // Check if we're at the bottom before updating\n",
       "                                        const wasAtBottom = stdoutDiv.scrollHeight - stdoutDiv.scrollTop <= stdoutDiv.clientHeight + 5;\n",
       "                                        \n",
       "                                        stdoutDiv.innerHTML = stdoutData.lines\n",
       "                                            .map(line => line.replace(/</g, '&lt;').replace(/>/g, '&gt;'))\n",
       "                                            .join('');\n",
       "                                        \n",
       "                                        // Only auto-scroll if we were already at the bottom\n",
       "                                        if (wasAtBottom) {\n",
       "                                            stdoutDiv.scrollTop = stdoutDiv.scrollHeight;\n",
       "                                        }\n",
       "                                    } else {\n",
       "                                        stdoutDiv.innerHTML = '<em style=\"color: #888;\">No output</em>';\n",
       "                                    }\n",
       "                                }\n",
       "                                \n",
       "                                // Fetch stderr  \n",
       "                                const stderrResponse = await fetch(baseUrl + '/logs/stderr?lines=30');\n",
       "                                if (stderrResponse.ok) {\n",
       "                                    const stderrData = await stderrResponse.json();\n",
       "                                    if (stderrData.lines && stderrData.lines.length > 0) {\n",
       "                                        // Check if we're at the bottom before updating\n",
       "                                        const wasAtBottom = stderrDiv.scrollHeight - stderrDiv.scrollTop <= stderrDiv.clientHeight + 5;\n",
       "                                        \n",
       "                                        stderrDiv.innerHTML = stderrData.lines\n",
       "                                            .map(line => line.replace(/</g, '&lt;').replace(/>/g, '&gt;'))\n",
       "                                            .join('');\n",
       "                                        \n",
       "                                        // Only auto-scroll if we were already at the bottom\n",
       "                                        if (wasAtBottom) {\n",
       "                                            stderrDiv.scrollTop = stderrDiv.scrollHeight;\n",
       "                                        }\n",
       "                                    } else {\n",
       "                                        stderrDiv.innerHTML = '<em style=\"color: #888;\">No errors</em>';\n",
       "                                    }\n",
       "                                }\n",
       "                            } catch (error) {\n",
       "                                // Server might be down\n",
       "                            }\n",
       "                        };\n",
       "                    \n",
       "                        // Clean up any existing intervals\n",
       "                        const intervalKey = 'syftLogsInterval_' + '8142e683';\n",
       "                        if (window[intervalKey]) {\n",
       "                            clearInterval(window[intervalKey]);\n",
       "                        }\n",
       "                        \n",
       "                        // Initial update for all servers\n",
       "                        update_watcher_8142e683();\n",
       "        update_receiver_8142e683();\n",
       "        update_job_runner_8142e683();\n",
       "\n",
       "                        // Set up polling\n",
       "                        window[intervalKey] = setInterval(function() {\n",
       "                            update_watcher_8142e683();\n",
       "            update_receiver_8142e683();\n",
       "            update_job_runner_8142e683();\n",
       "\n",
       "                        }, 1000);\n",
       "                    })();\n",
       "                    </script>\n",
       "                </div>\n",
       "                "
      ],
      "text/plain": [
       "LogsView(Watcher: port 8000, Receiver: port 8001, Job Runner: port 8002)"
      ]
     },
     "execution_count": 15,
     "metadata": {},
     "output_type": "execute_result"
    }
   ],
   "source": [
    "do_client.logs"
   ]
  },
  {
   "cell_type": "markdown",
   "id": "8349630c",
   "metadata": {},
   "source": [
    "## Jobs"
   ]
  },
  {
   "cell_type": "code",
   "execution_count": 22,
   "id": "a1911996",
   "metadata": {},
   "outputs": [
    {
     "data": {
      "text/html": [
       "\n",
       "            <style>\n",
       "\n",
       "                .syftjob-empty {\n",
       "                    padding: 30px 20px;\n",
       "                    text-align: center;\n",
       "                    border-radius: 8px;\n",
       "                    background: linear-gradient(135deg, #f8c073 0%, #f79763 50%, #cc677b 100%);\n",
       "                    border: 1px solid rgba(248,192,115,0.2);\n",
       "                    color: white;\n",
       "                }\n",
       "\n",
       "\n",
       "                .syftjob-empty h3 {\n",
       "                    margin: 0 0 12px 0;\n",
       "                    font-size: 18px;\n",
       "                    color: white;\n",
       "                    font-weight: 600;\n",
       "                }\n",
       "\n",
       "                .syftjob-empty p {\n",
       "                    margin: 0;\n",
       "                    color: rgba(255,255,255,0.9);\n",
       "                    font-size: 16px;\n",
       "                    opacity: 0.95;\n",
       "                }\n",
       "\n",
       "                .syftjob-empty-icon {\n",
       "                    font-size: 24px;\n",
       "                    margin-bottom: 12px;\n",
       "                    display: block;\n",
       "                }\n",
       "\n",
       "                /* Dark theme */\n",
       "                @media (prefers-color-scheme: dark) {\n",
       "                    .syftjob-empty {\n",
       "                        background: linear-gradient(135deg, #2d3748 0%, #4a5568 100%);\n",
       "                        border-color: rgba(74,85,104,0.2);\n",
       "                    }\n",
       "                    .syftjob-empty h3 {\n",
       "                        color: white;\n",
       "                    }\n",
       "                    .syftjob-empty p {\n",
       "                        color: rgba(255,255,255,0.95);\n",
       "                        opacity: 0.95;\n",
       "                    }\n",
       "                }\n",
       "\n",
       "                /* Jupyter dark theme detection */\n",
       "                .jp-RenderedHTMLCommon[data-jp-theme-light=\"false\"] .syftjob-empty,\n",
       "                body[data-jp-theme-light=\"false\"] .syftjob-empty {\n",
       "                    background: linear-gradient(135deg, #2d3748 0%, #4a5568 100%);\n",
       "                    border-color: rgba(74,85,104,0.2);\n",
       "                }\n",
       "                .jp-RenderedHTMLCommon[data-jp-theme-light=\"false\"] .syftjob-empty h3,\n",
       "                body[data-jp-theme-light=\"false\"] .syftjob-empty h3 {\n",
       "                    color: white;\n",
       "                }\n",
       "                .jp-RenderedHTMLCommon[data-jp-theme-light=\"false\"] .syftjob-empty p,\n",
       "                body[data-jp-theme-light=\"false\"] .syftjob-empty p {\n",
       "                    color: rgba(255,255,255,0.95);\n",
       "                    opacity: 0.95;\n",
       "                }\n",
       "            </style>\n",
       "            <div class=\"syftjob-empty\">\n",
       "                <span class=\"syftjob-empty-icon\">📭</span>\n",
       "                <h3>No jobs found</h3>\n",
       "                <p>Submit jobs to see them here</p>\n",
       "            </div>\n",
       "            "
      ],
      "text/plain": [
       "JobsList(0 jobs)"
      ]
     },
     "execution_count": 22,
     "metadata": {},
     "output_type": "execute_result"
    }
   ],
   "source": [
    "do_client.jobs"
   ]
  },
  {
   "cell_type": "code",
   "execution_count": 21,
   "id": "a835210d",
   "metadata": {},
   "outputs": [
    {
     "ename": "IndexError",
     "evalue": "list index out of range",
     "output_type": "error",
     "traceback": [
      "\u001b[31m---------------------------------------------------------------------------\u001b[39m",
      "\u001b[31mIndexError\u001b[39m                                Traceback (most recent call last)",
      "\u001b[36mCell\u001b[39m\u001b[36m \u001b[39m\u001b[32mIn[21]\u001b[39m\u001b[32m, line 1\u001b[39m\n\u001b[32m----> \u001b[39m\u001b[32m1\u001b[39m \u001b[43mdo_client\u001b[49m\u001b[43m.\u001b[49m\u001b[43mjobs\u001b[49m\u001b[43m[\u001b[49m\u001b[32;43m0\u001b[39;49m\u001b[43m]\u001b[49m\n",
      "\u001b[36mFile \u001b[39m\u001b[32m~/Library/Caches/uv/archive-v0/sijy0UTY8SsVActm27hBJ/lib/python3.12/site-packages/syft_job/client.py:871\u001b[39m, in \u001b[36mJobsList.__getitem__\u001b[39m\u001b[34m(self, index)\u001b[39m\n\u001b[32m    870\u001b[39m \u001b[38;5;28;01mdef\u001b[39;00m\u001b[38;5;250m \u001b[39m\u001b[34m__getitem__\u001b[39m(\u001b[38;5;28mself\u001b[39m, index) -> JobInfo:\n\u001b[32m--> \u001b[39m\u001b[32m871\u001b[39m     \u001b[38;5;28;01mreturn\u001b[39;00m \u001b[38;5;28;43mself\u001b[39;49m\u001b[43m.\u001b[49m\u001b[43m_jobs\u001b[49m\u001b[43m[\u001b[49m\u001b[43mindex\u001b[49m\u001b[43m]\u001b[49m\n",
      "\u001b[31mIndexError\u001b[39m: list index out of range"
     ]
    }
   ],
   "source": [
    "do_client.jobs[0]"
   ]
  },
  {
   "cell_type": "code",
   "execution_count": 12,
   "id": "87bd8cd9",
   "metadata": {},
   "outputs": [],
   "source": [
    "do_client.jobs[0].approve()"
   ]
  },
  {
   "cell_type": "code",
   "execution_count": null,
   "id": "fbb3e0b4",
   "metadata": {},
   "outputs": [],
   "source": [
    "do_client.peers"
   ]
  },
  {
   "cell_type": "code",
   "execution_count": null,
   "id": "b8411918",
   "metadata": {},
   "outputs": [],
   "source": [
    "do_client.jobs[0].stdout"
   ]
  },
  {
   "cell_type": "code",
   "execution_count": null,
   "id": "d648a39c",
   "metadata": {},
   "outputs": [],
   "source": [
    "print(ss.servers[5].stdout.tail(50))"
   ]
  },
  {
   "cell_type": "code",
   "execution_count": null,
   "id": "f7153eac",
   "metadata": {},
   "outputs": [],
   "source": []
  },
  {
   "cell_type": "code",
   "execution_count": null,
   "id": "7c128bf9-1e79-402f-b496-06ae43397245",
   "metadata": {},
   "outputs": [],
   "source": []
  }
 ],
 "metadata": {
  "kernelspec": {
   "display_name": "Python 3 (ipykernel)",
   "language": "python",
   "name": "python3"
  },
  "language_info": {
   "codemirror_mode": {
    "name": "ipython",
    "version": 3
   },
   "file_extension": ".py",
   "mimetype": "text/x-python",
   "name": "python",
   "nbconvert_exporter": "python",
   "pygments_lexer": "ipython3",
   "version": "3.12.9"
  }
 },
 "nbformat": 4,
 "nbformat_minor": 5
}
