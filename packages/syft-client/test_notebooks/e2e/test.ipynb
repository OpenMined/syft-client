{
 "cells": [
  {
   "cell_type": "code",
   "execution_count": null,
   "id": "d645247a",
   "metadata": {},
   "outputs": [],
   "source": [
    "import syft_client as sc"
   ]
  },
  {
   "cell_type": "code",
   "execution_count": null,
   "id": "d83f6447",
   "metadata": {},
   "outputs": [],
   "source": [
    "do_email = input(\"Enter DO email\")\n",
    "client = sc.login(\"\")"
   ]
  },
  {
   "cell_type": "code",
   "execution_count": null,
   "id": "149cfb00",
   "metadata": {},
   "outputs": [],
   "source": [
    "data_path = \"syft://private/crop_data/data.csv\""
   ]
  },
  {
   "cell_type": "code",
   "execution_count": null,
   "id": "01be066d",
   "metadata": {},
   "outputs": [],
   "source": [
    "import os\n",
    "os.environ[\"SYFTBOX_FOLDER\"] = str(client.folder)"
   ]
  },
  {
   "cell_type": "code",
   "execution_count": null,
   "id": "b36db96c",
   "metadata": {},
   "outputs": [],
   "source": [
    "sc.resolve_path(data_path).exists()"
   ]
  },
  {
   "cell_type": "code",
   "execution_count": null,
   "id": "975d402f",
   "metadata": {},
   "outputs": [],
   "source": []
  }
 ],
 "metadata": {
  "kernelspec": {
   "display_name": "Python 3 (ipykernel)",
   "language": "python",
   "name": "python3"
  },
  "language_info": {
   "codemirror_mode": {
    "name": "ipython",
    "version": 3
   },
   "file_extension": ".py",
   "mimetype": "text/x-python",
   "name": "python",
   "nbconvert_exporter": "python",
   "pygments_lexer": "ipython3",
   "version": "3.12.9"
  }
 },
 "nbformat": 4,
 "nbformat_minor": 5
}
