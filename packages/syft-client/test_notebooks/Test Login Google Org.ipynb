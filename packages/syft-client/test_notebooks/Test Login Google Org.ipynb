{
 "cells": [
  {
   "cell_type": "code",
   "execution_count": 60,
   "id": "d653c026-1411-4c78-9f59-a8b0dcba4faf",
   "metadata": {},
   "outputs": [],
   "source": [
    "import syft_serve"
   ]
  },
  {
   "cell_type": "code",
   "execution_count": 1,
   "id": "9b86ea6f-a5b6-429f-b809-f2f06aa0cb8c",
   "metadata": {},
   "outputs": [],
   "source": [
    "import sys\n",
    "sys.path.insert(0, '..')\n",
    "import syft_client as sc"
   ]
  },
  {
   "cell_type": "markdown",
   "id": "c40c011e-b6b5-432e-83fe-c85d184b5185",
   "metadata": {},
   "source": [
    "# Test Setup: Delete All Cached Login Creds"
   ]
  },
  {
   "cell_type": "code",
   "execution_count": 2,
   "id": "a8847adc-933e-468e-833d-1ab7e850570f",
   "metadata": {},
   "outputs": [
    {
     "name": "stdout",
     "output_type": "stream",
     "text": [
      "\n",
      "⚠️  WARNING: This will delete all stored credentials!\n",
      "\n",
      "Wallet directory: /Users/atrask/.syft\n",
      "Files to be deleted: 2\n",
      "  - andrew_at_openmined_org/config.json\n",
      "  - andrew_at_openmined_org/tokens/google_org.json\n"
     ]
    },
    {
     "name": "stdin",
     "output_type": "stream",
     "text": [
      "\n",
      "Are you sure you want to delete all wallet data? (yes/no):  yes\n"
     ]
    },
    {
     "name": "stdout",
     "output_type": "stream",
     "text": [
      "\n",
      "✓ Wallet directory deleted: /Users/atrask/.syft\n",
      "All stored credentials have been removed.\n",
      "\n",
      "You will need to authenticate again on your next login.\n"
     ]
    },
    {
     "data": {
      "text/plain": [
       "True"
      ]
     },
     "execution_count": 2,
     "metadata": {},
     "output_type": "execute_result"
    }
   ],
   "source": [
    "sc.reset_wallet()"
   ]
  },
  {
   "cell_type": "markdown",
   "id": "18854923-fbe5-4ecf-88a6-73cf1208a732",
   "metadata": {},
   "source": [
    "# Test 0: Initialize Using Wizard (Full Flow)"
   ]
  },
  {
   "cell_type": "code",
   "execution_count": 3,
   "id": "656f71be-939d-4b2c-a71d-162b7d889a64",
   "metadata": {},
   "outputs": [
    {
     "name": "stdout",
     "output_type": "stream",
     "text": [
      "\n",
      "🔍 Scanning for existing Google credentials...\n",
      "\n",
      "✅ Found 14 Google credential files:\n",
      "   1. client_secret_819798414381-pv3uckf6d12j1e9a9hr69a93d8ahlfkt.apps.googleusercontent.com.json\n",
      "      Project: applied-shade-472916-h5\n",
      "   2. client_secret_706225212388-f55c0bpv4hje6vndd4b3lfsivr6o7lri.apps.googleusercontent.com.json\n",
      "      Project: focused-century-472800-q2\n",
      "   3. client_secret_296668778163-sdk71p8a9l3bf2gg8kp9bt3oucmlpk57.apps.googleusercontent.com.json\n",
      "      Project: stately-voltage-472914-a9\n",
      "   4. client_secret_1078321139231-bumdjp22em7e0v7i9pnl5d06r8jaglgr.apps.googleusercontent.com.json\n",
      "      Project: serene-mender-472914-i2\n",
      "   5. client_secret_146914419908-md7877nekfubjim2losmjsdat198erl7.apps.googleusercontent.com.json\n",
      "      Project: booming-oarlock-472916-j0\n",
      "\n",
      "Which one is for andrew@openmined.org?\n"
     ]
    },
    {
     "name": "stdin",
     "output_type": "stream",
     "text": [
      "Enter number (1-5) or press Enter to skip:  \n"
     ]
    },
    {
     "name": "stdout",
     "output_type": "stream",
     "text": [
      "\n",
      "No credentials found. Starting setup wizard...\n",
      "\n",
      "🔐 OAuth2 Credentials Setup Wizard\n",
      "==================================================\n",
      "\n",
      "❌ No OAuth2 credentials found.\n",
      "Let's set them up!\n",
      "\n",
      "Have you created a Google Cloud project for Syft with andrew@openmined.org before?\n",
      "(If you're not sure, say 'No' - it doesn't break anything, it'll just mean a few more steps)\n"
     ]
    },
    {
     "name": "stdin",
     "output_type": "stream",
     "text": [
      " (y/n):  n\n"
     ]
    },
    {
     "name": "stdout",
     "output_type": "stream",
     "text": [
      "\n",
      "📝 Step 1: Create a Google Cloud Project\n",
      "----------------------------------------\n",
      "1. Open: https://console.cloud.google.com/projectcreate?authuser=andrew@openmined.org\n",
      "2. Enter a project name (e.g., 'Syft Client')\n",
      "3. Click 'CREATE'\n",
      "4. Wait for project creation (takes ~30 seconds)\n"
     ]
    },
    {
     "name": "stdin",
     "output_type": "stream",
     "text": [
      "\n",
      "Press Enter when your project is created... \n"
     ]
    },
    {
     "name": "stdout",
     "output_type": "stream",
     "text": [
      "\n",
      "🎯 Step 2: Select your project\n",
      "----------------------------------------\n",
      "1. Look at the top bar of Google Cloud Console\n",
      "2. Click the project dropdown (shows current project name)\n",
      "3. Select your project from the list\n",
      "4. Make sure it's selected before continuing\n"
     ]
    },
    {
     "name": "stdin",
     "output_type": "stream",
     "text": [
      "\n",
      "Press Enter AFTER you've selected your project... \n"
     ]
    },
    {
     "name": "stdout",
     "output_type": "stream",
     "text": [
      "\n",
      "📋 Step 3: Note your Project ID\n",
      "----------------------------------------\n",
      "Your Project ID is shown in the project selector dropdown\n",
      "It's usually different from your project name (e.g., 'syft-client-123456')\n"
     ]
    },
    {
     "name": "stdin",
     "output_type": "stream",
     "text": [
      "\n",
      "Enter your Project ID:  psychic-surf-472920-j9\n"
     ]
    },
    {
     "name": "stdout",
     "output_type": "stream",
     "text": [
      "\n",
      "🔍 Checking for existing credentials...\n",
      "No existing credentials found. Continuing with setup...\n",
      "\n",
      "🔌 Step 4: Enable Required APIs\n",
      "----------------------------------------\n",
      "Please enable the following APIs:\n",
      "\n",
      "Gmail API:\n",
      "  1. Open: https://console.cloud.google.com/marketplace/product/google/gmail.googleapis.com?authuser=andrew@openmined.org&project=psychic-surf-472920-j9\n",
      "  2. Click 'ENABLE'\n",
      "  3. Wait for confirmation\n",
      "\n",
      "Drive API:\n",
      "  1. Open: https://console.cloud.google.com/marketplace/product/google/drive.googleapis.com?authuser=andrew@openmined.org&project=psychic-surf-472920-j9\n",
      "  2. Click 'ENABLE'\n",
      "  3. Wait for confirmation\n",
      "\n",
      "Sheets API:\n",
      "  1. Open: https://console.cloud.google.com/marketplace/product/google/sheets.googleapis.com?authuser=andrew@openmined.org&project=psychic-surf-472920-j9\n",
      "  2. Click 'ENABLE'\n",
      "  3. Wait for confirmation\n",
      "\n",
      "Forms API:\n",
      "  1. Open: https://console.cloud.google.com/marketplace/product/google/forms.googleapis.com?authuser=andrew@openmined.org&project=psychic-surf-472920-j9\n",
      "  2. Click 'ENABLE'\n",
      "  3. Wait for confirmation\n",
      "\n",
      "📍 Note: APIs tend to flicker for 5-10 seconds before enabling\n"
     ]
    },
    {
     "name": "stdin",
     "output_type": "stream",
     "text": [
      "\n",
      "Press Enter after enabling all APIs... \n"
     ]
    },
    {
     "name": "stdout",
     "output_type": "stream",
     "text": [
      "\n",
      "🔐 Step 5: Configure OAuth Consent Screen\n",
      "----------------------------------------\n",
      "1. Open: https://console.cloud.google.com/auth/overview/create?authuser=andrew@openmined.org&project=psychic-surf-472920-j9\n",
      "\n",
      "2. Fill in the App Information:\n",
      "   - App name: Enter 'Syft Client' (or any name you prefer)\n",
      "   - User support email: Select your email from the dropdown\n",
      "\n",
      "3. Select 'Internal' user type (for organization accounts)\n",
      "   📝 Note: Internal apps don't require test users\n",
      "   Click 'CREATE'\n",
      "\n",
      "4. In Contact Information:\n",
      "   - Email addresses: Enter your email address\n",
      "   - Click 'Next'\n",
      "\n",
      "5. On the Finish page:\n",
      "   - Check 'I agree to the Google API Services: User Data Policy'\n",
      "   - Click 'Continue'\n",
      "   - Click 'Create'\n"
     ]
    },
    {
     "name": "stdin",
     "output_type": "stream",
     "text": [
      "\n",
      "Press Enter when consent screen is created... \n"
     ]
    },
    {
     "name": "stdout",
     "output_type": "stream",
     "text": [
      "\n",
      "🔑 Step 6: Create OAuth2 Credentials\n",
      "----------------------------------------\n",
      "1. Open: https://console.cloud.google.com/apis/credentials?authuser=andrew@openmined.org&project=psychic-surf-472920-j9\n",
      "2. Click '+ CREATE CREDENTIALS' button\n",
      "3. Choose 'OAuth client ID'\n",
      "4. Select 'Desktop app' as application type\n",
      "5. Name it 'Syft Client' (or any name you prefer)\n",
      "6. Click 'CREATE'\n"
     ]
    },
    {
     "name": "stdin",
     "output_type": "stream",
     "text": [
      "\n",
      "Press Enter after creating the OAuth client... \n"
     ]
    },
    {
     "name": "stdout",
     "output_type": "stream",
     "text": [
      "\n",
      "📥 Step 7: Download Credentials\n",
      "----------------------------------------\n",
      "1. In the credentials list, find your new OAuth 2.0 Client ID\n",
      "2. Click the download button (⬇) on the right\n",
      "3. Save the file (it may be named like 'client_secret_*.json')\n"
     ]
    },
    {
     "name": "stdin",
     "output_type": "stream",
     "text": [
      "\n",
      "Press Enter after downloading the file... \n"
     ]
    },
    {
     "name": "stdout",
     "output_type": "stream",
     "text": [
      "\n",
      "🔍 Searching for credentials files...\n",
      "\n",
      "✅ Found credentials file: client_secret_541060956332-kqtk2tj9gl42g68g050r7tlg3jptqt95.apps.googleusercontent.com.json (matches project: psychic-surf-472920-j9)\n"
     ]
    },
    {
     "name": "stdin",
     "output_type": "stream",
     "text": [
      "Is this your credentials file? (Y/n):  y\n"
     ]
    },
    {
     "name": "stdout",
     "output_type": "stream",
     "text": [
      "✅ Credentials copied to: /Users/atrask/.syft/andrew_at_openmined_org/credentials.json\n",
      "✅ Project info saved to config.json\n",
      "\n",
      "✅ Setup Complete!\n",
      "----------------------------------------\n",
      "✅ Credentials saved to: /Users/atrask/.syft/andrew_at_openmined_org/credentials.json\n",
      "✅ Project ID: psychic-surf-472920-j9\n",
      "\n",
      "📌 Next steps:\n",
      "1. Run the login command below\n",
      "2. Authorize in your browser when prompted\n",
      "3. Your tokens will be saved for future use\n",
      "\n",
      "==================================================\n",
      "\n",
      "Your OAuth2 credentials are ready. You can now run:\n",
      "  >>> from syft_client import login\n",
      "  >>> client = login('andrew@openmined.org')\n",
      "Please visit this URL to authorize this application: https://accounts.google.com/o/oauth2/auth?response_type=code&client_id=541060956332-kqtk2tj9gl42g68g050r7tlg3jptqt95.apps.googleusercontent.com&redirect_uri=http%3A%2F%2Flocalhost%3A62382%2F&scope=https%3A%2F%2Fwww.googleapis.com%2Fauth%2Fgmail.send+https%3A%2F%2Fwww.googleapis.com%2Fauth%2Fgmail.readonly+https%3A%2F%2Fwww.googleapis.com%2Fauth%2Fgmail.modify+https%3A%2F%2Fwww.googleapis.com%2Fauth%2Fdrive+https%3A%2F%2Fwww.googleapis.com%2Fauth%2Fspreadsheets+https%3A%2F%2Fwww.googleapis.com%2Fauth%2Fforms.body&state=9v3D6qZcRUBsk1jJoHLrjRcmJ4cFaJ&access_type=offline\n",
      "\n",
      "🔐 Choose your token storage preference\n",
      "==================================================\n",
      "\n",
      "Tokens allow Syft to access Google services on your behalf.\n",
      "Where would you like to store them?\n",
      "\n",
      "1. Local File Storage - Simple, works everywhere\n"
     ]
    },
    {
     "name": "stdin",
     "output_type": "stream",
     "text": [
      "\n",
      "Your choice [1]:  \n"
     ]
    },
    {
     "name": "stdout",
     "output_type": "stream",
     "text": [
      "\n",
      "✓ Local File Storage configured successfully!\n",
      "Future logins will use this storage method.\n",
      "\n",
      "🚀 Let's set up your Google Workspace services!\n",
      "==================================================\n",
      "\n",
      "Available services:\n",
      "\n",
      "1. Gmail (Required) - ○ Not configured\n",
      "   Send and receive emails with attachments\n",
      "   Features: Email notifications, Backend data transfer, HTML support\n",
      "\n",
      "2. Google Drive - ○ Not configured\n",
      "   Store and share files in the cloud\n",
      "   Features: File upload/download, Folder organization, Sharing\n",
      "\n",
      "3. Google Sheets - ○ Not configured\n",
      "   Create and manage spreadsheets\n",
      "   Features: Data tables, CSV export, Public sharing\n",
      "\n",
      "4. Google Forms - ○ Not configured\n",
      "   Create forms for data collection\n",
      "   Features: Dynamic forms, Response collection\n",
      "\n",
      "\n",
      "Quick setup options:\n",
      "1. Basic - Gmail only (recommended for testing)\n",
      "2. Standard - Gmail + Google Drive\n",
      "3. Full - All services\n",
      "4. Custom - Choose individually\n",
      "5. Skip for now\n"
     ]
    },
    {
     "name": "stdin",
     "output_type": "stream",
     "text": [
      "\n",
      "Your choice [3]:  \n"
     ]
    },
    {
     "name": "stdout",
     "output_type": "stream",
     "text": [
      "\n",
      "✅ Setup complete!\n",
      "Configured: gmail, gdrive_files, gsheets, gforms\n"
     ]
    }
   ],
   "source": [
    "client = sc.login(\"andrew@openmined.org\")"
   ]
  },
  {
   "cell_type": "markdown",
   "id": "ac61a090-3ced-4556-b523-7ee38b1ff5eb",
   "metadata": {},
   "source": [
    "# Test 1: Initialize Using Wizard (Existing Project - Can't Remember Name + Creds Found)"
   ]
  },
  {
   "cell_type": "code",
   "execution_count": 5,
   "id": "30c3ca02-7743-4219-a686-235321490878",
   "metadata": {},
   "outputs": [
    {
     "name": "stdout",
     "output_type": "stream",
     "text": [
      "\n",
      "⚠️  WARNING: This will delete all stored credentials!\n",
      "\n",
      "Wallet directory: /Users/atrask/.syft\n",
      "Files to be deleted: 3\n",
      "  - andrew_at_openmined_org/config.json\n",
      "  - andrew_at_openmined_org/credentials.json\n",
      "  - andrew_at_openmined_org/tokens/google_org.json\n"
     ]
    },
    {
     "name": "stdin",
     "output_type": "stream",
     "text": [
      "\n",
      "Are you sure you want to delete all wallet data? (yes/no):  yes\n"
     ]
    },
    {
     "name": "stdout",
     "output_type": "stream",
     "text": [
      "\n",
      "✓ Wallet directory deleted: /Users/atrask/.syft\n",
      "All stored credentials have been removed.\n",
      "\n",
      "You will need to authenticate again on your next login.\n"
     ]
    },
    {
     "data": {
      "text/plain": [
       "True"
      ]
     },
     "execution_count": 5,
     "metadata": {},
     "output_type": "execute_result"
    }
   ],
   "source": [
    "sc.reset_wallet()"
   ]
  },
  {
   "cell_type": "code",
   "execution_count": 6,
   "id": "d55ce723-e73e-488a-94cb-72200e056d51",
   "metadata": {},
   "outputs": [
    {
     "name": "stdout",
     "output_type": "stream",
     "text": [
      "\n",
      "🔍 Scanning for existing Google credentials...\n",
      "\n",
      "✅ Found 13 Google credential files:\n",
      "   1. client_secret_819798414381-pv3uckf6d12j1e9a9hr69a93d8ahlfkt.apps.googleusercontent.com.json\n",
      "      Project: applied-shade-472916-h5\n",
      "   2. client_secret_706225212388-f55c0bpv4hje6vndd4b3lfsivr6o7lri.apps.googleusercontent.com.json\n",
      "      Project: focused-century-472800-q2\n",
      "   3. client_secret_296668778163-sdk71p8a9l3bf2gg8kp9bt3oucmlpk57.apps.googleusercontent.com.json\n",
      "      Project: stately-voltage-472914-a9\n",
      "   4. client_secret_1078321139231-bumdjp22em7e0v7i9pnl5d06r8jaglgr.apps.googleusercontent.com.json\n",
      "      Project: serene-mender-472914-i2\n",
      "   5. client_secret_146914419908-md7877nekfubjim2losmjsdat198erl7.apps.googleusercontent.com.json\n",
      "      Project: booming-oarlock-472916-j0\n",
      "\n",
      "Which one is for andrew@openmined.org?\n"
     ]
    },
    {
     "name": "stdin",
     "output_type": "stream",
     "text": [
      "Enter number (1-5) or press Enter to skip:  \n"
     ]
    },
    {
     "name": "stdout",
     "output_type": "stream",
     "text": [
      "\n",
      "No credentials found. Starting setup wizard...\n",
      "\n",
      "🔐 OAuth2 Credentials Setup Wizard\n",
      "==================================================\n",
      "\n",
      "❌ No OAuth2 credentials found.\n",
      "Let's set them up!\n",
      "\n",
      "Have you created a Google Cloud project for Syft with andrew@openmined.org before?\n",
      "(If you're not sure, say 'No' - it doesn't break anything, it'll just mean a few more steps)\n"
     ]
    },
    {
     "name": "stdin",
     "output_type": "stream",
     "text": [
      " (y/n):  y\n",
      "Do you remember your Google Cloud project ID? (y/n):  n\n"
     ]
    },
    {
     "name": "stdout",
     "output_type": "stream",
     "text": [
      "\n",
      "🔍 Let's find your existing project\n",
      "----------------------------------------\n",
      "1. Open: https://console.cloud.google.com/welcome?authuser=andrew@openmined.org\n",
      "2. Look at the project selector dropdown at the top of the page\n",
      "3. Click the dropdown to see all your projects\n",
      "4. Look for projects named like 'syft-client' or similar\n",
      "5. Note the project ID (shown under the project name)\n",
      "\n",
      "The project ID is usually like 'syft-client-123456'\n"
     ]
    },
    {
     "name": "stdin",
     "output_type": "stream",
     "text": [
      "\n",
      "Enter the project ID you found (or press Enter to create new):  outstanding-map-472919-q6\n"
     ]
    },
    {
     "name": "stdout",
     "output_type": "stream",
     "text": [
      "\n",
      "✅ Found existing credentials for project outstanding-map-472919-q6!\n",
      "   File: /Users/atrask/Downloads/client_secret_586423647206-u85eoja2tpb72l76q5u7q68psk7t5nnv.apps.googleusercontent.com.json\n"
     ]
    },
    {
     "name": "stdin",
     "output_type": "stream",
     "text": [
      "Use this existing credentials file? (Y/n):  Y\n"
     ]
    },
    {
     "name": "stdout",
     "output_type": "stream",
     "text": [
      "\n",
      "✅ Setup Complete!\n",
      "----------------------------------------\n",
      "✅ Credentials saved to: /Users/atrask/Downloads/client_secret_586423647206-u85eoja2tpb72l76q5u7q68psk7t5nnv.apps.googleusercontent.com.json\n",
      "✅ Project ID: outstanding-map-472919-q6\n",
      "\n",
      "📌 Next steps:\n",
      "1. Run the login command below\n",
      "2. Authorize in your browser when prompted\n",
      "3. Your tokens will be saved for future use\n",
      "\n",
      "==================================================\n",
      "\n",
      "Your OAuth2 credentials are ready. You can now run:\n",
      "  >>> from syft_client import login\n",
      "  >>> client = login('andrew@openmined.org')\n",
      "Please visit this URL to authorize this application: https://accounts.google.com/o/oauth2/auth?response_type=code&client_id=586423647206-u85eoja2tpb72l76q5u7q68psk7t5nnv.apps.googleusercontent.com&redirect_uri=http%3A%2F%2Flocalhost%3A58902%2F&scope=https%3A%2F%2Fwww.googleapis.com%2Fauth%2Fgmail.send+https%3A%2F%2Fwww.googleapis.com%2Fauth%2Fgmail.readonly+https%3A%2F%2Fwww.googleapis.com%2Fauth%2Fgmail.modify+https%3A%2F%2Fwww.googleapis.com%2Fauth%2Fdrive+https%3A%2F%2Fwww.googleapis.com%2Fauth%2Fspreadsheets+https%3A%2F%2Fwww.googleapis.com%2Fauth%2Fforms.body&state=XasNeQnaQ0xQ60g44vPBcBfrSbOJ4S&access_type=offline\n",
      "\n",
      "🔐 Choose your token storage preference\n",
      "==================================================\n",
      "\n",
      "Tokens allow Syft to access Google services on your behalf.\n",
      "Where would you like to store them?\n",
      "\n",
      "1. Local File Storage - Simple, works everywhere\n"
     ]
    },
    {
     "name": "stdin",
     "output_type": "stream",
     "text": [
      "\n",
      "Your choice [1]:  \n"
     ]
    },
    {
     "name": "stdout",
     "output_type": "stream",
     "text": [
      "\n",
      "✓ Local File Storage configured successfully!\n",
      "Future logins will use this storage method.\n",
      "\n",
      "🚀 Let's set up your Google Workspace services!\n",
      "==================================================\n",
      "\n",
      "Available services:\n",
      "\n",
      "1. Gmail (Required) - ○ Not configured\n",
      "   Send and receive emails with attachments\n",
      "   Features: Email notifications, Backend data transfer, HTML support\n",
      "\n",
      "2. Google Drive - ○ Not configured\n",
      "   Store and share files in the cloud\n",
      "   Features: File upload/download, Folder organization, Sharing\n",
      "\n",
      "3. Google Sheets - ○ Not configured\n",
      "   Create and manage spreadsheets\n",
      "   Features: Data tables, CSV export, Public sharing\n",
      "\n",
      "4. Google Forms - ○ Not configured\n",
      "   Create forms for data collection\n",
      "   Features: Dynamic forms, Response collection\n",
      "\n",
      "\n",
      "Quick setup options:\n",
      "1. Basic - Gmail only (recommended for testing)\n",
      "2. Standard - Gmail + Google Drive\n",
      "3. Full - All services\n",
      "4. Custom - Choose individually\n",
      "5. Skip for now\n"
     ]
    },
    {
     "name": "stdin",
     "output_type": "stream",
     "text": [
      "\n",
      "Your choice [3]:  \n"
     ]
    },
    {
     "name": "stdout",
     "output_type": "stream",
     "text": [
      "\n",
      "✅ Setup complete!\n",
      "Configured: gmail, gdrive_files, gsheets, gforms\n"
     ]
    }
   ],
   "source": [
    "client = sc.login(\"andrew@openmined.org\")"
   ]
  },
  {
   "cell_type": "code",
   "execution_count": null,
   "id": "7515d7a7-7b80-475f-9964-6d2baed0fa48",
   "metadata": {},
   "outputs": [],
   "source": []
  },
  {
   "cell_type": "code",
   "execution_count": null,
   "id": "ebeb892d-852a-490a-913d-b0fbf4e456ee",
   "metadata": {},
   "outputs": [],
   "source": []
  },
  {
   "cell_type": "markdown",
   "id": "d06d862f-bacd-43e4-943f-0da05e54cb56",
   "metadata": {},
   "source": [
    "# Test 2: Initialize Using Wizard (Existing Project - Can't Remember Name + Creds Not Found)"
   ]
  },
  {
   "cell_type": "code",
   "execution_count": 8,
   "id": "a6560145-7917-4cb3-a384-686b28209507",
   "metadata": {},
   "outputs": [
    {
     "name": "stdout",
     "output_type": "stream",
     "text": [
      "\n",
      "⚠️  WARNING: This will delete all stored credentials!\n",
      "\n",
      "Wallet directory: /Users/atrask/.syft\n",
      "Files to be deleted: 2\n",
      "  - andrew_at_openmined_org/config.json\n",
      "  - andrew_at_openmined_org/tokens/google_org.json\n"
     ]
    },
    {
     "name": "stdin",
     "output_type": "stream",
     "text": [
      "\n",
      "Are you sure you want to delete all wallet data? (yes/no):  yes\n"
     ]
    },
    {
     "name": "stdout",
     "output_type": "stream",
     "text": [
      "\n",
      "✓ Wallet directory deleted: /Users/atrask/.syft\n",
      "All stored credentials have been removed.\n",
      "\n",
      "You will need to authenticate again on your next login.\n"
     ]
    },
    {
     "data": {
      "text/plain": [
       "True"
      ]
     },
     "execution_count": 8,
     "metadata": {},
     "output_type": "execute_result"
    }
   ],
   "source": [
    "sc.reset_wallet()"
   ]
  },
  {
   "cell_type": "code",
   "execution_count": 10,
   "id": "65d8250e-17e6-4136-b5e4-a42afab9ff93",
   "metadata": {},
   "outputs": [
    {
     "name": "stdout",
     "output_type": "stream",
     "text": [
      "\n",
      "🔍 Scanning for existing Google credentials...\n",
      "\n",
      "✅ Found 13 Google credential files:\n",
      "   1. client_secret_819798414381-pv3uckf6d12j1e9a9hr69a93d8ahlfkt.apps.googleusercontent.com.json\n",
      "      Project: applied-shade-472916-h5\n",
      "   2. client_secret_706225212388-f55c0bpv4hje6vndd4b3lfsivr6o7lri.apps.googleusercontent.com.json\n",
      "      Project: focused-century-472800-q2\n",
      "   3. client_secret_296668778163-sdk71p8a9l3bf2gg8kp9bt3oucmlpk57.apps.googleusercontent.com.json\n",
      "      Project: stately-voltage-472914-a9\n",
      "   4. client_secret_1078321139231-bumdjp22em7e0v7i9pnl5d06r8jaglgr.apps.googleusercontent.com.json\n",
      "      Project: serene-mender-472914-i2\n",
      "   5. client_secret_146914419908-md7877nekfubjim2losmjsdat198erl7.apps.googleusercontent.com.json\n",
      "      Project: booming-oarlock-472916-j0\n",
      "\n",
      "Which one is for andrew@openmined.org?\n"
     ]
    },
    {
     "name": "stdin",
     "output_type": "stream",
     "text": [
      "Enter number (1-5) or press Enter to skip:  \n"
     ]
    },
    {
     "name": "stdout",
     "output_type": "stream",
     "text": [
      "\n",
      "No credentials found. Starting setup wizard...\n",
      "\n",
      "🔐 OAuth2 Credentials Setup Wizard\n",
      "==================================================\n",
      "\n",
      "❌ No OAuth2 credentials found.\n",
      "Let's set them up!\n",
      "\n",
      "Have you created a Google Cloud project for Syft with andrew@openmined.org before?\n",
      "(If you're not sure, say 'No' - it doesn't break anything, it'll just mean a few more steps)\n"
     ]
    },
    {
     "name": "stdin",
     "output_type": "stream",
     "text": [
      " (y/n):  y\n",
      "Do you remember your Google Cloud project ID? (y/n):  n\n"
     ]
    },
    {
     "name": "stdout",
     "output_type": "stream",
     "text": [
      "\n",
      "🔍 Let's find your existing project\n",
      "----------------------------------------\n",
      "1. Open: https://console.cloud.google.com/welcome?authuser=andrew@openmined.org\n",
      "2. Look at the project selector dropdown at the top of the page\n",
      "3. Click the dropdown to see all your projects\n",
      "4. Look for projects named like 'syft-client' or similar\n",
      "5. Note the project ID (shown under the project name)\n",
      "\n",
      "The project ID is usually like 'syft-client-123456'\n"
     ]
    },
    {
     "name": "stdin",
     "output_type": "stream",
     "text": [
      "\n",
      "Enter the project ID you found (or press Enter to create new):  outstanding-map-472919-q6\n"
     ]
    },
    {
     "name": "stdout",
     "output_type": "stream",
     "text": [
      "\n",
      "✅ Found existing credentials for project outstanding-map-472919-q6!\n",
      "   File: /Users/atrask/Downloads/client_secret_586423647206-u85eoja2tpb72l76q5u7q68psk7t5nnv.apps.googleusercontent.com.json\n"
     ]
    },
    {
     "name": "stdin",
     "output_type": "stream",
     "text": [
      "Use this existing credentials file? (Y/n):  n\n"
     ]
    },
    {
     "name": "stdout",
     "output_type": "stream",
     "text": [
      "\n",
      "No existing credentials found for this project.\n",
      "\n",
      "🔑 Step 6: Create OAuth2 Credentials\n",
      "----------------------------------------\n",
      "1. Open: https://console.cloud.google.com/apis/credentials?authuser=andrew@openmined.org&project=outstanding-map-472919-q6\n",
      "2. Click '+ CREATE CREDENTIALS' button\n",
      "3. Choose 'OAuth client ID'\n",
      "4. Select 'Desktop app' as application type\n",
      "5. Name it 'Syft Client' (or any name you prefer)\n",
      "6. Click 'CREATE'\n"
     ]
    },
    {
     "name": "stdin",
     "output_type": "stream",
     "text": [
      "\n",
      "Press Enter after creating the OAuth client... \n"
     ]
    },
    {
     "name": "stdout",
     "output_type": "stream",
     "text": [
      "\n",
      "📥 Step 7: Download Credentials\n",
      "----------------------------------------\n",
      "1. In the credentials list, find your new OAuth 2.0 Client ID\n",
      "2. Click the download button (⬇) on the right\n",
      "3. Save the file (it may be named like 'client_secret_*.json')\n"
     ]
    },
    {
     "name": "stdin",
     "output_type": "stream",
     "text": [
      "\n",
      "Press Enter after downloading the file... \n"
     ]
    },
    {
     "name": "stdout",
     "output_type": "stream",
     "text": [
      "\n",
      "🔍 Searching for credentials files...\n",
      "\n",
      "✅ Found credentials file: client_secret_586423647206-948ere54bakkfrcqnotp3mdu9bk5319c.apps.googleusercontent.com.json (matches project: outstanding-map-472919-q6)\n"
     ]
    },
    {
     "name": "stdin",
     "output_type": "stream",
     "text": [
      "Is this your credentials file? (Y/n):  Y\n"
     ]
    },
    {
     "name": "stdout",
     "output_type": "stream",
     "text": [
      "✅ Credentials copied to: /Users/atrask/.syft/andrew_at_openmined_org/credentials.json\n",
      "\n",
      "✅ Setup Complete!\n",
      "----------------------------------------\n",
      "✅ Credentials saved to: /Users/atrask/.syft/andrew_at_openmined_org/credentials.json\n",
      "✅ Project ID: outstanding-map-472919-q6\n",
      "\n",
      "📌 Next steps:\n",
      "1. Run the login command below\n",
      "2. Authorize in your browser when prompted\n",
      "3. Your tokens will be saved for future use\n",
      "\n",
      "==================================================\n",
      "\n",
      "Your OAuth2 credentials are ready. You can now run:\n",
      "  >>> from syft_client import login\n",
      "  >>> client = login('andrew@openmined.org')\n",
      "Please visit this URL to authorize this application: https://accounts.google.com/o/oauth2/auth?response_type=code&client_id=586423647206-948ere54bakkfrcqnotp3mdu9bk5319c.apps.googleusercontent.com&redirect_uri=http%3A%2F%2Flocalhost%3A59125%2F&scope=https%3A%2F%2Fwww.googleapis.com%2Fauth%2Fgmail.send+https%3A%2F%2Fwww.googleapis.com%2Fauth%2Fgmail.readonly+https%3A%2F%2Fwww.googleapis.com%2Fauth%2Fgmail.modify+https%3A%2F%2Fwww.googleapis.com%2Fauth%2Fdrive+https%3A%2F%2Fwww.googleapis.com%2Fauth%2Fspreadsheets+https%3A%2F%2Fwww.googleapis.com%2Fauth%2Fforms.body&state=JDtIfogYpiq4FpDr8kSLTOK700NIRw&access_type=offline\n",
      "\n",
      "🔐 Choose your token storage preference\n",
      "==================================================\n",
      "\n",
      "Tokens allow Syft to access Google services on your behalf.\n",
      "Where would you like to store them?\n",
      "\n",
      "1. Local File Storage - Simple, works everywhere\n"
     ]
    },
    {
     "name": "stdin",
     "output_type": "stream",
     "text": [
      "\n",
      "Your choice [1]:  \n"
     ]
    },
    {
     "name": "stdout",
     "output_type": "stream",
     "text": [
      "\n",
      "✓ Local File Storage configured successfully!\n",
      "Future logins will use this storage method.\n",
      "\n",
      "🚀 Let's set up your Google Workspace services!\n",
      "==================================================\n",
      "\n",
      "Available services:\n",
      "\n",
      "1. Gmail (Required) - ○ Not configured\n",
      "   Send and receive emails with attachments\n",
      "   Features: Email notifications, Backend data transfer, HTML support\n",
      "\n",
      "2. Google Drive - ○ Not configured\n",
      "   Store and share files in the cloud\n",
      "   Features: File upload/download, Folder organization, Sharing\n",
      "\n",
      "3. Google Sheets - ○ Not configured\n",
      "   Create and manage spreadsheets\n",
      "   Features: Data tables, CSV export, Public sharing\n",
      "\n",
      "4. Google Forms - ○ Not configured\n",
      "   Create forms for data collection\n",
      "   Features: Dynamic forms, Response collection\n",
      "\n",
      "\n",
      "Quick setup options:\n",
      "1. Basic - Gmail only (recommended for testing)\n",
      "2. Standard - Gmail + Google Drive\n",
      "3. Full - All services\n",
      "4. Custom - Choose individually\n",
      "5. Skip for now\n"
     ]
    },
    {
     "name": "stdin",
     "output_type": "stream",
     "text": [
      "\n",
      "Your choice [3]:  \n"
     ]
    },
    {
     "name": "stdout",
     "output_type": "stream",
     "text": [
      "\n",
      "✅ Setup complete!\n",
      "Configured: gmail, gdrive_files, gsheets, gforms\n"
     ]
    }
   ],
   "source": [
    "client = sc.login(\"andrew@openmined.org\")"
   ]
  },
  {
   "cell_type": "code",
   "execution_count": null,
   "id": "98c22f8e-13a8-47d3-ad13-876e0213afbd",
   "metadata": {},
   "outputs": [],
   "source": []
  },
  {
   "cell_type": "markdown",
   "id": "bda0d9bf-f3e2-408b-9b76-d203b1220c46",
   "metadata": {},
   "source": [
    "# Test 3: Initialize Using Wizard (Existing Project - Can Remember Name)"
   ]
  },
  {
   "cell_type": "code",
   "execution_count": 11,
   "id": "9adc638c-5c99-4cac-8bb2-5935d1140b83",
   "metadata": {},
   "outputs": [],
   "source": [
    "import sys\n",
    "sys.path.insert(0, '..')\n",
    "import syft_client as sc"
   ]
  },
  {
   "cell_type": "code",
   "execution_count": 12,
   "id": "2f354ee5-674c-4f74-82e5-561cab60b6e0",
   "metadata": {},
   "outputs": [
    {
     "name": "stdout",
     "output_type": "stream",
     "text": [
      "\n",
      "⚠️  WARNING: This will delete all stored credentials!\n",
      "\n",
      "Wallet directory: /Users/atrask/.syft\n",
      "Files to be deleted: 3\n",
      "  - andrew_at_openmined_org/config.json\n",
      "  - andrew_at_openmined_org/credentials.json\n",
      "  - andrew_at_openmined_org/tokens/google_org.json\n"
     ]
    },
    {
     "name": "stdin",
     "output_type": "stream",
     "text": [
      "\n",
      "Are you sure you want to delete all wallet data? (yes/no):  yes\n"
     ]
    },
    {
     "name": "stdout",
     "output_type": "stream",
     "text": [
      "\n",
      "✓ Wallet directory deleted: /Users/atrask/.syft\n",
      "All stored credentials have been removed.\n",
      "\n",
      "You will need to authenticate again on your next login.\n"
     ]
    },
    {
     "data": {
      "text/plain": [
       "True"
      ]
     },
     "execution_count": 12,
     "metadata": {},
     "output_type": "execute_result"
    }
   ],
   "source": [
    "sc.reset_wallet()"
   ]
  },
  {
   "cell_type": "code",
   "execution_count": 7,
   "id": "1f6e94e2-9370-4c0a-a5ac-57a8cdb3860b",
   "metadata": {},
   "outputs": [
    {
     "name": "stdout",
     "output_type": "stream",
     "text": [
      "\n",
      "🔍 Scanning for existing Google credentials...\n",
      "\n",
      "✅ Found 14 Google credential files:\n",
      "   1. client_secret_819798414381-pv3uckf6d12j1e9a9hr69a93d8ahlfkt.apps.googleusercontent.com.json\n",
      "      Project: applied-shade-472916-h5\n",
      "   2. client_secret_706225212388-f55c0bpv4hje6vndd4b3lfsivr6o7lri.apps.googleusercontent.com.json\n",
      "      Project: focused-century-472800-q2\n",
      "   3. client_secret_296668778163-sdk71p8a9l3bf2gg8kp9bt3oucmlpk57.apps.googleusercontent.com.json\n",
      "      Project: stately-voltage-472914-a9\n",
      "   4. client_secret_1078321139231-bumdjp22em7e0v7i9pnl5d06r8jaglgr.apps.googleusercontent.com.json\n",
      "      Project: serene-mender-472914-i2\n",
      "   5. client_secret_146914419908-md7877nekfubjim2losmjsdat198erl7.apps.googleusercontent.com.json\n",
      "      Project: booming-oarlock-472916-j0\n",
      "\n",
      "Which one is for andrew@openmined.org?\n"
     ]
    },
    {
     "name": "stdin",
     "output_type": "stream",
     "text": [
      "Enter number (1-5) or press Enter to skip:  \n"
     ]
    },
    {
     "name": "stdout",
     "output_type": "stream",
     "text": [
      "\n",
      "No credentials found. Starting setup wizard...\n",
      "\n",
      "🔐 OAuth2 Credentials Setup Wizard\n",
      "==================================================\n",
      "\n",
      "❌ No OAuth2 credentials found.\n",
      "Let's set them up!\n",
      "\n",
      "Have you created a Google Cloud project for Syft with andrew@openmined.org before?\n",
      "(If you're not sure, say 'No' - it doesn't break anything, it'll just mean a few more steps)\n"
     ]
    },
    {
     "name": "stdin",
     "output_type": "stream",
     "text": [
      " (y/n):  y\n",
      "Do you remember your Google Cloud project ID? (y/n):  y\n",
      "\n",
      "Enter your project ID:  outstanding-map-472919-q6\n"
     ]
    },
    {
     "name": "stdout",
     "output_type": "stream",
     "text": [
      "\n",
      "✅ Found existing credentials for project outstanding-map-472919-q6!\n",
      "   Multiple files found:\n",
      "   1. /Users/atrask/Downloads/client_secret_586423647206-u85eoja2tpb72l76q5u7q68psk7t5nnv.apps.googleusercontent.com.json\n",
      "   2. /Users/atrask/Downloads/client_secret_586423647206-948ere54bakkfrcqnotp3mdu9bk5319c.apps.googleusercontent.com.json\n"
     ]
    },
    {
     "name": "stdin",
     "output_type": "stream",
     "text": [
      "\n",
      "Enter number to use (1-3) or press Enter to create new:  1\n"
     ]
    },
    {
     "name": "stdout",
     "output_type": "stream",
     "text": [
      "\n",
      "✅ Setup Complete!\n",
      "----------------------------------------\n",
      "✅ Credentials saved to: /Users/atrask/Downloads/client_secret_586423647206-u85eoja2tpb72l76q5u7q68psk7t5nnv.apps.googleusercontent.com.json\n",
      "✅ Project ID: outstanding-map-472919-q6\n",
      "\n",
      "📌 Next steps:\n",
      "1. Run the login command below\n",
      "2. Authorize in your browser when prompted\n",
      "3. Your tokens will be saved for future use\n",
      "\n",
      "==================================================\n",
      "\n",
      "Your OAuth2 credentials are ready. You can now run:\n",
      "  >>> from syft_client import login\n",
      "  >>> client = login('andrew@openmined.org')\n",
      "Please visit this URL to authorize this application: https://accounts.google.com/o/oauth2/auth?response_type=code&client_id=586423647206-u85eoja2tpb72l76q5u7q68psk7t5nnv.apps.googleusercontent.com&redirect_uri=http%3A%2F%2Flocalhost%3A61175%2F&scope=https%3A%2F%2Fwww.googleapis.com%2Fauth%2Fgmail.send+https%3A%2F%2Fwww.googleapis.com%2Fauth%2Fgmail.readonly+https%3A%2F%2Fwww.googleapis.com%2Fauth%2Fgmail.modify+https%3A%2F%2Fwww.googleapis.com%2Fauth%2Fdrive+https%3A%2F%2Fwww.googleapis.com%2Fauth%2Fspreadsheets+https%3A%2F%2Fwww.googleapis.com%2Fauth%2Fforms.body&state=3JMDvxr2pdUkn8zV1JcR1BIEo4eI6M&access_type=offline\n",
      "\n",
      "🔐 Choose your token storage preference\n",
      "==================================================\n",
      "\n",
      "Tokens allow Syft to access Google services on your behalf.\n",
      "Where would you like to store them?\n",
      "\n",
      "1. Local File Storage - Simple, works everywhere\n"
     ]
    },
    {
     "name": "stdin",
     "output_type": "stream",
     "text": [
      "\n",
      "Your choice [1]:  \n"
     ]
    },
    {
     "name": "stdout",
     "output_type": "stream",
     "text": [
      "\n",
      "✓ Local File Storage configured successfully!\n",
      "Future logins will use this storage method.\n",
      "\n",
      "🚀 Let's set up your Google Workspace services!\n",
      "==================================================\n",
      "\n",
      "Available services:\n",
      "\n",
      "1. Gmail (Required) - ○ Not configured\n",
      "   Send and receive emails with attachments\n",
      "   Features: Email notifications, Backend data transfer, HTML support\n",
      "\n",
      "2. Google Drive - ○ Not configured\n",
      "   Store and share files in the cloud\n",
      "   Features: File upload/download, Folder organization, Sharing\n",
      "\n",
      "3. Google Sheets - ○ Not configured\n",
      "   Create and manage spreadsheets\n",
      "   Features: Data tables, CSV export, Public sharing\n",
      "\n",
      "4. Google Forms - ○ Not configured\n",
      "   Create forms for data collection\n",
      "   Features: Dynamic forms, Response collection\n",
      "\n",
      "\n",
      "Quick setup options:\n",
      "1. Basic - Gmail only (recommended for testing)\n",
      "2. Standard - Gmail + Google Drive\n",
      "3. Full - All services\n",
      "4. Custom - Choose individually\n",
      "5. Skip for now\n"
     ]
    },
    {
     "name": "stdin",
     "output_type": "stream",
     "text": [
      "\n",
      "Your choice [3]:  \n"
     ]
    },
    {
     "name": "stdout",
     "output_type": "stream",
     "text": [
      "\n",
      "✅ Setup complete!\n",
      "Configured: gmail, gdrive_files, gsheets, gforms\n"
     ]
    }
   ],
   "source": [
    "client = sc.login(\"andrew@openmined.org\")"
   ]
  },
  {
   "cell_type": "code",
   "execution_count": 9,
   "id": "61b28433-58ff-4b5e-aabd-c5aa90fa1bd5",
   "metadata": {},
   "outputs": [
    {
     "data": {
      "text/html": [
       "<pre style=\"white-space:pre;overflow-x:auto;line-height:normal;font-family:Menlo,'DejaVu Sans Mono',consolas,'Courier New',monospace\">╭──────── SyftClient.email = 'andrew@openmined.org' ────────╮\n",
       "│                                                           │\n",
       "│  <span style=\"color: #7f7f7f; text-decoration-color: #7f7f7f\">.folder</span> = /Users/atrask/SyftBox/andrew_at_openmined_org  │\n",
       "│                                                           │\n",
       "│  <span style=\"color: #7f7f7f; text-decoration-color: #7f7f7f\">.platforms</span>                                               │\n",
       "│    <span style=\"color: #808000; text-decoration-color: #808000; font-weight: bold\">.google_org</span>                                            │\n",
       "│      <span style=\"color: #008000; text-decoration-color: #008000\">✓</span> <span style=\"color: #008000; text-decoration-color: #008000\">✓</span> <span style=\"color: #008000; text-decoration-color: #008000\">.gmail</span>                                           │\n",
       "│      <span style=\"color: #008000; text-decoration-color: #008000\">✓</span> <span style=\"color: #008000; text-decoration-color: #008000\">✓</span> <span style=\"color: #008000; text-decoration-color: #008000\">.gdrive_files</span>                                    │\n",
       "│      <span style=\"color: #008000; text-decoration-color: #008000\">✓</span> <span style=\"color: #008000; text-decoration-color: #008000\">✓</span> <span style=\"color: #008000; text-decoration-color: #008000\">.gsheets</span>                                         │\n",
       "│      <span style=\"color: #008000; text-decoration-color: #008000\">✓</span> <span style=\"color: #008000; text-decoration-color: #008000\">✓</span> <span style=\"color: #008000; text-decoration-color: #008000\">.gforms</span>                                          │\n",
       "│                                                           │\n",
       "╰───────────────────────────────────────────────────────────╯\n",
       "</pre>\n"
      ],
      "text/plain": [
       "╭──────── SyftClient.email = 'andrew@openmined.org' ────────╮\n",
       "│                                                           │\n",
       "│  \u001b[2m.folder\u001b[0m = /Users/atrask/SyftBox/andrew_at_openmined_org  │\n",
       "│                                                           │\n",
       "│  \u001b[2m.platforms\u001b[0m                                               │\n",
       "│    \u001b[1;33m.google_org\u001b[0m                                            │\n",
       "│      \u001b[32m✓\u001b[0m \u001b[32m✓\u001b[0m \u001b[32m.gmail\u001b[0m                                           │\n",
       "│      \u001b[32m✓\u001b[0m \u001b[32m✓\u001b[0m \u001b[32m.gdrive_files\u001b[0m                                    │\n",
       "│      \u001b[32m✓\u001b[0m \u001b[32m✓\u001b[0m \u001b[32m.gsheets\u001b[0m                                         │\n",
       "│      \u001b[32m✓\u001b[0m \u001b[32m✓\u001b[0m \u001b[32m.gforms\u001b[0m                                          │\n",
       "│                                                           │\n",
       "╰───────────────────────────────────────────────────────────╯\n"
      ]
     },
     "metadata": {},
     "output_type": "display_data"
    },
    {
     "data": {
      "text/plain": []
     },
     "execution_count": 9,
     "metadata": {},
     "output_type": "execute_result"
    }
   ],
   "source": [
    "client"
   ]
  },
  {
   "cell_type": "markdown",
   "id": "37607d51-b58a-4c69-94f1-078442ab5e60",
   "metadata": {},
   "source": [
    "# Test 4: Initialize Using Cached Creds (with email)"
   ]
  },
  {
   "cell_type": "code",
   "execution_count": 15,
   "id": "cb3f7ffd-f11f-4d12-bcfc-f3b4b98f04f2",
   "metadata": {},
   "outputs": [],
   "source": [
    "client = sc.login(\"andrew@openmined.org\")"
   ]
  },
  {
   "cell_type": "code",
   "execution_count": 16,
   "id": "3ac7ff23-6091-4af0-b6b9-910c56c820d4",
   "metadata": {},
   "outputs": [
    {
     "data": {
      "text/html": [
       "<pre style=\"white-space:pre;overflow-x:auto;line-height:normal;font-family:Menlo,'DejaVu Sans Mono',consolas,'Courier New',monospace\">╭──────── SyftClient.email = 'andrew@openmined.org' ────────╮\n",
       "│                                                           │\n",
       "│  <span style=\"color: #7f7f7f; text-decoration-color: #7f7f7f\">.folder</span> = /Users/atrask/SyftBox/andrew_at_openmined_org  │\n",
       "│                                                           │\n",
       "│  <span style=\"color: #7f7f7f; text-decoration-color: #7f7f7f\">.platforms</span>                                               │\n",
       "│    <span style=\"color: #808000; text-decoration-color: #808000; font-weight: bold\">.google_org</span>                                            │\n",
       "│      <span style=\"color: #008000; text-decoration-color: #008000\">✓</span> <span style=\"color: #008000; text-decoration-color: #008000\">✓</span> <span style=\"color: #008000; text-decoration-color: #008000\">.gmail</span>                                           │\n",
       "│      <span style=\"color: #008000; text-decoration-color: #008000\">✓</span> <span style=\"color: #008000; text-decoration-color: #008000\">✓</span> <span style=\"color: #008000; text-decoration-color: #008000\">.gdrive_files</span>                                    │\n",
       "│      <span style=\"color: #008000; text-decoration-color: #008000\">✓</span> <span style=\"color: #008000; text-decoration-color: #008000\">✓</span> <span style=\"color: #008000; text-decoration-color: #008000\">.gsheets</span>                                         │\n",
       "│      <span style=\"color: #008000; text-decoration-color: #008000\">✓</span> <span style=\"color: #008000; text-decoration-color: #008000\">✓</span> <span style=\"color: #008000; text-decoration-color: #008000\">.gforms</span>                                          │\n",
       "│                                                           │\n",
       "╰───────────────────────────────────────────────────────────╯\n",
       "</pre>\n"
      ],
      "text/plain": [
       "╭──────── SyftClient.email = 'andrew@openmined.org' ────────╮\n",
       "│                                                           │\n",
       "│  \u001b[2m.folder\u001b[0m = /Users/atrask/SyftBox/andrew_at_openmined_org  │\n",
       "│                                                           │\n",
       "│  \u001b[2m.platforms\u001b[0m                                               │\n",
       "│    \u001b[1;33m.google_org\u001b[0m                                            │\n",
       "│      \u001b[32m✓\u001b[0m \u001b[32m✓\u001b[0m \u001b[32m.gmail\u001b[0m                                           │\n",
       "│      \u001b[32m✓\u001b[0m \u001b[32m✓\u001b[0m \u001b[32m.gdrive_files\u001b[0m                                    │\n",
       "│      \u001b[32m✓\u001b[0m \u001b[32m✓\u001b[0m \u001b[32m.gsheets\u001b[0m                                         │\n",
       "│      \u001b[32m✓\u001b[0m \u001b[32m✓\u001b[0m \u001b[32m.gforms\u001b[0m                                          │\n",
       "│                                                           │\n",
       "╰───────────────────────────────────────────────────────────╯\n"
      ]
     },
     "metadata": {},
     "output_type": "display_data"
    },
    {
     "data": {
      "text/plain": []
     },
     "execution_count": 16,
     "metadata": {},
     "output_type": "execute_result"
    }
   ],
   "source": [
    "client"
   ]
  },
  {
   "cell_type": "markdown",
   "id": "e6b04359-1595-4970-b5d5-a0fa52fdb60d",
   "metadata": {},
   "source": [
    "# Test 5: Initialize USing Cached Creds (without email)"
   ]
  },
  {
   "cell_type": "code",
   "execution_count": 1,
   "id": "01e0ac0c-a4f9-4d0b-a169-a6c0d81ddbd6",
   "metadata": {},
   "outputs": [
    {
     "name": "stdout",
     "output_type": "stream",
     "text": [
      "📧 Using email from ~/.syft: andrew@openmined.org\n"
     ]
    }
   ],
   "source": [
    "client = sc.login()"
   ]
  },
  {
   "cell_type": "markdown",
   "id": "283b6f97-5df7-4fff-89ac-1598ed8eed88",
   "metadata": {},
   "source": [
    "# Test 6: Permute states of API enablement and ensure __repr__ keeps up"
   ]
  },
  {
   "cell_type": "code",
   "execution_count": 13,
   "id": "2a87990b-c22f-4397-aea3-434652901272",
   "metadata": {},
   "outputs": [
    {
     "data": {
      "text/html": [
       "<pre style=\"white-space:pre;overflow-x:auto;line-height:normal;font-family:Menlo,'DejaVu Sans Mono',consolas,'Courier New',monospace\">╭──────── SyftClient.email = 'andrew@openmined.org' ────────╮\n",
       "│                                                           │\n",
       "│  <span style=\"color: #7f7f7f; text-decoration-color: #7f7f7f\">.folder</span> = /Users/atrask/SyftBox/andrew_at_openmined_org  │\n",
       "│                                                           │\n",
       "│  <span style=\"color: #7f7f7f; text-decoration-color: #7f7f7f\">.platforms</span>                                               │\n",
       "│    <span style=\"color: #808000; text-decoration-color: #808000; font-weight: bold\">.google_org</span> <span style=\"color: #7f7f7f; text-decoration-color: #7f7f7f\">(project: psychic-surf-472920-j9)</span>          │\n",
       "│      <span style=\"color: #008000; text-decoration-color: #008000\">✓</span> <span style=\"color: #008000; text-decoration-color: #008000\">✓</span> <span style=\"color: #008000; text-decoration-color: #008000\">.gmail</span>                                           │\n",
       "│      <span style=\"color: #008000; text-decoration-color: #008000\">✓</span> <span style=\"color: #008000; text-decoration-color: #008000\">✓</span> <span style=\"color: #008000; text-decoration-color: #008000\">.gdrive_files</span>                                    │\n",
       "│      <span style=\"color: #008000; text-decoration-color: #008000\">✓</span> <span style=\"color: #008000; text-decoration-color: #008000\">✓</span> <span style=\"color: #008000; text-decoration-color: #008000\">.gsheets</span>                                         │\n",
       "│      <span style=\"color: #008000; text-decoration-color: #008000\">✓</span> <span style=\"color: #008000; text-decoration-color: #008000\">✓</span> <span style=\"color: #008000; text-decoration-color: #008000\">.gforms</span>                                          │\n",
       "│                                                           │\n",
       "╰───────────────────────────────────────────────────────────╯\n",
       "</pre>\n"
      ],
      "text/plain": [
       "╭──────── SyftClient.email = 'andrew@openmined.org' ────────╮\n",
       "│                                                           │\n",
       "│  \u001b[2m.folder\u001b[0m = /Users/atrask/SyftBox/andrew_at_openmined_org  │\n",
       "│                                                           │\n",
       "│  \u001b[2m.platforms\u001b[0m                                               │\n",
       "│    \u001b[1;33m.google_org\u001b[0m \u001b[2m(project: psychic-surf-472920-j9)\u001b[0m          │\n",
       "│      \u001b[32m✓\u001b[0m \u001b[32m✓\u001b[0m \u001b[32m.gmail\u001b[0m                                           │\n",
       "│      \u001b[32m✓\u001b[0m \u001b[32m✓\u001b[0m \u001b[32m.gdrive_files\u001b[0m                                    │\n",
       "│      \u001b[32m✓\u001b[0m \u001b[32m✓\u001b[0m \u001b[32m.gsheets\u001b[0m                                         │\n",
       "│      \u001b[32m✓\u001b[0m \u001b[32m✓\u001b[0m \u001b[32m.gforms\u001b[0m                                          │\n",
       "│                                                           │\n",
       "╰───────────────────────────────────────────────────────────╯\n"
      ]
     },
     "metadata": {},
     "output_type": "display_data"
    },
    {
     "data": {
      "text/plain": []
     },
     "execution_count": 13,
     "metadata": {},
     "output_type": "execute_result"
    }
   ],
   "source": [
    "client"
   ]
  },
  {
   "cell_type": "markdown",
   "id": "3ff96c43-99cb-4198-a076-88043a2b3bf8",
   "metadata": {},
   "source": [
    "## Test 6.1 - Gmail API"
   ]
  },
  {
   "cell_type": "code",
   "execution_count": 14,
   "id": "644f108f-baa3-447f-a88b-0030f4f06e80",
   "metadata": {},
   "outputs": [
    {
     "name": "stdout",
     "output_type": "stream",
     "text": [
      "\n",
      "🔧 To disable the Gmail API:\n",
      "\n",
      "1. Open this URL in your browser:\n",
      "   https://console.cloud.google.com/apis/api/gmail.googleapis.com/overview?authuser=andrew@openmined.org&project=psychic-surf-472920-j9\n",
      "\n",
      "2. Click 'Manage' or 'Disable API'\n",
      "\n",
      "3. Confirm by clicking 'Disable'\n",
      "\n",
      "📝 Note: API tends to flicker for 5-10 seconds before enabling/disabling\n"
     ]
    }
   ],
   "source": [
    "client.platforms.google_org.gmail.disable_api()"
   ]
  },
  {
   "cell_type": "code",
   "execution_count": 17,
   "id": "68072c97-157a-4629-8be0-bde2bb5376dd",
   "metadata": {},
   "outputs": [
    {
     "data": {
      "text/html": [
       "<pre style=\"white-space:pre;overflow-x:auto;line-height:normal;font-family:Menlo,'DejaVu Sans Mono',consolas,'Courier New',monospace\">╭──────── SyftClient.email = 'andrew@openmined.org' ────────╮\n",
       "│                                                           │\n",
       "│  <span style=\"color: #7f7f7f; text-decoration-color: #7f7f7f\">.folder</span> = /Users/atrask/SyftBox/andrew_at_openmined_org  │\n",
       "│                                                           │\n",
       "│  <span style=\"color: #7f7f7f; text-decoration-color: #7f7f7f\">.platforms</span>                                               │\n",
       "│    <span style=\"color: #808000; text-decoration-color: #808000; font-weight: bold\">.google_org</span> <span style=\"color: #7f7f7f; text-decoration-color: #7f7f7f\">(project: psychic-surf-472920-j9)</span>          │\n",
       "│      <span style=\"color: #800000; text-decoration-color: #800000\">✗</span> <span style=\"color: #008000; text-decoration-color: #008000\">✓</span> <span style=\"color: #7f7f7f; text-decoration-color: #7f7f7f\">.gmail</span> <span style=\"color: #7f7f7f; text-decoration-color: #7f7f7f\">(call .gmail.enable_api())</span>                │\n",
       "│      <span style=\"color: #008000; text-decoration-color: #008000\">✓</span> <span style=\"color: #008000; text-decoration-color: #008000\">✓</span> <span style=\"color: #008000; text-decoration-color: #008000\">.gdrive_files</span>                                    │\n",
       "│      <span style=\"color: #008000; text-decoration-color: #008000\">✓</span> <span style=\"color: #008000; text-decoration-color: #008000\">✓</span> <span style=\"color: #008000; text-decoration-color: #008000\">.gsheets</span>                                         │\n",
       "│      <span style=\"color: #008000; text-decoration-color: #008000\">✓</span> <span style=\"color: #008000; text-decoration-color: #008000\">✓</span> <span style=\"color: #008000; text-decoration-color: #008000\">.gforms</span>                                          │\n",
       "│                                                           │\n",
       "╰───────────────────────────────────────────────────────────╯\n",
       "</pre>\n"
      ],
      "text/plain": [
       "╭──────── SyftClient.email = 'andrew@openmined.org' ────────╮\n",
       "│                                                           │\n",
       "│  \u001b[2m.folder\u001b[0m = /Users/atrask/SyftBox/andrew_at_openmined_org  │\n",
       "│                                                           │\n",
       "│  \u001b[2m.platforms\u001b[0m                                               │\n",
       "│    \u001b[1;33m.google_org\u001b[0m \u001b[2m(project: psychic-surf-472920-j9)\u001b[0m          │\n",
       "│      \u001b[31m✗\u001b[0m \u001b[32m✓\u001b[0m \u001b[2m.gmail\u001b[0m \u001b[2m(call .gmail.enable_api())\u001b[0m                │\n",
       "│      \u001b[32m✓\u001b[0m \u001b[32m✓\u001b[0m \u001b[32m.gdrive_files\u001b[0m                                    │\n",
       "│      \u001b[32m✓\u001b[0m \u001b[32m✓\u001b[0m \u001b[32m.gsheets\u001b[0m                                         │\n",
       "│      \u001b[32m✓\u001b[0m \u001b[32m✓\u001b[0m \u001b[32m.gforms\u001b[0m                                          │\n",
       "│                                                           │\n",
       "╰───────────────────────────────────────────────────────────╯\n"
      ]
     },
     "metadata": {},
     "output_type": "display_data"
    },
    {
     "data": {
      "text/plain": []
     },
     "execution_count": 17,
     "metadata": {},
     "output_type": "execute_result"
    }
   ],
   "source": [
    "client"
   ]
  },
  {
   "cell_type": "code",
   "execution_count": 16,
   "id": "28f0943c-9121-4de9-a636-e8f57938af3d",
   "metadata": {},
   "outputs": [
    {
     "name": "stdout",
     "output_type": "stream",
     "text": [
      "\n",
      "🔧 To enable the Gmail API:\n",
      "\n",
      "1. Open this URL in your browser:\n",
      "   https://console.cloud.google.com/marketplace/product/google/gmail.googleapis.com?authuser=andrew@openmined.org&project=psychic-surf-472920-j9\n",
      "\n",
      "2. Click the 'Enable' button\n",
      "\n",
      "3. Wait for the API to be enabled (may take 5-10 seconds)\n",
      "\n",
      "📝 Note: API tends to flicker for 5-10 seconds before enabling/disabling\n"
     ]
    }
   ],
   "source": [
    "client.platforms.google_org.gmail.enable_api()"
   ]
  },
  {
   "cell_type": "code",
   "execution_count": 18,
   "id": "99edbd35-f1b5-4fb2-a408-cc1f5b5d7c3e",
   "metadata": {},
   "outputs": [
    {
     "data": {
      "text/html": [
       "<pre style=\"white-space:pre;overflow-x:auto;line-height:normal;font-family:Menlo,'DejaVu Sans Mono',consolas,'Courier New',monospace\">╭──────── SyftClient.email = 'andrew@openmined.org' ────────╮\n",
       "│                                                           │\n",
       "│  <span style=\"color: #7f7f7f; text-decoration-color: #7f7f7f\">.folder</span> = /Users/atrask/SyftBox/andrew_at_openmined_org  │\n",
       "│                                                           │\n",
       "│  <span style=\"color: #7f7f7f; text-decoration-color: #7f7f7f\">.platforms</span>                                               │\n",
       "│    <span style=\"color: #808000; text-decoration-color: #808000; font-weight: bold\">.google_org</span> <span style=\"color: #7f7f7f; text-decoration-color: #7f7f7f\">(project: psychic-surf-472920-j9)</span>          │\n",
       "│      <span style=\"color: #008000; text-decoration-color: #008000\">✓</span> <span style=\"color: #008000; text-decoration-color: #008000\">✓</span> <span style=\"color: #008000; text-decoration-color: #008000\">.gmail</span>                                           │\n",
       "│      <span style=\"color: #008000; text-decoration-color: #008000\">✓</span> <span style=\"color: #008000; text-decoration-color: #008000\">✓</span> <span style=\"color: #008000; text-decoration-color: #008000\">.gdrive_files</span>                                    │\n",
       "│      <span style=\"color: #008000; text-decoration-color: #008000\">✓</span> <span style=\"color: #008000; text-decoration-color: #008000\">✓</span> <span style=\"color: #008000; text-decoration-color: #008000\">.gsheets</span>                                         │\n",
       "│      <span style=\"color: #008000; text-decoration-color: #008000\">✓</span> <span style=\"color: #008000; text-decoration-color: #008000\">✓</span> <span style=\"color: #008000; text-decoration-color: #008000\">.gforms</span>                                          │\n",
       "│                                                           │\n",
       "╰───────────────────────────────────────────────────────────╯\n",
       "</pre>\n"
      ],
      "text/plain": [
       "╭──────── SyftClient.email = 'andrew@openmined.org' ────────╮\n",
       "│                                                           │\n",
       "│  \u001b[2m.folder\u001b[0m = /Users/atrask/SyftBox/andrew_at_openmined_org  │\n",
       "│                                                           │\n",
       "│  \u001b[2m.platforms\u001b[0m                                               │\n",
       "│    \u001b[1;33m.google_org\u001b[0m \u001b[2m(project: psychic-surf-472920-j9)\u001b[0m          │\n",
       "│      \u001b[32m✓\u001b[0m \u001b[32m✓\u001b[0m \u001b[32m.gmail\u001b[0m                                           │\n",
       "│      \u001b[32m✓\u001b[0m \u001b[32m✓\u001b[0m \u001b[32m.gdrive_files\u001b[0m                                    │\n",
       "│      \u001b[32m✓\u001b[0m \u001b[32m✓\u001b[0m \u001b[32m.gsheets\u001b[0m                                         │\n",
       "│      \u001b[32m✓\u001b[0m \u001b[32m✓\u001b[0m \u001b[32m.gforms\u001b[0m                                          │\n",
       "│                                                           │\n",
       "╰───────────────────────────────────────────────────────────╯\n"
      ]
     },
     "metadata": {},
     "output_type": "display_data"
    },
    {
     "data": {
      "text/plain": []
     },
     "execution_count": 18,
     "metadata": {},
     "output_type": "execute_result"
    }
   ],
   "source": [
    "client"
   ]
  },
  {
   "cell_type": "markdown",
   "id": "3f0194ae-3d4f-45b1-92f6-07accf4dee74",
   "metadata": {},
   "source": [
    "## Test 6.2 - GDrive API"
   ]
  },
  {
   "cell_type": "code",
   "execution_count": 19,
   "id": "b0b7fb55-72e2-480d-8da0-d83a1a2fb080",
   "metadata": {},
   "outputs": [
    {
     "name": "stdout",
     "output_type": "stream",
     "text": [
      "\n",
      "🔧 To disable the Google Drive API:\n",
      "\n",
      "1. Open this URL in your browser:\n",
      "   https://console.cloud.google.com/apis/api/drive.googleapis.com/overview?authuser=andrew@openmined.org&project=psychic-surf-472920-j9\n",
      "\n",
      "2. Click 'Manage' or 'Disable API'\n",
      "\n",
      "3. Confirm by clicking 'Disable'\n",
      "\n",
      "📝 Note: API tends to flicker for 5-10 seconds before enabling/disabling\n"
     ]
    }
   ],
   "source": [
    "client.platforms.google_org.gdrive_files.disable_api()"
   ]
  },
  {
   "cell_type": "code",
   "execution_count": 20,
   "id": "08d20bfe-c2fa-43c3-b0a7-9d011d0b1494",
   "metadata": {},
   "outputs": [
    {
     "data": {
      "text/html": [
       "<pre style=\"white-space:pre;overflow-x:auto;line-height:normal;font-family:Menlo,'DejaVu Sans Mono',consolas,'Courier New',monospace\">╭──────── SyftClient.email = 'andrew@openmined.org' ────────╮\n",
       "│                                                           │\n",
       "│  <span style=\"color: #7f7f7f; text-decoration-color: #7f7f7f\">.folder</span> = /Users/atrask/SyftBox/andrew_at_openmined_org  │\n",
       "│                                                           │\n",
       "│  <span style=\"color: #7f7f7f; text-decoration-color: #7f7f7f\">.platforms</span>                                               │\n",
       "│    <span style=\"color: #808000; text-decoration-color: #808000; font-weight: bold\">.google_org</span> <span style=\"color: #7f7f7f; text-decoration-color: #7f7f7f\">(project: psychic-surf-472920-j9)</span>          │\n",
       "│      <span style=\"color: #008000; text-decoration-color: #008000\">✓</span> <span style=\"color: #008000; text-decoration-color: #008000\">✓</span> <span style=\"color: #008000; text-decoration-color: #008000\">.gmail</span>                                           │\n",
       "│      <span style=\"color: #800000; text-decoration-color: #800000\">✗</span> <span style=\"color: #008000; text-decoration-color: #008000\">✓</span> <span style=\"color: #7f7f7f; text-decoration-color: #7f7f7f\">.gdrive_files</span> <span style=\"color: #7f7f7f; text-decoration-color: #7f7f7f\">(call .gdrive_files.enable_api())</span>  │\n",
       "│      <span style=\"color: #008000; text-decoration-color: #008000\">✓</span> <span style=\"color: #008000; text-decoration-color: #008000\">✓</span> <span style=\"color: #008000; text-decoration-color: #008000\">.gsheets</span>                                         │\n",
       "│      <span style=\"color: #008000; text-decoration-color: #008000\">✓</span> <span style=\"color: #008000; text-decoration-color: #008000\">✓</span> <span style=\"color: #008000; text-decoration-color: #008000\">.gforms</span>                                          │\n",
       "│                                                           │\n",
       "╰───────────────────────────────────────────────────────────╯\n",
       "</pre>\n"
      ],
      "text/plain": [
       "╭──────── SyftClient.email = 'andrew@openmined.org' ────────╮\n",
       "│                                                           │\n",
       "│  \u001b[2m.folder\u001b[0m = /Users/atrask/SyftBox/andrew_at_openmined_org  │\n",
       "│                                                           │\n",
       "│  \u001b[2m.platforms\u001b[0m                                               │\n",
       "│    \u001b[1;33m.google_org\u001b[0m \u001b[2m(project: psychic-surf-472920-j9)\u001b[0m          │\n",
       "│      \u001b[32m✓\u001b[0m \u001b[32m✓\u001b[0m \u001b[32m.gmail\u001b[0m                                           │\n",
       "│      \u001b[31m✗\u001b[0m \u001b[32m✓\u001b[0m \u001b[2m.gdrive_files\u001b[0m \u001b[2m(call .gdrive_files.enable_api())\u001b[0m  │\n",
       "│      \u001b[32m✓\u001b[0m \u001b[32m✓\u001b[0m \u001b[32m.gsheets\u001b[0m                                         │\n",
       "│      \u001b[32m✓\u001b[0m \u001b[32m✓\u001b[0m \u001b[32m.gforms\u001b[0m                                          │\n",
       "│                                                           │\n",
       "╰───────────────────────────────────────────────────────────╯\n"
      ]
     },
     "metadata": {},
     "output_type": "display_data"
    },
    {
     "data": {
      "text/plain": []
     },
     "execution_count": 20,
     "metadata": {},
     "output_type": "execute_result"
    }
   ],
   "source": [
    "client"
   ]
  },
  {
   "cell_type": "code",
   "execution_count": 22,
   "id": "2dbe3874-87e9-484c-b424-d7e080277ea2",
   "metadata": {},
   "outputs": [
    {
     "name": "stdout",
     "output_type": "stream",
     "text": [
      "\n",
      "🔧 To enable the Google Drive API:\n",
      "\n",
      "1. Open this URL in your browser:\n",
      "   https://console.cloud.google.com/marketplace/product/google/drive.googleapis.com?authuser=andrew@openmined.org&project=psychic-surf-472920-j9\n",
      "\n",
      "2. Click the 'Enable' button\n",
      "\n",
      "3. Wait for the API to be enabled (may take 5-10 seconds)\n",
      "\n",
      "📝 Note: API tends to flicker for 5-10 seconds before enabling/disabling\n"
     ]
    }
   ],
   "source": [
    "client.platforms.google_org.gdrive_files.enable_api()"
   ]
  },
  {
   "cell_type": "code",
   "execution_count": 23,
   "id": "93e99502-7817-4aaf-b47f-9497525c06d6",
   "metadata": {},
   "outputs": [
    {
     "data": {
      "text/html": [
       "<pre style=\"white-space:pre;overflow-x:auto;line-height:normal;font-family:Menlo,'DejaVu Sans Mono',consolas,'Courier New',monospace\">╭──────── SyftClient.email = 'andrew@openmined.org' ────────╮\n",
       "│                                                           │\n",
       "│  <span style=\"color: #7f7f7f; text-decoration-color: #7f7f7f\">.folder</span> = /Users/atrask/SyftBox/andrew_at_openmined_org  │\n",
       "│                                                           │\n",
       "│  <span style=\"color: #7f7f7f; text-decoration-color: #7f7f7f\">.platforms</span>                                               │\n",
       "│    <span style=\"color: #808000; text-decoration-color: #808000; font-weight: bold\">.google_org</span> <span style=\"color: #7f7f7f; text-decoration-color: #7f7f7f\">(project: psychic-surf-472920-j9)</span>          │\n",
       "│      <span style=\"color: #008000; text-decoration-color: #008000\">✓</span> <span style=\"color: #008000; text-decoration-color: #008000\">✓</span> <span style=\"color: #008000; text-decoration-color: #008000\">.gmail</span>                                           │\n",
       "│      <span style=\"color: #008000; text-decoration-color: #008000\">✓</span> <span style=\"color: #008000; text-decoration-color: #008000\">✓</span> <span style=\"color: #008000; text-decoration-color: #008000\">.gdrive_files</span>                                    │\n",
       "│      <span style=\"color: #008000; text-decoration-color: #008000\">✓</span> <span style=\"color: #008000; text-decoration-color: #008000\">✓</span> <span style=\"color: #008000; text-decoration-color: #008000\">.gsheets</span>                                         │\n",
       "│      <span style=\"color: #008000; text-decoration-color: #008000\">✓</span> <span style=\"color: #008000; text-decoration-color: #008000\">✓</span> <span style=\"color: #008000; text-decoration-color: #008000\">.gforms</span>                                          │\n",
       "│                                                           │\n",
       "╰───────────────────────────────────────────────────────────╯\n",
       "</pre>\n"
      ],
      "text/plain": [
       "╭──────── SyftClient.email = 'andrew@openmined.org' ────────╮\n",
       "│                                                           │\n",
       "│  \u001b[2m.folder\u001b[0m = /Users/atrask/SyftBox/andrew_at_openmined_org  │\n",
       "│                                                           │\n",
       "│  \u001b[2m.platforms\u001b[0m                                               │\n",
       "│    \u001b[1;33m.google_org\u001b[0m \u001b[2m(project: psychic-surf-472920-j9)\u001b[0m          │\n",
       "│      \u001b[32m✓\u001b[0m \u001b[32m✓\u001b[0m \u001b[32m.gmail\u001b[0m                                           │\n",
       "│      \u001b[32m✓\u001b[0m \u001b[32m✓\u001b[0m \u001b[32m.gdrive_files\u001b[0m                                    │\n",
       "│      \u001b[32m✓\u001b[0m \u001b[32m✓\u001b[0m \u001b[32m.gsheets\u001b[0m                                         │\n",
       "│      \u001b[32m✓\u001b[0m \u001b[32m✓\u001b[0m \u001b[32m.gforms\u001b[0m                                          │\n",
       "│                                                           │\n",
       "╰───────────────────────────────────────────────────────────╯\n"
      ]
     },
     "metadata": {},
     "output_type": "display_data"
    },
    {
     "data": {
      "text/plain": []
     },
     "execution_count": 23,
     "metadata": {},
     "output_type": "execute_result"
    }
   ],
   "source": [
    "client"
   ]
  },
  {
   "cell_type": "markdown",
   "id": "d894a028-5435-4a63-8725-531187ec0c14",
   "metadata": {},
   "source": [
    "## Test 6.3 - GSheets API"
   ]
  },
  {
   "cell_type": "code",
   "execution_count": 24,
   "id": "637c9c5d-ffcc-4a5a-a530-dc1c95d1b8b8",
   "metadata": {},
   "outputs": [
    {
     "name": "stdout",
     "output_type": "stream",
     "text": [
      "\n",
      "🔧 To disable the Google Sheets API:\n",
      "\n",
      "1. Open this URL in your browser:\n",
      "   https://console.cloud.google.com/apis/api/sheets.googleapis.com/overview?authuser=andrew@openmined.org&project=psychic-surf-472920-j9\n",
      "\n",
      "2. Click 'Manage' or 'Disable API'\n",
      "\n",
      "3. Confirm by clicking 'Disable'\n",
      "\n",
      "📝 Note: API tends to flicker for 5-10 seconds before enabling/disabling\n"
     ]
    }
   ],
   "source": [
    "client.platforms.google_org.gsheets.disable_api()"
   ]
  },
  {
   "cell_type": "code",
   "execution_count": 25,
   "id": "cfd3a3d7-8489-49f6-8d88-ec6a8a38ddda",
   "metadata": {},
   "outputs": [
    {
     "data": {
      "text/html": [
       "<pre style=\"white-space:pre;overflow-x:auto;line-height:normal;font-family:Menlo,'DejaVu Sans Mono',consolas,'Courier New',monospace\">╭──────── SyftClient.email = 'andrew@openmined.org' ────────╮\n",
       "│                                                           │\n",
       "│  <span style=\"color: #7f7f7f; text-decoration-color: #7f7f7f\">.folder</span> = /Users/atrask/SyftBox/andrew_at_openmined_org  │\n",
       "│                                                           │\n",
       "│  <span style=\"color: #7f7f7f; text-decoration-color: #7f7f7f\">.platforms</span>                                               │\n",
       "│    <span style=\"color: #808000; text-decoration-color: #808000; font-weight: bold\">.google_org</span> <span style=\"color: #7f7f7f; text-decoration-color: #7f7f7f\">(project: psychic-surf-472920-j9)</span>          │\n",
       "│      <span style=\"color: #008000; text-decoration-color: #008000\">✓</span> <span style=\"color: #008000; text-decoration-color: #008000\">✓</span> <span style=\"color: #008000; text-decoration-color: #008000\">.gmail</span>                                           │\n",
       "│      <span style=\"color: #008000; text-decoration-color: #008000\">✓</span> <span style=\"color: #008000; text-decoration-color: #008000\">✓</span> <span style=\"color: #008000; text-decoration-color: #008000\">.gdrive_files</span>                                    │\n",
       "│      <span style=\"color: #800000; text-decoration-color: #800000\">✗</span> <span style=\"color: #008000; text-decoration-color: #008000\">✓</span> <span style=\"color: #7f7f7f; text-decoration-color: #7f7f7f\">.gsheets</span> <span style=\"color: #7f7f7f; text-decoration-color: #7f7f7f\">(call .gsheets.enable_api())</span>            │\n",
       "│      <span style=\"color: #008000; text-decoration-color: #008000\">✓</span> <span style=\"color: #008000; text-decoration-color: #008000\">✓</span> <span style=\"color: #008000; text-decoration-color: #008000\">.gforms</span>                                          │\n",
       "│                                                           │\n",
       "╰───────────────────────────────────────────────────────────╯\n",
       "</pre>\n"
      ],
      "text/plain": [
       "╭──────── SyftClient.email = 'andrew@openmined.org' ────────╮\n",
       "│                                                           │\n",
       "│  \u001b[2m.folder\u001b[0m = /Users/atrask/SyftBox/andrew_at_openmined_org  │\n",
       "│                                                           │\n",
       "│  \u001b[2m.platforms\u001b[0m                                               │\n",
       "│    \u001b[1;33m.google_org\u001b[0m \u001b[2m(project: psychic-surf-472920-j9)\u001b[0m          │\n",
       "│      \u001b[32m✓\u001b[0m \u001b[32m✓\u001b[0m \u001b[32m.gmail\u001b[0m                                           │\n",
       "│      \u001b[32m✓\u001b[0m \u001b[32m✓\u001b[0m \u001b[32m.gdrive_files\u001b[0m                                    │\n",
       "│      \u001b[31m✗\u001b[0m \u001b[32m✓\u001b[0m \u001b[2m.gsheets\u001b[0m \u001b[2m(call .gsheets.enable_api())\u001b[0m            │\n",
       "│      \u001b[32m✓\u001b[0m \u001b[32m✓\u001b[0m \u001b[32m.gforms\u001b[0m                                          │\n",
       "│                                                           │\n",
       "╰───────────────────────────────────────────────────────────╯\n"
      ]
     },
     "metadata": {},
     "output_type": "display_data"
    },
    {
     "data": {
      "text/plain": []
     },
     "execution_count": 25,
     "metadata": {},
     "output_type": "execute_result"
    }
   ],
   "source": [
    "client"
   ]
  },
  {
   "cell_type": "code",
   "execution_count": 26,
   "id": "5dcec17c-3343-414d-b04c-663e401889a5",
   "metadata": {},
   "outputs": [
    {
     "name": "stdout",
     "output_type": "stream",
     "text": [
      "\n",
      "🔧 To enable the Google Sheets API:\n",
      "\n",
      "1. Open this URL in your browser:\n",
      "   https://console.cloud.google.com/marketplace/product/google/sheets.googleapis.com?authuser=andrew@openmined.org&project=psychic-surf-472920-j9\n",
      "\n",
      "2. Click the 'Enable' button\n",
      "\n",
      "3. Wait for the API to be enabled (may take 5-10 seconds)\n",
      "\n",
      "📝 Note: API tends to flicker for 5-10 seconds before enabling/disabling\n"
     ]
    }
   ],
   "source": [
    "client.platforms.google_org.gsheets.enable_api()"
   ]
  },
  {
   "cell_type": "code",
   "execution_count": 27,
   "id": "faa64c95-6f54-4237-a2c2-3f0ff39965af",
   "metadata": {},
   "outputs": [
    {
     "data": {
      "text/html": [
       "<pre style=\"white-space:pre;overflow-x:auto;line-height:normal;font-family:Menlo,'DejaVu Sans Mono',consolas,'Courier New',monospace\">╭──────── SyftClient.email = 'andrew@openmined.org' ────────╮\n",
       "│                                                           │\n",
       "│  <span style=\"color: #7f7f7f; text-decoration-color: #7f7f7f\">.folder</span> = /Users/atrask/SyftBox/andrew_at_openmined_org  │\n",
       "│                                                           │\n",
       "│  <span style=\"color: #7f7f7f; text-decoration-color: #7f7f7f\">.platforms</span>                                               │\n",
       "│    <span style=\"color: #808000; text-decoration-color: #808000; font-weight: bold\">.google_org</span> <span style=\"color: #7f7f7f; text-decoration-color: #7f7f7f\">(project: psychic-surf-472920-j9)</span>          │\n",
       "│      <span style=\"color: #008000; text-decoration-color: #008000\">✓</span> <span style=\"color: #008000; text-decoration-color: #008000\">✓</span> <span style=\"color: #008000; text-decoration-color: #008000\">.gmail</span>                                           │\n",
       "│      <span style=\"color: #008000; text-decoration-color: #008000\">✓</span> <span style=\"color: #008000; text-decoration-color: #008000\">✓</span> <span style=\"color: #008000; text-decoration-color: #008000\">.gdrive_files</span>                                    │\n",
       "│      <span style=\"color: #008000; text-decoration-color: #008000\">✓</span> <span style=\"color: #008000; text-decoration-color: #008000\">✓</span> <span style=\"color: #008000; text-decoration-color: #008000\">.gsheets</span>                                         │\n",
       "│      <span style=\"color: #008000; text-decoration-color: #008000\">✓</span> <span style=\"color: #008000; text-decoration-color: #008000\">✓</span> <span style=\"color: #008000; text-decoration-color: #008000\">.gforms</span>                                          │\n",
       "│                                                           │\n",
       "╰───────────────────────────────────────────────────────────╯\n",
       "</pre>\n"
      ],
      "text/plain": [
       "╭──────── SyftClient.email = 'andrew@openmined.org' ────────╮\n",
       "│                                                           │\n",
       "│  \u001b[2m.folder\u001b[0m = /Users/atrask/SyftBox/andrew_at_openmined_org  │\n",
       "│                                                           │\n",
       "│  \u001b[2m.platforms\u001b[0m                                               │\n",
       "│    \u001b[1;33m.google_org\u001b[0m \u001b[2m(project: psychic-surf-472920-j9)\u001b[0m          │\n",
       "│      \u001b[32m✓\u001b[0m \u001b[32m✓\u001b[0m \u001b[32m.gmail\u001b[0m                                           │\n",
       "│      \u001b[32m✓\u001b[0m \u001b[32m✓\u001b[0m \u001b[32m.gdrive_files\u001b[0m                                    │\n",
       "│      \u001b[32m✓\u001b[0m \u001b[32m✓\u001b[0m \u001b[32m.gsheets\u001b[0m                                         │\n",
       "│      \u001b[32m✓\u001b[0m \u001b[32m✓\u001b[0m \u001b[32m.gforms\u001b[0m                                          │\n",
       "│                                                           │\n",
       "╰───────────────────────────────────────────────────────────╯\n"
      ]
     },
     "metadata": {},
     "output_type": "display_data"
    },
    {
     "data": {
      "text/plain": []
     },
     "execution_count": 27,
     "metadata": {},
     "output_type": "execute_result"
    }
   ],
   "source": [
    "client"
   ]
  },
  {
   "cell_type": "markdown",
   "id": "d4ddbe0c-b8df-45f1-b5ce-5ed51e09a8f4",
   "metadata": {},
   "source": [
    "## Test 6.4 - GForms API"
   ]
  },
  {
   "cell_type": "code",
   "execution_count": 29,
   "id": "ee5387bc-9746-47b5-b9e6-1846824bb0ad",
   "metadata": {},
   "outputs": [
    {
     "name": "stdout",
     "output_type": "stream",
     "text": [
      "\n",
      "🔧 To disable the Google Forms API:\n",
      "\n",
      "1. Open this URL in your browser:\n",
      "   https://console.cloud.google.com/apis/api/forms.googleapis.com/overview?authuser=andrew@openmined.org&project=psychic-surf-472920-j9\n",
      "\n",
      "2. Click 'Manage' or 'Disable API'\n",
      "\n",
      "3. Confirm by clicking 'Disable'\n",
      "\n",
      "📝 Note: API tends to flicker for 5-10 seconds before enabling/disabling\n"
     ]
    }
   ],
   "source": [
    "client.platforms.google_org.gforms.disable_api()"
   ]
  },
  {
   "cell_type": "code",
   "execution_count": 32,
   "id": "fb8af3ad-9f9b-41e6-982a-8093e73e5fb3",
   "metadata": {},
   "outputs": [
    {
     "data": {
      "text/html": [
       "<pre style=\"white-space:pre;overflow-x:auto;line-height:normal;font-family:Menlo,'DejaVu Sans Mono',consolas,'Courier New',monospace\">╭──────── SyftClient.email = 'andrew@openmined.org' ────────╮\n",
       "│                                                           │\n",
       "│  <span style=\"color: #7f7f7f; text-decoration-color: #7f7f7f\">.folder</span> = /Users/atrask/SyftBox/andrew_at_openmined_org  │\n",
       "│                                                           │\n",
       "│  <span style=\"color: #7f7f7f; text-decoration-color: #7f7f7f\">.platforms</span>                                               │\n",
       "│    <span style=\"color: #808000; text-decoration-color: #808000; font-weight: bold\">.google_org</span> <span style=\"color: #7f7f7f; text-decoration-color: #7f7f7f\">(project: psychic-surf-472920-j9)</span>          │\n",
       "│      <span style=\"color: #008000; text-decoration-color: #008000\">✓</span> <span style=\"color: #008000; text-decoration-color: #008000\">✓</span> <span style=\"color: #008000; text-decoration-color: #008000\">.gmail</span>                                           │\n",
       "│      <span style=\"color: #008000; text-decoration-color: #008000\">✓</span> <span style=\"color: #008000; text-decoration-color: #008000\">✓</span> <span style=\"color: #008000; text-decoration-color: #008000\">.gdrive_files</span>                                    │\n",
       "│      <span style=\"color: #008000; text-decoration-color: #008000\">✓</span> <span style=\"color: #008000; text-decoration-color: #008000\">✓</span> <span style=\"color: #008000; text-decoration-color: #008000\">.gsheets</span>                                         │\n",
       "│      <span style=\"color: #800000; text-decoration-color: #800000\">✗</span> <span style=\"color: #008000; text-decoration-color: #008000\">✓</span> <span style=\"color: #7f7f7f; text-decoration-color: #7f7f7f\">.gforms</span> <span style=\"color: #7f7f7f; text-decoration-color: #7f7f7f\">(call .gforms.enable_api())</span>              │\n",
       "│                                                           │\n",
       "╰───────────────────────────────────────────────────────────╯\n",
       "</pre>\n"
      ],
      "text/plain": [
       "╭──────── SyftClient.email = 'andrew@openmined.org' ────────╮\n",
       "│                                                           │\n",
       "│  \u001b[2m.folder\u001b[0m = /Users/atrask/SyftBox/andrew_at_openmined_org  │\n",
       "│                                                           │\n",
       "│  \u001b[2m.platforms\u001b[0m                                               │\n",
       "│    \u001b[1;33m.google_org\u001b[0m \u001b[2m(project: psychic-surf-472920-j9)\u001b[0m          │\n",
       "│      \u001b[32m✓\u001b[0m \u001b[32m✓\u001b[0m \u001b[32m.gmail\u001b[0m                                           │\n",
       "│      \u001b[32m✓\u001b[0m \u001b[32m✓\u001b[0m \u001b[32m.gdrive_files\u001b[0m                                    │\n",
       "│      \u001b[32m✓\u001b[0m \u001b[32m✓\u001b[0m \u001b[32m.gsheets\u001b[0m                                         │\n",
       "│      \u001b[31m✗\u001b[0m \u001b[32m✓\u001b[0m \u001b[2m.gforms\u001b[0m \u001b[2m(call .gforms.enable_api())\u001b[0m              │\n",
       "│                                                           │\n",
       "╰───────────────────────────────────────────────────────────╯\n"
      ]
     },
     "metadata": {},
     "output_type": "display_data"
    },
    {
     "data": {
      "text/plain": []
     },
     "execution_count": 32,
     "metadata": {},
     "output_type": "execute_result"
    }
   ],
   "source": [
    "client"
   ]
  },
  {
   "cell_type": "code",
   "execution_count": 34,
   "id": "0878a7df-c7b7-43d7-9ee7-0f65bead5715",
   "metadata": {},
   "outputs": [
    {
     "name": "stdout",
     "output_type": "stream",
     "text": [
      "\n",
      "🔧 To enable the Google Forms API:\n",
      "\n",
      "1. Open this URL in your browser:\n",
      "   https://console.cloud.google.com/marketplace/product/google/forms.googleapis.com?authuser=andrew@openmined.org&project=psychic-surf-472920-j9\n",
      "\n",
      "2. Click the 'Enable' button\n",
      "\n",
      "3. Wait for the API to be enabled (may take 5-10 seconds)\n",
      "\n",
      "📝 Note: API tends to flicker for 5-10 seconds before enabling/disabling\n"
     ]
    }
   ],
   "source": [
    "client.platforms.google_org.gforms.enable_api()"
   ]
  },
  {
   "cell_type": "code",
   "execution_count": 35,
   "id": "5da702a8-bf43-493d-81dd-39b7a7f3f63b",
   "metadata": {},
   "outputs": [
    {
     "data": {
      "text/html": [
       "<pre style=\"white-space:pre;overflow-x:auto;line-height:normal;font-family:Menlo,'DejaVu Sans Mono',consolas,'Courier New',monospace\">╭──────── SyftClient.email = 'andrew@openmined.org' ────────╮\n",
       "│                                                           │\n",
       "│  <span style=\"color: #7f7f7f; text-decoration-color: #7f7f7f\">.folder</span> = /Users/atrask/SyftBox/andrew_at_openmined_org  │\n",
       "│                                                           │\n",
       "│  <span style=\"color: #7f7f7f; text-decoration-color: #7f7f7f\">.platforms</span>                                               │\n",
       "│    <span style=\"color: #808000; text-decoration-color: #808000; font-weight: bold\">.google_org</span> <span style=\"color: #7f7f7f; text-decoration-color: #7f7f7f\">(project: psychic-surf-472920-j9)</span>          │\n",
       "│      <span style=\"color: #008000; text-decoration-color: #008000\">✓</span> <span style=\"color: #008000; text-decoration-color: #008000\">✓</span> <span style=\"color: #008000; text-decoration-color: #008000\">.gmail</span>                                           │\n",
       "│      <span style=\"color: #008000; text-decoration-color: #008000\">✓</span> <span style=\"color: #008000; text-decoration-color: #008000\">✓</span> <span style=\"color: #008000; text-decoration-color: #008000\">.gdrive_files</span>                                    │\n",
       "│      <span style=\"color: #008000; text-decoration-color: #008000\">✓</span> <span style=\"color: #008000; text-decoration-color: #008000\">✓</span> <span style=\"color: #008000; text-decoration-color: #008000\">.gsheets</span>                                         │\n",
       "│      <span style=\"color: #008000; text-decoration-color: #008000\">✓</span> <span style=\"color: #008000; text-decoration-color: #008000\">✓</span> <span style=\"color: #008000; text-decoration-color: #008000\">.gforms</span>                                          │\n",
       "│                                                           │\n",
       "╰───────────────────────────────────────────────────────────╯\n",
       "</pre>\n"
      ],
      "text/plain": [
       "╭──────── SyftClient.email = 'andrew@openmined.org' ────────╮\n",
       "│                                                           │\n",
       "│  \u001b[2m.folder\u001b[0m = /Users/atrask/SyftBox/andrew_at_openmined_org  │\n",
       "│                                                           │\n",
       "│  \u001b[2m.platforms\u001b[0m                                               │\n",
       "│    \u001b[1;33m.google_org\u001b[0m \u001b[2m(project: psychic-surf-472920-j9)\u001b[0m          │\n",
       "│      \u001b[32m✓\u001b[0m \u001b[32m✓\u001b[0m \u001b[32m.gmail\u001b[0m                                           │\n",
       "│      \u001b[32m✓\u001b[0m \u001b[32m✓\u001b[0m \u001b[32m.gdrive_files\u001b[0m                                    │\n",
       "│      \u001b[32m✓\u001b[0m \u001b[32m✓\u001b[0m \u001b[32m.gsheets\u001b[0m                                         │\n",
       "│      \u001b[32m✓\u001b[0m \u001b[32m✓\u001b[0m \u001b[32m.gforms\u001b[0m                                          │\n",
       "│                                                           │\n",
       "╰───────────────────────────────────────────────────────────╯\n"
      ]
     },
     "metadata": {},
     "output_type": "display_data"
    },
    {
     "data": {
      "text/plain": []
     },
     "execution_count": 35,
     "metadata": {},
     "output_type": "execute_result"
    }
   ],
   "source": [
    "client"
   ]
  },
  {
   "cell_type": "markdown",
   "id": "5a5df319-6870-4881-a357-2e393bf1e3ad",
   "metadata": {},
   "source": [
    "# Test 7: Login Speed when init_transport=False"
   ]
  },
  {
   "cell_type": "code",
   "execution_count": 41,
   "id": "18e527b8-28a6-4d98-b562-06b056ace1dc",
   "metadata": {},
   "outputs": [
    {
     "name": "stdout",
     "output_type": "stream",
     "text": [
      "147 ms ± 10.3 ms per loop (mean ± std. dev. of 7 runs, 10 loops each)\n"
     ]
    }
   ],
   "source": [
    "%%timeit\n",
    "client = sc.login(\"andrew@openmined.org\", init_transport=False)"
   ]
  },
  {
   "cell_type": "markdown",
   "id": "20cae1bc-c81a-42ef-9876-bca501066cc7",
   "metadata": {},
   "source": [
    "# Test 8: Test login(init_transport=False)"
   ]
  },
  {
   "cell_type": "code",
   "execution_count": 1,
   "id": "2592ccfd-226c-4538-bccd-8c105bf5f8c3",
   "metadata": {},
   "outputs": [],
   "source": [
    "import sys\n",
    "sys.path.insert(0, '..')\n",
    "import syft_client as sc"
   ]
  },
  {
   "cell_type": "code",
   "execution_count": 2,
   "id": "7c794820-49b9-4a7e-9481-0bb9edd8bad7",
   "metadata": {},
   "outputs": [],
   "source": [
    "client = sc.login(\"andrew@openmined.org\", init_transport=False)"
   ]
  },
  {
   "cell_type": "markdown",
   "id": "39dde3b4-1c46-454c-a338-d1a591c8c596",
   "metadata": {},
   "source": [
    "# Test 9: Test __repr__ has .folder and .google_personal with transports logged out"
   ]
  },
  {
   "cell_type": "code",
   "execution_count": 3,
   "id": "9846cf1f-c555-42f2-86b4-40a9432dccb4",
   "metadata": {},
   "outputs": [
    {
     "data": {
      "text/html": [
       "<pre style=\"white-space:pre;overflow-x:auto;line-height:normal;font-family:Menlo,'DejaVu Sans Mono',consolas,'Courier New',monospace\">╭──────── SyftClient.email = 'andrew@openmined.org' ────────╮\n",
       "│                                                           │\n",
       "│  <span style=\"color: #7f7f7f; text-decoration-color: #7f7f7f\">.folder</span> = /Users/atrask/SyftBox/andrew_at_openmined_org  │\n",
       "│                                                           │\n",
       "│  <span style=\"color: #7f7f7f; text-decoration-color: #7f7f7f\">.platforms</span>                                               │\n",
       "│    <span style=\"color: #808000; text-decoration-color: #808000; font-weight: bold\">.google_org</span> <span style=\"color: #7f7f7f; text-decoration-color: #7f7f7f\">(project: psychic-surf-472920-j9)</span>          │\n",
       "│      <span style=\"color: #008000; text-decoration-color: #008000\">✓</span> <span style=\"color: #7f7f7f; text-decoration-color: #7f7f7f\">✗</span> <span style=\"color: #008000; text-decoration-color: #008000\">.gmail</span> <span style=\"color: #7f7f7f; text-decoration-color: #7f7f7f\">(call .init() to initialize)</span>              │\n",
       "│      <span style=\"color: #008000; text-decoration-color: #008000\">✓</span> <span style=\"color: #7f7f7f; text-decoration-color: #7f7f7f\">✗</span> <span style=\"color: #008000; text-decoration-color: #008000\">.gdrive_files</span> <span style=\"color: #7f7f7f; text-decoration-color: #7f7f7f\">(call .init() to initialize)</span>       │\n",
       "│      <span style=\"color: #008000; text-decoration-color: #008000\">✓</span> <span style=\"color: #7f7f7f; text-decoration-color: #7f7f7f\">✗</span> <span style=\"color: #008000; text-decoration-color: #008000\">.gsheets</span> <span style=\"color: #7f7f7f; text-decoration-color: #7f7f7f\">(call .init() to initialize)</span>            │\n",
       "│      <span style=\"color: #008000; text-decoration-color: #008000\">✓</span> <span style=\"color: #7f7f7f; text-decoration-color: #7f7f7f\">✗</span> <span style=\"color: #008000; text-decoration-color: #008000\">.gforms</span> <span style=\"color: #7f7f7f; text-decoration-color: #7f7f7f\">(call .init() to initialize)</span>             │\n",
       "│                                                           │\n",
       "╰───────────────────────────────────────────────────────────╯\n",
       "</pre>\n"
      ],
      "text/plain": [
       "╭──────── SyftClient.email = 'andrew@openmined.org' ────────╮\n",
       "│                                                           │\n",
       "│  \u001b[2m.folder\u001b[0m = /Users/atrask/SyftBox/andrew_at_openmined_org  │\n",
       "│                                                           │\n",
       "│  \u001b[2m.platforms\u001b[0m                                               │\n",
       "│    \u001b[1;33m.google_org\u001b[0m \u001b[2m(project: psychic-surf-472920-j9)\u001b[0m          │\n",
       "│      \u001b[32m✓\u001b[0m \u001b[2m✗\u001b[0m \u001b[32m.gmail\u001b[0m \u001b[2m(call .init() to initialize)\u001b[0m              │\n",
       "│      \u001b[32m✓\u001b[0m \u001b[2m✗\u001b[0m \u001b[32m.gdrive_files\u001b[0m \u001b[2m(call .init() to initialize)\u001b[0m       │\n",
       "│      \u001b[32m✓\u001b[0m \u001b[2m✗\u001b[0m \u001b[32m.gsheets\u001b[0m \u001b[2m(call .init() to initialize)\u001b[0m            │\n",
       "│      \u001b[32m✓\u001b[0m \u001b[2m✗\u001b[0m \u001b[32m.gforms\u001b[0m \u001b[2m(call .init() to initialize)\u001b[0m             │\n",
       "│                                                           │\n",
       "╰───────────────────────────────────────────────────────────╯\n"
      ]
     },
     "metadata": {},
     "output_type": "display_data"
    },
    {
     "data": {
      "text/plain": []
     },
     "execution_count": 3,
     "metadata": {},
     "output_type": "execute_result"
    }
   ],
   "source": [
    "client"
   ]
  },
  {
   "cell_type": "markdown",
   "id": "3bb7f943-678e-4f07-af75-cb9a1df24778",
   "metadata": {},
   "source": [
    "# Test 10: Test that API activation/deactivation still shows in repr"
   ]
  },
  {
   "cell_type": "code",
   "execution_count": 4,
   "id": "e83784ed-51c0-4fee-9b98-deba44aac309",
   "metadata": {},
   "outputs": [
    {
     "name": "stdout",
     "output_type": "stream",
     "text": [
      "\n",
      "🔧 To disable the Gmail API:\n",
      "\n",
      "1. Open this URL in your browser:\n",
      "   https://console.cloud.google.com/apis/api/gmail.googleapis.com/overview?authuser=andrew@openmined.org&project=psychic-surf-472920-j9\n",
      "\n",
      "2. Click 'Manage' or 'Disable API'\n",
      "\n",
      "3. Confirm by clicking 'Disable'\n",
      "\n",
      "📝 Note: API tends to flicker for 5-10 seconds before enabling/disabling\n"
     ]
    }
   ],
   "source": [
    "client.platforms.google_org.gmail.disable_api()"
   ]
  },
  {
   "cell_type": "code",
   "execution_count": 5,
   "id": "5cfd92dc-4a52-4769-8077-2e1ce82e0ced",
   "metadata": {},
   "outputs": [
    {
     "data": {
      "text/html": [
       "<pre style=\"white-space:pre;overflow-x:auto;line-height:normal;font-family:Menlo,'DejaVu Sans Mono',consolas,'Courier New',monospace\">╭──────── SyftClient.email = 'andrew@openmined.org' ────────╮\n",
       "│                                                           │\n",
       "│  <span style=\"color: #7f7f7f; text-decoration-color: #7f7f7f\">.folder</span> = /Users/atrask/SyftBox/andrew_at_openmined_org  │\n",
       "│                                                           │\n",
       "│  <span style=\"color: #7f7f7f; text-decoration-color: #7f7f7f\">.platforms</span>                                               │\n",
       "│    <span style=\"color: #808000; text-decoration-color: #808000; font-weight: bold\">.google_org</span> <span style=\"color: #7f7f7f; text-decoration-color: #7f7f7f\">(project: psychic-surf-472920-j9)</span>          │\n",
       "│      <span style=\"color: #800000; text-decoration-color: #800000\">✗</span> <span style=\"color: #7f7f7f; text-decoration-color: #7f7f7f\">✗</span> <span style=\"color: #7f7f7f; text-decoration-color: #7f7f7f\">.gmail</span> <span style=\"color: #7f7f7f; text-decoration-color: #7f7f7f\">(call .gmail.enable_api())</span>                │\n",
       "│      <span style=\"color: #008000; text-decoration-color: #008000\">✓</span> <span style=\"color: #7f7f7f; text-decoration-color: #7f7f7f\">✗</span> <span style=\"color: #008000; text-decoration-color: #008000\">.gdrive_files</span> <span style=\"color: #7f7f7f; text-decoration-color: #7f7f7f\">(call .init() to initialize)</span>       │\n",
       "│      <span style=\"color: #008000; text-decoration-color: #008000\">✓</span> <span style=\"color: #7f7f7f; text-decoration-color: #7f7f7f\">✗</span> <span style=\"color: #008000; text-decoration-color: #008000\">.gsheets</span> <span style=\"color: #7f7f7f; text-decoration-color: #7f7f7f\">(call .init() to initialize)</span>            │\n",
       "│      <span style=\"color: #008000; text-decoration-color: #008000\">✓</span> <span style=\"color: #7f7f7f; text-decoration-color: #7f7f7f\">✗</span> <span style=\"color: #008000; text-decoration-color: #008000\">.gforms</span> <span style=\"color: #7f7f7f; text-decoration-color: #7f7f7f\">(call .init() to initialize)</span>             │\n",
       "│                                                           │\n",
       "╰───────────────────────────────────────────────────────────╯\n",
       "</pre>\n"
      ],
      "text/plain": [
       "╭──────── SyftClient.email = 'andrew@openmined.org' ────────╮\n",
       "│                                                           │\n",
       "│  \u001b[2m.folder\u001b[0m = /Users/atrask/SyftBox/andrew_at_openmined_org  │\n",
       "│                                                           │\n",
       "│  \u001b[2m.platforms\u001b[0m                                               │\n",
       "│    \u001b[1;33m.google_org\u001b[0m \u001b[2m(project: psychic-surf-472920-j9)\u001b[0m          │\n",
       "│      \u001b[31m✗\u001b[0m \u001b[2m✗\u001b[0m \u001b[2m.gmail\u001b[0m \u001b[2m(call .gmail.enable_api())\u001b[0m                │\n",
       "│      \u001b[32m✓\u001b[0m \u001b[2m✗\u001b[0m \u001b[32m.gdrive_files\u001b[0m \u001b[2m(call .init() to initialize)\u001b[0m       │\n",
       "│      \u001b[32m✓\u001b[0m \u001b[2m✗\u001b[0m \u001b[32m.gsheets\u001b[0m \u001b[2m(call .init() to initialize)\u001b[0m            │\n",
       "│      \u001b[32m✓\u001b[0m \u001b[2m✗\u001b[0m \u001b[32m.gforms\u001b[0m \u001b[2m(call .init() to initialize)\u001b[0m             │\n",
       "│                                                           │\n",
       "╰───────────────────────────────────────────────────────────╯\n"
      ]
     },
     "metadata": {},
     "output_type": "display_data"
    },
    {
     "data": {
      "text/plain": []
     },
     "execution_count": 5,
     "metadata": {},
     "output_type": "execute_result"
    }
   ],
   "source": [
    "client"
   ]
  },
  {
   "cell_type": "code",
   "execution_count": 7,
   "id": "a574abc3-6cc8-4877-95ae-038762c3d36d",
   "metadata": {},
   "outputs": [
    {
     "name": "stdout",
     "output_type": "stream",
     "text": [
      "\n",
      "🔧 To enable the Gmail API:\n",
      "\n",
      "1. Open this URL in your browser:\n",
      "   https://console.cloud.google.com/marketplace/product/google/gmail.googleapis.com?authuser=andrew@openmined.org&project=psychic-surf-472920-j9\n",
      "\n",
      "2. Click the 'Enable' button\n",
      "\n",
      "3. Wait for the API to be enabled (may take 5-10 seconds)\n",
      "\n",
      "📝 Note: API tends to flicker for 5-10 seconds before enabling/disabling\n"
     ]
    }
   ],
   "source": [
    "client.platforms.google_org.gmail.enable_api()"
   ]
  },
  {
   "cell_type": "code",
   "execution_count": 8,
   "id": "ce4dd1bc-cd72-49ce-80ae-96e60697cb78",
   "metadata": {},
   "outputs": [
    {
     "data": {
      "text/html": [
       "<pre style=\"white-space:pre;overflow-x:auto;line-height:normal;font-family:Menlo,'DejaVu Sans Mono',consolas,'Courier New',monospace\">╭──────── SyftClient.email = 'andrew@openmined.org' ────────╮\n",
       "│                                                           │\n",
       "│  <span style=\"color: #7f7f7f; text-decoration-color: #7f7f7f\">.folder</span> = /Users/atrask/SyftBox/andrew_at_openmined_org  │\n",
       "│                                                           │\n",
       "│  <span style=\"color: #7f7f7f; text-decoration-color: #7f7f7f\">.platforms</span>                                               │\n",
       "│    <span style=\"color: #808000; text-decoration-color: #808000; font-weight: bold\">.google_org</span> <span style=\"color: #7f7f7f; text-decoration-color: #7f7f7f\">(project: psychic-surf-472920-j9)</span>          │\n",
       "│      <span style=\"color: #008000; text-decoration-color: #008000\">✓</span> <span style=\"color: #7f7f7f; text-decoration-color: #7f7f7f\">✗</span> <span style=\"color: #008000; text-decoration-color: #008000\">.gmail</span> <span style=\"color: #7f7f7f; text-decoration-color: #7f7f7f\">(call .init() to initialize)</span>              │\n",
       "│      <span style=\"color: #008000; text-decoration-color: #008000\">✓</span> <span style=\"color: #7f7f7f; text-decoration-color: #7f7f7f\">✗</span> <span style=\"color: #008000; text-decoration-color: #008000\">.gdrive_files</span> <span style=\"color: #7f7f7f; text-decoration-color: #7f7f7f\">(call .init() to initialize)</span>       │\n",
       "│      <span style=\"color: #008000; text-decoration-color: #008000\">✓</span> <span style=\"color: #7f7f7f; text-decoration-color: #7f7f7f\">✗</span> <span style=\"color: #008000; text-decoration-color: #008000\">.gsheets</span> <span style=\"color: #7f7f7f; text-decoration-color: #7f7f7f\">(call .init() to initialize)</span>            │\n",
       "│      <span style=\"color: #008000; text-decoration-color: #008000\">✓</span> <span style=\"color: #7f7f7f; text-decoration-color: #7f7f7f\">✗</span> <span style=\"color: #008000; text-decoration-color: #008000\">.gforms</span> <span style=\"color: #7f7f7f; text-decoration-color: #7f7f7f\">(call .init() to initialize)</span>             │\n",
       "│                                                           │\n",
       "╰───────────────────────────────────────────────────────────╯\n",
       "</pre>\n"
      ],
      "text/plain": [
       "╭──────── SyftClient.email = 'andrew@openmined.org' ────────╮\n",
       "│                                                           │\n",
       "│  \u001b[2m.folder\u001b[0m = /Users/atrask/SyftBox/andrew_at_openmined_org  │\n",
       "│                                                           │\n",
       "│  \u001b[2m.platforms\u001b[0m                                               │\n",
       "│    \u001b[1;33m.google_org\u001b[0m \u001b[2m(project: psychic-surf-472920-j9)\u001b[0m          │\n",
       "│      \u001b[32m✓\u001b[0m \u001b[2m✗\u001b[0m \u001b[32m.gmail\u001b[0m \u001b[2m(call .init() to initialize)\u001b[0m              │\n",
       "│      \u001b[32m✓\u001b[0m \u001b[2m✗\u001b[0m \u001b[32m.gdrive_files\u001b[0m \u001b[2m(call .init() to initialize)\u001b[0m       │\n",
       "│      \u001b[32m✓\u001b[0m \u001b[2m✗\u001b[0m \u001b[32m.gsheets\u001b[0m \u001b[2m(call .init() to initialize)\u001b[0m            │\n",
       "│      \u001b[32m✓\u001b[0m \u001b[2m✗\u001b[0m \u001b[32m.gforms\u001b[0m \u001b[2m(call .init() to initialize)\u001b[0m             │\n",
       "│                                                           │\n",
       "╰───────────────────────────────────────────────────────────╯\n"
      ]
     },
     "metadata": {},
     "output_type": "display_data"
    },
    {
     "data": {
      "text/plain": []
     },
     "execution_count": 8,
     "metadata": {},
     "output_type": "execute_result"
    }
   ],
   "source": [
    "client"
   ]
  },
  {
   "cell_type": "code",
   "execution_count": 9,
   "id": "ebd6f173-352f-4013-b7f8-fefd9ab055c3",
   "metadata": {},
   "outputs": [
    {
     "data": {
      "text/html": [
       "<pre style=\"white-space:pre;overflow-x:auto;line-height:normal;font-family:Menlo,'DejaVu Sans Mono',consolas,'Courier New',monospace\">╭──────────────────── Platforms ─────────────────────╮\n",
       "│                                                    │\n",
       "│  <span style=\"color: #808000; text-decoration-color: #808000; font-weight: bold\">.google_org</span> <span style=\"color: #7f7f7f; text-decoration-color: #7f7f7f\">(project: psychic-surf-472920-j9)</span>     │\n",
       "│    <span style=\"color: #008000; text-decoration-color: #008000\">✓</span> <span style=\"color: #7f7f7f; text-decoration-color: #7f7f7f\">✗</span> <span style=\"color: #008000; text-decoration-color: #008000\">.gmail</span> <span style=\"color: #7f7f7f; text-decoration-color: #7f7f7f\">(call .init() to initialize)</span>         │\n",
       "│    <span style=\"color: #008000; text-decoration-color: #008000\">✓</span> <span style=\"color: #7f7f7f; text-decoration-color: #7f7f7f\">✗</span> <span style=\"color: #008000; text-decoration-color: #008000\">.gdrive_files</span> <span style=\"color: #7f7f7f; text-decoration-color: #7f7f7f\">(call .init() to initialize)</span>  │\n",
       "│    <span style=\"color: #008000; text-decoration-color: #008000\">✓</span> <span style=\"color: #7f7f7f; text-decoration-color: #7f7f7f\">✗</span> <span style=\"color: #008000; text-decoration-color: #008000\">.gsheets</span> <span style=\"color: #7f7f7f; text-decoration-color: #7f7f7f\">(call .init() to initialize)</span>       │\n",
       "│    <span style=\"color: #008000; text-decoration-color: #008000\">✓</span> <span style=\"color: #7f7f7f; text-decoration-color: #7f7f7f\">✗</span> <span style=\"color: #008000; text-decoration-color: #008000\">.gforms</span> <span style=\"color: #7f7f7f; text-decoration-color: #7f7f7f\">(call .init() to initialize)</span>        │\n",
       "│                                                    │\n",
       "╰────────────────────────────────────────────────────╯\n",
       "</pre>\n"
      ],
      "text/plain": [
       "╭──────────────────── Platforms ─────────────────────╮\n",
       "│                                                    │\n",
       "│  \u001b[1;33m.google_org\u001b[0m \u001b[2m(project: psychic-surf-472920-j9)\u001b[0m     │\n",
       "│    \u001b[32m✓\u001b[0m \u001b[2m✗\u001b[0m \u001b[32m.gmail\u001b[0m \u001b[2m(call .init() to initialize)\u001b[0m         │\n",
       "│    \u001b[32m✓\u001b[0m \u001b[2m✗\u001b[0m \u001b[32m.gdrive_files\u001b[0m \u001b[2m(call .init() to initialize)\u001b[0m  │\n",
       "│    \u001b[32m✓\u001b[0m \u001b[2m✗\u001b[0m \u001b[32m.gsheets\u001b[0m \u001b[2m(call .init() to initialize)\u001b[0m       │\n",
       "│    \u001b[32m✓\u001b[0m \u001b[2m✗\u001b[0m \u001b[32m.gforms\u001b[0m \u001b[2m(call .init() to initialize)\u001b[0m        │\n",
       "│                                                    │\n",
       "╰────────────────────────────────────────────────────╯\n"
      ]
     },
     "metadata": {},
     "output_type": "display_data"
    },
    {
     "data": {
      "text/plain": []
     },
     "execution_count": 9,
     "metadata": {},
     "output_type": "execute_result"
    }
   ],
   "source": [
    "client.platforms"
   ]
  },
  {
   "cell_type": "code",
   "execution_count": 11,
   "id": "8f956c56-406b-4775-b8eb-9ebf35d8b720",
   "metadata": {},
   "outputs": [
    {
     "data": {
      "text/html": [
       "<pre style=\"white-space:pre;overflow-x:auto;line-height:normal;font-family:Menlo,'DejaVu Sans Mono',consolas,'Courier New',monospace\">╭─ GoogleOrgClient(email='andrew@openmined.org', project='psychic-surf-472920-j9') ─╮\n",
       "│                                                                                   │\n",
       "│    <span style=\"color: #008000; text-decoration-color: #008000\">✓</span> <span style=\"color: #7f7f7f; text-decoration-color: #7f7f7f\">✗</span> <span style=\"color: #008000; text-decoration-color: #008000\">.gmail</span> <span style=\"color: #7f7f7f; text-decoration-color: #7f7f7f\">(call .init() to initialize)</span> <span style=\"color: #7f7f7f; text-decoration-color: #7f7f7f\">(keystore, notifications, HTML)</span>        │\n",
       "│    <span style=\"color: #008000; text-decoration-color: #008000\">✓</span> <span style=\"color: #7f7f7f; text-decoration-color: #7f7f7f\">✗</span> <span style=\"color: #008000; text-decoration-color: #008000\">.gdrive_files</span> <span style=\"color: #7f7f7f; text-decoration-color: #7f7f7f\">(call .init() to initialize)</span> <span style=\"color: #7f7f7f; text-decoration-color: #7f7f7f\">(keystore, public sharing)</span>      │\n",
       "│    <span style=\"color: #008000; text-decoration-color: #008000\">✓</span> <span style=\"color: #7f7f7f; text-decoration-color: #7f7f7f\">✗</span> <span style=\"color: #008000; text-decoration-color: #008000\">.gsheets</span> <span style=\"color: #7f7f7f; text-decoration-color: #7f7f7f\">(call .init() to initialize)</span> <span style=\"color: #7f7f7f; text-decoration-color: #7f7f7f\">(keystore, public sharing)</span>           │\n",
       "│    <span style=\"color: #008000; text-decoration-color: #008000\">✓</span> <span style=\"color: #7f7f7f; text-decoration-color: #7f7f7f\">✗</span> <span style=\"color: #008000; text-decoration-color: #008000\">.gforms</span> <span style=\"color: #7f7f7f; text-decoration-color: #7f7f7f\">(call .init() to initialize)</span> <span style=\"color: #7f7f7f; text-decoration-color: #7f7f7f\">(HTML)</span>                                │\n",
       "│                                                                                   │\n",
       "╰───────────────────────────────────────────────────────────────────────────────────╯\n",
       "</pre>\n"
      ],
      "text/plain": [
       "╭─ GoogleOrgClient(email='andrew@openmined.org', project='psychic-surf-472920-j9') ─╮\n",
       "│                                                                                   │\n",
       "│    \u001b[32m✓\u001b[0m \u001b[2m✗\u001b[0m \u001b[32m.gmail\u001b[0m \u001b[2m(call .init() to initialize)\u001b[0m \u001b[2m(keystore, notifications, HTML)\u001b[0m        │\n",
       "│    \u001b[32m✓\u001b[0m \u001b[2m✗\u001b[0m \u001b[32m.gdrive_files\u001b[0m \u001b[2m(call .init() to initialize)\u001b[0m \u001b[2m(keystore, public sharing)\u001b[0m      │\n",
       "│    \u001b[32m✓\u001b[0m \u001b[2m✗\u001b[0m \u001b[32m.gsheets\u001b[0m \u001b[2m(call .init() to initialize)\u001b[0m \u001b[2m(keystore, public sharing)\u001b[0m           │\n",
       "│    \u001b[32m✓\u001b[0m \u001b[2m✗\u001b[0m \u001b[32m.gforms\u001b[0m \u001b[2m(call .init() to initialize)\u001b[0m \u001b[2m(HTML)\u001b[0m                                │\n",
       "│                                                                                   │\n",
       "╰───────────────────────────────────────────────────────────────────────────────────╯\n"
      ]
     },
     "metadata": {},
     "output_type": "display_data"
    },
    {
     "data": {
      "text/plain": []
     },
     "execution_count": 11,
     "metadata": {},
     "output_type": "execute_result"
    }
   ],
   "source": [
    "client.platforms.google_org"
   ]
  },
  {
   "cell_type": "code",
   "execution_count": 12,
   "id": "4599b3ce-81c8-4008-b4ee-51b5a5aa722c",
   "metadata": {},
   "outputs": [
    {
     "data": {
      "text/html": [
       "<pre style=\"white-space:pre;overflow-x:auto;line-height:normal;font-family:Menlo,'DejaVu Sans Mono',consolas,'Courier New',monospace\"><span style=\"color: #800000; text-decoration-color: #800000\">╭───────────────── Gmail Transport ─────────────────╮</span>\n",
       "<span style=\"color: #800000; text-decoration-color: #800000\">│</span> <span style=\"color: #800000; text-decoration-color: #800000; font-weight: bold\">✗ gmail transport is not initialized</span>              <span style=\"color: #800000; text-decoration-color: #800000\">│</span>\n",
       "<span style=\"color: #800000; text-decoration-color: #800000\">│</span>                                                   <span style=\"color: #800000; text-decoration-color: #800000\">│</span>\n",
       "<span style=\"color: #800000; text-decoration-color: #800000\">│</span> <span style=\"color: #808000; text-decoration-color: #808000\">Please call .init() to initialize this transport.</span> <span style=\"color: #800000; text-decoration-color: #800000\">│</span>\n",
       "<span style=\"color: #800000; text-decoration-color: #800000\">│</span>                                                   <span style=\"color: #800000; text-decoration-color: #800000\">│</span>\n",
       "<span style=\"color: #800000; text-decoration-color: #800000\">│</span> <span style=\"color: #7f7f7f; text-decoration-color: #7f7f7f\">Access path: client.platforms.google_org.gmail</span>    <span style=\"color: #800000; text-decoration-color: #800000\">│</span>\n",
       "<span style=\"color: #800000; text-decoration-color: #800000\">╰───────────────────────────────────────────────────╯</span>\n",
       "</pre>\n"
      ],
      "text/plain": [
       "\u001b[31m╭─\u001b[0m\u001b[31m────────────────\u001b[0m\u001b[31m Gmail Transport \u001b[0m\u001b[31m────────────────\u001b[0m\u001b[31m─╮\u001b[0m\n",
       "\u001b[31m│\u001b[0m \u001b[1;31m✗ gmail transport is not initialized\u001b[0m              \u001b[31m│\u001b[0m\n",
       "\u001b[31m│\u001b[0m                                                   \u001b[31m│\u001b[0m\n",
       "\u001b[31m│\u001b[0m \u001b[33mPlease call .init() to initialize this transport.\u001b[0m \u001b[31m│\u001b[0m\n",
       "\u001b[31m│\u001b[0m                                                   \u001b[31m│\u001b[0m\n",
       "\u001b[31m│\u001b[0m \u001b[2mAccess path: client.platforms.google_org.gmail\u001b[0m    \u001b[31m│\u001b[0m\n",
       "\u001b[31m╰───────────────────────────────────────────────────╯\u001b[0m\n"
      ]
     },
     "metadata": {},
     "output_type": "display_data"
    },
    {
     "data": {
      "text/plain": []
     },
     "execution_count": 12,
     "metadata": {},
     "output_type": "execute_result"
    }
   ],
   "source": [
    "client.platforms.google_org.gmail"
   ]
  },
  {
   "cell_type": "markdown",
   "id": "f565fe25-fabd-4e99-b0a3-12395b176727",
   "metadata": {},
   "source": [
    "# Test 11: Test that gmail doesn't work (cuz not initialized)"
   ]
  },
  {
   "cell_type": "code",
   "execution_count": 13,
   "id": "cac8a93c-bdcc-40c1-a973-ce62d3da301f",
   "metadata": {},
   "outputs": [
    {
     "ename": "RuntimeError",
     "evalue": "Transport 'gmail' is not initialized. Please call .init() first.",
     "output_type": "error",
     "traceback": [
      "\u001b[31m---------------------------------------------------------------------------\u001b[39m",
      "\u001b[31mRuntimeError\u001b[39m                              Traceback (most recent call last)",
      "\u001b[36mCell\u001b[39m\u001b[36m \u001b[39m\u001b[32mIn[13]\u001b[39m\u001b[32m, line 1\u001b[39m\n\u001b[32m----> \u001b[39m\u001b[32m1\u001b[39m \u001b[43mclient\u001b[49m\u001b[43m.\u001b[49m\u001b[43mplatforms\u001b[49m\u001b[43m.\u001b[49m\u001b[43mgoogle_org\u001b[49m\u001b[43m.\u001b[49m\u001b[43mgmail\u001b[49m\u001b[43m.\u001b[49m\u001b[43mtest\u001b[49m(\u001b[33m\"\u001b[39m\u001b[33mabc123\u001b[39m\u001b[33m\"\u001b[39m)\n",
      "\u001b[36mFile \u001b[39m\u001b[32m~/Desktop/Laboratory/syft-client/test_notebooks/../syft_client/platforms/google_org/client.py:350\u001b[39m, in \u001b[36mGoogleOrgClient._create_transport_stubs.<locals>.UninitializedTransport.__getattr__\u001b[39m\u001b[34m(self, name)\u001b[39m\n\u001b[32m    347\u001b[39m         \u001b[38;5;28;01mreturn\u001b[39;00m \u001b[38;5;28;01mNone\u001b[39;00m\n\u001b[32m    349\u001b[39m \u001b[38;5;28;01mif\u001b[39;00m \u001b[38;5;129;01mnot\u001b[39;00m \u001b[38;5;28mself\u001b[39m._setup_called:\n\u001b[32m--> \u001b[39m\u001b[32m350\u001b[39m     \u001b[38;5;28;01mraise\u001b[39;00m \u001b[38;5;167;01mRuntimeError\u001b[39;00m(\u001b[33mf\u001b[39m\u001b[33m\"\u001b[39m\u001b[33mTransport \u001b[39m\u001b[33m'\u001b[39m\u001b[38;5;132;01m{\u001b[39;00m\u001b[38;5;28mself\u001b[39m._transport_name\u001b[38;5;132;01m}\u001b[39;00m\u001b[33m'\u001b[39m\u001b[33m is not initialized. Please call .init() first.\u001b[39m\u001b[33m\"\u001b[39m)\n\u001b[32m    351\u001b[39m \u001b[38;5;28;01mif\u001b[39;00m \u001b[38;5;28mself\u001b[39m._real_transport:\n\u001b[32m    352\u001b[39m     \u001b[38;5;28;01mreturn\u001b[39;00m \u001b[38;5;28mgetattr\u001b[39m(\u001b[38;5;28mself\u001b[39m._real_transport, name)\n",
      "\u001b[31mRuntimeError\u001b[39m: Transport 'gmail' is not initialized. Please call .init() first."
     ]
    }
   ],
   "source": [
    "client.platforms.google_org.gmail.test(\"abc123\")"
   ]
  },
  {
   "cell_type": "markdown",
   "id": "baabf58a-e833-4890-8754-25c868e27cb2",
   "metadata": {},
   "source": [
    "# Test 12: Test that gmail initializes with useful printing about what to do next"
   ]
  },
  {
   "cell_type": "code",
   "execution_count": 14,
   "id": "82bd3e86-ee1c-4d33-b7e2-84c31acbce5f",
   "metadata": {},
   "outputs": [
    {
     "name": "stdout",
     "output_type": "stream",
     "text": [
      "\n",
      "Initializing gmail transport...\n",
      "  • Creating gmail transport instance...\n",
      "  • Setting up with OAuth2 credentials...\n",
      "  ✓ OAuth2 credentials configured\n",
      "\n"
     ]
    },
    {
     "data": {
      "text/html": [
       "<pre style=\"white-space:pre;overflow-x:auto;line-height:normal;font-family:Menlo,'DejaVu Sans Mono',consolas,'Courier New',monospace\"><span style=\"color: #008000; text-decoration-color: #008000\">╭──────────────────────────────────────────────────╮</span>\n",
       "<span style=\"color: #008000; text-decoration-color: #008000\">│</span> <span style=\"color: #008000; text-decoration-color: #008000; font-weight: bold\">✓ gmail transport initialized successfully!</span>      <span style=\"color: #008000; text-decoration-color: #008000\">│</span>\n",
       "<span style=\"color: #008000; text-decoration-color: #008000\">│</span>                                                  <span style=\"color: #008000; text-decoration-color: #008000\">│</span>\n",
       "<span style=\"color: #008000; text-decoration-color: #008000\">│</span> <span style=\"font-weight: bold\">What you can do now:</span>                             <span style=\"color: #008000; text-decoration-color: #008000\">│</span>\n",
       "<span style=\"color: #008000; text-decoration-color: #008000\">│</span>   • Send emails: <span style=\"color: #008080; text-decoration-color: #008080\">.send(recipient, data, subject)</span> <span style=\"color: #008000; text-decoration-color: #008000\">│</span>\n",
       "<span style=\"color: #008000; text-decoration-color: #008000\">│</span>   • Read emails: <span style=\"color: #008080; text-decoration-color: #008080\">.receive(limit=10)</span>              <span style=\"color: #008000; text-decoration-color: #008000\">│</span>\n",
       "<span style=\"color: #008000; text-decoration-color: #008000\">│</span>   • Test setup: <span style=\"color: #008080; text-decoration-color: #008080\">.test()</span>                          <span style=\"color: #008000; text-decoration-color: #008000\">│</span>\n",
       "<span style=\"color: #008000; text-decoration-color: #008000\">│</span>                                                  <span style=\"color: #008000; text-decoration-color: #008000\">│</span>\n",
       "<span style=\"color: #008000; text-decoration-color: #008000\">│</span> <span style=\"color: #7f7f7f; text-decoration-color: #7f7f7f\">Access via: client.platforms.google_org.gmail</span>    <span style=\"color: #008000; text-decoration-color: #008000\">│</span>\n",
       "<span style=\"color: #008000; text-decoration-color: #008000\">╰──────────────────────────────────────────────────╯</span>\n",
       "</pre>\n"
      ],
      "text/plain": [
       "\u001b[32m╭──────────────────────────────────────────────────╮\u001b[0m\n",
       "\u001b[32m│\u001b[0m \u001b[1;32m✓ gmail transport initialized successfully!\u001b[0m      \u001b[32m│\u001b[0m\n",
       "\u001b[32m│\u001b[0m                                                  \u001b[32m│\u001b[0m\n",
       "\u001b[32m│\u001b[0m \u001b[1mWhat you can do now:\u001b[0m                             \u001b[32m│\u001b[0m\n",
       "\u001b[32m│\u001b[0m   • Send emails: \u001b[36m.send(recipient, data, subject)\u001b[0m \u001b[32m│\u001b[0m\n",
       "\u001b[32m│\u001b[0m   • Read emails: \u001b[36m.receive(limit=10)\u001b[0m              \u001b[32m│\u001b[0m\n",
       "\u001b[32m│\u001b[0m   • Test setup: \u001b[36m.test()\u001b[0m                          \u001b[32m│\u001b[0m\n",
       "\u001b[32m│\u001b[0m                                                  \u001b[32m│\u001b[0m\n",
       "\u001b[32m│\u001b[0m \u001b[2mAccess via: client.platforms.google_org.gmail\u001b[0m    \u001b[32m│\u001b[0m\n",
       "\u001b[32m╰──────────────────────────────────────────────────╯\u001b[0m\n"
      ]
     },
     "metadata": {},
     "output_type": "display_data"
    },
    {
     "data": {
      "text/plain": [
       "True"
      ]
     },
     "execution_count": 14,
     "metadata": {},
     "output_type": "execute_result"
    }
   ],
   "source": [
    "client.platforms.google_org.gmail.init()"
   ]
  },
  {
   "cell_type": "markdown",
   "id": "9e1e5657-2524-450c-a9db-7d1667c4ee0b",
   "metadata": {},
   "source": [
    "# Test 6: Test that calling .init() again fails gracefully"
   ]
  },
  {
   "cell_type": "code",
   "execution_count": 15,
   "id": "0c8a43df-e623-4fc5-bde3-91f0554ec7a0",
   "metadata": {},
   "outputs": [
    {
     "data": {
      "text/html": [
       "<pre style=\"white-space:pre;overflow-x:auto;line-height:normal;font-family:Menlo,'DejaVu Sans Mono',consolas,'Courier New',monospace\"><span style=\"color: #008000; text-decoration-color: #008000\">╭────────────────────────────────────────────────────╮</span>\n",
       "<span style=\"color: #008000; text-decoration-color: #008000\">│</span> <span style=\"color: #008000; text-decoration-color: #008000; font-weight: bold\">✓ gmail transport is already initialized!</span>          <span style=\"color: #008000; text-decoration-color: #008000\">│</span>\n",
       "<span style=\"color: #008000; text-decoration-color: #008000\">│</span>                                                    <span style=\"color: #008000; text-decoration-color: #008000\">│</span>\n",
       "<span style=\"color: #008000; text-decoration-color: #008000\">│</span> No action needed - this transport is ready to use. <span style=\"color: #008000; text-decoration-color: #008000\">│</span>\n",
       "<span style=\"color: #008000; text-decoration-color: #008000\">│</span>                                                    <span style=\"color: #008000; text-decoration-color: #008000\">│</span>\n",
       "<span style=\"color: #008000; text-decoration-color: #008000\">│</span> <span style=\"font-weight: bold\">Available methods:</span>                                 <span style=\"color: #008000; text-decoration-color: #008000\">│</span>\n",
       "<span style=\"color: #008000; text-decoration-color: #008000\">│</span>   • Send emails: <span style=\"color: #008080; text-decoration-color: #008080\">.send(recipient, data, subject)</span>   <span style=\"color: #008000; text-decoration-color: #008000\">│</span>\n",
       "<span style=\"color: #008000; text-decoration-color: #008000\">│</span>   • Read emails: <span style=\"color: #008080; text-decoration-color: #008080\">.receive(limit=10)</span>                <span style=\"color: #008000; text-decoration-color: #008000\">│</span>\n",
       "<span style=\"color: #008000; text-decoration-color: #008000\">│</span>   • Test setup: <span style=\"color: #008080; text-decoration-color: #008080\">.test()</span>                            <span style=\"color: #008000; text-decoration-color: #008000\">│</span>\n",
       "<span style=\"color: #008000; text-decoration-color: #008000\">│</span>                                                    <span style=\"color: #008000; text-decoration-color: #008000\">│</span>\n",
       "<span style=\"color: #008000; text-decoration-color: #008000\">│</span> <span style=\"color: #7f7f7f; text-decoration-color: #7f7f7f\">Access via: client.platforms.google_org.gmail</span>      <span style=\"color: #008000; text-decoration-color: #008000\">│</span>\n",
       "<span style=\"color: #008000; text-decoration-color: #008000\">╰────────────────────────────────────────────────────╯</span>\n",
       "</pre>\n"
      ],
      "text/plain": [
       "\u001b[32m╭────────────────────────────────────────────────────╮\u001b[0m\n",
       "\u001b[32m│\u001b[0m \u001b[1;32m✓ gmail transport is already initialized!\u001b[0m          \u001b[32m│\u001b[0m\n",
       "\u001b[32m│\u001b[0m                                                    \u001b[32m│\u001b[0m\n",
       "\u001b[32m│\u001b[0m No action needed - this transport is ready to use. \u001b[32m│\u001b[0m\n",
       "\u001b[32m│\u001b[0m                                                    \u001b[32m│\u001b[0m\n",
       "\u001b[32m│\u001b[0m \u001b[1mAvailable methods:\u001b[0m                                 \u001b[32m│\u001b[0m\n",
       "\u001b[32m│\u001b[0m   • Send emails: \u001b[36m.send(recipient, data, subject)\u001b[0m   \u001b[32m│\u001b[0m\n",
       "\u001b[32m│\u001b[0m   • Read emails: \u001b[36m.receive(limit=10)\u001b[0m                \u001b[32m│\u001b[0m\n",
       "\u001b[32m│\u001b[0m   • Test setup: \u001b[36m.test()\u001b[0m                            \u001b[32m│\u001b[0m\n",
       "\u001b[32m│\u001b[0m                                                    \u001b[32m│\u001b[0m\n",
       "\u001b[32m│\u001b[0m \u001b[2mAccess via: client.platforms.google_org.gmail\u001b[0m      \u001b[32m│\u001b[0m\n",
       "\u001b[32m╰────────────────────────────────────────────────────╯\u001b[0m\n"
      ]
     },
     "metadata": {},
     "output_type": "display_data"
    },
    {
     "data": {
      "text/plain": [
       "True"
      ]
     },
     "execution_count": 15,
     "metadata": {},
     "output_type": "execute_result"
    }
   ],
   "source": [
    "client.platforms.google_org.gmail.init()"
   ]
  },
  {
   "cell_type": "markdown",
   "id": "806a6762-b006-4d5c-b7df-7779e2139d00",
   "metadata": {},
   "source": [
    "# Test 7: Test that sending emails works again"
   ]
  },
  {
   "cell_type": "code",
   "execution_count": 17,
   "id": "4aa4094b-aa77-4c34-abe2-168511c9a511",
   "metadata": {},
   "outputs": [
    {
     "name": "stdout",
     "output_type": "stream",
     "text": [
      "✅ Gmail test successful! Email sent to andrew@openmined.org\n"
     ]
    },
    {
     "data": {
      "text/plain": [
       "{'success': True,\n",
       " 'url': 'https://mail.google.com/mail/?authuser=andrew%40openmined.org#search/from%3Aandrew%40openmined.org%20subject%3A%22Test%20Email%20-%20abc123%22'}"
      ]
     },
     "execution_count": 17,
     "metadata": {},
     "output_type": "execute_result"
    }
   ],
   "source": [
    "client.platforms.google_org.gmail.test(\"abc123\", cleanup=False)"
   ]
  },
  {
   "cell_type": "markdown",
   "id": "72d80a41-a7e4-4c05-aa57-c9edaa8a6ad9",
   "metadata": {},
   "source": [
    "# Test 8: Test that sending emails cleans up correctly"
   ]
  },
  {
   "cell_type": "code",
   "execution_count": 18,
   "id": "b758a99e-3d58-46fa-ae07-70d46d9dad94",
   "metadata": {},
   "outputs": [
    {
     "name": "stdout",
     "output_type": "stream",
     "text": [
      "✅ Gmail test successful! Email sent to andrew@openmined.org\n",
      "   Email has been deleted as requested (re-run test(cleanup=False) to see the email yourself.)\n"
     ]
    },
    {
     "data": {
      "text/plain": [
       "{'success': True,\n",
       " 'url': 'https://mail.google.com/mail/?authuser=andrew%40openmined.org#search/from%3Aandrew%40openmined.org%20subject%3A%22Test%20Email%20-%20abc123%22'}"
      ]
     },
     "execution_count": 18,
     "metadata": {},
     "output_type": "execute_result"
    }
   ],
   "source": [
    "client.platforms.google_org.gmail.test(\"abc123\")"
   ]
  },
  {
   "cell_type": "markdown",
   "id": "06f83731-453c-4a61-b14d-b8890db58eda",
   "metadata": {},
   "source": [
    "# Test 9: Test that other transports still don't work (only initialized one)"
   ]
  },
  {
   "cell_type": "code",
   "execution_count": 21,
   "id": "065a88cc-c6c6-4ac4-af8f-8ab39d50905e",
   "metadata": {},
   "outputs": [
    {
     "ename": "RuntimeError",
     "evalue": "Transport 'gdrive_files' is not initialized. Please call .init() first.",
     "output_type": "error",
     "traceback": [
      "\u001b[31m---------------------------------------------------------------------------\u001b[39m",
      "\u001b[31mRuntimeError\u001b[39m                              Traceback (most recent call last)",
      "\u001b[36mCell\u001b[39m\u001b[36m \u001b[39m\u001b[32mIn[21]\u001b[39m\u001b[32m, line 2\u001b[39m\n\u001b[32m      1\u001b[39m \u001b[38;5;66;03m# make sure the other ones still don't work\u001b[39;00m\n\u001b[32m----> \u001b[39m\u001b[32m2\u001b[39m \u001b[43mclient\u001b[49m\u001b[43m.\u001b[49m\u001b[43mplatforms\u001b[49m\u001b[43m.\u001b[49m\u001b[43mgoogle_org\u001b[49m\u001b[43m.\u001b[49m\u001b[43mgdrive_files\u001b[49m\u001b[43m.\u001b[49m\u001b[43mtest\u001b[49m(\u001b[33m\"\u001b[39m\u001b[33mabc123\u001b[39m\u001b[33m\"\u001b[39m, cleanup=\u001b[38;5;28;01mFalse\u001b[39;00m)\n",
      "\u001b[36mFile \u001b[39m\u001b[32m~/Desktop/Laboratory/syft-client/test_notebooks/../syft_client/platforms/google_org/client.py:350\u001b[39m, in \u001b[36mGoogleOrgClient._create_transport_stubs.<locals>.UninitializedTransport.__getattr__\u001b[39m\u001b[34m(self, name)\u001b[39m\n\u001b[32m    347\u001b[39m         \u001b[38;5;28;01mreturn\u001b[39;00m \u001b[38;5;28;01mNone\u001b[39;00m\n\u001b[32m    349\u001b[39m \u001b[38;5;28;01mif\u001b[39;00m \u001b[38;5;129;01mnot\u001b[39;00m \u001b[38;5;28mself\u001b[39m._setup_called:\n\u001b[32m--> \u001b[39m\u001b[32m350\u001b[39m     \u001b[38;5;28;01mraise\u001b[39;00m \u001b[38;5;167;01mRuntimeError\u001b[39;00m(\u001b[33mf\u001b[39m\u001b[33m\"\u001b[39m\u001b[33mTransport \u001b[39m\u001b[33m'\u001b[39m\u001b[38;5;132;01m{\u001b[39;00m\u001b[38;5;28mself\u001b[39m._transport_name\u001b[38;5;132;01m}\u001b[39;00m\u001b[33m'\u001b[39m\u001b[33m is not initialized. Please call .init() first.\u001b[39m\u001b[33m\"\u001b[39m)\n\u001b[32m    351\u001b[39m \u001b[38;5;28;01mif\u001b[39;00m \u001b[38;5;28mself\u001b[39m._real_transport:\n\u001b[32m    352\u001b[39m     \u001b[38;5;28;01mreturn\u001b[39;00m \u001b[38;5;28mgetattr\u001b[39m(\u001b[38;5;28mself\u001b[39m._real_transport, name)\n",
      "\u001b[31mRuntimeError\u001b[39m: Transport 'gdrive_files' is not initialized. Please call .init() first."
     ]
    }
   ],
   "source": [
    "# make sure the other ones still don't work\n",
    "client.platforms.google_org.gdrive_files.test(\"abc123\", cleanup=False)"
   ]
  },
  {
   "cell_type": "code",
   "execution_count": 22,
   "id": "ff76a49a-44d7-4dad-be66-d4002d5c9f1f",
   "metadata": {},
   "outputs": [
    {
     "ename": "AttributeError",
     "evalue": "'platforms' object has no attribute 'google_personal'",
     "output_type": "error",
     "traceback": [
      "\u001b[31m---------------------------------------------------------------------------\u001b[39m",
      "\u001b[31mAttributeError\u001b[39m                            Traceback (most recent call last)",
      "\u001b[36mCell\u001b[39m\u001b[36m \u001b[39m\u001b[32mIn[22]\u001b[39m\u001b[32m, line 2\u001b[39m\n\u001b[32m      1\u001b[39m \u001b[38;5;66;03m# make sure the other ones still don't work\u001b[39;00m\n\u001b[32m----> \u001b[39m\u001b[32m2\u001b[39m \u001b[43mclient\u001b[49m\u001b[43m.\u001b[49m\u001b[43mplatforms\u001b[49m\u001b[43m.\u001b[49m\u001b[43mgoogle_personal\u001b[49m.gsheets.test(\u001b[33m\"\u001b[39m\u001b[33mabc123\u001b[39m\u001b[33m\"\u001b[39m, cleanup=\u001b[38;5;28;01mFalse\u001b[39;00m)\n",
      "\u001b[36mFile \u001b[39m\u001b[32m~/Desktop/Laboratory/syft-client/test_notebooks/../syft_client/syft_client.py:41\u001b[39m, in \u001b[36mSyftClient.platforms.<locals>.PlatformRegistry.__getattr__\u001b[39m\u001b[34m(self, name)\u001b[39m\n\u001b[32m     39\u001b[39m \u001b[38;5;28;01mif\u001b[39;00m name \u001b[38;5;129;01min\u001b[39;00m \u001b[38;5;28mself\u001b[39m._platforms:\n\u001b[32m     40\u001b[39m     \u001b[38;5;28;01mreturn\u001b[39;00m \u001b[38;5;28mself\u001b[39m._platforms[name]\n\u001b[32m---> \u001b[39m\u001b[32m41\u001b[39m \u001b[38;5;28;01mraise\u001b[39;00m \u001b[38;5;167;01mAttributeError\u001b[39;00m(\u001b[33mf\u001b[39m\u001b[33m\"\u001b[39m\u001b[33m'\u001b[39m\u001b[33mplatforms\u001b[39m\u001b[33m'\u001b[39m\u001b[33m object has no attribute \u001b[39m\u001b[33m'\u001b[39m\u001b[38;5;132;01m{\u001b[39;00mname\u001b[38;5;132;01m}\u001b[39;00m\u001b[33m'\u001b[39m\u001b[33m\"\u001b[39m)\n",
      "\u001b[31mAttributeError\u001b[39m: 'platforms' object has no attribute 'google_personal'"
     ]
    }
   ],
   "source": [
    "# make sure the other ones still don't work\n",
    "client.platforms.google_personal.gsheets.test(\"abc123\", cleanup=False)"
   ]
  },
  {
   "cell_type": "code",
   "execution_count": 23,
   "id": "3f9ec2bc-6a53-4573-9c0b-8319d87ed2c9",
   "metadata": {},
   "outputs": [
    {
     "ename": "AttributeError",
     "evalue": "'platforms' object has no attribute 'google_personal'",
     "output_type": "error",
     "traceback": [
      "\u001b[31m---------------------------------------------------------------------------\u001b[39m",
      "\u001b[31mAttributeError\u001b[39m                            Traceback (most recent call last)",
      "\u001b[36mCell\u001b[39m\u001b[36m \u001b[39m\u001b[32mIn[23]\u001b[39m\u001b[32m, line 2\u001b[39m\n\u001b[32m      1\u001b[39m \u001b[38;5;66;03m# make sure the other ones still don't work\u001b[39;00m\n\u001b[32m----> \u001b[39m\u001b[32m2\u001b[39m \u001b[43mclient\u001b[49m\u001b[43m.\u001b[49m\u001b[43mplatforms\u001b[49m\u001b[43m.\u001b[49m\u001b[43mgoogle_personal\u001b[49m.gforms.test(\u001b[33m\"\u001b[39m\u001b[33mabc123\u001b[39m\u001b[33m\"\u001b[39m, cleanup=\u001b[38;5;28;01mFalse\u001b[39;00m)\n",
      "\u001b[36mFile \u001b[39m\u001b[32m~/Desktop/Laboratory/syft-client/test_notebooks/../syft_client/syft_client.py:41\u001b[39m, in \u001b[36mSyftClient.platforms.<locals>.PlatformRegistry.__getattr__\u001b[39m\u001b[34m(self, name)\u001b[39m\n\u001b[32m     39\u001b[39m \u001b[38;5;28;01mif\u001b[39;00m name \u001b[38;5;129;01min\u001b[39;00m \u001b[38;5;28mself\u001b[39m._platforms:\n\u001b[32m     40\u001b[39m     \u001b[38;5;28;01mreturn\u001b[39;00m \u001b[38;5;28mself\u001b[39m._platforms[name]\n\u001b[32m---> \u001b[39m\u001b[32m41\u001b[39m \u001b[38;5;28;01mraise\u001b[39;00m \u001b[38;5;167;01mAttributeError\u001b[39;00m(\u001b[33mf\u001b[39m\u001b[33m\"\u001b[39m\u001b[33m'\u001b[39m\u001b[33mplatforms\u001b[39m\u001b[33m'\u001b[39m\u001b[33m object has no attribute \u001b[39m\u001b[33m'\u001b[39m\u001b[38;5;132;01m{\u001b[39;00mname\u001b[38;5;132;01m}\u001b[39;00m\u001b[33m'\u001b[39m\u001b[33m\"\u001b[39m)\n",
      "\u001b[31mAttributeError\u001b[39m: 'platforms' object has no attribute 'google_personal'"
     ]
    }
   ],
   "source": [
    "# make sure the other ones still don't work\n",
    "client.platforms.google_personal.gforms.test(\"abc123\", cleanup=False)"
   ]
  },
  {
   "cell_type": "markdown",
   "id": "7f9c9d2b-1b39-41bf-8deb-96c0d84fc523",
   "metadata": {},
   "source": [
    "# Test 10: Test that client.__repr__ shows that only gmail is initialized"
   ]
  },
  {
   "cell_type": "code",
   "execution_count": 24,
   "id": "1dbf121f-2926-4cc9-892d-48267bbd4f72",
   "metadata": {},
   "outputs": [
    {
     "data": {
      "text/html": [
       "<pre style=\"white-space:pre;overflow-x:auto;line-height:normal;font-family:Menlo,'DejaVu Sans Mono',consolas,'Courier New',monospace\">╭──────── SyftClient.email = 'andrew@openmined.org' ────────╮\n",
       "│                                                           │\n",
       "│  <span style=\"color: #7f7f7f; text-decoration-color: #7f7f7f\">.folder</span> = /Users/atrask/SyftBox/andrew_at_openmined_org  │\n",
       "│                                                           │\n",
       "│  <span style=\"color: #7f7f7f; text-decoration-color: #7f7f7f\">.platforms</span>                                               │\n",
       "│    <span style=\"color: #808000; text-decoration-color: #808000; font-weight: bold\">.google_org</span> <span style=\"color: #7f7f7f; text-decoration-color: #7f7f7f\">(project: psychic-surf-472920-j9)</span>          │\n",
       "│      <span style=\"color: #008000; text-decoration-color: #008000\">✓</span> <span style=\"color: #008000; text-decoration-color: #008000\">✓</span> <span style=\"color: #008000; text-decoration-color: #008000\">.gmail</span>                                           │\n",
       "│      <span style=\"color: #008000; text-decoration-color: #008000\">✓</span> <span style=\"color: #7f7f7f; text-decoration-color: #7f7f7f\">✗</span> <span style=\"color: #008000; text-decoration-color: #008000\">.gdrive_files</span> <span style=\"color: #7f7f7f; text-decoration-color: #7f7f7f\">(call .init() to initialize)</span>       │\n",
       "│      <span style=\"color: #008000; text-decoration-color: #008000\">✓</span> <span style=\"color: #7f7f7f; text-decoration-color: #7f7f7f\">✗</span> <span style=\"color: #008000; text-decoration-color: #008000\">.gsheets</span> <span style=\"color: #7f7f7f; text-decoration-color: #7f7f7f\">(call .init() to initialize)</span>            │\n",
       "│      <span style=\"color: #008000; text-decoration-color: #008000\">✓</span> <span style=\"color: #7f7f7f; text-decoration-color: #7f7f7f\">✗</span> <span style=\"color: #008000; text-decoration-color: #008000\">.gforms</span> <span style=\"color: #7f7f7f; text-decoration-color: #7f7f7f\">(call .init() to initialize)</span>             │\n",
       "│                                                           │\n",
       "╰───────────────────────────────────────────────────────────╯\n",
       "</pre>\n"
      ],
      "text/plain": [
       "╭──────── SyftClient.email = 'andrew@openmined.org' ────────╮\n",
       "│                                                           │\n",
       "│  \u001b[2m.folder\u001b[0m = /Users/atrask/SyftBox/andrew_at_openmined_org  │\n",
       "│                                                           │\n",
       "│  \u001b[2m.platforms\u001b[0m                                               │\n",
       "│    \u001b[1;33m.google_org\u001b[0m \u001b[2m(project: psychic-surf-472920-j9)\u001b[0m          │\n",
       "│      \u001b[32m✓\u001b[0m \u001b[32m✓\u001b[0m \u001b[32m.gmail\u001b[0m                                           │\n",
       "│      \u001b[32m✓\u001b[0m \u001b[2m✗\u001b[0m \u001b[32m.gdrive_files\u001b[0m \u001b[2m(call .init() to initialize)\u001b[0m       │\n",
       "│      \u001b[32m✓\u001b[0m \u001b[2m✗\u001b[0m \u001b[32m.gsheets\u001b[0m \u001b[2m(call .init() to initialize)\u001b[0m            │\n",
       "│      \u001b[32m✓\u001b[0m \u001b[2m✗\u001b[0m \u001b[32m.gforms\u001b[0m \u001b[2m(call .init() to initialize)\u001b[0m             │\n",
       "│                                                           │\n",
       "╰───────────────────────────────────────────────────────────╯\n"
      ]
     },
     "metadata": {},
     "output_type": "display_data"
    },
    {
     "data": {
      "text/plain": []
     },
     "execution_count": 24,
     "metadata": {},
     "output_type": "execute_result"
    }
   ],
   "source": [
    "client"
   ]
  },
  {
   "cell_type": "code",
   "execution_count": 25,
   "id": "e6e04783-4cde-42f8-b409-e782f8db5464",
   "metadata": {},
   "outputs": [
    {
     "data": {
      "text/html": [
       "<pre style=\"white-space:pre;overflow-x:auto;line-height:normal;font-family:Menlo,'DejaVu Sans Mono',consolas,'Courier New',monospace\">╭──────────────────── Platforms ─────────────────────╮\n",
       "│                                                    │\n",
       "│  <span style=\"color: #808000; text-decoration-color: #808000; font-weight: bold\">.google_org</span> <span style=\"color: #7f7f7f; text-decoration-color: #7f7f7f\">(project: psychic-surf-472920-j9)</span>     │\n",
       "│    <span style=\"color: #008000; text-decoration-color: #008000\">✓</span> <span style=\"color: #008000; text-decoration-color: #008000\">✓</span> <span style=\"color: #008000; text-decoration-color: #008000\">.gmail</span>                                      │\n",
       "│    <span style=\"color: #008000; text-decoration-color: #008000\">✓</span> <span style=\"color: #7f7f7f; text-decoration-color: #7f7f7f\">✗</span> <span style=\"color: #008000; text-decoration-color: #008000\">.gdrive_files</span> <span style=\"color: #7f7f7f; text-decoration-color: #7f7f7f\">(call .init() to initialize)</span>  │\n",
       "│    <span style=\"color: #008000; text-decoration-color: #008000\">✓</span> <span style=\"color: #7f7f7f; text-decoration-color: #7f7f7f\">✗</span> <span style=\"color: #008000; text-decoration-color: #008000\">.gsheets</span> <span style=\"color: #7f7f7f; text-decoration-color: #7f7f7f\">(call .init() to initialize)</span>       │\n",
       "│    <span style=\"color: #008000; text-decoration-color: #008000\">✓</span> <span style=\"color: #7f7f7f; text-decoration-color: #7f7f7f\">✗</span> <span style=\"color: #008000; text-decoration-color: #008000\">.gforms</span> <span style=\"color: #7f7f7f; text-decoration-color: #7f7f7f\">(call .init() to initialize)</span>        │\n",
       "│                                                    │\n",
       "╰────────────────────────────────────────────────────╯\n",
       "</pre>\n"
      ],
      "text/plain": [
       "╭──────────────────── Platforms ─────────────────────╮\n",
       "│                                                    │\n",
       "│  \u001b[1;33m.google_org\u001b[0m \u001b[2m(project: psychic-surf-472920-j9)\u001b[0m     │\n",
       "│    \u001b[32m✓\u001b[0m \u001b[32m✓\u001b[0m \u001b[32m.gmail\u001b[0m                                      │\n",
       "│    \u001b[32m✓\u001b[0m \u001b[2m✗\u001b[0m \u001b[32m.gdrive_files\u001b[0m \u001b[2m(call .init() to initialize)\u001b[0m  │\n",
       "│    \u001b[32m✓\u001b[0m \u001b[2m✗\u001b[0m \u001b[32m.gsheets\u001b[0m \u001b[2m(call .init() to initialize)\u001b[0m       │\n",
       "│    \u001b[32m✓\u001b[0m \u001b[2m✗\u001b[0m \u001b[32m.gforms\u001b[0m \u001b[2m(call .init() to initialize)\u001b[0m        │\n",
       "│                                                    │\n",
       "╰────────────────────────────────────────────────────╯\n"
      ]
     },
     "metadata": {},
     "output_type": "display_data"
    },
    {
     "data": {
      "text/plain": []
     },
     "execution_count": 25,
     "metadata": {},
     "output_type": "execute_result"
    }
   ],
   "source": [
    "client.platforms"
   ]
  },
  {
   "cell_type": "code",
   "execution_count": 27,
   "id": "d972648d-5025-46e2-998d-86b85715d0f3",
   "metadata": {},
   "outputs": [
    {
     "data": {
      "text/html": [
       "<pre style=\"white-space:pre;overflow-x:auto;line-height:normal;font-family:Menlo,'DejaVu Sans Mono',consolas,'Courier New',monospace\">╭─ GoogleOrgClient(email='andrew@openmined.org', project='psychic-surf-472920-j9') ─╮\n",
       "│                                                                                   │\n",
       "│    <span style=\"color: #008000; text-decoration-color: #008000\">✓</span> <span style=\"color: #008000; text-decoration-color: #008000\">✓</span> <span style=\"color: #008000; text-decoration-color: #008000\">.gmail</span> <span style=\"color: #7f7f7f; text-decoration-color: #7f7f7f\">(keystore, notifications, HTML)</span>                                     │\n",
       "│    <span style=\"color: #008000; text-decoration-color: #008000\">✓</span> <span style=\"color: #7f7f7f; text-decoration-color: #7f7f7f\">✗</span> <span style=\"color: #008000; text-decoration-color: #008000\">.gdrive_files</span> <span style=\"color: #7f7f7f; text-decoration-color: #7f7f7f\">(call .init() to initialize)</span> <span style=\"color: #7f7f7f; text-decoration-color: #7f7f7f\">(keystore, public sharing)</span>      │\n",
       "│    <span style=\"color: #008000; text-decoration-color: #008000\">✓</span> <span style=\"color: #7f7f7f; text-decoration-color: #7f7f7f\">✗</span> <span style=\"color: #008000; text-decoration-color: #008000\">.gsheets</span> <span style=\"color: #7f7f7f; text-decoration-color: #7f7f7f\">(call .init() to initialize)</span> <span style=\"color: #7f7f7f; text-decoration-color: #7f7f7f\">(keystore, public sharing)</span>           │\n",
       "│    <span style=\"color: #008000; text-decoration-color: #008000\">✓</span> <span style=\"color: #7f7f7f; text-decoration-color: #7f7f7f\">✗</span> <span style=\"color: #008000; text-decoration-color: #008000\">.gforms</span> <span style=\"color: #7f7f7f; text-decoration-color: #7f7f7f\">(call .init() to initialize)</span> <span style=\"color: #7f7f7f; text-decoration-color: #7f7f7f\">(HTML)</span>                                │\n",
       "│                                                                                   │\n",
       "╰───────────────────────────────────────────────────────────────────────────────────╯\n",
       "</pre>\n"
      ],
      "text/plain": [
       "╭─ GoogleOrgClient(email='andrew@openmined.org', project='psychic-surf-472920-j9') ─╮\n",
       "│                                                                                   │\n",
       "│    \u001b[32m✓\u001b[0m \u001b[32m✓\u001b[0m \u001b[32m.gmail\u001b[0m \u001b[2m(keystore, notifications, HTML)\u001b[0m                                     │\n",
       "│    \u001b[32m✓\u001b[0m \u001b[2m✗\u001b[0m \u001b[32m.gdrive_files\u001b[0m \u001b[2m(call .init() to initialize)\u001b[0m \u001b[2m(keystore, public sharing)\u001b[0m      │\n",
       "│    \u001b[32m✓\u001b[0m \u001b[2m✗\u001b[0m \u001b[32m.gsheets\u001b[0m \u001b[2m(call .init() to initialize)\u001b[0m \u001b[2m(keystore, public sharing)\u001b[0m           │\n",
       "│    \u001b[32m✓\u001b[0m \u001b[2m✗\u001b[0m \u001b[32m.gforms\u001b[0m \u001b[2m(call .init() to initialize)\u001b[0m \u001b[2m(HTML)\u001b[0m                                │\n",
       "│                                                                                   │\n",
       "╰───────────────────────────────────────────────────────────────────────────────────╯\n"
      ]
     },
     "metadata": {},
     "output_type": "display_data"
    },
    {
     "data": {
      "text/plain": []
     },
     "execution_count": 27,
     "metadata": {},
     "output_type": "execute_result"
    }
   ],
   "source": [
    "client.platforms.google_org"
   ]
  },
  {
   "cell_type": "code",
   "execution_count": 28,
   "id": "611c0733-5b2f-4e9f-bd44-c56de6ae6395",
   "metadata": {},
   "outputs": [
    {
     "data": {
      "text/html": [
       "<pre style=\"white-space:pre;overflow-x:auto;line-height:normal;font-family:Menlo,'DejaVu Sans Mono',consolas,'Courier New',monospace\">╭───────── client.platforms.google_org.gmail ─────────╮\n",
       "│                                                     │\n",
       "│  <span style=\"color: #008080; text-decoration-color: #008080; font-weight: bold\">.is_initialized()       </span><span style=\"color: #008000; text-decoration-color: #008000\">✓ Initialized</span>              │\n",
       "│  <span style=\"color: #008080; text-decoration-color: #008080; font-weight: bold\">.api_enabled            </span><span style=\"color: #008000; text-decoration-color: #008000\">✓ Enabled</span>                  │\n",
       "│  <span style=\"color: #008080; text-decoration-color: #008080; font-weight: bold\">.environment            </span>jupyter                    │\n",
       "│  <span style=\"color: #008080; text-decoration-color: #008080; font-weight: bold\">                        </span>                           │\n",
       "│  <span style=\"color: #008080; text-decoration-color: #008080; font-weight: bold\">Capabilities            </span>                           │\n",
       "│  <span style=\"color: #008080; text-decoration-color: #008080; font-weight: bold\">  .is_keystore          </span><span style=\"color: #008000; text-decoration-color: #008000\">✓</span>                          │\n",
       "│  <span style=\"color: #008080; text-decoration-color: #008080; font-weight: bold\">  .is_notification_layer</span><span style=\"color: #008000; text-decoration-color: #008000\">✓</span>                          │\n",
       "│  <span style=\"color: #008080; text-decoration-color: #008080; font-weight: bold\">  .is_html_compatible   </span><span style=\"color: #008000; text-decoration-color: #008000\">✓</span>                          │\n",
       "│  <span style=\"color: #008080; text-decoration-color: #008080; font-weight: bold\">  .is_reply_compatible  </span><span style=\"color: #008000; text-decoration-color: #008000\">✓</span>                          │\n",
       "│  <span style=\"color: #008080; text-decoration-color: #008080; font-weight: bold\">  .guest_submit         </span><span style=\"color: #7f7f7f; text-decoration-color: #7f7f7f\">✗</span>                          │\n",
       "│  <span style=\"color: #008080; text-decoration-color: #008080; font-weight: bold\">  .guest_read_file      </span><span style=\"color: #7f7f7f; text-decoration-color: #7f7f7f\">✗</span>                          │\n",
       "│  <span style=\"color: #008080; text-decoration-color: #008080; font-weight: bold\">  .guest_read_folder    </span><span style=\"color: #7f7f7f; text-decoration-color: #7f7f7f\">✗</span>                          │\n",
       "│  <span style=\"color: #008080; text-decoration-color: #008080; font-weight: bold\">                        </span>                           │\n",
       "│  <span style=\"color: #008080; text-decoration-color: #008080; font-weight: bold\">.login_complexity       </span>0 steps                    │\n",
       "│  <span style=\"color: #008080; text-decoration-color: #008080; font-weight: bold\">                        </span>                           │\n",
       "│  <span style=\"color: #008080; text-decoration-color: #008080; font-weight: bold\">Methods                 </span>                           │\n",
       "│  <span style=\"color: #008080; text-decoration-color: #008080; font-weight: bold\">  .send(recipient, data)</span>Send data                  │\n",
       "│  <span style=\"color: #008080; text-decoration-color: #008080; font-weight: bold\">  .receive()            </span>Get messages               │\n",
       "│  <span style=\"color: #008080; text-decoration-color: #008080; font-weight: bold\">  .setup(credentials)   </span>Configure transport        │\n",
       "│  <span style=\"color: #008080; text-decoration-color: #008080; font-weight: bold\">  .enable_api()         </span>Show enable instructions   │\n",
       "│  <span style=\"color: #008080; text-decoration-color: #008080; font-weight: bold\">  .disable_api()        </span>Show disable instructions  │\n",
       "│                                                     │\n",
       "╰─────────────────────────────────────────────────────╯\n",
       "</pre>\n"
      ],
      "text/plain": [
       "╭───────── client.platforms.google_org.gmail ─────────╮\n",
       "│                                                     │\n",
       "│  \u001b[1;36m.is_initialized()       \u001b[0m\u001b[32m✓ Initialized\u001b[0m              │\n",
       "│  \u001b[1;36m.api_enabled            \u001b[0m\u001b[32m✓ Enabled\u001b[0m                  │\n",
       "│  \u001b[1;36m.environment            \u001b[0mjupyter                    │\n",
       "│  \u001b[1;36m                        \u001b[0m                           │\n",
       "│  \u001b[1;36mCapabilities\u001b[0m\u001b[1;36m            \u001b[0m                           │\n",
       "│  \u001b[1;36m  .is_keystore          \u001b[0m\u001b[32m✓\u001b[0m                          │\n",
       "│  \u001b[1;36m  .is_notification_layer\u001b[0m\u001b[32m✓\u001b[0m                          │\n",
       "│  \u001b[1;36m  .is_html_compatible   \u001b[0m\u001b[32m✓\u001b[0m                          │\n",
       "│  \u001b[1;36m  .is_reply_compatible  \u001b[0m\u001b[32m✓\u001b[0m                          │\n",
       "│  \u001b[1;36m  .guest_submit         \u001b[0m\u001b[2m✗\u001b[0m                          │\n",
       "│  \u001b[1;36m  .guest_read_file      \u001b[0m\u001b[2m✗\u001b[0m                          │\n",
       "│  \u001b[1;36m  .guest_read_folder    \u001b[0m\u001b[2m✗\u001b[0m                          │\n",
       "│  \u001b[1;36m                        \u001b[0m                           │\n",
       "│  \u001b[1;36m.login_complexity       \u001b[0m0 steps                    │\n",
       "│  \u001b[1;36m                        \u001b[0m                           │\n",
       "│  \u001b[1;36mMethods\u001b[0m\u001b[1;36m                 \u001b[0m                           │\n",
       "│  \u001b[1;36m  .send(recipient, data)\u001b[0mSend data                  │\n",
       "│  \u001b[1;36m  .receive()            \u001b[0mGet messages               │\n",
       "│  \u001b[1;36m  .setup(credentials)   \u001b[0mConfigure transport        │\n",
       "│  \u001b[1;36m  .enable_api()         \u001b[0mShow enable instructions   │\n",
       "│  \u001b[1;36m  .disable_api()        \u001b[0mShow disable instructions  │\n",
       "│                                                     │\n",
       "╰─────────────────────────────────────────────────────╯\n"
      ]
     },
     "metadata": {},
     "output_type": "display_data"
    },
    {
     "data": {
      "text/plain": []
     },
     "execution_count": 28,
     "metadata": {},
     "output_type": "execute_result"
    }
   ],
   "source": [
    "client.platforms.google_org.gmail"
   ]
  },
  {
   "cell_type": "code",
   "execution_count": 29,
   "id": "0b9ccc74-9926-434b-b0f6-6365dce2a6cf",
   "metadata": {},
   "outputs": [
    {
     "data": {
      "text/html": [
       "<pre style=\"white-space:pre;overflow-x:auto;line-height:normal;font-family:Menlo,'DejaVu Sans Mono',consolas,'Courier New',monospace\"><span style=\"color: #800000; text-decoration-color: #800000\">╭─────────────── Gdrive_Files Transport ────────────────╮</span>\n",
       "<span style=\"color: #800000; text-decoration-color: #800000\">│</span> <span style=\"color: #800000; text-decoration-color: #800000; font-weight: bold\">✗ gdrive_files transport is not initialized</span>           <span style=\"color: #800000; text-decoration-color: #800000\">│</span>\n",
       "<span style=\"color: #800000; text-decoration-color: #800000\">│</span>                                                       <span style=\"color: #800000; text-decoration-color: #800000\">│</span>\n",
       "<span style=\"color: #800000; text-decoration-color: #800000\">│</span> <span style=\"color: #808000; text-decoration-color: #808000\">Please call .init() to initialize this transport.</span>     <span style=\"color: #800000; text-decoration-color: #800000\">│</span>\n",
       "<span style=\"color: #800000; text-decoration-color: #800000\">│</span>                                                       <span style=\"color: #800000; text-decoration-color: #800000\">│</span>\n",
       "<span style=\"color: #800000; text-decoration-color: #800000\">│</span> <span style=\"color: #7f7f7f; text-decoration-color: #7f7f7f\">Access path: client.platforms.google_org.gdrive_files</span> <span style=\"color: #800000; text-decoration-color: #800000\">│</span>\n",
       "<span style=\"color: #800000; text-decoration-color: #800000\">╰───────────────────────────────────────────────────────╯</span>\n",
       "</pre>\n"
      ],
      "text/plain": [
       "\u001b[31m╭─\u001b[0m\u001b[31m──────────────\u001b[0m\u001b[31m Gdrive_Files Transport \u001b[0m\u001b[31m───────────────\u001b[0m\u001b[31m─╮\u001b[0m\n",
       "\u001b[31m│\u001b[0m \u001b[1;31m✗ gdrive_files transport is not initialized\u001b[0m           \u001b[31m│\u001b[0m\n",
       "\u001b[31m│\u001b[0m                                                       \u001b[31m│\u001b[0m\n",
       "\u001b[31m│\u001b[0m \u001b[33mPlease call .init() to initialize this transport.\u001b[0m     \u001b[31m│\u001b[0m\n",
       "\u001b[31m│\u001b[0m                                                       \u001b[31m│\u001b[0m\n",
       "\u001b[31m│\u001b[0m \u001b[2mAccess path: client.platforms.google_org.gdrive_files\u001b[0m \u001b[31m│\u001b[0m\n",
       "\u001b[31m╰───────────────────────────────────────────────────────╯\u001b[0m\n"
      ]
     },
     "metadata": {},
     "output_type": "display_data"
    },
    {
     "data": {
      "text/plain": []
     },
     "execution_count": 29,
     "metadata": {},
     "output_type": "execute_result"
    }
   ],
   "source": [
    "client.platforms.google_org.gdrive_files"
   ]
  },
  {
   "cell_type": "markdown",
   "id": "8e8bcb40-12de-4ac0-b3d2-6331efd9f499",
   "metadata": {},
   "source": [
    "# Test 11: initialize gdrive and test"
   ]
  },
  {
   "cell_type": "code",
   "execution_count": 30,
   "id": "bfccecb4-d360-46f2-a686-28b232c4161a",
   "metadata": {},
   "outputs": [
    {
     "name": "stdout",
     "output_type": "stream",
     "text": [
      "\n",
      "Initializing gdrive_files transport...\n",
      "  • Creating gdrive_files transport instance...\n",
      "  • Setting up with OAuth2 credentials...\n",
      "  ✓ OAuth2 credentials configured\n",
      "\n"
     ]
    },
    {
     "data": {
      "text/html": [
       "<pre style=\"white-space:pre;overflow-x:auto;line-height:normal;font-family:Menlo,'DejaVu Sans Mono',consolas,'Courier New',monospace\"><span style=\"color: #008000; text-decoration-color: #008000\">╭───────────────────────────────────────────────────────╮</span>\n",
       "<span style=\"color: #008000; text-decoration-color: #008000\">│</span> <span style=\"color: #008000; text-decoration-color: #008000; font-weight: bold\">✓ gdrive_files transport initialized successfully!</span>    <span style=\"color: #008000; text-decoration-color: #008000\">│</span>\n",
       "<span style=\"color: #008000; text-decoration-color: #008000\">│</span>                                                       <span style=\"color: #008000; text-decoration-color: #008000\">│</span>\n",
       "<span style=\"color: #008000; text-decoration-color: #008000\">│</span> <span style=\"font-weight: bold\">What you can do now:</span>                                  <span style=\"color: #008000; text-decoration-color: #008000\">│</span>\n",
       "<span style=\"color: #008000; text-decoration-color: #008000\">│</span>   • List files: <span style=\"color: #008080; text-decoration-color: #008080\">.list_files()</span>                         <span style=\"color: #008000; text-decoration-color: #008000\">│</span>\n",
       "<span style=\"color: #008000; text-decoration-color: #008000\">│</span>   • Upload file: <span style=\"color: #008080; text-decoration-color: #008080\">.upload_file(filepath)</span>               <span style=\"color: #008000; text-decoration-color: #008000\">│</span>\n",
       "<span style=\"color: #008000; text-decoration-color: #008000\">│</span>   • Download file: <span style=\"color: #008080; text-decoration-color: #008080\">.download_file(file_id, save_path)</span> <span style=\"color: #008000; text-decoration-color: #008000\">│</span>\n",
       "<span style=\"color: #008000; text-decoration-color: #008000\">│</span>                                                       <span style=\"color: #008000; text-decoration-color: #008000\">│</span>\n",
       "<span style=\"color: #008000; text-decoration-color: #008000\">│</span> <span style=\"color: #7f7f7f; text-decoration-color: #7f7f7f\">Access via: client.platforms.google_org.gdrive_files</span>  <span style=\"color: #008000; text-decoration-color: #008000\">│</span>\n",
       "<span style=\"color: #008000; text-decoration-color: #008000\">╰───────────────────────────────────────────────────────╯</span>\n",
       "</pre>\n"
      ],
      "text/plain": [
       "\u001b[32m╭───────────────────────────────────────────────────────╮\u001b[0m\n",
       "\u001b[32m│\u001b[0m \u001b[1;32m✓ gdrive_files transport initialized successfully!\u001b[0m    \u001b[32m│\u001b[0m\n",
       "\u001b[32m│\u001b[0m                                                       \u001b[32m│\u001b[0m\n",
       "\u001b[32m│\u001b[0m \u001b[1mWhat you can do now:\u001b[0m                                  \u001b[32m│\u001b[0m\n",
       "\u001b[32m│\u001b[0m   • List files: \u001b[36m.list_files()\u001b[0m                         \u001b[32m│\u001b[0m\n",
       "\u001b[32m│\u001b[0m   • Upload file: \u001b[36m.upload_file(filepath)\u001b[0m               \u001b[32m│\u001b[0m\n",
       "\u001b[32m│\u001b[0m   • Download file: \u001b[36m.download_file(file_id, save_path)\u001b[0m \u001b[32m│\u001b[0m\n",
       "\u001b[32m│\u001b[0m                                                       \u001b[32m│\u001b[0m\n",
       "\u001b[32m│\u001b[0m \u001b[2mAccess via: client.platforms.google_org.gdrive_files\u001b[0m  \u001b[32m│\u001b[0m\n",
       "\u001b[32m╰───────────────────────────────────────────────────────╯\u001b[0m\n"
      ]
     },
     "metadata": {},
     "output_type": "display_data"
    },
    {
     "data": {
      "text/plain": [
       "True"
      ]
     },
     "execution_count": 30,
     "metadata": {},
     "output_type": "execute_result"
    }
   ],
   "source": [
    "client.platforms.google_org.gdrive_files.init()"
   ]
  },
  {
   "cell_type": "code",
   "execution_count": 31,
   "id": "95e6d3b0-6b62-4ee3-a16f-62516c17ad77",
   "metadata": {},
   "outputs": [
    {
     "name": "stdout",
     "output_type": "stream",
     "text": [
      "✅ Google Drive test successful! File created in SyftClient\n"
     ]
    },
    {
     "data": {
      "text/plain": [
       "{'success': True,\n",
       " 'url': 'https://drive.google.com/file/d/1p3N-HaIfUVuSY8gfns7nBssos1FwZeQA/view?usp=drivesdk'}"
      ]
     },
     "execution_count": 31,
     "metadata": {},
     "output_type": "execute_result"
    }
   ],
   "source": [
    "# test that gdrive_files worksa nd you can see the file\n",
    "client.platforms.google_org.gdrive_files.test(\"abc123\", cleanup=False)"
   ]
  },
  {
   "cell_type": "code",
   "execution_count": 32,
   "id": "a6caaed0-ee31-4844-8711-e5151d1ee890",
   "metadata": {},
   "outputs": [
    {
     "data": {
      "text/html": [
       "<pre style=\"white-space:pre;overflow-x:auto;line-height:normal;font-family:Menlo,'DejaVu Sans Mono',consolas,'Courier New',monospace\">╭──────── SyftClient.email = 'andrew@openmined.org' ────────╮\n",
       "│                                                           │\n",
       "│  <span style=\"color: #7f7f7f; text-decoration-color: #7f7f7f\">.folder</span> = /Users/atrask/SyftBox/andrew_at_openmined_org  │\n",
       "│                                                           │\n",
       "│  <span style=\"color: #7f7f7f; text-decoration-color: #7f7f7f\">.platforms</span>                                               │\n",
       "│    <span style=\"color: #808000; text-decoration-color: #808000; font-weight: bold\">.google_org</span> <span style=\"color: #7f7f7f; text-decoration-color: #7f7f7f\">(project: psychic-surf-472920-j9)</span>          │\n",
       "│      <span style=\"color: #008000; text-decoration-color: #008000\">✓</span> <span style=\"color: #008000; text-decoration-color: #008000\">✓</span> <span style=\"color: #008000; text-decoration-color: #008000\">.gmail</span>                                           │\n",
       "│      <span style=\"color: #008000; text-decoration-color: #008000\">✓</span> <span style=\"color: #008000; text-decoration-color: #008000\">✓</span> <span style=\"color: #008000; text-decoration-color: #008000\">.gdrive_files</span>                                    │\n",
       "│      <span style=\"color: #008000; text-decoration-color: #008000\">✓</span> <span style=\"color: #7f7f7f; text-decoration-color: #7f7f7f\">✗</span> <span style=\"color: #008000; text-decoration-color: #008000\">.gsheets</span> <span style=\"color: #7f7f7f; text-decoration-color: #7f7f7f\">(call .init() to initialize)</span>            │\n",
       "│      <span style=\"color: #008000; text-decoration-color: #008000\">✓</span> <span style=\"color: #7f7f7f; text-decoration-color: #7f7f7f\">✗</span> <span style=\"color: #008000; text-decoration-color: #008000\">.gforms</span> <span style=\"color: #7f7f7f; text-decoration-color: #7f7f7f\">(call .init() to initialize)</span>             │\n",
       "│                                                           │\n",
       "╰───────────────────────────────────────────────────────────╯\n",
       "</pre>\n"
      ],
      "text/plain": [
       "╭──────── SyftClient.email = 'andrew@openmined.org' ────────╮\n",
       "│                                                           │\n",
       "│  \u001b[2m.folder\u001b[0m = /Users/atrask/SyftBox/andrew_at_openmined_org  │\n",
       "│                                                           │\n",
       "│  \u001b[2m.platforms\u001b[0m                                               │\n",
       "│    \u001b[1;33m.google_org\u001b[0m \u001b[2m(project: psychic-surf-472920-j9)\u001b[0m          │\n",
       "│      \u001b[32m✓\u001b[0m \u001b[32m✓\u001b[0m \u001b[32m.gmail\u001b[0m                                           │\n",
       "│      \u001b[32m✓\u001b[0m \u001b[32m✓\u001b[0m \u001b[32m.gdrive_files\u001b[0m                                    │\n",
       "│      \u001b[32m✓\u001b[0m \u001b[2m✗\u001b[0m \u001b[32m.gsheets\u001b[0m \u001b[2m(call .init() to initialize)\u001b[0m            │\n",
       "│      \u001b[32m✓\u001b[0m \u001b[2m✗\u001b[0m \u001b[32m.gforms\u001b[0m \u001b[2m(call .init() to initialize)\u001b[0m             │\n",
       "│                                                           │\n",
       "╰───────────────────────────────────────────────────────────╯\n"
      ]
     },
     "metadata": {},
     "output_type": "display_data"
    },
    {
     "data": {
      "text/plain": []
     },
     "execution_count": 32,
     "metadata": {},
     "output_type": "execute_result"
    }
   ],
   "source": [
    "# test that gdrive_Files shows up in client repr\n",
    "client"
   ]
  },
  {
   "cell_type": "code",
   "execution_count": 33,
   "id": "5a90fadf-89e9-47fc-8c5d-d8f32b79eed3",
   "metadata": {},
   "outputs": [
    {
     "data": {
      "text/html": [
       "<pre style=\"white-space:pre;overflow-x:auto;line-height:normal;font-family:Menlo,'DejaVu Sans Mono',consolas,'Courier New',monospace\"><span style=\"color: #008000; text-decoration-color: #008000\">╭───────────────────────────────────────────────────────╮</span>\n",
       "<span style=\"color: #008000; text-decoration-color: #008000\">│</span> <span style=\"color: #008000; text-decoration-color: #008000; font-weight: bold\">✓ gdrivefiles transport is already initialized!</span>       <span style=\"color: #008000; text-decoration-color: #008000\">│</span>\n",
       "<span style=\"color: #008000; text-decoration-color: #008000\">│</span>                                                       <span style=\"color: #008000; text-decoration-color: #008000\">│</span>\n",
       "<span style=\"color: #008000; text-decoration-color: #008000\">│</span> No action needed - this transport is ready to use.    <span style=\"color: #008000; text-decoration-color: #008000\">│</span>\n",
       "<span style=\"color: #008000; text-decoration-color: #008000\">│</span>                                                       <span style=\"color: #008000; text-decoration-color: #008000\">│</span>\n",
       "<span style=\"color: #008000; text-decoration-color: #008000\">│</span> <span style=\"font-weight: bold\">Available methods:</span>                                    <span style=\"color: #008000; text-decoration-color: #008000\">│</span>\n",
       "<span style=\"color: #008000; text-decoration-color: #008000\">│</span>   • List files: <span style=\"color: #008080; text-decoration-color: #008080\">.list_files()</span>                         <span style=\"color: #008000; text-decoration-color: #008000\">│</span>\n",
       "<span style=\"color: #008000; text-decoration-color: #008000\">│</span>   • Upload file: <span style=\"color: #008080; text-decoration-color: #008080\">.upload_file(filepath)</span>               <span style=\"color: #008000; text-decoration-color: #008000\">│</span>\n",
       "<span style=\"color: #008000; text-decoration-color: #008000\">│</span>   • Download file: <span style=\"color: #008080; text-decoration-color: #008080\">.download_file(file_id, save_path)</span> <span style=\"color: #008000; text-decoration-color: #008000\">│</span>\n",
       "<span style=\"color: #008000; text-decoration-color: #008000\">│</span>                                                       <span style=\"color: #008000; text-decoration-color: #008000\">│</span>\n",
       "<span style=\"color: #008000; text-decoration-color: #008000\">│</span> <span style=\"color: #7f7f7f; text-decoration-color: #7f7f7f\">Access via: client.platforms.google_org.gdrivefiles</span>   <span style=\"color: #008000; text-decoration-color: #008000\">│</span>\n",
       "<span style=\"color: #008000; text-decoration-color: #008000\">╰───────────────────────────────────────────────────────╯</span>\n",
       "</pre>\n"
      ],
      "text/plain": [
       "\u001b[32m╭───────────────────────────────────────────────────────╮\u001b[0m\n",
       "\u001b[32m│\u001b[0m \u001b[1;32m✓ gdrivefiles transport is already initialized!\u001b[0m       \u001b[32m│\u001b[0m\n",
       "\u001b[32m│\u001b[0m                                                       \u001b[32m│\u001b[0m\n",
       "\u001b[32m│\u001b[0m No action needed - this transport is ready to use.    \u001b[32m│\u001b[0m\n",
       "\u001b[32m│\u001b[0m                                                       \u001b[32m│\u001b[0m\n",
       "\u001b[32m│\u001b[0m \u001b[1mAvailable methods:\u001b[0m                                    \u001b[32m│\u001b[0m\n",
       "\u001b[32m│\u001b[0m   • List files: \u001b[36m.list_files()\u001b[0m                         \u001b[32m│\u001b[0m\n",
       "\u001b[32m│\u001b[0m   • Upload file: \u001b[36m.upload_file(filepath)\u001b[0m               \u001b[32m│\u001b[0m\n",
       "\u001b[32m│\u001b[0m   • Download file: \u001b[36m.download_file(file_id, save_path)\u001b[0m \u001b[32m│\u001b[0m\n",
       "\u001b[32m│\u001b[0m                                                       \u001b[32m│\u001b[0m\n",
       "\u001b[32m│\u001b[0m \u001b[2mAccess via: client.platforms.google_org.gdrivefiles\u001b[0m   \u001b[32m│\u001b[0m\n",
       "\u001b[32m╰───────────────────────────────────────────────────────╯\u001b[0m\n"
      ]
     },
     "metadata": {},
     "output_type": "display_data"
    },
    {
     "data": {
      "text/plain": [
       "True"
      ]
     },
     "execution_count": 33,
     "metadata": {},
     "output_type": "execute_result"
    }
   ],
   "source": [
    "# test that calling init twice fails gracefully\n",
    "client.platforms.google_org.gdrive_files.init()"
   ]
  },
  {
   "cell_type": "code",
   "execution_count": 34,
   "id": "13c93908-b39b-4646-b731-f7d7035e715f",
   "metadata": {},
   "outputs": [
    {
     "ename": "RuntimeError",
     "evalue": "Transport 'gsheets' is not initialized. Please call .init() first.",
     "output_type": "error",
     "traceback": [
      "\u001b[31m---------------------------------------------------------------------------\u001b[39m",
      "\u001b[31mRuntimeError\u001b[39m                              Traceback (most recent call last)",
      "\u001b[36mCell\u001b[39m\u001b[36m \u001b[39m\u001b[32mIn[34]\u001b[39m\u001b[32m, line 2\u001b[39m\n\u001b[32m      1\u001b[39m \u001b[38;5;66;03m# make sure the other ones still don't work\u001b[39;00m\n\u001b[32m----> \u001b[39m\u001b[32m2\u001b[39m \u001b[43mclient\u001b[49m\u001b[43m.\u001b[49m\u001b[43mplatforms\u001b[49m\u001b[43m.\u001b[49m\u001b[43mgoogle_org\u001b[49m\u001b[43m.\u001b[49m\u001b[43mgsheets\u001b[49m\u001b[43m.\u001b[49m\u001b[43mtest\u001b[49m(\u001b[33m\"\u001b[39m\u001b[33mabc123\u001b[39m\u001b[33m\"\u001b[39m, cleanup=\u001b[38;5;28;01mFalse\u001b[39;00m)\n",
      "\u001b[36mFile \u001b[39m\u001b[32m~/Desktop/Laboratory/syft-client/test_notebooks/../syft_client/platforms/google_org/client.py:350\u001b[39m, in \u001b[36mGoogleOrgClient._create_transport_stubs.<locals>.UninitializedTransport.__getattr__\u001b[39m\u001b[34m(self, name)\u001b[39m\n\u001b[32m    347\u001b[39m         \u001b[38;5;28;01mreturn\u001b[39;00m \u001b[38;5;28;01mNone\u001b[39;00m\n\u001b[32m    349\u001b[39m \u001b[38;5;28;01mif\u001b[39;00m \u001b[38;5;129;01mnot\u001b[39;00m \u001b[38;5;28mself\u001b[39m._setup_called:\n\u001b[32m--> \u001b[39m\u001b[32m350\u001b[39m     \u001b[38;5;28;01mraise\u001b[39;00m \u001b[38;5;167;01mRuntimeError\u001b[39;00m(\u001b[33mf\u001b[39m\u001b[33m\"\u001b[39m\u001b[33mTransport \u001b[39m\u001b[33m'\u001b[39m\u001b[38;5;132;01m{\u001b[39;00m\u001b[38;5;28mself\u001b[39m._transport_name\u001b[38;5;132;01m}\u001b[39;00m\u001b[33m'\u001b[39m\u001b[33m is not initialized. Please call .init() first.\u001b[39m\u001b[33m\"\u001b[39m)\n\u001b[32m    351\u001b[39m \u001b[38;5;28;01mif\u001b[39;00m \u001b[38;5;28mself\u001b[39m._real_transport:\n\u001b[32m    352\u001b[39m     \u001b[38;5;28;01mreturn\u001b[39;00m \u001b[38;5;28mgetattr\u001b[39m(\u001b[38;5;28mself\u001b[39m._real_transport, name)\n",
      "\u001b[31mRuntimeError\u001b[39m: Transport 'gsheets' is not initialized. Please call .init() first."
     ]
    }
   ],
   "source": [
    "# make sure the other ones still don't work\n",
    "client.platforms.google_org.gsheets.test(\"abc123\", cleanup=False)"
   ]
  },
  {
   "cell_type": "code",
   "execution_count": 35,
   "id": "121ec71f-8282-423b-850e-65d2d8cd8bc2",
   "metadata": {},
   "outputs": [
    {
     "ename": "RuntimeError",
     "evalue": "Transport 'gforms' is not initialized. Please call .init() first.",
     "output_type": "error",
     "traceback": [
      "\u001b[31m---------------------------------------------------------------------------\u001b[39m",
      "\u001b[31mRuntimeError\u001b[39m                              Traceback (most recent call last)",
      "\u001b[36mCell\u001b[39m\u001b[36m \u001b[39m\u001b[32mIn[35]\u001b[39m\u001b[32m, line 2\u001b[39m\n\u001b[32m      1\u001b[39m \u001b[38;5;66;03m# make sure the other ones still don't work\u001b[39;00m\n\u001b[32m----> \u001b[39m\u001b[32m2\u001b[39m \u001b[43mclient\u001b[49m\u001b[43m.\u001b[49m\u001b[43mplatforms\u001b[49m\u001b[43m.\u001b[49m\u001b[43mgoogle_org\u001b[49m\u001b[43m.\u001b[49m\u001b[43mgforms\u001b[49m\u001b[43m.\u001b[49m\u001b[43mtest\u001b[49m(\u001b[33m\"\u001b[39m\u001b[33mabc123\u001b[39m\u001b[33m\"\u001b[39m, cleanup=\u001b[38;5;28;01mFalse\u001b[39;00m)\n",
      "\u001b[36mFile \u001b[39m\u001b[32m~/Desktop/Laboratory/syft-client/test_notebooks/../syft_client/platforms/google_org/client.py:350\u001b[39m, in \u001b[36mGoogleOrgClient._create_transport_stubs.<locals>.UninitializedTransport.__getattr__\u001b[39m\u001b[34m(self, name)\u001b[39m\n\u001b[32m    347\u001b[39m         \u001b[38;5;28;01mreturn\u001b[39;00m \u001b[38;5;28;01mNone\u001b[39;00m\n\u001b[32m    349\u001b[39m \u001b[38;5;28;01mif\u001b[39;00m \u001b[38;5;129;01mnot\u001b[39;00m \u001b[38;5;28mself\u001b[39m._setup_called:\n\u001b[32m--> \u001b[39m\u001b[32m350\u001b[39m     \u001b[38;5;28;01mraise\u001b[39;00m \u001b[38;5;167;01mRuntimeError\u001b[39;00m(\u001b[33mf\u001b[39m\u001b[33m\"\u001b[39m\u001b[33mTransport \u001b[39m\u001b[33m'\u001b[39m\u001b[38;5;132;01m{\u001b[39;00m\u001b[38;5;28mself\u001b[39m._transport_name\u001b[38;5;132;01m}\u001b[39;00m\u001b[33m'\u001b[39m\u001b[33m is not initialized. Please call .init() first.\u001b[39m\u001b[33m\"\u001b[39m)\n\u001b[32m    351\u001b[39m \u001b[38;5;28;01mif\u001b[39;00m \u001b[38;5;28mself\u001b[39m._real_transport:\n\u001b[32m    352\u001b[39m     \u001b[38;5;28;01mreturn\u001b[39;00m \u001b[38;5;28mgetattr\u001b[39m(\u001b[38;5;28mself\u001b[39m._real_transport, name)\n",
      "\u001b[31mRuntimeError\u001b[39m: Transport 'gforms' is not initialized. Please call .init() first."
     ]
    }
   ],
   "source": [
    "# make sure the other ones still don't work\n",
    "client.platforms.google_org.gforms.test(\"abc123\", cleanup=False)"
   ]
  },
  {
   "cell_type": "code",
   "execution_count": 36,
   "id": "34e520fb-1bd4-4b0b-9bf1-d943091d5022",
   "metadata": {},
   "outputs": [
    {
     "data": {
      "text/html": [
       "<pre style=\"white-space:pre;overflow-x:auto;line-height:normal;font-family:Menlo,'DejaVu Sans Mono',consolas,'Courier New',monospace\">╭──────── SyftClient.email = 'andrew@openmined.org' ────────╮\n",
       "│                                                           │\n",
       "│  <span style=\"color: #7f7f7f; text-decoration-color: #7f7f7f\">.folder</span> = /Users/atrask/SyftBox/andrew_at_openmined_org  │\n",
       "│                                                           │\n",
       "│  <span style=\"color: #7f7f7f; text-decoration-color: #7f7f7f\">.platforms</span>                                               │\n",
       "│    <span style=\"color: #808000; text-decoration-color: #808000; font-weight: bold\">.google_org</span> <span style=\"color: #7f7f7f; text-decoration-color: #7f7f7f\">(project: psychic-surf-472920-j9)</span>          │\n",
       "│      <span style=\"color: #008000; text-decoration-color: #008000\">✓</span> <span style=\"color: #008000; text-decoration-color: #008000\">✓</span> <span style=\"color: #008000; text-decoration-color: #008000\">.gmail</span>                                           │\n",
       "│      <span style=\"color: #008000; text-decoration-color: #008000\">✓</span> <span style=\"color: #008000; text-decoration-color: #008000\">✓</span> <span style=\"color: #008000; text-decoration-color: #008000\">.gdrive_files</span>                                    │\n",
       "│      <span style=\"color: #008000; text-decoration-color: #008000\">✓</span> <span style=\"color: #7f7f7f; text-decoration-color: #7f7f7f\">✗</span> <span style=\"color: #008000; text-decoration-color: #008000\">.gsheets</span> <span style=\"color: #7f7f7f; text-decoration-color: #7f7f7f\">(call .init() to initialize)</span>            │\n",
       "│      <span style=\"color: #008000; text-decoration-color: #008000\">✓</span> <span style=\"color: #7f7f7f; text-decoration-color: #7f7f7f\">✗</span> <span style=\"color: #008000; text-decoration-color: #008000\">.gforms</span> <span style=\"color: #7f7f7f; text-decoration-color: #7f7f7f\">(call .init() to initialize)</span>             │\n",
       "│                                                           │\n",
       "╰───────────────────────────────────────────────────────────╯\n",
       "</pre>\n"
      ],
      "text/plain": [
       "╭──────── SyftClient.email = 'andrew@openmined.org' ────────╮\n",
       "│                                                           │\n",
       "│  \u001b[2m.folder\u001b[0m = /Users/atrask/SyftBox/andrew_at_openmined_org  │\n",
       "│                                                           │\n",
       "│  \u001b[2m.platforms\u001b[0m                                               │\n",
       "│    \u001b[1;33m.google_org\u001b[0m \u001b[2m(project: psychic-surf-472920-j9)\u001b[0m          │\n",
       "│      \u001b[32m✓\u001b[0m \u001b[32m✓\u001b[0m \u001b[32m.gmail\u001b[0m                                           │\n",
       "│      \u001b[32m✓\u001b[0m \u001b[32m✓\u001b[0m \u001b[32m.gdrive_files\u001b[0m                                    │\n",
       "│      \u001b[32m✓\u001b[0m \u001b[2m✗\u001b[0m \u001b[32m.gsheets\u001b[0m \u001b[2m(call .init() to initialize)\u001b[0m            │\n",
       "│      \u001b[32m✓\u001b[0m \u001b[2m✗\u001b[0m \u001b[32m.gforms\u001b[0m \u001b[2m(call .init() to initialize)\u001b[0m             │\n",
       "│                                                           │\n",
       "╰───────────────────────────────────────────────────────────╯\n"
      ]
     },
     "metadata": {},
     "output_type": "display_data"
    },
    {
     "data": {
      "text/plain": []
     },
     "execution_count": 36,
     "metadata": {},
     "output_type": "execute_result"
    }
   ],
   "source": [
    "client"
   ]
  },
  {
   "cell_type": "markdown",
   "id": "9ad82135-c8ce-4ad9-8286-ef5fda68f2fd",
   "metadata": {},
   "source": [
    "# Test 12: initialize gsheets and test"
   ]
  },
  {
   "cell_type": "code",
   "execution_count": 37,
   "id": "0e5708bd-32ca-4342-83ac-e3abb96c244e",
   "metadata": {},
   "outputs": [
    {
     "name": "stdout",
     "output_type": "stream",
     "text": [
      "\n",
      "Initializing gsheets transport...\n",
      "  • Creating gsheets transport instance...\n",
      "  • Setting up with OAuth2 credentials...\n",
      "  ✓ OAuth2 credentials configured\n",
      "\n"
     ]
    },
    {
     "data": {
      "text/html": [
       "<pre style=\"white-space:pre;overflow-x:auto;line-height:normal;font-family:Menlo,'DejaVu Sans Mono',consolas,'Courier New',monospace\"><span style=\"color: #008000; text-decoration-color: #008000\">╭─────────────────────────────────────────────────────────────╮</span>\n",
       "<span style=\"color: #008000; text-decoration-color: #008000\">│</span> <span style=\"color: #008000; text-decoration-color: #008000; font-weight: bold\">✓ gsheets transport initialized successfully!</span>               <span style=\"color: #008000; text-decoration-color: #008000\">│</span>\n",
       "<span style=\"color: #008000; text-decoration-color: #008000\">│</span>                                                             <span style=\"color: #008000; text-decoration-color: #008000\">│</span>\n",
       "<span style=\"color: #008000; text-decoration-color: #008000\">│</span> <span style=\"font-weight: bold\">What you can do now:</span>                                        <span style=\"color: #008000; text-decoration-color: #008000\">│</span>\n",
       "<span style=\"color: #008000; text-decoration-color: #008000\">│</span>   • Read sheet: <span style=\"color: #008080; text-decoration-color: #008080\">.read_sheet(spreadsheet_id, range)</span>          <span style=\"color: #008000; text-decoration-color: #008000\">│</span>\n",
       "<span style=\"color: #008000; text-decoration-color: #008000\">│</span>   • Write data: <span style=\"color: #008080; text-decoration-color: #008080\">.write_sheet(spreadsheet_id, range, values)</span> <span style=\"color: #008000; text-decoration-color: #008000\">│</span>\n",
       "<span style=\"color: #008000; text-decoration-color: #008000\">│</span>   • Create sheet: <span style=\"color: #008080; text-decoration-color: #008080\">.create_sheet(title)</span>                      <span style=\"color: #008000; text-decoration-color: #008000\">│</span>\n",
       "<span style=\"color: #008000; text-decoration-color: #008000\">│</span>                                                             <span style=\"color: #008000; text-decoration-color: #008000\">│</span>\n",
       "<span style=\"color: #008000; text-decoration-color: #008000\">│</span> <span style=\"color: #7f7f7f; text-decoration-color: #7f7f7f\">Access via: client.platforms.google_org.gsheets</span>             <span style=\"color: #008000; text-decoration-color: #008000\">│</span>\n",
       "<span style=\"color: #008000; text-decoration-color: #008000\">╰─────────────────────────────────────────────────────────────╯</span>\n",
       "</pre>\n"
      ],
      "text/plain": [
       "\u001b[32m╭─────────────────────────────────────────────────────────────╮\u001b[0m\n",
       "\u001b[32m│\u001b[0m \u001b[1;32m✓ gsheets transport initialized successfully!\u001b[0m               \u001b[32m│\u001b[0m\n",
       "\u001b[32m│\u001b[0m                                                             \u001b[32m│\u001b[0m\n",
       "\u001b[32m│\u001b[0m \u001b[1mWhat you can do now:\u001b[0m                                        \u001b[32m│\u001b[0m\n",
       "\u001b[32m│\u001b[0m   • Read sheet: \u001b[36m.read_sheet(spreadsheet_id, range)\u001b[0m          \u001b[32m│\u001b[0m\n",
       "\u001b[32m│\u001b[0m   • Write data: \u001b[36m.write_sheet(spreadsheet_id, range, values)\u001b[0m \u001b[32m│\u001b[0m\n",
       "\u001b[32m│\u001b[0m   • Create sheet: \u001b[36m.create_sheet(title)\u001b[0m                      \u001b[32m│\u001b[0m\n",
       "\u001b[32m│\u001b[0m                                                             \u001b[32m│\u001b[0m\n",
       "\u001b[32m│\u001b[0m \u001b[2mAccess via: client.platforms.google_org.gsheets\u001b[0m             \u001b[32m│\u001b[0m\n",
       "\u001b[32m╰─────────────────────────────────────────────────────────────╯\u001b[0m\n"
      ]
     },
     "metadata": {},
     "output_type": "display_data"
    },
    {
     "data": {
      "text/plain": [
       "True"
      ]
     },
     "execution_count": 37,
     "metadata": {},
     "output_type": "execute_result"
    }
   ],
   "source": [
    "client.platforms.google_org.gsheets.init()"
   ]
  },
  {
   "cell_type": "code",
   "execution_count": 38,
   "id": "63cbaa1c-9440-4ed7-8810-f266f371f678",
   "metadata": {},
   "outputs": [
    {
     "name": "stdout",
     "output_type": "stream",
     "text": [
      "✅ Google Sheets test successful! Spreadsheet created with test data\n"
     ]
    },
    {
     "data": {
      "text/plain": [
       "{'success': True,\n",
       " 'url': 'https://docs.google.com/spreadsheets/d/1lhPZP_qXiVaz1agWAHpLjhsaKaQdKNON4CjDLP1Ky30/edit?ouid=117176484630596301481'}"
      ]
     },
     "execution_count": 38,
     "metadata": {},
     "output_type": "execute_result"
    }
   ],
   "source": [
    "# test that gsheets worksa nd you can see the file\n",
    "client.platforms.google_org.gsheets.test(\"abc123\", cleanup=False)"
   ]
  },
  {
   "cell_type": "code",
   "execution_count": 40,
   "id": "8c3d1ab7-1920-497c-b0fc-81b4b0850e78",
   "metadata": {},
   "outputs": [
    {
     "data": {
      "text/html": [
       "<pre style=\"white-space:pre;overflow-x:auto;line-height:normal;font-family:Menlo,'DejaVu Sans Mono',consolas,'Courier New',monospace\"><span style=\"color: #008000; text-decoration-color: #008000\">╭─────────────────────────────────────────────────────────────╮</span>\n",
       "<span style=\"color: #008000; text-decoration-color: #008000\">│</span> <span style=\"color: #008000; text-decoration-color: #008000; font-weight: bold\">✓ gsheets transport is already initialized!</span>                 <span style=\"color: #008000; text-decoration-color: #008000\">│</span>\n",
       "<span style=\"color: #008000; text-decoration-color: #008000\">│</span>                                                             <span style=\"color: #008000; text-decoration-color: #008000\">│</span>\n",
       "<span style=\"color: #008000; text-decoration-color: #008000\">│</span> No action needed - this transport is ready to use.          <span style=\"color: #008000; text-decoration-color: #008000\">│</span>\n",
       "<span style=\"color: #008000; text-decoration-color: #008000\">│</span>                                                             <span style=\"color: #008000; text-decoration-color: #008000\">│</span>\n",
       "<span style=\"color: #008000; text-decoration-color: #008000\">│</span> <span style=\"font-weight: bold\">Available methods:</span>                                          <span style=\"color: #008000; text-decoration-color: #008000\">│</span>\n",
       "<span style=\"color: #008000; text-decoration-color: #008000\">│</span>   • Read sheet: <span style=\"color: #008080; text-decoration-color: #008080\">.read_sheet(spreadsheet_id, range)</span>          <span style=\"color: #008000; text-decoration-color: #008000\">│</span>\n",
       "<span style=\"color: #008000; text-decoration-color: #008000\">│</span>   • Write data: <span style=\"color: #008080; text-decoration-color: #008080\">.write_sheet(spreadsheet_id, range, values)</span> <span style=\"color: #008000; text-decoration-color: #008000\">│</span>\n",
       "<span style=\"color: #008000; text-decoration-color: #008000\">│</span>   • Create sheet: <span style=\"color: #008080; text-decoration-color: #008080\">.create_sheet(title)</span>                      <span style=\"color: #008000; text-decoration-color: #008000\">│</span>\n",
       "<span style=\"color: #008000; text-decoration-color: #008000\">│</span>                                                             <span style=\"color: #008000; text-decoration-color: #008000\">│</span>\n",
       "<span style=\"color: #008000; text-decoration-color: #008000\">│</span> <span style=\"color: #7f7f7f; text-decoration-color: #7f7f7f\">Access via: client.platforms.google_org.gsheets</span>             <span style=\"color: #008000; text-decoration-color: #008000\">│</span>\n",
       "<span style=\"color: #008000; text-decoration-color: #008000\">╰─────────────────────────────────────────────────────────────╯</span>\n",
       "</pre>\n"
      ],
      "text/plain": [
       "\u001b[32m╭─────────────────────────────────────────────────────────────╮\u001b[0m\n",
       "\u001b[32m│\u001b[0m \u001b[1;32m✓ gsheets transport is already initialized!\u001b[0m                 \u001b[32m│\u001b[0m\n",
       "\u001b[32m│\u001b[0m                                                             \u001b[32m│\u001b[0m\n",
       "\u001b[32m│\u001b[0m No action needed - this transport is ready to use.          \u001b[32m│\u001b[0m\n",
       "\u001b[32m│\u001b[0m                                                             \u001b[32m│\u001b[0m\n",
       "\u001b[32m│\u001b[0m \u001b[1mAvailable methods:\u001b[0m                                          \u001b[32m│\u001b[0m\n",
       "\u001b[32m│\u001b[0m   • Read sheet: \u001b[36m.read_sheet(spreadsheet_id, range)\u001b[0m          \u001b[32m│\u001b[0m\n",
       "\u001b[32m│\u001b[0m   • Write data: \u001b[36m.write_sheet(spreadsheet_id, range, values)\u001b[0m \u001b[32m│\u001b[0m\n",
       "\u001b[32m│\u001b[0m   • Create sheet: \u001b[36m.create_sheet(title)\u001b[0m                      \u001b[32m│\u001b[0m\n",
       "\u001b[32m│\u001b[0m                                                             \u001b[32m│\u001b[0m\n",
       "\u001b[32m│\u001b[0m \u001b[2mAccess via: client.platforms.google_org.gsheets\u001b[0m             \u001b[32m│\u001b[0m\n",
       "\u001b[32m╰─────────────────────────────────────────────────────────────╯\u001b[0m\n"
      ]
     },
     "metadata": {},
     "output_type": "display_data"
    },
    {
     "data": {
      "text/plain": [
       "True"
      ]
     },
     "execution_count": 40,
     "metadata": {},
     "output_type": "execute_result"
    }
   ],
   "source": [
    "# ensure calling init() a second time fails gracefully\n",
    "client.platforms.google_org.gsheets.init()"
   ]
  },
  {
   "cell_type": "code",
   "execution_count": 41,
   "id": "382db145-dd02-46b3-af09-c4704d3d5474",
   "metadata": {},
   "outputs": [
    {
     "data": {
      "text/html": [
       "<pre style=\"white-space:pre;overflow-x:auto;line-height:normal;font-family:Menlo,'DejaVu Sans Mono',consolas,'Courier New',monospace\">╭──────── SyftClient.email = 'andrew@openmined.org' ────────╮\n",
       "│                                                           │\n",
       "│  <span style=\"color: #7f7f7f; text-decoration-color: #7f7f7f\">.folder</span> = /Users/atrask/SyftBox/andrew_at_openmined_org  │\n",
       "│                                                           │\n",
       "│  <span style=\"color: #7f7f7f; text-decoration-color: #7f7f7f\">.platforms</span>                                               │\n",
       "│    <span style=\"color: #808000; text-decoration-color: #808000; font-weight: bold\">.google_org</span> <span style=\"color: #7f7f7f; text-decoration-color: #7f7f7f\">(project: psychic-surf-472920-j9)</span>          │\n",
       "│      <span style=\"color: #008000; text-decoration-color: #008000\">✓</span> <span style=\"color: #008000; text-decoration-color: #008000\">✓</span> <span style=\"color: #008000; text-decoration-color: #008000\">.gmail</span>                                           │\n",
       "│      <span style=\"color: #008000; text-decoration-color: #008000\">✓</span> <span style=\"color: #008000; text-decoration-color: #008000\">✓</span> <span style=\"color: #008000; text-decoration-color: #008000\">.gdrive_files</span>                                    │\n",
       "│      <span style=\"color: #008000; text-decoration-color: #008000\">✓</span> <span style=\"color: #008000; text-decoration-color: #008000\">✓</span> <span style=\"color: #008000; text-decoration-color: #008000\">.gsheets</span>                                         │\n",
       "│      <span style=\"color: #008000; text-decoration-color: #008000\">✓</span> <span style=\"color: #7f7f7f; text-decoration-color: #7f7f7f\">✗</span> <span style=\"color: #008000; text-decoration-color: #008000\">.gforms</span> <span style=\"color: #7f7f7f; text-decoration-color: #7f7f7f\">(call .init() to initialize)</span>             │\n",
       "│                                                           │\n",
       "╰───────────────────────────────────────────────────────────╯\n",
       "</pre>\n"
      ],
      "text/plain": [
       "╭──────── SyftClient.email = 'andrew@openmined.org' ────────╮\n",
       "│                                                           │\n",
       "│  \u001b[2m.folder\u001b[0m = /Users/atrask/SyftBox/andrew_at_openmined_org  │\n",
       "│                                                           │\n",
       "│  \u001b[2m.platforms\u001b[0m                                               │\n",
       "│    \u001b[1;33m.google_org\u001b[0m \u001b[2m(project: psychic-surf-472920-j9)\u001b[0m          │\n",
       "│      \u001b[32m✓\u001b[0m \u001b[32m✓\u001b[0m \u001b[32m.gmail\u001b[0m                                           │\n",
       "│      \u001b[32m✓\u001b[0m \u001b[32m✓\u001b[0m \u001b[32m.gdrive_files\u001b[0m                                    │\n",
       "│      \u001b[32m✓\u001b[0m \u001b[32m✓\u001b[0m \u001b[32m.gsheets\u001b[0m                                         │\n",
       "│      \u001b[32m✓\u001b[0m \u001b[2m✗\u001b[0m \u001b[32m.gforms\u001b[0m \u001b[2m(call .init() to initialize)\u001b[0m             │\n",
       "│                                                           │\n",
       "╰───────────────────────────────────────────────────────────╯\n"
      ]
     },
     "metadata": {},
     "output_type": "display_data"
    },
    {
     "data": {
      "text/plain": []
     },
     "execution_count": 41,
     "metadata": {},
     "output_type": "execute_result"
    }
   ],
   "source": [
    "client"
   ]
  },
  {
   "cell_type": "code",
   "execution_count": 42,
   "id": "ebceb929-b9b8-46cd-9c0d-da73027b0307",
   "metadata": {},
   "outputs": [
    {
     "ename": "RuntimeError",
     "evalue": "Transport 'gforms' is not initialized. Please call .init() first.",
     "output_type": "error",
     "traceback": [
      "\u001b[31m---------------------------------------------------------------------------\u001b[39m",
      "\u001b[31mRuntimeError\u001b[39m                              Traceback (most recent call last)",
      "\u001b[36mCell\u001b[39m\u001b[36m \u001b[39m\u001b[32mIn[42]\u001b[39m\u001b[32m, line 2\u001b[39m\n\u001b[32m      1\u001b[39m \u001b[38;5;66;03m# make sure the other ones still don't work\u001b[39;00m\n\u001b[32m----> \u001b[39m\u001b[32m2\u001b[39m \u001b[43mclient\u001b[49m\u001b[43m.\u001b[49m\u001b[43mplatforms\u001b[49m\u001b[43m.\u001b[49m\u001b[43mgoogle_org\u001b[49m\u001b[43m.\u001b[49m\u001b[43mgforms\u001b[49m\u001b[43m.\u001b[49m\u001b[43mtest\u001b[49m(\u001b[33m\"\u001b[39m\u001b[33mabc123\u001b[39m\u001b[33m\"\u001b[39m, cleanup=\u001b[38;5;28;01mFalse\u001b[39;00m)\n",
      "\u001b[36mFile \u001b[39m\u001b[32m~/Desktop/Laboratory/syft-client/test_notebooks/../syft_client/platforms/google_org/client.py:350\u001b[39m, in \u001b[36mGoogleOrgClient._create_transport_stubs.<locals>.UninitializedTransport.__getattr__\u001b[39m\u001b[34m(self, name)\u001b[39m\n\u001b[32m    347\u001b[39m         \u001b[38;5;28;01mreturn\u001b[39;00m \u001b[38;5;28;01mNone\u001b[39;00m\n\u001b[32m    349\u001b[39m \u001b[38;5;28;01mif\u001b[39;00m \u001b[38;5;129;01mnot\u001b[39;00m \u001b[38;5;28mself\u001b[39m._setup_called:\n\u001b[32m--> \u001b[39m\u001b[32m350\u001b[39m     \u001b[38;5;28;01mraise\u001b[39;00m \u001b[38;5;167;01mRuntimeError\u001b[39;00m(\u001b[33mf\u001b[39m\u001b[33m\"\u001b[39m\u001b[33mTransport \u001b[39m\u001b[33m'\u001b[39m\u001b[38;5;132;01m{\u001b[39;00m\u001b[38;5;28mself\u001b[39m._transport_name\u001b[38;5;132;01m}\u001b[39;00m\u001b[33m'\u001b[39m\u001b[33m is not initialized. Please call .init() first.\u001b[39m\u001b[33m\"\u001b[39m)\n\u001b[32m    351\u001b[39m \u001b[38;5;28;01mif\u001b[39;00m \u001b[38;5;28mself\u001b[39m._real_transport:\n\u001b[32m    352\u001b[39m     \u001b[38;5;28;01mreturn\u001b[39;00m \u001b[38;5;28mgetattr\u001b[39m(\u001b[38;5;28mself\u001b[39m._real_transport, name)\n",
      "\u001b[31mRuntimeError\u001b[39m: Transport 'gforms' is not initialized. Please call .init() first."
     ]
    }
   ],
   "source": [
    "# make sure the other ones still don't work\n",
    "client.platforms.google_org.gforms.test(\"abc123\", cleanup=False)"
   ]
  },
  {
   "cell_type": "markdown",
   "id": "0f27d0fe-a1aa-4d43-b0d7-c13ef7683ae3",
   "metadata": {},
   "source": [
    "# Test 13: Initialize GForms and test"
   ]
  },
  {
   "cell_type": "code",
   "execution_count": 44,
   "id": "620a1075-c863-4523-a51c-96a5d4c1209f",
   "metadata": {},
   "outputs": [
    {
     "name": "stdout",
     "output_type": "stream",
     "text": [
      "\n",
      "Initializing gforms transport...\n",
      "  • Creating gforms transport instance...\n",
      "  • Setting up with OAuth2 credentials...\n",
      "  ✓ OAuth2 credentials configured\n",
      "\n"
     ]
    },
    {
     "data": {
      "text/html": [
       "<pre style=\"white-space:pre;overflow-x:auto;line-height:normal;font-family:Menlo,'DejaVu Sans Mono',consolas,'Courier New',monospace\"><span style=\"color: #008000; text-decoration-color: #008000\">╭────────────────────────────────────────────────╮</span>\n",
       "<span style=\"color: #008000; text-decoration-color: #008000\">│</span> <span style=\"color: #008000; text-decoration-color: #008000; font-weight: bold\">✓ gforms transport initialized successfully!</span>   <span style=\"color: #008000; text-decoration-color: #008000\">│</span>\n",
       "<span style=\"color: #008000; text-decoration-color: #008000\">│</span>                                                <span style=\"color: #008000; text-decoration-color: #008000\">│</span>\n",
       "<span style=\"color: #008000; text-decoration-color: #008000\">│</span> <span style=\"font-weight: bold\">What you can do now:</span>                           <span style=\"color: #008000; text-decoration-color: #008000\">│</span>\n",
       "<span style=\"color: #008000; text-decoration-color: #008000\">│</span>   • List forms: <span style=\"color: #008080; text-decoration-color: #008080\">.list_forms()</span>                  <span style=\"color: #008000; text-decoration-color: #008000\">│</span>\n",
       "<span style=\"color: #008000; text-decoration-color: #008000\">│</span>   • Get responses: <span style=\"color: #008080; text-decoration-color: #008080\">.get_responses(form_id)</span>     <span style=\"color: #008000; text-decoration-color: #008000\">│</span>\n",
       "<span style=\"color: #008000; text-decoration-color: #008000\">│</span>   • Create form: <span style=\"color: #008080; text-decoration-color: #008080\">.create_form(title)</span>           <span style=\"color: #008000; text-decoration-color: #008000\">│</span>\n",
       "<span style=\"color: #008000; text-decoration-color: #008000\">│</span>                                                <span style=\"color: #008000; text-decoration-color: #008000\">│</span>\n",
       "<span style=\"color: #008000; text-decoration-color: #008000\">│</span> <span style=\"color: #7f7f7f; text-decoration-color: #7f7f7f\">Access via: client.platforms.google_org.gforms</span> <span style=\"color: #008000; text-decoration-color: #008000\">│</span>\n",
       "<span style=\"color: #008000; text-decoration-color: #008000\">╰────────────────────────────────────────────────╯</span>\n",
       "</pre>\n"
      ],
      "text/plain": [
       "\u001b[32m╭────────────────────────────────────────────────╮\u001b[0m\n",
       "\u001b[32m│\u001b[0m \u001b[1;32m✓ gforms transport initialized successfully!\u001b[0m   \u001b[32m│\u001b[0m\n",
       "\u001b[32m│\u001b[0m                                                \u001b[32m│\u001b[0m\n",
       "\u001b[32m│\u001b[0m \u001b[1mWhat you can do now:\u001b[0m                           \u001b[32m│\u001b[0m\n",
       "\u001b[32m│\u001b[0m   • List forms: \u001b[36m.list_forms()\u001b[0m                  \u001b[32m│\u001b[0m\n",
       "\u001b[32m│\u001b[0m   • Get responses: \u001b[36m.get_responses(form_id)\u001b[0m     \u001b[32m│\u001b[0m\n",
       "\u001b[32m│\u001b[0m   • Create form: \u001b[36m.create_form(title)\u001b[0m           \u001b[32m│\u001b[0m\n",
       "\u001b[32m│\u001b[0m                                                \u001b[32m│\u001b[0m\n",
       "\u001b[32m│\u001b[0m \u001b[2mAccess via: client.platforms.google_org.gforms\u001b[0m \u001b[32m│\u001b[0m\n",
       "\u001b[32m╰────────────────────────────────────────────────╯\u001b[0m\n"
      ]
     },
     "metadata": {},
     "output_type": "display_data"
    },
    {
     "data": {
      "text/plain": [
       "True"
      ]
     },
     "execution_count": 44,
     "metadata": {},
     "output_type": "execute_result"
    }
   ],
   "source": [
    "client.platforms.google_org.gforms.init()"
   ]
  },
  {
   "cell_type": "code",
   "execution_count": 45,
   "id": "f8142490-fb94-4257-a36d-61a0d56bdc6c",
   "metadata": {},
   "outputs": [
    {
     "name": "stdout",
     "output_type": "stream",
     "text": [
      "✅ Google Forms test successful! Form created with 3 test questions\n"
     ]
    },
    {
     "data": {
      "text/plain": [
       "{'success': True,\n",
       " 'url': 'https://docs.google.com/forms/d/1Wpxbowd9SS4qyhIYa_DgzbgnZNG8nKw5Y1RcjjeduRk/viewform'}"
      ]
     },
     "execution_count": 45,
     "metadata": {},
     "output_type": "execute_result"
    }
   ],
   "source": [
    "# test that gsheets worksa nd you can see the file\n",
    "client.platforms.google_org.gforms.test(\"abc123\", cleanup=False)"
   ]
  },
  {
   "cell_type": "code",
   "execution_count": 46,
   "id": "d29ec613-ef7a-4718-8ade-9a8c3ad74de8",
   "metadata": {},
   "outputs": [
    {
     "data": {
      "text/html": [
       "<pre style=\"white-space:pre;overflow-x:auto;line-height:normal;font-family:Menlo,'DejaVu Sans Mono',consolas,'Courier New',monospace\"><span style=\"color: #008000; text-decoration-color: #008000\">╭────────────────────────────────────────────────────╮</span>\n",
       "<span style=\"color: #008000; text-decoration-color: #008000\">│</span> <span style=\"color: #008000; text-decoration-color: #008000; font-weight: bold\">✓ gforms transport is already initialized!</span>         <span style=\"color: #008000; text-decoration-color: #008000\">│</span>\n",
       "<span style=\"color: #008000; text-decoration-color: #008000\">│</span>                                                    <span style=\"color: #008000; text-decoration-color: #008000\">│</span>\n",
       "<span style=\"color: #008000; text-decoration-color: #008000\">│</span> No action needed - this transport is ready to use. <span style=\"color: #008000; text-decoration-color: #008000\">│</span>\n",
       "<span style=\"color: #008000; text-decoration-color: #008000\">│</span>                                                    <span style=\"color: #008000; text-decoration-color: #008000\">│</span>\n",
       "<span style=\"color: #008000; text-decoration-color: #008000\">│</span> <span style=\"font-weight: bold\">Available methods:</span>                                 <span style=\"color: #008000; text-decoration-color: #008000\">│</span>\n",
       "<span style=\"color: #008000; text-decoration-color: #008000\">│</span>   • List forms: <span style=\"color: #008080; text-decoration-color: #008080\">.list_forms()</span>                      <span style=\"color: #008000; text-decoration-color: #008000\">│</span>\n",
       "<span style=\"color: #008000; text-decoration-color: #008000\">│</span>   • Get responses: <span style=\"color: #008080; text-decoration-color: #008080\">.get_responses(form_id)</span>         <span style=\"color: #008000; text-decoration-color: #008000\">│</span>\n",
       "<span style=\"color: #008000; text-decoration-color: #008000\">│</span>   • Create form: <span style=\"color: #008080; text-decoration-color: #008080\">.create_form(title)</span>               <span style=\"color: #008000; text-decoration-color: #008000\">│</span>\n",
       "<span style=\"color: #008000; text-decoration-color: #008000\">│</span>                                                    <span style=\"color: #008000; text-decoration-color: #008000\">│</span>\n",
       "<span style=\"color: #008000; text-decoration-color: #008000\">│</span> <span style=\"color: #7f7f7f; text-decoration-color: #7f7f7f\">Access via: client.platforms.google_org.gforms</span>     <span style=\"color: #008000; text-decoration-color: #008000\">│</span>\n",
       "<span style=\"color: #008000; text-decoration-color: #008000\">╰────────────────────────────────────────────────────╯</span>\n",
       "</pre>\n"
      ],
      "text/plain": [
       "\u001b[32m╭────────────────────────────────────────────────────╮\u001b[0m\n",
       "\u001b[32m│\u001b[0m \u001b[1;32m✓ gforms transport is already initialized!\u001b[0m         \u001b[32m│\u001b[0m\n",
       "\u001b[32m│\u001b[0m                                                    \u001b[32m│\u001b[0m\n",
       "\u001b[32m│\u001b[0m No action needed - this transport is ready to use. \u001b[32m│\u001b[0m\n",
       "\u001b[32m│\u001b[0m                                                    \u001b[32m│\u001b[0m\n",
       "\u001b[32m│\u001b[0m \u001b[1mAvailable methods:\u001b[0m                                 \u001b[32m│\u001b[0m\n",
       "\u001b[32m│\u001b[0m   • List forms: \u001b[36m.list_forms()\u001b[0m                      \u001b[32m│\u001b[0m\n",
       "\u001b[32m│\u001b[0m   • Get responses: \u001b[36m.get_responses(form_id)\u001b[0m         \u001b[32m│\u001b[0m\n",
       "\u001b[32m│\u001b[0m   • Create form: \u001b[36m.create_form(title)\u001b[0m               \u001b[32m│\u001b[0m\n",
       "\u001b[32m│\u001b[0m                                                    \u001b[32m│\u001b[0m\n",
       "\u001b[32m│\u001b[0m \u001b[2mAccess via: client.platforms.google_org.gforms\u001b[0m     \u001b[32m│\u001b[0m\n",
       "\u001b[32m╰────────────────────────────────────────────────────╯\u001b[0m\n"
      ]
     },
     "metadata": {},
     "output_type": "display_data"
    },
    {
     "data": {
      "text/plain": [
       "True"
      ]
     },
     "execution_count": 46,
     "metadata": {},
     "output_type": "execute_result"
    }
   ],
   "source": [
    "# ensure calling init() a second time fails gracefully\n",
    "client.platforms.google_org.gforms.init()"
   ]
  },
  {
   "cell_type": "code",
   "execution_count": 47,
   "id": "d3c59478-5f2e-4f96-b85c-946cb98dd8a4",
   "metadata": {},
   "outputs": [
    {
     "data": {
      "text/html": [
       "<pre style=\"white-space:pre;overflow-x:auto;line-height:normal;font-family:Menlo,'DejaVu Sans Mono',consolas,'Courier New',monospace\">╭──────── SyftClient.email = 'andrew@openmined.org' ────────╮\n",
       "│                                                           │\n",
       "│  <span style=\"color: #7f7f7f; text-decoration-color: #7f7f7f\">.folder</span> = /Users/atrask/SyftBox/andrew_at_openmined_org  │\n",
       "│                                                           │\n",
       "│  <span style=\"color: #7f7f7f; text-decoration-color: #7f7f7f\">.platforms</span>                                               │\n",
       "│    <span style=\"color: #808000; text-decoration-color: #808000; font-weight: bold\">.google_org</span> <span style=\"color: #7f7f7f; text-decoration-color: #7f7f7f\">(project: psychic-surf-472920-j9)</span>          │\n",
       "│      <span style=\"color: #008000; text-decoration-color: #008000\">✓</span> <span style=\"color: #008000; text-decoration-color: #008000\">✓</span> <span style=\"color: #008000; text-decoration-color: #008000\">.gmail</span>                                           │\n",
       "│      <span style=\"color: #008000; text-decoration-color: #008000\">✓</span> <span style=\"color: #008000; text-decoration-color: #008000\">✓</span> <span style=\"color: #008000; text-decoration-color: #008000\">.gdrive_files</span>                                    │\n",
       "│      <span style=\"color: #008000; text-decoration-color: #008000\">✓</span> <span style=\"color: #008000; text-decoration-color: #008000\">✓</span> <span style=\"color: #008000; text-decoration-color: #008000\">.gsheets</span>                                         │\n",
       "│      <span style=\"color: #008000; text-decoration-color: #008000\">✓</span> <span style=\"color: #008000; text-decoration-color: #008000\">✓</span> <span style=\"color: #008000; text-decoration-color: #008000\">.gforms</span>                                          │\n",
       "│                                                           │\n",
       "╰───────────────────────────────────────────────────────────╯\n",
       "</pre>\n"
      ],
      "text/plain": [
       "╭──────── SyftClient.email = 'andrew@openmined.org' ────────╮\n",
       "│                                                           │\n",
       "│  \u001b[2m.folder\u001b[0m = /Users/atrask/SyftBox/andrew_at_openmined_org  │\n",
       "│                                                           │\n",
       "│  \u001b[2m.platforms\u001b[0m                                               │\n",
       "│    \u001b[1;33m.google_org\u001b[0m \u001b[2m(project: psychic-surf-472920-j9)\u001b[0m          │\n",
       "│      \u001b[32m✓\u001b[0m \u001b[32m✓\u001b[0m \u001b[32m.gmail\u001b[0m                                           │\n",
       "│      \u001b[32m✓\u001b[0m \u001b[32m✓\u001b[0m \u001b[32m.gdrive_files\u001b[0m                                    │\n",
       "│      \u001b[32m✓\u001b[0m \u001b[32m✓\u001b[0m \u001b[32m.gsheets\u001b[0m                                         │\n",
       "│      \u001b[32m✓\u001b[0m \u001b[32m✓\u001b[0m \u001b[32m.gforms\u001b[0m                                          │\n",
       "│                                                           │\n",
       "╰───────────────────────────────────────────────────────────╯\n"
      ]
     },
     "metadata": {},
     "output_type": "display_data"
    },
    {
     "data": {
      "text/plain": []
     },
     "execution_count": 47,
     "metadata": {},
     "output_type": "execute_result"
    }
   ],
   "source": [
    "client"
   ]
  },
  {
   "cell_type": "markdown",
   "id": "303b4e39-7d15-4f25-b3f6-1d645ab9dc4f",
   "metadata": {},
   "source": [
    "# Test 14: Reinitialize and test transports aren't there"
   ]
  },
  {
   "cell_type": "code",
   "execution_count": 48,
   "id": "895fe302-76f6-4b5b-89f3-17cf1838901d",
   "metadata": {},
   "outputs": [],
   "source": [
    "client = sc.login(\"andrew@openmined.org\", init_transport=False)"
   ]
  },
  {
   "cell_type": "code",
   "execution_count": 49,
   "id": "9feaa7f7-dbb5-4ad4-94a7-0c66c6593bb0",
   "metadata": {},
   "outputs": [
    {
     "data": {
      "text/html": [
       "<pre style=\"white-space:pre;overflow-x:auto;line-height:normal;font-family:Menlo,'DejaVu Sans Mono',consolas,'Courier New',monospace\">╭──────── SyftClient.email = 'andrew@openmined.org' ────────╮\n",
       "│                                                           │\n",
       "│  <span style=\"color: #7f7f7f; text-decoration-color: #7f7f7f\">.folder</span> = /Users/atrask/SyftBox/andrew_at_openmined_org  │\n",
       "│                                                           │\n",
       "│  <span style=\"color: #7f7f7f; text-decoration-color: #7f7f7f\">.platforms</span>                                               │\n",
       "│    <span style=\"color: #808000; text-decoration-color: #808000; font-weight: bold\">.google_org</span> <span style=\"color: #7f7f7f; text-decoration-color: #7f7f7f\">(project: psychic-surf-472920-j9)</span>          │\n",
       "│      <span style=\"color: #008000; text-decoration-color: #008000\">✓</span> <span style=\"color: #7f7f7f; text-decoration-color: #7f7f7f\">✗</span> <span style=\"color: #008000; text-decoration-color: #008000\">.gmail</span> <span style=\"color: #7f7f7f; text-decoration-color: #7f7f7f\">(call .init() to initialize)</span>              │\n",
       "│      <span style=\"color: #008000; text-decoration-color: #008000\">✓</span> <span style=\"color: #7f7f7f; text-decoration-color: #7f7f7f\">✗</span> <span style=\"color: #008000; text-decoration-color: #008000\">.gdrive_files</span> <span style=\"color: #7f7f7f; text-decoration-color: #7f7f7f\">(call .init() to initialize)</span>       │\n",
       "│      <span style=\"color: #008000; text-decoration-color: #008000\">✓</span> <span style=\"color: #7f7f7f; text-decoration-color: #7f7f7f\">✗</span> <span style=\"color: #008000; text-decoration-color: #008000\">.gsheets</span> <span style=\"color: #7f7f7f; text-decoration-color: #7f7f7f\">(call .init() to initialize)</span>            │\n",
       "│      <span style=\"color: #008000; text-decoration-color: #008000\">✓</span> <span style=\"color: #7f7f7f; text-decoration-color: #7f7f7f\">✗</span> <span style=\"color: #008000; text-decoration-color: #008000\">.gforms</span> <span style=\"color: #7f7f7f; text-decoration-color: #7f7f7f\">(call .init() to initialize)</span>             │\n",
       "│                                                           │\n",
       "╰───────────────────────────────────────────────────────────╯\n",
       "</pre>\n"
      ],
      "text/plain": [
       "╭──────── SyftClient.email = 'andrew@openmined.org' ────────╮\n",
       "│                                                           │\n",
       "│  \u001b[2m.folder\u001b[0m = /Users/atrask/SyftBox/andrew_at_openmined_org  │\n",
       "│                                                           │\n",
       "│  \u001b[2m.platforms\u001b[0m                                               │\n",
       "│    \u001b[1;33m.google_org\u001b[0m \u001b[2m(project: psychic-surf-472920-j9)\u001b[0m          │\n",
       "│      \u001b[32m✓\u001b[0m \u001b[2m✗\u001b[0m \u001b[32m.gmail\u001b[0m \u001b[2m(call .init() to initialize)\u001b[0m              │\n",
       "│      \u001b[32m✓\u001b[0m \u001b[2m✗\u001b[0m \u001b[32m.gdrive_files\u001b[0m \u001b[2m(call .init() to initialize)\u001b[0m       │\n",
       "│      \u001b[32m✓\u001b[0m \u001b[2m✗\u001b[0m \u001b[32m.gsheets\u001b[0m \u001b[2m(call .init() to initialize)\u001b[0m            │\n",
       "│      \u001b[32m✓\u001b[0m \u001b[2m✗\u001b[0m \u001b[32m.gforms\u001b[0m \u001b[2m(call .init() to initialize)\u001b[0m             │\n",
       "│                                                           │\n",
       "╰───────────────────────────────────────────────────────────╯\n"
      ]
     },
     "metadata": {},
     "output_type": "display_data"
    },
    {
     "data": {
      "text/plain": []
     },
     "execution_count": 49,
     "metadata": {},
     "output_type": "execute_result"
    }
   ],
   "source": [
    "client"
   ]
  },
  {
   "cell_type": "code",
   "execution_count": 50,
   "id": "3c53f5fb-7fc5-426b-beee-7267b7d17c34",
   "metadata": {},
   "outputs": [
    {
     "ename": "AttributeError",
     "evalue": "'platforms' object has no attribute 'google_personal'",
     "output_type": "error",
     "traceback": [
      "\u001b[31m---------------------------------------------------------------------------\u001b[39m",
      "\u001b[31mAttributeError\u001b[39m                            Traceback (most recent call last)",
      "\u001b[36mCell\u001b[39m\u001b[36m \u001b[39m\u001b[32mIn[50]\u001b[39m\u001b[32m, line 2\u001b[39m\n\u001b[32m      1\u001b[39m \u001b[38;5;66;03m# test that gsheets worksa nd you can see the file\u001b[39;00m\n\u001b[32m----> \u001b[39m\u001b[32m2\u001b[39m \u001b[43mclient\u001b[49m\u001b[43m.\u001b[49m\u001b[43mplatforms\u001b[49m\u001b[43m.\u001b[49m\u001b[43mgoogle_personal\u001b[49m.gmail.test(\u001b[33m\"\u001b[39m\u001b[33mabc123\u001b[39m\u001b[33m\"\u001b[39m, cleanup=\u001b[38;5;28;01mFalse\u001b[39;00m)\n",
      "\u001b[36mFile \u001b[39m\u001b[32m~/Desktop/Laboratory/syft-client/test_notebooks/../syft_client/syft_client.py:41\u001b[39m, in \u001b[36mSyftClient.platforms.<locals>.PlatformRegistry.__getattr__\u001b[39m\u001b[34m(self, name)\u001b[39m\n\u001b[32m     39\u001b[39m \u001b[38;5;28;01mif\u001b[39;00m name \u001b[38;5;129;01min\u001b[39;00m \u001b[38;5;28mself\u001b[39m._platforms:\n\u001b[32m     40\u001b[39m     \u001b[38;5;28;01mreturn\u001b[39;00m \u001b[38;5;28mself\u001b[39m._platforms[name]\n\u001b[32m---> \u001b[39m\u001b[32m41\u001b[39m \u001b[38;5;28;01mraise\u001b[39;00m \u001b[38;5;167;01mAttributeError\u001b[39;00m(\u001b[33mf\u001b[39m\u001b[33m\"\u001b[39m\u001b[33m'\u001b[39m\u001b[33mplatforms\u001b[39m\u001b[33m'\u001b[39m\u001b[33m object has no attribute \u001b[39m\u001b[33m'\u001b[39m\u001b[38;5;132;01m{\u001b[39;00mname\u001b[38;5;132;01m}\u001b[39;00m\u001b[33m'\u001b[39m\u001b[33m\"\u001b[39m)\n",
      "\u001b[31mAttributeError\u001b[39m: 'platforms' object has no attribute 'google_personal'"
     ]
    }
   ],
   "source": [
    "# test that gsheets worksa nd you can see the file\n",
    "client.platforms.google_personal.gmail.test(\"abc123\", cleanup=False)"
   ]
  },
  {
   "cell_type": "markdown",
   "id": "993d6fdf-7644-4cf7-9799-62051278459f",
   "metadata": {},
   "source": [
    "# Test 15: test init_transport=True"
   ]
  },
  {
   "cell_type": "code",
   "execution_count": 52,
   "id": "1f99298b-66c0-48f3-bb02-136a840a27fd",
   "metadata": {},
   "outputs": [],
   "source": [
    "client = sc.login(\"andrew@openmined.org\")"
   ]
  },
  {
   "cell_type": "code",
   "execution_count": 53,
   "id": "1d0653a6-fe6e-447b-b642-00ffbd03494a",
   "metadata": {},
   "outputs": [
    {
     "data": {
      "text/html": [
       "<pre style=\"white-space:pre;overflow-x:auto;line-height:normal;font-family:Menlo,'DejaVu Sans Mono',consolas,'Courier New',monospace\">╭──────── SyftClient.email = 'andrew@openmined.org' ────────╮\n",
       "│                                                           │\n",
       "│  <span style=\"color: #7f7f7f; text-decoration-color: #7f7f7f\">.folder</span> = /Users/atrask/SyftBox/andrew_at_openmined_org  │\n",
       "│                                                           │\n",
       "│  <span style=\"color: #7f7f7f; text-decoration-color: #7f7f7f\">.platforms</span>                                               │\n",
       "│    <span style=\"color: #808000; text-decoration-color: #808000; font-weight: bold\">.google_org</span> <span style=\"color: #7f7f7f; text-decoration-color: #7f7f7f\">(project: psychic-surf-472920-j9)</span>          │\n",
       "│      <span style=\"color: #008000; text-decoration-color: #008000\">✓</span> <span style=\"color: #008000; text-decoration-color: #008000\">✓</span> <span style=\"color: #008000; text-decoration-color: #008000\">.gmail</span>                                           │\n",
       "│      <span style=\"color: #008000; text-decoration-color: #008000\">✓</span> <span style=\"color: #008000; text-decoration-color: #008000\">✓</span> <span style=\"color: #008000; text-decoration-color: #008000\">.gdrive_files</span>                                    │\n",
       "│      <span style=\"color: #008000; text-decoration-color: #008000\">✓</span> <span style=\"color: #008000; text-decoration-color: #008000\">✓</span> <span style=\"color: #008000; text-decoration-color: #008000\">.gsheets</span>                                         │\n",
       "│      <span style=\"color: #008000; text-decoration-color: #008000\">✓</span> <span style=\"color: #008000; text-decoration-color: #008000\">✓</span> <span style=\"color: #008000; text-decoration-color: #008000\">.gforms</span>                                          │\n",
       "│                                                           │\n",
       "╰───────────────────────────────────────────────────────────╯\n",
       "</pre>\n"
      ],
      "text/plain": [
       "╭──────── SyftClient.email = 'andrew@openmined.org' ────────╮\n",
       "│                                                           │\n",
       "│  \u001b[2m.folder\u001b[0m = /Users/atrask/SyftBox/andrew_at_openmined_org  │\n",
       "│                                                           │\n",
       "│  \u001b[2m.platforms\u001b[0m                                               │\n",
       "│    \u001b[1;33m.google_org\u001b[0m \u001b[2m(project: psychic-surf-472920-j9)\u001b[0m          │\n",
       "│      \u001b[32m✓\u001b[0m \u001b[32m✓\u001b[0m \u001b[32m.gmail\u001b[0m                                           │\n",
       "│      \u001b[32m✓\u001b[0m \u001b[32m✓\u001b[0m \u001b[32m.gdrive_files\u001b[0m                                    │\n",
       "│      \u001b[32m✓\u001b[0m \u001b[32m✓\u001b[0m \u001b[32m.gsheets\u001b[0m                                         │\n",
       "│      \u001b[32m✓\u001b[0m \u001b[32m✓\u001b[0m \u001b[32m.gforms\u001b[0m                                          │\n",
       "│                                                           │\n",
       "╰───────────────────────────────────────────────────────────╯\n"
      ]
     },
     "metadata": {},
     "output_type": "display_data"
    },
    {
     "data": {
      "text/plain": []
     },
     "execution_count": 53,
     "metadata": {},
     "output_type": "execute_result"
    }
   ],
   "source": [
    "client"
   ]
  },
  {
   "cell_type": "code",
   "execution_count": 54,
   "id": "3cf6e598-9b6f-454d-8d51-d6211fc4b8e7",
   "metadata": {},
   "outputs": [
    {
     "name": "stdout",
     "output_type": "stream",
     "text": [
      "✅ Gmail test successful! Email sent to andrew@openmined.org\n"
     ]
    },
    {
     "data": {
      "text/plain": [
       "{'success': True,\n",
       " 'url': 'https://mail.google.com/mail/?authuser=andrew%40openmined.org#search/from%3Aandrew%40openmined.org%20subject%3A%22Test%20Email%20-%20abc123%22'}"
      ]
     },
     "execution_count": 54,
     "metadata": {},
     "output_type": "execute_result"
    }
   ],
   "source": [
    "# test that gsheets worksa nd you can see the file\n",
    "client.platforms.google_org.gmail.test(\"abc123\", cleanup=False)"
   ]
  },
  {
   "cell_type": "code",
   "execution_count": 57,
   "id": "51119675-3f30-4dbb-a77b-a380b9aeae62",
   "metadata": {},
   "outputs": [
    {
     "name": "stdout",
     "output_type": "stream",
     "text": [
      "✅ Google Drive test successful! File created in SyftClient\n"
     ]
    },
    {
     "data": {
      "text/plain": [
       "{'success': True,\n",
       " 'url': 'https://drive.google.com/file/d/1-avKr6vfhX3eWpSDGHdfL0kGfM-eWxs0/view?usp=drivesdk'}"
      ]
     },
     "execution_count": 57,
     "metadata": {},
     "output_type": "execute_result"
    }
   ],
   "source": [
    "# test that gsheets worksa nd you can see the file\n",
    "client.platforms.google_org.gdrive_files.test(\"abc123\", cleanup=False)"
   ]
  },
  {
   "cell_type": "code",
   "execution_count": 58,
   "id": "ecc136bc-50bf-4d76-bcdb-d6a6d6195cfa",
   "metadata": {},
   "outputs": [
    {
     "name": "stdout",
     "output_type": "stream",
     "text": [
      "✅ Google Sheets test successful! Spreadsheet created with test data\n"
     ]
    },
    {
     "data": {
      "text/plain": [
       "{'success': True,\n",
       " 'url': 'https://docs.google.com/spreadsheets/d/1Dw_qz3y4n6aoT0Y-R5Vv4R1SuR56uPqsQRIFLvcZRY0/edit?ouid=117176484630596301481'}"
      ]
     },
     "execution_count": 58,
     "metadata": {},
     "output_type": "execute_result"
    }
   ],
   "source": [
    "# test that gsheets worksa nd you can see the file\n",
    "client.platforms.google_org.gsheets.test(\"abc123\", cleanup=False)"
   ]
  },
  {
   "cell_type": "code",
   "execution_count": 59,
   "id": "2ad80e85-1d4a-440f-8485-ca0f5c066d86",
   "metadata": {},
   "outputs": [
    {
     "name": "stdout",
     "output_type": "stream",
     "text": [
      "✅ Google Forms test successful! Form created with 3 test questions\n"
     ]
    },
    {
     "data": {
      "text/plain": [
       "{'success': True,\n",
       " 'url': 'https://docs.google.com/forms/d/1ZMeeR0Gh41HC-naE7srjDZdmcZHmxkOXo8aI9QliHvI/viewform'}"
      ]
     },
     "execution_count": 59,
     "metadata": {},
     "output_type": "execute_result"
    }
   ],
   "source": [
    "# test that gsheets worksa nd you can see the file\n",
    "client.platforms.google_org.gforms.test(\"abc123\", cleanup=False)"
   ]
  },
  {
   "cell_type": "code",
   "execution_count": null,
   "id": "df515abd-eb9d-4156-830a-afecffb023d9",
   "metadata": {},
   "outputs": [],
   "source": []
  }
 ],
 "metadata": {
  "kernelspec": {
   "display_name": "Python 3 (ipykernel)",
   "language": "python",
   "name": "python3"
  },
  "language_info": {
   "codemirror_mode": {
    "name": "ipython",
    "version": 3
   },
   "file_extension": ".py",
   "mimetype": "text/x-python",
   "name": "python",
   "nbconvert_exporter": "python",
   "pygments_lexer": "ipython3",
   "version": "3.12.9"
  }
 },
 "nbformat": 4,
 "nbformat_minor": 5
}
