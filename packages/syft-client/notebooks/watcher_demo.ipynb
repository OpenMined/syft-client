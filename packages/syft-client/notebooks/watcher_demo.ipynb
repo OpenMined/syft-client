{
 "cells": [
  {
   "cell_type": "markdown",
   "metadata": {},
   "source": [
    "# File Watcher Demo\n",
    "\n",
    "This notebook demonstrates how to use the syft-client file watcher for automatic synchronization."
   ]
  },
  {
   "cell_type": "markdown",
   "metadata": {},
   "source": [
    "## Setup\n",
    "\n",
    "First, let's import and login to syft-client:"
   ]
  },
  {
   "cell_type": "code",
   "execution_count": null,
   "metadata": {},
   "outputs": [],
   "source": [
    "import syft_client as sc\n",
    "\n",
    "# Login with your email\n",
    "client = sc.login(\"your_email@gmail.com\")"
   ]
  },
  {
   "cell_type": "markdown",
   "metadata": {},
   "source": [
    "## Starting the Watcher\n",
    "\n",
    "The watcher monitors your SyftBox directory for changes and automatically syncs them with your peers:"
   ]
  },
  {
   "cell_type": "code",
   "execution_count": null,
   "metadata": {},
   "outputs": [],
   "source": [
    "# Start the watcher (runs as a persistent server process)\n",
    "client.start_watcher()"
   ]
  },
  {
   "cell_type": "markdown",
   "metadata": {},
   "source": [
    "## Check Watcher Status\n",
    "\n",
    "You can check if the watcher is running and get its status:"
   ]
  },
  {
   "cell_type": "code",
   "execution_count": null,
   "metadata": {},
   "outputs": [],
   "source": [
    "# Check if watcher is running\n",
    "client.watcher.is_running()"
   ]
  },
  {
   "cell_type": "code",
   "execution_count": null,
   "metadata": {},
   "outputs": [],
   "source": [
    "# Get detailed status\n",
    "client.watcher.status()"
   ]
  },
  {
   "cell_type": "markdown",
   "metadata": {},
   "source": [
    "## How It Works\n",
    "\n",
    "1. **File Monitoring**: The watcher monitors `~/SyftBox/datasites/{your_email}/` for changes\n",
    "2. **Automatic Sending**: When files are created or modified, they're automatically sent to all peers\n",
    "3. **Bidirectional Sync**: The watcher also polls your inbox for messages from peers\n",
    "4. **Echo Prevention**: Smart detection prevents sync loops between peers\n",
    "5. **Persistent Process**: The watcher runs as a separate process that survives Python restarts"
   ]
  },
  {
   "cell_type": "markdown",
   "metadata": {},
   "source": [
    "## Test the Watcher\n",
    "\n",
    "Try creating a file in your SyftBox directory and watch it sync automatically:"
   ]
  },
  {
   "cell_type": "code",
   "execution_count": null,
   "metadata": {},
   "outputs": [],
   "source": [
    "from pathlib import Path\n",
    "import datetime\n",
    "\n",
    "# Get your SyftBox directory\n",
    "syftbox_dir = Path.home() / \"SyftBox\" / \"datasites\" / client.email\n",
    "syftbox_dir.mkdir(parents=True, exist_ok=True)\n",
    "\n",
    "# Create a test file\n",
    "test_file = syftbox_dir / f\"test_{datetime.datetime.now().strftime('%Y%m%d_%H%M%S')}.txt\"\n",
    "test_file.write_text(f\"Hello from the watcher!\\nCreated at {datetime.datetime.now()}\")\n",
    "\n",
    "print(f\"Created test file: {test_file}\")\n",
    "print(\"\\nThe watcher should automatically send this to your peers!\")"
   ]
  },
  {
   "cell_type": "markdown",
   "metadata": {},
   "source": [
    "## View Sync History\n",
    "\n",
    "You can check the sync history for any file:"
   ]
  },
  {
   "cell_type": "code",
   "execution_count": null,
   "metadata": {},
   "outputs": [],
   "source": [
    "# Get sync history for a file\n",
    "history = client.watcher.get_history(str(test_file), limit=5)\n",
    "if history:\n",
    "    for record in history:\n",
    "        print(f\"- {record['direction']} to/from {record['peer']} via {record['transport']} at {record['timestamp']}\")\n",
    "else:\n",
    "    print(\"No sync history yet (file might still be processing)\")"
   ]
  },
  {
   "cell_type": "markdown",
   "metadata": {},
   "source": [
    "## List All Active Watchers\n",
    "\n",
    "See all watchers running on your system:"
   ]
  },
  {
   "cell_type": "code",
   "execution_count": null,
   "metadata": {},
   "outputs": [],
   "source": [
    "# List all active watchers\n",
    "watchers = client.watcher.list_all()\n",
    "for w in watchers:\n",
    "    print(f\"- {w['email']} at {w['server_url']}\")"
   ]
  },
  {
   "cell_type": "markdown",
   "metadata": {},
   "source": [
    "## Stopping the Watcher\n",
    "\n",
    "When you're done, stop the watcher:"
   ]
  },
  {
   "cell_type": "code",
   "execution_count": null,
   "metadata": {},
   "outputs": [],
   "source": [
    "# Stop the watcher\n",
    "client.watcher.stop()"
   ]
  },
  {
   "cell_type": "markdown",
   "metadata": {},
   "source": [
    "## Advanced: Environment Variables\n",
    "\n",
    "You can configure the watcher behavior with environment variables:\n",
    "\n",
    "- `SYFT_SYNC_ECHO_THRESHOLD`: Seconds to wait before considering a file change as new (default: 60)\n",
    "- `SYFT_INBOX_POLL_INTERVAL`: Seconds between inbox checks (default: 30)"
   ]
  },
  {
   "cell_type": "code",
   "execution_count": null,
   "metadata": {},
   "outputs": [],
   "source": [
    "import os\n",
    "\n",
    "# Set custom echo threshold (5 seconds for testing)\n",
    "os.environ['SYFT_SYNC_ECHO_THRESHOLD'] = '5'\n",
    "\n",
    "# Set faster inbox polling (10 seconds)\n",
    "os.environ['SYFT_INBOX_POLL_INTERVAL'] = '10'\n",
    "\n",
    "# Start watcher with custom settings\n",
    "client.start_watcher()"
   ]
  },
  {
   "cell_type": "markdown",
   "metadata": {},
   "source": [
    "## Notes\n",
    "\n",
    "- The watcher runs as a separate syft-serve process\n",
    "- It continues running even after you close this notebook\n",
    "- Only one watcher can run per email at a time\n",
    "- The watcher automatically skips hidden files and temporary files\n",
    "- Echo prevention ensures files don't sync back and forth infinitely"
   ]
  }
 ],
 "metadata": {
  "kernelspec": {
   "display_name": "Python 3",
   "language": "python",
   "name": "python3"
  },
  "language_info": {
   "codemirror_mode": {
    "name": "ipython",
    "version": 3
   },
   "file_extension": ".py",
   "mimetype": "text/x-python",
   "name": "python",
   "nbconvert_exporter": "python",
   "pygments_lexer": "ipython3",
   "version": "3.9.0"
  }
 },
 "nbformat": 4,
 "nbformat_minor": 4
}