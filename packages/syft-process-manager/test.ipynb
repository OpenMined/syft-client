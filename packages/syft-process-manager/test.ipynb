{
 "cells": [
  {
   "cell_type": "code",
   "execution_count": 1,
   "id": "f7106a92-974f-4a18-a9cb-ac74ecd9b319",
   "metadata": {},
   "outputs": [],
   "source": [
    "from syft_process_manager.process_manager import ProcessManager\n",
    "from syft_process_manager.config import ProcessManagerConfig\n",
    "from syft_process_manager.managed_process.launcher import launch_function"
   ]
  },
  {
   "cell_type": "code",
   "execution_count": 2,
   "id": "2f0735b1-5638-4cf4-a34c-f6d01f8386d8",
   "metadata": {},
   "outputs": [
    {
     "data": {
      "text/plain": [
       "[]"
      ]
     },
     "execution_count": 2,
     "metadata": {},
     "output_type": "execute_result"
    }
   ],
   "source": [
    "conf = ProcessManagerConfig()\n",
    "pm = ProcessManager.from_config(conf)\n",
    "pm.registry.list()"
   ]
  },
  {
   "cell_type": "code",
   "execution_count": 3,
   "id": "4612d473-e977-4945-8a48-df850afb5f42",
   "metadata": {},
   "outputs": [],
   "source": [
    "def printer(s: str) -> None:\n",
    "    i = 0\n",
    "    while True:\n",
    "        print(f\"{i}: {s}\")\n",
    "        i += 1\n",
    "\n",
    "\n",
    "handle = launch_function(printer, \"test\")"
   ]
  },
  {
   "cell_type": "code",
   "execution_count": 4,
   "id": "bdac1a98-cc4b-43b3-a2c3-697605dfb5c3",
   "metadata": {},
   "outputs": [
    {
     "data": {
      "text/plain": [
       "[ProcessInfo(name='printer_1761060763', pid=6551, cmd=['/Users/eelco/dev/syft-process-manager/.venv/bin/python3', '-m', 'syft_process_manager.managed_process._main'], runner_type='subprocess', created_at=datetime.datetime(2025, 10, 21, 15, 32, 43, 134579, tzinfo=TzInfo(0)), info_path=PosixPath('/Users/eelco/.syft_process_manager/registry/printer_1761060763.json'), process_dir=PosixPath('/Users/eelco/.syft_process_manager/processes/printer_1761060763_d473cfac'))]"
      ]
     },
     "execution_count": 4,
     "metadata": {},
     "output_type": "execute_result"
    }
   ],
   "source": [
    "pm.registry.list()"
   ]
  },
  {
   "cell_type": "code",
   "execution_count": 5,
   "id": "78b88205-1f47-4c5a-a6d7-64a9d6126461",
   "metadata": {},
   "outputs": [
    {
     "data": {
      "text/plain": [
       "<syft_process_manager.handle.ProcessHandle at 0x109b10aa0>"
      ]
     },
     "execution_count": 5,
     "metadata": {},
     "output_type": "execute_result"
    }
   ],
   "source": [
    "handle"
   ]
  },
  {
   "cell_type": "code",
   "execution_count": 15,
   "id": "4a46ba9c-ac75-461d-9183-64ea5f1adbaf",
   "metadata": {},
   "outputs": [],
   "source": [
    "handle.terminate()"
   ]
  },
  {
   "cell_type": "code",
   "execution_count": 17,
   "id": "3303c3fe-da8d-4dfd-80fe-653471b7fb59",
   "metadata": {},
   "outputs": [
    {
     "data": {
      "text/plain": [
       "ProcessInfo(name='printer_1761060763', pid=-1, cmd=['/Users/eelco/dev/syft-process-manager/.venv/bin/python3', '-m', 'syft_process_manager.managed_process._main'], runner_type='subprocess', created_at=datetime.datetime(2025, 10, 21, 15, 32, 43, 134579, tzinfo=datetime.timezone.utc), info_path=PosixPath('/Users/eelco/.syft_process_manager/registry/printer_1761060763.json'), process_dir=PosixPath('/Users/eelco/.syft_process_manager/processes/printer_1761060763_d473cfac'))"
      ]
     },
     "execution_count": 17,
     "metadata": {},
     "output_type": "execute_result"
    }
   ],
   "source": [
    "handle.info"
   ]
  },
  {
   "cell_type": "code",
   "execution_count": null,
   "id": "bf04f204-0e18-44d9-b36d-3f6f46d24ab9",
   "metadata": {},
   "outputs": [],
   "source": []
  }
 ],
 "metadata": {
  "kernelspec": {
   "display_name": "Python 3 (ipykernel)",
   "language": "python",
   "name": "python3"
  },
  "language_info": {
   "codemirror_mode": {
    "name": "ipython",
    "version": 3
   },
   "file_extension": ".py",
   "mimetype": "text/x-python",
   "name": "python",
   "nbconvert_exporter": "python",
   "pygments_lexer": "ipython3",
   "version": "3.12.6"
  }
 },
 "nbformat": 4,
 "nbformat_minor": 5
}
