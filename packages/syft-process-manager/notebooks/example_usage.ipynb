{
 "cells": [
  {
   "cell_type": "code",
   "execution_count": null,
   "id": "0",
   "metadata": {},
   "outputs": [],
   "source": [
    "import syft_process_manager\n",
    "from syft_process_manager import DEFAULT_PROCESS_MANAGER_DIR, ProcessManager, launch"
   ]
  },
  {
   "cell_type": "code",
   "execution_count": null,
   "id": "1",
   "metadata": {},
   "outputs": [],
   "source": [
    "process_manager = ProcessManager()"
   ]
  },
  {
   "cell_type": "code",
   "execution_count": null,
   "id": "2",
   "metadata": {},
   "outputs": [],
   "source": [
    "process_manager.remove_all()"
   ]
  },
  {
   "cell_type": "code",
   "execution_count": null,
   "id": "3",
   "metadata": {},
   "outputs": [],
   "source": [
    "import time\n",
    "\n",
    "def print_forever(msg: str) -> None:\n",
    "    i = 0\n",
    "    while True:\n",
    "        print(f\"{i}: {msg}\", flush=True)\n",
    "        i += 1\n",
    "        time.sleep(1)\n",
    "\n",
    "\n",
    "handle = syft_process_manager.launch(\n",
    "    print_forever,\n",
    "    \"Hello World!\",\n",
    "    name=\"print-forever-2\",\n",
    "    ttl_seconds=8,\n",
    "    log_level=\"DEBUG\",\n",
    "    overwrite=True,\n",
    ")"
   ]
  },
  {
   "cell_type": "code",
   "execution_count": null,
   "id": "4",
   "metadata": {},
   "outputs": [],
   "source": [
    "print(handle.stdout.tail(10))"
   ]
  },
  {
   "cell_type": "code",
   "execution_count": null,
   "id": "5",
   "metadata": {},
   "outputs": [],
   "source": [
    "import psutil\n",
    "\n",
    "psutil.Process(19693)"
   ]
  },
  {
   "cell_type": "code",
   "execution_count": null,
   "id": "6",
   "metadata": {},
   "outputs": [],
   "source": [
    "pid = handle.pid\n",
    "print(\"terminate\", pid)\n",
    "handle.terminate()\n",
    "handle.start()"
   ]
  },
  {
   "cell_type": "code",
   "execution_count": null,
   "id": "7",
   "metadata": {},
   "outputs": [],
   "source": []
  }
 ],
 "metadata": {
  "kernelspec": {
   "display_name": "Python 3 (ipykernel)",
   "language": "python",
   "name": "python3"
  },
  "language_info": {
   "codemirror_mode": {
    "name": "ipython",
    "version": 3
   },
   "file_extension": ".py",
   "mimetype": "text/x-python",
   "name": "python",
   "nbconvert_exporter": "python",
   "pygments_lexer": "ipython3",
   "version": "3.12.6"
  }
 },
 "nbformat": 4,
 "nbformat_minor": 5
}
