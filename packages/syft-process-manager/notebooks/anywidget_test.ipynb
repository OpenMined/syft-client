{
 "cells": [
  {
   "cell_type": "code",
   "execution_count": null,
   "id": "0",
   "metadata": {},
   "outputs": [],
   "source": [
    "import syft_process_manager as syftpm\n"
   ]
  },
  {
   "cell_type": "code",
   "execution_count": null,
   "id": "1",
   "metadata": {},
   "outputs": [],
   "source": [
    "import time\n",
    "import sys\n",
    "\n",
    "def print_forever(msg: str) -> None:\n",
    "    i = 0\n",
    "    while True:\n",
    "        print(f\"{i}: {msg}\", flush=True)\n",
    "        if i % 5 == 0:\n",
    "            print(f\"{i}: {msg}\", file=sys.stderr, flush=True)\n",
    "        i += 1\n",
    "        time.sleep(1)\n",
    "\n",
    "\n",
    "handle = syftpm.run_function(\n",
    "    print_forever,\n",
    "    \"Hello World!\",\n",
    "    name=\"print-forever\",\n",
    "    ttl_seconds=3600,\n",
    "    log_level=\"DEBUG\",\n",
    "    overwrite=True,\n",
    ")"
   ]
  },
  {
   "cell_type": "code",
   "execution_count": null,
   "id": "2",
   "metadata": {},
   "outputs": [],
   "source": [
    "from syft_process_manager.display.widget import ProcessWidget\n",
    "\n",
    "widget = ProcessWidget(handle)\n"
   ]
  },
  {
   "cell_type": "code",
   "execution_count": null,
   "id": "3",
   "metadata": {},
   "outputs": [],
   "source": [
    "widget"
   ]
  },
  {
   "cell_type": "code",
   "execution_count": null,
   "id": "4",
   "metadata": {},
   "outputs": [],
   "source": [
    "handle.terminate()"
   ]
  },
  {
   "cell_type": "code",
   "execution_count": null,
   "id": "5",
   "metadata": {},
   "outputs": [],
   "source": []
  }
 ],
 "metadata": {
  "kernelspec": {
   "display_name": "Python 3 (ipykernel)",
   "language": "python",
   "name": "python3"
  },
  "language_info": {
   "codemirror_mode": {
    "name": "ipython",
    "version": 3
   },
   "file_extension": ".py",
   "mimetype": "text/x-python",
   "name": "python",
   "nbconvert_exporter": "python",
   "pygments_lexer": "ipython3",
   "version": "3.12.6"
  }
 },
 "nbformat": 4,
 "nbformat_minor": 5
}
