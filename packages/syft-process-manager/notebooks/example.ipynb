{
 "cells": [
  {
   "cell_type": "code",
   "execution_count": null,
   "metadata": {
    "id": "_uvtr6BgmNAP"
   },
   "outputs": [],
   "source": [
    "import syft_process_manager as syftpm"
   ]
  },
  {
   "cell_type": "code",
   "execution_count": null,
   "metadata": {
    "colab": {
     "base_uri": "https://localhost:8080/"
    },
    "id": "iXKC4jkKmgKj",
    "outputId": "e1c8807f-e47a-4680-d439-7cca4fdb5e49"
   },
   "outputs": [],
   "source": [
    "# To reset notebook:\n",
    "# syftpm.ProcessManager().remove_all()\n",
    "\n",
    "syftpm.list()"
   ]
  },
  {
   "cell_type": "markdown",
   "metadata": {
    "id": "-7BzVNtQr3_t"
   },
   "source": [
    "## Running a process with syft-process-manager\n",
    "\n",
    "syft-process-manager can run processes in two ways:\n",
    "\n",
    "`syftpm.run` is a low-level interface to run a command `list[str]` as a process. It will inherit the current environment, and we can add any additional env if we want.\n",
    "\n",
    "For example, we can run:"
   ]
  },
  {
   "cell_type": "code",
   "execution_count": null,
   "metadata": {
    "id": "BtN0A2NIsSWK"
   },
   "outputs": [],
   "source": [
    "import sys\n",
    "import syft_process_manager as syftpm\n",
    "\n",
    "code_to_execute = \"\"\"\n",
    "import time\n",
    "import os\n",
    "\n",
    "my_env_var = os.environ[\"MY_ENV_VAR\"]\n",
    "for i in range(10):\n",
    "  print(i, my_env_var, flush=True)\n",
    "  time.sleep(1)\n",
    "\"\"\"\n",
    "\n",
    "# NOTE: we use sys.executable to ensure we're using the same python env\n",
    "handle = syftpm.run(\n",
    "    name=\"simple-printer\",\n",
    "    env={\"MY_ENV_VAR\": \"Hello World!\"},\n",
    "    cmd=[\n",
    "        sys.executable,\n",
    "        \"-c\",\n",
    "        code_to_execute\n",
    "      ]\n",
    ")"
   ]
  },
  {
   "cell_type": "code",
   "execution_count": null,
   "metadata": {
    "colab": {
     "base_uri": "https://localhost:8080/"
    },
    "id": "nvMbVyj8tJRD",
    "outputId": "90c61e12-249a-4a09-8aa6-7539c0155059"
   },
   "outputs": [],
   "source": [
    "# Print info and logs\n",
    "print(handle)\n",
    "print()\n",
    "print(\"stdout logs:\")\n",
    "print(handle.stdout.tail(10))"
   ]
  },
  {
   "cell_type": "code",
   "execution_count": null,
   "metadata": {
    "colab": {
     "base_uri": "https://localhost:8080/"
    },
    "id": "kwH3GlY8uYHk",
    "outputId": "816801fc-cc44-46c2-ec81-c6ed2db06cb8"
   },
   "outputs": [],
   "source": [
    "handle.terminate()\n",
    "print(\"status:\", handle.status)"
   ]
  },
  {
   "cell_type": "markdown",
   "metadata": {
    "id": "3w9KtoZsupGn"
   },
   "source": [
    "## Running a python function\n",
    "\n",
    "Additionally, `syftpm.run_function` can run a python function instead of a command. Internally, it will use exactly the same functions under the hood as `syftpm.run`, and adds some additional features:\n",
    "\n",
    "- It **pickles** your function with [cloudpickle](https://github.com/cloudpipe/cloudpickle) to execute it in a different process\n",
    "- It sets up a simple **logger** with configurable `log_level`, that prints to stdout\n",
    "- It sets up a periodic **health check**, that writes to `handle.config.health_file` every 5 seconds\n",
    "- It has an optional **TTL (Time To Live)**, which limits the lifetime of the process, and automatically kills the process if it runs for longer.\n",
    "\n",
    "Example usage:"
   ]
  },
  {
   "cell_type": "code",
   "execution_count": null,
   "metadata": {
    "id": "iFeQjLIwmiIX"
   },
   "outputs": [],
   "source": [
    "import time\n",
    "\n",
    "def print_forever(msg: str) -> None:\n",
    "    i = 0\n",
    "    while True:\n",
    "        print(f\"{i}: {msg}\", flush=True)\n",
    "        i += 1\n",
    "        time.sleep(1)\n",
    "\n",
    "\n",
    "print_forever_handle = syftpm.run_function(\n",
    "    print_forever,  # Run print_forever\n",
    "    \"Hello World!\", # with this `msg`\n",
    "    name=\"print-forever\",\n",
    "    ttl_seconds=3600, # run for 1 hour\n",
    "    log_level=\"DEBUG\",\n",
    "    overwrite=True, # Stop and remove print-forever if it already exists\n",
    ")"
   ]
  },
  {
   "cell_type": "code",
   "execution_count": null,
   "metadata": {
    "colab": {
     "base_uri": "https://localhost:8080/",
     "height": 392,
     "referenced_widgets": [
      "6da66e9cfae44dcd9d7530f5b15981f5",
      "1bc96e89b4d447f2a0641a3e95037a9b"
     ]
    },
    "id": "P1AOVowe2_v1",
    "outputId": "20c539cb-4fb1-46ec-a9f2-cfcf51ebe2e7"
   },
   "outputs": [],
   "source": [
    "print_forever_handle"
   ]
  },
  {
   "cell_type": "markdown",
   "metadata": {
    "id": "X7ILlhwkwcAK"
   },
   "source": [
    "## Using the ProcessManager\n",
    "\n",
    "Under the hood, all top-level functions use the `ProcessManager`. This class has a few more functions to manage multiple processes at the same time.\n",
    "\n",
    "Note that `ProcessManager` is fully stateless, so there is no need to pass around references of the process manager."
   ]
  },
  {
   "cell_type": "code",
   "execution_count": null,
   "metadata": {
    "colab": {
     "base_uri": "https://localhost:8080/"
    },
    "id": "YpObdn_2nGuZ",
    "outputId": "d7f37373-a33f-442f-ba1e-39f13a49be5d"
   },
   "outputs": [],
   "source": [
    "pm = syftpm.ProcessManager()\n",
    "\n",
    "# Show all processes registered with this process manager. This includes processes that are currently not running.\n",
    "pm.list()"
   ]
  },
  {
   "cell_type": "code",
   "execution_count": null,
   "metadata": {
    "colab": {
     "base_uri": "https://localhost:8080/"
    },
    "id": "kj4gwJR5qFVu",
    "outputId": "2e3e4330-2d45-46b9-a223-4af98c13df16"
   },
   "outputs": [],
   "source": [
    "# Get a process by name\n",
    "simple_printer = pm.get(\"simple-printer\")\n",
    "print(simple_printer)"
   ]
  },
  {
   "cell_type": "code",
   "execution_count": null,
   "metadata": {
    "colab": {
     "base_uri": "https://localhost:8080/"
    },
    "id": "Okrbpg3wqcrl",
    "outputId": "edcf326c-762e-4ecd-bb86-74b73d5ca857"
   },
   "outputs": [],
   "source": [
    "# terminate_all terminates all processes, but the handles will still exist and can be re-started\n",
    "pm.terminate_all()\n",
    "\n",
    "pm.list() # all processes are stopped"
   ]
  },
  {
   "cell_type": "code",
   "execution_count": null,
   "metadata": {
    "colab": {
     "base_uri": "https://localhost:8080/"
    },
    "id": "gqHQbhnnqF90",
    "outputId": "cfa0e782-836f-4f34-ea65-39cbcdd7cbfb"
   },
   "outputs": [],
   "source": [
    "# remove_all terminates all processes, and removes the config and runtime artifacts in process_dir\n",
    "pm.remove_all()\n",
    "\n",
    "pm.list() # all processes are removed"
   ]
  },
  {
   "cell_type": "markdown",
   "metadata": {
    "id": "wDGM-zP9yRkf"
   },
   "source": [
    "## Persistence and internals\n",
    "\n",
    "All state of the process is persisted on disk in a single folder. Let's start a new process and investigate what this looks like"
   ]
  },
  {
   "cell_type": "code",
   "execution_count": null,
   "metadata": {
    "id": "Gct1ljUTrmUx"
   },
   "outputs": [],
   "source": [
    "print_forever_handle = syftpm.run_function(\n",
    "    print_forever,\n",
    "    \"Hello World!\",\n",
    "    name=\"print-forever\",\n",
    "    ttl_seconds=3600,\n",
    "    log_level=\"DEBUG\",\n",
    "    overwrite=True,\n",
    ")"
   ]
  },
  {
   "cell_type": "code",
   "execution_count": null,
   "metadata": {
    "colab": {
     "base_uri": "https://localhost:8080/"
    },
    "id": "AhFHNx22ynK6",
    "outputId": "838b10db-2366-4c96-ae18-b39126ac64bb"
   },
   "outputs": [],
   "source": [
    "import time\n",
    "time.sleep(1) # Wait for first health check\n",
    "\n",
    "process_dir = print_forever_handle.config.process_dir\n",
    "!ls {process_dir}"
   ]
  },
  {
   "cell_type": "markdown",
   "metadata": {
    "id": "BuAGNiw80JPr"
   },
   "source": [
    "The files config, health, process_state, stderr, and stdout are all directly implemented on the handle (e.g. `handle.health` directly reads `health.json`).\n",
    "Out of these variables, everything is always read from disk without caching, except for the static `handle.config`.\n",
    "\n",
    "function.pkl is specific to the `syftpm.run_function` API, it contains our pickled function"
   ]
  },
  {
   "cell_type": "code",
   "execution_count": null,
   "metadata": {
    "colab": {
     "base_uri": "https://localhost:8080/"
    },
    "id": "m9B6q93-yx2m",
    "outputId": "26f39c8b-d12a-4006-aa2d-3e7f0ce9b2ba"
   },
   "outputs": [],
   "source": [
    "# Config holds all static process configuration:\n",
    "print(print_forever_handle.config.model_dump_json(indent=2))"
   ]
  },
  {
   "cell_type": "code",
   "execution_count": null,
   "metadata": {
    "colab": {
     "base_uri": "https://localhost:8080/"
    },
    "id": "-FHkyYebzQez",
    "outputId": "568be362-0de2-457e-fb30-16528a84419c"
   },
   "outputs": [],
   "source": [
    "# Process state holds the runtime information, and will change when the process is restarted\n",
    "print(print_forever_handle.process_state.model_dump_json(indent=2))"
   ]
  },
  {
   "cell_type": "code",
   "execution_count": null,
   "metadata": {
    "colab": {
     "base_uri": "https://localhost:8080/"
    },
    "id": "3Csznvm50CMU",
    "outputId": "c73bf09e-6291-4b59-ff6b-375201d41608"
   },
   "outputs": [],
   "source": [
    "# Health is an optional file implemented by the process, the process can write periodic health checks to this file\n",
    "print(print_forever_handle.health.model_dump_json(indent=2))"
   ]
  },
  {
   "cell_type": "code",
   "execution_count": null,
   "metadata": {
    "colab": {
     "base_uri": "https://localhost:8080/"
    },
    "id": "6VW32lpu0C5U",
    "outputId": "12a6288f-91a3-4557-b5a5-fbf400baab1a"
   },
   "outputs": [],
   "source": [
    "# stdout and stderr both have a LogStream class to easily interface with the log files. For example:\n",
    "print(print_forever_handle.stdout.tail(10))"
   ]
  },
  {
   "cell_type": "code",
   "execution_count": null,
   "metadata": {
    "colab": {
     "base_uri": "https://localhost:8080/",
     "height": 35
    },
    "id": "RmDz02Hb-oFu",
    "outputId": "5f610759-138f-466f-a76a-d51108680670"
   },
   "outputs": [],
   "source": [
    "print_forever_handle.terminate()\n",
    "print_forever_handle.status"
   ]
  }
 ],
 "metadata": {
  "colab": {
   "provenance": []
  },
  "kernelspec": {
   "display_name": "Python 3 (ipykernel)",
   "language": "python",
   "name": "python3"
  },
  "language_info": {
   "codemirror_mode": {
    "name": "ipython",
    "version": 3
   },
   "file_extension": ".py",
   "mimetype": "text/x-python",
   "name": "python",
   "nbconvert_exporter": "python",
   "pygments_lexer": "ipython3",
   "version": "3.12.6"
  }
 },
 "nbformat": 4,
 "nbformat_minor": 4
}
