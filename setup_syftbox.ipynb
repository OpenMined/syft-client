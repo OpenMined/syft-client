{
 "cells": [
  {
   "cell_type": "markdown",
   "metadata": {},
   "source": [
    "# SyftBoxTransportService Setup\n",
    "\n",
    "This notebook helps you set up secure communication channels in Google Drive.\n",
    "\n",
    "**Quick Start:**\n",
    "1. Run all cells below\n",
    "2. The `login()` function will handle authentication automatically\n",
    "3. Change `their_email` to the person you want to communicate with\n",
    "4. Share this notebook with them so they can set up their side\n",
    "\n",
    "**First time setup?**\n",
    "The `login()` function will guide you through creating credentials if needed."
   ]
  },
  {
   "cell_type": "code",
   "execution_count": 1,
   "metadata": {},
   "outputs": [],
   "source": [
    "import syft_client as sc"
   ]
  },
  {
   "cell_type": "code",
   "execution_count": 7,
   "metadata": {},
   "outputs": [
    {
     "name": "stdout",
     "output_type": "stream",
     "text": [
      "❌ No credentials found for andrew@openmined.org\n",
      "Run syft_client.wizard() or print your client object to create credentials\n"
     ]
    },
    {
     "data": {
      "text/html": [
       "\n",
       "    <div id=\"wizard-widget\" style=\"display: flex; height: 600px; font-family: -apple-system, BlinkMacSystemFont, 'Segoe UI', Roboto, sans-serif; background: white; border-radius: 8px; box-shadow: 0 2px 4px rgba(0,0,0,0.1); overflow: hidden;\">\n",
       "        \n",
       "        <!-- Left Pane -->\n",
       "        <div style=\"flex: 1; padding: 40px; background: #f7fafc; display: flex; flex-direction: column; justify-content: space-between; min-width: 400px; height: 600px; box-sizing: border-box;\">\n",
       "            <div>\n",
       "                <h2 style=\"margin: 0 0 10px 0; color: #1a202c; font-size: 28px; font-weight: 600;\">Create Google Drive Credentials</h2>\n",
       "                <div style=\"width: 60px; height: 4px; background: #4285f4; margin-bottom: 30px;\"></div>\n",
       "                \n",
       "                <div style=\"margin-bottom: 30px;\">\n",
       "                    <div style=\"display: inline-block; padding: 6px 12px; background: #e2e8f0; border-radius: 20px; font-size: 14px; color: #4a5568; margin-bottom: 20px;\">\n",
       "                        Step <span id=\"currentNum\">1</span> of 12\n",
       "                    </div>\n",
       "                    \n",
       "                    <p id=\"caption\" style=\"font-size: 20px; line-height: 1.6; color: #2d3748; margin: 0;\">\n",
       "                        Step 1: Go to Google Cloud Console and click \"Select a project\" dropdown at the top of the page.\n",
       "                    </p>\n",
       "                </div>\n",
       "            </div>\n",
       "            \n",
       "            <div style=\"display: flex; gap: 15px;\">\n",
       "                <button onclick=\"goPrev()\" style=\"padding: 12px 24px; background-color: white; color: #4a5568; border: 2px solid #e2e8f0; border-radius: 8px; cursor: pointer; font-size: 16px; font-weight: 500; transition: all 0.2s;\" id=\"prevButton\" onmouseover=\"this.style.backgroundColor='#f7fafc'\" onmouseout=\"this.style.backgroundColor='white'\">\n",
       "                    ← Previous\n",
       "                </button>\n",
       "                <button onclick=\"goNext()\" style=\"padding: 12px 24px; background-color: #4285f4; color: white; border: none; border-radius: 8px; cursor: pointer; font-size: 16px; font-weight: 500; transition: all 0.2s;\" id=\"nextButton\" onmouseover=\"this.style.backgroundColor='#3367d6'\" onmouseout=\"this.style.backgroundColor='#4285f4'\">\n",
       "                    Next →\n",
       "                </button>\n",
       "            </div>\n",
       "        </div>\n",
       "        \n",
       "        <!-- Right Pane -->\n",
       "        <div style=\"flex: 1; padding: 20px; display: flex; align-items: center; justify-content: center; background: white; height: 600px; box-sizing: border-box;\">\n",
       "            <img id=\"wizardImage\" src=\"https://github.com/OpenMined/syft-client/blob/6cdb84c419906fd794c05b47e5cfc421c9bb845b/img/wizard_1.png?raw=true\" style=\"max-width: 100%; max-height: 560px; height: auto; border-radius: 8px; box-shadow: 0 4px 12px rgba(0,0,0,0.1);\">\n",
       "        </div>\n",
       "    </div>\n",
       "    \n",
       "    <script>\n",
       "    (function() {\n",
       "        var urls = [\n",
       "            \"https://github.com/OpenMined/syft-client/blob/6cdb84c419906fd794c05b47e5cfc421c9bb845b/img/wizard_1.png?raw=true\",\n",
       "            \"https://github.com/OpenMined/syft-client/blob/6cdb84c419906fd794c05b47e5cfc421c9bb845b/img/wizard_2.png?raw=true\",\n",
       "            \"https://github.com/OpenMined/syft-client/blob/6cdb84c419906fd794c05b47e5cfc421c9bb845b/img/wizard_3.png?raw=true\",\n",
       "            \"https://github.com/OpenMined/syft-client/blob/6cdb84c419906fd794c05b47e5cfc421c9bb845b/img/wizard_4.png?raw=true\",\n",
       "            \"https://github.com/OpenMined/syft-client/blob/6cdb84c419906fd794c05b47e5cfc421c9bb845b/img/wizard_5.png?raw=true\",\n",
       "            \"https://github.com/OpenMined/syft-client/blob/6cdb84c419906fd794c05b47e5cfc421c9bb845b/img/wizard_6.png?raw=true\",\n",
       "            \"https://github.com/OpenMined/syft-client/blob/6cdb84c419906fd794c05b47e5cfc421c9bb845b/img/wizard_7.png?raw=true\",\n",
       "            \"https://github.com/OpenMined/syft-client/blob/6cdb84c419906fd794c05b47e5cfc421c9bb845b/img/wizard_8.png?raw=true\",\n",
       "            \"https://github.com/OpenMined/syft-client/blob/6cdb84c419906fd794c05b47e5cfc421c9bb845b/img/wizard_9.png?raw=true\",\n",
       "            \"https://github.com/OpenMined/syft-client/blob/6cdb84c419906fd794c05b47e5cfc421c9bb845b/img/wizard_10.png?raw=true\",\n",
       "            \"https://github.com/OpenMined/syft-client/blob/6cdb84c419906fd794c05b47e5cfc421c9bb845b/img/wizard_11.png?raw=true\",\n",
       "            \"https://github.com/OpenMined/syft-client/blob/6cdb84c419906fd794c05b47e5cfc421c9bb845b/img/wizard_12.png?raw=true\"\n",
       "            \n",
       "        ];\n",
       "        \n",
       "        var captions = [\n",
       "            \"You don't have valid credentials! It's time to make some. Go to <a href='https://console.cloud.google.com/projectcreate' target='_blank' rel='noopener noreferrer' style='color: #3182ce;'>Google Cloud Console — Create Project Page</a> and fill out the form.\",\n",
       "            \"When the dropdown appears showing the creation of your new project, wait until the project is formed and click 'SELECT PROJECT'.\",\n",
       "            \"Navigate to <a href='https://console.cloud.google.com/apis/library/drive.googleapis.com' target='_blank' rel='noopener noreferrer' style='color: #3182ce;'>Google Drive API</a> and click 'ENABLE' to enable the Google Drive API for your project.\",\n",
       "            \"Navigate to <a href='https://console.cloud.google.com/auth/overview' target='_blank' rel='noopener noreferrer' style='color: #3182ce;'>OAuth Overview</a> and click 'Get started'.\",\n",
       "            \"Enter app name (anything you like) and user support email (you can use your own email) and click 'Next'.\",\n",
       "            \"Click 'External' so that only you can use the app (and anyone you) and click 'Next'.\",\n",
       "            \"Enter contact information (can be the same email) and click 'Next'.\",\n",
       "            \"Read API services, tick the box, and click 'Continue'.\",\n",
       "            \"Click 'Create'.\",\n",
       "            \"Click 'Create OAuth Client'.\",\n",
       "            \"In the dropdown, select 'Desktop app' and then click 'Create'.\",\n",
       "            \"Click 'Download JSON' and save the file to your computer. Then re-run syft_client.login(your_email@gmail.com, '/path/to/credentials.json')\"\n",
       "        ];\n",
       "        \n",
       "        var idx = 0;\n",
       "        \n",
       "        window.goNext = function() {\n",
       "            if (idx < urls.length - 1) {\n",
       "                idx++;\n",
       "                updateWizard();\n",
       "            }\n",
       "        };\n",
       "        \n",
       "        window.goPrev = function() {\n",
       "            if (idx > 0) {\n",
       "                idx--;\n",
       "                updateWizard();\n",
       "            }\n",
       "        };\n",
       "        \n",
       "        function updateWizard() {\n",
       "            document.getElementById('wizardImage').src = urls[idx];\n",
       "            document.getElementById('currentNum').textContent = idx + 1;\n",
       "            document.getElementById('caption').innerHTML = captions[idx];\n",
       "            document.getElementById('prevButton').disabled = idx === 0;\n",
       "            document.getElementById('nextButton').disabled = idx === urls.length - 1;\n",
       "            var prevBtn = document.getElementById('prevButton');\n",
       "            var nextBtn = document.getElementById('nextButton');\n",
       "            \n",
       "            if (idx === 0) {\n",
       "                prevBtn.style.opacity = '0.5';\n",
       "                prevBtn.style.cursor = 'not-allowed';\n",
       "            } else {\n",
       "                prevBtn.style.opacity = '1';\n",
       "                prevBtn.style.cursor = 'pointer';\n",
       "            }\n",
       "            \n",
       "            if (idx === urls.length - 1) {\n",
       "                nextBtn.style.opacity = '0.5';\n",
       "                nextBtn.style.cursor = 'not-allowed';\n",
       "            } else {\n",
       "                nextBtn.style.opacity = '1';\n",
       "                nextBtn.style.cursor = 'pointer';\n",
       "            }\n",
       "        }\n",
       "        \n",
       "        // Initialize\n",
       "        updateWizard();\n",
       "    })();\n",
       "    </script>\n",
       "    "
      ],
      "text/plain": [
       "<IPython.core.display.HTML object>"
      ]
     },
     "execution_count": 7,
     "metadata": {},
     "output_type": "execute_result"
    }
   ],
   "source": [
    "andrew_client = sc.login(\"andrew@openmined.org\", \"~/Downloads/credentials.json\")\n",
    "andrew_client"
   ]
  },
  {
   "cell_type": "code",
   "execution_count": 5,
   "metadata": {},
   "outputs": [
    {
     "data": {
      "text/html": [
       "\n",
       "        <div style=\"border: 1px solid #ddd; padding: 15px; margin: 10px 0; border-radius: 5px; background-color: #f9f9f9; font-family: -apple-system, BlinkMacSystemFont, 'Segoe UI', Roboto, sans-serif;\">\n",
       "            <h3 style=\"margin-top: 0; color: #333;\">📁 Google Drive Client</h3>\n",
       "            <table style=\"border-collapse: collapse; width: 100%;\">\n",
       "                <tr>\n",
       "                    <td style=\"padding: 5px 10px 5px 0; font-weight: bold; color: #555;\">Email:</td>\n",
       "                    <td style=\"padding: 5px;\">andrew@openmined.org</td>\n",
       "                </tr>\n",
       "                <tr>\n",
       "                    <td style=\"padding: 5px 10px 5px 0; font-weight: bold; color: #555;\">Auth Method:</td>\n",
       "                    <td style=\"padding: 5px;\">wallet</td>\n",
       "                </tr>\n",
       "                <tr>\n",
       "                    <td style=\"padding: 5px 10px 5px 0; font-weight: bold; color: #555;\">SyftBox:</td>\n",
       "                    <td style=\"padding: 5px;\">✅ Created</td>\n",
       "                </tr>\n",
       "        \n",
       "                <tr>\n",
       "                    <td style=\"padding: 5px 10px 5px 0; font-weight: bold; color: #555;\">Drive Folder:</td>\n",
       "                    <td style=\"padding: 5px;\">\n",
       "                        <a href=\"https://drive.google.com/drive/folders/1zlgPLz1FTvF_E9g5mmwBi_I-d_7MYlVZ\" target=\"_blank\" style=\"color: #1a73e8; text-decoration: none;\">\n",
       "                            🔗 Open in Google Drive\n",
       "                        </a>\n",
       "                    </td>\n",
       "                </tr>\n",
       "            \n",
       "                <tr>\n",
       "                    <td style=\"padding: 5px 10px 5px 0; font-weight: bold; color: #555;\">Channels:</td>\n",
       "                    <td style=\"padding: 5px;\">3 active</td>\n",
       "                </tr>\n",
       "            </table>\n",
       "        \n",
       "            <details style=\"margin-top: 10px;\">\n",
       "                <summary style=\"cursor: pointer; color: #1a73e8;\">Show channels</summary>\n",
       "                <ul style=\"margin: 5px 0; padding-left: 20px;\">\n",
       "            <li style='color: #666;'>andrew@openmined.org_outbox</li><li style='color: #666;'>liamtrask@gmail.com</li><li style='color: #666;'>liamtrask@gmail.com_outbox</li>\n",
       "                </ul>\n",
       "            </details>\n",
       "            </div>"
      ],
      "text/plain": [
       "<GDriveUnifiedClient(\n",
       "  email='andrew@openmined.org',\n",
       "  auth_method='wallet',\n",
       "  syftbox=✓ created,\n",
       "  channels=3\n",
       ")>"
      ]
     },
     "execution_count": 5,
     "metadata": {},
     "output_type": "execute_result"
    }
   ],
   "source": [
    "andrew_client"
   ]
  },
  {
   "cell_type": "code",
   "execution_count": 3,
   "metadata": {},
   "outputs": [
    {
     "name": "stdout",
     "output_type": "stream",
     "text": [
      "✅ SyftBoxTransportService has been reset (deleted and recreated)\n"
     ]
    },
    {
     "data": {
      "text/plain": [
       "'1zlgPLz1FTvF_E9g5mmwBi_I-d_7MYlVZ'"
      ]
     },
     "execution_count": 3,
     "metadata": {},
     "output_type": "execute_result"
    }
   ],
   "source": [
    "andrew_client.reset_syftbox()"
   ]
  },
  {
   "cell_type": "code",
   "execution_count": 4,
   "metadata": {},
   "outputs": [
    {
     "data": {
      "text/plain": [
       "['liamtrask@gmail.com']"
      ]
     },
     "execution_count": 4,
     "metadata": {},
     "output_type": "execute_result"
    }
   ],
   "source": [
    "andrew_client.friends"
   ]
  },
  {
   "cell_type": "code",
   "execution_count": 5,
   "metadata": {},
   "outputs": [
    {
     "data": {
      "text/html": [
       "\n",
       "        <div style=\"border: 1px solid #ddd; padding: 15px; margin: 10px 0; border-radius: 5px; background-color: #f9f9f9; font-family: -apple-system, BlinkMacSystemFont, 'Segoe UI', Roboto, sans-serif;\">\n",
       "            <h3 style=\"margin-top: 0; color: #333;\">📁 Google Drive Client</h3>\n",
       "            <table style=\"border-collapse: collapse; width: 100%;\">\n",
       "                <tr>\n",
       "                    <td style=\"padding: 5px 10px 5px 0; font-weight: bold; color: #555;\">Email:</td>\n",
       "                    <td style=\"padding: 5px;\">andrew@openmined.org</td>\n",
       "                </tr>\n",
       "                <tr>\n",
       "                    <td style=\"padding: 5px 10px 5px 0; font-weight: bold; color: #555;\">Auth Method:</td>\n",
       "                    <td style=\"padding: 5px;\">wallet</td>\n",
       "                </tr>\n",
       "                <tr>\n",
       "                    <td style=\"padding: 5px 10px 5px 0; font-weight: bold; color: #555;\">SyftBox:</td>\n",
       "                    <td style=\"padding: 5px;\">✅ Created</td>\n",
       "                </tr>\n",
       "        \n",
       "                <tr>\n",
       "                    <td style=\"padding: 5px 10px 5px 0; font-weight: bold; color: #555;\">Drive Folder:</td>\n",
       "                    <td style=\"padding: 5px;\">\n",
       "                        <a href=\"https://drive.google.com/drive/folders/1zlgPLz1FTvF_E9g5mmwBi_I-d_7MYlVZ\" target=\"_blank\" style=\"color: #1a73e8; text-decoration: none;\">\n",
       "                            🔗 Open in Google Drive\n",
       "                        </a>\n",
       "                    </td>\n",
       "                </tr>\n",
       "            \n",
       "                <tr>\n",
       "                    <td style=\"padding: 5px 10px 5px 0; font-weight: bold; color: #555;\">Channels:</td>\n",
       "                    <td style=\"padding: 5px;\">1 active</td>\n",
       "                </tr>\n",
       "            </table>\n",
       "        \n",
       "            <details style=\"margin-top: 10px;\">\n",
       "                <summary style=\"cursor: pointer; color: #1a73e8;\">Show channels</summary>\n",
       "                <ul style=\"margin: 5px 0; padding-left: 20px;\">\n",
       "            <li style='color: #666;'>andrew@openmined.org_outbox</li>\n",
       "                </ul>\n",
       "            </details>\n",
       "            </div>"
      ],
      "text/plain": [
       "<GDriveUnifiedClient(\n",
       "  email='andrew@openmined.org',\n",
       "  auth_method='wallet',\n",
       "  syftbox=✓ created,\n",
       "  channels=1\n",
       ")>"
      ]
     },
     "execution_count": 5,
     "metadata": {},
     "output_type": "execute_result"
    }
   ],
   "source": [
    "andrew_client"
   ]
  },
  {
   "cell_type": "code",
   "execution_count": 6,
   "metadata": {},
   "outputs": [
    {
     "name": "stdout",
     "output_type": "stream",
     "text": [
      "✅ Added liamtrask@gmail.com as a friend\n"
     ]
    },
    {
     "data": {
      "text/plain": [
       "True"
      ]
     },
     "execution_count": 6,
     "metadata": {},
     "output_type": "execute_result"
    }
   ],
   "source": [
    "andrew_client.add_friend(\"liamtrask@gmail.com\")"
   ]
  },
  {
   "cell_type": "code",
   "execution_count": 7,
   "metadata": {},
   "outputs": [
    {
     "data": {
      "text/plain": [
       "['liamtrask@gmail.com']"
      ]
     },
     "execution_count": 7,
     "metadata": {},
     "output_type": "execute_result"
    }
   ],
   "source": [
    "andrew_client.friends"
   ]
  },
  {
   "cell_type": "code",
   "execution_count": 8,
   "metadata": {},
   "outputs": [
    {
     "name": "stdout",
     "output_type": "stream",
     "text": [
      "✅ Logged in as liamtrask@gmail.com\n"
     ]
    }
   ],
   "source": [
    "liam_client = sc.login(\"liamtrask@gmail.com\", \"credentials_liam.json\", verbose=False)"
   ]
  },
  {
   "cell_type": "code",
   "execution_count": 9,
   "metadata": {},
   "outputs": [
    {
     "data": {
      "text/plain": [
       "['andrew@openmined.org']"
      ]
     },
     "execution_count": 9,
     "metadata": {},
     "output_type": "execute_result"
    }
   ],
   "source": [
    "liam_client.friends"
   ]
  },
  {
   "cell_type": "code",
   "execution_count": 10,
   "metadata": {},
   "outputs": [
    {
     "data": {
      "text/plain": [
       "[]"
      ]
     },
     "execution_count": 10,
     "metadata": {},
     "output_type": "execute_result"
    }
   ],
   "source": [
    "liam_client.friend_requests"
   ]
  },
  {
   "cell_type": "code",
   "execution_count": 11,
   "metadata": {},
   "outputs": [
    {
     "name": "stdout",
     "output_type": "stream",
     "text": [
      "✅ SyftBoxTransportService has been reset (deleted and recreated)\n"
     ]
    },
    {
     "data": {
      "text/plain": [
       "'1p-JorfxchPMYoLK3p83ngSOmuVyPKkdt'"
      ]
     },
     "execution_count": 11,
     "metadata": {},
     "output_type": "execute_result"
    }
   ],
   "source": [
    "liam_client.reset_syftbox()"
   ]
  },
  {
   "cell_type": "code",
   "execution_count": 12,
   "metadata": {},
   "outputs": [
    {
     "data": {
      "text/html": [
       "\n",
       "        <div style=\"border: 1px solid #ddd; padding: 15px; margin: 10px 0; border-radius: 5px; background-color: #f9f9f9; font-family: -apple-system, BlinkMacSystemFont, 'Segoe UI', Roboto, sans-serif;\">\n",
       "            <h3 style=\"margin-top: 0; color: #333;\">📁 Google Drive Client</h3>\n",
       "            <table style=\"border-collapse: collapse; width: 100%;\">\n",
       "                <tr>\n",
       "                    <td style=\"padding: 5px 10px 5px 0; font-weight: bold; color: #555;\">Email:</td>\n",
       "                    <td style=\"padding: 5px;\">liamtrask@gmail.com</td>\n",
       "                </tr>\n",
       "                <tr>\n",
       "                    <td style=\"padding: 5px 10px 5px 0; font-weight: bold; color: #555;\">Auth Method:</td>\n",
       "                    <td style=\"padding: 5px;\">wallet</td>\n",
       "                </tr>\n",
       "                <tr>\n",
       "                    <td style=\"padding: 5px 10px 5px 0; font-weight: bold; color: #555;\">SyftBox:</td>\n",
       "                    <td style=\"padding: 5px;\">✅ Created</td>\n",
       "                </tr>\n",
       "        \n",
       "                <tr>\n",
       "                    <td style=\"padding: 5px 10px 5px 0; font-weight: bold; color: #555;\">Drive Folder:</td>\n",
       "                    <td style=\"padding: 5px;\">\n",
       "                        <a href=\"https://drive.google.com/drive/folders/1p-JorfxchPMYoLK3p83ngSOmuVyPKkdt\" target=\"_blank\" style=\"color: #1a73e8; text-decoration: none;\">\n",
       "                            🔗 Open in Google Drive\n",
       "                        </a>\n",
       "                    </td>\n",
       "                </tr>\n",
       "            \n",
       "                <tr>\n",
       "                    <td style=\"padding: 5px 10px 5px 0; font-weight: bold; color: #555;\">Channels:</td>\n",
       "                    <td style=\"padding: 5px;\">1 active</td>\n",
       "                </tr>\n",
       "            </table>\n",
       "        \n",
       "            <details style=\"margin-top: 10px;\">\n",
       "                <summary style=\"cursor: pointer; color: #1a73e8;\">Show channels</summary>\n",
       "                <ul style=\"margin: 5px 0; padding-left: 20px;\">\n",
       "            <li style='color: #666;'>liamtrask@gmail.com_outbox</li>\n",
       "                </ul>\n",
       "            </details>\n",
       "            </div>"
      ],
      "text/plain": [
       "<GDriveUnifiedClient(\n",
       "  email='liamtrask@gmail.com',\n",
       "  auth_method='wallet',\n",
       "  syftbox=✓ created,\n",
       "  channels=1\n",
       ")>"
      ]
     },
     "execution_count": 12,
     "metadata": {},
     "output_type": "execute_result"
    }
   ],
   "source": [
    "liam_client"
   ]
  },
  {
   "cell_type": "code",
   "execution_count": 13,
   "metadata": {},
   "outputs": [
    {
     "data": {
      "text/plain": [
       "['andrew@openmined.org']"
      ]
     },
     "execution_count": 13,
     "metadata": {},
     "output_type": "execute_result"
    }
   ],
   "source": [
    "liam_client.friend_requests"
   ]
  },
  {
   "cell_type": "code",
   "execution_count": 14,
   "metadata": {},
   "outputs": [
    {
     "data": {
      "text/plain": [
       "[]"
      ]
     },
     "execution_count": 14,
     "metadata": {},
     "output_type": "execute_result"
    }
   ],
   "source": [
    "liam_client.friends"
   ]
  },
  {
   "cell_type": "code",
   "execution_count": 15,
   "metadata": {},
   "outputs": [
    {
     "name": "stdout",
     "output_type": "stream",
     "text": [
      "✅ Added andrew@openmined.org as a friend\n"
     ]
    },
    {
     "data": {
      "text/plain": [
       "True"
      ]
     },
     "execution_count": 15,
     "metadata": {},
     "output_type": "execute_result"
    }
   ],
   "source": [
    "liam_client.add_friend('andrew@openmined.org')"
   ]
  },
  {
   "cell_type": "code",
   "execution_count": 16,
   "metadata": {},
   "outputs": [
    {
     "data": {
      "text/plain": [
       "[]"
      ]
     },
     "execution_count": 16,
     "metadata": {},
     "output_type": "execute_result"
    }
   ],
   "source": [
    "liam_client.friend_requests"
   ]
  },
  {
   "cell_type": "code",
   "execution_count": 17,
   "metadata": {},
   "outputs": [
    {
     "data": {
      "text/plain": [
       "['andrew@openmined.org']"
      ]
     },
     "execution_count": 17,
     "metadata": {},
     "output_type": "execute_result"
    }
   ],
   "source": [
    "liam_client.friends"
   ]
  },
  {
   "cell_type": "code",
   "execution_count": 12,
   "metadata": {},
   "outputs": [
    {
     "name": "stdout",
     "output_type": "stream",
     "text": [
      "✅ SyftBoxTransportService has been reset (deleted and recreated)\n",
      "✅ SyftBoxTransportService has been reset (deleted and recreated)\n"
     ]
    },
    {
     "data": {
      "text/plain": [
       "'1Zyo0JEF4wuGov4ch6Z7FC8V4CyYGtilc'"
      ]
     },
     "execution_count": 12,
     "metadata": {},
     "output_type": "execute_result"
    }
   ],
   "source": [
    "andrew_client.reset_syftbox()\n",
    "liam_client.reset_syftbox()"
   ]
  }
 ],
 "metadata": {
  "kernelspec": {
   "display_name": "Python 3 (ipykernel)",
   "language": "python",
   "name": "python3"
  },
  "language_info": {
   "codemirror_mode": {
    "name": "ipython",
    "version": 3
   },
   "file_extension": ".py",
   "mimetype": "text/x-python",
   "name": "python",
   "nbconvert_exporter": "python",
   "pygments_lexer": "ipython3",
   "version": "3.12.9"
  }
 },
 "nbformat": 4,
 "nbformat_minor": 4
}
